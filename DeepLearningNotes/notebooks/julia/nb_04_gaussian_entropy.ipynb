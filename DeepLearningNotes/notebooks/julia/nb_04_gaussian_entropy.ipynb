{
 "cells": [
  {
   "cell_type": "markdown",
   "metadata": {},
   "source": [
    "## Gaussians and Entropy"
   ]
  },
  {
   "cell_type": "code",
   "execution_count": 1,
   "metadata": {
    "collapsed": false
   },
   "outputs": [
    {
     "data": {
      "image/png": "[encoded data removed]"
     },
     "execution_count": 1,
     "metadata": {},
     "output_type": "execute_result"
    }
   ],
   "source": [
    "# generate 10000 data points from a gaussian distribution\n",
    "using Plots, Random, Distributions, StatsBase\n",
    "using LinearAlgebra, SpecialFunctions\n",
    "σ = 0.25\n",
    "d = Normal(0,σ)\n",
    "x = rand(d, 10000)\n",
    "histogram(x, fmt = :png, legend=:topright, label=\"data\")"
   ]
  },
  {
   "cell_type": "code",
   "execution_count": 2,
   "metadata": {
    "collapsed": false
   },
   "outputs": [
    {
     "data": {
      "text/plain": [
       "10-element Array{Int64,1}:\n",
       "    9\n",
       "   73\n",
       "  451\n",
       " 1515\n",
       " 2947\n",
       " 2836\n",
       " 1580\n",
       "  485\n",
       "   97\n",
       "    7"
      ]
     },
     "execution_count": 2,
     "metadata": {},
     "output_type": "execute_result"
    }
   ],
   "source": [
    "w = fit(Histogram, x).weights"
   ]
  },
  {
   "cell_type": "code",
   "execution_count": 9,
   "metadata": {
    "collapsed": false
   },
   "outputs": [
    {
     "data": {
      "text/plain": [
       "1.67370233528767"
      ]
     },
     "execution_count": 9,
     "metadata": {},
     "output_type": "execute_result"
    }
   ],
   "source": [
    "# compute entropy naively \n",
    "# can because all weights are non-zero\n",
    "- sum( (w ./ sum(w)) .* (log.(w ./ sum(w))) )"
   ]
  },
  {
   "cell_type": "code",
   "execution_count": 4,
   "metadata": {
    "collapsed": false
   },
   "outputs": [
    {
     "data": {
      "text/plain": [
       "H (generic function with 1 method)"
      ]
     },
     "execution_count": 4,
     "metadata": {},
     "output_type": "execute_result"
    }
   ],
   "source": [
    "# closed form expression for entropy in 1D\n",
    "H(σ) = log( 2 * pi * exp(1) * σ^2) / 2.0"
   ]
  },
  {
   "cell_type": "code",
   "execution_count": 5,
   "metadata": {
    "collapsed": false
   },
   "outputs": [
    {
     "data": {
      "text/plain": [
       "0.032644172084782055"
      ]
     },
     "execution_count": 5,
     "metadata": {},
     "output_type": "execute_result"
    }
   ],
   "source": [
    "H(σ)"
   ]
  },
  {
   "cell_type": "code",
   "execution_count": 6,
   "metadata": {
    "collapsed": false
   },
   "outputs": [
    {
     "data": {
      "text/plain": [
       "entropy_ag (generic function with 1 method)"
      ]
     },
     "execution_count": 6,
     "metadata": {},
     "output_type": "execute_result"
    }
   ],
   "source": [
    "# Ahmed and Gokhale estimate of entropy\n",
    "# see: http://www.nowozin.net/sebastian/blog/\n",
    "#       the-entropy-of-a-normal-distribution.html\n",
    "function entropy_ag(X)\n",
    "    # X is a (k,n) matrix, samples in columns\n",
    "    k = size(X,1)\n",
    "    n = size(X,2)\n",
    "    C = zeros(k,k)\n",
    "    for i=1:n\n",
    "        C += X[:,i]*X[:,i]'\n",
    "    end\n",
    "    H = 0.5*k*(1.0 + log(pi)) + 0.5*logdet(C)\n",
    "    for i=1:k\n",
    "        H -= 0.5*digamma(0.5*(n+1-i))\n",
    "    end\n",
    "    H\n",
    "end"
   ]
  },
  {
   "cell_type": "code",
   "execution_count": 7,
   "metadata": {
    "collapsed": false
   },
   "outputs": [
    {
     "data": {
      "text/plain": [
       "0.036757314248802686"
      ]
     },
     "execution_count": 7,
     "metadata": {},
     "output_type": "execute_result"
    }
   ],
   "source": [
    "entropy_ag(x')"
   ]
  },
  {
   "cell_type": "code",
   "execution_count": 10,
   "metadata": {
    "collapsed": false
   },
   "outputs": [
    {
     "data": {
      "image/png": "[encoded data removed]"
     },
     "execution_count": 10,
     "metadata": {},
     "output_type": "execute_result"
    }
   ],
   "source": [
    "# to see how entropy changes with variance\n",
    "plot(H,0,2, fmt = :png, legend=:bottomright, \n",
    "    label=\"entropy\", xlabel=\"variance\")"
   ]
  },
  {
   "cell_type": "markdown",
   "metadata": {},
   "source": [
    "### In more than one dimension"
   ]
  },
  {
   "cell_type": "code",
   "execution_count": 11,
   "metadata": {
    "collapsed": false
   },
   "outputs": [
    {
     "data": {
      "text/plain": [
       "2×2 Array{Float64,2}:\n",
       " 3.84508   0.802175\n",
       " 0.802175  3.97196 "
      ]
     },
     "execution_count": 11,
     "metadata": {},
     "output_type": "execute_result"
    }
   ],
   "source": [
    "# generate a positive definite hermitian matrix\n",
    "n = 2\n",
    "Σ = rand(n,n)\n",
    "Σ = Σ + Σ'\n",
    "Σ = Σ + n * I"
   ]
  },
  {
   "cell_type": "code",
   "execution_count": 12,
   "metadata": {
    "collapsed": false
   },
   "outputs": [
    {
     "data": {
      "text/plain": [
       "ZeroMeanFullNormal(\n",
       "dim: 2\n",
       "μ: [0.0, 0.0]\n",
       "Σ: [3.84508 0.802175; 0.802175 3.97196]\n",
       ")\n"
      ]
     },
     "execution_count": 12,
     "metadata": {},
     "output_type": "execute_result"
    }
   ],
   "source": [
    "d = MvNormal(Σ)"
   ]
  },
  {
   "cell_type": "code",
   "execution_count": 13,
   "metadata": {
    "collapsed": false
   },
   "outputs": [
    {
     "data": {
      "text/plain": [
       "2"
      ]
     },
     "execution_count": 13,
     "metadata": {},
     "output_type": "execute_result"
    }
   ],
   "source": [
    "length(d)"
   ]
  },
  {
   "cell_type": "code",
   "execution_count": 14,
   "metadata": {
    "collapsed": false
   },
   "outputs": [
    {
     "data": {
      "text/plain": [
       "2-element Array{Float64,1}:\n",
       " 0.0\n",
       " 0.0"
      ]
     },
     "execution_count": 14,
     "metadata": {},
     "output_type": "execute_result"
    }
   ],
   "source": [
    "mean(d)"
   ]
  },
  {
   "cell_type": "code",
   "execution_count": 15,
   "metadata": {
    "collapsed": false
   },
   "outputs": [
    {
     "data": {
      "text/plain": [
       "2×2 Array{Float64,2}:\n",
       " 3.84508   0.802175\n",
       " 0.802175  3.97196 "
      ]
     },
     "execution_count": 15,
     "metadata": {},
     "output_type": "execute_result"
    }
   ],
   "source": [
    "cov(d)"
   ]
  },
  {
   "cell_type": "code",
   "execution_count": 16,
   "metadata": {
    "collapsed": false
   },
   "outputs": [
    {
     "data": {
      "text/plain": [
       "4.179381175069598"
      ]
     },
     "execution_count": 16,
     "metadata": {},
     "output_type": "execute_result"
    }
   ],
   "source": [
    "# MvNormal's built in estimate of entropy\n",
    "entropy(d)"
   ]
  },
  {
   "cell_type": "code",
   "execution_count": 17,
   "metadata": {
    "collapsed": false
   },
   "outputs": [
    {
     "data": {
      "text/plain": [
       "4.187548414056548"
      ]
     },
     "execution_count": 17,
     "metadata": {},
     "output_type": "execute_result"
    }
   ],
   "source": [
    "# test the Ahmed and Gokhale estimate\n",
    "x = rand(d, 10000)\n",
    "entropy_ag(x)"
   ]
  },
  {
   "cell_type": "code",
   "execution_count": 18,
   "metadata": {
    "collapsed": false
   },
   "outputs": [
    {
     "data": {
      "text/plain": [
       "4.179381175069598"
      ]
     },
     "execution_count": 18,
     "metadata": {},
     "output_type": "execute_result"
    }
   ],
   "source": [
    "# closed form expression\n",
    "log( (2 * pi * exp(1))^length(d) * det(cov(d)) ) / 2.0"
   ]
  },
  {
   "cell_type": "code",
   "execution_count": 38,
   "metadata": {
    "collapsed": false
   },
   "outputs": [
    {
     "data": {
      "text/plain": [
       "entropy_naive (generic function with 2 methods)"
      ]
     },
     "execution_count": 38,
     "metadata": {},
     "output_type": "execute_result"
    }
   ],
   "source": [
    "# A naive estimate of entropy \n",
    "# in more than one dimension\n",
    "function entropy_naive(X,bins=10)\n",
    "    eps = 0.0000001\n",
    "    (d,n) = size(X)\n",
    "    (dim= d, length= n)\n",
    "    counts = reshape(zeros(Int16, bins^d),\n",
    "        Tuple([bins for i in 1:d]))\n",
    "    min = minimum(x)\n",
    "    max = maximum(x) + eps\n",
    "    step = (max-min)/(bins)\n",
    "    for i=1:n\n",
    "        ind = [Int16(floor((x[j,i]-min)/step))+1 \n",
    "            for j in 1:d]\n",
    "        counts[Tuple(ind)...]+=1\n",
    "    end\n",
    "    c = counts[counts .> 0]\n",
    "    ent = -sum( (c ./ sum(c)) .* (log.(c ./ sum(c))) )\n",
    "    return (entropy = ent, histogram = counts)\n",
    "end"
   ]
  },
  {
   "cell_type": "code",
   "execution_count": 41,
   "metadata": {
    "collapsed": false
   },
   "outputs": [
    {
     "data": {
      "text/plain": [
       "4.199358126876757"
      ]
     },
     "execution_count": 41,
     "metadata": {},
     "output_type": "execute_result"
    }
   ],
   "source": [
    "# naive estimate with carefully selected bin count\n",
    "entropy_naive(x,16).entropy"
   ]
  },
  {
   "cell_type": "code",
   "execution_count": 42,
   "metadata": {
    "collapsed": false
   },
   "outputs": [
    {
     "data": {
      "image/png": "[encoded data removed]"
     },
     "execution_count": 42,
     "metadata": {},
     "output_type": "execute_result"
    }
   ],
   "source": [
    "heatmap(entropy_naive(x,100).histogram, fmt = :png)"
   ]
  },
  {
   "cell_type": "code",
   "execution_count": 43,
   "metadata": {
    "collapsed": false
   },
   "outputs": [],
   "source": [
    "# to see that the naive method is naive\n",
    "# we try it out with different bin counts\n",
    "trials = [ entropy_naive(x,bins).entropy for bins in 3:100 ];"
   ]
  },
  {
   "cell_type": "code",
   "execution_count": 44,
   "metadata": {
    "collapsed": false
   },
   "outputs": [
    {
     "data": {
      "image/png": "[encoded data removed]"
     },
     "execution_count": 44,
     "metadata": {},
     "output_type": "execute_result"
    }
   ],
   "source": [
    "plot(trials, fmt = :png, legend=:bottomright, \n",
    "    label=\"entropy\", xlabel=\"bins\")"
   ]
  },
  {
   "cell_type": "code",
   "execution_count": null,
   "metadata": {
    "collapsed": true
   },
   "outputs": [],
   "source": []
  }
 ],
 "metadata": {
  "anaconda-cloud": {},
  "kernelspec": {
   "display_name": "Julia 1.1.0",
   "language": "julia",
   "name": "julia-1.1"
  },
  "language_info": {
   "file_extension": ".jl",
   "mimetype": "application/julia",
   "name": "julia",
   "version": "1.1.0"
  }
 },
 "nbformat": 4,
 "nbformat_minor": 0
}
