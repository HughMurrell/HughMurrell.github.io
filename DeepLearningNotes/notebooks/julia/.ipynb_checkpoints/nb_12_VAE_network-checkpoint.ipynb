{
 "cells": [
  {
   "cell_type": "markdown",
   "metadata": {},
   "source": [
    "## Variational Autoencoder for MNIST data"
   ]
  },
  {
   "cell_type": "markdown",
   "metadata": {},
   "source": [
    "### Loading the data"
   ]
  },
  {
   "cell_type": "markdown",
   "metadata": {},
   "source": [
    "First we load the required packages:"
   ]
  },
  {
   "cell_type": "code",
   "execution_count": 1,
   "metadata": {
    "collapsed": false
   },
   "outputs": [],
   "source": [
    "using Flux, Flux.Data.MNIST, Statistics\n",
    "using Flux: throttle, params"
   ]
  },
  {
   "cell_type": "code",
   "execution_count": 2,
   "metadata": {
    "collapsed": false
   },
   "outputs": [
    {
     "name": "stderr",
     "output_type": "stream",
     "text": [
      "WARNING: using Distributions.params in module Main conflicts with an existing identifier.\n"
     ]
    },
    {
     "data": {
      "text/plain": [
       "logpdf (generic function with 62 methods)"
      ]
     },
     "execution_count": 2,
     "metadata": {},
     "output_type": "execute_result"
    }
   ],
   "source": [
    "# Extend distributions slightly to have a numerically stable logpdf for `p` close to 1 or 0.\n",
    "using Distributions\n",
    "import Distributions: logpdf\n",
    "logpdf(b::Bernoulli, y::Bool) = y * log(b.p + eps(Float32)) + (1f0 - y) * log(1 - b.p + eps(Float32))"
   ]
  },
  {
   "cell_type": "markdown",
   "metadata": {},
   "source": [
    "Now we read in the data:"
   ]
  },
  {
   "cell_type": "code",
   "execution_count": 3,
   "metadata": {
    "collapsed": false
   },
   "outputs": [
    {
     "data": {
      "text/plain": [
       "(60000, 100)"
      ]
     },
     "execution_count": 3,
     "metadata": {},
     "output_type": "execute_result"
    }
   ],
   "source": [
    "# Load data, binarise it, and partition into mini-batches of M.\n",
    "X = float.(hcat(vec.(MNIST.images())...)) .> 0.5\n",
    "N, M = size(X, 2), 100\n",
    "data = [X[:,i] for i in Iterators.partition(1:N,M)];\n",
    "(N,M)"
   ]
  },
  {
   "cell_type": "code",
   "execution_count": 6,
   "metadata": {
    "collapsed": false
   },
   "outputs": [
    {
     "data": {
      "text/plain": [
       "784-element BitArray{1}:\n",
       " false\n",
       " false\n",
       " false\n",
       " false\n",
       " false\n",
       " false\n",
       " false\n",
       " false\n",
       " false\n",
       " false\n",
       " false\n",
       " false\n",
       " false\n",
       "     ⋮\n",
       " false\n",
       " false\n",
       " false\n",
       " false\n",
       " false\n",
       " false\n",
       " false\n",
       " false\n",
       " false\n",
       " false\n",
       " false\n",
       " false"
      ]
     },
     "execution_count": 6,
     "metadata": {},
     "output_type": "execute_result"
    }
   ],
   "source": [
    "X[:,1]"
   ]
  },
  {
   "cell_type": "code",
   "execution_count": 5,
   "metadata": {
    "collapsed": false
   },
   "outputs": [
    {
     "data": {
      "text/plain": [
       "Chain(Dense(5, 500, tanh), Dense(500, 784, NNlib.σ))"
      ]
     },
     "execution_count": 5,
     "metadata": {},
     "output_type": "execute_result"
    }
   ],
   "source": [
    "################################# Define Model #################################\n",
    "\n",
    "# Latent dimensionality, # hidden units.\n",
    "Dz, Dh = 5, 500\n",
    "\n",
    "# Components of recognition model / \"encoder\" MLP.\n",
    "A, μ, logσ = Dense(28^2, Dh, tanh), Dense(Dh, Dz), Dense(Dh, Dz)\n",
    "g(X) = (h = A(X); (μ(h), logσ(h)))\n",
    "z(μ, logσ) = μ + exp(logσ) * randn(Float32)\n",
    "\n",
    "# Generative model / \"decoder\" MLP.\n",
    "f = Chain(Dense(Dz, Dh, tanh), Dense(Dh, 28^2, σ))"
   ]
  },
  {
   "cell_type": "code",
   "execution_count": 6,
   "metadata": {
    "collapsed": false
   },
   "outputs": [
    {
     "data": {
      "text/plain": [
       "modelsample (generic function with 1 method)"
      ]
     },
     "execution_count": 6,
     "metadata": {},
     "output_type": "execute_result"
    }
   ],
   "source": [
    "####################### Define ways of doing things with the model. #######################\n",
    "\n",
    "# KL-divergence between approximation posterior and N(0, 1) prior.\n",
    "kl_q_p(μ, logσ) = 0.5f0 * sum(exp.(2f0 .* logσ) + μ.^2 .- 1f0 .+ logσ.^2)\n",
    "\n",
    "# logp(x|z) - conditional probability of data given latents.\n",
    "logp_x_z(x, z) = sum(logpdf.(Bernoulli.(f(z)), x))\n",
    "\n",
    "# Monte Carlo estimator of mean ELBO using M samples.\n",
    "L̄(X) = ((μ̂, logσ̂) = g(X); (logp_x_z(X, z.(μ̂, logσ̂)) - kl_q_p(μ̂, logσ̂)) * 1 // M)\n",
    "\n",
    "loss(X) = -L̄(X) + 0.01f0 * sum(x->sum(x.^2), params(f))\n",
    "\n",
    "# Sample from the learned model.\n",
    "modelsample() = rand.(Bernoulli.(f(z.(zeros(Dz), zeros(Dz)))))"
   ]
  },
  {
   "cell_type": "code",
   "execution_count": 7,
   "metadata": {
    "collapsed": false
   },
   "outputs": [
    {
     "name": "stderr",
     "output_type": "stream",
     "text": [
      "┌ Info: Epoch 1\n",
      "└ @ Main In[7]:8\n"
     ]
    },
    {
     "name": "stdout",
     "output_type": "stream",
     "text": [
      "-(L̄(X[:, rand(1:N, M)])) = 544.9813f0 (tracked)\n",
      "-(L̄(X[:, rand(1:N, M)])) = 175.18198f0 (tracked)\n",
      "-(L̄(X[:, rand(1:N, M)])) = 164.75838f0 (tracked)\n"
     ]
    },
    {
     "name": "stderr",
     "output_type": "stream",
     "text": [
      "┌ Info: Epoch 2\n",
      "└ @ Main In[7]:8\n"
     ]
    },
    {
     "name": "stdout",
     "output_type": "stream",
     "text": [
      "-(L̄(X[:, rand(1:N, M)])) = 166.55515f0 (tracked)\n",
      "-(L̄(X[:, rand(1:N, M)])) = 169.11412f0 (tracked)\n",
      "-(L̄(X[:, rand(1:N, M)])) = 153.44893f0 (tracked)\n"
     ]
    },
    {
     "name": "stderr",
     "output_type": "stream",
     "text": [
      "┌ Info: Epoch 3\n",
      "└ @ Main In[7]:8\n"
     ]
    },
    {
     "name": "stdout",
     "output_type": "stream",
     "text": [
      "-(L̄(X[:, rand(1:N, M)])) = 153.92361f0 (tracked)\n",
      "-(L̄(X[:, rand(1:N, M)])) = 153.722f0 (tracked)\n",
      "-(L̄(X[:, rand(1:N, M)])) = 152.04886f0 (tracked)\n"
     ]
    },
    {
     "name": "stderr",
     "output_type": "stream",
     "text": [
      "┌ Info: Epoch 4\n",
      "└ @ Main In[7]:8\n"
     ]
    },
    {
     "name": "stdout",
     "output_type": "stream",
     "text": [
      "-(L̄(X[:, rand(1:N, M)])) = 142.13672f0 (tracked)\n",
      "-(L̄(X[:, rand(1:N, M)])) = 159.439f0 (tracked)\n",
      "-(L̄(X[:, rand(1:N, M)])) = 152.61314f0 (tracked)\n"
     ]
    },
    {
     "name": "stderr",
     "output_type": "stream",
     "text": [
      "┌ Info: Epoch 5\n",
      "└ @ Main In[7]:8\n"
     ]
    },
    {
     "name": "stdout",
     "output_type": "stream",
     "text": [
      "-(L̄(X[:, rand(1:N, M)])) = 158.70023f0 (tracked)\n",
      "-(L̄(X[:, rand(1:N, M)])) = 151.49704f0 (tracked)\n",
      "-(L̄(X[:, rand(1:N, M)])) = 142.91176f0 (tracked)\n"
     ]
    },
    {
     "name": "stderr",
     "output_type": "stream",
     "text": [
      "┌ Info: Epoch 6\n",
      "└ @ Main In[7]:8\n"
     ]
    },
    {
     "name": "stdout",
     "output_type": "stream",
     "text": [
      "-(L̄(X[:, rand(1:N, M)])) = 143.63165f0 (tracked)\n",
      "-(L̄(X[:, rand(1:N, M)])) = 153.68814f0 (tracked)\n",
      "-(L̄(X[:, rand(1:N, M)])) = 145.31458f0 (tracked)\n"
     ]
    },
    {
     "name": "stderr",
     "output_type": "stream",
     "text": [
      "┌ Info: Epoch 7\n",
      "└ @ Main In[7]:8\n"
     ]
    },
    {
     "name": "stdout",
     "output_type": "stream",
     "text": [
      "-(L̄(X[:, rand(1:N, M)])) = 138.28984f0 (tracked)\n",
      "-(L̄(X[:, rand(1:N, M)])) = 144.12935f0 (tracked)\n",
      "-(L̄(X[:, rand(1:N, M)])) = 143.97943f0 (tracked)\n"
     ]
    },
    {
     "name": "stderr",
     "output_type": "stream",
     "text": [
      "┌ Info: Epoch 8\n",
      "└ @ Main In[7]:8\n"
     ]
    },
    {
     "name": "stdout",
     "output_type": "stream",
     "text": [
      "-(L̄(X[:, rand(1:N, M)])) = 137.43669f0 (tracked)\n",
      "-(L̄(X[:, rand(1:N, M)])) = 143.21892f0 (tracked)\n",
      "-(L̄(X[:, rand(1:N, M)])) = 136.34074f0 (tracked)\n"
     ]
    },
    {
     "name": "stderr",
     "output_type": "stream",
     "text": [
      "┌ Info: Epoch 9\n",
      "└ @ Main In[7]:8\n"
     ]
    },
    {
     "name": "stdout",
     "output_type": "stream",
     "text": [
      "-(L̄(X[:, rand(1:N, M)])) = 140.1035f0 (tracked)\n",
      "-(L̄(X[:, rand(1:N, M)])) = 143.19398f0 (tracked)\n",
      "-(L̄(X[:, rand(1:N, M)])) = 136.70186f0 (tracked)\n"
     ]
    },
    {
     "name": "stderr",
     "output_type": "stream",
     "text": [
      "┌ Info: Epoch 10\n",
      "└ @ Main In[7]:8\n"
     ]
    },
    {
     "name": "stdout",
     "output_type": "stream",
     "text": [
      "-(L̄(X[:, rand(1:N, M)])) = 138.35522f0 (tracked)\n",
      "-(L̄(X[:, rand(1:N, M)])) = 141.93678f0 (tracked)\n",
      "-(L̄(X[:, rand(1:N, M)])) = 135.47774f0 (tracked)\n"
     ]
    },
    {
     "name": "stderr",
     "output_type": "stream",
     "text": [
      "┌ Info: Epoch 11\n",
      "└ @ Main In[7]:8\n"
     ]
    },
    {
     "name": "stdout",
     "output_type": "stream",
     "text": [
      "-(L̄(X[:, rand(1:N, M)])) = 137.62286f0 (tracked)\n",
      "-(L̄(X[:, rand(1:N, M)])) = 138.34444f0 (tracked)\n"
     ]
    },
    {
     "name": "stderr",
     "output_type": "stream",
     "text": [
      "┌ Info: Epoch 12\n",
      "└ @ Main In[7]:8\n"
     ]
    },
    {
     "name": "stdout",
     "output_type": "stream",
     "text": [
      "-(L̄(X[:, rand(1:N, M)])) = 135.87799f0 (tracked)\n",
      "-(L̄(X[:, rand(1:N, M)])) = 147.59515f0 (tracked)\n",
      "-(L̄(X[:, rand(1:N, M)])) = 143.06065f0 (tracked)\n"
     ]
    },
    {
     "name": "stderr",
     "output_type": "stream",
     "text": [
      "┌ Info: Epoch 13\n",
      "└ @ Main In[7]:8\n"
     ]
    },
    {
     "name": "stdout",
     "output_type": "stream",
     "text": [
      "-(L̄(X[:, rand(1:N, M)])) = 138.60023f0 (tracked)\n",
      "-(L̄(X[:, rand(1:N, M)])) = 146.99283f0 (tracked)\n",
      "-(L̄(X[:, rand(1:N, M)])) = 135.73558f0 (tracked)\n"
     ]
    },
    {
     "name": "stderr",
     "output_type": "stream",
     "text": [
      "┌ Info: Epoch 14\n",
      "└ @ Main In[7]:8\n"
     ]
    },
    {
     "name": "stdout",
     "output_type": "stream",
     "text": [
      "-(L̄(X[:, rand(1:N, M)])) = 148.5738f0 (tracked)\n",
      "-(L̄(X[:, rand(1:N, M)])) = 139.14633f0 (tracked)\n"
     ]
    },
    {
     "name": "stderr",
     "output_type": "stream",
     "text": [
      "┌ Info: Epoch 15\n",
      "└ @ Main In[7]:8\n"
     ]
    },
    {
     "name": "stdout",
     "output_type": "stream",
     "text": [
      "-(L̄(X[:, rand(1:N, M)])) = 141.02647f0 (tracked)\n",
      "-(L̄(X[:, rand(1:N, M)])) = 143.58876f0 (tracked)\n",
      "-(L̄(X[:, rand(1:N, M)])) = 136.5529f0 (tracked)\n"
     ]
    },
    {
     "name": "stderr",
     "output_type": "stream",
     "text": [
      "┌ Info: Epoch 16\n",
      "└ @ Main In[7]:8\n"
     ]
    },
    {
     "name": "stdout",
     "output_type": "stream",
     "text": [
      "-(L̄(X[:, rand(1:N, M)])) = 138.88948f0 (tracked)\n",
      "-(L̄(X[:, rand(1:N, M)])) = 142.06839f0 (tracked)\n"
     ]
    },
    {
     "name": "stderr",
     "output_type": "stream",
     "text": [
      "┌ Info: Epoch 17\n",
      "└ @ Main In[7]:8\n"
     ]
    },
    {
     "name": "stdout",
     "output_type": "stream",
     "text": [
      "-(L̄(X[:, rand(1:N, M)])) = 133.72638f0 (tracked)\n",
      "-(L̄(X[:, rand(1:N, M)])) = 142.40042f0 (tracked)\n",
      "-(L̄(X[:, rand(1:N, M)])) = 141.37666f0 (tracked)\n"
     ]
    },
    {
     "name": "stderr",
     "output_type": "stream",
     "text": [
      "┌ Info: Epoch 18\n",
      "└ @ Main In[7]:8\n"
     ]
    },
    {
     "name": "stdout",
     "output_type": "stream",
     "text": [
      "-(L̄(X[:, rand(1:N, M)])) = 151.34944f0 (tracked)\n",
      "-(L̄(X[:, rand(1:N, M)])) = 136.0661f0 (tracked)\n"
     ]
    },
    {
     "name": "stderr",
     "output_type": "stream",
     "text": [
      "┌ Info: Epoch 19\n",
      "└ @ Main In[7]:8\n"
     ]
    },
    {
     "name": "stdout",
     "output_type": "stream",
     "text": [
      "-(L̄(X[:, rand(1:N, M)])) = 141.76482f0 (tracked)\n",
      "-(L̄(X[:, rand(1:N, M)])) = 143.24782f0 (tracked)\n",
      "-(L̄(X[:, rand(1:N, M)])) = 139.72148f0 (tracked)\n"
     ]
    },
    {
     "name": "stderr",
     "output_type": "stream",
     "text": [
      "┌ Info: Epoch 20\n",
      "└ @ Main In[7]:8\n"
     ]
    },
    {
     "name": "stdout",
     "output_type": "stream",
     "text": [
      "-(L̄(X[:, rand(1:N, M)])) = 136.00517f0 (tracked)\n",
      "-(L̄(X[:, rand(1:N, M)])) = 133.91176f0 (tracked)\n"
     ]
    }
   ],
   "source": [
    "################################# Learn Parameters ##############################\n",
    "\n",
    "evalcb = throttle(() -> @show(-L̄(X[:, rand(1:N, M)])), 30)\n",
    "opt = ADAM()\n",
    "ps = params(A, μ, logσ, f)\n",
    "\n",
    "for i = 1:20\n",
    "  @info \"Epoch $i\"\n",
    "  Flux.train!(loss, ps, zip(data), opt, cb=evalcb)\n",
    "end"
   ]
  },
  {
   "cell_type": "code",
   "execution_count": 8,
   "metadata": {
    "collapsed": false
   },
   "outputs": [],
   "source": [
    "################################# Sample Output ##############################\n",
    "\n",
    "using Images\n",
    "\n",
    "img(x) = Gray.(reshape(x, 28, 28))\n",
    "\n",
    "sample = hcat(img.([modelsample() for i = 1:10])...)\n",
    "save(\"sample.png\", sample)"
   ]
  },
  {
   "cell_type": "code",
   "execution_count": 9,
   "metadata": {
    "collapsed": false
   },
   "outputs": [
    {
     "name": "stderr",
     "output_type": "stream",
     "text": [
      "┌ Info: Epoch 1\n",
      "└ @ Main In[9]:2\n"
     ]
    },
    {
     "name": "stdout",
     "output_type": "stream",
     "text": [
      "-(L̄(X[:, rand(1:N, M)])) = 137.48178f0 (tracked)\n",
      "-(L̄(X[:, rand(1:N, M)])) = 140.76006f0 (tracked)\n",
      "-(L̄(X[:, rand(1:N, M)])) = 142.49525f0 (tracked)\n"
     ]
    },
    {
     "name": "stderr",
     "output_type": "stream",
     "text": [
      "┌ Info: Epoch 2\n",
      "└ @ Main In[9]:2\n"
     ]
    },
    {
     "name": "stdout",
     "output_type": "stream",
     "text": [
      "-(L̄(X[:, rand(1:N, M)])) = 140.76175f0 (tracked)\n",
      "-(L̄(X[:, rand(1:N, M)])) = 136.34175f0 (tracked)\n"
     ]
    },
    {
     "name": "stderr",
     "output_type": "stream",
     "text": [
      "┌ Info: Epoch 3\n",
      "└ @ Main In[9]:2\n"
     ]
    },
    {
     "name": "stdout",
     "output_type": "stream",
     "text": [
      "-(L̄(X[:, rand(1:N, M)])) = 135.53745f0 (tracked)\n",
      "-(L̄(X[:, rand(1:N, M)])) = 143.63853f0 (tracked)\n",
      "-(L̄(X[:, rand(1:N, M)])) = 141.9314f0 (tracked)\n"
     ]
    },
    {
     "name": "stderr",
     "output_type": "stream",
     "text": [
      "┌ Info: Epoch 4\n",
      "└ @ Main In[9]:2\n"
     ]
    },
    {
     "name": "stdout",
     "output_type": "stream",
     "text": [
      "-(L̄(X[:, rand(1:N, M)])) = 139.90031f0 (tracked)\n",
      "-(L̄(X[:, rand(1:N, M)])) = 134.64522f0 (tracked)\n"
     ]
    },
    {
     "name": "stderr",
     "output_type": "stream",
     "text": [
      "┌ Info: Epoch 5\n",
      "└ @ Main In[9]:2\n"
     ]
    },
    {
     "name": "stdout",
     "output_type": "stream",
     "text": [
      "-(L̄(X[:, rand(1:N, M)])) = 143.83553f0 (tracked)\n",
      "-(L̄(X[:, rand(1:N, M)])) = 133.73615f0 (tracked)\n",
      "-(L̄(X[:, rand(1:N, M)])) = 137.242f0 (tracked)\n"
     ]
    },
    {
     "name": "stderr",
     "output_type": "stream",
     "text": [
      "┌ Info: Epoch 6\n",
      "└ @ Main In[9]:2\n"
     ]
    },
    {
     "name": "stdout",
     "output_type": "stream",
     "text": [
      "-(L̄(X[:, rand(1:N, M)])) = 137.95589f0 (tracked)\n",
      "-(L̄(X[:, rand(1:N, M)])) = 143.19841f0 (tracked)\n"
     ]
    },
    {
     "name": "stderr",
     "output_type": "stream",
     "text": [
      "┌ Info: Epoch 7\n",
      "└ @ Main In[9]:2\n"
     ]
    },
    {
     "name": "stdout",
     "output_type": "stream",
     "text": [
      "-(L̄(X[:, rand(1:N, M)])) = 133.44397f0 (tracked)\n",
      "-(L̄(X[:, rand(1:N, M)])) = 136.67905f0 (tracked)\n",
      "-(L̄(X[:, rand(1:N, M)])) = 141.81439f0 (tracked)\n",
      "-(L̄(X[:, rand(1:N, M)])) = 142.8838f0 (tracked)\n"
     ]
    },
    {
     "name": "stderr",
     "output_type": "stream",
     "text": [
      "┌ Info: Epoch 8\n",
      "└ @ Main In[9]:2\n"
     ]
    },
    {
     "name": "stdout",
     "output_type": "stream",
     "text": [
      "-(L̄(X[:, rand(1:N, M)])) = 146.24826f0 (tracked)\n",
      "-(L̄(X[:, rand(1:N, M)])) = 142.12029f0 (tracked)\n"
     ]
    },
    {
     "name": "stderr",
     "output_type": "stream",
     "text": [
      "┌ Info: Epoch 9\n",
      "└ @ Main In[9]:2\n"
     ]
    },
    {
     "name": "stdout",
     "output_type": "stream",
     "text": [
      "-(L̄(X[:, rand(1:N, M)])) = 142.2862f0 (tracked)\n",
      "-(L̄(X[:, rand(1:N, M)])) = 137.81175f0 (tracked)\n",
      "-(L̄(X[:, rand(1:N, M)])) = 140.80772f0 (tracked)\n"
     ]
    },
    {
     "name": "stderr",
     "output_type": "stream",
     "text": [
      "┌ Info: Epoch 10\n",
      "└ @ Main In[9]:2\n"
     ]
    },
    {
     "name": "stdout",
     "output_type": "stream",
     "text": [
      "-(L̄(X[:, rand(1:N, M)])) = 144.76172f0 (tracked)\n",
      "-(L̄(X[:, rand(1:N, M)])) = 137.30658f0 (tracked)\n",
      "-(L̄(X[:, rand(1:N, M)])) = 134.41515f0 (tracked)\n"
     ]
    },
    {
     "name": "stderr",
     "output_type": "stream",
     "text": [
      "┌ Info: Epoch 11\n",
      "└ @ Main In[9]:2\n"
     ]
    },
    {
     "name": "stdout",
     "output_type": "stream",
     "text": [
      "-(L̄(X[:, rand(1:N, M)])) = 142.57329f0 (tracked)\n",
      "-(L̄(X[:, rand(1:N, M)])) = 143.72849f0 (tracked)\n",
      "-(L̄(X[:, rand(1:N, M)])) = 141.55705f0 (tracked)\n"
     ]
    },
    {
     "name": "stderr",
     "output_type": "stream",
     "text": [
      "┌ Info: Epoch 12\n",
      "└ @ Main In[9]:2\n"
     ]
    },
    {
     "name": "stdout",
     "output_type": "stream",
     "text": [
      "-(L̄(X[:, rand(1:N, M)])) = 142.71115f0 (tracked)\n",
      "-(L̄(X[:, rand(1:N, M)])) = 138.45088f0 (tracked)\n",
      "-(L̄(X[:, rand(1:N, M)])) = 132.97826f0 (tracked)\n"
     ]
    },
    {
     "name": "stderr",
     "output_type": "stream",
     "text": [
      "┌ Info: Epoch 13\n",
      "└ @ Main In[9]:2\n"
     ]
    },
    {
     "name": "stdout",
     "output_type": "stream",
     "text": [
      "-(L̄(X[:, rand(1:N, M)])) = 136.85297f0 (tracked)\n",
      "-(L̄(X[:, rand(1:N, M)])) = 141.00037f0 (tracked)\n"
     ]
    },
    {
     "name": "stderr",
     "output_type": "stream",
     "text": [
      "┌ Info: Epoch 14\n",
      "└ @ Main In[9]:2\n"
     ]
    },
    {
     "name": "stdout",
     "output_type": "stream",
     "text": [
      "-(L̄(X[:, rand(1:N, M)])) = 142.27643f0 (tracked)\n",
      "-(L̄(X[:, rand(1:N, M)])) = 142.3596f0 (tracked)\n",
      "-(L̄(X[:, rand(1:N, M)])) = 143.75272f0 (tracked)\n",
      "-(L̄(X[:, rand(1:N, M)])) = 145.95453f0 (tracked)\n",
      "-(L̄(X[:, rand(1:N, M)])) = 145.97285f0 (tracked)\n"
     ]
    },
    {
     "name": "stderr",
     "output_type": "stream",
     "text": [
      "┌ Info: Epoch 15\n",
      "└ @ Main In[9]:2\n"
     ]
    },
    {
     "name": "stdout",
     "output_type": "stream",
     "text": [
      "-(L̄(X[:, rand(1:N, M)])) = 136.47821f0 (tracked)\n",
      "-(L̄(X[:, rand(1:N, M)])) = 141.70793f0 (tracked)\n",
      "-(L̄(X[:, rand(1:N, M)])) = 131.40163f0 (tracked)\n",
      "-(L̄(X[:, rand(1:N, M)])) = 134.59027f0 (tracked)\n",
      "-(L̄(X[:, rand(1:N, M)])) = 138.84686f0 (tracked)\n"
     ]
    },
    {
     "name": "stderr",
     "output_type": "stream",
     "text": [
      "┌ Info: Epoch 16\n",
      "└ @ Main In[9]:2\n"
     ]
    },
    {
     "name": "stdout",
     "output_type": "stream",
     "text": [
      "-(L̄(X[:, rand(1:N, M)])) = 142.29745f0 (tracked)\n",
      "-(L̄(X[:, rand(1:N, M)])) = 140.22194f0 (tracked)\n",
      "-(L̄(X[:, rand(1:N, M)])) = 134.98273f0 (tracked)\n",
      "-(L̄(X[:, rand(1:N, M)])) = 144.98996f0 (tracked)\n",
      "-(L̄(X[:, rand(1:N, M)])) = 141.38715f0 (tracked)\n"
     ]
    },
    {
     "name": "stderr",
     "output_type": "stream",
     "text": [
      "┌ Info: Epoch 17\n",
      "└ @ Main In[9]:2\n"
     ]
    },
    {
     "name": "stdout",
     "output_type": "stream",
     "text": [
      "-(L̄(X[:, rand(1:N, M)])) = 132.53378f0 (tracked)\n",
      "-(L̄(X[:, rand(1:N, M)])) = 148.12596f0 (tracked)\n",
      "-(L̄(X[:, rand(1:N, M)])) = 141.03625f0 (tracked)\n"
     ]
    },
    {
     "name": "stderr",
     "output_type": "stream",
     "text": [
      "┌ Info: Epoch 18\n",
      "└ @ Main In[9]:2\n"
     ]
    },
    {
     "name": "stdout",
     "output_type": "stream",
     "text": [
      "-(L̄(X[:, rand(1:N, M)])) = 143.42809f0 (tracked)\n",
      "-(L̄(X[:, rand(1:N, M)])) = 145.40973f0 (tracked)\n",
      "-(L̄(X[:, rand(1:N, M)])) = 150.96144f0 (tracked)\n"
     ]
    },
    {
     "name": "stderr",
     "output_type": "stream",
     "text": [
      "┌ Info: Epoch 19\n",
      "└ @ Main In[9]:2\n"
     ]
    },
    {
     "name": "stdout",
     "output_type": "stream",
     "text": [
      "-(L̄(X[:, rand(1:N, M)])) = 135.95183f0 (tracked)\n",
      "-(L̄(X[:, rand(1:N, M)])) = 139.17155f0 (tracked)\n"
     ]
    },
    {
     "name": "stderr",
     "output_type": "stream",
     "text": [
      "┌ Info: Epoch 20\n",
      "└ @ Main In[9]:2\n"
     ]
    },
    {
     "name": "stdout",
     "output_type": "stream",
     "text": [
      "-(L̄(X[:, rand(1:N, M)])) = 140.36661f0 (tracked)\n",
      "-(L̄(X[:, rand(1:N, M)])) = 145.36574f0 (tracked)\n",
      "-(L̄(X[:, rand(1:N, M)])) = 139.43881f0 (tracked)\n"
     ]
    }
   ],
   "source": [
    "for i = 1:20\n",
    "  @info \"Epoch $i\"\n",
    "  Flux.train!(loss, ps, zip(data), opt, cb=evalcb)\n",
    "end"
   ]
  },
  {
   "cell_type": "code",
   "execution_count": 10,
   "metadata": {
    "collapsed": true
   },
   "outputs": [],
   "source": [
    "sample = hcat(img.([modelsample() for i = 1:10])...)\n",
    "save(\"sample2.png\", sample)"
   ]
  },
  {
   "cell_type": "code",
   "execution_count": null,
   "metadata": {
    "collapsed": true
   },
   "outputs": [],
   "source": []
  }
 ],
 "metadata": {
  "@webio": {
   "lastCommId": null,
   "lastKernelId": null
  },
  "anaconda-cloud": {},
  "kernelspec": {
   "display_name": "Julia 1.0.1",
   "language": "julia",
   "name": "julia-1.0"
  },
  "language_info": {
   "file_extension": ".jl",
   "mimetype": "application/julia",
   "name": "julia",
   "version": "1.0.1"
  }
 },
 "nbformat": 4,
 "nbformat_minor": 3
}
