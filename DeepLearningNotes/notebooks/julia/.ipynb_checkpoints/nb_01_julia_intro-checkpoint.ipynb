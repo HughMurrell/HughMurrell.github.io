{
 "cells": [
  {
   "cell_type": "markdown",
   "metadata": {
    "nbpresent": {
     "id": "52728dde-90a1-4bf7-99bf-7b6c151e1b44"
    },
    "slideshow": {
     "slide_type": "slide"
    }
   },
   "source": [
    "# Introduction to  Julia \n",
    "\n",
    "This introduction assumes that you have basic knowledge of some scripting language and provides examples of the Julia syntax and how to do Linear Algebra with Julia.\n"
   ]
  },
  {
   "cell_type": "markdown",
   "metadata": {
    "nbpresent": {
     "id": "2b43bafe-af12-4916-9711-1ad382dc508e"
    },
    "slideshow": {
     "slide_type": "slide"
    }
   },
   "source": [
    "### Documentation\n",
    "\n",
    "The main source of information is the Julia Documentation: \n",
    "\n",
    "https://docs.julialang.org/en/v1/\n",
    "\n",
    "<br>\n",
    "You may find many other external resources useful, for example:\n",
    "\n",
    "https://academy.juliabox.com/\n",
    "\n"
   ]
  },
  {
   "cell_type": "markdown",
   "metadata": {
    "nbpresent": {
     "id": "8bd92b34-3c53-4990-9321-002e1b682d23"
    },
    "slideshow": {
     "slide_type": "slide"
    }
   },
   "source": [
    "## Installation\n",
    "\n",
    "Before we can start we need to set up our environment with the necessary tools and libraries for \n",
    "machine learning."
   ]
  },
  {
   "cell_type": "markdown",
   "metadata": {
    "nbpresent": {
     "id": "414ce8d5-e90b-49a2-bd34-c18ce9e40adb"
    },
    "slideshow": {
     "slide_type": "fragment"
    }
   },
   "source": [
    "### Installing Julia\n",
    "\n",
    "Download Julia for your specific system from here\n",
    "https://julialang.org/downloads/\n",
    "\n",
    "Follow the platform-specific instructions to install Julia on your system from here\n",
    "https://julialang.org/downloads/platform.html"
   ]
  },
  {
   "cell_type": "markdown",
   "metadata": {
    "nbpresent": {
     "id": "31a9135f-259e-40e4-acfe-0704ae39ecaf"
    },
    "slideshow": {
     "slide_type": "subslide"
    }
   },
   "source": [
    "### Julia REPL\n",
    "\n",
    "If you have done everything correctly, you’ll get a Julia prompt from the terminal like this:\n",
    "\n",
    "<div style=\"width: 600px;\">![REPL](images/repl_startup.png \"Julia REPL\")</div>"
   ]
  },
  {
   "cell_type": "markdown",
   "metadata": {},
   "source": [
    "This interface is known as the Julia REPL (Read, Execute, Print, Repeat).\n",
    "\n",
    "The Julia programmer can use the REPL to execute Julia commands and Julia scripts that are edited with a normal text editor. "
   ]
  },
  {
   "cell_type": "markdown",
   "metadata": {},
   "source": [
    "### Jupyter\n",
    "\n",
    "A better development environment is a <b> Jupyter notebook </b> which runs in your browser and comes with the `IJulia` package.\n",
    "\n",
    "To install `IJulia` from the Julia REPL, hit `]` to enter package mode and then enter\n",
    "\n",
    "    add IJulia \n",
    "    \n",
    "This adds packages for the `IJulia` kernel which links Julia to Jupyter."
   ]
  },
  {
   "cell_type": "markdown",
   "metadata": {},
   "source": [
    "To start Jupyter just navigate to a directory where your notebooks are stored and type\n",
    "\n",
    "    jupyter notebook\n",
    "    \n",
    "and jupyter will appear in your browser."
   ]
  },
  {
   "cell_type": "markdown",
   "metadata": {},
   "source": [
    "### Julia\n",
    "\n",
    "Now let's just treat Julia as a scripting language and take a head-first dive into Julia, and see what happens."
   ]
  },
  {
   "cell_type": "markdown",
   "metadata": {
    "nbpresent": {
     "id": "ab1aa8d4-1169-492d-97b2-8388968d8a01"
    },
    "slideshow": {
     "slide_type": "subslide"
    }
   },
   "source": [
    "### Help\n",
    "\n",
    "The `?` gets you to the documentation for a Julia function:  "
   ]
  },
  {
   "cell_type": "markdown",
   "metadata": {},
   "source": [
    "whilst the ]? gets you documentation on the Julia package system:"
   ]
  },
  {
   "cell_type": "markdown",
   "metadata": {
    "nbpresent": {
     "id": "289f9890-48eb-41fd-b406-b857281f9aa0"
    },
    "slideshow": {
     "slide_type": "subslide"
    }
   },
   "source": [
    "### Variables and Types\n",
    "\n",
    "We can assign a variable a value and find out what type a variable is with the `typeof` function:"
   ]
  },
  {
   "cell_type": "code",
   "execution_count": 2,
   "metadata": {
    "collapsed": false
   },
   "outputs": [
    {
     "data": {
      "text/plain": [
       "7"
      ]
     },
     "execution_count": 2,
     "metadata": {},
     "output_type": "execute_result"
    }
   ],
   "source": [
    "# assign the integer value 7 to a variable\n",
    "a = 7"
   ]
  },
  {
   "cell_type": "code",
   "execution_count": 3,
   "metadata": {
    "collapsed": false
   },
   "outputs": [
    {
     "data": {
      "text/plain": [
       "Int64"
      ]
     },
     "execution_count": 3,
     "metadata": {},
     "output_type": "execute_result"
    }
   ],
   "source": [
    "  \n",
    "# find out the type of the variable a\n",
    "typeof(a)  "
   ]
  },
  {
   "cell_type": "code",
   "execution_count": 4,
   "metadata": {
    "collapsed": false
   },
   "outputs": [
    {
     "data": {
      "text/plain": [
       "Float64"
      ]
     },
     "execution_count": 4,
     "metadata": {},
     "output_type": "execute_result"
    }
   ],
   "source": [
    "my_pi = 3.14159\n",
    "typeof(my_pi)"
   ]
  },
  {
   "cell_type": "code",
   "execution_count": 5,
   "metadata": {
    "collapsed": false
   },
   "outputs": [
    {
     "data": {
      "text/plain": [
       "\"I am a string.\""
      ]
     },
     "execution_count": 5,
     "metadata": {},
     "output_type": "execute_result"
    }
   ],
   "source": [
    "s1 = \"I am a string.\""
   ]
  },
  {
   "cell_type": "code",
   "execution_count": 6,
   "metadata": {
    "collapsed": false
   },
   "outputs": [
    {
     "data": {
      "text/plain": [
       "String"
      ]
     },
     "execution_count": 6,
     "metadata": {},
     "output_type": "execute_result"
    }
   ],
   "source": [
    "typeof(s1)"
   ]
  },
  {
   "cell_type": "code",
   "execution_count": 7,
   "metadata": {
    "collapsed": false
   },
   "outputs": [
    {
     "data": {
      "text/plain": [
       "\" I am also a string. \""
      ]
     },
     "execution_count": 7,
     "metadata": {},
     "output_type": "execute_result"
    }
   ],
   "source": [
    "s2 = \" I am also a string. \""
   ]
  },
  {
   "cell_type": "markdown",
   "metadata": {},
   "source": [
    "### Syntax for basic math"
   ]
  },
  {
   "cell_type": "code",
   "execution_count": 8,
   "metadata": {
    "collapsed": false
   },
   "outputs": [
    {
     "data": {
      "text/plain": [
       "10"
      ]
     },
     "execution_count": 8,
     "metadata": {},
     "output_type": "execute_result"
    }
   ],
   "source": [
    "sum = 3 + 7"
   ]
  },
  {
   "cell_type": "code",
   "execution_count": 9,
   "metadata": {
    "collapsed": false
   },
   "outputs": [
    {
     "data": {
      "text/plain": [
       "7"
      ]
     },
     "execution_count": 9,
     "metadata": {},
     "output_type": "execute_result"
    }
   ],
   "source": [
    "difference = 10 - 3"
   ]
  },
  {
   "cell_type": "code",
   "execution_count": 10,
   "metadata": {
    "collapsed": false,
    "nbpresent": {
     "id": "69d8d700-1126-4a84-830b-61e2b05e71ec"
    },
    "slideshow": {
     "slide_type": "fragment"
    }
   },
   "outputs": [
    {
     "data": {
      "text/plain": [
       "100"
      ]
     },
     "execution_count": 10,
     "metadata": {},
     "output_type": "execute_result"
    }
   ],
   "source": [
    "product = 20 * 5"
   ]
  },
  {
   "cell_type": "code",
   "execution_count": 11,
   "metadata": {
    "collapsed": false
   },
   "outputs": [
    {
     "data": {
      "text/plain": [
       "10.0"
      ]
     },
     "execution_count": 11,
     "metadata": {},
     "output_type": "execute_result"
    }
   ],
   "source": [
    "quotient = 100 / 10"
   ]
  },
  {
   "cell_type": "code",
   "execution_count": 12,
   "metadata": {
    "collapsed": false
   },
   "outputs": [
    {
     "data": {
      "text/plain": [
       "100"
      ]
     },
     "execution_count": 12,
     "metadata": {},
     "output_type": "execute_result"
    }
   ],
   "source": [
    "power = 10 ^ 2"
   ]
  },
  {
   "cell_type": "code",
   "execution_count": 13,
   "metadata": {
    "collapsed": false
   },
   "outputs": [
    {
     "data": {
      "text/plain": [
       "1"
      ]
     },
     "execution_count": 13,
     "metadata": {},
     "output_type": "execute_result"
    }
   ],
   "source": [
    "modulus = 101 % 2"
   ]
  },
  {
   "cell_type": "code",
   "execution_count": 14,
   "metadata": {
    "collapsed": false
   },
   "outputs": [
    {
     "data": {
      "text/plain": [
       "\"I am a string. I am also a string. \""
      ]
     },
     "execution_count": 14,
     "metadata": {},
     "output_type": "execute_result"
    }
   ],
   "source": [
    "concat = s1 * s2"
   ]
  },
  {
   "cell_type": "markdown",
   "metadata": {},
   "source": [
    "### String Interpolation"
   ]
  },
  {
   "cell_type": "code",
   "execution_count": 15,
   "metadata": {
    "collapsed": false
   },
   "outputs": [
    {
     "name": "stdout",
     "output_type": "stream",
     "text": [
      "Hello, my name is Jane.\n",
      "I have 10 fingers and 10 toes.\n",
      "That is 20 digits in all!!\n"
     ]
    }
   ],
   "source": [
    "name = \"Jane\"\n",
    "num_fingers = 10\n",
    "num_toes = 10\n",
    "println(\"Hello, my name is $name.\")\n",
    "println(\"I have $num_fingers fingers and $num_toes toes.\")\n",
    "println(\"That is $(num_fingers + num_toes) digits in all!!\")"
   ]
  },
  {
   "cell_type": "markdown",
   "metadata": {},
   "source": [
    "## Data structures\n",
    "\n",
    "Once we start working with many pieces of data at once, it will be convenient to store data in structures like arrays or dictionaries (rather than just relying on variables).<br>\n",
    "\n",
    "Tuples and arrays are both ordered sequences of elements (so we can index into them). \n",
    "\n",
    "Tuples are immutable but dictionaries and arrays are both mutable."
   ]
  },
  {
   "cell_type": "markdown",
   "metadata": {},
   "source": [
    "### Tuples\n",
    "\n",
    "We can create a tuple by enclosing an ordered collection of elements in `( )`.\n",
    "\n",
    "Syntax: <br>\n",
    "```julia\n",
    "(item1, item2, ...)```"
   ]
  },
  {
   "cell_type": "code",
   "execution_count": 16,
   "metadata": {
    "collapsed": false
   },
   "outputs": [
    {
     "data": {
      "text/plain": [
       "(\"penguins\", \"cats\", \"dogs\")"
      ]
     },
     "execution_count": 16,
     "metadata": {},
     "output_type": "execute_result"
    }
   ],
   "source": [
    "# use round brackets to create a tuple \n",
    "myfavoriteanimals = (\"penguins\", \"cats\", \"dogs\")  "
   ]
  },
  {
   "cell_type": "code",
   "execution_count": 17,
   "metadata": {
    "collapsed": false
   },
   "outputs": [
    {
     "data": {
      "text/plain": [
       "\"penguins\""
      ]
     },
     "execution_count": 17,
     "metadata": {},
     "output_type": "execute_result"
    }
   ],
   "source": [
    "# we can index a tuple\n",
    "myfavoriteanimals[1] "
   ]
  },
  {
   "cell_type": "code",
   "execution_count": 18,
   "metadata": {
    "collapsed": false
   },
   "outputs": [
    {
     "ename": "MethodError",
     "evalue": "MethodError: no method matching setindex!(::Tuple{String,String,String}, ::String, ::Int64)",
     "output_type": "error",
     "traceback": [
      "MethodError: no method matching setindex!(::Tuple{String,String,String}, ::String, ::Int64)",
      "",
      "Stacktrace:",
      " [1] top-level scope at In[18]:1"
     ]
    }
   ],
   "source": [
    "# cant update a tuple because they are immutable\n",
    "myfavoriteanimals[1] = \"otters\"   "
   ]
  },
  {
   "cell_type": "markdown",
   "metadata": {},
   "source": [
    "### NamedTuples\n",
    "\n",
    "As you might guess, `NamedTuple`s are just like `Tuple`s except that each element additionally has a name! \n",
    "\n",
    "They have a special syntax using `=` inside a tuple:\n",
    "\n",
    "```julia\n",
    "(name1 = item1, name2 = item2, ...)\n",
    "```"
   ]
  },
  {
   "cell_type": "code",
   "execution_count": 19,
   "metadata": {
    "collapsed": false
   },
   "outputs": [
    {
     "data": {
      "text/plain": [
       "(bird = \"penguins\", mammal = \"cats\", marsupial = \"sugargliders\")"
      ]
     },
     "execution_count": 19,
     "metadata": {},
     "output_type": "execute_result"
    }
   ],
   "source": [
    "myfavoriteanimals = \n",
    "    (bird = \"penguins\", mammal = \"cats\", marsupial = \"sugargliders\")"
   ]
  },
  {
   "cell_type": "code",
   "execution_count": 20,
   "metadata": {
    "collapsed": false
   },
   "outputs": [
    {
     "data": {
      "text/plain": [
       "\"penguins\""
      ]
     },
     "execution_count": 20,
     "metadata": {},
     "output_type": "execute_result"
    }
   ],
   "source": [
    "# you can index a named tuple with an interger index\n",
    "myfavoriteanimals[1]  "
   ]
  },
  {
   "cell_type": "code",
   "execution_count": 21,
   "metadata": {
    "collapsed": false
   },
   "outputs": [
    {
     "data": {
      "text/plain": [
       "\"penguins\""
      ]
     },
     "execution_count": 21,
     "metadata": {},
     "output_type": "execute_result"
    }
   ],
   "source": [
    "# you can also use the name to access the data\n",
    "myfavoriteanimals.bird "
   ]
  },
  {
   "cell_type": "markdown",
   "metadata": {},
   "source": [
    "### Dictionaries\n",
    "\n",
    "If we have sets of data related to one another, we may choose to store that data in a dictionary. We can create a dictionary using the `Dict()` function, which we can initialize as an empty dictionary or one storing key, value pairs.\n",
    "\n",
    "Syntax:\n",
    "```julia\n",
    "Dict(key1 => value1, key2 => value2, ...)```\n",
    "\n",
    "A good example is a contacts list, where we associate names with phone numbers."
   ]
  },
  {
   "cell_type": "code",
   "execution_count": 22,
   "metadata": {
    "collapsed": false
   },
   "outputs": [
    {
     "data": {
      "text/plain": [
       "Dict{String,String} with 2 entries:\n",
       "  \"Jenny\"        => \"867-5309\"\n",
       "  \"Ghostbusters\" => \"555-2368\""
      ]
     },
     "execution_count": 22,
     "metadata": {},
     "output_type": "execute_result"
    }
   ],
   "source": [
    "myphonebook = Dict(\"Jenny\" => \"867-5309\", \"Ghostbusters\" => \"555-2368\")"
   ]
  },
  {
   "cell_type": "code",
   "execution_count": 23,
   "metadata": {
    "collapsed": false
   },
   "outputs": [
    {
     "data": {
      "text/plain": [
       "\"867-5309\""
      ]
     },
     "execution_count": 23,
     "metadata": {},
     "output_type": "execute_result"
    }
   ],
   "source": [
    "# We can grab Jenny's number (a value) using the associated key\n",
    "myphonebook[\"Jenny\"] "
   ]
  },
  {
   "cell_type": "code",
   "execution_count": 24,
   "metadata": {
    "collapsed": false
   },
   "outputs": [
    {
     "data": {
      "text/plain": [
       "\"555-FILK\""
      ]
     },
     "execution_count": 24,
     "metadata": {},
     "output_type": "execute_result"
    }
   ],
   "source": [
    "# We can add another entry to this dictionary\n",
    "myphonebook[\"Kramer\"] = \"555-FILK\" "
   ]
  },
  {
   "cell_type": "code",
   "execution_count": 25,
   "metadata": {
    "collapsed": false
   },
   "outputs": [
    {
     "data": {
      "text/plain": [
       "Dict{String,String} with 3 entries:\n",
       "  \"Jenny\"        => \"867-5309\"\n",
       "  \"Kramer\"       => \"555-FILK\"\n",
       "  \"Ghostbusters\" => \"555-2368\""
      ]
     },
     "execution_count": 25,
     "metadata": {},
     "output_type": "execute_result"
    }
   ],
   "source": [
    "myphonebook"
   ]
  },
  {
   "cell_type": "code",
   "execution_count": 26,
   "metadata": {
    "collapsed": false
   },
   "outputs": [
    {
     "data": {
      "text/plain": [
       "\"555-FILK\""
      ]
     },
     "execution_count": 26,
     "metadata": {},
     "output_type": "execute_result"
    }
   ],
   "source": [
    "# we can delete an element from a named tuple\n",
    "pop!(myphonebook, \"Kramer\") "
   ]
  },
  {
   "cell_type": "code",
   "execution_count": 27,
   "metadata": {
    "collapsed": false
   },
   "outputs": [
    {
     "ename": "KeyError",
     "evalue": "KeyError: key 1 not found",
     "output_type": "error",
     "traceback": [
      "KeyError: key 1 not found",
      "",
      "Stacktrace:",
      " [1] getindex(::Dict{String,String}, ::Int64) at ./dict.jl:478",
      " [2] top-level scope at In[27]:1"
     ]
    }
   ],
   "source": [
    "# dictionaries are not ordered. So, we can't index into them.\n",
    "myphonebook[1] "
   ]
  },
  {
   "cell_type": "markdown",
   "metadata": {
    "nbpresent": {
     "id": "ba425525-ca57-41a8-b342-7b211c7b34f4"
    },
    "slideshow": {
     "slide_type": "slide"
    }
   },
   "source": [
    "### Arrays\n",
    "\n",
    "Unlike tuples, arrays are mutable. Unlike dictionaries, arrays contain ordered collections. <br>\n",
    "We can create an array by enclosing this collection in `[ ]`.\n",
    "\n",
    "Syntax: <br>\n",
    "```julia\n",
    "[item1, item2, ...]```"
   ]
  },
  {
   "cell_type": "code",
   "execution_count": 28,
   "metadata": {
    "collapsed": false,
    "nbpresent": {
     "id": "3295e6a9-f0dc-4590-af6e-9b394d4d96bf"
    },
    "slideshow": {
     "slide_type": "subslide"
    }
   },
   "outputs": [
    {
     "data": {
      "text/plain": [
       "4-element Array{Int64,1}:\n",
       " 1\n",
       " 2\n",
       " 3\n",
       " 4"
      ]
     },
     "execution_count": 28,
     "metadata": {},
     "output_type": "execute_result"
    }
   ],
   "source": [
    "# Create a one dimensional 4-element array\n",
    "a = [1, 2, 3, 4] "
   ]
  },
  {
   "cell_type": "code",
   "execution_count": 29,
   "metadata": {
    "collapsed": false
   },
   "outputs": [
    {
     "data": {
      "text/plain": [
       "5-element Array{Any,1}:\n",
       " 1       \n",
       " 2       \n",
       " 3       \n",
       "  \"Ted\"  \n",
       "  \"Robyn\""
      ]
     },
     "execution_count": 29,
     "metadata": {},
     "output_type": "execute_result"
    }
   ],
   "source": [
    "# arrays can contain elements of different types\n",
    "mixture = [1, 2, 3, \"Ted\", \"Robyn\"] "
   ]
  },
  {
   "cell_type": "code",
   "execution_count": 30,
   "metadata": {
    "collapsed": false
   },
   "outputs": [
    {
     "data": {
      "text/plain": [
       "5-element Array{Any,1}:\n",
       " 1       \n",
       " 2       \n",
       "  \"Jane\" \n",
       "  \"Ted\"  \n",
       "  \"Robyn\""
      ]
     },
     "execution_count": 30,
     "metadata": {},
     "output_type": "execute_result"
    }
   ],
   "source": [
    "# We can use indexing to edit an existing element of an array\n",
    "# note that indexing starts at 1 \n",
    "mixture[3] = \"Jane\" \n",
    "mixture  "
   ]
  },
  {
   "cell_type": "code",
   "execution_count": 31,
   "metadata": {
    "collapsed": false
   },
   "outputs": [
    {
     "data": {
      "text/plain": [
       "6-element Array{Any,1}:\n",
       " 1       \n",
       " 2       \n",
       "  \"Jane\" \n",
       "  \"Ted\"  \n",
       "  \"Robyn\"\n",
       " 6       "
      ]
     },
     "execution_count": 31,
     "metadata": {},
     "output_type": "execute_result"
    }
   ],
   "source": [
    "# We can extend a one dimensional array\n",
    "push!(mixture,6) "
   ]
  },
  {
   "cell_type": "code",
   "execution_count": 32,
   "metadata": {
    "collapsed": false
   },
   "outputs": [
    {
     "data": {
      "text/plain": [
       "6"
      ]
     },
     "execution_count": 32,
     "metadata": {},
     "output_type": "execute_result"
    }
   ],
   "source": [
    "# and remove the last element\n",
    "pop!(mixture) "
   ]
  },
  {
   "cell_type": "code",
   "execution_count": 33,
   "metadata": {
    "collapsed": false
   },
   "outputs": [
    {
     "data": {
      "text/plain": [
       "5-element Array{Any,1}:\n",
       " 1       \n",
       " 2       \n",
       "  \"Jane\" \n",
       "  \"Ted\"  \n",
       "  \"Robyn\""
      ]
     },
     "execution_count": 33,
     "metadata": {},
     "output_type": "execute_result"
    }
   ],
   "source": [
    "mixture"
   ]
  },
  {
   "cell_type": "markdown",
   "metadata": {},
   "source": [
    "### Multi-dimensional arrays\n",
    "\n",
    "So far we have only seen examples of only 1D arrays of scalars, but arrays can have an arbitrary number of dimensions and can also store other arrays. "
   ]
  },
  {
   "cell_type": "code",
   "execution_count": 34,
   "metadata": {
    "collapsed": false
   },
   "outputs": [
    {
     "data": {
      "text/plain": [
       "3-element Array{Array{Int64,1},1}:\n",
       " [1, 2, 3]   \n",
       " [4, 5]      \n",
       " [6, 7, 8, 9]"
      ]
     },
     "execution_count": 34,
     "metadata": {},
     "output_type": "execute_result"
    }
   ],
   "source": [
    "# an array of arrays\n",
    "numbers = [[1, 2, 3], [4, 5], [6, 7, 8, 9]] "
   ]
  },
  {
   "cell_type": "code",
   "execution_count": 35,
   "metadata": {
    "collapsed": false
   },
   "outputs": [
    {
     "data": {
      "text/plain": [
       "4×3 Array{Float64,2}:\n",
       " 0.322263  0.806894  0.221721 \n",
       " 0.268743  0.550282  0.0899979\n",
       " 0.879106  0.515386  0.0527664\n",
       " 0.853804  0.190823  0.538399 "
      ]
     },
     "execution_count": 35,
     "metadata": {},
     "output_type": "execute_result"
    }
   ],
   "source": [
    "# a 2D array (4 rows x 3 cols) populated with random reals\n",
    "rand(4, 3)   "
   ]
  },
  {
   "cell_type": "code",
   "execution_count": 36,
   "metadata": {
    "collapsed": false
   },
   "outputs": [
    {
     "data": {
      "text/plain": [
       "4×3×2 Array{Float64,3}:\n",
       "[:, :, 1] =\n",
       " 0.0872923  0.13766   0.55766 \n",
       " 0.803669   0.299372  0.194584\n",
       " 0.90224    0.517908  0.810336\n",
       " 0.799706   0.703979  0.514731\n",
       "\n",
       "[:, :, 2] =\n",
       " 0.57129   0.425869   0.86197 \n",
       " 0.622598  0.193363   0.260236\n",
       " 0.72074   0.0312102  0.621905\n",
       " 0.60262   0.406315   0.564005"
      ]
     },
     "execution_count": 36,
     "metadata": {},
     "output_type": "execute_result"
    }
   ],
   "source": [
    "# a 3D array (4 rows, 3 cols, 2 slices)\n",
    "rand(4, 3, 2) "
   ]
  },
  {
   "cell_type": "markdown",
   "metadata": {},
   "source": [
    "### Copying Arrays\n",
    "\n",
    "Be careful when you want to copy arrays!"
   ]
  },
  {
   "cell_type": "code",
   "execution_count": 37,
   "metadata": {
    "collapsed": false
   },
   "outputs": [
    {
     "data": {
      "text/plain": [
       "7-element Array{Int64,1}:\n",
       " -1\n",
       "  1\n",
       "  2\n",
       "  3\n",
       "  5\n",
       "  8\n",
       " 13"
      ]
     },
     "execution_count": 37,
     "metadata": {},
     "output_type": "execute_result"
    }
   ],
   "source": [
    "# the original array is changed, \n",
    "# because array assignment is by reference\n",
    "fibonacci = [1, 1, 2, 3, 5, 8, 13]   \n",
    "somenumbers = fibonacci   \n",
    "somenumbers[1] = -1   \n",
    "fibonacci  "
   ]
  },
  {
   "cell_type": "code",
   "execution_count": 38,
   "metadata": {
    "collapsed": false
   },
   "outputs": [
    {
     "data": {
      "text/plain": [
       "7-element Array{Int64,1}:\n",
       "  1\n",
       "  1\n",
       "  2\n",
       "  3\n",
       "  5\n",
       "  8\n",
       " 13"
      ]
     },
     "execution_count": 38,
     "metadata": {},
     "output_type": "execute_result"
    }
   ],
   "source": [
    "# the solution is to use the copy function \n",
    "# to make an independent copy of an array.\n",
    "fibonacci = [1, 1, 2, 3, 5, 8, 13]   \n",
    "somenumbers = copy(fibonacci)\n",
    "somenumbers[1] = -1\n",
    "fibonacci "
   ]
  },
  {
   "cell_type": "markdown",
   "metadata": {},
   "source": [
    "For arrays of arrays use `deepcopy` to recursively copy an array stucture!"
   ]
  },
  {
   "cell_type": "markdown",
   "metadata": {
    "nbpresent": {
     "id": "3b84a2df-6b3b-4f45-8096-ff442ff49979"
    },
    "slideshow": {
     "slide_type": "subslide"
    }
   },
   "source": [
    "We can also make an array of a similar size and shape via the function `similar`:"
   ]
  },
  {
   "cell_type": "code",
   "execution_count": 39,
   "metadata": {
    "collapsed": false,
    "nbpresent": {
     "id": "c0dead9d-798b-4fa4-9269-0f5b9ed0cae3"
    },
    "slideshow": {
     "slide_type": "fragment"
    }
   },
   "outputs": [
    {
     "data": {
      "text/plain": [
       "3-element Array{Int64,1}:\n",
       " 4535004784\n",
       " 4676750976\n",
       " 4624380304"
      ]
     },
     "execution_count": 39,
     "metadata": {},
     "output_type": "execute_result"
    }
   ],
   "source": [
    "a = [1, 4, 5]\n",
    "c = similar(a)"
   ]
  },
  {
   "cell_type": "markdown",
   "metadata": {
    "nbpresent": {
     "id": "297979d4-5731-4ec8-af42-41cc919cf49d"
    },
    "slideshow": {
     "slide_type": "subslide"
    }
   },
   "source": [
    "Note that arrays can be index'd by arrays:"
   ]
  },
  {
   "cell_type": "code",
   "execution_count": 40,
   "metadata": {
    "collapsed": false,
    "nbpresent": {
     "id": "e3ecca83-ff3e-4acf-a96d-7f954388facc"
    },
    "slideshow": {
     "slide_type": "fragment"
    }
   },
   "outputs": [
    {
     "data": {
      "text/plain": [
       "2-element Array{Int64,1}:\n",
       " 1\n",
       " 4"
      ]
     },
     "execution_count": 40,
     "metadata": {},
     "output_type": "execute_result"
    }
   ],
   "source": [
    "a[1:2]"
   ]
  },
  {
   "cell_type": "markdown",
   "metadata": {
    "nbpresent": {
     "id": "d30eb10e-a07f-47fd-aeb8-da8b8bedc5e5"
    },
    "slideshow": {
     "slide_type": "slide"
    }
   },
   "source": [
    "## Control Flow\n",
    "\n",
    "Control flow in Julia is pretty standard. You have your basic for and while loops, and your if statements. There's more in the documentation."
   ]
  },
  {
   "cell_type": "code",
   "execution_count": 41,
   "metadata": {
    "collapsed": false,
    "nbpresent": {
     "id": "36bbd6cc-d449-4250-8622-f48ddb8b3b7e"
    },
    "slideshow": {
     "slide_type": "subslide"
    }
   },
   "outputs": [
    {
     "name": "stdout",
     "output_type": "stream",
     "text": [
      "1 2 3 4 5 \n",
      "0 1 2 3 4 \n",
      "yay!\n"
     ]
    }
   ],
   "source": [
    "for i=1:5 #for i goes from 1 to 5\n",
    "    print(i,\" \")\n",
    "end\n",
    "println()\n",
    "\n",
    "t = 0\n",
    "while t<5\n",
    "    print(t,\" \")\n",
    "    t+=1 # t = t + 1\n",
    "end\n",
    "println()\n",
    "\n",
    "school = :UKZN\n",
    "if school==:UKZN\n",
    "    println(\"yay!\")\n",
    "else\n",
    "    println(\"Not even worth discussing.\")\n",
    "end"
   ]
  },
  {
   "cell_type": "markdown",
   "metadata": {
    "nbpresent": {
     "id": "1d39f0ee-dc3d-426d-afbe-cfb2e7dad7c0"
    },
    "slideshow": {
     "slide_type": "slide"
    }
   },
   "source": [
    "### Mutating functions\n",
    "\n",
    "For high performance, Julia provides mutating functions. These functions change the input values that are passed in, instead of returning a new value. \n",
    "\n",
    "By convention, mutating functions tend to be defined with a `!` at the end and tend to mutate their first argument. \n",
    "\n",
    "The purpose of mutating functions is that they allow one to reduce the number of memory allocations which is crucial for achiving high performance."
   ]
  },
  {
   "cell_type": "markdown",
   "metadata": {
    "nbpresent": {
     "id": "22b66a83-b93d-49f4-903b-28a24ab3460b"
    },
    "slideshow": {
     "slide_type": "subslide"
    }
   },
   "source": [
    "One interesting feature about Julia control flow is that we can write multiple loops in one line:"
   ]
  },
  {
   "cell_type": "code",
   "execution_count": 42,
   "metadata": {
    "collapsed": false,
    "nbpresent": {
     "id": "809735c7-0ece-4bf8-bdc4-fd818920c351"
    },
    "slideshow": {
     "slide_type": "fragment"
    }
   },
   "outputs": [
    {
     "name": "stdout",
     "output_type": "stream",
     "text": [
      "2 3 4 4 6 8 "
     ]
    }
   ],
   "source": [
    "for i=1:2,j=2:4\n",
    "    print(i*j,\" \")\n",
    "end"
   ]
  },
  {
   "cell_type": "markdown",
   "metadata": {
    "nbpresent": {
     "id": "b4f49458-317d-4ef5-b45e-a9241ebc0de0"
    },
    "slideshow": {
     "slide_type": "slide"
    }
   },
   "source": [
    "## Function Syntax"
   ]
  },
  {
   "cell_type": "code",
   "execution_count": 43,
   "metadata": {
    "collapsed": false,
    "nbpresent": {
     "id": "10f081f1-5191-43a4-b419-35208ebfe3fb"
    },
    "slideshow": {
     "slide_type": "subslide"
    }
   },
   "outputs": [
    {
     "data": {
      "text/plain": [
       "f (generic function with 1 method)"
      ]
     },
     "execution_count": 43,
     "metadata": {},
     "output_type": "execute_result"
    }
   ],
   "source": [
    "# Create an inline function\n",
    "f(x,y) = 2x+y "
   ]
  },
  {
   "cell_type": "code",
   "execution_count": 44,
   "metadata": {
    "collapsed": false,
    "nbpresent": {
     "id": "2bba0bc6-5f05-4926-986d-5be46b914a26"
    },
    "slideshow": {
     "slide_type": "fragment"
    }
   },
   "outputs": [
    {
     "data": {
      "text/plain": [
       "4"
      ]
     },
     "execution_count": 44,
     "metadata": {},
     "output_type": "execute_result"
    }
   ],
   "source": [
    "# Call the function\n",
    "f(1,2) "
   ]
  },
  {
   "cell_type": "code",
   "execution_count": 45,
   "metadata": {
    "collapsed": false,
    "nbpresent": {
     "id": "c71b517c-0f7e-4446-bd7c-e126397f5abb"
    },
    "slideshow": {
     "slide_type": "fragment"
    }
   },
   "outputs": [
    {
     "data": {
      "text/plain": [
       "f (generic function with 2 methods)"
      ]
     },
     "execution_count": 45,
     "metadata": {},
     "output_type": "execute_result"
    }
   ],
   "source": [
    "# Long form definition\n",
    "function f(x)\n",
    "  x+2  \n",
    "end "
   ]
  },
  {
   "cell_type": "markdown",
   "metadata": {
    "nbpresent": {
     "id": "2c0a973f-c30a-44a8-8a34-ac4d07e3d32d"
    },
    "slideshow": {
     "slide_type": "subslide"
    }
   },
   "source": [
    "By default, Julia functions return the last value computed within them."
   ]
  },
  {
   "cell_type": "code",
   "execution_count": 46,
   "metadata": {
    "collapsed": false,
    "nbpresent": {
     "id": "c9f30117-25e7-4043-b877-8073d0c8f572"
    },
    "slideshow": {
     "slide_type": "fragment"
    }
   },
   "outputs": [
    {
     "data": {
      "text/plain": [
       "4"
      ]
     },
     "execution_count": 46,
     "metadata": {},
     "output_type": "execute_result"
    }
   ],
   "source": [
    "f(2)"
   ]
  },
  {
   "cell_type": "markdown",
   "metadata": {
    "nbpresent": {
     "id": "7a60b9fa-a283-4d90-9ac5-c0399e9380fe"
    },
    "slideshow": {
     "slide_type": "slide"
    }
   },
   "source": [
    "### Multiple Dispatch\n",
    "\n",
    "A key feature of Julia is multiple dispatch. \n",
    "\n",
    "Suppose that there is \"one function\", `f`, with two methods. \n",
    "\n",
    "Methods are the actionable parts of a function. One method defined as `f(::Any,::Any)` and another as `f(::Any)`, meaning that if you give `f` two values then it will call the first method, and if you give it one value then it will call the second method."
   ]
  },
  {
   "cell_type": "markdown",
   "metadata": {
    "nbpresent": {
     "id": "1e7d3790-41d4-40e5-8cbe-d991c92a178e"
    },
    "slideshow": {
     "slide_type": "subslide"
    }
   },
   "source": [
    "Multiple dispatch works on types. To define a dispatch on a type, use a `::Type` signifier:"
   ]
  },
  {
   "cell_type": "code",
   "execution_count": 47,
   "metadata": {
    "collapsed": false,
    "nbpresent": {
     "id": "3f46a087-02a2-4849-a4f2-b3487ad9f81c"
    },
    "slideshow": {
     "slide_type": "fragment"
    }
   },
   "outputs": [
    {
     "data": {
      "text/plain": [
       "f (generic function with 2 methods)"
      ]
     },
     "execution_count": 47,
     "metadata": {},
     "output_type": "execute_result"
    }
   ],
   "source": [
    "f(x,y) = 2x+y "
   ]
  },
  {
   "cell_type": "code",
   "execution_count": 48,
   "metadata": {
    "collapsed": false,
    "nbpresent": {
     "id": "2ca27b9a-53ac-4a4b-a390-27405699879a"
    },
    "slideshow": {
     "slide_type": "fragment"
    }
   },
   "outputs": [
    {
     "data": {
      "text/plain": [
       "f (generic function with 3 methods)"
      ]
     },
     "execution_count": 48,
     "metadata": {},
     "output_type": "execute_result"
    }
   ],
   "source": [
    "f(x::Int,y::Int) = 3x+2y"
   ]
  },
  {
   "cell_type": "markdown",
   "metadata": {
    "nbpresent": {
     "id": "282cdc8f-3e41-4c44-9bdf-04ee8ebff8b4"
    },
    "slideshow": {
     "slide_type": "subslide"
    }
   },
   "source": [
    "Julia will dispatch onto the strictest acceptible type signature."
   ]
  },
  {
   "cell_type": "code",
   "execution_count": 49,
   "metadata": {
    "collapsed": false,
    "nbpresent": {
     "id": "e4c8c30d-a240-481b-8ad4-7298c54f0742"
    },
    "slideshow": {
     "slide_type": "fragment"
    }
   },
   "outputs": [
    {
     "data": {
      "text/plain": [
       "12"
      ]
     },
     "execution_count": 49,
     "metadata": {},
     "output_type": "execute_result"
    }
   ],
   "source": [
    "f(2,3) # 3x+2y"
   ]
  },
  {
   "cell_type": "code",
   "execution_count": 50,
   "metadata": {
    "collapsed": false,
    "nbpresent": {
     "id": "ccc826ae-bf61-45d0-98e8-b3163031b1d9"
    },
    "slideshow": {
     "slide_type": "fragment"
    }
   },
   "outputs": [
    {
     "data": {
      "text/plain": [
       "7.0"
      ]
     },
     "execution_count": 50,
     "metadata": {},
     "output_type": "execute_result"
    }
   ],
   "source": [
    "f(2.0,3) # 2x+y since 2.0 is not an Int"
   ]
  },
  {
   "cell_type": "markdown",
   "metadata": {
    "nbpresent": {
     "id": "5991fb2f-0e09-4bd1-80ea-799bbe2d6cac"
    },
    "slideshow": {
     "slide_type": "subslide"
    }
   },
   "source": [
    "We will go into more depth on multiple dispatch later since this is the core design feature of Julia. \n",
    "\n",
    "The key feature is that Julia functions specialize on the types of their arguments. \n",
    "\n",
    "This means that `f` is a separately compiled function for each method (and for parametric types, each possible method). The first time it is called it will compile."
   ]
  },
  {
   "cell_type": "markdown",
   "metadata": {
    "nbpresent": {
     "id": "61978c6e-71fd-4d4d-b4ae-8462d1311ffb"
    },
    "slideshow": {
     "slide_type": "subslide"
    }
   },
   "source": [
    "functions can also feature optional arguments and return multiple values:"
   ]
  },
  {
   "cell_type": "code",
   "execution_count": 51,
   "metadata": {
    "collapsed": false,
    "nbpresent": {
     "id": "355d0f01-a5ca-4da8-aa91-8a7a0bab36e8"
    },
    "slideshow": {
     "slide_type": "subslide"
    }
   },
   "outputs": [
    {
     "data": {
      "text/plain": [
       "test_function (generic function with 1 method)"
      ]
     },
     "execution_count": 51,
     "metadata": {},
     "output_type": "execute_result"
    }
   ],
   "source": [
    "function test_function(x,y;z=0) #z is an optional argument\n",
    "  if z==0\n",
    "    return x+y,x*y #Return a tuple\n",
    "  else\n",
    "  return x*y*z,x+y+z #Return a different tuple\n",
    "  end \n",
    "end "
   ]
  },
  {
   "cell_type": "code",
   "execution_count": 52,
   "metadata": {
    "collapsed": false,
    "nbpresent": {
     "id": "997708ff-087b-491a-a32c-2f0e6b58706b"
    },
    "slideshow": {
     "slide_type": "fragment"
    }
   },
   "outputs": [
    {
     "data": {
      "text/plain": [
       "(3, 2)"
      ]
     },
     "execution_count": 52,
     "metadata": {},
     "output_type": "execute_result"
    }
   ],
   "source": [
    "x,y = test_function(1,2)"
   ]
  },
  {
   "cell_type": "code",
   "execution_count": 53,
   "metadata": {
    "collapsed": false,
    "nbpresent": {
     "id": "59fb174c-2cfb-41b6-ae01-c546c1f50fe0"
    },
    "slideshow": {
     "slide_type": "fragment"
    }
   },
   "outputs": [
    {
     "data": {
      "text/plain": [
       "(6, 6)"
      ]
     },
     "execution_count": 53,
     "metadata": {},
     "output_type": "execute_result"
    }
   ],
   "source": [
    "x,y = test_function(1,2;z=3)"
   ]
  },
  {
   "cell_type": "markdown",
   "metadata": {
    "nbpresent": {
     "id": "f112fe57-0351-48a5-a4ee-3dfc59d739fb"
    },
    "slideshow": {
     "slide_type": "subslide"
    }
   },
   "source": [
    "The return type for multiple return values is a Tuple. \n",
    "\n",
    "The syntax for a tuple is `(x,y,z,...)` or inside of functions you can use the shorthand `x,y,z,...` "
   ]
  },
  {
   "cell_type": "markdown",
   "metadata": {
    "nbpresent": {
     "id": "8b44f0c2-4879-4024-b338-0e1a23b0a47d"
    },
    "slideshow": {
     "slide_type": "subslide"
    }
   },
   "source": [
    "Note that functions in Julia are \"first-class\". This means that functions are just a type themselves. \n",
    "\n",
    "Therefore functions can make functions, you can store functions as variables, pass them as variables and return them. \n",
    "\n",
    "For example:"
   ]
  },
  {
   "cell_type": "code",
   "execution_count": 54,
   "metadata": {
    "collapsed": false,
    "nbpresent": {
     "id": "eba43333-d471-481e-9c36-0ef404ffe84d"
    },
    "slideshow": {
     "slide_type": "subslide"
    }
   },
   "outputs": [
    {
     "data": {
      "text/plain": [
       "playtime (generic function with 1 method)"
      ]
     },
     "execution_count": 54,
     "metadata": {},
     "output_type": "execute_result"
    }
   ],
   "source": [
    "function playtime(x) \n",
    "    y = 2+x\n",
    "    function test(z=1)\n",
    "        2y + z # y is defined in the previous scope, so it's available here\n",
    "    end\n",
    "    z = test() * test()\n",
    "    return z,test\n",
    "end #End function definition"
   ]
  },
  {
   "cell_type": "code",
   "execution_count": 55,
   "metadata": {
    "collapsed": false,
    "nbpresent": {
     "id": "d097dbf9-d147-4258-a388-9b4113f2e05b"
    },
    "slideshow": {
     "slide_type": "fragment"
    }
   },
   "outputs": [
    {
     "data": {
      "text/plain": [
       "(81, getfield(Main, Symbol(\"#test#4\")){Int64}(4))"
      ]
     },
     "execution_count": 55,
     "metadata": {},
     "output_type": "execute_result"
    }
   ],
   "source": [
    "z,t = playtime(2)"
   ]
  },
  {
   "cell_type": "code",
   "execution_count": 56,
   "metadata": {
    "collapsed": false,
    "nbpresent": {
     "id": "9bd087be-95e0-4640-b743-599504a3cb5b"
    },
    "slideshow": {
     "slide_type": "fragment"
    }
   },
   "outputs": [
    {
     "data": {
      "text/plain": [
       "11"
      ]
     },
     "execution_count": 56,
     "metadata": {},
     "output_type": "execute_result"
    }
   ],
   "source": [
    "t(3)"
   ]
  },
  {
   "cell_type": "markdown",
   "metadata": {
    "nbpresent": {
     "id": "11954bd7-c98c-4ac4-bab0-b33e45f75b99"
    },
    "slideshow": {
     "slide_type": "subslide"
    }
   },
   "source": [
    "Lastly we show the anonymous function syntax. This allows you to define a function inline. "
   ]
  },
  {
   "cell_type": "code",
   "execution_count": 57,
   "metadata": {
    "collapsed": false,
    "nbpresent": {
     "id": "ac36f756-0c36-478f-8cab-f02224efd56b"
    },
    "slideshow": {
     "slide_type": "fragment"
    }
   },
   "outputs": [
    {
     "data": {
      "text/plain": [
       "#5 (generic function with 1 method)"
      ]
     },
     "execution_count": 57,
     "metadata": {},
     "output_type": "execute_result"
    }
   ],
   "source": [
    "g = (x,y) -> 2x+y"
   ]
  },
  {
   "cell_type": "code",
   "execution_count": 58,
   "metadata": {
    "collapsed": false,
    "nbpresent": {
     "id": "47b6e738-b625-4362-99f0-342bc51b7253"
    },
    "slideshow": {
     "slide_type": "fragment"
    }
   },
   "outputs": [
    {
     "data": {
      "text/plain": [
       "26"
      ]
     },
     "execution_count": 58,
     "metadata": {},
     "output_type": "execute_result"
    }
   ],
   "source": [
    "((x,y) -> 4x+2y)(4,5)"
   ]
  },
  {
   "cell_type": "markdown",
   "metadata": {
    "nbpresent": {
     "id": "401f4956-df5f-47c7-8d9b-4e618844f4e9"
    },
    "slideshow": {
     "slide_type": "subslide"
    }
   },
   "source": [
    "Unlike named functions, `g` is simply a function in a variable and can be overwritten at any time:"
   ]
  },
  {
   "cell_type": "code",
   "execution_count": 59,
   "metadata": {
    "collapsed": false,
    "nbpresent": {
     "id": "903ce1be-1237-4bce-af3c-dcd65c926123"
    },
    "slideshow": {
     "slide_type": "fragment"
    }
   },
   "outputs": [
    {
     "data": {
      "text/plain": [
       "#9 (generic function with 1 method)"
      ]
     },
     "execution_count": 59,
     "metadata": {},
     "output_type": "execute_result"
    }
   ],
   "source": [
    "g = (x) -> 2x"
   ]
  },
  {
   "cell_type": "code",
   "execution_count": 60,
   "metadata": {
    "collapsed": false,
    "nbpresent": {
     "id": "c4392557-e86b-4a53-b53e-f93f4f840899"
    },
    "slideshow": {
     "slide_type": "fragment"
    }
   },
   "outputs": [
    {
     "data": {
      "text/plain": [
       "6"
      ]
     },
     "execution_count": 60,
     "metadata": {},
     "output_type": "execute_result"
    }
   ],
   "source": [
    "g(3)"
   ]
  },
  {
   "cell_type": "markdown",
   "metadata": {
    "nbpresent": {
     "id": "69fb4ef7-e3d0-4086-97aa-6acd5f200a24"
    },
    "slideshow": {
     "slide_type": "subslide"
    }
   },
   "source": [
    "An anonymous function cannot have more than 1 dispatch. However, as of v0.5, they are compiled and thus do not have any performance disadvantages from named functions."
   ]
  },
  {
   "cell_type": "markdown",
   "metadata": {},
   "source": [
    "### Mutating functions\n",
    "\n",
    "For high performance, Julia provides mutating functions. These functions change the input values that are passed in, instead of returning a new value. \n",
    "\n",
    "By convention, mutating functions tend to be defined with a `!` at the end and tend to mutate their first argument. \n",
    "\n",
    "The purpose of mutating functions is that they allow one to reduce the number of memory allocations which is crucial for achiving high performance."
   ]
  },
  {
   "cell_type": "markdown",
   "metadata": {
    "nbpresent": {
     "id": "07f53909-ac75-488e-b598-7f49cb3cb938"
    },
    "slideshow": {
     "slide_type": "slide"
    }
   },
   "source": [
    "### Structures\n",
    "\n",
    "A type is what in many other languages is an \"object\" a thing which has named components. \n",
    "\n",
    "An instantiation of the type is a specific one. \n",
    "\n",
    "For example, you can think of a car as having an make and a model. So that means a Toyota RAV4 is an instantiation of the car type."
   ]
  },
  {
   "cell_type": "markdown",
   "metadata": {
    "nbpresent": {
     "id": "740e86cd-eccc-4968-bf87-9804415de9c5"
    },
    "slideshow": {
     "slide_type": "subslide"
    }
   },
   "source": [
    "In Julia, we would define a car using the `struct` keyword as follows:"
   ]
  },
  {
   "cell_type": "code",
   "execution_count": 61,
   "metadata": {
    "collapsed": false,
    "nbpresent": {
     "id": "5628ac66-3bde-45f4-bce8-85c7be769a0f"
    },
    "slideshow": {
     "slide_type": "fragment"
    }
   },
   "outputs": [],
   "source": [
    "struct Car\n",
    "    make\n",
    "    model\n",
    "end"
   ]
  },
  {
   "cell_type": "markdown",
   "metadata": {
    "nbpresent": {
     "id": "a4c37f98-1383-49ac-b42b-6c3211c2c58b"
    },
    "slideshow": {
     "slide_type": "fragment"
    }
   },
   "source": [
    "We could then make the instance of a car as follows:"
   ]
  },
  {
   "cell_type": "code",
   "execution_count": 62,
   "metadata": {
    "collapsed": false,
    "nbpresent": {
     "id": "2557571a-cee7-4022-9d94-9af80fd6fecc"
    },
    "slideshow": {
     "slide_type": "fragment"
    }
   },
   "outputs": [
    {
     "data": {
      "text/plain": [
       "Car(\"Toyota\", \"Rav4\")"
      ]
     },
     "execution_count": 62,
     "metadata": {},
     "output_type": "execute_result"
    }
   ],
   "source": [
    "mycar = Car(\"Toyota\",\"Rav4\")"
   ]
  },
  {
   "cell_type": "code",
   "execution_count": 63,
   "metadata": {
    "collapsed": false,
    "nbpresent": {
     "id": "fa9dced1-ff08-4a82-a0dd-214c4c60a848"
    },
    "slideshow": {
     "slide_type": "fragment"
    }
   },
   "outputs": [
    {
     "data": {
      "text/plain": [
       "\"Toyota\""
      ]
     },
     "execution_count": 63,
     "metadata": {},
     "output_type": "execute_result"
    }
   ],
   "source": [
    "mycar.make"
   ]
  },
  {
   "cell_type": "markdown",
   "metadata": {
    "nbpresent": {
     "id": "b4215b33-dfbc-4f10-9d1b-667be4de108f"
    },
    "slideshow": {
     "slide_type": "subslide"
    }
   },
   "source": [
    "As with functions, a `struct` can be set \"parametrically\". For example, we can have an `StaffMember` have a `name` and a `field` (of type `:Symbol`) and an age. We can allow this age to be any `Number` type as follows:"
   ]
  },
  {
   "cell_type": "code",
   "execution_count": 64,
   "metadata": {
    "collapsed": false,
    "nbpresent": {
     "id": "69d08520-e9f4-4fd3-ab57-e36de816cdf2"
    },
    "slideshow": {
     "slide_type": "fragment"
    }
   },
   "outputs": [
    {
     "data": {
      "text/plain": [
       "StaffMember{Int64}(\"Terry\", :football, 17)"
      ]
     },
     "execution_count": 64,
     "metadata": {},
     "output_type": "execute_result"
    }
   ],
   "source": [
    "struct StaffMember{T<:Number}\n",
    "    name::String\n",
    "    field::Symbol\n",
    "    age::T\n",
    "end\n",
    "ter = StaffMember(\"Terry\",:football,17)"
   ]
  },
  {
   "cell_type": "markdown",
   "metadata": {
    "nbpresent": {
     "id": "9e012148-9d4b-49cd-8ed5-f9e8d3921f1f"
    },
    "slideshow": {
     "slide_type": "subslide"
    }
   },
   "source": [
    "Most of Julia's types, like Float64 and Int, are natively defined in Julia in this manner.\n",
    "\n",
    "This means that there's no limit for user defined types, only your imagination. "
   ]
  },
  {
   "cell_type": "markdown",
   "metadata": {
    "nbpresent": {
     "id": "a3409a40-e7d8-4373-ade1-c89d111163a5"
    },
    "slideshow": {
     "slide_type": "subslide"
    }
   },
   "source": [
    "Julia also has abstract types. \n",
    "\n",
    "These types cannot be instantiated but are used to build the type hierarchy. \n",
    "\n",
    "You've already seen one abstract type, Number. "
   ]
  },
  {
   "cell_type": "markdown",
   "metadata": {
    "nbpresent": {
     "id": "9b5cb3b6-33f3-4ac3-a5bf-c39b440ba63a"
    },
    "slideshow": {
     "slide_type": "fragment"
    }
   },
   "source": [
    "You can define type heirarchies on abstract types. See the beautiful explanation at:\n",
    "\n",
    "https://docs.julialang.org/en/v1/manual/types/index.html#Abstract-Types-1"
   ]
  },
  {
   "cell_type": "markdown",
   "metadata": {
    "nbpresent": {
     "id": "5671812e-8321-4e9a-95fc-7449d7d9936c"
    },
    "slideshow": {
     "slide_type": "subslide"
    }
   },
   "source": [
    "Another \"version\" of type is `immutable`.\n",
    "\n",
    "When one uses `immutable`, the fields of the type cannot be changed. \n",
    "\n",
    "Many things like Julia's built-in Number types are defined as `immutable` in order to give good performance."
   ]
  },
  {
   "cell_type": "markdown",
   "metadata": {
    "nbpresent": {
     "id": "e4630ce7-b0f6-4519-8b38-3262ea9ce037"
    },
    "slideshow": {
     "slide_type": "subslide"
    }
   },
   "source": [
    "### Lazy Iterator Types\n",
    "\n",
    "While MATLAB or Python has easy functions for building arrays, Julia tends to side-step the actual \"array\" part with specially made types. One such example are ranges. To define a range, use the `start:stepsize:end` syntax. For example:"
   ]
  },
  {
   "cell_type": "code",
   "execution_count": 65,
   "metadata": {
    "collapsed": false,
    "nbpresent": {
     "id": "4f86ca29-ab66-4dd8-bd8d-602056be7e01"
    },
    "slideshow": {
     "slide_type": "subslide"
    }
   },
   "outputs": [
    {
     "name": "stdout",
     "output_type": "stream",
     "text": [
      "1:5\n",
      "1:2:9\n"
     ]
    }
   ],
   "source": [
    "a = 1:5\n",
    "println(a)\n",
    "b = 1:2:10\n",
    "println(b)"
   ]
  },
  {
   "cell_type": "markdown",
   "metadata": {
    "nbpresent": {
     "id": "f401b27e-ae0d-4b47-8a9a-99dc80b293ee"
    },
    "slideshow": {
     "slide_type": "fragment"
    }
   },
   "source": [
    "We can use them like any array. For example:"
   ]
  },
  {
   "cell_type": "code",
   "execution_count": 66,
   "metadata": {
    "collapsed": false,
    "nbpresent": {
     "id": "ba08d548-735e-4619-afb5-2150c011b41b"
    },
    "slideshow": {
     "slide_type": "fragment"
    }
   },
   "outputs": [
    {
     "name": "stdout",
     "output_type": "stream",
     "text": [
      "2\n",
      "5\n"
     ]
    }
   ],
   "source": [
    "println(a[2]); println(b[3])"
   ]
  },
  {
   "cell_type": "markdown",
   "metadata": {
    "nbpresent": {
     "id": "2fb8dc43-a630-4d3e-bc45-c32743c6b27c"
    },
    "slideshow": {
     "slide_type": "subslide"
    }
   },
   "source": [
    "But what is `b`?"
   ]
  },
  {
   "cell_type": "code",
   "execution_count": 67,
   "metadata": {
    "collapsed": false,
    "nbpresent": {
     "id": "aa4c36c2-ecfa-478e-9331-f42f6b85ad3b"
    },
    "slideshow": {
     "slide_type": "fragment"
    }
   },
   "outputs": [
    {
     "name": "stdout",
     "output_type": "stream",
     "text": [
      "StepRange{Int64,Int64}\n"
     ]
    }
   ],
   "source": [
    "println(typeof(b))"
   ]
  },
  {
   "cell_type": "markdown",
   "metadata": {
    "nbpresent": {
     "id": "09da4ee6-d0f2-49b5-8e35-6362b21f1825"
    },
    "slideshow": {
     "slide_type": "fragment"
    }
   },
   "source": [
    "`b` isn't an array, it's a StepRange. A StepRange has the ability to act like an array using its fields:"
   ]
  },
  {
   "cell_type": "code",
   "execution_count": 68,
   "metadata": {
    "collapsed": false,
    "nbpresent": {
     "id": "f771b4ed-b54b-4009-8b33-0f95a0ac7485"
    },
    "slideshow": {
     "slide_type": "fragment"
    }
   },
   "outputs": [
    {
     "data": {
      "text/plain": [
       "(:start, :step, :stop)"
      ]
     },
     "execution_count": 68,
     "metadata": {},
     "output_type": "execute_result"
    }
   ],
   "source": [
    "fieldnames(StepRange)"
   ]
  },
  {
   "cell_type": "markdown",
   "metadata": {
    "nbpresent": {
     "id": "ba76ba0c-fc86-4a77-b4ec-fa9a1fd0dcd2"
    },
    "slideshow": {
     "slide_type": "subslide"
    }
   },
   "source": [
    "Note that at any time we can get the array from these kinds of type via the `collect` function:"
   ]
  },
  {
   "cell_type": "code",
   "execution_count": 69,
   "metadata": {
    "collapsed": false,
    "nbpresent": {
     "id": "a5ee4ea2-8a60-4b53-ac74-781c07f0153a"
    },
    "slideshow": {
     "slide_type": "fragment"
    }
   },
   "outputs": [
    {
     "data": {
      "text/plain": [
       "5-element Array{Int64,1}:\n",
       " 1\n",
       " 2\n",
       " 3\n",
       " 4\n",
       " 5"
      ]
     },
     "execution_count": 69,
     "metadata": {},
     "output_type": "execute_result"
    }
   ],
   "source": [
    "c = collect(a)"
   ]
  },
  {
   "cell_type": "markdown",
   "metadata": {
    "nbpresent": {
     "id": "a3b9a58a-3602-4b3c-b41a-3043806603ab"
    },
    "slideshow": {
     "slide_type": "subslide"
    }
   },
   "source": [
    "The reason why lazy iterator types are preferred is that they do not do the computations until it's absolutely necessary, and they take up much less space. \n",
    "\n",
    "We can check this with `@time`:"
   ]
  },
  {
   "cell_type": "code",
   "execution_count": 70,
   "metadata": {
    "collapsed": false,
    "nbpresent": {
     "id": "787b39f3-98f4-4066-823b-6d83d05f07fb"
    },
    "slideshow": {
     "slide_type": "subslide"
    }
   },
   "outputs": [
    {
     "name": "stdout",
     "output_type": "stream",
     "text": [
      "  0.000004 seconds (5 allocations: 192 bytes)\n",
      "  0.000004 seconds (5 allocations: 192 bytes)\n",
      "  0.000359 seconds (7 allocations: 781.516 KiB)\n"
     ]
    }
   ],
   "source": [
    "@time a = 1:100000\n",
    "@time a = 1:100\n",
    "@time b = collect(1:100000);"
   ]
  },
  {
   "cell_type": "markdown",
   "metadata": {
    "nbpresent": {
     "id": "9631de28-19e6-4333-92a1-00e7dbded01a"
    },
    "slideshow": {
     "slide_type": "fragment"
    }
   },
   "source": [
    "Notice that the amount of time the range takes is much shorter. This is mostly because there is a lot less memory allocation needed: only a `StepRange` is built, and all that holds is the three numbers. However, `b` has to hold `100000` numbers, leading to the huge difference."
   ]
  },
  {
   "cell_type": "markdown",
   "metadata": {
    "nbpresent": {
     "id": "dbea5e89-4693-4372-9807-091fc04a0a4b"
    },
    "slideshow": {
     "slide_type": "slide"
    }
   },
   "source": [
    "### Metaprogramming\n",
    "\n",
    "Metaprogramming is a huge feature of Julia. The key idea is that every statement in Julia is of the type `Expression`. \n",
    "\n",
    "Thus you can think of metaprogramming as \"code which takes in code and outputs code\". One basic example is the `@time` macro:"
   ]
  },
  {
   "cell_type": "code",
   "execution_count": 71,
   "metadata": {
    "collapsed": false,
    "nbpresent": {
     "id": "1e40fe0c-b837-41d2-a745-e7aad16eef83"
    },
    "slideshow": {
     "slide_type": "subslide"
    }
   },
   "outputs": [
    {
     "data": {
      "text/plain": [
       "@my_time (macro with 1 method)"
      ]
     },
     "execution_count": 71,
     "metadata": {},
     "output_type": "execute_result"
    }
   ],
   "source": [
    "macro my_time(ex)\n",
    "  return quote\n",
    "    local t0 = time()\n",
    "    local val = $ex\n",
    "    local t1 = time()\n",
    "    println(\"elapsed time: \", t1-t0, \" seconds\")\n",
    "    val\n",
    "  end\n",
    "end"
   ]
  },
  {
   "cell_type": "code",
   "execution_count": 72,
   "metadata": {
    "collapsed": false
   },
   "outputs": [
    {
     "name": "stdout",
     "output_type": "stream",
     "text": [
      "elapsed time: 0.0004470348358154297 seconds\n"
     ]
    }
   ],
   "source": [
    "@my_time(collect(1:100000));"
   ]
  },
  {
   "cell_type": "markdown",
   "metadata": {
    "nbpresent": {
     "id": "3c5c3b09-f2fc-4ff4-a83a-010d382d3df7"
    },
    "slideshow": {
     "slide_type": "fragment"
    }
   },
   "source": [
    "This takes in an expression `ex`, gets the time before and after evaluation, and prints the elapsed time. Note that `$ex` \"interpolates\" the expression into the macro. "
   ]
  },
  {
   "cell_type": "markdown",
   "metadata": {
    "nbpresent": {
     "id": "f76d47f1-3486-464d-9522-5848f853f57c"
    },
    "slideshow": {
     "slide_type": "slide"
    }
   },
   "source": [
    "## Exercise\n",
    "\n",
    "Here’s a full whisky bottle. It has \n",
    "\n",
    "* a height of 27cm and \n",
    "* a diameter of 7cm, and \n",
    "* contains 750 cubic centimetres of whisky. \n",
    "\n",
    "It has a dome-like indentation at the bottom like many bottles have."
   ]
  },
  {
   "cell_type": "markdown",
   "metadata": {
    "nbpresent": {
     "id": "eadaacc7-1cb3-44ba-b478-8fc95010ef3d"
    },
    "slideshow": {
     "slide_type": "subslide"
    }
   },
   "source": [
    "<div style=\"width: 600px;\">![full bottle](images/full.jpg \"Full Bottle\")</div>"
   ]
  },
  {
   "cell_type": "markdown",
   "metadata": {
    "nbpresent": {
     "id": "10401695-882f-4f84-b5e2-ef3cc4a69372"
    },
    "slideshow": {
     "slide_type": "subslide"
    }
   },
   "source": [
    "You were hoping for a dry January but spectacularly fell off the wagon last night. \n",
    "\n",
    "You can’t remember what happened but now bottle only has 14cm of whisky left in it. \n",
    "\n",
    "When you turn the bottle over, it has 19cm of whisky. "
   ]
  },
  {
   "cell_type": "markdown",
   "metadata": {
    "nbpresent": {
     "id": "960e35b4-d635-4a64-aeaa-645a9bc44fd6"
    },
    "slideshow": {
     "slide_type": "subslide"
    }
   },
   "source": [
    "<div style=\"width: 600px;\">![partially empty bottle](images/not_full.jpg \"partially empty bottle\")</div>"
   ]
  },
  {
   "cell_type": "markdown",
   "metadata": {
    "nbpresent": {
     "id": "1d470f08-36b9-4c4e-9c7f-01996e5f2f32"
    },
    "slideshow": {
     "slide_type": "fragment"
    }
   },
   "source": [
    "Exercise: Write a Julia script that takes two numbers as input and then prints out how many cubic centermeters of whiskey is left in the bottle."
   ]
  }
 ],
 "metadata": {
  "anaconda-cloud": {},
  "kernelspec": {
   "display_name": "Julia 1.0.1",
   "language": "julia",
   "name": "julia-1.0"
  },
  "language_info": {
   "file_extension": ".jl",
   "mimetype": "application/julia",
   "name": "julia",
   "version": "1.0.1"
  }
 },
 "nbformat": 4,
 "nbformat_minor": 0
}
