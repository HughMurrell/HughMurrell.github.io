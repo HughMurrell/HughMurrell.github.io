{
 "cells": [
  {
   "cell_type": "markdown",
   "metadata": {
    "slideshow": {
     "slide_type": "slide"
    }
   },
   "source": [
    "# Linear Regression with Julia and Flux"
   ]
  },
  {
   "cell_type": "code",
   "execution_count": 1,
   "metadata": {
    "collapsed": false
   },
   "outputs": [
    {
     "data": {
      "image/svg+xml": [
       "<?xml version=\"1.0\" encoding=\"utf-8\"?>\n",
       "<svg xmlns=\"http://www.w3.org/2000/svg\" xmlns:xlink=\"http://www.w3.org/1999/xlink\" width=\"600\" height=\"400\" viewBox=\"0 0 2400 1600\">\n",
       "<defs>\n",
       "  <clipPath id=\"clip6900\">\n",
       "    <rect x=\"0\" y=\"0\" width=\"2000\" height=\"2000\"/>\n",
       "  </clipPath>\n",
       "</defs>\n",
       "<defs>\n",
       "  <clipPath id=\"clip6901\">\n",
       "    <rect x=\"0\" y=\"0\" width=\"2400\" height=\"1600\"/>\n",
       "  </clipPath>\n",
       "</defs>\n",
       "<polygon clip-path=\"url(#clip6901)\" points=\"\n",
       "0,1600 2400,1600 2400,0 0,0 \n",
       "  \" fill=\"#ffffff\" fill-rule=\"evenodd\" fill-opacity=\"1\"/>\n",
       "<defs>\n",
       "  <clipPath id=\"clip6902\">\n",
       "    <rect x=\"480\" y=\"0\" width=\"1681\" height=\"1600\"/>\n",
       "  </clipPath>\n",
       "</defs>\n",
       "<polygon clip-path=\"url(#clip6901)\" points=\"\n",
       "174.775,1503.47 2321.26,1503.47 2321.26,47.2441 174.775,47.2441 \n",
       "  \" fill=\"#ffffff\" fill-rule=\"evenodd\" fill-opacity=\"1\"/>\n",
       "<defs>\n",
       "  <clipPath id=\"clip6903\">\n",
       "    <rect x=\"174\" y=\"47\" width=\"2147\" height=\"1457\"/>\n",
       "  </clipPath>\n",
       "</defs>\n",
       "<polyline clip-path=\"url(#clip6903)\" style=\"stroke:#000000; stroke-width:2; stroke-opacity:0.1; fill:none\" points=\"\n",
       "  203.677,1503.47 203.677,47.2441 \n",
       "  \"/>\n",
       "<polyline clip-path=\"url(#clip6903)\" style=\"stroke:#000000; stroke-width:2; stroke-opacity:0.1; fill:none\" points=\"\n",
       "  719.677,1503.47 719.677,47.2441 \n",
       "  \"/>\n",
       "<polyline clip-path=\"url(#clip6903)\" style=\"stroke:#000000; stroke-width:2; stroke-opacity:0.1; fill:none\" points=\"\n",
       "  1235.68,1503.47 1235.68,47.2441 \n",
       "  \"/>\n",
       "<polyline clip-path=\"url(#clip6903)\" style=\"stroke:#000000; stroke-width:2; stroke-opacity:0.1; fill:none\" points=\"\n",
       "  1751.68,1503.47 1751.68,47.2441 \n",
       "  \"/>\n",
       "<polyline clip-path=\"url(#clip6903)\" style=\"stroke:#000000; stroke-width:2; stroke-opacity:0.1; fill:none\" points=\"\n",
       "  2267.68,1503.47 2267.68,47.2441 \n",
       "  \"/>\n",
       "<polyline clip-path=\"url(#clip6903)\" style=\"stroke:#000000; stroke-width:2; stroke-opacity:0.1; fill:none\" points=\"\n",
       "  174.775,1323.5 2321.26,1323.5 \n",
       "  \"/>\n",
       "<polyline clip-path=\"url(#clip6903)\" style=\"stroke:#000000; stroke-width:2; stroke-opacity:0.1; fill:none\" points=\"\n",
       "  174.775,1047.74 2321.26,1047.74 \n",
       "  \"/>\n",
       "<polyline clip-path=\"url(#clip6903)\" style=\"stroke:#000000; stroke-width:2; stroke-opacity:0.1; fill:none\" points=\"\n",
       "  174.775,771.975 2321.26,771.975 \n",
       "  \"/>\n",
       "<polyline clip-path=\"url(#clip6903)\" style=\"stroke:#000000; stroke-width:2; stroke-opacity:0.1; fill:none\" points=\"\n",
       "  174.775,496.212 2321.26,496.212 \n",
       "  \"/>\n",
       "<polyline clip-path=\"url(#clip6903)\" style=\"stroke:#000000; stroke-width:2; stroke-opacity:0.1; fill:none\" points=\"\n",
       "  174.775,220.449 2321.26,220.449 \n",
       "  \"/>\n",
       "<polyline clip-path=\"url(#clip6901)\" style=\"stroke:#000000; stroke-width:4; stroke-opacity:1; fill:none\" points=\"\n",
       "  174.775,1503.47 2321.26,1503.47 \n",
       "  \"/>\n",
       "<polyline clip-path=\"url(#clip6901)\" style=\"stroke:#000000; stroke-width:4; stroke-opacity:1; fill:none\" points=\"\n",
       "  174.775,1503.47 174.775,47.2441 \n",
       "  \"/>\n",
       "<polyline clip-path=\"url(#clip6901)\" style=\"stroke:#000000; stroke-width:4; stroke-opacity:1; fill:none\" points=\"\n",
       "  203.677,1503.47 203.677,1481.63 \n",
       "  \"/>\n",
       "<polyline clip-path=\"url(#clip6901)\" style=\"stroke:#000000; stroke-width:4; stroke-opacity:1; fill:none\" points=\"\n",
       "  719.677,1503.47 719.677,1481.63 \n",
       "  \"/>\n",
       "<polyline clip-path=\"url(#clip6901)\" style=\"stroke:#000000; stroke-width:4; stroke-opacity:1; fill:none\" points=\"\n",
       "  1235.68,1503.47 1235.68,1481.63 \n",
       "  \"/>\n",
       "<polyline clip-path=\"url(#clip6901)\" style=\"stroke:#000000; stroke-width:4; stroke-opacity:1; fill:none\" points=\"\n",
       "  1751.68,1503.47 1751.68,1481.63 \n",
       "  \"/>\n",
       "<polyline clip-path=\"url(#clip6901)\" style=\"stroke:#000000; stroke-width:4; stroke-opacity:1; fill:none\" points=\"\n",
       "  2267.68,1503.47 2267.68,1481.63 \n",
       "  \"/>\n",
       "<polyline clip-path=\"url(#clip6901)\" style=\"stroke:#000000; stroke-width:4; stroke-opacity:1; fill:none\" points=\"\n",
       "  174.775,1323.5 206.972,1323.5 \n",
       "  \"/>\n",
       "<polyline clip-path=\"url(#clip6901)\" style=\"stroke:#000000; stroke-width:4; stroke-opacity:1; fill:none\" points=\"\n",
       "  174.775,1047.74 206.972,1047.74 \n",
       "  \"/>\n",
       "<polyline clip-path=\"url(#clip6901)\" style=\"stroke:#000000; stroke-width:4; stroke-opacity:1; fill:none\" points=\"\n",
       "  174.775,771.975 206.972,771.975 \n",
       "  \"/>\n",
       "<polyline clip-path=\"url(#clip6901)\" style=\"stroke:#000000; stroke-width:4; stroke-opacity:1; fill:none\" points=\"\n",
       "  174.775,496.212 206.972,496.212 \n",
       "  \"/>\n",
       "<polyline clip-path=\"url(#clip6901)\" style=\"stroke:#000000; stroke-width:4; stroke-opacity:1; fill:none\" points=\"\n",
       "  174.775,220.449 206.972,220.449 \n",
       "  \"/>\n",
       "<g clip-path=\"url(#clip6901)\">\n",
       "<text style=\"fill:#000000; fill-opacity:1; font-family:Arial,Helvetica Neue,Helvetica,sans-serif; font-size:48px; text-anchor:middle;\" transform=\"rotate(0, 203.677, 1557.47)\" x=\"203.677\" y=\"1557.47\">0.00</text>\n",
       "</g>\n",
       "<g clip-path=\"url(#clip6901)\">\n",
       "<text style=\"fill:#000000; fill-opacity:1; font-family:Arial,Helvetica Neue,Helvetica,sans-serif; font-size:48px; text-anchor:middle;\" transform=\"rotate(0, 719.677, 1557.47)\" x=\"719.677\" y=\"1557.47\">0.25</text>\n",
       "</g>\n",
       "<g clip-path=\"url(#clip6901)\">\n",
       "<text style=\"fill:#000000; fill-opacity:1; font-family:Arial,Helvetica Neue,Helvetica,sans-serif; font-size:48px; text-anchor:middle;\" transform=\"rotate(0, 1235.68, 1557.47)\" x=\"1235.68\" y=\"1557.47\">0.50</text>\n",
       "</g>\n",
       "<g clip-path=\"url(#clip6901)\">\n",
       "<text style=\"fill:#000000; fill-opacity:1; font-family:Arial,Helvetica Neue,Helvetica,sans-serif; font-size:48px; text-anchor:middle;\" transform=\"rotate(0, 1751.68, 1557.47)\" x=\"1751.68\" y=\"1557.47\">0.75</text>\n",
       "</g>\n",
       "<g clip-path=\"url(#clip6901)\">\n",
       "<text style=\"fill:#000000; fill-opacity:1; font-family:Arial,Helvetica Neue,Helvetica,sans-serif; font-size:48px; text-anchor:middle;\" transform=\"rotate(0, 2267.68, 1557.47)\" x=\"2267.68\" y=\"1557.47\">1.00</text>\n",
       "</g>\n",
       "<g clip-path=\"url(#clip6901)\">\n",
       "<text style=\"fill:#000000; fill-opacity:1; font-family:Arial,Helvetica Neue,Helvetica,sans-serif; font-size:48px; text-anchor:end;\" transform=\"rotate(0, 150.775, 1341)\" x=\"150.775\" y=\"1341\">60</text>\n",
       "</g>\n",
       "<g clip-path=\"url(#clip6901)\">\n",
       "<text style=\"fill:#000000; fill-opacity:1; font-family:Arial,Helvetica Neue,Helvetica,sans-serif; font-size:48px; text-anchor:end;\" transform=\"rotate(0, 150.775, 1065.24)\" x=\"150.775\" y=\"1065.24\">80</text>\n",
       "</g>\n",
       "<g clip-path=\"url(#clip6901)\">\n",
       "<text style=\"fill:#000000; fill-opacity:1; font-family:Arial,Helvetica Neue,Helvetica,sans-serif; font-size:48px; text-anchor:end;\" transform=\"rotate(0, 150.775, 789.475)\" x=\"150.775\" y=\"789.475\">100</text>\n",
       "</g>\n",
       "<g clip-path=\"url(#clip6901)\">\n",
       "<text style=\"fill:#000000; fill-opacity:1; font-family:Arial,Helvetica Neue,Helvetica,sans-serif; font-size:48px; text-anchor:end;\" transform=\"rotate(0, 150.775, 513.712)\" x=\"150.775\" y=\"513.712\">120</text>\n",
       "</g>\n",
       "<g clip-path=\"url(#clip6901)\">\n",
       "<text style=\"fill:#000000; fill-opacity:1; font-family:Arial,Helvetica Neue,Helvetica,sans-serif; font-size:48px; text-anchor:end;\" transform=\"rotate(0, 150.775, 237.949)\" x=\"150.775\" y=\"237.949\">140</text>\n",
       "</g>\n",
       "<circle clip-path=\"url(#clip6903)\" style=\"fill:#000000; stroke:none; fill-opacity:1\" cx=\"1998.56\" cy=\"264.877\" r=\"18\"/>\n",
       "<circle clip-path=\"url(#clip6903)\" style=\"fill:#009af9; stroke:none; fill-opacity:1\" cx=\"1998.56\" cy=\"264.877\" r=\"14\"/>\n",
       "<circle clip-path=\"url(#clip6903)\" style=\"fill:#000000; stroke:none; fill-opacity:1\" cx=\"1286.33\" cy=\"690.468\" r=\"18\"/>\n",
       "<circle clip-path=\"url(#clip6903)\" style=\"fill:#009af9; stroke:none; fill-opacity:1\" cx=\"1286.33\" cy=\"690.468\" r=\"14\"/>\n",
       "<circle clip-path=\"url(#clip6903)\" style=\"fill:#000000; stroke:none; fill-opacity:1\" cx=\"392.762\" cy=\"1372.84\" r=\"18\"/>\n",
       "<circle clip-path=\"url(#clip6903)\" style=\"fill:#009af9; stroke:none; fill-opacity:1\" cx=\"392.762\" cy=\"1372.84\" r=\"14\"/>\n",
       "<circle clip-path=\"url(#clip6903)\" style=\"fill:#000000; stroke:none; fill-opacity:1\" cx=\"1249.18\" cy=\"772.683\" r=\"18\"/>\n",
       "<circle clip-path=\"url(#clip6903)\" style=\"fill:#009af9; stroke:none; fill-opacity:1\" cx=\"1249.18\" cy=\"772.683\" r=\"14\"/>\n",
       "<circle clip-path=\"url(#clip6903)\" style=\"fill:#000000; stroke:none; fill-opacity:1\" cx=\"1338.14\" cy=\"688.854\" r=\"18\"/>\n",
       "<circle clip-path=\"url(#clip6903)\" style=\"fill:#009af9; stroke:none; fill-opacity:1\" cx=\"1338.14\" cy=\"688.854\" r=\"14\"/>\n",
       "<circle clip-path=\"url(#clip6903)\" style=\"fill:#000000; stroke:none; fill-opacity:1\" cx=\"279.755\" cy=\"1395.19\" r=\"18\"/>\n",
       "<circle clip-path=\"url(#clip6903)\" style=\"fill:#009af9; stroke:none; fill-opacity:1\" cx=\"279.755\" cy=\"1395.19\" r=\"14\"/>\n",
       "<circle clip-path=\"url(#clip6903)\" style=\"fill:#000000; stroke:none; fill-opacity:1\" cx=\"1701.99\" cy=\"465.343\" r=\"18\"/>\n",
       "<circle clip-path=\"url(#clip6903)\" style=\"fill:#009af9; stroke:none; fill-opacity:1\" cx=\"1701.99\" cy=\"465.343\" r=\"14\"/>\n",
       "<circle clip-path=\"url(#clip6903)\" style=\"fill:#000000; stroke:none; fill-opacity:1\" cx=\"1026.3\" cy=\"918.633\" r=\"18\"/>\n",
       "<circle clip-path=\"url(#clip6903)\" style=\"fill:#009af9; stroke:none; fill-opacity:1\" cx=\"1026.3\" cy=\"918.633\" r=\"14\"/>\n",
       "<circle clip-path=\"url(#clip6903)\" style=\"fill:#000000; stroke:none; fill-opacity:1\" cx=\"856.117\" cy=\"1009.43\" r=\"18\"/>\n",
       "<circle clip-path=\"url(#clip6903)\" style=\"fill:#009af9; stroke:none; fill-opacity:1\" cx=\"856.117\" cy=\"1009.43\" r=\"14\"/>\n",
       "<circle clip-path=\"url(#clip6903)\" style=\"fill:#000000; stroke:none; fill-opacity:1\" cx=\"758.951\" cy=\"1063.44\" r=\"18\"/>\n",
       "<circle clip-path=\"url(#clip6903)\" style=\"fill:#009af9; stroke:none; fill-opacity:1\" cx=\"758.951\" cy=\"1063.44\" r=\"14\"/>\n",
       "<circle clip-path=\"url(#clip6903)\" style=\"fill:#000000; stroke:none; fill-opacity:1\" cx=\"1705.89\" cy=\"462.316\" r=\"18\"/>\n",
       "<circle clip-path=\"url(#clip6903)\" style=\"fill:#009af9; stroke:none; fill-opacity:1\" cx=\"1705.89\" cy=\"462.316\" r=\"14\"/>\n",
       "<circle clip-path=\"url(#clip6903)\" style=\"fill:#000000; stroke:none; fill-opacity:1\" cx=\"402.33\" cy=\"1342.9\" r=\"18\"/>\n",
       "<circle clip-path=\"url(#clip6903)\" style=\"fill:#009af9; stroke:none; fill-opacity:1\" cx=\"402.33\" cy=\"1342.9\" r=\"14\"/>\n",
       "<circle clip-path=\"url(#clip6903)\" style=\"fill:#000000; stroke:none; fill-opacity:1\" cx=\"2250.63\" cy=\"138.659\" r=\"18\"/>\n",
       "<circle clip-path=\"url(#clip6903)\" style=\"fill:#009af9; stroke:none; fill-opacity:1\" cx=\"2250.63\" cy=\"138.659\" r=\"14\"/>\n",
       "<circle clip-path=\"url(#clip6903)\" style=\"fill:#000000; stroke:none; fill-opacity:1\" cx=\"1186.64\" cy=\"778.439\" r=\"18\"/>\n",
       "<circle clip-path=\"url(#clip6903)\" style=\"fill:#009af9; stroke:none; fill-opacity:1\" cx=\"1186.64\" cy=\"778.439\" r=\"14\"/>\n",
       "<circle clip-path=\"url(#clip6903)\" style=\"fill:#000000; stroke:none; fill-opacity:1\" cx=\"1862.28\" cy=\"411.206\" r=\"18\"/>\n",
       "<circle clip-path=\"url(#clip6903)\" style=\"fill:#009af9; stroke:none; fill-opacity:1\" cx=\"1862.28\" cy=\"411.206\" r=\"14\"/>\n",
       "<circle clip-path=\"url(#clip6903)\" style=\"fill:#000000; stroke:none; fill-opacity:1\" cx=\"281.551\" cy=\"1397.97\" r=\"18\"/>\n",
       "<circle clip-path=\"url(#clip6903)\" style=\"fill:#009af9; stroke:none; fill-opacity:1\" cx=\"281.551\" cy=\"1397.97\" r=\"14\"/>\n",
       "<circle clip-path=\"url(#clip6903)\" style=\"fill:#000000; stroke:none; fill-opacity:1\" cx=\"636.917\" cy=\"1134.92\" r=\"18\"/>\n",
       "<circle clip-path=\"url(#clip6903)\" style=\"fill:#009af9; stroke:none; fill-opacity:1\" cx=\"636.917\" cy=\"1134.92\" r=\"14\"/>\n",
       "<circle clip-path=\"url(#clip6903)\" style=\"fill:#000000; stroke:none; fill-opacity:1\" cx=\"1360.53\" cy=\"639.864\" r=\"18\"/>\n",
       "<circle clip-path=\"url(#clip6903)\" style=\"fill:#009af9; stroke:none; fill-opacity:1\" cx=\"1360.53\" cy=\"639.864\" r=\"14\"/>\n",
       "<circle clip-path=\"url(#clip6903)\" style=\"fill:#000000; stroke:none; fill-opacity:1\" cx=\"943.976\" cy=\"1016.63\" r=\"18\"/>\n",
       "<circle clip-path=\"url(#clip6903)\" style=\"fill:#009af9; stroke:none; fill-opacity:1\" cx=\"943.976\" cy=\"1016.63\" r=\"14\"/>\n",
       "<circle clip-path=\"url(#clip6903)\" style=\"fill:#000000; stroke:none; fill-opacity:1\" cx=\"2260.51\" cy=\"88.4582\" r=\"18\"/>\n",
       "<circle clip-path=\"url(#clip6903)\" style=\"fill:#009af9; stroke:none; fill-opacity:1\" cx=\"2260.51\" cy=\"88.4582\" r=\"14\"/>\n",
       "<circle clip-path=\"url(#clip6903)\" style=\"fill:#000000; stroke:none; fill-opacity:1\" cx=\"692.484\" cy=\"1117.65\" r=\"18\"/>\n",
       "<circle clip-path=\"url(#clip6903)\" style=\"fill:#009af9; stroke:none; fill-opacity:1\" cx=\"692.484\" cy=\"1117.65\" r=\"14\"/>\n",
       "<circle clip-path=\"url(#clip6903)\" style=\"fill:#000000; stroke:none; fill-opacity:1\" cx=\"1658.59\" cy=\"479.791\" r=\"18\"/>\n",
       "<circle clip-path=\"url(#clip6903)\" style=\"fill:#009af9; stroke:none; fill-opacity:1\" cx=\"1658.59\" cy=\"479.791\" r=\"14\"/>\n",
       "<circle clip-path=\"url(#clip6903)\" style=\"fill:#000000; stroke:none; fill-opacity:1\" cx=\"611.903\" cy=\"1203.85\" r=\"18\"/>\n",
       "<circle clip-path=\"url(#clip6903)\" style=\"fill:#009af9; stroke:none; fill-opacity:1\" cx=\"611.903\" cy=\"1203.85\" r=\"14\"/>\n",
       "<circle clip-path=\"url(#clip6903)\" style=\"fill:#000000; stroke:none; fill-opacity:1\" cx=\"566.313\" cy=\"1236.14\" r=\"18\"/>\n",
       "<circle clip-path=\"url(#clip6903)\" style=\"fill:#009af9; stroke:none; fill-opacity:1\" cx=\"566.313\" cy=\"1236.14\" r=\"14\"/>\n",
       "<circle clip-path=\"url(#clip6903)\" style=\"fill:#000000; stroke:none; fill-opacity:1\" cx=\"972.234\" cy=\"971.93\" r=\"18\"/>\n",
       "<circle clip-path=\"url(#clip6903)\" style=\"fill:#009af9; stroke:none; fill-opacity:1\" cx=\"972.234\" cy=\"971.93\" r=\"14\"/>\n",
       "<circle clip-path=\"url(#clip6903)\" style=\"fill:#000000; stroke:none; fill-opacity:1\" cx=\"1664.29\" cy=\"501.002\" r=\"18\"/>\n",
       "<circle clip-path=\"url(#clip6903)\" style=\"fill:#009af9; stroke:none; fill-opacity:1\" cx=\"1664.29\" cy=\"501.002\" r=\"14\"/>\n",
       "<circle clip-path=\"url(#clip6903)\" style=\"fill:#000000; stroke:none; fill-opacity:1\" cx=\"1934.99\" cy=\"384.785\" r=\"18\"/>\n",
       "<circle clip-path=\"url(#clip6903)\" style=\"fill:#009af9; stroke:none; fill-opacity:1\" cx=\"1934.99\" cy=\"384.785\" r=\"14\"/>\n",
       "<circle clip-path=\"url(#clip6903)\" style=\"fill:#000000; stroke:none; fill-opacity:1\" cx=\"1937.87\" cy=\"263.917\" r=\"18\"/>\n",
       "<circle clip-path=\"url(#clip6903)\" style=\"fill:#009af9; stroke:none; fill-opacity:1\" cx=\"1937.87\" cy=\"263.917\" r=\"14\"/>\n",
       "<circle clip-path=\"url(#clip6903)\" style=\"fill:#000000; stroke:none; fill-opacity:1\" cx=\"2133.12\" cy=\"188.46\" r=\"18\"/>\n",
       "<circle clip-path=\"url(#clip6903)\" style=\"fill:#009af9; stroke:none; fill-opacity:1\" cx=\"2133.12\" cy=\"188.46\" r=\"14\"/>\n",
       "<circle clip-path=\"url(#clip6903)\" style=\"fill:#000000; stroke:none; fill-opacity:1\" cx=\"1881.55\" cy=\"330.188\" r=\"18\"/>\n",
       "<circle clip-path=\"url(#clip6903)\" style=\"fill:#009af9; stroke:none; fill-opacity:1\" cx=\"1881.55\" cy=\"330.188\" r=\"14\"/>\n",
       "<circle clip-path=\"url(#clip6903)\" style=\"fill:#000000; stroke:none; fill-opacity:1\" cx=\"1173.57\" cy=\"785.681\" r=\"18\"/>\n",
       "<circle clip-path=\"url(#clip6903)\" style=\"fill:#009af9; stroke:none; fill-opacity:1\" cx=\"1173.57\" cy=\"785.681\" r=\"14\"/>\n",
       "<circle clip-path=\"url(#clip6903)\" style=\"fill:#000000; stroke:none; fill-opacity:1\" cx=\"1673.97\" cy=\"513.326\" r=\"18\"/>\n",
       "<circle clip-path=\"url(#clip6903)\" style=\"fill:#009af9; stroke:none; fill-opacity:1\" cx=\"1673.97\" cy=\"513.326\" r=\"14\"/>\n",
       "<circle clip-path=\"url(#clip6903)\" style=\"fill:#000000; stroke:none; fill-opacity:1\" cx=\"814.857\" cy=\"1081\" r=\"18\"/>\n",
       "<circle clip-path=\"url(#clip6903)\" style=\"fill:#009af9; stroke:none; fill-opacity:1\" cx=\"814.857\" cy=\"1081\" r=\"14\"/>\n",
       "<circle clip-path=\"url(#clip6903)\" style=\"fill:#000000; stroke:none; fill-opacity:1\" cx=\"449.879\" cy=\"1323.97\" r=\"18\"/>\n",
       "<circle clip-path=\"url(#clip6903)\" style=\"fill:#009af9; stroke:none; fill-opacity:1\" cx=\"449.879\" cy=\"1323.97\" r=\"14\"/>\n",
       "<circle clip-path=\"url(#clip6903)\" style=\"fill:#000000; stroke:none; fill-opacity:1\" cx=\"1184.45\" cy=\"781.524\" r=\"18\"/>\n",
       "<circle clip-path=\"url(#clip6903)\" style=\"fill:#009af9; stroke:none; fill-opacity:1\" cx=\"1184.45\" cy=\"781.524\" r=\"14\"/>\n",
       "<circle clip-path=\"url(#clip6903)\" style=\"fill:#000000; stroke:none; fill-opacity:1\" cx=\"321.503\" cy=\"1366.19\" r=\"18\"/>\n",
       "<circle clip-path=\"url(#clip6903)\" style=\"fill:#009af9; stroke:none; fill-opacity:1\" cx=\"321.503\" cy=\"1366.19\" r=\"14\"/>\n",
       "<circle clip-path=\"url(#clip6903)\" style=\"fill:#000000; stroke:none; fill-opacity:1\" cx=\"1067.57\" cy=\"903.845\" r=\"18\"/>\n",
       "<circle clip-path=\"url(#clip6903)\" style=\"fill:#009af9; stroke:none; fill-opacity:1\" cx=\"1067.57\" cy=\"903.845\" r=\"14\"/>\n",
       "<circle clip-path=\"url(#clip6903)\" style=\"fill:#000000; stroke:none; fill-opacity:1\" cx=\"1170.95\" cy=\"783.565\" r=\"18\"/>\n",
       "<circle clip-path=\"url(#clip6903)\" style=\"fill:#009af9; stroke:none; fill-opacity:1\" cx=\"1170.95\" cy=\"783.565\" r=\"14\"/>\n",
       "<circle clip-path=\"url(#clip6903)\" style=\"fill:#000000; stroke:none; fill-opacity:1\" cx=\"2134.92\" cy=\"189.499\" r=\"18\"/>\n",
       "<circle clip-path=\"url(#clip6903)\" style=\"fill:#009af9; stroke:none; fill-opacity:1\" cx=\"2134.92\" cy=\"189.499\" r=\"14\"/>\n",
       "<circle clip-path=\"url(#clip6903)\" style=\"fill:#000000; stroke:none; fill-opacity:1\" cx=\"2148.93\" cy=\"165.298\" r=\"18\"/>\n",
       "<circle clip-path=\"url(#clip6903)\" style=\"fill:#009af9; stroke:none; fill-opacity:1\" cx=\"2148.93\" cy=\"165.298\" r=\"14\"/>\n",
       "<circle clip-path=\"url(#clip6903)\" style=\"fill:#000000; stroke:none; fill-opacity:1\" cx=\"1283.49\" cy=\"757.566\" r=\"18\"/>\n",
       "<circle clip-path=\"url(#clip6903)\" style=\"fill:#009af9; stroke:none; fill-opacity:1\" cx=\"1283.49\" cy=\"757.566\" r=\"14\"/>\n",
       "<circle clip-path=\"url(#clip6903)\" style=\"fill:#000000; stroke:none; fill-opacity:1\" cx=\"1225.93\" cy=\"804.275\" r=\"18\"/>\n",
       "<circle clip-path=\"url(#clip6903)\" style=\"fill:#009af9; stroke:none; fill-opacity:1\" cx=\"1225.93\" cy=\"804.275\" r=\"14\"/>\n",
       "<circle clip-path=\"url(#clip6903)\" style=\"fill:#000000; stroke:none; fill-opacity:1\" cx=\"511.911\" cy=\"1237.63\" r=\"18\"/>\n",
       "<circle clip-path=\"url(#clip6903)\" style=\"fill:#009af9; stroke:none; fill-opacity:1\" cx=\"511.911\" cy=\"1237.63\" r=\"14\"/>\n",
       "<circle clip-path=\"url(#clip6903)\" style=\"fill:#000000; stroke:none; fill-opacity:1\" cx=\"1318.84\" cy=\"733.998\" r=\"18\"/>\n",
       "<circle clip-path=\"url(#clip6903)\" style=\"fill:#009af9; stroke:none; fill-opacity:1\" cx=\"1318.84\" cy=\"733.998\" r=\"14\"/>\n",
       "<circle clip-path=\"url(#clip6903)\" style=\"fill:#000000; stroke:none; fill-opacity:1\" cx=\"1471.8\" cy=\"593.54\" r=\"18\"/>\n",
       "<circle clip-path=\"url(#clip6903)\" style=\"fill:#009af9; stroke:none; fill-opacity:1\" cx=\"1471.8\" cy=\"593.54\" r=\"14\"/>\n",
       "<circle clip-path=\"url(#clip6903)\" style=\"fill:#000000; stroke:none; fill-opacity:1\" cx=\"1294.93\" cy=\"711.497\" r=\"18\"/>\n",
       "<circle clip-path=\"url(#clip6903)\" style=\"fill:#009af9; stroke:none; fill-opacity:1\" cx=\"1294.93\" cy=\"711.497\" r=\"14\"/>\n",
       "<circle clip-path=\"url(#clip6903)\" style=\"fill:#000000; stroke:none; fill-opacity:1\" cx=\"1743.81\" cy=\"401.936\" r=\"18\"/>\n",
       "<circle clip-path=\"url(#clip6903)\" style=\"fill:#009af9; stroke:none; fill-opacity:1\" cx=\"1743.81\" cy=\"401.936\" r=\"14\"/>\n",
       "<circle clip-path=\"url(#clip6903)\" style=\"fill:#000000; stroke:none; fill-opacity:1\" cx=\"235.525\" cy=\"1427.87\" r=\"18\"/>\n",
       "<circle clip-path=\"url(#clip6903)\" style=\"fill:#009af9; stroke:none; fill-opacity:1\" cx=\"235.525\" cy=\"1427.87\" r=\"14\"/>\n",
       "<circle clip-path=\"url(#clip6903)\" style=\"fill:#000000; stroke:none; fill-opacity:1\" cx=\"916.53\" cy=\"979.053\" r=\"18\"/>\n",
       "<circle clip-path=\"url(#clip6903)\" style=\"fill:#009af9; stroke:none; fill-opacity:1\" cx=\"916.53\" cy=\"979.053\" r=\"14\"/>\n",
       "<circle clip-path=\"url(#clip6903)\" style=\"fill:#000000; stroke:none; fill-opacity:1\" cx=\"2034.78\" cy=\"202.017\" r=\"18\"/>\n",
       "<circle clip-path=\"url(#clip6903)\" style=\"fill:#009af9; stroke:none; fill-opacity:1\" cx=\"2034.78\" cy=\"202.017\" r=\"14\"/>\n",
       "<circle clip-path=\"url(#clip6903)\" style=\"fill:#000000; stroke:none; fill-opacity:1\" cx=\"1063.69\" cy=\"922.374\" r=\"18\"/>\n",
       "<circle clip-path=\"url(#clip6903)\" style=\"fill:#009af9; stroke:none; fill-opacity:1\" cx=\"1063.69\" cy=\"922.374\" r=\"14\"/>\n",
       "<circle clip-path=\"url(#clip6903)\" style=\"fill:#000000; stroke:none; fill-opacity:1\" cx=\"1848.62\" cy=\"391.203\" r=\"18\"/>\n",
       "<circle clip-path=\"url(#clip6903)\" style=\"fill:#009af9; stroke:none; fill-opacity:1\" cx=\"1848.62\" cy=\"391.203\" r=\"14\"/>\n",
       "<circle clip-path=\"url(#clip6903)\" style=\"fill:#000000; stroke:none; fill-opacity:1\" cx=\"1740.53\" cy=\"435.353\" r=\"18\"/>\n",
       "<circle clip-path=\"url(#clip6903)\" style=\"fill:#009af9; stroke:none; fill-opacity:1\" cx=\"1740.53\" cy=\"435.353\" r=\"14\"/>\n",
       "<circle clip-path=\"url(#clip6903)\" style=\"fill:#000000; stroke:none; fill-opacity:1\" cx=\"1274.93\" cy=\"708.682\" r=\"18\"/>\n",
       "<circle clip-path=\"url(#clip6903)\" style=\"fill:#009af9; stroke:none; fill-opacity:1\" cx=\"1274.93\" cy=\"708.682\" r=\"14\"/>\n",
       "<circle clip-path=\"url(#clip6903)\" style=\"fill:#000000; stroke:none; fill-opacity:1\" cx=\"511.424\" cy=\"1261.57\" r=\"18\"/>\n",
       "<circle clip-path=\"url(#clip6903)\" style=\"fill:#009af9; stroke:none; fill-opacity:1\" cx=\"511.424\" cy=\"1261.57\" r=\"14\"/>\n",
       "<circle clip-path=\"url(#clip6903)\" style=\"fill:#000000; stroke:none; fill-opacity:1\" cx=\"1481.11\" cy=\"570.806\" r=\"18\"/>\n",
       "<circle clip-path=\"url(#clip6903)\" style=\"fill:#009af9; stroke:none; fill-opacity:1\" cx=\"1481.11\" cy=\"570.806\" r=\"14\"/>\n",
       "<circle clip-path=\"url(#clip6903)\" style=\"fill:#000000; stroke:none; fill-opacity:1\" cx=\"1567.11\" cy=\"535.746\" r=\"18\"/>\n",
       "<circle clip-path=\"url(#clip6903)\" style=\"fill:#009af9; stroke:none; fill-opacity:1\" cx=\"1567.11\" cy=\"535.746\" r=\"14\"/>\n",
       "<circle clip-path=\"url(#clip6903)\" style=\"fill:#000000; stroke:none; fill-opacity:1\" cx=\"1139.29\" cy=\"817.592\" r=\"18\"/>\n",
       "<circle clip-path=\"url(#clip6903)\" style=\"fill:#009af9; stroke:none; fill-opacity:1\" cx=\"1139.29\" cy=\"817.592\" r=\"14\"/>\n",
       "<circle clip-path=\"url(#clip6903)\" style=\"fill:#000000; stroke:none; fill-opacity:1\" cx=\"921.139\" cy=\"960.717\" r=\"18\"/>\n",
       "<circle clip-path=\"url(#clip6903)\" style=\"fill:#009af9; stroke:none; fill-opacity:1\" cx=\"921.139\" cy=\"960.717\" r=\"14\"/>\n",
       "<circle clip-path=\"url(#clip6903)\" style=\"fill:#000000; stroke:none; fill-opacity:1\" cx=\"552.429\" cy=\"1239.3\" r=\"18\"/>\n",
       "<circle clip-path=\"url(#clip6903)\" style=\"fill:#009af9; stroke:none; fill-opacity:1\" cx=\"552.429\" cy=\"1239.3\" r=\"14\"/>\n",
       "<circle clip-path=\"url(#clip6903)\" style=\"fill:#000000; stroke:none; fill-opacity:1\" cx=\"1193.33\" cy=\"806.861\" r=\"18\"/>\n",
       "<circle clip-path=\"url(#clip6903)\" style=\"fill:#009af9; stroke:none; fill-opacity:1\" cx=\"1193.33\" cy=\"806.861\" r=\"14\"/>\n",
       "<circle clip-path=\"url(#clip6903)\" style=\"fill:#000000; stroke:none; fill-opacity:1\" cx=\"1956.3\" cy=\"336.19\" r=\"18\"/>\n",
       "<circle clip-path=\"url(#clip6903)\" style=\"fill:#009af9; stroke:none; fill-opacity:1\" cx=\"1956.3\" cy=\"336.19\" r=\"14\"/>\n",
       "<circle clip-path=\"url(#clip6903)\" style=\"fill:#000000; stroke:none; fill-opacity:1\" cx=\"2090.4\" cy=\"245.153\" r=\"18\"/>\n",
       "<circle clip-path=\"url(#clip6903)\" style=\"fill:#009af9; stroke:none; fill-opacity:1\" cx=\"2090.4\" cy=\"245.153\" r=\"14\"/>\n",
       "<circle clip-path=\"url(#clip6903)\" style=\"fill:#000000; stroke:none; fill-opacity:1\" cx=\"268.432\" cy=\"1462.26\" r=\"18\"/>\n",
       "<circle clip-path=\"url(#clip6903)\" style=\"fill:#009af9; stroke:none; fill-opacity:1\" cx=\"268.432\" cy=\"1462.26\" r=\"14\"/>\n",
       "<circle clip-path=\"url(#clip6903)\" style=\"fill:#000000; stroke:none; fill-opacity:1\" cx=\"2178.79\" cy=\"149.335\" r=\"18\"/>\n",
       "<circle clip-path=\"url(#clip6903)\" style=\"fill:#009af9; stroke:none; fill-opacity:1\" cx=\"2178.79\" cy=\"149.335\" r=\"14\"/>\n",
       "<circle clip-path=\"url(#clip6903)\" style=\"fill:#000000; stroke:none; fill-opacity:1\" cx=\"1198.72\" cy=\"816.335\" r=\"18\"/>\n",
       "<circle clip-path=\"url(#clip6903)\" style=\"fill:#009af9; stroke:none; fill-opacity:1\" cx=\"1198.72\" cy=\"816.335\" r=\"14\"/>\n",
       "<circle clip-path=\"url(#clip6903)\" style=\"fill:#000000; stroke:none; fill-opacity:1\" cx=\"1809.5\" cy=\"412.509\" r=\"18\"/>\n",
       "<circle clip-path=\"url(#clip6903)\" style=\"fill:#009af9; stroke:none; fill-opacity:1\" cx=\"1809.5\" cy=\"412.509\" r=\"14\"/>\n",
       "<circle clip-path=\"url(#clip6903)\" style=\"fill:#000000; stroke:none; fill-opacity:1\" cx=\"1096.42\" cy=\"846.369\" r=\"18\"/>\n",
       "<circle clip-path=\"url(#clip6903)\" style=\"fill:#009af9; stroke:none; fill-opacity:1\" cx=\"1096.42\" cy=\"846.369\" r=\"14\"/>\n",
       "<circle clip-path=\"url(#clip6903)\" style=\"fill:#000000; stroke:none; fill-opacity:1\" cx=\"1170.48\" cy=\"807.092\" r=\"18\"/>\n",
       "<circle clip-path=\"url(#clip6903)\" style=\"fill:#009af9; stroke:none; fill-opacity:1\" cx=\"1170.48\" cy=\"807.092\" r=\"14\"/>\n",
       "<circle clip-path=\"url(#clip6903)\" style=\"fill:#000000; stroke:none; fill-opacity:1\" cx=\"922.672\" cy=\"1019.04\" r=\"18\"/>\n",
       "<circle clip-path=\"url(#clip6903)\" style=\"fill:#009af9; stroke:none; fill-opacity:1\" cx=\"922.672\" cy=\"1019.04\" r=\"14\"/>\n",
       "<circle clip-path=\"url(#clip6903)\" style=\"fill:#000000; stroke:none; fill-opacity:1\" cx=\"644.648\" cy=\"1178.37\" r=\"18\"/>\n",
       "<circle clip-path=\"url(#clip6903)\" style=\"fill:#009af9; stroke:none; fill-opacity:1\" cx=\"644.648\" cy=\"1178.37\" r=\"14\"/>\n",
       "<circle clip-path=\"url(#clip6903)\" style=\"fill:#000000; stroke:none; fill-opacity:1\" cx=\"2041.64\" cy=\"212.754\" r=\"18\"/>\n",
       "<circle clip-path=\"url(#clip6903)\" style=\"fill:#009af9; stroke:none; fill-opacity:1\" cx=\"2041.64\" cy=\"212.754\" r=\"14\"/>\n",
       "<circle clip-path=\"url(#clip6903)\" style=\"fill:#000000; stroke:none; fill-opacity:1\" cx=\"968.918\" cy=\"933.686\" r=\"18\"/>\n",
       "<circle clip-path=\"url(#clip6903)\" style=\"fill:#009af9; stroke:none; fill-opacity:1\" cx=\"968.918\" cy=\"933.686\" r=\"14\"/>\n",
       "<circle clip-path=\"url(#clip6903)\" style=\"fill:#000000; stroke:none; fill-opacity:1\" cx=\"1061.27\" cy=\"921.432\" r=\"18\"/>\n",
       "<circle clip-path=\"url(#clip6903)\" style=\"fill:#009af9; stroke:none; fill-opacity:1\" cx=\"1061.27\" cy=\"921.432\" r=\"14\"/>\n",
       "<circle clip-path=\"url(#clip6903)\" style=\"fill:#000000; stroke:none; fill-opacity:1\" cx=\"821.254\" cy=\"1007.79\" r=\"18\"/>\n",
       "<circle clip-path=\"url(#clip6903)\" style=\"fill:#009af9; stroke:none; fill-opacity:1\" cx=\"821.254\" cy=\"1007.79\" r=\"14\"/>\n",
       "<circle clip-path=\"url(#clip6903)\" style=\"fill:#000000; stroke:none; fill-opacity:1\" cx=\"1973.75\" cy=\"276.238\" r=\"18\"/>\n",
       "<circle clip-path=\"url(#clip6903)\" style=\"fill:#009af9; stroke:none; fill-opacity:1\" cx=\"1973.75\" cy=\"276.238\" r=\"14\"/>\n",
       "<circle clip-path=\"url(#clip6903)\" style=\"fill:#000000; stroke:none; fill-opacity:1\" cx=\"1778.64\" cy=\"450.914\" r=\"18\"/>\n",
       "<circle clip-path=\"url(#clip6903)\" style=\"fill:#009af9; stroke:none; fill-opacity:1\" cx=\"1778.64\" cy=\"450.914\" r=\"14\"/>\n",
       "<circle clip-path=\"url(#clip6903)\" style=\"fill:#000000; stroke:none; fill-opacity:1\" cx=\"1829.33\" cy=\"377.861\" r=\"18\"/>\n",
       "<circle clip-path=\"url(#clip6903)\" style=\"fill:#009af9; stroke:none; fill-opacity:1\" cx=\"1829.33\" cy=\"377.861\" r=\"14\"/>\n",
       "<circle clip-path=\"url(#clip6903)\" style=\"fill:#000000; stroke:none; fill-opacity:1\" cx=\"833.939\" cy=\"1082.3\" r=\"18\"/>\n",
       "<circle clip-path=\"url(#clip6903)\" style=\"fill:#009af9; stroke:none; fill-opacity:1\" cx=\"833.939\" cy=\"1082.3\" r=\"14\"/>\n",
       "<circle clip-path=\"url(#clip6903)\" style=\"fill:#000000; stroke:none; fill-opacity:1\" cx=\"1056.45\" cy=\"884.416\" r=\"18\"/>\n",
       "<circle clip-path=\"url(#clip6903)\" style=\"fill:#009af9; stroke:none; fill-opacity:1\" cx=\"1056.45\" cy=\"884.416\" r=\"14\"/>\n",
       "<circle clip-path=\"url(#clip6903)\" style=\"fill:#000000; stroke:none; fill-opacity:1\" cx=\"1291.33\" cy=\"699.2\" r=\"18\"/>\n",
       "<circle clip-path=\"url(#clip6903)\" style=\"fill:#009af9; stroke:none; fill-opacity:1\" cx=\"1291.33\" cy=\"699.2\" r=\"14\"/>\n",
       "<circle clip-path=\"url(#clip6903)\" style=\"fill:#000000; stroke:none; fill-opacity:1\" cx=\"1709.03\" cy=\"420.929\" r=\"18\"/>\n",
       "<circle clip-path=\"url(#clip6903)\" style=\"fill:#009af9; stroke:none; fill-opacity:1\" cx=\"1709.03\" cy=\"420.929\" r=\"14\"/>\n",
       "<circle clip-path=\"url(#clip6903)\" style=\"fill:#000000; stroke:none; fill-opacity:1\" cx=\"1695.41\" cy=\"456.784\" r=\"18\"/>\n",
       "<circle clip-path=\"url(#clip6903)\" style=\"fill:#009af9; stroke:none; fill-opacity:1\" cx=\"1695.41\" cy=\"456.784\" r=\"14\"/>\n",
       "<circle clip-path=\"url(#clip6903)\" style=\"fill:#000000; stroke:none; fill-opacity:1\" cx=\"1316.07\" cy=\"734.016\" r=\"18\"/>\n",
       "<circle clip-path=\"url(#clip6903)\" style=\"fill:#009af9; stroke:none; fill-opacity:1\" cx=\"1316.07\" cy=\"734.016\" r=\"14\"/>\n",
       "<circle clip-path=\"url(#clip6903)\" style=\"fill:#000000; stroke:none; fill-opacity:1\" cx=\"1097.02\" cy=\"832.811\" r=\"18\"/>\n",
       "<circle clip-path=\"url(#clip6903)\" style=\"fill:#009af9; stroke:none; fill-opacity:1\" cx=\"1097.02\" cy=\"832.811\" r=\"14\"/>\n",
       "<circle clip-path=\"url(#clip6903)\" style=\"fill:#000000; stroke:none; fill-opacity:1\" cx=\"1301.08\" cy=\"759.834\" r=\"18\"/>\n",
       "<circle clip-path=\"url(#clip6903)\" style=\"fill:#009af9; stroke:none; fill-opacity:1\" cx=\"1301.08\" cy=\"759.834\" r=\"14\"/>\n",
       "<circle clip-path=\"url(#clip6903)\" style=\"fill:#000000; stroke:none; fill-opacity:1\" cx=\"1818.47\" cy=\"367.094\" r=\"18\"/>\n",
       "<circle clip-path=\"url(#clip6903)\" style=\"fill:#009af9; stroke:none; fill-opacity:1\" cx=\"1818.47\" cy=\"367.094\" r=\"14\"/>\n",
       "<circle clip-path=\"url(#clip6903)\" style=\"fill:#000000; stroke:none; fill-opacity:1\" cx=\"1250.51\" cy=\"776.172\" r=\"18\"/>\n",
       "<circle clip-path=\"url(#clip6903)\" style=\"fill:#009af9; stroke:none; fill-opacity:1\" cx=\"1250.51\" cy=\"776.172\" r=\"14\"/>\n",
       "<circle clip-path=\"url(#clip6903)\" style=\"fill:#000000; stroke:none; fill-opacity:1\" cx=\"278.487\" cy=\"1425.91\" r=\"18\"/>\n",
       "<circle clip-path=\"url(#clip6903)\" style=\"fill:#009af9; stroke:none; fill-opacity:1\" cx=\"278.487\" cy=\"1425.91\" r=\"14\"/>\n",
       "<circle clip-path=\"url(#clip6903)\" style=\"fill:#000000; stroke:none; fill-opacity:1\" cx=\"836.285\" cy=\"1061\" r=\"18\"/>\n",
       "<circle clip-path=\"url(#clip6903)\" style=\"fill:#009af9; stroke:none; fill-opacity:1\" cx=\"836.285\" cy=\"1061\" r=\"14\"/>\n",
       "<circle clip-path=\"url(#clip6903)\" style=\"fill:#000000; stroke:none; fill-opacity:1\" cx=\"1015.19\" cy=\"952.858\" r=\"18\"/>\n",
       "<circle clip-path=\"url(#clip6903)\" style=\"fill:#009af9; stroke:none; fill-opacity:1\" cx=\"1015.19\" cy=\"952.858\" r=\"14\"/>\n",
       "<circle clip-path=\"url(#clip6903)\" style=\"fill:#000000; stroke:none; fill-opacity:1\" cx=\"1678.49\" cy=\"469.79\" r=\"18\"/>\n",
       "<circle clip-path=\"url(#clip6903)\" style=\"fill:#009af9; stroke:none; fill-opacity:1\" cx=\"1678.49\" cy=\"469.79\" r=\"14\"/>\n",
       "<circle clip-path=\"url(#clip6903)\" style=\"fill:#000000; stroke:none; fill-opacity:1\" cx=\"1337.77\" cy=\"748.396\" r=\"18\"/>\n",
       "<circle clip-path=\"url(#clip6903)\" style=\"fill:#009af9; stroke:none; fill-opacity:1\" cx=\"1337.77\" cy=\"748.396\" r=\"14\"/>\n",
       "<circle clip-path=\"url(#clip6903)\" style=\"fill:#000000; stroke:none; fill-opacity:1\" cx=\"873.958\" cy=\"981.97\" r=\"18\"/>\n",
       "<circle clip-path=\"url(#clip6903)\" style=\"fill:#009af9; stroke:none; fill-opacity:1\" cx=\"873.958\" cy=\"981.97\" r=\"14\"/>\n",
       "<circle clip-path=\"url(#clip6903)\" style=\"fill:#000000; stroke:none; fill-opacity:1\" cx=\"683.348\" cy=\"1173.74\" r=\"18\"/>\n",
       "<circle clip-path=\"url(#clip6903)\" style=\"fill:#009af9; stroke:none; fill-opacity:1\" cx=\"683.348\" cy=\"1173.74\" r=\"14\"/>\n",
       "<circle clip-path=\"url(#clip6903)\" style=\"fill:#000000; stroke:none; fill-opacity:1\" cx=\"2179.54\" cy=\"116.507\" r=\"18\"/>\n",
       "<circle clip-path=\"url(#clip6903)\" style=\"fill:#009af9; stroke:none; fill-opacity:1\" cx=\"2179.54\" cy=\"116.507\" r=\"14\"/>\n",
       "<circle clip-path=\"url(#clip6903)\" style=\"fill:#000000; stroke:none; fill-opacity:1\" cx=\"1219.62\" cy=\"789.511\" r=\"18\"/>\n",
       "<circle clip-path=\"url(#clip6903)\" style=\"fill:#009af9; stroke:none; fill-opacity:1\" cx=\"1219.62\" cy=\"789.511\" r=\"14\"/>\n",
       "<circle clip-path=\"url(#clip6903)\" style=\"fill:#000000; stroke:none; fill-opacity:1\" cx=\"544.324\" cy=\"1256.1\" r=\"18\"/>\n",
       "<circle clip-path=\"url(#clip6903)\" style=\"fill:#009af9; stroke:none; fill-opacity:1\" cx=\"544.324\" cy=\"1256.1\" r=\"14\"/>\n",
       "<circle clip-path=\"url(#clip6903)\" style=\"fill:#000000; stroke:none; fill-opacity:1\" cx=\"1155.59\" cy=\"846.034\" r=\"18\"/>\n",
       "<circle clip-path=\"url(#clip6903)\" style=\"fill:#009af9; stroke:none; fill-opacity:1\" cx=\"1155.59\" cy=\"846.034\" r=\"14\"/>\n",
       "<circle clip-path=\"url(#clip6903)\" style=\"fill:#000000; stroke:none; fill-opacity:1\" cx=\"1480.01\" cy=\"600.479\" r=\"18\"/>\n",
       "<circle clip-path=\"url(#clip6903)\" style=\"fill:#009af9; stroke:none; fill-opacity:1\" cx=\"1480.01\" cy=\"600.479\" r=\"14\"/>\n",
       "<polygon clip-path=\"url(#clip6901)\" points=\"\n",
       "1958.43,251.724 2249.26,251.724 2249.26,130.764 1958.43,130.764 \n",
       "  \" fill=\"#ffffff\" fill-rule=\"evenodd\" fill-opacity=\"1\"/>\n",
       "<polyline clip-path=\"url(#clip6901)\" style=\"stroke:#000000; stroke-width:4; stroke-opacity:1; fill:none\" points=\"\n",
       "  1958.43,251.724 2249.26,251.724 2249.26,130.764 1958.43,130.764 1958.43,251.724 \n",
       "  \"/>\n",
       "<circle clip-path=\"url(#clip6901)\" style=\"fill:#000000; stroke:none; fill-opacity:1\" cx=\"2066.43\" cy=\"191.244\" r=\"25\"/>\n",
       "<circle clip-path=\"url(#clip6901)\" style=\"fill:#009af9; stroke:none; fill-opacity:1\" cx=\"2066.43\" cy=\"191.244\" r=\"21\"/>\n",
       "<g clip-path=\"url(#clip6901)\">\n",
       "<text style=\"fill:#000000; fill-opacity:1; font-family:Arial,Helvetica Neue,Helvetica,sans-serif; font-size:48px; text-anchor:start;\" transform=\"rotate(0, 2150.43, 208.744)\" x=\"2150.43\" y=\"208.744\">y1</text>\n",
       "</g>\n",
       "</svg>\n"
      ]
     },
     "execution_count": 1,
     "metadata": {},
     "output_type": "execute_result"
    }
   ],
   "source": [
    "using Plots\n",
    "regX = rand(100)\n",
    "regY = 50 .+ 100 * regX + 2 * randn(100)\n",
    "scatter(regX, regY)"
   ]
  },
  {
   "cell_type": "code",
   "execution_count": 2,
   "metadata": {
    "collapsed": false
   },
   "outputs": [
    {
     "name": "stderr",
     "output_type": "stream",
     "text": [
      "┌ Info: Epoch 1\n",
      "└ @ Main /Users/hughmurrell/.julia/packages/Flux/UHjNa/src/optimise/train.jl:93\n",
      "┌ Info: Epoch 2\n",
      "└ @ Main /Users/hughmurrell/.julia/packages/Flux/UHjNa/src/optimise/train.jl:93\n",
      "┌ Info: Epoch 3\n",
      "└ @ Main /Users/hughmurrell/.julia/packages/Flux/UHjNa/src/optimise/train.jl:93\n",
      "┌ Info: Epoch 4\n",
      "└ @ Main /Users/hughmurrell/.julia/packages/Flux/UHjNa/src/optimise/train.jl:93\n",
      "┌ Info: Epoch 5\n",
      "└ @ Main /Users/hughmurrell/.julia/packages/Flux/UHjNa/src/optimise/train.jl:93\n",
      "┌ Info: Epoch 6\n",
      "└ @ Main /Users/hughmurrell/.julia/packages/Flux/UHjNa/src/optimise/train.jl:93\n",
      "┌ Info: Epoch 7\n",
      "└ @ Main /Users/hughmurrell/.julia/packages/Flux/UHjNa/src/optimise/train.jl:93\n",
      "┌ Info: Epoch 8\n",
      "└ @ Main /Users/hughmurrell/.julia/packages/Flux/UHjNa/src/optimise/train.jl:93\n",
      "┌ Info: Epoch 9\n",
      "└ @ Main /Users/hughmurrell/.julia/packages/Flux/UHjNa/src/optimise/train.jl:93\n",
      "┌ Info: Epoch 10\n",
      "└ @ Main /Users/hughmurrell/.julia/packages/Flux/UHjNa/src/optimise/train.jl:93\n",
      "┌ Info: Epoch 11\n",
      "└ @ Main /Users/hughmurrell/.julia/packages/Flux/UHjNa/src/optimise/train.jl:93\n",
      "┌ Info: Epoch 12\n",
      "└ @ Main /Users/hughmurrell/.julia/packages/Flux/UHjNa/src/optimise/train.jl:93\n",
      "┌ Info: Epoch 13\n",
      "└ @ Main /Users/hughmurrell/.julia/packages/Flux/UHjNa/src/optimise/train.jl:93\n",
      "┌ Info: Epoch 14\n",
      "└ @ Main /Users/hughmurrell/.julia/packages/Flux/UHjNa/src/optimise/train.jl:93\n",
      "┌ Info: Epoch 15\n",
      "└ @ Main /Users/hughmurrell/.julia/packages/Flux/UHjNa/src/optimise/train.jl:93\n",
      "┌ Info: Epoch 16\n",
      "└ @ Main /Users/hughmurrell/.julia/packages/Flux/UHjNa/src/optimise/train.jl:93\n",
      "┌ Info: Epoch 17\n",
      "└ @ Main /Users/hughmurrell/.julia/packages/Flux/UHjNa/src/optimise/train.jl:93\n",
      "┌ Info: Epoch 18\n",
      "└ @ Main /Users/hughmurrell/.julia/packages/Flux/UHjNa/src/optimise/train.jl:93\n",
      "┌ Info: Epoch 19\n",
      "└ @ Main /Users/hughmurrell/.julia/packages/Flux/UHjNa/src/optimise/train.jl:93\n",
      "┌ Info: Epoch 20\n",
      "└ @ Main /Users/hughmurrell/.julia/packages/Flux/UHjNa/src/optimise/train.jl:93\n",
      "┌ Info: Epoch 21\n",
      "└ @ Main /Users/hughmurrell/.julia/packages/Flux/UHjNa/src/optimise/train.jl:93\n",
      "┌ Info: Epoch 22\n",
      "└ @ Main /Users/hughmurrell/.julia/packages/Flux/UHjNa/src/optimise/train.jl:93\n",
      "┌ Info: Epoch 23\n",
      "└ @ Main /Users/hughmurrell/.julia/packages/Flux/UHjNa/src/optimise/train.jl:93\n",
      "┌ Info: Epoch 24\n",
      "└ @ Main /Users/hughmurrell/.julia/packages/Flux/UHjNa/src/optimise/train.jl:93\n",
      "┌ Info: Epoch 25\n",
      "└ @ Main /Users/hughmurrell/.julia/packages/Flux/UHjNa/src/optimise/train.jl:93\n",
      "┌ Info: Epoch 26\n",
      "└ @ Main /Users/hughmurrell/.julia/packages/Flux/UHjNa/src/optimise/train.jl:93\n",
      "┌ Info: Epoch 27\n",
      "└ @ Main /Users/hughmurrell/.julia/packages/Flux/UHjNa/src/optimise/train.jl:93\n",
      "┌ Info: Epoch 28\n",
      "└ @ Main /Users/hughmurrell/.julia/packages/Flux/UHjNa/src/optimise/train.jl:93\n",
      "┌ Info: Epoch 29\n",
      "└ @ Main /Users/hughmurrell/.julia/packages/Flux/UHjNa/src/optimise/train.jl:93\n",
      "┌ Info: Epoch 30\n",
      "└ @ Main /Users/hughmurrell/.julia/packages/Flux/UHjNa/src/optimise/train.jl:93\n",
      "┌ Info: Epoch 31\n",
      "└ @ Main /Users/hughmurrell/.julia/packages/Flux/UHjNa/src/optimise/train.jl:93\n",
      "┌ Info: Epoch 32\n",
      "└ @ Main /Users/hughmurrell/.julia/packages/Flux/UHjNa/src/optimise/train.jl:93\n",
      "┌ Info: Epoch 33\n",
      "└ @ Main /Users/hughmurrell/.julia/packages/Flux/UHjNa/src/optimise/train.jl:93\n",
      "┌ Info: Epoch 34\n",
      "└ @ Main /Users/hughmurrell/.julia/packages/Flux/UHjNa/src/optimise/train.jl:93\n",
      "┌ Info: Epoch 35\n",
      "└ @ Main /Users/hughmurrell/.julia/packages/Flux/UHjNa/src/optimise/train.jl:93\n",
      "┌ Info: Epoch 36\n",
      "└ @ Main /Users/hughmurrell/.julia/packages/Flux/UHjNa/src/optimise/train.jl:93\n",
      "┌ Info: Epoch 37\n",
      "└ @ Main /Users/hughmurrell/.julia/packages/Flux/UHjNa/src/optimise/train.jl:93\n",
      "┌ Info: Epoch 38\n",
      "└ @ Main /Users/hughmurrell/.julia/packages/Flux/UHjNa/src/optimise/train.jl:93\n",
      "┌ Info: Epoch 39\n",
      "└ @ Main /Users/hughmurrell/.julia/packages/Flux/UHjNa/src/optimise/train.jl:93\n",
      "┌ Info: Epoch 40\n",
      "└ @ Main /Users/hughmurrell/.julia/packages/Flux/UHjNa/src/optimise/train.jl:93\n",
      "┌ Info: Epoch 41\n",
      "└ @ Main /Users/hughmurrell/.julia/packages/Flux/UHjNa/src/optimise/train.jl:93\n",
      "┌ Info: Epoch 42\n",
      "└ @ Main /Users/hughmurrell/.julia/packages/Flux/UHjNa/src/optimise/train.jl:93\n",
      "┌ Info: Epoch 43\n",
      "└ @ Main /Users/hughmurrell/.julia/packages/Flux/UHjNa/src/optimise/train.jl:93\n",
      "┌ Info: Epoch 44\n",
      "└ @ Main /Users/hughmurrell/.julia/packages/Flux/UHjNa/src/optimise/train.jl:93\n",
      "┌ Info: Epoch 45\n",
      "└ @ Main /Users/hughmurrell/.julia/packages/Flux/UHjNa/src/optimise/train.jl:93\n",
      "┌ Info: Epoch 46\n",
      "└ @ Main /Users/hughmurrell/.julia/packages/Flux/UHjNa/src/optimise/train.jl:93\n",
      "┌ Info: Epoch 47\n",
      "└ @ Main /Users/hughmurrell/.julia/packages/Flux/UHjNa/src/optimise/train.jl:93\n",
      "┌ Info: Epoch 48\n",
      "└ @ Main /Users/hughmurrell/.julia/packages/Flux/UHjNa/src/optimise/train.jl:93\n",
      "┌ Info: Epoch 49\n",
      "└ @ Main /Users/hughmurrell/.julia/packages/Flux/UHjNa/src/optimise/train.jl:93\n",
      "┌ Info: Epoch 50\n",
      "└ @ Main /Users/hughmurrell/.julia/packages/Flux/UHjNa/src/optimise/train.jl:93\n",
      "┌ Info: Epoch 51\n",
      "└ @ Main /Users/hughmurrell/.julia/packages/Flux/UHjNa/src/optimise/train.jl:93\n",
      "┌ Info: Epoch 52\n",
      "└ @ Main /Users/hughmurrell/.julia/packages/Flux/UHjNa/src/optimise/train.jl:93\n",
      "┌ Info: Epoch 53\n",
      "└ @ Main /Users/hughmurrell/.julia/packages/Flux/UHjNa/src/optimise/train.jl:93\n",
      "┌ Info: Epoch 54\n",
      "└ @ Main /Users/hughmurrell/.julia/packages/Flux/UHjNa/src/optimise/train.jl:93\n",
      "┌ Info: Epoch 55\n",
      "└ @ Main /Users/hughmurrell/.julia/packages/Flux/UHjNa/src/optimise/train.jl:93\n",
      "┌ Info: Epoch 56\n",
      "└ @ Main /Users/hughmurrell/.julia/packages/Flux/UHjNa/src/optimise/train.jl:93\n",
      "┌ Info: Epoch 57\n",
      "└ @ Main /Users/hughmurrell/.julia/packages/Flux/UHjNa/src/optimise/train.jl:93\n",
      "┌ Info: Epoch 58\n",
      "└ @ Main /Users/hughmurrell/.julia/packages/Flux/UHjNa/src/optimise/train.jl:93\n",
      "┌ Info: Epoch 59\n",
      "└ @ Main /Users/hughmurrell/.julia/packages/Flux/UHjNa/src/optimise/train.jl:93\n",
      "┌ Info: Epoch 60\n",
      "└ @ Main /Users/hughmurrell/.julia/packages/Flux/UHjNa/src/optimise/train.jl:93\n",
      "┌ Info: Epoch 61\n",
      "└ @ Main /Users/hughmurrell/.julia/packages/Flux/UHjNa/src/optimise/train.jl:93\n",
      "┌ Info: Epoch 62\n",
      "└ @ Main /Users/hughmurrell/.julia/packages/Flux/UHjNa/src/optimise/train.jl:93\n",
      "┌ Info: Epoch 63\n",
      "└ @ Main /Users/hughmurrell/.julia/packages/Flux/UHjNa/src/optimise/train.jl:93\n",
      "┌ Info: Epoch 64\n",
      "└ @ Main /Users/hughmurrell/.julia/packages/Flux/UHjNa/src/optimise/train.jl:93\n",
      "┌ Info: Epoch 65\n",
      "└ @ Main /Users/hughmurrell/.julia/packages/Flux/UHjNa/src/optimise/train.jl:93\n",
      "┌ Info: Epoch 66\n",
      "└ @ Main /Users/hughmurrell/.julia/packages/Flux/UHjNa/src/optimise/train.jl:93\n",
      "┌ Info: Epoch 67\n",
      "└ @ Main /Users/hughmurrell/.julia/packages/Flux/UHjNa/src/optimise/train.jl:93\n",
      "┌ Info: Epoch 68\n",
      "└ @ Main /Users/hughmurrell/.julia/packages/Flux/UHjNa/src/optimise/train.jl:93\n",
      "┌ Info: Epoch 69\n",
      "└ @ Main /Users/hughmurrell/.julia/packages/Flux/UHjNa/src/optimise/train.jl:93\n",
      "┌ Info: Epoch 70\n",
      "└ @ Main /Users/hughmurrell/.julia/packages/Flux/UHjNa/src/optimise/train.jl:93\n",
      "┌ Info: Epoch 71\n",
      "└ @ Main /Users/hughmurrell/.julia/packages/Flux/UHjNa/src/optimise/train.jl:93\n",
      "┌ Info: Epoch 72\n",
      "└ @ Main /Users/hughmurrell/.julia/packages/Flux/UHjNa/src/optimise/train.jl:93\n",
      "┌ Info: Epoch 73\n",
      "└ @ Main /Users/hughmurrell/.julia/packages/Flux/UHjNa/src/optimise/train.jl:93\n",
      "┌ Info: Epoch 74\n",
      "└ @ Main /Users/hughmurrell/.julia/packages/Flux/UHjNa/src/optimise/train.jl:93\n",
      "┌ Info: Epoch 75\n",
      "└ @ Main /Users/hughmurrell/.julia/packages/Flux/UHjNa/src/optimise/train.jl:93\n",
      "┌ Info: Epoch 76\n",
      "└ @ Main /Users/hughmurrell/.julia/packages/Flux/UHjNa/src/optimise/train.jl:93\n",
      "┌ Info: Epoch 77\n",
      "└ @ Main /Users/hughmurrell/.julia/packages/Flux/UHjNa/src/optimise/train.jl:93\n",
      "┌ Info: Epoch 78\n",
      "└ @ Main /Users/hughmurrell/.julia/packages/Flux/UHjNa/src/optimise/train.jl:93\n",
      "┌ Info: Epoch 79\n",
      "└ @ Main /Users/hughmurrell/.julia/packages/Flux/UHjNa/src/optimise/train.jl:93\n",
      "┌ Info: Epoch 80\n",
      "└ @ Main /Users/hughmurrell/.julia/packages/Flux/UHjNa/src/optimise/train.jl:93\n",
      "┌ Info: Epoch 81\n",
      "└ @ Main /Users/hughmurrell/.julia/packages/Flux/UHjNa/src/optimise/train.jl:93\n",
      "┌ Info: Epoch 82\n",
      "└ @ Main /Users/hughmurrell/.julia/packages/Flux/UHjNa/src/optimise/train.jl:93\n",
      "┌ Info: Epoch 83\n",
      "└ @ Main /Users/hughmurrell/.julia/packages/Flux/UHjNa/src/optimise/train.jl:93\n",
      "┌ Info: Epoch 84\n",
      "└ @ Main /Users/hughmurrell/.julia/packages/Flux/UHjNa/src/optimise/train.jl:93\n",
      "┌ Info: Epoch 85\n",
      "└ @ Main /Users/hughmurrell/.julia/packages/Flux/UHjNa/src/optimise/train.jl:93\n",
      "┌ Info: Epoch 86\n",
      "└ @ Main /Users/hughmurrell/.julia/packages/Flux/UHjNa/src/optimise/train.jl:93\n",
      "┌ Info: Epoch 87\n",
      "└ @ Main /Users/hughmurrell/.julia/packages/Flux/UHjNa/src/optimise/train.jl:93\n",
      "┌ Info: Epoch 88\n",
      "└ @ Main /Users/hughmurrell/.julia/packages/Flux/UHjNa/src/optimise/train.jl:93\n",
      "┌ Info: Epoch 89\n",
      "└ @ Main /Users/hughmurrell/.julia/packages/Flux/UHjNa/src/optimise/train.jl:93\n",
      "┌ Info: Epoch 90\n",
      "└ @ Main /Users/hughmurrell/.julia/packages/Flux/UHjNa/src/optimise/train.jl:93\n",
      "┌ Info: Epoch 91\n",
      "└ @ Main /Users/hughmurrell/.julia/packages/Flux/UHjNa/src/optimise/train.jl:93\n",
      "┌ Info: Epoch 92\n",
      "└ @ Main /Users/hughmurrell/.julia/packages/Flux/UHjNa/src/optimise/train.jl:93\n",
      "┌ Info: Epoch 93\n",
      "└ @ Main /Users/hughmurrell/.julia/packages/Flux/UHjNa/src/optimise/train.jl:93\n",
      "┌ Info: Epoch 94\n",
      "└ @ Main /Users/hughmurrell/.julia/packages/Flux/UHjNa/src/optimise/train.jl:93\n",
      "┌ Info: Epoch 95\n",
      "└ @ Main /Users/hughmurrell/.julia/packages/Flux/UHjNa/src/optimise/train.jl:93\n",
      "┌ Info: Epoch 96\n",
      "└ @ Main /Users/hughmurrell/.julia/packages/Flux/UHjNa/src/optimise/train.jl:93\n",
      "┌ Info: Epoch 97\n",
      "└ @ Main /Users/hughmurrell/.julia/packages/Flux/UHjNa/src/optimise/train.jl:93\n",
      "┌ Info: Epoch 98\n",
      "└ @ Main /Users/hughmurrell/.julia/packages/Flux/UHjNa/src/optimise/train.jl:93\n",
      "┌ Info: Epoch 99\n",
      "└ @ Main /Users/hughmurrell/.julia/packages/Flux/UHjNa/src/optimise/train.jl:93\n",
      "┌ Info: Epoch 100\n",
      "└ @ Main /Users/hughmurrell/.julia/packages/Flux/UHjNa/src/optimise/train.jl:93\n"
     ]
    }
   ],
   "source": [
    "using Flux\n",
    "using Flux: @epochs\n",
    "\n",
    "regData = zip(regX, regY)  # create tuples\n",
    "modelReg = Chain(Dense(1, 1), identity)\n",
    "loss(x, y) = Flux.mse(modelReg(x), y)\n",
    "opt = SGD(Flux.params(modelReg), 0.1)\n",
    "@epochs 100 Flux.train!(loss, regData, opt)"
   ]
  },
  {
   "cell_type": "code",
   "execution_count": 3,
   "metadata": {
    "collapsed": false
   },
   "outputs": [
    {
     "data": {
      "image/svg+xml": [
       "<?xml version=\"1.0\" encoding=\"utf-8\"?>\n",
       "<svg xmlns=\"http://www.w3.org/2000/svg\" xmlns:xlink=\"http://www.w3.org/1999/xlink\" width=\"600\" height=\"400\" viewBox=\"0 0 2400 1600\">\n",
       "<defs>\n",
       "  <clipPath id=\"clip7100\">\n",
       "    <rect x=\"0\" y=\"0\" width=\"2000\" height=\"2000\"/>\n",
       "  </clipPath>\n",
       "</defs>\n",
       "<defs>\n",
       "  <clipPath id=\"clip7101\">\n",
       "    <rect x=\"0\" y=\"0\" width=\"2400\" height=\"1600\"/>\n",
       "  </clipPath>\n",
       "</defs>\n",
       "<polygon clip-path=\"url(#clip7101)\" points=\"\n",
       "0,1600 2400,1600 2400,0 0,0 \n",
       "  \" fill=\"#ffffff\" fill-rule=\"evenodd\" fill-opacity=\"1\"/>\n",
       "<defs>\n",
       "  <clipPath id=\"clip7102\">\n",
       "    <rect x=\"480\" y=\"0\" width=\"1681\" height=\"1600\"/>\n",
       "  </clipPath>\n",
       "</defs>\n",
       "<polygon clip-path=\"url(#clip7101)\" points=\"\n",
       "174.775,1503.47 2321.26,1503.47 2321.26,47.2441 174.775,47.2441 \n",
       "  \" fill=\"#ffffff\" fill-rule=\"evenodd\" fill-opacity=\"1\"/>\n",
       "<defs>\n",
       "  <clipPath id=\"clip7103\">\n",
       "    <rect x=\"174\" y=\"47\" width=\"2147\" height=\"1457\"/>\n",
       "  </clipPath>\n",
       "</defs>\n",
       "<polyline clip-path=\"url(#clip7103)\" style=\"stroke:#000000; stroke-width:2; stroke-opacity:0.1; fill:none\" points=\"\n",
       "  235.525,1503.47 235.525,47.2441 \n",
       "  \"/>\n",
       "<polyline clip-path=\"url(#clip7103)\" style=\"stroke:#000000; stroke-width:2; stroke-opacity:0.1; fill:none\" points=\"\n",
       "  741.771,1503.47 741.771,47.2441 \n",
       "  \"/>\n",
       "<polyline clip-path=\"url(#clip7103)\" style=\"stroke:#000000; stroke-width:2; stroke-opacity:0.1; fill:none\" points=\"\n",
       "  1248.02,1503.47 1248.02,47.2441 \n",
       "  \"/>\n",
       "<polyline clip-path=\"url(#clip7103)\" style=\"stroke:#000000; stroke-width:2; stroke-opacity:0.1; fill:none\" points=\"\n",
       "  1754.26,1503.47 1754.26,47.2441 \n",
       "  \"/>\n",
       "<polyline clip-path=\"url(#clip7103)\" style=\"stroke:#000000; stroke-width:2; stroke-opacity:0.1; fill:none\" points=\"\n",
       "  2260.51,1503.47 2260.51,47.2441 \n",
       "  \"/>\n",
       "<polyline clip-path=\"url(#clip7103)\" style=\"stroke:#000000; stroke-width:2; stroke-opacity:0.1; fill:none\" points=\"\n",
       "  174.775,1317.25 2321.26,1317.25 \n",
       "  \"/>\n",
       "<polyline clip-path=\"url(#clip7103)\" style=\"stroke:#000000; stroke-width:2; stroke-opacity:0.1; fill:none\" points=\"\n",
       "  174.775,1043.73 2321.26,1043.73 \n",
       "  \"/>\n",
       "<polyline clip-path=\"url(#clip7103)\" style=\"stroke:#000000; stroke-width:2; stroke-opacity:0.1; fill:none\" points=\"\n",
       "  174.775,770.219 2321.26,770.219 \n",
       "  \"/>\n",
       "<polyline clip-path=\"url(#clip7103)\" style=\"stroke:#000000; stroke-width:2; stroke-opacity:0.1; fill:none\" points=\"\n",
       "  174.775,496.705 2321.26,496.705 \n",
       "  \"/>\n",
       "<polyline clip-path=\"url(#clip7103)\" style=\"stroke:#000000; stroke-width:2; stroke-opacity:0.1; fill:none\" points=\"\n",
       "  174.775,223.192 2321.26,223.192 \n",
       "  \"/>\n",
       "<polyline clip-path=\"url(#clip7101)\" style=\"stroke:#000000; stroke-width:4; stroke-opacity:1; fill:none\" points=\"\n",
       "  174.775,1503.47 2321.26,1503.47 \n",
       "  \"/>\n",
       "<polyline clip-path=\"url(#clip7101)\" style=\"stroke:#000000; stroke-width:4; stroke-opacity:1; fill:none\" points=\"\n",
       "  174.775,1503.47 174.775,47.2441 \n",
       "  \"/>\n",
       "<polyline clip-path=\"url(#clip7101)\" style=\"stroke:#000000; stroke-width:4; stroke-opacity:1; fill:none\" points=\"\n",
       "  235.525,1503.47 235.525,1481.63 \n",
       "  \"/>\n",
       "<polyline clip-path=\"url(#clip7101)\" style=\"stroke:#000000; stroke-width:4; stroke-opacity:1; fill:none\" points=\"\n",
       "  741.771,1503.47 741.771,1481.63 \n",
       "  \"/>\n",
       "<polyline clip-path=\"url(#clip7101)\" style=\"stroke:#000000; stroke-width:4; stroke-opacity:1; fill:none\" points=\"\n",
       "  1248.02,1503.47 1248.02,1481.63 \n",
       "  \"/>\n",
       "<polyline clip-path=\"url(#clip7101)\" style=\"stroke:#000000; stroke-width:4; stroke-opacity:1; fill:none\" points=\"\n",
       "  1754.26,1503.47 1754.26,1481.63 \n",
       "  \"/>\n",
       "<polyline clip-path=\"url(#clip7101)\" style=\"stroke:#000000; stroke-width:4; stroke-opacity:1; fill:none\" points=\"\n",
       "  2260.51,1503.47 2260.51,1481.63 \n",
       "  \"/>\n",
       "<polyline clip-path=\"url(#clip7101)\" style=\"stroke:#000000; stroke-width:4; stroke-opacity:1; fill:none\" points=\"\n",
       "  174.775,1317.25 206.972,1317.25 \n",
       "  \"/>\n",
       "<polyline clip-path=\"url(#clip7101)\" style=\"stroke:#000000; stroke-width:4; stroke-opacity:1; fill:none\" points=\"\n",
       "  174.775,1043.73 206.972,1043.73 \n",
       "  \"/>\n",
       "<polyline clip-path=\"url(#clip7101)\" style=\"stroke:#000000; stroke-width:4; stroke-opacity:1; fill:none\" points=\"\n",
       "  174.775,770.219 206.972,770.219 \n",
       "  \"/>\n",
       "<polyline clip-path=\"url(#clip7101)\" style=\"stroke:#000000; stroke-width:4; stroke-opacity:1; fill:none\" points=\"\n",
       "  174.775,496.705 206.972,496.705 \n",
       "  \"/>\n",
       "<polyline clip-path=\"url(#clip7101)\" style=\"stroke:#000000; stroke-width:4; stroke-opacity:1; fill:none\" points=\"\n",
       "  174.775,223.192 206.972,223.192 \n",
       "  \"/>\n",
       "<g clip-path=\"url(#clip7101)\">\n",
       "<text style=\"fill:#000000; fill-opacity:1; font-family:Arial,Helvetica Neue,Helvetica,sans-serif; font-size:48px; text-anchor:middle;\" transform=\"rotate(0, 235.525, 1557.47)\" x=\"235.525\" y=\"1557.47\">0.00</text>\n",
       "</g>\n",
       "<g clip-path=\"url(#clip7101)\">\n",
       "<text style=\"fill:#000000; fill-opacity:1; font-family:Arial,Helvetica Neue,Helvetica,sans-serif; font-size:48px; text-anchor:middle;\" transform=\"rotate(0, 741.771, 1557.47)\" x=\"741.771\" y=\"1557.47\">0.25</text>\n",
       "</g>\n",
       "<g clip-path=\"url(#clip7101)\">\n",
       "<text style=\"fill:#000000; fill-opacity:1; font-family:Arial,Helvetica Neue,Helvetica,sans-serif; font-size:48px; text-anchor:middle;\" transform=\"rotate(0, 1248.02, 1557.47)\" x=\"1248.02\" y=\"1557.47\">0.50</text>\n",
       "</g>\n",
       "<g clip-path=\"url(#clip7101)\">\n",
       "<text style=\"fill:#000000; fill-opacity:1; font-family:Arial,Helvetica Neue,Helvetica,sans-serif; font-size:48px; text-anchor:middle;\" transform=\"rotate(0, 1754.26, 1557.47)\" x=\"1754.26\" y=\"1557.47\">0.75</text>\n",
       "</g>\n",
       "<g clip-path=\"url(#clip7101)\">\n",
       "<text style=\"fill:#000000; fill-opacity:1; font-family:Arial,Helvetica Neue,Helvetica,sans-serif; font-size:48px; text-anchor:middle;\" transform=\"rotate(0, 2260.51, 1557.47)\" x=\"2260.51\" y=\"1557.47\">1.00</text>\n",
       "</g>\n",
       "<g clip-path=\"url(#clip7101)\">\n",
       "<text style=\"fill:#000000; fill-opacity:1; font-family:Arial,Helvetica Neue,Helvetica,sans-serif; font-size:48px; text-anchor:end;\" transform=\"rotate(0, 150.775, 1334.75)\" x=\"150.775\" y=\"1334.75\">60</text>\n",
       "</g>\n",
       "<g clip-path=\"url(#clip7101)\">\n",
       "<text style=\"fill:#000000; fill-opacity:1; font-family:Arial,Helvetica Neue,Helvetica,sans-serif; font-size:48px; text-anchor:end;\" transform=\"rotate(0, 150.775, 1061.23)\" x=\"150.775\" y=\"1061.23\">80</text>\n",
       "</g>\n",
       "<g clip-path=\"url(#clip7101)\">\n",
       "<text style=\"fill:#000000; fill-opacity:1; font-family:Arial,Helvetica Neue,Helvetica,sans-serif; font-size:48px; text-anchor:end;\" transform=\"rotate(0, 150.775, 787.719)\" x=\"150.775\" y=\"787.719\">100</text>\n",
       "</g>\n",
       "<g clip-path=\"url(#clip7101)\">\n",
       "<text style=\"fill:#000000; fill-opacity:1; font-family:Arial,Helvetica Neue,Helvetica,sans-serif; font-size:48px; text-anchor:end;\" transform=\"rotate(0, 150.775, 514.205)\" x=\"150.775\" y=\"514.205\">120</text>\n",
       "</g>\n",
       "<g clip-path=\"url(#clip7101)\">\n",
       "<text style=\"fill:#000000; fill-opacity:1; font-family:Arial,Helvetica Neue,Helvetica,sans-serif; font-size:48px; text-anchor:end;\" transform=\"rotate(0, 150.775, 240.692)\" x=\"150.775\" y=\"240.692\">140</text>\n",
       "</g>\n",
       "<circle clip-path=\"url(#clip7103)\" style=\"fill:#000000; stroke:none; fill-opacity:1\" cx=\"1996.48\" cy=\"267.257\" r=\"18\"/>\n",
       "<circle clip-path=\"url(#clip7103)\" style=\"fill:#009af9; stroke:none; fill-opacity:1\" cx=\"1996.48\" cy=\"267.257\" r=\"14\"/>\n",
       "<circle clip-path=\"url(#clip7103)\" style=\"fill:#000000; stroke:none; fill-opacity:1\" cx=\"1297.71\" cy=\"689.377\" r=\"18\"/>\n",
       "<circle clip-path=\"url(#clip7103)\" style=\"fill:#009af9; stroke:none; fill-opacity:1\" cx=\"1297.71\" cy=\"689.377\" r=\"14\"/>\n",
       "<circle clip-path=\"url(#clip7103)\" style=\"fill:#000000; stroke:none; fill-opacity:1\" cx=\"421.036\" cy=\"1366.19\" r=\"18\"/>\n",
       "<circle clip-path=\"url(#clip7103)\" style=\"fill:#009af9; stroke:none; fill-opacity:1\" cx=\"421.036\" cy=\"1366.19\" r=\"14\"/>\n",
       "<circle clip-path=\"url(#clip7103)\" style=\"fill:#000000; stroke:none; fill-opacity:1\" cx=\"1261.27\" cy=\"770.921\" r=\"18\"/>\n",
       "<circle clip-path=\"url(#clip7103)\" style=\"fill:#009af9; stroke:none; fill-opacity:1\" cx=\"1261.27\" cy=\"770.921\" r=\"14\"/>\n",
       "<circle clip-path=\"url(#clip7103)\" style=\"fill:#000000; stroke:none; fill-opacity:1\" cx=\"1348.54\" cy=\"687.776\" r=\"18\"/>\n",
       "<circle clip-path=\"url(#clip7103)\" style=\"fill:#009af9; stroke:none; fill-opacity:1\" cx=\"1348.54\" cy=\"687.776\" r=\"14\"/>\n",
       "<circle clip-path=\"url(#clip7103)\" style=\"fill:#000000; stroke:none; fill-opacity:1\" cx=\"310.165\" cy=\"1388.35\" r=\"18\"/>\n",
       "<circle clip-path=\"url(#clip7103)\" style=\"fill:#009af9; stroke:none; fill-opacity:1\" cx=\"310.165\" cy=\"1388.35\" r=\"14\"/>\n",
       "<circle clip-path=\"url(#clip7103)\" style=\"fill:#000000; stroke:none; fill-opacity:1\" cx=\"1705.52\" cy=\"466.088\" r=\"18\"/>\n",
       "<circle clip-path=\"url(#clip7103)\" style=\"fill:#009af9; stroke:none; fill-opacity:1\" cx=\"1705.52\" cy=\"466.088\" r=\"14\"/>\n",
       "<circle clip-path=\"url(#clip7103)\" style=\"fill:#000000; stroke:none; fill-opacity:1\" cx=\"1042.6\" cy=\"915.681\" r=\"18\"/>\n",
       "<circle clip-path=\"url(#clip7103)\" style=\"fill:#009af9; stroke:none; fill-opacity:1\" cx=\"1042.6\" cy=\"915.681\" r=\"14\"/>\n",
       "<circle clip-path=\"url(#clip7103)\" style=\"fill:#000000; stroke:none; fill-opacity:1\" cx=\"875.633\" cy=\"1005.74\" r=\"18\"/>\n",
       "<circle clip-path=\"url(#clip7103)\" style=\"fill:#009af9; stroke:none; fill-opacity:1\" cx=\"875.633\" cy=\"1005.74\" r=\"14\"/>\n",
       "<circle clip-path=\"url(#clip7103)\" style=\"fill:#000000; stroke:none; fill-opacity:1\" cx=\"780.303\" cy=\"1059.31\" r=\"18\"/>\n",
       "<circle clip-path=\"url(#clip7103)\" style=\"fill:#009af9; stroke:none; fill-opacity:1\" cx=\"780.303\" cy=\"1059.31\" r=\"14\"/>\n",
       "<circle clip-path=\"url(#clip7103)\" style=\"fill:#000000; stroke:none; fill-opacity:1\" cx=\"1709.34\" cy=\"463.085\" r=\"18\"/>\n",
       "<circle clip-path=\"url(#clip7103)\" style=\"fill:#009af9; stroke:none; fill-opacity:1\" cx=\"1709.34\" cy=\"463.085\" r=\"14\"/>\n",
       "<circle clip-path=\"url(#clip7103)\" style=\"fill:#000000; stroke:none; fill-opacity:1\" cx=\"430.422\" cy=\"1336.48\" r=\"18\"/>\n",
       "<circle clip-path=\"url(#clip7103)\" style=\"fill:#009af9; stroke:none; fill-opacity:1\" cx=\"430.422\" cy=\"1336.48\" r=\"14\"/>\n",
       "<circle clip-path=\"url(#clip7103)\" style=\"fill:#000000; stroke:none; fill-opacity:1\" cx=\"2243.79\" cy=\"142.069\" r=\"18\"/>\n",
       "<circle clip-path=\"url(#clip7103)\" style=\"fill:#009af9; stroke:none; fill-opacity:1\" cx=\"2243.79\" cy=\"142.069\" r=\"14\"/>\n",
       "<circle clip-path=\"url(#clip7103)\" style=\"fill:#000000; stroke:none; fill-opacity:1\" cx=\"1199.91\" cy=\"776.63\" r=\"18\"/>\n",
       "<circle clip-path=\"url(#clip7103)\" style=\"fill:#009af9; stroke:none; fill-opacity:1\" cx=\"1199.91\" cy=\"776.63\" r=\"14\"/>\n",
       "<circle clip-path=\"url(#clip7103)\" style=\"fill:#000000; stroke:none; fill-opacity:1\" cx=\"1862.78\" cy=\"412.392\" r=\"18\"/>\n",
       "<circle clip-path=\"url(#clip7103)\" style=\"fill:#009af9; stroke:none; fill-opacity:1\" cx=\"1862.78\" cy=\"412.392\" r=\"14\"/>\n",
       "<circle clip-path=\"url(#clip7103)\" style=\"fill:#000000; stroke:none; fill-opacity:1\" cx=\"311.927\" cy=\"1391.11\" r=\"18\"/>\n",
       "<circle clip-path=\"url(#clip7103)\" style=\"fill:#009af9; stroke:none; fill-opacity:1\" cx=\"311.927\" cy=\"1391.11\" r=\"14\"/>\n",
       "<circle clip-path=\"url(#clip7103)\" style=\"fill:#000000; stroke:none; fill-opacity:1\" cx=\"660.575\" cy=\"1130.2\" r=\"18\"/>\n",
       "<circle clip-path=\"url(#clip7103)\" style=\"fill:#009af9; stroke:none; fill-opacity:1\" cx=\"660.575\" cy=\"1130.2\" r=\"14\"/>\n",
       "<circle clip-path=\"url(#clip7103)\" style=\"fill:#000000; stroke:none; fill-opacity:1\" cx=\"1370.51\" cy=\"639.186\" r=\"18\"/>\n",
       "<circle clip-path=\"url(#clip7103)\" style=\"fill:#009af9; stroke:none; fill-opacity:1\" cx=\"1370.51\" cy=\"639.186\" r=\"14\"/>\n",
       "<circle clip-path=\"url(#clip7103)\" style=\"fill:#000000; stroke:none; fill-opacity:1\" cx=\"961.831\" cy=\"1012.88\" r=\"18\"/>\n",
       "<circle clip-path=\"url(#clip7103)\" style=\"fill:#009af9; stroke:none; fill-opacity:1\" cx=\"961.831\" cy=\"1012.88\" r=\"14\"/>\n",
       "<circle clip-path=\"url(#clip7103)\" style=\"fill:#000000; stroke:none; fill-opacity:1\" cx=\"2253.48\" cy=\"92.2774\" r=\"18\"/>\n",
       "<circle clip-path=\"url(#clip7103)\" style=\"fill:#009af9; stroke:none; fill-opacity:1\" cx=\"2253.48\" cy=\"92.2774\" r=\"14\"/>\n",
       "<circle clip-path=\"url(#clip7103)\" style=\"fill:#000000; stroke:none; fill-opacity:1\" cx=\"715.092\" cy=\"1113.07\" r=\"18\"/>\n",
       "<circle clip-path=\"url(#clip7103)\" style=\"fill:#009af9; stroke:none; fill-opacity:1\" cx=\"715.092\" cy=\"1113.07\" r=\"14\"/>\n",
       "<circle clip-path=\"url(#clip7103)\" style=\"fill:#000000; stroke:none; fill-opacity:1\" cx=\"1662.93\" cy=\"480.418\" r=\"18\"/>\n",
       "<circle clip-path=\"url(#clip7103)\" style=\"fill:#009af9; stroke:none; fill-opacity:1\" cx=\"1662.93\" cy=\"480.418\" r=\"14\"/>\n",
       "<circle clip-path=\"url(#clip7103)\" style=\"fill:#000000; stroke:none; fill-opacity:1\" cx=\"636.034\" cy=\"1198.57\" r=\"18\"/>\n",
       "<circle clip-path=\"url(#clip7103)\" style=\"fill:#009af9; stroke:none; fill-opacity:1\" cx=\"636.034\" cy=\"1198.57\" r=\"14\"/>\n",
       "<circle clip-path=\"url(#clip7103)\" style=\"fill:#000000; stroke:none; fill-opacity:1\" cx=\"591.306\" cy=\"1230.6\" r=\"18\"/>\n",
       "<circle clip-path=\"url(#clip7103)\" style=\"fill:#009af9; stroke:none; fill-opacity:1\" cx=\"591.306\" cy=\"1230.6\" r=\"14\"/>\n",
       "<circle clip-path=\"url(#clip7103)\" style=\"fill:#000000; stroke:none; fill-opacity:1\" cx=\"989.554\" cy=\"968.542\" r=\"18\"/>\n",
       "<circle clip-path=\"url(#clip7103)\" style=\"fill:#009af9; stroke:none; fill-opacity:1\" cx=\"989.554\" cy=\"968.542\" r=\"14\"/>\n",
       "<circle clip-path=\"url(#clip7103)\" style=\"fill:#000000; stroke:none; fill-opacity:1\" cx=\"1668.53\" cy=\"501.456\" r=\"18\"/>\n",
       "<circle clip-path=\"url(#clip7103)\" style=\"fill:#009af9; stroke:none; fill-opacity:1\" cx=\"1668.53\" cy=\"501.456\" r=\"14\"/>\n",
       "<circle clip-path=\"url(#clip7103)\" style=\"fill:#000000; stroke:none; fill-opacity:1\" cx=\"1934.11\" cy=\"386.187\" r=\"18\"/>\n",
       "<circle clip-path=\"url(#clip7103)\" style=\"fill:#009af9; stroke:none; fill-opacity:1\" cx=\"1934.11\" cy=\"386.187\" r=\"14\"/>\n",
       "<circle clip-path=\"url(#clip7103)\" style=\"fill:#000000; stroke:none; fill-opacity:1\" cx=\"1936.94\" cy=\"266.305\" r=\"18\"/>\n",
       "<circle clip-path=\"url(#clip7103)\" style=\"fill:#009af9; stroke:none; fill-opacity:1\" cx=\"1936.94\" cy=\"266.305\" r=\"14\"/>\n",
       "<circle clip-path=\"url(#clip7103)\" style=\"fill:#000000; stroke:none; fill-opacity:1\" cx=\"2128.5\" cy=\"191.464\" r=\"18\"/>\n",
       "<circle clip-path=\"url(#clip7103)\" style=\"fill:#009af9; stroke:none; fill-opacity:1\" cx=\"2128.5\" cy=\"191.464\" r=\"14\"/>\n",
       "<circle clip-path=\"url(#clip7103)\" style=\"fill:#000000; stroke:none; fill-opacity:1\" cx=\"1881.68\" cy=\"332.036\" r=\"18\"/>\n",
       "<circle clip-path=\"url(#clip7103)\" style=\"fill:#009af9; stroke:none; fill-opacity:1\" cx=\"1881.68\" cy=\"332.036\" r=\"14\"/>\n",
       "<circle clip-path=\"url(#clip7103)\" style=\"fill:#000000; stroke:none; fill-opacity:1\" cx=\"1187.09\" cy=\"783.813\" r=\"18\"/>\n",
       "<circle clip-path=\"url(#clip7103)\" style=\"fill:#009af9; stroke:none; fill-opacity:1\" cx=\"1187.09\" cy=\"783.813\" r=\"14\"/>\n",
       "<circle clip-path=\"url(#clip7103)\" style=\"fill:#000000; stroke:none; fill-opacity:1\" cx=\"1678.03\" cy=\"513.679\" r=\"18\"/>\n",
       "<circle clip-path=\"url(#clip7103)\" style=\"fill:#009af9; stroke:none; fill-opacity:1\" cx=\"1678.03\" cy=\"513.679\" r=\"14\"/>\n",
       "<circle clip-path=\"url(#clip7103)\" style=\"fill:#000000; stroke:none; fill-opacity:1\" cx=\"835.152\" cy=\"1076.72\" r=\"18\"/>\n",
       "<circle clip-path=\"url(#clip7103)\" style=\"fill:#009af9; stroke:none; fill-opacity:1\" cx=\"835.152\" cy=\"1076.72\" r=\"14\"/>\n",
       "<circle clip-path=\"url(#clip7103)\" style=\"fill:#000000; stroke:none; fill-opacity:1\" cx=\"477.073\" cy=\"1317.71\" r=\"18\"/>\n",
       "<circle clip-path=\"url(#clip7103)\" style=\"fill:#009af9; stroke:none; fill-opacity:1\" cx=\"477.073\" cy=\"1317.71\" r=\"14\"/>\n",
       "<circle clip-path=\"url(#clip7103)\" style=\"fill:#000000; stroke:none; fill-opacity:1\" cx=\"1197.76\" cy=\"779.69\" r=\"18\"/>\n",
       "<circle clip-path=\"url(#clip7103)\" style=\"fill:#009af9; stroke:none; fill-opacity:1\" cx=\"1197.76\" cy=\"779.69\" r=\"14\"/>\n",
       "<circle clip-path=\"url(#clip7103)\" style=\"fill:#000000; stroke:none; fill-opacity:1\" cx=\"351.124\" cy=\"1359.58\" r=\"18\"/>\n",
       "<circle clip-path=\"url(#clip7103)\" style=\"fill:#009af9; stroke:none; fill-opacity:1\" cx=\"351.124\" cy=\"1359.58\" r=\"14\"/>\n",
       "<circle clip-path=\"url(#clip7103)\" style=\"fill:#000000; stroke:none; fill-opacity:1\" cx=\"1083.09\" cy=\"901.013\" r=\"18\"/>\n",
       "<circle clip-path=\"url(#clip7103)\" style=\"fill:#009af9; stroke:none; fill-opacity:1\" cx=\"1083.09\" cy=\"901.013\" r=\"14\"/>\n",
       "<circle clip-path=\"url(#clip7103)\" style=\"fill:#000000; stroke:none; fill-opacity:1\" cx=\"1184.51\" cy=\"781.714\" r=\"18\"/>\n",
       "<circle clip-path=\"url(#clip7103)\" style=\"fill:#009af9; stroke:none; fill-opacity:1\" cx=\"1184.51\" cy=\"781.714\" r=\"14\"/>\n",
       "<circle clip-path=\"url(#clip7103)\" style=\"fill:#000000; stroke:none; fill-opacity:1\" cx=\"2130.26\" cy=\"192.494\" r=\"18\"/>\n",
       "<circle clip-path=\"url(#clip7103)\" style=\"fill:#009af9; stroke:none; fill-opacity:1\" cx=\"2130.26\" cy=\"192.494\" r=\"14\"/>\n",
       "<circle clip-path=\"url(#clip7103)\" style=\"fill:#000000; stroke:none; fill-opacity:1\" cx=\"2144.01\" cy=\"168.491\" r=\"18\"/>\n",
       "<circle clip-path=\"url(#clip7103)\" style=\"fill:#009af9; stroke:none; fill-opacity:1\" cx=\"2144.01\" cy=\"168.491\" r=\"14\"/>\n",
       "<circle clip-path=\"url(#clip7103)\" style=\"fill:#000000; stroke:none; fill-opacity:1\" cx=\"1294.92\" cy=\"755.927\" r=\"18\"/>\n",
       "<circle clip-path=\"url(#clip7103)\" style=\"fill:#009af9; stroke:none; fill-opacity:1\" cx=\"1294.92\" cy=\"755.927\" r=\"14\"/>\n",
       "<circle clip-path=\"url(#clip7103)\" style=\"fill:#000000; stroke:none; fill-opacity:1\" cx=\"1238.45\" cy=\"802.255\" r=\"18\"/>\n",
       "<circle clip-path=\"url(#clip7103)\" style=\"fill:#009af9; stroke:none; fill-opacity:1\" cx=\"1238.45\" cy=\"802.255\" r=\"14\"/>\n",
       "<circle clip-path=\"url(#clip7103)\" style=\"fill:#000000; stroke:none; fill-opacity:1\" cx=\"537.932\" cy=\"1232.07\" r=\"18\"/>\n",
       "<circle clip-path=\"url(#clip7103)\" style=\"fill:#009af9; stroke:none; fill-opacity:1\" cx=\"537.932\" cy=\"1232.07\" r=\"14\"/>\n",
       "<circle clip-path=\"url(#clip7103)\" style=\"fill:#000000; stroke:none; fill-opacity:1\" cx=\"1329.61\" cy=\"732.551\" r=\"18\"/>\n",
       "<circle clip-path=\"url(#clip7103)\" style=\"fill:#009af9; stroke:none; fill-opacity:1\" cx=\"1329.61\" cy=\"732.551\" r=\"14\"/>\n",
       "<circle clip-path=\"url(#clip7103)\" style=\"fill:#000000; stroke:none; fill-opacity:1\" cx=\"1479.68\" cy=\"593.239\" r=\"18\"/>\n",
       "<circle clip-path=\"url(#clip7103)\" style=\"fill:#009af9; stroke:none; fill-opacity:1\" cx=\"1479.68\" cy=\"593.239\" r=\"14\"/>\n",
       "<circle clip-path=\"url(#clip7103)\" style=\"fill:#000000; stroke:none; fill-opacity:1\" cx=\"1306.15\" cy=\"710.234\" r=\"18\"/>\n",
       "<circle clip-path=\"url(#clip7103)\" style=\"fill:#009af9; stroke:none; fill-opacity:1\" cx=\"1306.15\" cy=\"710.234\" r=\"14\"/>\n",
       "<circle clip-path=\"url(#clip7103)\" style=\"fill:#000000; stroke:none; fill-opacity:1\" cx=\"1746.55\" cy=\"403.198\" r=\"18\"/>\n",
       "<circle clip-path=\"url(#clip7103)\" style=\"fill:#009af9; stroke:none; fill-opacity:1\" cx=\"1746.55\" cy=\"403.198\" r=\"14\"/>\n",
       "<circle clip-path=\"url(#clip7103)\" style=\"fill:#000000; stroke:none; fill-opacity:1\" cx=\"266.77\" cy=\"1420.76\" r=\"18\"/>\n",
       "<circle clip-path=\"url(#clip7103)\" style=\"fill:#009af9; stroke:none; fill-opacity:1\" cx=\"266.77\" cy=\"1420.76\" r=\"14\"/>\n",
       "<circle clip-path=\"url(#clip7103)\" style=\"fill:#000000; stroke:none; fill-opacity:1\" cx=\"934.903\" cy=\"975.608\" r=\"18\"/>\n",
       "<circle clip-path=\"url(#clip7103)\" style=\"fill:#009af9; stroke:none; fill-opacity:1\" cx=\"934.903\" cy=\"975.608\" r=\"14\"/>\n",
       "<circle clip-path=\"url(#clip7103)\" style=\"fill:#000000; stroke:none; fill-opacity:1\" cx=\"2032.01\" cy=\"204.91\" r=\"18\"/>\n",
       "<circle clip-path=\"url(#clip7103)\" style=\"fill:#009af9; stroke:none; fill-opacity:1\" cx=\"2032.01\" cy=\"204.91\" r=\"14\"/>\n",
       "<circle clip-path=\"url(#clip7103)\" style=\"fill:#000000; stroke:none; fill-opacity:1\" cx=\"1079.28\" cy=\"919.391\" r=\"18\"/>\n",
       "<circle clip-path=\"url(#clip7103)\" style=\"fill:#009af9; stroke:none; fill-opacity:1\" cx=\"1079.28\" cy=\"919.391\" r=\"14\"/>\n",
       "<circle clip-path=\"url(#clip7103)\" style=\"fill:#000000; stroke:none; fill-opacity:1\" cx=\"1849.37\" cy=\"392.552\" r=\"18\"/>\n",
       "<circle clip-path=\"url(#clip7103)\" style=\"fill:#009af9; stroke:none; fill-opacity:1\" cx=\"1849.37\" cy=\"392.552\" r=\"14\"/>\n",
       "<circle clip-path=\"url(#clip7103)\" style=\"fill:#000000; stroke:none; fill-opacity:1\" cx=\"1743.32\" cy=\"436.343\" r=\"18\"/>\n",
       "<circle clip-path=\"url(#clip7103)\" style=\"fill:#009af9; stroke:none; fill-opacity:1\" cx=\"1743.32\" cy=\"436.343\" r=\"14\"/>\n",
       "<circle clip-path=\"url(#clip7103)\" style=\"fill:#000000; stroke:none; fill-opacity:1\" cx=\"1286.53\" cy=\"707.442\" r=\"18\"/>\n",
       "<circle clip-path=\"url(#clip7103)\" style=\"fill:#009af9; stroke:none; fill-opacity:1\" cx=\"1286.53\" cy=\"707.442\" r=\"14\"/>\n",
       "<circle clip-path=\"url(#clip7103)\" style=\"fill:#000000; stroke:none; fill-opacity:1\" cx=\"537.455\" cy=\"1255.82\" r=\"18\"/>\n",
       "<circle clip-path=\"url(#clip7103)\" style=\"fill:#009af9; stroke:none; fill-opacity:1\" cx=\"537.455\" cy=\"1255.82\" r=\"14\"/>\n",
       "<circle clip-path=\"url(#clip7103)\" style=\"fill:#000000; stroke:none; fill-opacity:1\" cx=\"1488.81\" cy=\"570.691\" r=\"18\"/>\n",
       "<circle clip-path=\"url(#clip7103)\" style=\"fill:#009af9; stroke:none; fill-opacity:1\" cx=\"1488.81\" cy=\"570.691\" r=\"14\"/>\n",
       "<circle clip-path=\"url(#clip7103)\" style=\"fill:#000000; stroke:none; fill-opacity:1\" cx=\"1573.18\" cy=\"535.917\" r=\"18\"/>\n",
       "<circle clip-path=\"url(#clip7103)\" style=\"fill:#009af9; stroke:none; fill-opacity:1\" cx=\"1573.18\" cy=\"535.917\" r=\"14\"/>\n",
       "<circle clip-path=\"url(#clip7103)\" style=\"fill:#000000; stroke:none; fill-opacity:1\" cx=\"1153.45\" cy=\"815.464\" r=\"18\"/>\n",
       "<circle clip-path=\"url(#clip7103)\" style=\"fill:#009af9; stroke:none; fill-opacity:1\" cx=\"1153.45\" cy=\"815.464\" r=\"14\"/>\n",
       "<circle clip-path=\"url(#clip7103)\" style=\"fill:#000000; stroke:none; fill-opacity:1\" cx=\"939.426\" cy=\"957.421\" r=\"18\"/>\n",
       "<circle clip-path=\"url(#clip7103)\" style=\"fill:#009af9; stroke:none; fill-opacity:1\" cx=\"939.426\" cy=\"957.421\" r=\"14\"/>\n",
       "<circle clip-path=\"url(#clip7103)\" style=\"fill:#000000; stroke:none; fill-opacity:1\" cx=\"577.684\" cy=\"1233.74\" r=\"18\"/>\n",
       "<circle clip-path=\"url(#clip7103)\" style=\"fill:#009af9; stroke:none; fill-opacity:1\" cx=\"577.684\" cy=\"1233.74\" r=\"14\"/>\n",
       "<circle clip-path=\"url(#clip7103)\" style=\"fill:#000000; stroke:none; fill-opacity:1\" cx=\"1206.47\" cy=\"804.82\" r=\"18\"/>\n",
       "<circle clip-path=\"url(#clip7103)\" style=\"fill:#009af9; stroke:none; fill-opacity:1\" cx=\"1206.47\" cy=\"804.82\" r=\"14\"/>\n",
       "<circle clip-path=\"url(#clip7103)\" style=\"fill:#000000; stroke:none; fill-opacity:1\" cx=\"1955.02\" cy=\"337.988\" r=\"18\"/>\n",
       "<circle clip-path=\"url(#clip7103)\" style=\"fill:#009af9; stroke:none; fill-opacity:1\" cx=\"1955.02\" cy=\"337.988\" r=\"14\"/>\n",
       "<circle clip-path=\"url(#clip7103)\" style=\"fill:#000000; stroke:none; fill-opacity:1\" cx=\"2086.58\" cy=\"247.694\" r=\"18\"/>\n",
       "<circle clip-path=\"url(#clip7103)\" style=\"fill:#009af9; stroke:none; fill-opacity:1\" cx=\"2086.58\" cy=\"247.694\" r=\"14\"/>\n",
       "<circle clip-path=\"url(#clip7103)\" style=\"fill:#000000; stroke:none; fill-opacity:1\" cx=\"299.055\" cy=\"1454.87\" r=\"18\"/>\n",
       "<circle clip-path=\"url(#clip7103)\" style=\"fill:#009af9; stroke:none; fill-opacity:1\" cx=\"299.055\" cy=\"1454.87\" r=\"14\"/>\n",
       "<circle clip-path=\"url(#clip7103)\" style=\"fill:#000000; stroke:none; fill-opacity:1\" cx=\"2173.31\" cy=\"152.658\" r=\"18\"/>\n",
       "<circle clip-path=\"url(#clip7103)\" style=\"fill:#009af9; stroke:none; fill-opacity:1\" cx=\"2173.31\" cy=\"152.658\" r=\"14\"/>\n",
       "<circle clip-path=\"url(#clip7103)\" style=\"fill:#000000; stroke:none; fill-opacity:1\" cx=\"1211.76\" cy=\"814.217\" r=\"18\"/>\n",
       "<circle clip-path=\"url(#clip7103)\" style=\"fill:#009af9; stroke:none; fill-opacity:1\" cx=\"1211.76\" cy=\"814.217\" r=\"14\"/>\n",
       "<circle clip-path=\"url(#clip7103)\" style=\"fill:#000000; stroke:none; fill-opacity:1\" cx=\"1811\" cy=\"413.685\" r=\"18\"/>\n",
       "<circle clip-path=\"url(#clip7103)\" style=\"fill:#009af9; stroke:none; fill-opacity:1\" cx=\"1811\" cy=\"413.685\" r=\"14\"/>\n",
       "<circle clip-path=\"url(#clip7103)\" style=\"fill:#000000; stroke:none; fill-opacity:1\" cx=\"1111.39\" cy=\"844.006\" r=\"18\"/>\n",
       "<circle clip-path=\"url(#clip7103)\" style=\"fill:#009af9; stroke:none; fill-opacity:1\" cx=\"1111.39\" cy=\"844.006\" r=\"14\"/>\n",
       "<circle clip-path=\"url(#clip7103)\" style=\"fill:#000000; stroke:none; fill-opacity:1\" cx=\"1184.05\" cy=\"805.049\" r=\"18\"/>\n",
       "<circle clip-path=\"url(#clip7103)\" style=\"fill:#009af9; stroke:none; fill-opacity:1\" cx=\"1184.05\" cy=\"805.049\" r=\"14\"/>\n",
       "<circle clip-path=\"url(#clip7103)\" style=\"fill:#000000; stroke:none; fill-opacity:1\" cx=\"940.929\" cy=\"1015.27\" r=\"18\"/>\n",
       "<circle clip-path=\"url(#clip7103)\" style=\"fill:#009af9; stroke:none; fill-opacity:1\" cx=\"940.929\" cy=\"1015.27\" r=\"14\"/>\n",
       "<circle clip-path=\"url(#clip7103)\" style=\"fill:#000000; stroke:none; fill-opacity:1\" cx=\"668.16\" cy=\"1173.3\" r=\"18\"/>\n",
       "<circle clip-path=\"url(#clip7103)\" style=\"fill:#009af9; stroke:none; fill-opacity:1\" cx=\"668.16\" cy=\"1173.3\" r=\"14\"/>\n",
       "<circle clip-path=\"url(#clip7103)\" style=\"fill:#000000; stroke:none; fill-opacity:1\" cx=\"2038.75\" cy=\"215.559\" r=\"18\"/>\n",
       "<circle clip-path=\"url(#clip7103)\" style=\"fill:#009af9; stroke:none; fill-opacity:1\" cx=\"2038.75\" cy=\"215.559\" r=\"14\"/>\n",
       "<circle clip-path=\"url(#clip7103)\" style=\"fill:#000000; stroke:none; fill-opacity:1\" cx=\"986.302\" cy=\"930.611\" r=\"18\"/>\n",
       "<circle clip-path=\"url(#clip7103)\" style=\"fill:#009af9; stroke:none; fill-opacity:1\" cx=\"986.302\" cy=\"930.611\" r=\"14\"/>\n",
       "<circle clip-path=\"url(#clip7103)\" style=\"fill:#000000; stroke:none; fill-opacity:1\" cx=\"1076.91\" cy=\"918.457\" r=\"18\"/>\n",
       "<circle clip-path=\"url(#clip7103)\" style=\"fill:#009af9; stroke:none; fill-opacity:1\" cx=\"1076.91\" cy=\"918.457\" r=\"14\"/>\n",
       "<circle clip-path=\"url(#clip7103)\" style=\"fill:#000000; stroke:none; fill-opacity:1\" cx=\"841.429\" cy=\"1004.11\" r=\"18\"/>\n",
       "<circle clip-path=\"url(#clip7103)\" style=\"fill:#009af9; stroke:none; fill-opacity:1\" cx=\"841.429\" cy=\"1004.11\" r=\"14\"/>\n",
       "<circle clip-path=\"url(#clip7103)\" style=\"fill:#000000; stroke:none; fill-opacity:1\" cx=\"1972.14\" cy=\"278.526\" r=\"18\"/>\n",
       "<circle clip-path=\"url(#clip7103)\" style=\"fill:#009af9; stroke:none; fill-opacity:1\" cx=\"1972.14\" cy=\"278.526\" r=\"14\"/>\n",
       "<circle clip-path=\"url(#clip7103)\" style=\"fill:#000000; stroke:none; fill-opacity:1\" cx=\"1780.71\" cy=\"451.776\" r=\"18\"/>\n",
       "<circle clip-path=\"url(#clip7103)\" style=\"fill:#009af9; stroke:none; fill-opacity:1\" cx=\"1780.71\" cy=\"451.776\" r=\"14\"/>\n",
       "<circle clip-path=\"url(#clip7103)\" style=\"fill:#000000; stroke:none; fill-opacity:1\" cx=\"1830.45\" cy=\"379.32\" r=\"18\"/>\n",
       "<circle clip-path=\"url(#clip7103)\" style=\"fill:#009af9; stroke:none; fill-opacity:1\" cx=\"1830.45\" cy=\"379.32\" r=\"14\"/>\n",
       "<circle clip-path=\"url(#clip7103)\" style=\"fill:#000000; stroke:none; fill-opacity:1\" cx=\"853.873\" cy=\"1078.01\" r=\"18\"/>\n",
       "<circle clip-path=\"url(#clip7103)\" style=\"fill:#009af9; stroke:none; fill-opacity:1\" cx=\"853.873\" cy=\"1078.01\" r=\"14\"/>\n",
       "<circle clip-path=\"url(#clip7103)\" style=\"fill:#000000; stroke:none; fill-opacity:1\" cx=\"1072.18\" cy=\"881.743\" r=\"18\"/>\n",
       "<circle clip-path=\"url(#clip7103)\" style=\"fill:#009af9; stroke:none; fill-opacity:1\" cx=\"1072.18\" cy=\"881.743\" r=\"14\"/>\n",
       "<circle clip-path=\"url(#clip7103)\" style=\"fill:#000000; stroke:none; fill-opacity:1\" cx=\"1302.62\" cy=\"698.037\" r=\"18\"/>\n",
       "<circle clip-path=\"url(#clip7103)\" style=\"fill:#009af9; stroke:none; fill-opacity:1\" cx=\"1302.62\" cy=\"698.037\" r=\"14\"/>\n",
       "<circle clip-path=\"url(#clip7103)\" style=\"fill:#000000; stroke:none; fill-opacity:1\" cx=\"1712.42\" cy=\"422.036\" r=\"18\"/>\n",
       "<circle clip-path=\"url(#clip7103)\" style=\"fill:#009af9; stroke:none; fill-opacity:1\" cx=\"1712.42\" cy=\"422.036\" r=\"14\"/>\n",
       "<circle clip-path=\"url(#clip7103)\" style=\"fill:#000000; stroke:none; fill-opacity:1\" cx=\"1699.06\" cy=\"457.599\" r=\"18\"/>\n",
       "<circle clip-path=\"url(#clip7103)\" style=\"fill:#009af9; stroke:none; fill-opacity:1\" cx=\"1699.06\" cy=\"457.599\" r=\"14\"/>\n",
       "<circle clip-path=\"url(#clip7103)\" style=\"fill:#000000; stroke:none; fill-opacity:1\" cx=\"1326.89\" cy=\"732.569\" r=\"18\"/>\n",
       "<circle clip-path=\"url(#clip7103)\" style=\"fill:#009af9; stroke:none; fill-opacity:1\" cx=\"1326.89\" cy=\"732.569\" r=\"14\"/>\n",
       "<circle clip-path=\"url(#clip7103)\" style=\"fill:#000000; stroke:none; fill-opacity:1\" cx=\"1111.98\" cy=\"830.558\" r=\"18\"/>\n",
       "<circle clip-path=\"url(#clip7103)\" style=\"fill:#009af9; stroke:none; fill-opacity:1\" cx=\"1111.98\" cy=\"830.558\" r=\"14\"/>\n",
       "<circle clip-path=\"url(#clip7103)\" style=\"fill:#000000; stroke:none; fill-opacity:1\" cx=\"1312.19\" cy=\"758.176\" r=\"18\"/>\n",
       "<circle clip-path=\"url(#clip7103)\" style=\"fill:#009af9; stroke:none; fill-opacity:1\" cx=\"1312.19\" cy=\"758.176\" r=\"14\"/>\n",
       "<circle clip-path=\"url(#clip7103)\" style=\"fill:#000000; stroke:none; fill-opacity:1\" cx=\"1819.8\" cy=\"368.64\" r=\"18\"/>\n",
       "<circle clip-path=\"url(#clip7103)\" style=\"fill:#009af9; stroke:none; fill-opacity:1\" cx=\"1819.8\" cy=\"368.64\" r=\"14\"/>\n",
       "<circle clip-path=\"url(#clip7103)\" style=\"fill:#000000; stroke:none; fill-opacity:1\" cx=\"1262.57\" cy=\"774.381\" r=\"18\"/>\n",
       "<circle clip-path=\"url(#clip7103)\" style=\"fill:#009af9; stroke:none; fill-opacity:1\" cx=\"1262.57\" cy=\"774.381\" r=\"14\"/>\n",
       "<circle clip-path=\"url(#clip7103)\" style=\"fill:#000000; stroke:none; fill-opacity:1\" cx=\"308.92\" cy=\"1418.82\" r=\"18\"/>\n",
       "<circle clip-path=\"url(#clip7103)\" style=\"fill:#009af9; stroke:none; fill-opacity:1\" cx=\"308.92\" cy=\"1418.82\" r=\"14\"/>\n",
       "<circle clip-path=\"url(#clip7103)\" style=\"fill:#000000; stroke:none; fill-opacity:1\" cx=\"856.175\" cy=\"1056.89\" r=\"18\"/>\n",
       "<circle clip-path=\"url(#clip7103)\" style=\"fill:#009af9; stroke:none; fill-opacity:1\" cx=\"856.175\" cy=\"1056.89\" r=\"14\"/>\n",
       "<circle clip-path=\"url(#clip7103)\" style=\"fill:#000000; stroke:none; fill-opacity:1\" cx=\"1031.7\" cy=\"949.626\" r=\"18\"/>\n",
       "<circle clip-path=\"url(#clip7103)\" style=\"fill:#009af9; stroke:none; fill-opacity:1\" cx=\"1031.7\" cy=\"949.626\" r=\"14\"/>\n",
       "<circle clip-path=\"url(#clip7103)\" style=\"fill:#000000; stroke:none; fill-opacity:1\" cx=\"1682.46\" cy=\"470.499\" r=\"18\"/>\n",
       "<circle clip-path=\"url(#clip7103)\" style=\"fill:#009af9; stroke:none; fill-opacity:1\" cx=\"1682.46\" cy=\"470.499\" r=\"14\"/>\n",
       "<circle clip-path=\"url(#clip7103)\" style=\"fill:#000000; stroke:none; fill-opacity:1\" cx=\"1348.18\" cy=\"746.832\" r=\"18\"/>\n",
       "<circle clip-path=\"url(#clip7103)\" style=\"fill:#009af9; stroke:none; fill-opacity:1\" cx=\"1348.18\" cy=\"746.832\" r=\"14\"/>\n",
       "<circle clip-path=\"url(#clip7103)\" style=\"fill:#000000; stroke:none; fill-opacity:1\" cx=\"893.136\" cy=\"978.501\" r=\"18\"/>\n",
       "<circle clip-path=\"url(#clip7103)\" style=\"fill:#009af9; stroke:none; fill-opacity:1\" cx=\"893.136\" cy=\"978.501\" r=\"14\"/>\n",
       "<circle clip-path=\"url(#clip7103)\" style=\"fill:#000000; stroke:none; fill-opacity:1\" cx=\"706.129\" cy=\"1168.7\" r=\"18\"/>\n",
       "<circle clip-path=\"url(#clip7103)\" style=\"fill:#009af9; stroke:none; fill-opacity:1\" cx=\"706.129\" cy=\"1168.7\" r=\"14\"/>\n",
       "<circle clip-path=\"url(#clip7103)\" style=\"fill:#000000; stroke:none; fill-opacity:1\" cx=\"2174.04\" cy=\"120.097\" r=\"18\"/>\n",
       "<circle clip-path=\"url(#clip7103)\" style=\"fill:#009af9; stroke:none; fill-opacity:1\" cx=\"2174.04\" cy=\"120.097\" r=\"14\"/>\n",
       "<circle clip-path=\"url(#clip7103)\" style=\"fill:#000000; stroke:none; fill-opacity:1\" cx=\"1232.27\" cy=\"787.612\" r=\"18\"/>\n",
       "<circle clip-path=\"url(#clip7103)\" style=\"fill:#009af9; stroke:none; fill-opacity:1\" cx=\"1232.27\" cy=\"787.612\" r=\"14\"/>\n",
       "<circle clip-path=\"url(#clip7103)\" style=\"fill:#000000; stroke:none; fill-opacity:1\" cx=\"569.733\" cy=\"1250.39\" r=\"18\"/>\n",
       "<circle clip-path=\"url(#clip7103)\" style=\"fill:#009af9; stroke:none; fill-opacity:1\" cx=\"569.733\" cy=\"1250.39\" r=\"14\"/>\n",
       "<circle clip-path=\"url(#clip7103)\" style=\"fill:#000000; stroke:none; fill-opacity:1\" cx=\"1169.44\" cy=\"843.673\" r=\"18\"/>\n",
       "<circle clip-path=\"url(#clip7103)\" style=\"fill:#009af9; stroke:none; fill-opacity:1\" cx=\"1169.44\" cy=\"843.673\" r=\"14\"/>\n",
       "<circle clip-path=\"url(#clip7103)\" style=\"fill:#000000; stroke:none; fill-opacity:1\" cx=\"1487.74\" cy=\"600.121\" r=\"18\"/>\n",
       "<circle clip-path=\"url(#clip7103)\" style=\"fill:#009af9; stroke:none; fill-opacity:1\" cx=\"1487.74\" cy=\"600.121\" r=\"14\"/>\n",
       "<circle clip-path=\"url(#clip7103)\" style=\"fill:#000000; stroke:none; fill-opacity:1\" cx=\"235.525\" cy=\"1462.26\" r=\"18\"/>\n",
       "<circle clip-path=\"url(#clip7103)\" style=\"fill:#e26f46; stroke:none; fill-opacity:1\" cx=\"235.525\" cy=\"1462.26\" r=\"14\"/>\n",
       "<circle clip-path=\"url(#clip7103)\" style=\"fill:#000000; stroke:none; fill-opacity:1\" cx=\"255.979\" cy=\"1448.38\" r=\"18\"/>\n",
       "<circle clip-path=\"url(#clip7103)\" style=\"fill:#e26f46; stroke:none; fill-opacity:1\" cx=\"255.979\" cy=\"1448.38\" r=\"14\"/>\n",
       "<circle clip-path=\"url(#clip7103)\" style=\"fill:#000000; stroke:none; fill-opacity:1\" cx=\"276.434\" cy=\"1434.51\" r=\"18\"/>\n",
       "<circle clip-path=\"url(#clip7103)\" style=\"fill:#e26f46; stroke:none; fill-opacity:1\" cx=\"276.434\" cy=\"1434.51\" r=\"14\"/>\n",
       "<circle clip-path=\"url(#clip7103)\" style=\"fill:#000000; stroke:none; fill-opacity:1\" cx=\"296.888\" cy=\"1420.63\" r=\"18\"/>\n",
       "<circle clip-path=\"url(#clip7103)\" style=\"fill:#e26f46; stroke:none; fill-opacity:1\" cx=\"296.888\" cy=\"1420.63\" r=\"14\"/>\n",
       "<circle clip-path=\"url(#clip7103)\" style=\"fill:#000000; stroke:none; fill-opacity:1\" cx=\"317.342\" cy=\"1406.75\" r=\"18\"/>\n",
       "<circle clip-path=\"url(#clip7103)\" style=\"fill:#e26f46; stroke:none; fill-opacity:1\" cx=\"317.342\" cy=\"1406.75\" r=\"14\"/>\n",
       "<circle clip-path=\"url(#clip7103)\" style=\"fill:#000000; stroke:none; fill-opacity:1\" cx=\"337.797\" cy=\"1392.88\" r=\"18\"/>\n",
       "<circle clip-path=\"url(#clip7103)\" style=\"fill:#e26f46; stroke:none; fill-opacity:1\" cx=\"337.797\" cy=\"1392.88\" r=\"14\"/>\n",
       "<circle clip-path=\"url(#clip7103)\" style=\"fill:#000000; stroke:none; fill-opacity:1\" cx=\"358.251\" cy=\"1379\" r=\"18\"/>\n",
       "<circle clip-path=\"url(#clip7103)\" style=\"fill:#e26f46; stroke:none; fill-opacity:1\" cx=\"358.251\" cy=\"1379\" r=\"14\"/>\n",
       "<circle clip-path=\"url(#clip7103)\" style=\"fill:#000000; stroke:none; fill-opacity:1\" cx=\"378.706\" cy=\"1365.12\" r=\"18\"/>\n",
       "<circle clip-path=\"url(#clip7103)\" style=\"fill:#e26f46; stroke:none; fill-opacity:1\" cx=\"378.706\" cy=\"1365.12\" r=\"14\"/>\n",
       "<circle clip-path=\"url(#clip7103)\" style=\"fill:#000000; stroke:none; fill-opacity:1\" cx=\"399.16\" cy=\"1351.25\" r=\"18\"/>\n",
       "<circle clip-path=\"url(#clip7103)\" style=\"fill:#e26f46; stroke:none; fill-opacity:1\" cx=\"399.16\" cy=\"1351.25\" r=\"14\"/>\n",
       "<circle clip-path=\"url(#clip7103)\" style=\"fill:#000000; stroke:none; fill-opacity:1\" cx=\"419.614\" cy=\"1337.37\" r=\"18\"/>\n",
       "<circle clip-path=\"url(#clip7103)\" style=\"fill:#e26f46; stroke:none; fill-opacity:1\" cx=\"419.614\" cy=\"1337.37\" r=\"14\"/>\n",
       "<circle clip-path=\"url(#clip7103)\" style=\"fill:#000000; stroke:none; fill-opacity:1\" cx=\"440.069\" cy=\"1323.49\" r=\"18\"/>\n",
       "<circle clip-path=\"url(#clip7103)\" style=\"fill:#e26f46; stroke:none; fill-opacity:1\" cx=\"440.069\" cy=\"1323.49\" r=\"14\"/>\n",
       "<circle clip-path=\"url(#clip7103)\" style=\"fill:#000000; stroke:none; fill-opacity:1\" cx=\"460.523\" cy=\"1309.62\" r=\"18\"/>\n",
       "<circle clip-path=\"url(#clip7103)\" style=\"fill:#e26f46; stroke:none; fill-opacity:1\" cx=\"460.523\" cy=\"1309.62\" r=\"14\"/>\n",
       "<circle clip-path=\"url(#clip7103)\" style=\"fill:#000000; stroke:none; fill-opacity:1\" cx=\"480.978\" cy=\"1295.74\" r=\"18\"/>\n",
       "<circle clip-path=\"url(#clip7103)\" style=\"fill:#e26f46; stroke:none; fill-opacity:1\" cx=\"480.978\" cy=\"1295.74\" r=\"14\"/>\n",
       "<circle clip-path=\"url(#clip7103)\" style=\"fill:#000000; stroke:none; fill-opacity:1\" cx=\"501.432\" cy=\"1281.86\" r=\"18\"/>\n",
       "<circle clip-path=\"url(#clip7103)\" style=\"fill:#e26f46; stroke:none; fill-opacity:1\" cx=\"501.432\" cy=\"1281.86\" r=\"14\"/>\n",
       "<circle clip-path=\"url(#clip7103)\" style=\"fill:#000000; stroke:none; fill-opacity:1\" cx=\"521.886\" cy=\"1267.99\" r=\"18\"/>\n",
       "<circle clip-path=\"url(#clip7103)\" style=\"fill:#e26f46; stroke:none; fill-opacity:1\" cx=\"521.886\" cy=\"1267.99\" r=\"14\"/>\n",
       "<circle clip-path=\"url(#clip7103)\" style=\"fill:#000000; stroke:none; fill-opacity:1\" cx=\"542.341\" cy=\"1254.11\" r=\"18\"/>\n",
       "<circle clip-path=\"url(#clip7103)\" style=\"fill:#e26f46; stroke:none; fill-opacity:1\" cx=\"542.341\" cy=\"1254.11\" r=\"14\"/>\n",
       "<circle clip-path=\"url(#clip7103)\" style=\"fill:#000000; stroke:none; fill-opacity:1\" cx=\"562.795\" cy=\"1240.23\" r=\"18\"/>\n",
       "<circle clip-path=\"url(#clip7103)\" style=\"fill:#e26f46; stroke:none; fill-opacity:1\" cx=\"562.795\" cy=\"1240.23\" r=\"14\"/>\n",
       "<circle clip-path=\"url(#clip7103)\" style=\"fill:#000000; stroke:none; fill-opacity:1\" cx=\"583.25\" cy=\"1226.36\" r=\"18\"/>\n",
       "<circle clip-path=\"url(#clip7103)\" style=\"fill:#e26f46; stroke:none; fill-opacity:1\" cx=\"583.25\" cy=\"1226.36\" r=\"14\"/>\n",
       "<circle clip-path=\"url(#clip7103)\" style=\"fill:#000000; stroke:none; fill-opacity:1\" cx=\"603.704\" cy=\"1212.48\" r=\"18\"/>\n",
       "<circle clip-path=\"url(#clip7103)\" style=\"fill:#e26f46; stroke:none; fill-opacity:1\" cx=\"603.704\" cy=\"1212.48\" r=\"14\"/>\n",
       "<circle clip-path=\"url(#clip7103)\" style=\"fill:#000000; stroke:none; fill-opacity:1\" cx=\"624.158\" cy=\"1198.6\" r=\"18\"/>\n",
       "<circle clip-path=\"url(#clip7103)\" style=\"fill:#e26f46; stroke:none; fill-opacity:1\" cx=\"624.158\" cy=\"1198.6\" r=\"14\"/>\n",
       "<circle clip-path=\"url(#clip7103)\" style=\"fill:#000000; stroke:none; fill-opacity:1\" cx=\"644.613\" cy=\"1184.72\" r=\"18\"/>\n",
       "<circle clip-path=\"url(#clip7103)\" style=\"fill:#e26f46; stroke:none; fill-opacity:1\" cx=\"644.613\" cy=\"1184.72\" r=\"14\"/>\n",
       "<circle clip-path=\"url(#clip7103)\" style=\"fill:#000000; stroke:none; fill-opacity:1\" cx=\"665.067\" cy=\"1170.85\" r=\"18\"/>\n",
       "<circle clip-path=\"url(#clip7103)\" style=\"fill:#e26f46; stroke:none; fill-opacity:1\" cx=\"665.067\" cy=\"1170.85\" r=\"14\"/>\n",
       "<circle clip-path=\"url(#clip7103)\" style=\"fill:#000000; stroke:none; fill-opacity:1\" cx=\"685.522\" cy=\"1156.97\" r=\"18\"/>\n",
       "<circle clip-path=\"url(#clip7103)\" style=\"fill:#e26f46; stroke:none; fill-opacity:1\" cx=\"685.522\" cy=\"1156.97\" r=\"14\"/>\n",
       "<circle clip-path=\"url(#clip7103)\" style=\"fill:#000000; stroke:none; fill-opacity:1\" cx=\"705.976\" cy=\"1143.09\" r=\"18\"/>\n",
       "<circle clip-path=\"url(#clip7103)\" style=\"fill:#e26f46; stroke:none; fill-opacity:1\" cx=\"705.976\" cy=\"1143.09\" r=\"14\"/>\n",
       "<circle clip-path=\"url(#clip7103)\" style=\"fill:#000000; stroke:none; fill-opacity:1\" cx=\"726.43\" cy=\"1129.22\" r=\"18\"/>\n",
       "<circle clip-path=\"url(#clip7103)\" style=\"fill:#e26f46; stroke:none; fill-opacity:1\" cx=\"726.43\" cy=\"1129.22\" r=\"14\"/>\n",
       "<circle clip-path=\"url(#clip7103)\" style=\"fill:#000000; stroke:none; fill-opacity:1\" cx=\"746.885\" cy=\"1115.34\" r=\"18\"/>\n",
       "<circle clip-path=\"url(#clip7103)\" style=\"fill:#e26f46; stroke:none; fill-opacity:1\" cx=\"746.885\" cy=\"1115.34\" r=\"14\"/>\n",
       "<circle clip-path=\"url(#clip7103)\" style=\"fill:#000000; stroke:none; fill-opacity:1\" cx=\"767.339\" cy=\"1101.46\" r=\"18\"/>\n",
       "<circle clip-path=\"url(#clip7103)\" style=\"fill:#e26f46; stroke:none; fill-opacity:1\" cx=\"767.339\" cy=\"1101.46\" r=\"14\"/>\n",
       "<circle clip-path=\"url(#clip7103)\" style=\"fill:#000000; stroke:none; fill-opacity:1\" cx=\"787.794\" cy=\"1087.59\" r=\"18\"/>\n",
       "<circle clip-path=\"url(#clip7103)\" style=\"fill:#e26f46; stroke:none; fill-opacity:1\" cx=\"787.794\" cy=\"1087.59\" r=\"14\"/>\n",
       "<circle clip-path=\"url(#clip7103)\" style=\"fill:#000000; stroke:none; fill-opacity:1\" cx=\"808.248\" cy=\"1073.71\" r=\"18\"/>\n",
       "<circle clip-path=\"url(#clip7103)\" style=\"fill:#e26f46; stroke:none; fill-opacity:1\" cx=\"808.248\" cy=\"1073.71\" r=\"14\"/>\n",
       "<circle clip-path=\"url(#clip7103)\" style=\"fill:#000000; stroke:none; fill-opacity:1\" cx=\"828.702\" cy=\"1059.83\" r=\"18\"/>\n",
       "<circle clip-path=\"url(#clip7103)\" style=\"fill:#e26f46; stroke:none; fill-opacity:1\" cx=\"828.702\" cy=\"1059.83\" r=\"14\"/>\n",
       "<circle clip-path=\"url(#clip7103)\" style=\"fill:#000000; stroke:none; fill-opacity:1\" cx=\"849.157\" cy=\"1045.96\" r=\"18\"/>\n",
       "<circle clip-path=\"url(#clip7103)\" style=\"fill:#e26f46; stroke:none; fill-opacity:1\" cx=\"849.157\" cy=\"1045.96\" r=\"14\"/>\n",
       "<circle clip-path=\"url(#clip7103)\" style=\"fill:#000000; stroke:none; fill-opacity:1\" cx=\"869.611\" cy=\"1032.08\" r=\"18\"/>\n",
       "<circle clip-path=\"url(#clip7103)\" style=\"fill:#e26f46; stroke:none; fill-opacity:1\" cx=\"869.611\" cy=\"1032.08\" r=\"14\"/>\n",
       "<circle clip-path=\"url(#clip7103)\" style=\"fill:#000000; stroke:none; fill-opacity:1\" cx=\"890.066\" cy=\"1018.2\" r=\"18\"/>\n",
       "<circle clip-path=\"url(#clip7103)\" style=\"fill:#e26f46; stroke:none; fill-opacity:1\" cx=\"890.066\" cy=\"1018.2\" r=\"14\"/>\n",
       "<circle clip-path=\"url(#clip7103)\" style=\"fill:#000000; stroke:none; fill-opacity:1\" cx=\"910.52\" cy=\"1004.33\" r=\"18\"/>\n",
       "<circle clip-path=\"url(#clip7103)\" style=\"fill:#e26f46; stroke:none; fill-opacity:1\" cx=\"910.52\" cy=\"1004.33\" r=\"14\"/>\n",
       "<circle clip-path=\"url(#clip7103)\" style=\"fill:#000000; stroke:none; fill-opacity:1\" cx=\"930.974\" cy=\"990.45\" r=\"18\"/>\n",
       "<circle clip-path=\"url(#clip7103)\" style=\"fill:#e26f46; stroke:none; fill-opacity:1\" cx=\"930.974\" cy=\"990.45\" r=\"14\"/>\n",
       "<circle clip-path=\"url(#clip7103)\" style=\"fill:#000000; stroke:none; fill-opacity:1\" cx=\"951.429\" cy=\"976.573\" r=\"18\"/>\n",
       "<circle clip-path=\"url(#clip7103)\" style=\"fill:#e26f46; stroke:none; fill-opacity:1\" cx=\"951.429\" cy=\"976.573\" r=\"14\"/>\n",
       "<circle clip-path=\"url(#clip7103)\" style=\"fill:#000000; stroke:none; fill-opacity:1\" cx=\"971.883\" cy=\"962.696\" r=\"18\"/>\n",
       "<circle clip-path=\"url(#clip7103)\" style=\"fill:#e26f46; stroke:none; fill-opacity:1\" cx=\"971.883\" cy=\"962.696\" r=\"14\"/>\n",
       "<circle clip-path=\"url(#clip7103)\" style=\"fill:#000000; stroke:none; fill-opacity:1\" cx=\"992.338\" cy=\"948.819\" r=\"18\"/>\n",
       "<circle clip-path=\"url(#clip7103)\" style=\"fill:#e26f46; stroke:none; fill-opacity:1\" cx=\"992.338\" cy=\"948.819\" r=\"14\"/>\n",
       "<circle clip-path=\"url(#clip7103)\" style=\"fill:#000000; stroke:none; fill-opacity:1\" cx=\"1012.79\" cy=\"934.943\" r=\"18\"/>\n",
       "<circle clip-path=\"url(#clip7103)\" style=\"fill:#e26f46; stroke:none; fill-opacity:1\" cx=\"1012.79\" cy=\"934.943\" r=\"14\"/>\n",
       "<circle clip-path=\"url(#clip7103)\" style=\"fill:#000000; stroke:none; fill-opacity:1\" cx=\"1033.25\" cy=\"921.066\" r=\"18\"/>\n",
       "<circle clip-path=\"url(#clip7103)\" style=\"fill:#e26f46; stroke:none; fill-opacity:1\" cx=\"1033.25\" cy=\"921.066\" r=\"14\"/>\n",
       "<circle clip-path=\"url(#clip7103)\" style=\"fill:#000000; stroke:none; fill-opacity:1\" cx=\"1053.7\" cy=\"907.189\" r=\"18\"/>\n",
       "<circle clip-path=\"url(#clip7103)\" style=\"fill:#e26f46; stroke:none; fill-opacity:1\" cx=\"1053.7\" cy=\"907.189\" r=\"14\"/>\n",
       "<circle clip-path=\"url(#clip7103)\" style=\"fill:#000000; stroke:none; fill-opacity:1\" cx=\"1074.16\" cy=\"893.312\" r=\"18\"/>\n",
       "<circle clip-path=\"url(#clip7103)\" style=\"fill:#e26f46; stroke:none; fill-opacity:1\" cx=\"1074.16\" cy=\"893.312\" r=\"14\"/>\n",
       "<circle clip-path=\"url(#clip7103)\" style=\"fill:#000000; stroke:none; fill-opacity:1\" cx=\"1094.61\" cy=\"879.435\" r=\"18\"/>\n",
       "<circle clip-path=\"url(#clip7103)\" style=\"fill:#e26f46; stroke:none; fill-opacity:1\" cx=\"1094.61\" cy=\"879.435\" r=\"14\"/>\n",
       "<circle clip-path=\"url(#clip7103)\" style=\"fill:#000000; stroke:none; fill-opacity:1\" cx=\"1115.06\" cy=\"865.559\" r=\"18\"/>\n",
       "<circle clip-path=\"url(#clip7103)\" style=\"fill:#e26f46; stroke:none; fill-opacity:1\" cx=\"1115.06\" cy=\"865.559\" r=\"14\"/>\n",
       "<circle clip-path=\"url(#clip7103)\" style=\"fill:#000000; stroke:none; fill-opacity:1\" cx=\"1135.52\" cy=\"851.682\" r=\"18\"/>\n",
       "<circle clip-path=\"url(#clip7103)\" style=\"fill:#e26f46; stroke:none; fill-opacity:1\" cx=\"1135.52\" cy=\"851.682\" r=\"14\"/>\n",
       "<circle clip-path=\"url(#clip7103)\" style=\"fill:#000000; stroke:none; fill-opacity:1\" cx=\"1155.97\" cy=\"837.805\" r=\"18\"/>\n",
       "<circle clip-path=\"url(#clip7103)\" style=\"fill:#e26f46; stroke:none; fill-opacity:1\" cx=\"1155.97\" cy=\"837.805\" r=\"14\"/>\n",
       "<circle clip-path=\"url(#clip7103)\" style=\"fill:#000000; stroke:none; fill-opacity:1\" cx=\"1176.43\" cy=\"823.928\" r=\"18\"/>\n",
       "<circle clip-path=\"url(#clip7103)\" style=\"fill:#e26f46; stroke:none; fill-opacity:1\" cx=\"1176.43\" cy=\"823.928\" r=\"14\"/>\n",
       "<circle clip-path=\"url(#clip7103)\" style=\"fill:#000000; stroke:none; fill-opacity:1\" cx=\"1196.88\" cy=\"810.051\" r=\"18\"/>\n",
       "<circle clip-path=\"url(#clip7103)\" style=\"fill:#e26f46; stroke:none; fill-opacity:1\" cx=\"1196.88\" cy=\"810.051\" r=\"14\"/>\n",
       "<circle clip-path=\"url(#clip7103)\" style=\"fill:#000000; stroke:none; fill-opacity:1\" cx=\"1217.34\" cy=\"796.175\" r=\"18\"/>\n",
       "<circle clip-path=\"url(#clip7103)\" style=\"fill:#e26f46; stroke:none; fill-opacity:1\" cx=\"1217.34\" cy=\"796.175\" r=\"14\"/>\n",
       "<circle clip-path=\"url(#clip7103)\" style=\"fill:#000000; stroke:none; fill-opacity:1\" cx=\"1237.79\" cy=\"782.298\" r=\"18\"/>\n",
       "<circle clip-path=\"url(#clip7103)\" style=\"fill:#e26f46; stroke:none; fill-opacity:1\" cx=\"1237.79\" cy=\"782.298\" r=\"14\"/>\n",
       "<circle clip-path=\"url(#clip7103)\" style=\"fill:#000000; stroke:none; fill-opacity:1\" cx=\"1258.24\" cy=\"768.421\" r=\"18\"/>\n",
       "<circle clip-path=\"url(#clip7103)\" style=\"fill:#e26f46; stroke:none; fill-opacity:1\" cx=\"1258.24\" cy=\"768.421\" r=\"14\"/>\n",
       "<circle clip-path=\"url(#clip7103)\" style=\"fill:#000000; stroke:none; fill-opacity:1\" cx=\"1278.7\" cy=\"754.544\" r=\"18\"/>\n",
       "<circle clip-path=\"url(#clip7103)\" style=\"fill:#e26f46; stroke:none; fill-opacity:1\" cx=\"1278.7\" cy=\"754.544\" r=\"14\"/>\n",
       "<circle clip-path=\"url(#clip7103)\" style=\"fill:#000000; stroke:none; fill-opacity:1\" cx=\"1299.15\" cy=\"740.667\" r=\"18\"/>\n",
       "<circle clip-path=\"url(#clip7103)\" style=\"fill:#e26f46; stroke:none; fill-opacity:1\" cx=\"1299.15\" cy=\"740.667\" r=\"14\"/>\n",
       "<circle clip-path=\"url(#clip7103)\" style=\"fill:#000000; stroke:none; fill-opacity:1\" cx=\"1319.61\" cy=\"726.791\" r=\"18\"/>\n",
       "<circle clip-path=\"url(#clip7103)\" style=\"fill:#e26f46; stroke:none; fill-opacity:1\" cx=\"1319.61\" cy=\"726.791\" r=\"14\"/>\n",
       "<circle clip-path=\"url(#clip7103)\" style=\"fill:#000000; stroke:none; fill-opacity:1\" cx=\"1340.06\" cy=\"712.914\" r=\"18\"/>\n",
       "<circle clip-path=\"url(#clip7103)\" style=\"fill:#e26f46; stroke:none; fill-opacity:1\" cx=\"1340.06\" cy=\"712.914\" r=\"14\"/>\n",
       "<circle clip-path=\"url(#clip7103)\" style=\"fill:#000000; stroke:none; fill-opacity:1\" cx=\"1360.52\" cy=\"699.037\" r=\"18\"/>\n",
       "<circle clip-path=\"url(#clip7103)\" style=\"fill:#e26f46; stroke:none; fill-opacity:1\" cx=\"1360.52\" cy=\"699.037\" r=\"14\"/>\n",
       "<circle clip-path=\"url(#clip7103)\" style=\"fill:#000000; stroke:none; fill-opacity:1\" cx=\"1380.97\" cy=\"685.16\" r=\"18\"/>\n",
       "<circle clip-path=\"url(#clip7103)\" style=\"fill:#e26f46; stroke:none; fill-opacity:1\" cx=\"1380.97\" cy=\"685.16\" r=\"14\"/>\n",
       "<circle clip-path=\"url(#clip7103)\" style=\"fill:#000000; stroke:none; fill-opacity:1\" cx=\"1401.43\" cy=\"671.283\" r=\"18\"/>\n",
       "<circle clip-path=\"url(#clip7103)\" style=\"fill:#e26f46; stroke:none; fill-opacity:1\" cx=\"1401.43\" cy=\"671.283\" r=\"14\"/>\n",
       "<circle clip-path=\"url(#clip7103)\" style=\"fill:#000000; stroke:none; fill-opacity:1\" cx=\"1421.88\" cy=\"657.407\" r=\"18\"/>\n",
       "<circle clip-path=\"url(#clip7103)\" style=\"fill:#e26f46; stroke:none; fill-opacity:1\" cx=\"1421.88\" cy=\"657.407\" r=\"14\"/>\n",
       "<circle clip-path=\"url(#clip7103)\" style=\"fill:#000000; stroke:none; fill-opacity:1\" cx=\"1442.33\" cy=\"643.53\" r=\"18\"/>\n",
       "<circle clip-path=\"url(#clip7103)\" style=\"fill:#e26f46; stroke:none; fill-opacity:1\" cx=\"1442.33\" cy=\"643.53\" r=\"14\"/>\n",
       "<circle clip-path=\"url(#clip7103)\" style=\"fill:#000000; stroke:none; fill-opacity:1\" cx=\"1462.79\" cy=\"629.653\" r=\"18\"/>\n",
       "<circle clip-path=\"url(#clip7103)\" style=\"fill:#e26f46; stroke:none; fill-opacity:1\" cx=\"1462.79\" cy=\"629.653\" r=\"14\"/>\n",
       "<circle clip-path=\"url(#clip7103)\" style=\"fill:#000000; stroke:none; fill-opacity:1\" cx=\"1483.24\" cy=\"615.776\" r=\"18\"/>\n",
       "<circle clip-path=\"url(#clip7103)\" style=\"fill:#e26f46; stroke:none; fill-opacity:1\" cx=\"1483.24\" cy=\"615.776\" r=\"14\"/>\n",
       "<circle clip-path=\"url(#clip7103)\" style=\"fill:#000000; stroke:none; fill-opacity:1\" cx=\"1503.7\" cy=\"601.9\" r=\"18\"/>\n",
       "<circle clip-path=\"url(#clip7103)\" style=\"fill:#e26f46; stroke:none; fill-opacity:1\" cx=\"1503.7\" cy=\"601.9\" r=\"14\"/>\n",
       "<circle clip-path=\"url(#clip7103)\" style=\"fill:#000000; stroke:none; fill-opacity:1\" cx=\"1524.15\" cy=\"588.023\" r=\"18\"/>\n",
       "<circle clip-path=\"url(#clip7103)\" style=\"fill:#e26f46; stroke:none; fill-opacity:1\" cx=\"1524.15\" cy=\"588.023\" r=\"14\"/>\n",
       "<circle clip-path=\"url(#clip7103)\" style=\"fill:#000000; stroke:none; fill-opacity:1\" cx=\"1544.61\" cy=\"574.146\" r=\"18\"/>\n",
       "<circle clip-path=\"url(#clip7103)\" style=\"fill:#e26f46; stroke:none; fill-opacity:1\" cx=\"1544.61\" cy=\"574.146\" r=\"14\"/>\n",
       "<circle clip-path=\"url(#clip7103)\" style=\"fill:#000000; stroke:none; fill-opacity:1\" cx=\"1565.06\" cy=\"560.269\" r=\"18\"/>\n",
       "<circle clip-path=\"url(#clip7103)\" style=\"fill:#e26f46; stroke:none; fill-opacity:1\" cx=\"1565.06\" cy=\"560.269\" r=\"14\"/>\n",
       "<circle clip-path=\"url(#clip7103)\" style=\"fill:#000000; stroke:none; fill-opacity:1\" cx=\"1585.52\" cy=\"546.392\" r=\"18\"/>\n",
       "<circle clip-path=\"url(#clip7103)\" style=\"fill:#e26f46; stroke:none; fill-opacity:1\" cx=\"1585.52\" cy=\"546.392\" r=\"14\"/>\n",
       "<circle clip-path=\"url(#clip7103)\" style=\"fill:#000000; stroke:none; fill-opacity:1\" cx=\"1605.97\" cy=\"532.516\" r=\"18\"/>\n",
       "<circle clip-path=\"url(#clip7103)\" style=\"fill:#e26f46; stroke:none; fill-opacity:1\" cx=\"1605.97\" cy=\"532.516\" r=\"14\"/>\n",
       "<circle clip-path=\"url(#clip7103)\" style=\"fill:#000000; stroke:none; fill-opacity:1\" cx=\"1626.42\" cy=\"518.639\" r=\"18\"/>\n",
       "<circle clip-path=\"url(#clip7103)\" style=\"fill:#e26f46; stroke:none; fill-opacity:1\" cx=\"1626.42\" cy=\"518.639\" r=\"14\"/>\n",
       "<circle clip-path=\"url(#clip7103)\" style=\"fill:#000000; stroke:none; fill-opacity:1\" cx=\"1646.88\" cy=\"504.762\" r=\"18\"/>\n",
       "<circle clip-path=\"url(#clip7103)\" style=\"fill:#e26f46; stroke:none; fill-opacity:1\" cx=\"1646.88\" cy=\"504.762\" r=\"14\"/>\n",
       "<circle clip-path=\"url(#clip7103)\" style=\"fill:#000000; stroke:none; fill-opacity:1\" cx=\"1667.33\" cy=\"490.885\" r=\"18\"/>\n",
       "<circle clip-path=\"url(#clip7103)\" style=\"fill:#e26f46; stroke:none; fill-opacity:1\" cx=\"1667.33\" cy=\"490.885\" r=\"14\"/>\n",
       "<circle clip-path=\"url(#clip7103)\" style=\"fill:#000000; stroke:none; fill-opacity:1\" cx=\"1687.79\" cy=\"477.008\" r=\"18\"/>\n",
       "<circle clip-path=\"url(#clip7103)\" style=\"fill:#e26f46; stroke:none; fill-opacity:1\" cx=\"1687.79\" cy=\"477.008\" r=\"14\"/>\n",
       "<circle clip-path=\"url(#clip7103)\" style=\"fill:#000000; stroke:none; fill-opacity:1\" cx=\"1708.24\" cy=\"463.132\" r=\"18\"/>\n",
       "<circle clip-path=\"url(#clip7103)\" style=\"fill:#e26f46; stroke:none; fill-opacity:1\" cx=\"1708.24\" cy=\"463.132\" r=\"14\"/>\n",
       "<circle clip-path=\"url(#clip7103)\" style=\"fill:#000000; stroke:none; fill-opacity:1\" cx=\"1728.7\" cy=\"449.255\" r=\"18\"/>\n",
       "<circle clip-path=\"url(#clip7103)\" style=\"fill:#e26f46; stroke:none; fill-opacity:1\" cx=\"1728.7\" cy=\"449.255\" r=\"14\"/>\n",
       "<circle clip-path=\"url(#clip7103)\" style=\"fill:#000000; stroke:none; fill-opacity:1\" cx=\"1749.15\" cy=\"435.378\" r=\"18\"/>\n",
       "<circle clip-path=\"url(#clip7103)\" style=\"fill:#e26f46; stroke:none; fill-opacity:1\" cx=\"1749.15\" cy=\"435.378\" r=\"14\"/>\n",
       "<circle clip-path=\"url(#clip7103)\" style=\"fill:#000000; stroke:none; fill-opacity:1\" cx=\"1769.6\" cy=\"421.501\" r=\"18\"/>\n",
       "<circle clip-path=\"url(#clip7103)\" style=\"fill:#e26f46; stroke:none; fill-opacity:1\" cx=\"1769.6\" cy=\"421.501\" r=\"14\"/>\n",
       "<circle clip-path=\"url(#clip7103)\" style=\"fill:#000000; stroke:none; fill-opacity:1\" cx=\"1790.06\" cy=\"407.624\" r=\"18\"/>\n",
       "<circle clip-path=\"url(#clip7103)\" style=\"fill:#e26f46; stroke:none; fill-opacity:1\" cx=\"1790.06\" cy=\"407.624\" r=\"14\"/>\n",
       "<circle clip-path=\"url(#clip7103)\" style=\"fill:#000000; stroke:none; fill-opacity:1\" cx=\"1810.51\" cy=\"393.748\" r=\"18\"/>\n",
       "<circle clip-path=\"url(#clip7103)\" style=\"fill:#e26f46; stroke:none; fill-opacity:1\" cx=\"1810.51\" cy=\"393.748\" r=\"14\"/>\n",
       "<circle clip-path=\"url(#clip7103)\" style=\"fill:#000000; stroke:none; fill-opacity:1\" cx=\"1830.97\" cy=\"379.871\" r=\"18\"/>\n",
       "<circle clip-path=\"url(#clip7103)\" style=\"fill:#e26f46; stroke:none; fill-opacity:1\" cx=\"1830.97\" cy=\"379.871\" r=\"14\"/>\n",
       "<circle clip-path=\"url(#clip7103)\" style=\"fill:#000000; stroke:none; fill-opacity:1\" cx=\"1851.42\" cy=\"365.994\" r=\"18\"/>\n",
       "<circle clip-path=\"url(#clip7103)\" style=\"fill:#e26f46; stroke:none; fill-opacity:1\" cx=\"1851.42\" cy=\"365.994\" r=\"14\"/>\n",
       "<circle clip-path=\"url(#clip7103)\" style=\"fill:#000000; stroke:none; fill-opacity:1\" cx=\"1871.88\" cy=\"352.117\" r=\"18\"/>\n",
       "<circle clip-path=\"url(#clip7103)\" style=\"fill:#e26f46; stroke:none; fill-opacity:1\" cx=\"1871.88\" cy=\"352.117\" r=\"14\"/>\n",
       "<circle clip-path=\"url(#clip7103)\" style=\"fill:#000000; stroke:none; fill-opacity:1\" cx=\"1892.33\" cy=\"338.24\" r=\"18\"/>\n",
       "<circle clip-path=\"url(#clip7103)\" style=\"fill:#e26f46; stroke:none; fill-opacity:1\" cx=\"1892.33\" cy=\"338.24\" r=\"14\"/>\n",
       "<circle clip-path=\"url(#clip7103)\" style=\"fill:#000000; stroke:none; fill-opacity:1\" cx=\"1912.79\" cy=\"324.364\" r=\"18\"/>\n",
       "<circle clip-path=\"url(#clip7103)\" style=\"fill:#e26f46; stroke:none; fill-opacity:1\" cx=\"1912.79\" cy=\"324.364\" r=\"14\"/>\n",
       "<circle clip-path=\"url(#clip7103)\" style=\"fill:#000000; stroke:none; fill-opacity:1\" cx=\"1933.24\" cy=\"310.487\" r=\"18\"/>\n",
       "<circle clip-path=\"url(#clip7103)\" style=\"fill:#e26f46; stroke:none; fill-opacity:1\" cx=\"1933.24\" cy=\"310.487\" r=\"14\"/>\n",
       "<circle clip-path=\"url(#clip7103)\" style=\"fill:#000000; stroke:none; fill-opacity:1\" cx=\"1953.69\" cy=\"296.61\" r=\"18\"/>\n",
       "<circle clip-path=\"url(#clip7103)\" style=\"fill:#e26f46; stroke:none; fill-opacity:1\" cx=\"1953.69\" cy=\"296.61\" r=\"14\"/>\n",
       "<circle clip-path=\"url(#clip7103)\" style=\"fill:#000000; stroke:none; fill-opacity:1\" cx=\"1974.15\" cy=\"282.733\" r=\"18\"/>\n",
       "<circle clip-path=\"url(#clip7103)\" style=\"fill:#e26f46; stroke:none; fill-opacity:1\" cx=\"1974.15\" cy=\"282.733\" r=\"14\"/>\n",
       "<circle clip-path=\"url(#clip7103)\" style=\"fill:#000000; stroke:none; fill-opacity:1\" cx=\"1994.6\" cy=\"268.856\" r=\"18\"/>\n",
       "<circle clip-path=\"url(#clip7103)\" style=\"fill:#e26f46; stroke:none; fill-opacity:1\" cx=\"1994.6\" cy=\"268.856\" r=\"14\"/>\n",
       "<circle clip-path=\"url(#clip7103)\" style=\"fill:#000000; stroke:none; fill-opacity:1\" cx=\"2015.06\" cy=\"254.98\" r=\"18\"/>\n",
       "<circle clip-path=\"url(#clip7103)\" style=\"fill:#e26f46; stroke:none; fill-opacity:1\" cx=\"2015.06\" cy=\"254.98\" r=\"14\"/>\n",
       "<circle clip-path=\"url(#clip7103)\" style=\"fill:#000000; stroke:none; fill-opacity:1\" cx=\"2035.51\" cy=\"241.103\" r=\"18\"/>\n",
       "<circle clip-path=\"url(#clip7103)\" style=\"fill:#e26f46; stroke:none; fill-opacity:1\" cx=\"2035.51\" cy=\"241.103\" r=\"14\"/>\n",
       "<circle clip-path=\"url(#clip7103)\" style=\"fill:#000000; stroke:none; fill-opacity:1\" cx=\"2055.97\" cy=\"227.226\" r=\"18\"/>\n",
       "<circle clip-path=\"url(#clip7103)\" style=\"fill:#e26f46; stroke:none; fill-opacity:1\" cx=\"2055.97\" cy=\"227.226\" r=\"14\"/>\n",
       "<circle clip-path=\"url(#clip7103)\" style=\"fill:#000000; stroke:none; fill-opacity:1\" cx=\"2076.42\" cy=\"213.349\" r=\"18\"/>\n",
       "<circle clip-path=\"url(#clip7103)\" style=\"fill:#e26f46; stroke:none; fill-opacity:1\" cx=\"2076.42\" cy=\"213.349\" r=\"14\"/>\n",
       "<circle clip-path=\"url(#clip7103)\" style=\"fill:#000000; stroke:none; fill-opacity:1\" cx=\"2096.88\" cy=\"199.473\" r=\"18\"/>\n",
       "<circle clip-path=\"url(#clip7103)\" style=\"fill:#e26f46; stroke:none; fill-opacity:1\" cx=\"2096.88\" cy=\"199.473\" r=\"14\"/>\n",
       "<circle clip-path=\"url(#clip7103)\" style=\"fill:#000000; stroke:none; fill-opacity:1\" cx=\"2117.33\" cy=\"185.596\" r=\"18\"/>\n",
       "<circle clip-path=\"url(#clip7103)\" style=\"fill:#e26f46; stroke:none; fill-opacity:1\" cx=\"2117.33\" cy=\"185.596\" r=\"14\"/>\n",
       "<circle clip-path=\"url(#clip7103)\" style=\"fill:#000000; stroke:none; fill-opacity:1\" cx=\"2137.78\" cy=\"171.719\" r=\"18\"/>\n",
       "<circle clip-path=\"url(#clip7103)\" style=\"fill:#e26f46; stroke:none; fill-opacity:1\" cx=\"2137.78\" cy=\"171.719\" r=\"14\"/>\n",
       "<circle clip-path=\"url(#clip7103)\" style=\"fill:#000000; stroke:none; fill-opacity:1\" cx=\"2158.24\" cy=\"157.842\" r=\"18\"/>\n",
       "<circle clip-path=\"url(#clip7103)\" style=\"fill:#e26f46; stroke:none; fill-opacity:1\" cx=\"2158.24\" cy=\"157.842\" r=\"14\"/>\n",
       "<circle clip-path=\"url(#clip7103)\" style=\"fill:#000000; stroke:none; fill-opacity:1\" cx=\"2178.69\" cy=\"143.965\" r=\"18\"/>\n",
       "<circle clip-path=\"url(#clip7103)\" style=\"fill:#e26f46; stroke:none; fill-opacity:1\" cx=\"2178.69\" cy=\"143.965\" r=\"14\"/>\n",
       "<circle clip-path=\"url(#clip7103)\" style=\"fill:#000000; stroke:none; fill-opacity:1\" cx=\"2199.15\" cy=\"130.089\" r=\"18\"/>\n",
       "<circle clip-path=\"url(#clip7103)\" style=\"fill:#e26f46; stroke:none; fill-opacity:1\" cx=\"2199.15\" cy=\"130.089\" r=\"14\"/>\n",
       "<circle clip-path=\"url(#clip7103)\" style=\"fill:#000000; stroke:none; fill-opacity:1\" cx=\"2219.6\" cy=\"116.212\" r=\"18\"/>\n",
       "<circle clip-path=\"url(#clip7103)\" style=\"fill:#e26f46; stroke:none; fill-opacity:1\" cx=\"2219.6\" cy=\"116.212\" r=\"14\"/>\n",
       "<circle clip-path=\"url(#clip7103)\" style=\"fill:#000000; stroke:none; fill-opacity:1\" cx=\"2240.06\" cy=\"102.335\" r=\"18\"/>\n",
       "<circle clip-path=\"url(#clip7103)\" style=\"fill:#e26f46; stroke:none; fill-opacity:1\" cx=\"2240.06\" cy=\"102.335\" r=\"14\"/>\n",
       "<circle clip-path=\"url(#clip7103)\" style=\"fill:#000000; stroke:none; fill-opacity:1\" cx=\"2260.51\" cy=\"88.4582\" r=\"18\"/>\n",
       "<circle clip-path=\"url(#clip7103)\" style=\"fill:#e26f46; stroke:none; fill-opacity:1\" cx=\"2260.51\" cy=\"88.4582\" r=\"14\"/>\n",
       "<polygon clip-path=\"url(#clip7101)\" points=\"\n",
       "1958.43,312.204 2249.26,312.204 2249.26,130.764 1958.43,130.764 \n",
       "  \" fill=\"#ffffff\" fill-rule=\"evenodd\" fill-opacity=\"1\"/>\n",
       "<polyline clip-path=\"url(#clip7101)\" style=\"stroke:#000000; stroke-width:4; stroke-opacity:1; fill:none\" points=\"\n",
       "  1958.43,312.204 2249.26,312.204 2249.26,130.764 1958.43,130.764 1958.43,312.204 \n",
       "  \"/>\n",
       "<circle clip-path=\"url(#clip7101)\" style=\"fill:#000000; stroke:none; fill-opacity:1\" cx=\"2066.43\" cy=\"191.244\" r=\"25\"/>\n",
       "<circle clip-path=\"url(#clip7101)\" style=\"fill:#009af9; stroke:none; fill-opacity:1\" cx=\"2066.43\" cy=\"191.244\" r=\"21\"/>\n",
       "<g clip-path=\"url(#clip7101)\">\n",
       "<text style=\"fill:#000000; fill-opacity:1; font-family:Arial,Helvetica Neue,Helvetica,sans-serif; font-size:48px; text-anchor:start;\" transform=\"rotate(0, 2150.43, 208.744)\" x=\"2150.43\" y=\"208.744\">y1</text>\n",
       "</g>\n",
       "<circle clip-path=\"url(#clip7101)\" style=\"fill:#000000; stroke:none; fill-opacity:1\" cx=\"2066.43\" cy=\"251.724\" r=\"25\"/>\n",
       "<circle clip-path=\"url(#clip7101)\" style=\"fill:#e26f46; stroke:none; fill-opacity:1\" cx=\"2066.43\" cy=\"251.724\" r=\"21\"/>\n",
       "<g clip-path=\"url(#clip7101)\">\n",
       "<text style=\"fill:#000000; fill-opacity:1; font-family:Arial,Helvetica Neue,Helvetica,sans-serif; font-size:48px; text-anchor:start;\" transform=\"rotate(0, 2150.43, 269.224)\" x=\"2150.43\" y=\"269.224\">y2</text>\n",
       "</g>\n",
       "</svg>\n"
      ]
     },
     "execution_count": 3,
     "metadata": {},
     "output_type": "execute_result"
    }
   ],
   "source": [
    "predX = collect(range(0, 1,length=100))\n",
    "predY = modelReg(predX').data\n",
    "scatter(regX, regY)\n",
    "scatter!(predX, predY')"
   ]
  },
  {
   "cell_type": "code",
   "execution_count": 4,
   "metadata": {
    "collapsed": false
   },
   "outputs": [
    {
     "name": "stdout",
     "output_type": "stream",
     "text": [
      "Any[Flux.Tracker.TrackedReal{Float64}[100.456 (tracked)], Flux.Tracker.TrackedReal{Float64}[49.3962 (tracked)]]\n"
     ]
    }
   ],
   "source": [
    "println(Flux.params(modelReg))"
   ]
  },
  {
   "cell_type": "code",
   "execution_count": 14,
   "metadata": {
    "collapsed": false
   },
   "outputs": [
    {
     "data": {
      "image/svg+xml": [
       "<?xml version=\"1.0\" encoding=\"utf-8\"?>\n",
       "<svg xmlns=\"http://www.w3.org/2000/svg\" xmlns:xlink=\"http://www.w3.org/1999/xlink\" width=\"600\" height=\"400\" viewBox=\"0 0 2400 1600\">\n",
       "<defs>\n",
       "  <clipPath id=\"clip8300\">\n",
       "    <rect x=\"0\" y=\"0\" width=\"2000\" height=\"2000\"/>\n",
       "  </clipPath>\n",
       "</defs>\n",
       "<defs>\n",
       "  <clipPath id=\"clip8301\">\n",
       "    <rect x=\"0\" y=\"0\" width=\"2400\" height=\"1600\"/>\n",
       "  </clipPath>\n",
       "</defs>\n",
       "<polygon clip-path=\"url(#clip8301)\" points=\"\n",
       "0,1600 2400,1600 2400,0 0,0 \n",
       "  \" fill=\"#ffffff\" fill-rule=\"evenodd\" fill-opacity=\"1\"/>\n",
       "<defs>\n",
       "  <clipPath id=\"clip8302\">\n",
       "    <rect x=\"480\" y=\"0\" width=\"1681\" height=\"1600\"/>\n",
       "  </clipPath>\n",
       "</defs>\n",
       "<polygon clip-path=\"url(#clip8301)\" points=\"\n",
       "527.267,1503.47 1983.5,1503.47 1983.5,47.2441 527.267,47.2441 \n",
       "  \" fill=\"#ffffff\" fill-rule=\"evenodd\" fill-opacity=\"1\"/>\n",
       "<defs>\n",
       "  <clipPath id=\"clip8303\">\n",
       "    <rect x=\"527\" y=\"47\" width=\"1457\" height=\"1457\"/>\n",
       "  </clipPath>\n",
       "</defs>\n",
       "<polyline clip-path=\"url(#clip8301)\" style=\"stroke:#cccccc; stroke-width:2; stroke-opacity:0.1; fill:none\" points=\"\n",
       "  551.499,1419.71 1084.52,1161.64 \n",
       "  \"/>\n",
       "<polyline clip-path=\"url(#clip8301)\" style=\"stroke:#cccccc; stroke-width:2; stroke-opacity:0.1; fill:none\" points=\"\n",
       "  1084.52,1161.64 1084.52,49.502 \n",
       "  \"/>\n",
       "<polyline clip-path=\"url(#clip8301)\" style=\"stroke:#ededed; stroke-width:2; stroke-opacity:0.1; fill:none\" points=\"\n",
       "  661.139,1429.92 1194.16,1171.85 \n",
       "  \"/>\n",
       "<polyline clip-path=\"url(#clip8301)\" style=\"stroke:#ededed; stroke-width:2; stroke-opacity:0.1; fill:none\" points=\"\n",
       "  1194.16,1171.85 1194.16,59.7181 \n",
       "  \"/>\n",
       "<polyline clip-path=\"url(#clip8301)\" style=\"stroke:#cccccc; stroke-width:2; stroke-opacity:0.1; fill:none\" points=\"\n",
       "  770.778,1440.14 1303.8,1182.07 \n",
       "  \"/>\n",
       "<polyline clip-path=\"url(#clip8301)\" style=\"stroke:#cccccc; stroke-width:2; stroke-opacity:0.1; fill:none\" points=\"\n",
       "  1303.8,1182.07 1303.8,69.9342 \n",
       "  \"/>\n",
       "<polyline clip-path=\"url(#clip8301)\" style=\"stroke:#ededed; stroke-width:2; stroke-opacity:0.1; fill:none\" points=\"\n",
       "  880.418,1450.36 1413.44,1192.29 \n",
       "  \"/>\n",
       "<polyline clip-path=\"url(#clip8301)\" style=\"stroke:#ededed; stroke-width:2; stroke-opacity:0.1; fill:none\" points=\"\n",
       "  1413.44,1192.29 1413.44,80.1503 \n",
       "  \"/>\n",
       "<polyline clip-path=\"url(#clip8301)\" style=\"stroke:#cccccc; stroke-width:2; stroke-opacity:0.1; fill:none\" points=\"\n",
       "  990.058,1460.57 1523.08,1202.5 \n",
       "  \"/>\n",
       "<polyline clip-path=\"url(#clip8301)\" style=\"stroke:#cccccc; stroke-width:2; stroke-opacity:0.1; fill:none\" points=\"\n",
       "  1523.08,1202.5 1523.08,90.3665 \n",
       "  \"/>\n",
       "<polyline clip-path=\"url(#clip8301)\" style=\"stroke:#ededed; stroke-width:2; stroke-opacity:0.1; fill:none\" points=\"\n",
       "  1099.7,1470.79 1632.72,1212.72 \n",
       "  \"/>\n",
       "<polyline clip-path=\"url(#clip8301)\" style=\"stroke:#ededed; stroke-width:2; stroke-opacity:0.1; fill:none\" points=\"\n",
       "  1632.72,1212.72 1632.72,100.583 \n",
       "  \"/>\n",
       "<polyline clip-path=\"url(#clip8301)\" style=\"stroke:#cccccc; stroke-width:2; stroke-opacity:0.1; fill:none\" points=\"\n",
       "  1209.34,1481.01 1742.36,1222.93 \n",
       "  \"/>\n",
       "<polyline clip-path=\"url(#clip8301)\" style=\"stroke:#cccccc; stroke-width:2; stroke-opacity:0.1; fill:none\" points=\"\n",
       "  1742.36,1222.93 1742.36,110.799 \n",
       "  \"/>\n",
       "<polyline clip-path=\"url(#clip8301)\" style=\"stroke:#ededed; stroke-width:2; stroke-opacity:0.1; fill:none\" points=\"\n",
       "  1318.98,1491.22 1851.99,1233.15 \n",
       "  \"/>\n",
       "<polyline clip-path=\"url(#clip8301)\" style=\"stroke:#ededed; stroke-width:2; stroke-opacity:0.1; fill:none\" points=\"\n",
       "  1851.99,1233.15 1851.99,121.015 \n",
       "  \"/>\n",
       "<polyline clip-path=\"url(#clip8301)\" style=\"stroke:#cccccc; stroke-width:2; stroke-opacity:0.1; fill:none\" points=\"\n",
       "  1428.62,1501.44 1961.63,1243.37 \n",
       "  \"/>\n",
       "<polyline clip-path=\"url(#clip8301)\" style=\"stroke:#cccccc; stroke-width:2; stroke-opacity:0.1; fill:none\" points=\"\n",
       "  1961.63,1243.37 1961.63,131.231 \n",
       "  \"/>\n",
       "<polyline clip-path=\"url(#clip8301)\" style=\"stroke:#cccccc; stroke-width:2; stroke-opacity:0.1; fill:none\" points=\"\n",
       "  541.951,1410.34 1465.16,1496.37 \n",
       "  \"/>\n",
       "<polyline clip-path=\"url(#clip8301)\" style=\"stroke:#cccccc; stroke-width:2; stroke-opacity:0.1; fill:none\" points=\"\n",
       "  541.951,1410.34 541.951,298.206 \n",
       "  \"/>\n",
       "<polyline clip-path=\"url(#clip8301)\" style=\"stroke:#ededed; stroke-width:2; stroke-opacity:0.1; fill:none\" points=\"\n",
       "  604.858,1379.88 1528.07,1465.91 \n",
       "  \"/>\n",
       "<polyline clip-path=\"url(#clip8301)\" style=\"stroke:#ededed; stroke-width:2; stroke-opacity:0.1; fill:none\" points=\"\n",
       "  604.858,1379.88 604.858,267.748 \n",
       "  \"/>\n",
       "<polyline clip-path=\"url(#clip8301)\" style=\"stroke:#cccccc; stroke-width:2; stroke-opacity:0.1; fill:none\" points=\"\n",
       "  667.766,1349.43 1590.98,1435.45 \n",
       "  \"/>\n",
       "<polyline clip-path=\"url(#clip8301)\" style=\"stroke:#cccccc; stroke-width:2; stroke-opacity:0.1; fill:none\" points=\"\n",
       "  667.766,1349.43 667.766,237.29 \n",
       "  \"/>\n",
       "<polyline clip-path=\"url(#clip8301)\" style=\"stroke:#ededed; stroke-width:2; stroke-opacity:0.1; fill:none\" points=\"\n",
       "  730.673,1318.97 1653.89,1404.99 \n",
       "  \"/>\n",
       "<polyline clip-path=\"url(#clip8301)\" style=\"stroke:#ededed; stroke-width:2; stroke-opacity:0.1; fill:none\" points=\"\n",
       "  730.673,1318.97 730.673,206.832 \n",
       "  \"/>\n",
       "<polyline clip-path=\"url(#clip8301)\" style=\"stroke:#cccccc; stroke-width:2; stroke-opacity:0.1; fill:none\" points=\"\n",
       "  793.581,1288.51 1716.79,1374.53 \n",
       "  \"/>\n",
       "<polyline clip-path=\"url(#clip8301)\" style=\"stroke:#cccccc; stroke-width:2; stroke-opacity:0.1; fill:none\" points=\"\n",
       "  793.581,1288.51 793.581,176.374 \n",
       "  \"/>\n",
       "<polyline clip-path=\"url(#clip8301)\" style=\"stroke:#ededed; stroke-width:2; stroke-opacity:0.1; fill:none\" points=\"\n",
       "  856.488,1258.05 1779.7,1344.08 \n",
       "  \"/>\n",
       "<polyline clip-path=\"url(#clip8301)\" style=\"stroke:#ededed; stroke-width:2; stroke-opacity:0.1; fill:none\" points=\"\n",
       "  856.488,1258.05 856.488,145.916 \n",
       "  \"/>\n",
       "<polyline clip-path=\"url(#clip8301)\" style=\"stroke:#cccccc; stroke-width:2; stroke-opacity:0.1; fill:none\" points=\"\n",
       "  919.396,1227.59 1842.61,1313.62 \n",
       "  \"/>\n",
       "<polyline clip-path=\"url(#clip8301)\" style=\"stroke:#cccccc; stroke-width:2; stroke-opacity:0.1; fill:none\" points=\"\n",
       "  919.396,1227.59 919.396,115.458 \n",
       "  \"/>\n",
       "<polyline clip-path=\"url(#clip8301)\" style=\"stroke:#ededed; stroke-width:2; stroke-opacity:0.1; fill:none\" points=\"\n",
       "  982.303,1197.14 1905.52,1283.16 \n",
       "  \"/>\n",
       "<polyline clip-path=\"url(#clip8301)\" style=\"stroke:#ededed; stroke-width:2; stroke-opacity:0.1; fill:none\" points=\"\n",
       "  982.303,1197.14 982.303,85.0002 \n",
       "  \"/>\n",
       "<polyline clip-path=\"url(#clip8301)\" style=\"stroke:#cccccc; stroke-width:2; stroke-opacity:0.1; fill:none\" points=\"\n",
       "  1045.21,1166.68 1968.42,1252.7 \n",
       "  \"/>\n",
       "<polyline clip-path=\"url(#clip8301)\" style=\"stroke:#cccccc; stroke-width:2; stroke-opacity:0.1; fill:none\" points=\"\n",
       "  1045.21,1166.68 1045.21,54.5422 \n",
       "  \"/>\n",
       "<polyline clip-path=\"url(#clip8301)\" style=\"stroke:#cccccc; stroke-width:2; stroke-opacity:0.1; fill:none\" points=\"\n",
       "  527.267,1417.45 1060.28,1159.38 \n",
       "  \"/>\n",
       "<polyline clip-path=\"url(#clip8301)\" style=\"stroke:#cccccc; stroke-width:2; stroke-opacity:0.1; fill:none\" points=\"\n",
       "  1060.28,1159.38 1983.5,1245.4 \n",
       "  \"/>\n",
       "<polyline clip-path=\"url(#clip8301)\" style=\"stroke:#ededed; stroke-width:2; stroke-opacity:0.1; fill:none\" points=\"\n",
       "  527.267,1278.43 1060.28,1020.36 \n",
       "  \"/>\n",
       "<polyline clip-path=\"url(#clip8301)\" style=\"stroke:#ededed; stroke-width:2; stroke-opacity:0.1; fill:none\" points=\"\n",
       "  1060.28,1020.36 1983.5,1106.39 \n",
       "  \"/>\n",
       "<polyline clip-path=\"url(#clip8301)\" style=\"stroke:#cccccc; stroke-width:2; stroke-opacity:0.1; fill:none\" points=\"\n",
       "  527.267,1139.42 1060.28,881.345 \n",
       "  \"/>\n",
       "<polyline clip-path=\"url(#clip8301)\" style=\"stroke:#cccccc; stroke-width:2; stroke-opacity:0.1; fill:none\" points=\"\n",
       "  1060.28,881.345 1983.5,967.369 \n",
       "  \"/>\n",
       "<polyline clip-path=\"url(#clip8301)\" style=\"stroke:#ededed; stroke-width:2; stroke-opacity:0.1; fill:none\" points=\"\n",
       "  527.267,1000.4 1060.28,742.328 \n",
       "  \"/>\n",
       "<polyline clip-path=\"url(#clip8301)\" style=\"stroke:#ededed; stroke-width:2; stroke-opacity:0.1; fill:none\" points=\"\n",
       "  1060.28,742.328 1983.5,828.352 \n",
       "  \"/>\n",
       "<polyline clip-path=\"url(#clip8301)\" style=\"stroke:#cccccc; stroke-width:2; stroke-opacity:0.1; fill:none\" points=\"\n",
       "  527.267,861.383 1060.28,603.312 \n",
       "  \"/>\n",
       "<polyline clip-path=\"url(#clip8301)\" style=\"stroke:#cccccc; stroke-width:2; stroke-opacity:0.1; fill:none\" points=\"\n",
       "  1060.28,603.312 1983.5,689.335 \n",
       "  \"/>\n",
       "<polyline clip-path=\"url(#clip8301)\" style=\"stroke:#ededed; stroke-width:2; stroke-opacity:0.1; fill:none\" points=\"\n",
       "  527.267,722.366 1060.28,464.295 \n",
       "  \"/>\n",
       "<polyline clip-path=\"url(#clip8301)\" style=\"stroke:#ededed; stroke-width:2; stroke-opacity:0.1; fill:none\" points=\"\n",
       "  1060.28,464.295 1983.5,550.319 \n",
       "  \"/>\n",
       "<polyline clip-path=\"url(#clip8301)\" style=\"stroke:#cccccc; stroke-width:2; stroke-opacity:0.1; fill:none\" points=\"\n",
       "  527.267,583.35 1060.28,325.278 \n",
       "  \"/>\n",
       "<polyline clip-path=\"url(#clip8301)\" style=\"stroke:#cccccc; stroke-width:2; stroke-opacity:0.1; fill:none\" points=\"\n",
       "  1060.28,325.278 1983.5,411.302 \n",
       "  \"/>\n",
       "<polyline clip-path=\"url(#clip8301)\" style=\"stroke:#ededed; stroke-width:2; stroke-opacity:0.1; fill:none\" points=\"\n",
       "  527.267,444.333 1060.28,186.261 \n",
       "  \"/>\n",
       "<polyline clip-path=\"url(#clip8301)\" style=\"stroke:#ededed; stroke-width:2; stroke-opacity:0.1; fill:none\" points=\"\n",
       "  1060.28,186.261 1983.5,272.285 \n",
       "  \"/>\n",
       "<polyline clip-path=\"url(#clip8301)\" style=\"stroke:#cccccc; stroke-width:2; stroke-opacity:0.1; fill:none\" points=\"\n",
       "  527.267,305.316 1060.28,47.2441 \n",
       "  \"/>\n",
       "<polyline clip-path=\"url(#clip8301)\" style=\"stroke:#cccccc; stroke-width:2; stroke-opacity:0.1; fill:none\" points=\"\n",
       "  1060.28,47.2441 1983.5,133.268 \n",
       "  \"/>\n",
       "<polyline clip-path=\"url(#clip8301)\" style=\"stroke:#000000; stroke-width:4; stroke-opacity:1; fill:none\" points=\"\n",
       "  502.56,1131.99 498.56,1135.57 495.894,1141.8 494.561,1150.67 494.561,1155.61 495.894,1163.19 498.56,1166.84 502.56,1166.55 505.226,1165.26 509.226,1161.67 \n",
       "  511.892,1155.45 513.226,1146.57 513.226,1141.63 511.892,1134.05 509.226,1130.4 505.226,1130.7 502.56,1131.99 \n",
       "  \"/>\n",
       "<polyline clip-path=\"url(#clip8301)\" style=\"stroke:#000000; stroke-width:4; stroke-opacity:1; fill:none\" points=\"\n",
       "  471.897,875.382 474.563,872.445 478.563,865.572 478.563,900.132 \n",
       "  \"/>\n",
       "<polyline clip-path=\"url(#clip8301)\" style=\"stroke:#000000; stroke-width:4; stroke-opacity:1; fill:none\" points=\"\n",
       "  502.56,853.953 498.56,857.535 495.894,863.763 494.561,872.637 494.561,877.574 495.894,885.157 498.56,888.803 502.56,888.513 505.226,887.222 509.226,883.64 \n",
       "  511.892,877.411 513.226,868.537 513.226,863.6 511.892,856.017 509.226,852.371 505.226,852.662 502.56,853.953 \n",
       "  \"/>\n",
       "<polyline clip-path=\"url(#clip8301)\" style=\"stroke:#000000; stroke-width:4; stroke-opacity:1; fill:none\" points=\"\n",
       "  469.23,600.285 469.23,598.639 470.564,594.702 471.897,592.411 474.563,589.474 479.896,586.892 482.562,587.247 483.895,588.247 485.229,590.893 485.229,594.185 \n",
       "  483.895,598.122 481.229,604.35 467.897,627.262 486.562,618.225 \n",
       "  \"/>\n",
       "<polyline clip-path=\"url(#clip8301)\" style=\"stroke:#000000; stroke-width:4; stroke-opacity:1; fill:none\" points=\"\n",
       "  502.56,575.919 498.56,579.501 495.894,585.729 494.561,594.603 494.561,599.54 495.894,607.124 498.56,610.77 502.56,610.479 505.226,609.188 509.226,605.606 \n",
       "  511.892,599.378 513.226,590.504 513.226,585.566 511.892,577.983 509.226,574.337 505.226,574.628 502.56,575.919 \n",
       "  \"/>\n",
       "<polyline clip-path=\"url(#clip8301)\" style=\"stroke:#000000; stroke-width:4; stroke-opacity:1; fill:none\" points=\"\n",
       "  470.564,313.377 485.229,306.277 477.229,323.315 481.229,321.379 483.895,321.734 485.229,322.734 486.562,327.025 486.562,330.317 485.229,335.899 482.562,340.482 \n",
       "  478.563,344.064 474.563,346.001 470.564,346.291 469.23,345.291 467.897,342.645 \n",
       "  \"/>\n",
       "<polyline clip-path=\"url(#clip8301)\" style=\"stroke:#000000; stroke-width:4; stroke-opacity:1; fill:none\" points=\"\n",
       "  502.56,297.885 498.56,301.467 495.894,307.696 494.561,316.57 494.561,321.507 495.894,329.09 498.56,332.736 502.56,332.445 505.226,331.154 509.226,327.572 \n",
       "  511.892,321.344 513.226,312.47 513.226,307.533 511.892,299.95 509.226,296.304 505.226,296.594 502.56,297.885 \n",
       "  \"/>\n",
       "<polyline clip-path=\"url(#clip8301)\" style=\"stroke:#000000; stroke-width:4; stroke-opacity:1; fill:none\" points=\"\n",
       "  527.267,1417.45 527.267,1417.45 516.606,1422.61 527.267,1417.45 527.267,1278.43 521.936,1281.01 527.267,1278.43 527.267,1139.42 516.606,1144.58 527.267,1139.42 \n",
       "  527.267,1000.4 521.936,1002.98 527.267,1000.4 527.267,861.383 516.606,866.545 527.267,861.383 527.267,722.366 521.936,724.947 527.267,722.366 527.267,583.35 \n",
       "  516.606,588.511 527.267,583.35 527.267,444.333 521.936,446.913 527.267,444.333 527.267,305.316 516.606,310.477 527.267,305.316 \n",
       "  \"/>\n",
       "<polyline clip-path=\"url(#clip8301)\" style=\"stroke:#000000; stroke-width:4; stroke-opacity:1; fill:none\" points=\"\n",
       "  476.06,1450.14 505.428,1452.88 \n",
       "  \"/>\n",
       "<polyline clip-path=\"url(#clip8301)\" style=\"stroke:#000000; stroke-width:4; stroke-opacity:1; fill:none\" points=\"\n",
       "  521.743,1441.23 525.006,1439.89 529.901,1435.41 529.901,1469.97 \n",
       "  \"/>\n",
       "<polyline clip-path=\"url(#clip8301)\" style=\"stroke:#000000; stroke-width:4; stroke-opacity:1; fill:none\" points=\"\n",
       "  552.742,1468.81 551.111,1470.3 552.742,1472.1 554.374,1470.6 552.742,1468.81 \n",
       "  \"/>\n",
       "<polyline clip-path=\"url(#clip8301)\" style=\"stroke:#000000; stroke-width:4; stroke-opacity:1; fill:none\" points=\"\n",
       "  575.584,1439.67 570.689,1440.85 567.426,1445.49 565.795,1453.56 565.795,1458.5 567.426,1466.88 570.689,1472.12 575.584,1474.23 578.847,1474.53 583.742,1473.34 \n",
       "  587.005,1468.71 588.637,1460.63 588.637,1455.69 587.005,1447.31 583.742,1442.07 578.847,1439.97 575.584,1439.67 \n",
       "  \"/>\n",
       "<polyline clip-path=\"url(#clip8301)\" style=\"stroke:#000000; stroke-width:4; stroke-opacity:1; fill:none\" points=\"\n",
       "  695.339,1470.57 724.707,1473.31 \n",
       "  \"/>\n",
       "<polyline clip-path=\"url(#clip8301)\" style=\"stroke:#000000; stroke-width:4; stroke-opacity:1; fill:none\" points=\"\n",
       "  745.917,1455.54 741.023,1456.73 737.76,1461.36 736.128,1469.44 736.128,1474.37 737.76,1482.75 741.023,1487.99 745.917,1490.1 749.18,1490.4 754.075,1489.21 \n",
       "  757.338,1484.58 758.97,1476.5 758.97,1471.56 757.338,1463.18 754.075,1457.94 749.18,1455.84 745.917,1455.54 \n",
       "  \"/>\n",
       "<polyline clip-path=\"url(#clip8301)\" style=\"stroke:#000000; stroke-width:4; stroke-opacity:1; fill:none\" points=\"\n",
       "  772.022,1489.24 770.391,1490.73 772.022,1492.53 773.654,1491.04 772.022,1489.24 \n",
       "  \"/>\n",
       "<polyline clip-path=\"url(#clip8301)\" style=\"stroke:#000000; stroke-width:4; stroke-opacity:1; fill:none\" points=\"\n",
       "  804.653,1461.01 788.338,1459.49 786.706,1474.15 788.338,1472.65 793.232,1471.47 798.127,1471.92 803.022,1474.02 806.285,1477.62 807.916,1482.71 807.916,1486 \n",
       "  806.285,1490.78 803.022,1493.77 798.127,1494.96 793.232,1494.51 788.338,1492.4 786.706,1490.61 785.075,1487.16 \n",
       "  \"/>\n",
       "<polyline clip-path=\"url(#clip8301)\" style=\"stroke:#000000; stroke-width:4; stroke-opacity:1; fill:none\" points=\"\n",
       "  968.46,1476.27 963.565,1477.46 960.302,1482.1 958.671,1490.17 958.671,1495.11 960.302,1503.49 963.565,1508.73 968.46,1510.83 971.723,1511.14 976.618,1509.95 \n",
       "  979.881,1505.31 981.512,1497.24 981.512,1492.3 979.881,1483.92 976.618,1478.68 971.723,1476.58 968.46,1476.27 \n",
       "  \"/>\n",
       "<polyline clip-path=\"url(#clip8301)\" style=\"stroke:#000000; stroke-width:4; stroke-opacity:1; fill:none\" points=\"\n",
       "  1163.27,1494.42 1158.37,1495.61 1155.11,1500.25 1153.48,1508.32 1153.48,1513.26 1155.11,1521.64 1158.37,1526.88 1163.27,1528.98 1166.53,1529.29 1171.42,1528.1 \n",
       "  1174.69,1523.47 1176.32,1515.39 1176.32,1510.45 1174.69,1502.07 1171.42,1496.83 1166.53,1494.73 1163.27,1494.42 \n",
       "  \"/>\n",
       "<polyline clip-path=\"url(#clip8301)\" style=\"stroke:#000000; stroke-width:4; stroke-opacity:1; fill:none\" points=\"\n",
       "  1189.37,1528.13 1187.74,1529.62 1189.37,1531.42 1191,1529.92 1189.37,1528.13 \n",
       "  \"/>\n",
       "<polyline clip-path=\"url(#clip8301)\" style=\"stroke:#000000; stroke-width:4; stroke-opacity:1; fill:none\" points=\"\n",
       "  1222,1499.9 1205.69,1498.38 1204.06,1513.04 1205.69,1511.54 1210.58,1510.35 1215.48,1510.81 1220.37,1512.91 1223.63,1516.51 1225.27,1521.6 1225.27,1524.89 \n",
       "  1223.63,1529.67 1220.37,1532.66 1215.48,1533.85 1210.58,1533.39 1205.69,1531.29 1204.06,1529.49 1202.42,1526.05 \n",
       "  \"/>\n",
       "<polyline clip-path=\"url(#clip8301)\" style=\"stroke:#000000; stroke-width:4; stroke-opacity:1; fill:none\" points=\"\n",
       "  1377.65,1520.98 1380.91,1519.64 1385.81,1515.16 1385.81,1549.72 \n",
       "  \"/>\n",
       "<polyline clip-path=\"url(#clip8301)\" style=\"stroke:#000000; stroke-width:4; stroke-opacity:1; fill:none\" points=\"\n",
       "  1408.65,1548.56 1407.02,1550.05 1408.65,1551.85 1410.28,1550.36 1408.65,1548.56 \n",
       "  \"/>\n",
       "<polyline clip-path=\"url(#clip8301)\" style=\"stroke:#000000; stroke-width:4; stroke-opacity:1; fill:none\" points=\"\n",
       "  1431.49,1519.42 1426.6,1520.61 1423.33,1525.24 1421.7,1533.32 1421.7,1538.25 1423.33,1546.63 1426.6,1551.88 1431.49,1553.98 1434.76,1554.28 1439.65,1553.09 \n",
       "  1442.91,1548.46 1444.55,1540.38 1444.55,1535.45 1442.91,1527.06 1439.65,1521.82 1434.76,1519.72 1431.49,1519.42 \n",
       "  \"/>\n",
       "<polyline clip-path=\"url(#clip8301)\" style=\"stroke:#000000; stroke-width:4; stroke-opacity:1; fill:none\" points=\"\n",
       "  527.267,1417.45 551.499,1419.71 540.838,1424.87 551.499,1419.71 661.139,1429.92 655.808,1432.51 661.139,1429.92 770.778,1440.14 760.118,1445.3 770.778,1440.14 \n",
       "  880.418,1450.36 875.088,1452.94 880.418,1450.36 990.058,1460.57 979.398,1465.73 990.058,1460.57 1099.7,1470.79 1094.37,1473.37 1099.7,1470.79 1209.34,1481.01 \n",
       "  1198.68,1486.17 1209.34,1481.01 1318.98,1491.22 1313.65,1493.8 1318.98,1491.22 1428.62,1501.44 1417.96,1506.6 1428.62,1501.44 1450.48,1503.47 \n",
       "  \"/>\n",
       "<polyline clip-path=\"url(#clip8301)\" style=\"stroke:#000000; stroke-width:4; stroke-opacity:1; fill:none\" points=\"\n",
       "  1466.21,1544.65 1490.2,1533.03 \n",
       "  \"/>\n",
       "<polyline clip-path=\"url(#clip8301)\" style=\"stroke:#000000; stroke-width:4; stroke-opacity:1; fill:none\" points=\"\n",
       "  1503.54,1513.41 1506.2,1510.48 1510.2,1503.6 1510.2,1538.16 \n",
       "  \"/>\n",
       "<polyline clip-path=\"url(#clip8301)\" style=\"stroke:#000000; stroke-width:4; stroke-opacity:1; fill:none\" points=\"\n",
       "  1528.87,1525.83 1527.53,1528.13 1528.87,1529.13 1530.2,1526.83 1528.87,1525.83 \n",
       "  \"/>\n",
       "<polyline clip-path=\"url(#clip8301)\" style=\"stroke:#000000; stroke-width:4; stroke-opacity:1; fill:none\" points=\"\n",
       "  1547.53,1485.53 1543.53,1489.11 1540.87,1495.34 1539.53,1504.21 1539.53,1509.15 1540.87,1516.73 1543.53,1520.38 1547.53,1520.09 1550.2,1518.8 1554.2,1515.22 \n",
       "  1556.86,1508.99 1558.2,1500.11 1558.2,1495.18 1556.86,1487.59 1554.2,1483.95 1550.2,1484.24 1547.53,1485.53 \n",
       "  \"/>\n",
       "<polyline clip-path=\"url(#clip8301)\" style=\"stroke:#000000; stroke-width:4; stroke-opacity:1; fill:none\" points=\"\n",
       "  1592.02,1483.74 1616.02,1472.12 \n",
       "  \"/>\n",
       "<polyline clip-path=\"url(#clip8301)\" style=\"stroke:#000000; stroke-width:4; stroke-opacity:1; fill:none\" points=\"\n",
       "  1633.35,1443.98 1629.35,1447.56 1626.69,1453.79 1625.35,1462.66 1625.35,1467.6 1626.69,1475.18 1629.35,1478.83 1633.35,1478.54 1636.02,1477.25 1640.02,1473.66 \n",
       "  1642.68,1467.44 1644.02,1458.56 1644.02,1453.62 1642.68,1446.04 1640.02,1442.4 1636.02,1442.69 1633.35,1443.98 \n",
       "  \"/>\n",
       "<polyline clip-path=\"url(#clip8301)\" style=\"stroke:#000000; stroke-width:4; stroke-opacity:1; fill:none\" points=\"\n",
       "  1654.68,1464.92 1653.35,1467.21 1654.68,1468.21 1656.02,1465.92 1654.68,1464.92 \n",
       "  \"/>\n",
       "<polyline clip-path=\"url(#clip8301)\" style=\"stroke:#000000; stroke-width:4; stroke-opacity:1; fill:none\" points=\"\n",
       "  1681.35,1420.74 1668.01,1427.19 1666.68,1442.65 1668.01,1440.36 1672.01,1436.78 1676.01,1434.84 1680.01,1434.55 1682.68,1436.55 1684.01,1440.84 1684.01,1444.13 \n",
       "  1682.68,1449.72 1680.01,1454.3 1676.01,1457.88 1672.01,1459.82 1668.01,1460.11 1666.68,1459.11 1665.35,1456.46 \n",
       "  \"/>\n",
       "<polyline clip-path=\"url(#clip8301)\" style=\"stroke:#000000; stroke-width:4; stroke-opacity:1; fill:none\" points=\"\n",
       "  1761.83,1381.77 1757.83,1385.35 1755.17,1391.58 1753.83,1400.45 1753.83,1405.39 1755.17,1412.98 1757.83,1416.62 1761.83,1416.33 1764.5,1415.04 1768.5,1411.46 \n",
       "  1771.16,1405.23 1772.5,1396.36 1772.5,1391.42 1771.16,1383.83 1768.5,1380.19 1764.5,1380.48 1761.83,1381.77 \n",
       "  \"/>\n",
       "<polyline clip-path=\"url(#clip8301)\" style=\"stroke:#000000; stroke-width:4; stroke-opacity:1; fill:none\" points=\"\n",
       "  1867.65,1330.54 1863.65,1334.12 1860.98,1340.35 1859.65,1349.22 1859.65,1354.16 1860.98,1361.74 1863.65,1365.39 1867.65,1365.1 1870.32,1363.81 1874.32,1360.22 \n",
       "  1876.98,1354 1878.31,1345.12 1878.31,1340.18 1876.98,1332.6 1874.32,1328.96 1870.32,1329.25 1867.65,1330.54 \n",
       "  \"/>\n",
       "<polyline clip-path=\"url(#clip8301)\" style=\"stroke:#000000; stroke-width:4; stroke-opacity:1; fill:none\" points=\"\n",
       "  1888.98,1351.48 1887.65,1353.77 1888.98,1354.77 1890.31,1352.48 1888.98,1351.48 \n",
       "  \"/>\n",
       "<polyline clip-path=\"url(#clip8301)\" style=\"stroke:#000000; stroke-width:4; stroke-opacity:1; fill:none\" points=\"\n",
       "  1915.64,1307.3 1902.31,1313.75 1900.98,1329.21 1902.31,1326.92 1906.31,1323.34 1910.31,1321.4 1914.31,1321.11 1916.98,1323.11 1918.31,1327.4 1918.31,1330.69 \n",
       "  1916.98,1336.28 1914.31,1340.86 1910.31,1344.44 1906.31,1346.38 1902.31,1346.67 1900.98,1345.67 1899.65,1343.02 \n",
       "  \"/>\n",
       "<polyline clip-path=\"url(#clip8301)\" style=\"stroke:#000000; stroke-width:4; stroke-opacity:1; fill:none\" points=\"\n",
       "  1989.46,1278.14 1992.13,1275.2 1996.13,1268.33 1996.13,1302.89 \n",
       "  \"/>\n",
       "<polyline clip-path=\"url(#clip8301)\" style=\"stroke:#000000; stroke-width:4; stroke-opacity:1; fill:none\" points=\"\n",
       "  2014.8,1290.56 2013.46,1292.85 2014.8,1293.85 2016.13,1291.56 2014.8,1290.56 \n",
       "  \"/>\n",
       "<polyline clip-path=\"url(#clip8301)\" style=\"stroke:#000000; stroke-width:4; stroke-opacity:1; fill:none\" points=\"\n",
       "  2033.46,1250.26 2029.46,1253.84 2026.79,1260.07 2025.46,1268.94 2025.46,1273.88 2026.79,1281.46 2029.46,1285.11 2033.46,1284.82 2036.13,1283.53 2040.13,1279.94 \n",
       "  2042.79,1273.71 2044.13,1264.84 2044.13,1259.9 2042.79,1252.32 2040.13,1248.67 2036.13,1248.97 2033.46,1250.26 \n",
       "  \"/>\n",
       "<polyline clip-path=\"url(#clip8301)\" style=\"stroke:#000000; stroke-width:4; stroke-opacity:1; fill:none\" points=\"\n",
       "  1450.48,1503.47 1465.16,1496.37 1483.63,1498.09 1465.16,1496.37 1528.07,1465.91 1537.3,1466.77 1528.07,1465.91 1590.98,1435.45 1609.44,1437.17 1590.98,1435.45 \n",
       "  1653.89,1404.99 1663.12,1405.85 1653.89,1404.99 1716.79,1374.53 1735.26,1376.25 1716.79,1374.53 1779.7,1344.08 1788.93,1344.94 1779.7,1344.08 1842.61,1313.62 \n",
       "  1861.07,1315.34 1842.61,1313.62 1905.52,1283.16 1914.75,1284.02 1905.52,1283.16 1968.42,1252.7 1986.89,1254.42 1968.42,1252.7 1983.5,1245.4 \n",
       "  \"/>\n",
       "<circle clip-path=\"url(#clip8303)\" style=\"fill:#000000; stroke:none; fill-opacity:1\" cx=\"1428.19\" cy=\"1055.74\" r=\"18\"/>\n",
       "<circle clip-path=\"url(#clip8303)\" style=\"fill:#009af9; stroke:none; fill-opacity:1\" cx=\"1428.19\" cy=\"1055.74\" r=\"14\"/>\n",
       "<circle clip-path=\"url(#clip8303)\" style=\"fill:#000000; stroke:none; fill-opacity:1\" cx=\"1140.33\" cy=\"463.408\" r=\"18\"/>\n",
       "<circle clip-path=\"url(#clip8303)\" style=\"fill:#009af9; stroke:none; fill-opacity:1\" cx=\"1140.33\" cy=\"463.408\" r=\"14\"/>\n",
       "<circle clip-path=\"url(#clip8303)\" style=\"fill:#000000; stroke:none; fill-opacity:1\" cx=\"1438.4\" cy=\"558.48\" r=\"18\"/>\n",
       "<circle clip-path=\"url(#clip8303)\" style=\"fill:#009af9; stroke:none; fill-opacity:1\" cx=\"1438.4\" cy=\"558.48\" r=\"14\"/>\n",
       "<circle clip-path=\"url(#clip8303)\" style=\"fill:#000000; stroke:none; fill-opacity:1\" cx=\"730.684\" cy=\"1113.23\" r=\"18\"/>\n",
       "<circle clip-path=\"url(#clip8303)\" style=\"fill:#009af9; stroke:none; fill-opacity:1\" cx=\"730.684\" cy=\"1113.23\" r=\"14\"/>\n",
       "<circle clip-path=\"url(#clip8303)\" style=\"fill:#000000; stroke:none; fill-opacity:1\" cx=\"1713.35\" cy=\"554.913\" r=\"18\"/>\n",
       "<circle clip-path=\"url(#clip8303)\" style=\"fill:#009af9; stroke:none; fill-opacity:1\" cx=\"1713.35\" cy=\"554.913\" r=\"14\"/>\n",
       "<circle clip-path=\"url(#clip8303)\" style=\"fill:#000000; stroke:none; fill-opacity:1\" cx=\"1215.78\" cy=\"1125.13\" r=\"18\"/>\n",
       "<circle clip-path=\"url(#clip8303)\" style=\"fill:#009af9; stroke:none; fill-opacity:1\" cx=\"1215.78\" cy=\"1125.13\" r=\"14\"/>\n",
       "<circle clip-path=\"url(#clip8303)\" style=\"fill:#000000; stroke:none; fill-opacity:1\" cx=\"1008.12\" cy=\"1186.26\" r=\"18\"/>\n",
       "<circle clip-path=\"url(#clip8303)\" style=\"fill:#009af9; stroke:none; fill-opacity:1\" cx=\"1008.12\" cy=\"1186.26\" r=\"14\"/>\n",
       "<circle clip-path=\"url(#clip8303)\" style=\"fill:#000000; stroke:none; fill-opacity:1\" cx=\"1698.91\" cy=\"515.789\" r=\"18\"/>\n",
       "<circle clip-path=\"url(#clip8303)\" style=\"fill:#009af9; stroke:none; fill-opacity:1\" cx=\"1698.91\" cy=\"515.789\" r=\"14\"/>\n",
       "<circle clip-path=\"url(#clip8303)\" style=\"fill:#000000; stroke:none; fill-opacity:1\" cx=\"1542.18\" cy=\"781.331\" r=\"18\"/>\n",
       "<circle clip-path=\"url(#clip8303)\" style=\"fill:#009af9; stroke:none; fill-opacity:1\" cx=\"1542.18\" cy=\"781.331\" r=\"14\"/>\n",
       "<circle clip-path=\"url(#clip8303)\" style=\"fill:#000000; stroke:none; fill-opacity:1\" cx=\"1503.9\" cy=\"521.187\" r=\"18\"/>\n",
       "<circle clip-path=\"url(#clip8303)\" style=\"fill:#009af9; stroke:none; fill-opacity:1\" cx=\"1503.9\" cy=\"521.187\" r=\"14\"/>\n",
       "<circle clip-path=\"url(#clip8303)\" style=\"fill:#000000; stroke:none; fill-opacity:1\" cx=\"1264.36\" cy=\"456.912\" r=\"18\"/>\n",
       "<circle clip-path=\"url(#clip8303)\" style=\"fill:#009af9; stroke:none; fill-opacity:1\" cx=\"1264.36\" cy=\"456.912\" r=\"14\"/>\n",
       "<circle clip-path=\"url(#clip8303)\" style=\"fill:#000000; stroke:none; fill-opacity:1\" cx=\"1722.78\" cy=\"370.363\" r=\"18\"/>\n",
       "<circle clip-path=\"url(#clip8303)\" style=\"fill:#009af9; stroke:none; fill-opacity:1\" cx=\"1722.78\" cy=\"370.363\" r=\"14\"/>\n",
       "<circle clip-path=\"url(#clip8303)\" style=\"fill:#000000; stroke:none; fill-opacity:1\" cx=\"1706.32\" cy=\"573.553\" r=\"18\"/>\n",
       "<circle clip-path=\"url(#clip8303)\" style=\"fill:#009af9; stroke:none; fill-opacity:1\" cx=\"1706.32\" cy=\"573.553\" r=\"14\"/>\n",
       "<circle clip-path=\"url(#clip8303)\" style=\"fill:#000000; stroke:none; fill-opacity:1\" cx=\"1075.14\" cy=\"1150.25\" r=\"18\"/>\n",
       "<circle clip-path=\"url(#clip8303)\" style=\"fill:#009af9; stroke:none; fill-opacity:1\" cx=\"1075.14\" cy=\"1150.25\" r=\"14\"/>\n",
       "<circle clip-path=\"url(#clip8303)\" style=\"fill:#000000; stroke:none; fill-opacity:1\" cx=\"928.916\" cy=\"884.584\" r=\"18\"/>\n",
       "<circle clip-path=\"url(#clip8303)\" style=\"fill:#009af9; stroke:none; fill-opacity:1\" cx=\"928.916\" cy=\"884.584\" r=\"14\"/>\n",
       "<circle clip-path=\"url(#clip8303)\" style=\"fill:#000000; stroke:none; fill-opacity:1\" cx=\"1291.45\" cy=\"858.265\" r=\"18\"/>\n",
       "<circle clip-path=\"url(#clip8303)\" style=\"fill:#009af9; stroke:none; fill-opacity:1\" cx=\"1291.45\" cy=\"858.265\" r=\"14\"/>\n",
       "<circle clip-path=\"url(#clip8303)\" style=\"fill:#000000; stroke:none; fill-opacity:1\" cx=\"1174.97\" cy=\"806.994\" r=\"18\"/>\n",
       "<circle clip-path=\"url(#clip8303)\" style=\"fill:#009af9; stroke:none; fill-opacity:1\" cx=\"1174.97\" cy=\"806.994\" r=\"14\"/>\n",
       "<circle clip-path=\"url(#clip8303)\" style=\"fill:#000000; stroke:none; fill-opacity:1\" cx=\"1059.08\" cy=\"814.798\" r=\"18\"/>\n",
       "<circle clip-path=\"url(#clip8303)\" style=\"fill:#009af9; stroke:none; fill-opacity:1\" cx=\"1059.08\" cy=\"814.798\" r=\"14\"/>\n",
       "<circle clip-path=\"url(#clip8303)\" style=\"fill:#000000; stroke:none; fill-opacity:1\" cx=\"1309.79\" cy=\"606.976\" r=\"18\"/>\n",
       "<circle clip-path=\"url(#clip8303)\" style=\"fill:#009af9; stroke:none; fill-opacity:1\" cx=\"1309.79\" cy=\"606.976\" r=\"14\"/>\n",
       "<circle clip-path=\"url(#clip8303)\" style=\"fill:#000000; stroke:none; fill-opacity:1\" cx=\"1016.79\" cy=\"1195.07\" r=\"18\"/>\n",
       "<circle clip-path=\"url(#clip8303)\" style=\"fill:#009af9; stroke:none; fill-opacity:1\" cx=\"1016.79\" cy=\"1195.07\" r=\"14\"/>\n",
       "<circle clip-path=\"url(#clip8303)\" style=\"fill:#000000; stroke:none; fill-opacity:1\" cx=\"905.18\" cy=\"948.122\" r=\"18\"/>\n",
       "<circle clip-path=\"url(#clip8303)\" style=\"fill:#009af9; stroke:none; fill-opacity:1\" cx=\"905.18\" cy=\"948.122\" r=\"14\"/>\n",
       "<circle clip-path=\"url(#clip8303)\" style=\"fill:#000000; stroke:none; fill-opacity:1\" cx=\"1031.14\" cy=\"1158.98\" r=\"18\"/>\n",
       "<circle clip-path=\"url(#clip8303)\" style=\"fill:#009af9; stroke:none; fill-opacity:1\" cx=\"1031.14\" cy=\"1158.98\" r=\"14\"/>\n",
       "<circle clip-path=\"url(#clip8303)\" style=\"fill:#000000; stroke:none; fill-opacity:1\" cx=\"1573.75\" cy=\"812.319\" r=\"18\"/>\n",
       "<circle clip-path=\"url(#clip8303)\" style=\"fill:#009af9; stroke:none; fill-opacity:1\" cx=\"1573.75\" cy=\"812.319\" r=\"14\"/>\n",
       "<circle clip-path=\"url(#clip8303)\" style=\"fill:#000000; stroke:none; fill-opacity:1\" cx=\"1348.41\" cy=\"995.249\" r=\"18\"/>\n",
       "<circle clip-path=\"url(#clip8303)\" style=\"fill:#009af9; stroke:none; fill-opacity:1\" cx=\"1348.41\" cy=\"995.249\" r=\"14\"/>\n",
       "<circle clip-path=\"url(#clip8303)\" style=\"fill:#000000; stroke:none; fill-opacity:1\" cx=\"1237.08\" cy=\"499.429\" r=\"18\"/>\n",
       "<circle clip-path=\"url(#clip8303)\" style=\"fill:#009af9; stroke:none; fill-opacity:1\" cx=\"1237.08\" cy=\"499.429\" r=\"14\"/>\n",
       "<circle clip-path=\"url(#clip8303)\" style=\"fill:#000000; stroke:none; fill-opacity:1\" cx=\"925.819\" cy=\"683.395\" r=\"18\"/>\n",
       "<circle clip-path=\"url(#clip8303)\" style=\"fill:#009af9; stroke:none; fill-opacity:1\" cx=\"925.819\" cy=\"683.395\" r=\"14\"/>\n",
       "<circle clip-path=\"url(#clip8303)\" style=\"fill:#000000; stroke:none; fill-opacity:1\" cx=\"1352.99\" cy=\"885.951\" r=\"18\"/>\n",
       "<circle clip-path=\"url(#clip8303)\" style=\"fill:#009af9; stroke:none; fill-opacity:1\" cx=\"1352.99\" cy=\"885.951\" r=\"14\"/>\n",
       "<circle clip-path=\"url(#clip8303)\" style=\"fill:#000000; stroke:none; fill-opacity:1\" cx=\"1700.48\" cy=\"513.098\" r=\"18\"/>\n",
       "<circle clip-path=\"url(#clip8303)\" style=\"fill:#009af9; stroke:none; fill-opacity:1\" cx=\"1700.48\" cy=\"513.098\" r=\"14\"/>\n",
       "<circle clip-path=\"url(#clip8303)\" style=\"fill:#000000; stroke:none; fill-opacity:1\" cx=\"938.654\" cy=\"1134.42\" r=\"18\"/>\n",
       "<circle clip-path=\"url(#clip8303)\" style=\"fill:#009af9; stroke:none; fill-opacity:1\" cx=\"938.654\" cy=\"1134.42\" r=\"14\"/>\n",
       "<circle clip-path=\"url(#clip8303)\" style=\"fill:#000000; stroke:none; fill-opacity:1\" cx=\"1175.38\" cy=\"445.773\" r=\"18\"/>\n",
       "<circle clip-path=\"url(#clip8303)\" style=\"fill:#009af9; stroke:none; fill-opacity:1\" cx=\"1175.38\" cy=\"445.773\" r=\"14\"/>\n",
       "<circle clip-path=\"url(#clip8303)\" style=\"fill:#000000; stroke:none; fill-opacity:1\" cx=\"1458.19\" cy=\"982.191\" r=\"18\"/>\n",
       "<circle clip-path=\"url(#clip8303)\" style=\"fill:#009af9; stroke:none; fill-opacity:1\" cx=\"1458.19\" cy=\"982.191\" r=\"14\"/>\n",
       "<circle clip-path=\"url(#clip8303)\" style=\"fill:#000000; stroke:none; fill-opacity:1\" cx=\"982.444\" cy=\"704.851\" r=\"18\"/>\n",
       "<circle clip-path=\"url(#clip8303)\" style=\"fill:#009af9; stroke:none; fill-opacity:1\" cx=\"982.444\" cy=\"704.851\" r=\"14\"/>\n",
       "<circle clip-path=\"url(#clip8303)\" style=\"fill:#000000; stroke:none; fill-opacity:1\" cx=\"1546.42\" cy=\"917.966\" r=\"18\"/>\n",
       "<circle clip-path=\"url(#clip8303)\" style=\"fill:#009af9; stroke:none; fill-opacity:1\" cx=\"1546.42\" cy=\"917.966\" r=\"14\"/>\n",
       "<circle clip-path=\"url(#clip8303)\" style=\"fill:#000000; stroke:none; fill-opacity:1\" cx=\"826.553\" cy=\"1241.13\" r=\"18\"/>\n",
       "<circle clip-path=\"url(#clip8303)\" style=\"fill:#009af9; stroke:none; fill-opacity:1\" cx=\"826.553\" cy=\"1241.13\" r=\"14\"/>\n",
       "<circle clip-path=\"url(#clip8303)\" style=\"fill:#000000; stroke:none; fill-opacity:1\" cx=\"1266.66\" cy=\"909.354\" r=\"18\"/>\n",
       "<circle clip-path=\"url(#clip8303)\" style=\"fill:#009af9; stroke:none; fill-opacity:1\" cx=\"1266.66\" cy=\"909.354\" r=\"14\"/>\n",
       "<circle clip-path=\"url(#clip8303)\" style=\"fill:#000000; stroke:none; fill-opacity:1\" cx=\"1281.69\" cy=\"406.577\" r=\"18\"/>\n",
       "<circle clip-path=\"url(#clip8303)\" style=\"fill:#009af9; stroke:none; fill-opacity:1\" cx=\"1281.69\" cy=\"406.577\" r=\"14\"/>\n",
       "<circle clip-path=\"url(#clip8303)\" style=\"fill:#000000; stroke:none; fill-opacity:1\" cx=\"1304.28\" cy=\"573.907\" r=\"18\"/>\n",
       "<circle clip-path=\"url(#clip8303)\" style=\"fill:#009af9; stroke:none; fill-opacity:1\" cx=\"1304.28\" cy=\"573.907\" r=\"14\"/>\n",
       "<circle clip-path=\"url(#clip8303)\" style=\"fill:#000000; stroke:none; fill-opacity:1\" cx=\"1245.79\" cy=\"593.092\" r=\"18\"/>\n",
       "<circle clip-path=\"url(#clip8303)\" style=\"fill:#009af9; stroke:none; fill-opacity:1\" cx=\"1245.79\" cy=\"593.092\" r=\"14\"/>\n",
       "<circle clip-path=\"url(#clip8303)\" style=\"fill:#000000; stroke:none; fill-opacity:1\" cx=\"982.562\" cy=\"680.266\" r=\"18\"/>\n",
       "<circle clip-path=\"url(#clip8303)\" style=\"fill:#009af9; stroke:none; fill-opacity:1\" cx=\"982.562\" cy=\"680.266\" r=\"14\"/>\n",
       "<circle clip-path=\"url(#clip8303)\" style=\"fill:#000000; stroke:none; fill-opacity:1\" cx=\"1166.3\" cy=\"514.442\" r=\"18\"/>\n",
       "<circle clip-path=\"url(#clip8303)\" style=\"fill:#009af9; stroke:none; fill-opacity:1\" cx=\"1166.3\" cy=\"514.442\" r=\"14\"/>\n",
       "<circle clip-path=\"url(#clip8303)\" style=\"fill:#000000; stroke:none; fill-opacity:1\" cx=\"1679.05\" cy=\"324.144\" r=\"18\"/>\n",
       "<circle clip-path=\"url(#clip8303)\" style=\"fill:#009af9; stroke:none; fill-opacity:1\" cx=\"1679.05\" cy=\"324.144\" r=\"14\"/>\n",
       "<circle clip-path=\"url(#clip8303)\" style=\"fill:#000000; stroke:none; fill-opacity:1\" cx=\"1258.76\" cy=\"810.795\" r=\"18\"/>\n",
       "<circle clip-path=\"url(#clip8303)\" style=\"fill:#009af9; stroke:none; fill-opacity:1\" cx=\"1258.76\" cy=\"810.795\" r=\"14\"/>\n",
       "<circle clip-path=\"url(#clip8303)\" style=\"fill:#000000; stroke:none; fill-opacity:1\" cx=\"1626.73\" cy=\"426.893\" r=\"18\"/>\n",
       "<circle clip-path=\"url(#clip8303)\" style=\"fill:#009af9; stroke:none; fill-opacity:1\" cx=\"1626.73\" cy=\"426.893\" r=\"14\"/>\n",
       "<circle clip-path=\"url(#clip8303)\" style=\"fill:#000000; stroke:none; fill-opacity:1\" cx=\"1240.66\" cy=\"617.484\" r=\"18\"/>\n",
       "<circle clip-path=\"url(#clip8303)\" style=\"fill:#009af9; stroke:none; fill-opacity:1\" cx=\"1240.66\" cy=\"617.484\" r=\"14\"/>\n",
       "<circle clip-path=\"url(#clip8303)\" style=\"fill:#000000; stroke:none; fill-opacity:1\" cx=\"1284.6\" cy=\"570.864\" r=\"18\"/>\n",
       "<circle clip-path=\"url(#clip8303)\" style=\"fill:#009af9; stroke:none; fill-opacity:1\" cx=\"1284.6\" cy=\"570.864\" r=\"14\"/>\n",
       "<circle clip-path=\"url(#clip8303)\" style=\"fill:#000000; stroke:none; fill-opacity:1\" cx=\"1035.65\" cy=\"574.583\" r=\"18\"/>\n",
       "<circle clip-path=\"url(#clip8303)\" style=\"fill:#009af9; stroke:none; fill-opacity:1\" cx=\"1035.65\" cy=\"574.583\" r=\"14\"/>\n",
       "<circle clip-path=\"url(#clip8303)\" style=\"fill:#000000; stroke:none; fill-opacity:1\" cx=\"1381.9\" cy=\"496.552\" r=\"18\"/>\n",
       "<circle clip-path=\"url(#clip8303)\" style=\"fill:#009af9; stroke:none; fill-opacity:1\" cx=\"1381.9\" cy=\"496.552\" r=\"14\"/>\n",
       "<circle clip-path=\"url(#clip8303)\" style=\"fill:#000000; stroke:none; fill-opacity:1\" cx=\"1102.43\" cy=\"1111.2\" r=\"18\"/>\n",
       "<circle clip-path=\"url(#clip8303)\" style=\"fill:#009af9; stroke:none; fill-opacity:1\" cx=\"1102.43\" cy=\"1111.2\" r=\"14\"/>\n",
       "<circle clip-path=\"url(#clip8303)\" style=\"fill:#000000; stroke:none; fill-opacity:1\" cx=\"1327.04\" cy=\"1009.7\" r=\"18\"/>\n",
       "<circle clip-path=\"url(#clip8303)\" style=\"fill:#009af9; stroke:none; fill-opacity:1\" cx=\"1327.04\" cy=\"1009.7\" r=\"14\"/>\n",
       "<circle clip-path=\"url(#clip8303)\" style=\"fill:#000000; stroke:none; fill-opacity:1\" cx=\"1393.24\" cy=\"736.295\" r=\"18\"/>\n",
       "<circle clip-path=\"url(#clip8303)\" style=\"fill:#009af9; stroke:none; fill-opacity:1\" cx=\"1393.24\" cy=\"736.295\" r=\"14\"/>\n",
       "<circle clip-path=\"url(#clip8303)\" style=\"fill:#000000; stroke:none; fill-opacity:1\" cx=\"1657.71\" cy=\"694.074\" r=\"18\"/>\n",
       "<circle clip-path=\"url(#clip8303)\" style=\"fill:#009af9; stroke:none; fill-opacity:1\" cx=\"1657.71\" cy=\"694.074\" r=\"14\"/>\n",
       "<circle clip-path=\"url(#clip8303)\" style=\"fill:#000000; stroke:none; fill-opacity:1\" cx=\"690.759\" cy=\"1223.84\" r=\"18\"/>\n",
       "<circle clip-path=\"url(#clip8303)\" style=\"fill:#009af9; stroke:none; fill-opacity:1\" cx=\"690.759\" cy=\"1223.84\" r=\"14\"/>\n",
       "<circle clip-path=\"url(#clip8303)\" style=\"fill:#000000; stroke:none; fill-opacity:1\" cx=\"970.366\" cy=\"1218.49\" r=\"18\"/>\n",
       "<circle clip-path=\"url(#clip8303)\" style=\"fill:#009af9; stroke:none; fill-opacity:1\" cx=\"970.366\" cy=\"1218.49\" r=\"14\"/>\n",
       "<circle clip-path=\"url(#clip8303)\" style=\"fill:#000000; stroke:none; fill-opacity:1\" cx=\"1189.99\" cy=\"1156.66\" r=\"18\"/>\n",
       "<circle clip-path=\"url(#clip8303)\" style=\"fill:#009af9; stroke:none; fill-opacity:1\" cx=\"1189.99\" cy=\"1156.66\" r=\"14\"/>\n",
       "<circle clip-path=\"url(#clip8303)\" style=\"fill:#000000; stroke:none; fill-opacity:1\" cx=\"1745.76\" cy=\"304.634\" r=\"18\"/>\n",
       "<circle clip-path=\"url(#clip8303)\" style=\"fill:#009af9; stroke:none; fill-opacity:1\" cx=\"1745.76\" cy=\"304.634\" r=\"14\"/>\n",
       "<circle clip-path=\"url(#clip8303)\" style=\"fill:#000000; stroke:none; fill-opacity:1\" cx=\"1468.16\" cy=\"620.658\" r=\"18\"/>\n",
       "<circle clip-path=\"url(#clip8303)\" style=\"fill:#009af9; stroke:none; fill-opacity:1\" cx=\"1468.16\" cy=\"620.658\" r=\"14\"/>\n",
       "<circle clip-path=\"url(#clip8303)\" style=\"fill:#000000; stroke:none; fill-opacity:1\" cx=\"819.931\" cy=\"1215.4\" r=\"18\"/>\n",
       "<circle clip-path=\"url(#clip8303)\" style=\"fill:#009af9; stroke:none; fill-opacity:1\" cx=\"819.931\" cy=\"1215.4\" r=\"14\"/>\n",
       "<circle clip-path=\"url(#clip8303)\" style=\"fill:#000000; stroke:none; fill-opacity:1\" cx=\"1357.17\" cy=\"1098.35\" r=\"18\"/>\n",
       "<circle clip-path=\"url(#clip8303)\" style=\"fill:#009af9; stroke:none; fill-opacity:1\" cx=\"1357.17\" cy=\"1098.35\" r=\"14\"/>\n",
       "<circle clip-path=\"url(#clip8303)\" style=\"fill:#000000; stroke:none; fill-opacity:1\" cx=\"1165.71\" cy=\"433.723\" r=\"18\"/>\n",
       "<circle clip-path=\"url(#clip8303)\" style=\"fill:#009af9; stroke:none; fill-opacity:1\" cx=\"1165.71\" cy=\"433.723\" r=\"14\"/>\n",
       "<circle clip-path=\"url(#clip8303)\" style=\"fill:#000000; stroke:none; fill-opacity:1\" cx=\"1690.56\" cy=\"495.851\" r=\"18\"/>\n",
       "<circle clip-path=\"url(#clip8303)\" style=\"fill:#009af9; stroke:none; fill-opacity:1\" cx=\"1690.56\" cy=\"495.851\" r=\"14\"/>\n",
       "<circle clip-path=\"url(#clip8303)\" style=\"fill:#000000; stroke:none; fill-opacity:1\" cx=\"1450.04\" cy=\"1068.97\" r=\"18\"/>\n",
       "<circle clip-path=\"url(#clip8303)\" style=\"fill:#009af9; stroke:none; fill-opacity:1\" cx=\"1450.04\" cy=\"1068.97\" r=\"14\"/>\n",
       "<circle clip-path=\"url(#clip8303)\" style=\"fill:#000000; stroke:none; fill-opacity:1\" cx=\"684.881\" cy=\"1250.08\" r=\"18\"/>\n",
       "<circle clip-path=\"url(#clip8303)\" style=\"fill:#009af9; stroke:none; fill-opacity:1\" cx=\"684.881\" cy=\"1250.08\" r=\"14\"/>\n",
       "<circle clip-path=\"url(#clip8303)\" style=\"fill:#000000; stroke:none; fill-opacity:1\" cx=\"1166.29\" cy=\"965.265\" r=\"18\"/>\n",
       "<circle clip-path=\"url(#clip8303)\" style=\"fill:#009af9; stroke:none; fill-opacity:1\" cx=\"1166.29\" cy=\"965.265\" r=\"14\"/>\n",
       "<circle clip-path=\"url(#clip8303)\" style=\"fill:#000000; stroke:none; fill-opacity:1\" cx=\"957.463\" cy=\"1019.72\" r=\"18\"/>\n",
       "<circle clip-path=\"url(#clip8303)\" style=\"fill:#009af9; stroke:none; fill-opacity:1\" cx=\"957.463\" cy=\"1019.72\" r=\"14\"/>\n",
       "<circle clip-path=\"url(#clip8303)\" style=\"fill:#000000; stroke:none; fill-opacity:1\" cx=\"1446.9\" cy=\"416.284\" r=\"18\"/>\n",
       "<circle clip-path=\"url(#clip8303)\" style=\"fill:#009af9; stroke:none; fill-opacity:1\" cx=\"1446.9\" cy=\"416.284\" r=\"14\"/>\n",
       "<circle clip-path=\"url(#clip8303)\" style=\"fill:#000000; stroke:none; fill-opacity:1\" cx=\"1344.75\" cy=\"864.206\" r=\"18\"/>\n",
       "<circle clip-path=\"url(#clip8303)\" style=\"fill:#009af9; stroke:none; fill-opacity:1\" cx=\"1344.75\" cy=\"864.206\" r=\"14\"/>\n",
       "<circle clip-path=\"url(#clip8303)\" style=\"fill:#000000; stroke:none; fill-opacity:1\" cx=\"1626.48\" cy=\"328.585\" r=\"18\"/>\n",
       "<circle clip-path=\"url(#clip8303)\" style=\"fill:#009af9; stroke:none; fill-opacity:1\" cx=\"1626.48\" cy=\"328.585\" r=\"14\"/>\n",
       "<circle clip-path=\"url(#clip8303)\" style=\"fill:#000000; stroke:none; fill-opacity:1\" cx=\"749.266\" cy=\"1127.61\" r=\"18\"/>\n",
       "<circle clip-path=\"url(#clip8303)\" style=\"fill:#009af9; stroke:none; fill-opacity:1\" cx=\"749.266\" cy=\"1127.61\" r=\"14\"/>\n",
       "<circle clip-path=\"url(#clip8303)\" style=\"fill:#000000; stroke:none; fill-opacity:1\" cx=\"1043\" cy=\"522.017\" r=\"18\"/>\n",
       "<circle clip-path=\"url(#clip8303)\" style=\"fill:#009af9; stroke:none; fill-opacity:1\" cx=\"1043\" cy=\"522.017\" r=\"14\"/>\n",
       "<circle clip-path=\"url(#clip8303)\" style=\"fill:#000000; stroke:none; fill-opacity:1\" cx=\"1122.96\" cy=\"620.03\" r=\"18\"/>\n",
       "<circle clip-path=\"url(#clip8303)\" style=\"fill:#009af9; stroke:none; fill-opacity:1\" cx=\"1122.96\" cy=\"620.03\" r=\"14\"/>\n",
       "<circle clip-path=\"url(#clip8303)\" style=\"fill:#000000; stroke:none; fill-opacity:1\" cx=\"1449.22\" cy=\"727.667\" r=\"18\"/>\n",
       "<circle clip-path=\"url(#clip8303)\" style=\"fill:#009af9; stroke:none; fill-opacity:1\" cx=\"1449.22\" cy=\"727.667\" r=\"14\"/>\n",
       "<circle clip-path=\"url(#clip8303)\" style=\"fill:#000000; stroke:none; fill-opacity:1\" cx=\"1368.46\" cy=\"852.725\" r=\"18\"/>\n",
       "<circle clip-path=\"url(#clip8303)\" style=\"fill:#009af9; stroke:none; fill-opacity:1\" cx=\"1368.46\" cy=\"852.725\" r=\"14\"/>\n",
       "<circle clip-path=\"url(#clip8303)\" style=\"fill:#000000; stroke:none; fill-opacity:1\" cx=\"1244.41\" cy=\"935.94\" r=\"18\"/>\n",
       "<circle clip-path=\"url(#clip8303)\" style=\"fill:#009af9; stroke:none; fill-opacity:1\" cx=\"1244.41\" cy=\"935.94\" r=\"14\"/>\n",
       "<circle clip-path=\"url(#clip8303)\" style=\"fill:#000000; stroke:none; fill-opacity:1\" cx=\"1398.13\" cy=\"830.909\" r=\"18\"/>\n",
       "<circle clip-path=\"url(#clip8303)\" style=\"fill:#009af9; stroke:none; fill-opacity:1\" cx=\"1398.13\" cy=\"830.909\" r=\"14\"/>\n",
       "<circle clip-path=\"url(#clip8303)\" style=\"fill:#000000; stroke:none; fill-opacity:1\" cx=\"693.269\" cy=\"1199.39\" r=\"18\"/>\n",
       "<circle clip-path=\"url(#clip8303)\" style=\"fill:#009af9; stroke:none; fill-opacity:1\" cx=\"693.269\" cy=\"1199.39\" r=\"14\"/>\n",
       "<circle clip-path=\"url(#clip8303)\" style=\"fill:#000000; stroke:none; fill-opacity:1\" cx=\"1530.92\" cy=\"726.361\" r=\"18\"/>\n",
       "<circle clip-path=\"url(#clip8303)\" style=\"fill:#009af9; stroke:none; fill-opacity:1\" cx=\"1530.92\" cy=\"726.361\" r=\"14\"/>\n",
       "<circle clip-path=\"url(#clip8303)\" style=\"fill:#000000; stroke:none; fill-opacity:1\" cx=\"1117.73\" cy=\"988.636\" r=\"18\"/>\n",
       "<circle clip-path=\"url(#clip8303)\" style=\"fill:#009af9; stroke:none; fill-opacity:1\" cx=\"1117.73\" cy=\"988.636\" r=\"14\"/>\n",
       "<circle clip-path=\"url(#clip8303)\" style=\"fill:#000000; stroke:none; fill-opacity:1\" cx=\"1568.38\" cy=\"712.396\" r=\"18\"/>\n",
       "<circle clip-path=\"url(#clip8303)\" style=\"fill:#009af9; stroke:none; fill-opacity:1\" cx=\"1568.38\" cy=\"712.396\" r=\"14\"/>\n",
       "<circle clip-path=\"url(#clip8303)\" style=\"fill:#000000; stroke:none; fill-opacity:1\" cx=\"1485.77\" cy=\"397.024\" r=\"18\"/>\n",
       "<circle clip-path=\"url(#clip8303)\" style=\"fill:#009af9; stroke:none; fill-opacity:1\" cx=\"1485.77\" cy=\"397.024\" r=\"14\"/>\n",
       "<circle clip-path=\"url(#clip8303)\" style=\"fill:#000000; stroke:none; fill-opacity:1\" cx=\"1263.76\" cy=\"578.629\" r=\"18\"/>\n",
       "<circle clip-path=\"url(#clip8303)\" style=\"fill:#009af9; stroke:none; fill-opacity:1\" cx=\"1263.76\" cy=\"578.629\" r=\"14\"/>\n",
       "<circle clip-path=\"url(#clip8303)\" style=\"fill:#000000; stroke:none; fill-opacity:1\" cx=\"893.259\" cy=\"903.057\" r=\"18\"/>\n",
       "<circle clip-path=\"url(#clip8303)\" style=\"fill:#009af9; stroke:none; fill-opacity:1\" cx=\"893.259\" cy=\"903.057\" r=\"14\"/>\n",
       "<circle clip-path=\"url(#clip8303)\" style=\"fill:#000000; stroke:none; fill-opacity:1\" cx=\"1542.44\" cy=\"941.374\" r=\"18\"/>\n",
       "<circle clip-path=\"url(#clip8303)\" style=\"fill:#009af9; stroke:none; fill-opacity:1\" cx=\"1542.44\" cy=\"941.374\" r=\"14\"/>\n",
       "<circle clip-path=\"url(#clip8303)\" style=\"fill:#000000; stroke:none; fill-opacity:1\" cx=\"970.65\" cy=\"782.9\" r=\"18\"/>\n",
       "<circle clip-path=\"url(#clip8303)\" style=\"fill:#009af9; stroke:none; fill-opacity:1\" cx=\"970.65\" cy=\"782.9\" r=\"14\"/>\n",
       "<circle clip-path=\"url(#clip8303)\" style=\"fill:#000000; stroke:none; fill-opacity:1\" cx=\"920.871\" cy=\"1223.58\" r=\"18\"/>\n",
       "<circle clip-path=\"url(#clip8303)\" style=\"fill:#009af9; stroke:none; fill-opacity:1\" cx=\"920.871\" cy=\"1223.58\" r=\"14\"/>\n",
       "<circle clip-path=\"url(#clip8303)\" style=\"fill:#000000; stroke:none; fill-opacity:1\" cx=\"1449.17\" cy=\"369.314\" r=\"18\"/>\n",
       "<circle clip-path=\"url(#clip8303)\" style=\"fill:#009af9; stroke:none; fill-opacity:1\" cx=\"1449.17\" cy=\"369.314\" r=\"14\"/>\n",
       "<circle clip-path=\"url(#clip8303)\" style=\"fill:#000000; stroke:none; fill-opacity:1\" cx=\"1580.97\" cy=\"544.369\" r=\"18\"/>\n",
       "<circle clip-path=\"url(#clip8303)\" style=\"fill:#009af9; stroke:none; fill-opacity:1\" cx=\"1580.97\" cy=\"544.369\" r=\"14\"/>\n",
       "<circle clip-path=\"url(#clip8303)\" style=\"fill:#000000; stroke:none; fill-opacity:1\" cx=\"1061.06\" cy=\"831.989\" r=\"18\"/>\n",
       "<circle clip-path=\"url(#clip8303)\" style=\"fill:#009af9; stroke:none; fill-opacity:1\" cx=\"1061.06\" cy=\"831.989\" r=\"14\"/>\n",
       "<circle clip-path=\"url(#clip8303)\" style=\"fill:#000000; stroke:none; fill-opacity:1\" cx=\"1643.73\" cy=\"444.824\" r=\"18\"/>\n",
       "<circle clip-path=\"url(#clip8303)\" style=\"fill:#009af9; stroke:none; fill-opacity:1\" cx=\"1643.73\" cy=\"444.824\" r=\"14\"/>\n",
       "<circle clip-path=\"url(#clip8303)\" style=\"fill:#000000; stroke:none; fill-opacity:1\" cx=\"916.48\" cy=\"1074.02\" r=\"18\"/>\n",
       "<circle clip-path=\"url(#clip8303)\" style=\"fill:#009af9; stroke:none; fill-opacity:1\" cx=\"916.48\" cy=\"1074.02\" r=\"14\"/>\n",
       "<circle clip-path=\"url(#clip8303)\" style=\"fill:#000000; stroke:none; fill-opacity:1\" cx=\"1450.47\" cy=\"427.842\" r=\"18\"/>\n",
       "<circle clip-path=\"url(#clip8303)\" style=\"fill:#009af9; stroke:none; fill-opacity:1\" cx=\"1450.47\" cy=\"427.842\" r=\"14\"/>\n",
       "<circle clip-path=\"url(#clip8303)\" style=\"fill:#000000; stroke:none; fill-opacity:1\" cx=\"1441.5\" cy=\"339.026\" r=\"18\"/>\n",
       "<circle clip-path=\"url(#clip8303)\" style=\"fill:#009af9; stroke:none; fill-opacity:1\" cx=\"1441.5\" cy=\"339.026\" r=\"14\"/>\n",
       "<circle clip-path=\"url(#clip8303)\" style=\"fill:#000000; stroke:none; fill-opacity:1\" cx=\"958.213\" cy=\"934.131\" r=\"18\"/>\n",
       "<circle clip-path=\"url(#clip8303)\" style=\"fill:#009af9; stroke:none; fill-opacity:1\" cx=\"958.213\" cy=\"934.131\" r=\"14\"/>\n",
       "<circle clip-path=\"url(#clip8303)\" style=\"fill:#000000; stroke:none; fill-opacity:1\" cx=\"1097.55\" cy=\"956.991\" r=\"18\"/>\n",
       "<circle clip-path=\"url(#clip8303)\" style=\"fill:#009af9; stroke:none; fill-opacity:1\" cx=\"1097.55\" cy=\"956.991\" r=\"14\"/>\n",
       "<circle clip-path=\"url(#clip8303)\" style=\"fill:#000000; stroke:none; fill-opacity:1\" cx=\"1214.41\" cy=\"1186.42\" r=\"18\"/>\n",
       "<circle clip-path=\"url(#clip8303)\" style=\"fill:#009af9; stroke:none; fill-opacity:1\" cx=\"1214.41\" cy=\"1186.42\" r=\"14\"/>\n",
       "<circle clip-path=\"url(#clip8303)\" style=\"fill:#000000; stroke:none; fill-opacity:1\" cx=\"1331.49\" cy=\"537.9\" r=\"18\"/>\n",
       "<circle clip-path=\"url(#clip8303)\" style=\"fill:#009af9; stroke:none; fill-opacity:1\" cx=\"1331.49\" cy=\"537.9\" r=\"14\"/>\n",
       "<circle clip-path=\"url(#clip8303)\" style=\"fill:#000000; stroke:none; fill-opacity:1\" cx=\"1057.51\" cy=\"1186.69\" r=\"18\"/>\n",
       "<circle clip-path=\"url(#clip8303)\" style=\"fill:#009af9; stroke:none; fill-opacity:1\" cx=\"1057.51\" cy=\"1186.69\" r=\"14\"/>\n",
       "<circle clip-path=\"url(#clip8303)\" style=\"fill:#000000; stroke:none; fill-opacity:1\" cx=\"1609.44\" cy=\"712.951\" r=\"18\"/>\n",
       "<circle clip-path=\"url(#clip8303)\" style=\"fill:#009af9; stroke:none; fill-opacity:1\" cx=\"1609.44\" cy=\"712.951\" r=\"14\"/>\n",
       "<circle clip-path=\"url(#clip8303)\" style=\"fill:#000000; stroke:none; fill-opacity:1\" cx=\"1413.75\" cy=\"589.026\" r=\"18\"/>\n",
       "<circle clip-path=\"url(#clip8303)\" style=\"fill:#009af9; stroke:none; fill-opacity:1\" cx=\"1413.75\" cy=\"589.026\" r=\"14\"/>\n",
       "<circle clip-path=\"url(#clip8303)\" style=\"fill:#000000; stroke:none; fill-opacity:1\" cx=\"1536.78\" cy=\"407.288\" r=\"18\"/>\n",
       "<circle clip-path=\"url(#clip8303)\" style=\"fill:#009af9; stroke:none; fill-opacity:1\" cx=\"1536.78\" cy=\"407.288\" r=\"14\"/>\n",
       "<circle clip-path=\"url(#clip8303)\" style=\"fill:#000000; stroke:none; fill-opacity:1\" cx=\"943.84\" cy=\"1196\" r=\"18\"/>\n",
       "<circle clip-path=\"url(#clip8303)\" style=\"fill:#009af9; stroke:none; fill-opacity:1\" cx=\"943.84\" cy=\"1196\" r=\"14\"/>\n",
       "<circle clip-path=\"url(#clip8303)\" style=\"fill:#000000; stroke:none; fill-opacity:1\" cx=\"964.031\" cy=\"1158.89\" r=\"18\"/>\n",
       "<circle clip-path=\"url(#clip8303)\" style=\"fill:#009af9; stroke:none; fill-opacity:1\" cx=\"964.031\" cy=\"1158.89\" r=\"14\"/>\n",
       "<circle clip-path=\"url(#clip8303)\" style=\"fill:#000000; stroke:none; fill-opacity:1\" cx=\"1309.46\" cy=\"1126\" r=\"18\"/>\n",
       "<circle clip-path=\"url(#clip8303)\" style=\"fill:#009af9; stroke:none; fill-opacity:1\" cx=\"1309.46\" cy=\"1126\" r=\"14\"/>\n",
       "<circle clip-path=\"url(#clip8303)\" style=\"fill:#000000; stroke:none; fill-opacity:1\" cx=\"782.595\" cy=\"1232.33\" r=\"18\"/>\n",
       "<circle clip-path=\"url(#clip8303)\" style=\"fill:#009af9; stroke:none; fill-opacity:1\" cx=\"782.595\" cy=\"1232.33\" r=\"14\"/>\n",
       "<circle clip-path=\"url(#clip8303)\" style=\"fill:#000000; stroke:none; fill-opacity:1\" cx=\"1642.54\" cy=\"667.513\" r=\"18\"/>\n",
       "<circle clip-path=\"url(#clip8303)\" style=\"fill:#009af9; stroke:none; fill-opacity:1\" cx=\"1642.54\" cy=\"667.513\" r=\"14\"/>\n",
       "<circle clip-path=\"url(#clip8303)\" style=\"fill:#000000; stroke:none; fill-opacity:1\" cx=\"1160.96\" cy=\"431.72\" r=\"18\"/>\n",
       "<circle clip-path=\"url(#clip8303)\" style=\"fill:#009af9; stroke:none; fill-opacity:1\" cx=\"1160.96\" cy=\"431.72\" r=\"14\"/>\n",
       "<circle clip-path=\"url(#clip8303)\" style=\"fill:#000000; stroke:none; fill-opacity:1\" cx=\"1091.2\" cy=\"1173.01\" r=\"18\"/>\n",
       "<circle clip-path=\"url(#clip8303)\" style=\"fill:#009af9; stroke:none; fill-opacity:1\" cx=\"1091.2\" cy=\"1173.01\" r=\"14\"/>\n",
       "<circle clip-path=\"url(#clip8303)\" style=\"fill:#000000; stroke:none; fill-opacity:1\" cx=\"1324.42\" cy=\"940.547\" r=\"18\"/>\n",
       "<circle clip-path=\"url(#clip8303)\" style=\"fill:#009af9; stroke:none; fill-opacity:1\" cx=\"1324.42\" cy=\"940.547\" r=\"14\"/>\n",
       "<circle clip-path=\"url(#clip8303)\" style=\"fill:#000000; stroke:none; fill-opacity:1\" cx=\"1170.11\" cy=\"1168.14\" r=\"18\"/>\n",
       "<circle clip-path=\"url(#clip8303)\" style=\"fill:#009af9; stroke:none; fill-opacity:1\" cx=\"1170.11\" cy=\"1168.14\" r=\"14\"/>\n",
       "<circle clip-path=\"url(#clip8303)\" style=\"fill:#000000; stroke:none; fill-opacity:1\" cx=\"1395.01\" cy=\"413.114\" r=\"18\"/>\n",
       "<circle clip-path=\"url(#clip8303)\" style=\"fill:#009af9; stroke:none; fill-opacity:1\" cx=\"1395.01\" cy=\"413.114\" r=\"14\"/>\n",
       "<circle clip-path=\"url(#clip8303)\" style=\"fill:#000000; stroke:none; fill-opacity:1\" cx=\"1023.65\" cy=\"1119.41\" r=\"18\"/>\n",
       "<circle clip-path=\"url(#clip8303)\" style=\"fill:#009af9; stroke:none; fill-opacity:1\" cx=\"1023.65\" cy=\"1119.41\" r=\"14\"/>\n",
       "<circle clip-path=\"url(#clip8303)\" style=\"fill:#000000; stroke:none; fill-opacity:1\" cx=\"970.009\" cy=\"1143.83\" r=\"18\"/>\n",
       "<circle clip-path=\"url(#clip8303)\" style=\"fill:#009af9; stroke:none; fill-opacity:1\" cx=\"970.009\" cy=\"1143.83\" r=\"14\"/>\n",
       "<circle clip-path=\"url(#clip8303)\" style=\"fill:#000000; stroke:none; fill-opacity:1\" cx=\"801.047\" cy=\"1060.35\" r=\"18\"/>\n",
       "<circle clip-path=\"url(#clip8303)\" style=\"fill:#009af9; stroke:none; fill-opacity:1\" cx=\"801.047\" cy=\"1060.35\" r=\"14\"/>\n",
       "<circle clip-path=\"url(#clip8303)\" style=\"fill:#000000; stroke:none; fill-opacity:1\" cx=\"1495.03\" cy=\"927.069\" r=\"18\"/>\n",
       "<circle clip-path=\"url(#clip8303)\" style=\"fill:#009af9; stroke:none; fill-opacity:1\" cx=\"1495.03\" cy=\"927.069\" r=\"14\"/>\n",
       "<circle clip-path=\"url(#clip8303)\" style=\"fill:#000000; stroke:none; fill-opacity:1\" cx=\"952.277\" cy=\"763.751\" r=\"18\"/>\n",
       "<circle clip-path=\"url(#clip8303)\" style=\"fill:#009af9; stroke:none; fill-opacity:1\" cx=\"952.277\" cy=\"763.751\" r=\"14\"/>\n",
       "<circle clip-path=\"url(#clip8303)\" style=\"fill:#000000; stroke:none; fill-opacity:1\" cx=\"1178.93\" cy=\"943.534\" r=\"18\"/>\n",
       "<circle clip-path=\"url(#clip8303)\" style=\"fill:#009af9; stroke:none; fill-opacity:1\" cx=\"1178.93\" cy=\"943.534\" r=\"14\"/>\n",
       "<circle clip-path=\"url(#clip8303)\" style=\"fill:#000000; stroke:none; fill-opacity:1\" cx=\"1053.6\" cy=\"807.965\" r=\"18\"/>\n",
       "<circle clip-path=\"url(#clip8303)\" style=\"fill:#009af9; stroke:none; fill-opacity:1\" cx=\"1053.6\" cy=\"807.965\" r=\"14\"/>\n",
       "<circle clip-path=\"url(#clip8303)\" style=\"fill:#000000; stroke:none; fill-opacity:1\" cx=\"1368.29\" cy=\"571.598\" r=\"18\"/>\n",
       "<circle clip-path=\"url(#clip8303)\" style=\"fill:#009af9; stroke:none; fill-opacity:1\" cx=\"1368.29\" cy=\"571.598\" r=\"14\"/>\n",
       "<circle clip-path=\"url(#clip8303)\" style=\"fill:#000000; stroke:none; fill-opacity:1\" cx=\"1268.75\" cy=\"396.319\" r=\"18\"/>\n",
       "<circle clip-path=\"url(#clip8303)\" style=\"fill:#009af9; stroke:none; fill-opacity:1\" cx=\"1268.75\" cy=\"396.319\" r=\"14\"/>\n",
       "<circle clip-path=\"url(#clip8303)\" style=\"fill:#000000; stroke:none; fill-opacity:1\" cx=\"1704.63\" cy=\"513.622\" r=\"18\"/>\n",
       "<circle clip-path=\"url(#clip8303)\" style=\"fill:#009af9; stroke:none; fill-opacity:1\" cx=\"1704.63\" cy=\"513.622\" r=\"14\"/>\n",
       "<circle clip-path=\"url(#clip8303)\" style=\"fill:#000000; stroke:none; fill-opacity:1\" cx=\"1316.7\" cy=\"502.601\" r=\"18\"/>\n",
       "<circle clip-path=\"url(#clip8303)\" style=\"fill:#009af9; stroke:none; fill-opacity:1\" cx=\"1316.7\" cy=\"502.601\" r=\"14\"/>\n",
       "<circle clip-path=\"url(#clip8303)\" style=\"fill:#000000; stroke:none; fill-opacity:1\" cx=\"1265.2\" cy=\"1093.95\" r=\"18\"/>\n",
       "<circle clip-path=\"url(#clip8303)\" style=\"fill:#009af9; stroke:none; fill-opacity:1\" cx=\"1265.2\" cy=\"1093.95\" r=\"14\"/>\n",
       "<circle clip-path=\"url(#clip8303)\" style=\"fill:#000000; stroke:none; fill-opacity:1\" cx=\"1803.2\" cy=\"276.15\" r=\"18\"/>\n",
       "<circle clip-path=\"url(#clip8303)\" style=\"fill:#009af9; stroke:none; fill-opacity:1\" cx=\"1803.2\" cy=\"276.15\" r=\"14\"/>\n",
       "<circle clip-path=\"url(#clip8303)\" style=\"fill:#000000; stroke:none; fill-opacity:1\" cx=\"1276.23\" cy=\"486.748\" r=\"18\"/>\n",
       "<circle clip-path=\"url(#clip8303)\" style=\"fill:#009af9; stroke:none; fill-opacity:1\" cx=\"1276.23\" cy=\"486.748\" r=\"14\"/>\n",
       "<circle clip-path=\"url(#clip8303)\" style=\"fill:#000000; stroke:none; fill-opacity:1\" cx=\"1446.61\" cy=\"841.385\" r=\"18\"/>\n",
       "<circle clip-path=\"url(#clip8303)\" style=\"fill:#009af9; stroke:none; fill-opacity:1\" cx=\"1446.61\" cy=\"841.385\" r=\"14\"/>\n",
       "<circle clip-path=\"url(#clip8303)\" style=\"fill:#000000; stroke:none; fill-opacity:1\" cx=\"1084.86\" cy=\"1124.87\" r=\"18\"/>\n",
       "<circle clip-path=\"url(#clip8303)\" style=\"fill:#009af9; stroke:none; fill-opacity:1\" cx=\"1084.86\" cy=\"1124.87\" r=\"14\"/>\n",
       "<circle clip-path=\"url(#clip8303)\" style=\"fill:#000000; stroke:none; fill-opacity:1\" cx=\"1472.91\" cy=\"814.765\" r=\"18\"/>\n",
       "<circle clip-path=\"url(#clip8303)\" style=\"fill:#009af9; stroke:none; fill-opacity:1\" cx=\"1472.91\" cy=\"814.765\" r=\"14\"/>\n",
       "<circle clip-path=\"url(#clip8303)\" style=\"fill:#000000; stroke:none; fill-opacity:1\" cx=\"1120.94\" cy=\"1012.21\" r=\"18\"/>\n",
       "<circle clip-path=\"url(#clip8303)\" style=\"fill:#009af9; stroke:none; fill-opacity:1\" cx=\"1120.94\" cy=\"1012.21\" r=\"14\"/>\n",
       "<circle clip-path=\"url(#clip8303)\" style=\"fill:#000000; stroke:none; fill-opacity:1\" cx=\"846.841\" cy=\"1176.5\" r=\"18\"/>\n",
       "<circle clip-path=\"url(#clip8303)\" style=\"fill:#009af9; stroke:none; fill-opacity:1\" cx=\"846.841\" cy=\"1176.5\" r=\"14\"/>\n",
       "<circle clip-path=\"url(#clip8303)\" style=\"fill:#000000; stroke:none; fill-opacity:1\" cx=\"1707.44\" cy=\"584.351\" r=\"18\"/>\n",
       "<circle clip-path=\"url(#clip8303)\" style=\"fill:#009af9; stroke:none; fill-opacity:1\" cx=\"1707.44\" cy=\"584.351\" r=\"14\"/>\n",
       "<circle clip-path=\"url(#clip8303)\" style=\"fill:#000000; stroke:none; fill-opacity:1\" cx=\"1395.92\" cy=\"390.409\" r=\"18\"/>\n",
       "<circle clip-path=\"url(#clip8303)\" style=\"fill:#009af9; stroke:none; fill-opacity:1\" cx=\"1395.92\" cy=\"390.409\" r=\"14\"/>\n",
       "<circle clip-path=\"url(#clip8303)\" style=\"fill:#000000; stroke:none; fill-opacity:1\" cx=\"1756.12\" cy=\"426.69\" r=\"18\"/>\n",
       "<circle clip-path=\"url(#clip8303)\" style=\"fill:#009af9; stroke:none; fill-opacity:1\" cx=\"1756.12\" cy=\"426.69\" r=\"14\"/>\n",
       "<circle clip-path=\"url(#clip8303)\" style=\"fill:#000000; stroke:none; fill-opacity:1\" cx=\"1445.72\" cy=\"685.455\" r=\"18\"/>\n",
       "<circle clip-path=\"url(#clip8303)\" style=\"fill:#009af9; stroke:none; fill-opacity:1\" cx=\"1445.72\" cy=\"685.455\" r=\"14\"/>\n",
       "<circle clip-path=\"url(#clip8303)\" style=\"fill:#000000; stroke:none; fill-opacity:1\" cx=\"1024.35\" cy=\"959.328\" r=\"18\"/>\n",
       "<circle clip-path=\"url(#clip8303)\" style=\"fill:#009af9; stroke:none; fill-opacity:1\" cx=\"1024.35\" cy=\"959.328\" r=\"14\"/>\n",
       "<circle clip-path=\"url(#clip8303)\" style=\"fill:#000000; stroke:none; fill-opacity:1\" cx=\"1155.85\" cy=\"831.961\" r=\"18\"/>\n",
       "<circle clip-path=\"url(#clip8303)\" style=\"fill:#009af9; stroke:none; fill-opacity:1\" cx=\"1155.85\" cy=\"831.961\" r=\"14\"/>\n",
       "<circle clip-path=\"url(#clip8303)\" style=\"fill:#000000; stroke:none; fill-opacity:1\" cx=\"1827.28\" cy=\"257.993\" r=\"18\"/>\n",
       "<circle clip-path=\"url(#clip8303)\" style=\"fill:#009af9; stroke:none; fill-opacity:1\" cx=\"1827.28\" cy=\"257.993\" r=\"14\"/>\n",
       "<circle clip-path=\"url(#clip8303)\" style=\"fill:#000000; stroke:none; fill-opacity:1\" cx=\"1393.78\" cy=\"939.457\" r=\"18\"/>\n",
       "<circle clip-path=\"url(#clip8303)\" style=\"fill:#009af9; stroke:none; fill-opacity:1\" cx=\"1393.78\" cy=\"939.457\" r=\"14\"/>\n",
       "<circle clip-path=\"url(#clip8303)\" style=\"fill:#000000; stroke:none; fill-opacity:1\" cx=\"1198.7\" cy=\"410.402\" r=\"18\"/>\n",
       "<circle clip-path=\"url(#clip8303)\" style=\"fill:#009af9; stroke:none; fill-opacity:1\" cx=\"1198.7\" cy=\"410.402\" r=\"14\"/>\n",
       "<circle clip-path=\"url(#clip8303)\" style=\"fill:#000000; stroke:none; fill-opacity:1\" cx=\"782.772\" cy=\"1116.45\" r=\"18\"/>\n",
       "<circle clip-path=\"url(#clip8303)\" style=\"fill:#009af9; stroke:none; fill-opacity:1\" cx=\"782.772\" cy=\"1116.45\" r=\"14\"/>\n",
       "<circle clip-path=\"url(#clip8303)\" style=\"fill:#000000; stroke:none; fill-opacity:1\" cx=\"1128.22\" cy=\"499.267\" r=\"18\"/>\n",
       "<circle clip-path=\"url(#clip8303)\" style=\"fill:#009af9; stroke:none; fill-opacity:1\" cx=\"1128.22\" cy=\"499.267\" r=\"14\"/>\n",
       "<circle clip-path=\"url(#clip8303)\" style=\"fill:#000000; stroke:none; fill-opacity:1\" cx=\"1009.96\" cy=\"963.517\" r=\"18\"/>\n",
       "<circle clip-path=\"url(#clip8303)\" style=\"fill:#009af9; stroke:none; fill-opacity:1\" cx=\"1009.96\" cy=\"963.517\" r=\"14\"/>\n",
       "<circle clip-path=\"url(#clip8303)\" style=\"fill:#000000; stroke:none; fill-opacity:1\" cx=\"1574.28\" cy=\"863.522\" r=\"18\"/>\n",
       "<circle clip-path=\"url(#clip8303)\" style=\"fill:#009af9; stroke:none; fill-opacity:1\" cx=\"1574.28\" cy=\"863.522\" r=\"14\"/>\n",
       "<circle clip-path=\"url(#clip8303)\" style=\"fill:#000000; stroke:none; fill-opacity:1\" cx=\"1068.41\" cy=\"1057.2\" r=\"18\"/>\n",
       "<circle clip-path=\"url(#clip8303)\" style=\"fill:#009af9; stroke:none; fill-opacity:1\" cx=\"1068.41\" cy=\"1057.2\" r=\"14\"/>\n",
       "<circle clip-path=\"url(#clip8303)\" style=\"fill:#000000; stroke:none; fill-opacity:1\" cx=\"915.521\" cy=\"971.669\" r=\"18\"/>\n",
       "<circle clip-path=\"url(#clip8303)\" style=\"fill:#009af9; stroke:none; fill-opacity:1\" cx=\"915.521\" cy=\"971.669\" r=\"14\"/>\n",
       "<circle clip-path=\"url(#clip8303)\" style=\"fill:#000000; stroke:none; fill-opacity:1\" cx=\"1322.35\" cy=\"996.192\" r=\"18\"/>\n",
       "<circle clip-path=\"url(#clip8303)\" style=\"fill:#009af9; stroke:none; fill-opacity:1\" cx=\"1322.35\" cy=\"996.192\" r=\"14\"/>\n",
       "<circle clip-path=\"url(#clip8303)\" style=\"fill:#000000; stroke:none; fill-opacity:1\" cx=\"689.825\" cy=\"1259.85\" r=\"18\"/>\n",
       "<circle clip-path=\"url(#clip8303)\" style=\"fill:#009af9; stroke:none; fill-opacity:1\" cx=\"689.825\" cy=\"1259.85\" r=\"14\"/>\n",
       "<circle clip-path=\"url(#clip8303)\" style=\"fill:#000000; stroke:none; fill-opacity:1\" cx=\"1035.88\" cy=\"641.096\" r=\"18\"/>\n",
       "<circle clip-path=\"url(#clip8303)\" style=\"fill:#009af9; stroke:none; fill-opacity:1\" cx=\"1035.88\" cy=\"641.096\" r=\"14\"/>\n",
       "<circle clip-path=\"url(#clip8303)\" style=\"fill:#000000; stroke:none; fill-opacity:1\" cx=\"1713.53\" cy=\"404.691\" r=\"18\"/>\n",
       "<circle clip-path=\"url(#clip8303)\" style=\"fill:#009af9; stroke:none; fill-opacity:1\" cx=\"1713.53\" cy=\"404.691\" r=\"14\"/>\n",
       "<circle clip-path=\"url(#clip8303)\" style=\"fill:#000000; stroke:none; fill-opacity:1\" cx=\"1686.87\" cy=\"640.754\" r=\"18\"/>\n",
       "<circle clip-path=\"url(#clip8303)\" style=\"fill:#009af9; stroke:none; fill-opacity:1\" cx=\"1686.87\" cy=\"640.754\" r=\"14\"/>\n",
       "<circle clip-path=\"url(#clip8303)\" style=\"fill:#000000; stroke:none; fill-opacity:1\" cx=\"1457.69\" cy=\"687.418\" r=\"18\"/>\n",
       "<circle clip-path=\"url(#clip8303)\" style=\"fill:#009af9; stroke:none; fill-opacity:1\" cx=\"1457.69\" cy=\"687.418\" r=\"14\"/>\n",
       "<circle clip-path=\"url(#clip8303)\" style=\"fill:#000000; stroke:none; fill-opacity:1\" cx=\"1076.4\" cy=\"942.887\" r=\"18\"/>\n",
       "<circle clip-path=\"url(#clip8303)\" style=\"fill:#009af9; stroke:none; fill-opacity:1\" cx=\"1076.4\" cy=\"942.887\" r=\"14\"/>\n",
       "<circle clip-path=\"url(#clip8303)\" style=\"fill:#000000; stroke:none; fill-opacity:1\" cx=\"1760\" cy=\"547.749\" r=\"18\"/>\n",
       "<circle clip-path=\"url(#clip8303)\" style=\"fill:#009af9; stroke:none; fill-opacity:1\" cx=\"1760\" cy=\"547.749\" r=\"14\"/>\n",
       "<circle clip-path=\"url(#clip8303)\" style=\"fill:#000000; stroke:none; fill-opacity:1\" cx=\"1070.82\" cy=\"1194.55\" r=\"18\"/>\n",
       "<circle clip-path=\"url(#clip8303)\" style=\"fill:#009af9; stroke:none; fill-opacity:1\" cx=\"1070.82\" cy=\"1194.55\" r=\"14\"/>\n",
       "<circle clip-path=\"url(#clip8303)\" style=\"fill:#000000; stroke:none; fill-opacity:1\" cx=\"919.435\" cy=\"926.556\" r=\"18\"/>\n",
       "<circle clip-path=\"url(#clip8303)\" style=\"fill:#009af9; stroke:none; fill-opacity:1\" cx=\"919.435\" cy=\"926.556\" r=\"14\"/>\n",
       "<circle clip-path=\"url(#clip8303)\" style=\"fill:#000000; stroke:none; fill-opacity:1\" cx=\"1164.27\" cy=\"1051.86\" r=\"18\"/>\n",
       "<circle clip-path=\"url(#clip8303)\" style=\"fill:#009af9; stroke:none; fill-opacity:1\" cx=\"1164.27\" cy=\"1051.86\" r=\"14\"/>\n",
       "<circle clip-path=\"url(#clip8303)\" style=\"fill:#000000; stroke:none; fill-opacity:1\" cx=\"1266.75\" cy=\"391.485\" r=\"18\"/>\n",
       "<circle clip-path=\"url(#clip8303)\" style=\"fill:#009af9; stroke:none; fill-opacity:1\" cx=\"1266.75\" cy=\"391.485\" r=\"14\"/>\n",
       "<circle clip-path=\"url(#clip8303)\" style=\"fill:#000000; stroke:none; fill-opacity:1\" cx=\"1446.18\" cy=\"502.402\" r=\"18\"/>\n",
       "<circle clip-path=\"url(#clip8303)\" style=\"fill:#009af9; stroke:none; fill-opacity:1\" cx=\"1446.18\" cy=\"502.402\" r=\"14\"/>\n",
       "<circle clip-path=\"url(#clip8303)\" style=\"fill:#000000; stroke:none; fill-opacity:1\" cx=\"745.036\" cy=\"1163.8\" r=\"18\"/>\n",
       "<circle clip-path=\"url(#clip8303)\" style=\"fill:#009af9; stroke:none; fill-opacity:1\" cx=\"745.036\" cy=\"1163.8\" r=\"14\"/>\n",
       "<circle clip-path=\"url(#clip8303)\" style=\"fill:#000000; stroke:none; fill-opacity:1\" cx=\"1079.27\" cy=\"1066.09\" r=\"18\"/>\n",
       "<circle clip-path=\"url(#clip8303)\" style=\"fill:#009af9; stroke:none; fill-opacity:1\" cx=\"1079.27\" cy=\"1066.09\" r=\"14\"/>\n",
       "<circle clip-path=\"url(#clip8303)\" style=\"fill:#000000; stroke:none; fill-opacity:1\" cx=\"1421.83\" cy=\"842.585\" r=\"18\"/>\n",
       "<circle clip-path=\"url(#clip8303)\" style=\"fill:#009af9; stroke:none; fill-opacity:1\" cx=\"1421.83\" cy=\"842.585\" r=\"14\"/>\n",
       "<circle clip-path=\"url(#clip8303)\" style=\"fill:#000000; stroke:none; fill-opacity:1\" cx=\"1133.2\" cy=\"797.91\" r=\"18\"/>\n",
       "<circle clip-path=\"url(#clip8303)\" style=\"fill:#009af9; stroke:none; fill-opacity:1\" cx=\"1133.2\" cy=\"797.91\" r=\"14\"/>\n",
       "<circle clip-path=\"url(#clip8303)\" style=\"fill:#000000; stroke:none; fill-opacity:1\" cx=\"1177.59\" cy=\"1161.19\" r=\"18\"/>\n",
       "<circle clip-path=\"url(#clip8303)\" style=\"fill:#009af9; stroke:none; fill-opacity:1\" cx=\"1177.59\" cy=\"1161.19\" r=\"14\"/>\n",
       "<circle clip-path=\"url(#clip8303)\" style=\"fill:#000000; stroke:none; fill-opacity:1\" cx=\"854.785\" cy=\"914.332\" r=\"18\"/>\n",
       "<circle clip-path=\"url(#clip8303)\" style=\"fill:#009af9; stroke:none; fill-opacity:1\" cx=\"854.785\" cy=\"914.332\" r=\"14\"/>\n",
       "<circle clip-path=\"url(#clip8303)\" style=\"fill:#000000; stroke:none; fill-opacity:1\" cx=\"866.439\" cy=\"1234.39\" r=\"18\"/>\n",
       "<circle clip-path=\"url(#clip8303)\" style=\"fill:#009af9; stroke:none; fill-opacity:1\" cx=\"866.439\" cy=\"1234.39\" r=\"14\"/>\n",
       "<circle clip-path=\"url(#clip8303)\" style=\"fill:#000000; stroke:none; fill-opacity:1\" cx=\"1464.48\" cy=\"338.106\" r=\"18\"/>\n",
       "<circle clip-path=\"url(#clip8303)\" style=\"fill:#009af9; stroke:none; fill-opacity:1\" cx=\"1464.48\" cy=\"338.106\" r=\"14\"/>\n",
       "<circle clip-path=\"url(#clip8303)\" style=\"fill:#000000; stroke:none; fill-opacity:1\" cx=\"733.57\" cy=\"1097.09\" r=\"18\"/>\n",
       "<circle clip-path=\"url(#clip8303)\" style=\"fill:#009af9; stroke:none; fill-opacity:1\" cx=\"733.57\" cy=\"1097.09\" r=\"14\"/>\n",
       "<circle clip-path=\"url(#clip8303)\" style=\"fill:#000000; stroke:none; fill-opacity:1\" cx=\"1557.83\" cy=\"405.869\" r=\"18\"/>\n",
       "<circle clip-path=\"url(#clip8303)\" style=\"fill:#009af9; stroke:none; fill-opacity:1\" cx=\"1557.83\" cy=\"405.869\" r=\"14\"/>\n",
       "<circle clip-path=\"url(#clip8303)\" style=\"fill:#000000; stroke:none; fill-opacity:1\" cx=\"1637.41\" cy=\"315.419\" r=\"18\"/>\n",
       "<circle clip-path=\"url(#clip8303)\" style=\"fill:#009af9; stroke:none; fill-opacity:1\" cx=\"1637.41\" cy=\"315.419\" r=\"14\"/>\n",
       "<circle clip-path=\"url(#clip8303)\" style=\"fill:#000000; stroke:none; fill-opacity:1\" cx=\"1615.22\" cy=\"541.711\" r=\"18\"/>\n",
       "<circle clip-path=\"url(#clip8303)\" style=\"fill:#009af9; stroke:none; fill-opacity:1\" cx=\"1615.22\" cy=\"541.711\" r=\"14\"/>\n",
       "<circle clip-path=\"url(#clip8303)\" style=\"fill:#000000; stroke:none; fill-opacity:1\" cx=\"1160.36\" cy=\"870.476\" r=\"18\"/>\n",
       "<circle clip-path=\"url(#clip8303)\" style=\"fill:#009af9; stroke:none; fill-opacity:1\" cx=\"1160.36\" cy=\"870.476\" r=\"14\"/>\n",
       "<circle clip-path=\"url(#clip8303)\" style=\"fill:#000000; stroke:none; fill-opacity:1\" cx=\"1042.32\" cy=\"705.25\" r=\"18\"/>\n",
       "<circle clip-path=\"url(#clip8303)\" style=\"fill:#009af9; stroke:none; fill-opacity:1\" cx=\"1042.32\" cy=\"705.25\" r=\"14\"/>\n",
       "<circle clip-path=\"url(#clip8303)\" style=\"fill:#000000; stroke:none; fill-opacity:1\" cx=\"1207.05\" cy=\"393.647\" r=\"18\"/>\n",
       "<circle clip-path=\"url(#clip8303)\" style=\"fill:#009af9; stroke:none; fill-opacity:1\" cx=\"1207.05\" cy=\"393.647\" r=\"14\"/>\n",
       "<circle clip-path=\"url(#clip8303)\" style=\"fill:#000000; stroke:none; fill-opacity:1\" cx=\"828.274\" cy=\"927.964\" r=\"18\"/>\n",
       "<circle clip-path=\"url(#clip8303)\" style=\"fill:#009af9; stroke:none; fill-opacity:1\" cx=\"828.274\" cy=\"927.964\" r=\"14\"/>\n",
       "<circle clip-path=\"url(#clip8303)\" style=\"fill:#000000; stroke:none; fill-opacity:1\" cx=\"1327.38\" cy=\"919.739\" r=\"18\"/>\n",
       "<circle clip-path=\"url(#clip8303)\" style=\"fill:#009af9; stroke:none; fill-opacity:1\" cx=\"1327.38\" cy=\"919.739\" r=\"14\"/>\n",
       "<circle clip-path=\"url(#clip8303)\" style=\"fill:#000000; stroke:none; fill-opacity:1\" cx=\"864.572\" cy=\"1037.79\" r=\"18\"/>\n",
       "<circle clip-path=\"url(#clip8303)\" style=\"fill:#009af9; stroke:none; fill-opacity:1\" cx=\"864.572\" cy=\"1037.79\" r=\"14\"/>\n",
       "<circle clip-path=\"url(#clip8303)\" style=\"fill:#000000; stroke:none; fill-opacity:1\" cx=\"1563.13\" cy=\"376.058\" r=\"18\"/>\n",
       "<circle clip-path=\"url(#clip8303)\" style=\"fill:#009af9; stroke:none; fill-opacity:1\" cx=\"1563.13\" cy=\"376.058\" r=\"14\"/>\n",
       "<circle clip-path=\"url(#clip8303)\" style=\"fill:#000000; stroke:none; fill-opacity:1\" cx=\"1155.59\" cy=\"489.367\" r=\"18\"/>\n",
       "<circle clip-path=\"url(#clip8303)\" style=\"fill:#009af9; stroke:none; fill-opacity:1\" cx=\"1155.59\" cy=\"489.367\" r=\"14\"/>\n",
       "<circle clip-path=\"url(#clip8303)\" style=\"fill:#000000; stroke:none; fill-opacity:1\" cx=\"1116.83\" cy=\"1199.86\" r=\"18\"/>\n",
       "<circle clip-path=\"url(#clip8303)\" style=\"fill:#009af9; stroke:none; fill-opacity:1\" cx=\"1116.83\" cy=\"1199.86\" r=\"14\"/>\n",
       "<circle clip-path=\"url(#clip8303)\" style=\"fill:#000000; stroke:none; fill-opacity:1\" cx=\"1405.68\" cy=\"796.2\" r=\"18\"/>\n",
       "<circle clip-path=\"url(#clip8303)\" style=\"fill:#009af9; stroke:none; fill-opacity:1\" cx=\"1405.68\" cy=\"796.2\" r=\"14\"/>\n",
       "<circle clip-path=\"url(#clip8303)\" style=\"fill:#000000; stroke:none; fill-opacity:1\" cx=\"713.032\" cy=\"1103.35\" r=\"18\"/>\n",
       "<circle clip-path=\"url(#clip8303)\" style=\"fill:#009af9; stroke:none; fill-opacity:1\" cx=\"713.032\" cy=\"1103.35\" r=\"14\"/>\n",
       "<circle clip-path=\"url(#clip8303)\" style=\"fill:#000000; stroke:none; fill-opacity:1\" cx=\"1278.44\" cy=\"789.876\" r=\"18\"/>\n",
       "<circle clip-path=\"url(#clip8303)\" style=\"fill:#009af9; stroke:none; fill-opacity:1\" cx=\"1278.44\" cy=\"789.876\" r=\"14\"/>\n",
       "<circle clip-path=\"url(#clip8303)\" style=\"fill:#000000; stroke:none; fill-opacity:1\" cx=\"1281.46\" cy=\"438.63\" r=\"18\"/>\n",
       "<circle clip-path=\"url(#clip8303)\" style=\"fill:#009af9; stroke:none; fill-opacity:1\" cx=\"1281.46\" cy=\"438.63\" r=\"14\"/>\n",
       "<circle clip-path=\"url(#clip8303)\" style=\"fill:#000000; stroke:none; fill-opacity:1\" cx=\"868.535\" cy=\"855.975\" r=\"18\"/>\n",
       "<circle clip-path=\"url(#clip8303)\" style=\"fill:#009af9; stroke:none; fill-opacity:1\" cx=\"868.535\" cy=\"855.975\" r=\"14\"/>\n",
       "<circle clip-path=\"url(#clip8303)\" style=\"fill:#000000; stroke:none; fill-opacity:1\" cx=\"1542.48\" cy=\"689.178\" r=\"18\"/>\n",
       "<circle clip-path=\"url(#clip8303)\" style=\"fill:#009af9; stroke:none; fill-opacity:1\" cx=\"1542.48\" cy=\"689.178\" r=\"14\"/>\n",
       "<circle clip-path=\"url(#clip8303)\" style=\"fill:#000000; stroke:none; fill-opacity:1\" cx=\"1415.32\" cy=\"1005.96\" r=\"18\"/>\n",
       "<circle clip-path=\"url(#clip8303)\" style=\"fill:#009af9; stroke:none; fill-opacity:1\" cx=\"1415.32\" cy=\"1005.96\" r=\"14\"/>\n",
       "<circle clip-path=\"url(#clip8303)\" style=\"fill:#000000; stroke:none; fill-opacity:1\" cx=\"1005.25\" cy=\"1223.37\" r=\"18\"/>\n",
       "<circle clip-path=\"url(#clip8303)\" style=\"fill:#009af9; stroke:none; fill-opacity:1\" cx=\"1005.25\" cy=\"1223.37\" r=\"14\"/>\n",
       "<circle clip-path=\"url(#clip8303)\" style=\"fill:#000000; stroke:none; fill-opacity:1\" cx=\"1046.85\" cy=\"625.124\" r=\"18\"/>\n",
       "<circle clip-path=\"url(#clip8303)\" style=\"fill:#009af9; stroke:none; fill-opacity:1\" cx=\"1046.85\" cy=\"625.124\" r=\"14\"/>\n",
       "<circle clip-path=\"url(#clip8303)\" style=\"fill:#000000; stroke:none; fill-opacity:1\" cx=\"1010.86\" cy=\"1050.08\" r=\"18\"/>\n",
       "<circle clip-path=\"url(#clip8303)\" style=\"fill:#009af9; stroke:none; fill-opacity:1\" cx=\"1010.86\" cy=\"1050.08\" r=\"14\"/>\n",
       "<circle clip-path=\"url(#clip8303)\" style=\"fill:#000000; stroke:none; fill-opacity:1\" cx=\"1222.16\" cy=\"1080.26\" r=\"18\"/>\n",
       "<circle clip-path=\"url(#clip8303)\" style=\"fill:#009af9; stroke:none; fill-opacity:1\" cx=\"1222.16\" cy=\"1080.26\" r=\"14\"/>\n",
       "<circle clip-path=\"url(#clip8303)\" style=\"fill:#000000; stroke:none; fill-opacity:1\" cx=\"1547.35\" cy=\"318.816\" r=\"18\"/>\n",
       "<circle clip-path=\"url(#clip8303)\" style=\"fill:#009af9; stroke:none; fill-opacity:1\" cx=\"1547.35\" cy=\"318.816\" r=\"14\"/>\n",
       "<circle clip-path=\"url(#clip8303)\" style=\"fill:#000000; stroke:none; fill-opacity:1\" cx=\"1215.32\" cy=\"774.79\" r=\"18\"/>\n",
       "<circle clip-path=\"url(#clip8303)\" style=\"fill:#009af9; stroke:none; fill-opacity:1\" cx=\"1215.32\" cy=\"774.79\" r=\"14\"/>\n",
       "<circle clip-path=\"url(#clip8303)\" style=\"fill:#000000; stroke:none; fill-opacity:1\" cx=\"1348.38\" cy=\"669.54\" r=\"18\"/>\n",
       "<circle clip-path=\"url(#clip8303)\" style=\"fill:#009af9; stroke:none; fill-opacity:1\" cx=\"1348.38\" cy=\"669.54\" r=\"14\"/>\n",
       "<circle clip-path=\"url(#clip8303)\" style=\"fill:#000000; stroke:none; fill-opacity:1\" cx=\"1215.67\" cy=\"902.035\" r=\"18\"/>\n",
       "<circle clip-path=\"url(#clip8303)\" style=\"fill:#009af9; stroke:none; fill-opacity:1\" cx=\"1215.67\" cy=\"902.035\" r=\"14\"/>\n",
       "<circle clip-path=\"url(#clip8303)\" style=\"fill:#000000; stroke:none; fill-opacity:1\" cx=\"1019.86\" cy=\"894.101\" r=\"18\"/>\n",
       "<circle clip-path=\"url(#clip8303)\" style=\"fill:#009af9; stroke:none; fill-opacity:1\" cx=\"1019.86\" cy=\"894.101\" r=\"14\"/>\n",
       "<circle clip-path=\"url(#clip8303)\" style=\"fill:#000000; stroke:none; fill-opacity:1\" cx=\"1463.31\" cy=\"411.363\" r=\"18\"/>\n",
       "<circle clip-path=\"url(#clip8303)\" style=\"fill:#009af9; stroke:none; fill-opacity:1\" cx=\"1463.31\" cy=\"411.363\" r=\"14\"/>\n",
       "<circle clip-path=\"url(#clip8303)\" style=\"fill:#000000; stroke:none; fill-opacity:1\" cx=\"1682.56\" cy=\"680.539\" r=\"18\"/>\n",
       "<circle clip-path=\"url(#clip8303)\" style=\"fill:#009af9; stroke:none; fill-opacity:1\" cx=\"1682.56\" cy=\"680.539\" r=\"14\"/>\n",
       "<circle clip-path=\"url(#clip8303)\" style=\"fill:#000000; stroke:none; fill-opacity:1\" cx=\"1395.47\" cy=\"374.723\" r=\"18\"/>\n",
       "<circle clip-path=\"url(#clip8303)\" style=\"fill:#009af9; stroke:none; fill-opacity:1\" cx=\"1395.47\" cy=\"374.723\" r=\"14\"/>\n",
       "<circle clip-path=\"url(#clip8303)\" style=\"fill:#000000; stroke:none; fill-opacity:1\" cx=\"1004.69\" cy=\"896.788\" r=\"18\"/>\n",
       "<circle clip-path=\"url(#clip8303)\" style=\"fill:#009af9; stroke:none; fill-opacity:1\" cx=\"1004.69\" cy=\"896.788\" r=\"14\"/>\n",
       "<circle clip-path=\"url(#clip8303)\" style=\"fill:#000000; stroke:none; fill-opacity:1\" cx=\"1083.67\" cy=\"849.892\" r=\"18\"/>\n",
       "<circle clip-path=\"url(#clip8303)\" style=\"fill:#009af9; stroke:none; fill-opacity:1\" cx=\"1083.67\" cy=\"849.892\" r=\"14\"/>\n",
       "<circle clip-path=\"url(#clip8303)\" style=\"fill:#000000; stroke:none; fill-opacity:1\" cx=\"1639.62\" cy=\"615.924\" r=\"18\"/>\n",
       "<circle clip-path=\"url(#clip8303)\" style=\"fill:#009af9; stroke:none; fill-opacity:1\" cx=\"1639.62\" cy=\"615.924\" r=\"14\"/>\n",
       "<circle clip-path=\"url(#clip8303)\" style=\"fill:#000000; stroke:none; fill-opacity:1\" cx=\"1108.21\" cy=\"663.977\" r=\"18\"/>\n",
       "<circle clip-path=\"url(#clip8303)\" style=\"fill:#009af9; stroke:none; fill-opacity:1\" cx=\"1108.21\" cy=\"663.977\" r=\"14\"/>\n",
       "<circle clip-path=\"url(#clip8303)\" style=\"fill:#000000; stroke:none; fill-opacity:1\" cx=\"1493.56\" cy=\"448.616\" r=\"18\"/>\n",
       "<circle clip-path=\"url(#clip8303)\" style=\"fill:#009af9; stroke:none; fill-opacity:1\" cx=\"1493.56\" cy=\"448.616\" r=\"14\"/>\n",
       "<circle clip-path=\"url(#clip8303)\" style=\"fill:#000000; stroke:none; fill-opacity:1\" cx=\"1403.97\" cy=\"751.019\" r=\"18\"/>\n",
       "<circle clip-path=\"url(#clip8303)\" style=\"fill:#009af9; stroke:none; fill-opacity:1\" cx=\"1403.97\" cy=\"751.019\" r=\"14\"/>\n",
       "<circle clip-path=\"url(#clip8303)\" style=\"fill:#000000; stroke:none; fill-opacity:1\" cx=\"1096.37\" cy=\"959.641\" r=\"18\"/>\n",
       "<circle clip-path=\"url(#clip8303)\" style=\"fill:#009af9; stroke:none; fill-opacity:1\" cx=\"1096.37\" cy=\"959.641\" r=\"14\"/>\n",
       "<circle clip-path=\"url(#clip8303)\" style=\"fill:#000000; stroke:none; fill-opacity:1\" cx=\"1348.09\" cy=\"964.399\" r=\"18\"/>\n",
       "<circle clip-path=\"url(#clip8303)\" style=\"fill:#009af9; stroke:none; fill-opacity:1\" cx=\"1348.09\" cy=\"964.399\" r=\"14\"/>\n",
       "<circle clip-path=\"url(#clip8303)\" style=\"fill:#000000; stroke:none; fill-opacity:1\" cx=\"902.308\" cy=\"1075.78\" r=\"18\"/>\n",
       "<circle clip-path=\"url(#clip8303)\" style=\"fill:#009af9; stroke:none; fill-opacity:1\" cx=\"902.308\" cy=\"1075.78\" r=\"14\"/>\n",
       "<circle clip-path=\"url(#clip8303)\" style=\"fill:#000000; stroke:none; fill-opacity:1\" cx=\"1348.21\" cy=\"806.221\" r=\"18\"/>\n",
       "<circle clip-path=\"url(#clip8303)\" style=\"fill:#009af9; stroke:none; fill-opacity:1\" cx=\"1348.21\" cy=\"806.221\" r=\"14\"/>\n",
       "<circle clip-path=\"url(#clip8303)\" style=\"fill:#000000; stroke:none; fill-opacity:1\" cx=\"1318.76\" cy=\"388.834\" r=\"18\"/>\n",
       "<circle clip-path=\"url(#clip8303)\" style=\"fill:#009af9; stroke:none; fill-opacity:1\" cx=\"1318.76\" cy=\"388.834\" r=\"14\"/>\n",
       "<circle clip-path=\"url(#clip8303)\" style=\"fill:#000000; stroke:none; fill-opacity:1\" cx=\"695.456\" cy=\"1179.87\" r=\"18\"/>\n",
       "<circle clip-path=\"url(#clip8303)\" style=\"fill:#009af9; stroke:none; fill-opacity:1\" cx=\"695.456\" cy=\"1179.87\" r=\"14\"/>\n",
       "<circle clip-path=\"url(#clip8303)\" style=\"fill:#000000; stroke:none; fill-opacity:1\" cx=\"1250.89\" cy=\"460.279\" r=\"18\"/>\n",
       "<circle clip-path=\"url(#clip8303)\" style=\"fill:#009af9; stroke:none; fill-opacity:1\" cx=\"1250.89\" cy=\"460.279\" r=\"14\"/>\n",
       "<circle clip-path=\"url(#clip8303)\" style=\"fill:#000000; stroke:none; fill-opacity:1\" cx=\"1143.24\" cy=\"488.496\" r=\"18\"/>\n",
       "<circle clip-path=\"url(#clip8303)\" style=\"fill:#009af9; stroke:none; fill-opacity:1\" cx=\"1143.24\" cy=\"488.496\" r=\"14\"/>\n",
       "<circle clip-path=\"url(#clip8303)\" style=\"fill:#000000; stroke:none; fill-opacity:1\" cx=\"1762.83\" cy=\"313.757\" r=\"18\"/>\n",
       "<circle clip-path=\"url(#clip8303)\" style=\"fill:#009af9; stroke:none; fill-opacity:1\" cx=\"1762.83\" cy=\"313.757\" r=\"14\"/>\n",
       "<circle clip-path=\"url(#clip8303)\" style=\"fill:#000000; stroke:none; fill-opacity:1\" cx=\"1387.47\" cy=\"564.784\" r=\"18\"/>\n",
       "<circle clip-path=\"url(#clip8303)\" style=\"fill:#009af9; stroke:none; fill-opacity:1\" cx=\"1387.47\" cy=\"564.784\" r=\"14\"/>\n",
       "<circle clip-path=\"url(#clip8303)\" style=\"fill:#000000; stroke:none; fill-opacity:1\" cx=\"1232.18\" cy=\"585.258\" r=\"18\"/>\n",
       "<circle clip-path=\"url(#clip8303)\" style=\"fill:#009af9; stroke:none; fill-opacity:1\" cx=\"1232.18\" cy=\"585.258\" r=\"14\"/>\n",
       "<circle clip-path=\"url(#clip8303)\" style=\"fill:#000000; stroke:none; fill-opacity:1\" cx=\"1285.24\" cy=\"1140.3\" r=\"18\"/>\n",
       "<circle clip-path=\"url(#clip8303)\" style=\"fill:#009af9; stroke:none; fill-opacity:1\" cx=\"1285.24\" cy=\"1140.3\" r=\"14\"/>\n",
       "<circle clip-path=\"url(#clip8303)\" style=\"fill:#000000; stroke:none; fill-opacity:1\" cx=\"1417.61\" cy=\"371.009\" r=\"18\"/>\n",
       "<circle clip-path=\"url(#clip8303)\" style=\"fill:#009af9; stroke:none; fill-opacity:1\" cx=\"1417.61\" cy=\"371.009\" r=\"14\"/>\n",
       "<circle clip-path=\"url(#clip8303)\" style=\"fill:#000000; stroke:none; fill-opacity:1\" cx=\"1610.65\" cy=\"548.677\" r=\"18\"/>\n",
       "<circle clip-path=\"url(#clip8303)\" style=\"fill:#009af9; stroke:none; fill-opacity:1\" cx=\"1610.65\" cy=\"548.677\" r=\"14\"/>\n",
       "<circle clip-path=\"url(#clip8303)\" style=\"fill:#000000; stroke:none; fill-opacity:1\" cx=\"929.28\" cy=\"813.587\" r=\"18\"/>\n",
       "<circle clip-path=\"url(#clip8303)\" style=\"fill:#009af9; stroke:none; fill-opacity:1\" cx=\"929.28\" cy=\"813.587\" r=\"14\"/>\n",
       "<circle clip-path=\"url(#clip8303)\" style=\"fill:#000000; stroke:none; fill-opacity:1\" cx=\"1381.83\" cy=\"505.541\" r=\"18\"/>\n",
       "<circle clip-path=\"url(#clip8303)\" style=\"fill:#009af9; stroke:none; fill-opacity:1\" cx=\"1381.83\" cy=\"505.541\" r=\"14\"/>\n",
       "<circle clip-path=\"url(#clip8303)\" style=\"fill:#000000; stroke:none; fill-opacity:1\" cx=\"1757.13\" cy=\"399.89\" r=\"18\"/>\n",
       "<circle clip-path=\"url(#clip8303)\" style=\"fill:#009af9; stroke:none; fill-opacity:1\" cx=\"1757.13\" cy=\"399.89\" r=\"14\"/>\n",
       "<circle clip-path=\"url(#clip8303)\" style=\"fill:#000000; stroke:none; fill-opacity:1\" cx=\"1582.77\" cy=\"319.982\" r=\"18\"/>\n",
       "<circle clip-path=\"url(#clip8303)\" style=\"fill:#009af9; stroke:none; fill-opacity:1\" cx=\"1582.77\" cy=\"319.982\" r=\"14\"/>\n",
       "<circle clip-path=\"url(#clip8303)\" style=\"fill:#000000; stroke:none; fill-opacity:1\" cx=\"1382.32\" cy=\"675.522\" r=\"18\"/>\n",
       "<circle clip-path=\"url(#clip8303)\" style=\"fill:#009af9; stroke:none; fill-opacity:1\" cx=\"1382.32\" cy=\"675.522\" r=\"14\"/>\n",
       "<circle clip-path=\"url(#clip8303)\" style=\"fill:#000000; stroke:none; fill-opacity:1\" cx=\"772.906\" cy=\"964.412\" r=\"18\"/>\n",
       "<circle clip-path=\"url(#clip8303)\" style=\"fill:#009af9; stroke:none; fill-opacity:1\" cx=\"772.906\" cy=\"964.412\" r=\"14\"/>\n",
       "<circle clip-path=\"url(#clip8303)\" style=\"fill:#000000; stroke:none; fill-opacity:1\" cx=\"1851.58\" cy=\"307.092\" r=\"18\"/>\n",
       "<circle clip-path=\"url(#clip8303)\" style=\"fill:#009af9; stroke:none; fill-opacity:1\" cx=\"1851.58\" cy=\"307.092\" r=\"14\"/>\n",
       "<circle clip-path=\"url(#clip8303)\" style=\"fill:#000000; stroke:none; fill-opacity:1\" cx=\"1434.57\" cy=\"613.976\" r=\"18\"/>\n",
       "<circle clip-path=\"url(#clip8303)\" style=\"fill:#009af9; stroke:none; fill-opacity:1\" cx=\"1434.57\" cy=\"613.976\" r=\"14\"/>\n",
       "<circle clip-path=\"url(#clip8303)\" style=\"fill:#000000; stroke:none; fill-opacity:1\" cx=\"1200.92\" cy=\"1116.71\" r=\"18\"/>\n",
       "<circle clip-path=\"url(#clip8303)\" style=\"fill:#009af9; stroke:none; fill-opacity:1\" cx=\"1200.92\" cy=\"1116.71\" r=\"14\"/>\n",
       "<circle clip-path=\"url(#clip8303)\" style=\"fill:#000000; stroke:none; fill-opacity:1\" cx=\"1091.09\" cy=\"955.14\" r=\"18\"/>\n",
       "<circle clip-path=\"url(#clip8303)\" style=\"fill:#009af9; stroke:none; fill-opacity:1\" cx=\"1091.09\" cy=\"955.14\" r=\"14\"/>\n",
       "<circle clip-path=\"url(#clip8303)\" style=\"fill:#000000; stroke:none; fill-opacity:1\" cx=\"935.407\" cy=\"1082\" r=\"18\"/>\n",
       "<circle clip-path=\"url(#clip8303)\" style=\"fill:#009af9; stroke:none; fill-opacity:1\" cx=\"935.407\" cy=\"1082\" r=\"14\"/>\n",
       "<circle clip-path=\"url(#clip8303)\" style=\"fill:#000000; stroke:none; fill-opacity:1\" cx=\"1148.94\" cy=\"568.864\" r=\"18\"/>\n",
       "<circle clip-path=\"url(#clip8303)\" style=\"fill:#009af9; stroke:none; fill-opacity:1\" cx=\"1148.94\" cy=\"568.864\" r=\"14\"/>\n",
       "<circle clip-path=\"url(#clip8303)\" style=\"fill:#000000; stroke:none; fill-opacity:1\" cx=\"1224.44\" cy=\"507.952\" r=\"18\"/>\n",
       "<circle clip-path=\"url(#clip8303)\" style=\"fill:#009af9; stroke:none; fill-opacity:1\" cx=\"1224.44\" cy=\"507.952\" r=\"14\"/>\n",
       "<circle clip-path=\"url(#clip8303)\" style=\"fill:#000000; stroke:none; fill-opacity:1\" cx=\"1223.67\" cy=\"958.931\" r=\"18\"/>\n",
       "<circle clip-path=\"url(#clip8303)\" style=\"fill:#009af9; stroke:none; fill-opacity:1\" cx=\"1223.67\" cy=\"958.931\" r=\"14\"/>\n",
       "<circle clip-path=\"url(#clip8303)\" style=\"fill:#000000; stroke:none; fill-opacity:1\" cx=\"1472.08\" cy=\"754.163\" r=\"18\"/>\n",
       "<circle clip-path=\"url(#clip8303)\" style=\"fill:#009af9; stroke:none; fill-opacity:1\" cx=\"1472.08\" cy=\"754.163\" r=\"14\"/>\n",
       "<circle clip-path=\"url(#clip8303)\" style=\"fill:#000000; stroke:none; fill-opacity:1\" cx=\"1373.44\" cy=\"1080.47\" r=\"18\"/>\n",
       "<circle clip-path=\"url(#clip8303)\" style=\"fill:#009af9; stroke:none; fill-opacity:1\" cx=\"1373.44\" cy=\"1080.47\" r=\"14\"/>\n",
       "<circle clip-path=\"url(#clip8303)\" style=\"fill:#000000; stroke:none; fill-opacity:1\" cx=\"809.262\" cy=\"1242.69\" r=\"18\"/>\n",
       "<circle clip-path=\"url(#clip8303)\" style=\"fill:#009af9; stroke:none; fill-opacity:1\" cx=\"809.262\" cy=\"1242.69\" r=\"14\"/>\n",
       "<circle clip-path=\"url(#clip8303)\" style=\"fill:#000000; stroke:none; fill-opacity:1\" cx=\"777.211\" cy=\"952.846\" r=\"18\"/>\n",
       "<circle clip-path=\"url(#clip8303)\" style=\"fill:#009af9; stroke:none; fill-opacity:1\" cx=\"777.211\" cy=\"952.846\" r=\"14\"/>\n",
       "<circle clip-path=\"url(#clip8303)\" style=\"fill:#000000; stroke:none; fill-opacity:1\" cx=\"840.134\" cy=\"948.128\" r=\"18\"/>\n",
       "<circle clip-path=\"url(#clip8303)\" style=\"fill:#009af9; stroke:none; fill-opacity:1\" cx=\"840.134\" cy=\"948.128\" r=\"14\"/>\n",
       "<circle clip-path=\"url(#clip8303)\" style=\"fill:#000000; stroke:none; fill-opacity:1\" cx=\"1345.1\" cy=\"623.864\" r=\"18\"/>\n",
       "<circle clip-path=\"url(#clip8303)\" style=\"fill:#009af9; stroke:none; fill-opacity:1\" cx=\"1345.1\" cy=\"623.864\" r=\"14\"/>\n",
       "<circle clip-path=\"url(#clip8303)\" style=\"fill:#000000; stroke:none; fill-opacity:1\" cx=\"1052.3\" cy=\"461.237\" r=\"18\"/>\n",
       "<circle clip-path=\"url(#clip8303)\" style=\"fill:#009af9; stroke:none; fill-opacity:1\" cx=\"1052.3\" cy=\"461.237\" r=\"14\"/>\n",
       "<circle clip-path=\"url(#clip8303)\" style=\"fill:#000000; stroke:none; fill-opacity:1\" cx=\"1568.37\" cy=\"802.791\" r=\"18\"/>\n",
       "<circle clip-path=\"url(#clip8303)\" style=\"fill:#009af9; stroke:none; fill-opacity:1\" cx=\"1568.37\" cy=\"802.791\" r=\"14\"/>\n",
       "<circle clip-path=\"url(#clip8303)\" style=\"fill:#000000; stroke:none; fill-opacity:1\" cx=\"1828.59\" cy=\"266.713\" r=\"18\"/>\n",
       "<circle clip-path=\"url(#clip8303)\" style=\"fill:#009af9; stroke:none; fill-opacity:1\" cx=\"1828.59\" cy=\"266.713\" r=\"14\"/>\n",
       "<circle clip-path=\"url(#clip8303)\" style=\"fill:#000000; stroke:none; fill-opacity:1\" cx=\"1760.66\" cy=\"379.911\" r=\"18\"/>\n",
       "<circle clip-path=\"url(#clip8303)\" style=\"fill:#009af9; stroke:none; fill-opacity:1\" cx=\"1760.66\" cy=\"379.911\" r=\"14\"/>\n",
       "<circle clip-path=\"url(#clip8303)\" style=\"fill:#000000; stroke:none; fill-opacity:1\" cx=\"1679.85\" cy=\"595.849\" r=\"18\"/>\n",
       "<circle clip-path=\"url(#clip8303)\" style=\"fill:#009af9; stroke:none; fill-opacity:1\" cx=\"1679.85\" cy=\"595.849\" r=\"14\"/>\n",
       "<circle clip-path=\"url(#clip8303)\" style=\"fill:#000000; stroke:none; fill-opacity:1\" cx=\"1322.18\" cy=\"444.093\" r=\"18\"/>\n",
       "<circle clip-path=\"url(#clip8303)\" style=\"fill:#009af9; stroke:none; fill-opacity:1\" cx=\"1322.18\" cy=\"444.093\" r=\"14\"/>\n",
       "<circle clip-path=\"url(#clip8303)\" style=\"fill:#000000; stroke:none; fill-opacity:1\" cx=\"1448.44\" cy=\"674.593\" r=\"18\"/>\n",
       "<circle clip-path=\"url(#clip8303)\" style=\"fill:#009af9; stroke:none; fill-opacity:1\" cx=\"1448.44\" cy=\"674.593\" r=\"14\"/>\n",
       "<circle clip-path=\"url(#clip8303)\" style=\"fill:#000000; stroke:none; fill-opacity:1\" cx=\"1207.76\" cy=\"1066.27\" r=\"18\"/>\n",
       "<circle clip-path=\"url(#clip8303)\" style=\"fill:#009af9; stroke:none; fill-opacity:1\" cx=\"1207.76\" cy=\"1066.27\" r=\"14\"/>\n",
       "<circle clip-path=\"url(#clip8303)\" style=\"fill:#000000; stroke:none; fill-opacity:1\" cx=\"896.823\" cy=\"1123.14\" r=\"18\"/>\n",
       "<circle clip-path=\"url(#clip8303)\" style=\"fill:#009af9; stroke:none; fill-opacity:1\" cx=\"896.823\" cy=\"1123.14\" r=\"14\"/>\n",
       "<circle clip-path=\"url(#clip8303)\" style=\"fill:#000000; stroke:none; fill-opacity:1\" cx=\"1517.31\" cy=\"796.216\" r=\"18\"/>\n",
       "<circle clip-path=\"url(#clip8303)\" style=\"fill:#009af9; stroke:none; fill-opacity:1\" cx=\"1517.31\" cy=\"796.216\" r=\"14\"/>\n",
       "<circle clip-path=\"url(#clip8303)\" style=\"fill:#000000; stroke:none; fill-opacity:1\" cx=\"1323.28\" cy=\"458.57\" r=\"18\"/>\n",
       "<circle clip-path=\"url(#clip8303)\" style=\"fill:#009af9; stroke:none; fill-opacity:1\" cx=\"1323.28\" cy=\"458.57\" r=\"14\"/>\n",
       "<circle clip-path=\"url(#clip8303)\" style=\"fill:#000000; stroke:none; fill-opacity:1\" cx=\"1393.26\" cy=\"634.738\" r=\"18\"/>\n",
       "<circle clip-path=\"url(#clip8303)\" style=\"fill:#009af9; stroke:none; fill-opacity:1\" cx=\"1393.26\" cy=\"634.738\" r=\"14\"/>\n",
       "<circle clip-path=\"url(#clip8303)\" style=\"fill:#000000; stroke:none; fill-opacity:1\" cx=\"1342.57\" cy=\"588.14\" r=\"18\"/>\n",
       "<circle clip-path=\"url(#clip8303)\" style=\"fill:#009af9; stroke:none; fill-opacity:1\" cx=\"1342.57\" cy=\"588.14\" r=\"14\"/>\n",
       "<circle clip-path=\"url(#clip8303)\" style=\"fill:#000000; stroke:none; fill-opacity:1\" cx=\"1803.35\" cy=\"461.846\" r=\"18\"/>\n",
       "<circle clip-path=\"url(#clip8303)\" style=\"fill:#009af9; stroke:none; fill-opacity:1\" cx=\"1803.35\" cy=\"461.846\" r=\"14\"/>\n",
       "<circle clip-path=\"url(#clip8303)\" style=\"fill:#000000; stroke:none; fill-opacity:1\" cx=\"1661.16\" cy=\"528.236\" r=\"18\"/>\n",
       "<circle clip-path=\"url(#clip8303)\" style=\"fill:#009af9; stroke:none; fill-opacity:1\" cx=\"1661.16\" cy=\"528.236\" r=\"14\"/>\n",
       "<circle clip-path=\"url(#clip8303)\" style=\"fill:#000000; stroke:none; fill-opacity:1\" cx=\"1361.21\" cy=\"1121.36\" r=\"18\"/>\n",
       "<circle clip-path=\"url(#clip8303)\" style=\"fill:#009af9; stroke:none; fill-opacity:1\" cx=\"1361.21\" cy=\"1121.36\" r=\"14\"/>\n",
       "<circle clip-path=\"url(#clip8303)\" style=\"fill:#000000; stroke:none; fill-opacity:1\" cx=\"891.818\" cy=\"1137.21\" r=\"18\"/>\n",
       "<circle clip-path=\"url(#clip8303)\" style=\"fill:#009af9; stroke:none; fill-opacity:1\" cx=\"891.818\" cy=\"1137.21\" r=\"14\"/>\n",
       "<circle clip-path=\"url(#clip8303)\" style=\"fill:#000000; stroke:none; fill-opacity:1\" cx=\"1083.87\" cy=\"885.538\" r=\"18\"/>\n",
       "<circle clip-path=\"url(#clip8303)\" style=\"fill:#009af9; stroke:none; fill-opacity:1\" cx=\"1083.87\" cy=\"885.538\" r=\"14\"/>\n",
       "<circle clip-path=\"url(#clip8303)\" style=\"fill:#000000; stroke:none; fill-opacity:1\" cx=\"1129.7\" cy=\"1025.02\" r=\"18\"/>\n",
       "<circle clip-path=\"url(#clip8303)\" style=\"fill:#009af9; stroke:none; fill-opacity:1\" cx=\"1129.7\" cy=\"1025.02\" r=\"14\"/>\n",
       "<circle clip-path=\"url(#clip8303)\" style=\"fill:#000000; stroke:none; fill-opacity:1\" cx=\"1298.94\" cy=\"921.439\" r=\"18\"/>\n",
       "<circle clip-path=\"url(#clip8303)\" style=\"fill:#009af9; stroke:none; fill-opacity:1\" cx=\"1298.94\" cy=\"921.439\" r=\"14\"/>\n",
       "<circle clip-path=\"url(#clip8303)\" style=\"fill:#000000; stroke:none; fill-opacity:1\" cx=\"1381.94\" cy=\"397.238\" r=\"18\"/>\n",
       "<circle clip-path=\"url(#clip8303)\" style=\"fill:#009af9; stroke:none; fill-opacity:1\" cx=\"1381.94\" cy=\"397.238\" r=\"14\"/>\n",
       "<circle clip-path=\"url(#clip8303)\" style=\"fill:#000000; stroke:none; fill-opacity:1\" cx=\"1309.36\" cy=\"549.135\" r=\"18\"/>\n",
       "<circle clip-path=\"url(#clip8303)\" style=\"fill:#009af9; stroke:none; fill-opacity:1\" cx=\"1309.36\" cy=\"549.135\" r=\"14\"/>\n",
       "<circle clip-path=\"url(#clip8303)\" style=\"fill:#000000; stroke:none; fill-opacity:1\" cx=\"1492.06\" cy=\"940.706\" r=\"18\"/>\n",
       "<circle clip-path=\"url(#clip8303)\" style=\"fill:#009af9; stroke:none; fill-opacity:1\" cx=\"1492.06\" cy=\"940.706\" r=\"14\"/>\n",
       "<circle clip-path=\"url(#clip8303)\" style=\"fill:#000000; stroke:none; fill-opacity:1\" cx=\"796.509\" cy=\"1193.94\" r=\"18\"/>\n",
       "<circle clip-path=\"url(#clip8303)\" style=\"fill:#009af9; stroke:none; fill-opacity:1\" cx=\"796.509\" cy=\"1193.94\" r=\"14\"/>\n",
       "<circle clip-path=\"url(#clip8303)\" style=\"fill:#000000; stroke:none; fill-opacity:1\" cx=\"1490.62\" cy=\"507.13\" r=\"18\"/>\n",
       "<circle clip-path=\"url(#clip8303)\" style=\"fill:#009af9; stroke:none; fill-opacity:1\" cx=\"1490.62\" cy=\"507.13\" r=\"14\"/>\n",
       "<circle clip-path=\"url(#clip8303)\" style=\"fill:#000000; stroke:none; fill-opacity:1\" cx=\"1600.29\" cy=\"735.239\" r=\"18\"/>\n",
       "<circle clip-path=\"url(#clip8303)\" style=\"fill:#009af9; stroke:none; fill-opacity:1\" cx=\"1600.29\" cy=\"735.239\" r=\"14\"/>\n",
       "<circle clip-path=\"url(#clip8303)\" style=\"fill:#000000; stroke:none; fill-opacity:1\" cx=\"900.982\" cy=\"1076.78\" r=\"18\"/>\n",
       "<circle clip-path=\"url(#clip8303)\" style=\"fill:#009af9; stroke:none; fill-opacity:1\" cx=\"900.982\" cy=\"1076.78\" r=\"14\"/>\n",
       "<circle clip-path=\"url(#clip8303)\" style=\"fill:#000000; stroke:none; fill-opacity:1\" cx=\"1370.2\" cy=\"537.609\" r=\"18\"/>\n",
       "<circle clip-path=\"url(#clip8303)\" style=\"fill:#009af9; stroke:none; fill-opacity:1\" cx=\"1370.2\" cy=\"537.609\" r=\"14\"/>\n",
       "<circle clip-path=\"url(#clip8303)\" style=\"fill:#000000; stroke:none; fill-opacity:1\" cx=\"1309.3\" cy=\"382.167\" r=\"18\"/>\n",
       "<circle clip-path=\"url(#clip8303)\" style=\"fill:#009af9; stroke:none; fill-opacity:1\" cx=\"1309.3\" cy=\"382.167\" r=\"14\"/>\n",
       "<circle clip-path=\"url(#clip8303)\" style=\"fill:#000000; stroke:none; fill-opacity:1\" cx=\"1520.12\" cy=\"655.286\" r=\"18\"/>\n",
       "<circle clip-path=\"url(#clip8303)\" style=\"fill:#009af9; stroke:none; fill-opacity:1\" cx=\"1520.12\" cy=\"655.286\" r=\"14\"/>\n",
       "<circle clip-path=\"url(#clip8303)\" style=\"fill:#000000; stroke:none; fill-opacity:1\" cx=\"1247.81\" cy=\"936.449\" r=\"18\"/>\n",
       "<circle clip-path=\"url(#clip8303)\" style=\"fill:#009af9; stroke:none; fill-opacity:1\" cx=\"1247.81\" cy=\"936.449\" r=\"14\"/>\n",
       "<circle clip-path=\"url(#clip8303)\" style=\"fill:#000000; stroke:none; fill-opacity:1\" cx=\"1483.6\" cy=\"461.848\" r=\"18\"/>\n",
       "<circle clip-path=\"url(#clip8303)\" style=\"fill:#009af9; stroke:none; fill-opacity:1\" cx=\"1483.6\" cy=\"461.848\" r=\"14\"/>\n",
       "<circle clip-path=\"url(#clip8303)\" style=\"fill:#000000; stroke:none; fill-opacity:1\" cx=\"1504.06\" cy=\"610.744\" r=\"18\"/>\n",
       "<circle clip-path=\"url(#clip8303)\" style=\"fill:#009af9; stroke:none; fill-opacity:1\" cx=\"1504.06\" cy=\"610.744\" r=\"14\"/>\n",
       "<circle clip-path=\"url(#clip8303)\" style=\"fill:#000000; stroke:none; fill-opacity:1\" cx=\"1238.79\" cy=\"983.065\" r=\"18\"/>\n",
       "<circle clip-path=\"url(#clip8303)\" style=\"fill:#009af9; stroke:none; fill-opacity:1\" cx=\"1238.79\" cy=\"983.065\" r=\"14\"/>\n",
       "<circle clip-path=\"url(#clip8303)\" style=\"fill:#000000; stroke:none; fill-opacity:1\" cx=\"1113.45\" cy=\"494.311\" r=\"18\"/>\n",
       "<circle clip-path=\"url(#clip8303)\" style=\"fill:#009af9; stroke:none; fill-opacity:1\" cx=\"1113.45\" cy=\"494.311\" r=\"14\"/>\n",
       "<circle clip-path=\"url(#clip8303)\" style=\"fill:#000000; stroke:none; fill-opacity:1\" cx=\"857.064\" cy=\"1017.95\" r=\"18\"/>\n",
       "<circle clip-path=\"url(#clip8303)\" style=\"fill:#009af9; stroke:none; fill-opacity:1\" cx=\"857.064\" cy=\"1017.95\" r=\"14\"/>\n",
       "<circle clip-path=\"url(#clip8303)\" style=\"fill:#000000; stroke:none; fill-opacity:1\" cx=\"1486.68\" cy=\"665.498\" r=\"18\"/>\n",
       "<circle clip-path=\"url(#clip8303)\" style=\"fill:#009af9; stroke:none; fill-opacity:1\" cx=\"1486.68\" cy=\"665.498\" r=\"14\"/>\n",
       "<circle clip-path=\"url(#clip8303)\" style=\"fill:#000000; stroke:none; fill-opacity:1\" cx=\"942.792\" cy=\"1073.38\" r=\"18\"/>\n",
       "<circle clip-path=\"url(#clip8303)\" style=\"fill:#009af9; stroke:none; fill-opacity:1\" cx=\"942.792\" cy=\"1073.38\" r=\"14\"/>\n",
       "<circle clip-path=\"url(#clip8303)\" style=\"fill:#000000; stroke:none; fill-opacity:1\" cx=\"1469.87\" cy=\"930.697\" r=\"18\"/>\n",
       "<circle clip-path=\"url(#clip8303)\" style=\"fill:#009af9; stroke:none; fill-opacity:1\" cx=\"1469.87\" cy=\"930.697\" r=\"14\"/>\n",
       "<circle clip-path=\"url(#clip8303)\" style=\"fill:#000000; stroke:none; fill-opacity:1\" cx=\"1399.29\" cy=\"993.758\" r=\"18\"/>\n",
       "<circle clip-path=\"url(#clip8303)\" style=\"fill:#009af9; stroke:none; fill-opacity:1\" cx=\"1399.29\" cy=\"993.758\" r=\"14\"/>\n",
       "<circle clip-path=\"url(#clip8303)\" style=\"fill:#000000; stroke:none; fill-opacity:1\" cx=\"1034.38\" cy=\"617.586\" r=\"18\"/>\n",
       "<circle clip-path=\"url(#clip8303)\" style=\"fill:#009af9; stroke:none; fill-opacity:1\" cx=\"1034.38\" cy=\"617.586\" r=\"14\"/>\n",
       "<circle clip-path=\"url(#clip8303)\" style=\"fill:#000000; stroke:none; fill-opacity:1\" cx=\"967.781\" cy=\"1043.66\" r=\"18\"/>\n",
       "<circle clip-path=\"url(#clip8303)\" style=\"fill:#009af9; stroke:none; fill-opacity:1\" cx=\"967.781\" cy=\"1043.66\" r=\"14\"/>\n",
       "<circle clip-path=\"url(#clip8303)\" style=\"fill:#000000; stroke:none; fill-opacity:1\" cx=\"1190.01\" cy=\"712.764\" r=\"18\"/>\n",
       "<circle clip-path=\"url(#clip8303)\" style=\"fill:#009af9; stroke:none; fill-opacity:1\" cx=\"1190.01\" cy=\"712.764\" r=\"14\"/>\n",
       "<circle clip-path=\"url(#clip8303)\" style=\"fill:#000000; stroke:none; fill-opacity:1\" cx=\"902.328\" cy=\"1000.08\" r=\"18\"/>\n",
       "<circle clip-path=\"url(#clip8303)\" style=\"fill:#009af9; stroke:none; fill-opacity:1\" cx=\"902.328\" cy=\"1000.08\" r=\"14\"/>\n",
       "<circle clip-path=\"url(#clip8303)\" style=\"fill:#000000; stroke:none; fill-opacity:1\" cx=\"1698.48\" cy=\"661.391\" r=\"18\"/>\n",
       "<circle clip-path=\"url(#clip8303)\" style=\"fill:#009af9; stroke:none; fill-opacity:1\" cx=\"1698.48\" cy=\"661.391\" r=\"14\"/>\n",
       "<circle clip-path=\"url(#clip8303)\" style=\"fill:#000000; stroke:none; fill-opacity:1\" cx=\"1846.65\" cy=\"254.942\" r=\"18\"/>\n",
       "<circle clip-path=\"url(#clip8303)\" style=\"fill:#009af9; stroke:none; fill-opacity:1\" cx=\"1846.65\" cy=\"254.942\" r=\"14\"/>\n",
       "<circle clip-path=\"url(#clip8303)\" style=\"fill:#000000; stroke:none; fill-opacity:1\" cx=\"1190.41\" cy=\"711.864\" r=\"18\"/>\n",
       "<circle clip-path=\"url(#clip8303)\" style=\"fill:#009af9; stroke:none; fill-opacity:1\" cx=\"1190.41\" cy=\"711.864\" r=\"14\"/>\n",
       "<circle clip-path=\"url(#clip8303)\" style=\"fill:#000000; stroke:none; fill-opacity:1\" cx=\"1519.63\" cy=\"342.225\" r=\"18\"/>\n",
       "<circle clip-path=\"url(#clip8303)\" style=\"fill:#009af9; stroke:none; fill-opacity:1\" cx=\"1519.63\" cy=\"342.225\" r=\"14\"/>\n",
       "<circle clip-path=\"url(#clip8303)\" style=\"fill:#000000; stroke:none; fill-opacity:1\" cx=\"1261.23\" cy=\"959.965\" r=\"18\"/>\n",
       "<circle clip-path=\"url(#clip8303)\" style=\"fill:#009af9; stroke:none; fill-opacity:1\" cx=\"1261.23\" cy=\"959.965\" r=\"14\"/>\n",
       "<circle clip-path=\"url(#clip8303)\" style=\"fill:#000000; stroke:none; fill-opacity:1\" cx=\"1496.94\" cy=\"860.217\" r=\"18\"/>\n",
       "<circle clip-path=\"url(#clip8303)\" style=\"fill:#009af9; stroke:none; fill-opacity:1\" cx=\"1496.94\" cy=\"860.217\" r=\"14\"/>\n",
       "<circle clip-path=\"url(#clip8303)\" style=\"fill:#000000; stroke:none; fill-opacity:1\" cx=\"1369.85\" cy=\"669.551\" r=\"18\"/>\n",
       "<circle clip-path=\"url(#clip8303)\" style=\"fill:#009af9; stroke:none; fill-opacity:1\" cx=\"1369.85\" cy=\"669.551\" r=\"14\"/>\n",
       "<circle clip-path=\"url(#clip8303)\" style=\"fill:#000000; stroke:none; fill-opacity:1\" cx=\"1509.54\" cy=\"547.88\" r=\"18\"/>\n",
       "<circle clip-path=\"url(#clip8303)\" style=\"fill:#009af9; stroke:none; fill-opacity:1\" cx=\"1509.54\" cy=\"547.88\" r=\"14\"/>\n",
       "<circle clip-path=\"url(#clip8303)\" style=\"fill:#000000; stroke:none; fill-opacity:1\" cx=\"917.125\" cy=\"852.064\" r=\"18\"/>\n",
       "<circle clip-path=\"url(#clip8303)\" style=\"fill:#009af9; stroke:none; fill-opacity:1\" cx=\"917.125\" cy=\"852.064\" r=\"14\"/>\n",
       "<circle clip-path=\"url(#clip8303)\" style=\"fill:#000000; stroke:none; fill-opacity:1\" cx=\"1411.68\" cy=\"361.845\" r=\"18\"/>\n",
       "<circle clip-path=\"url(#clip8303)\" style=\"fill:#009af9; stroke:none; fill-opacity:1\" cx=\"1411.68\" cy=\"361.845\" r=\"14\"/>\n",
       "<circle clip-path=\"url(#clip8303)\" style=\"fill:#000000; stroke:none; fill-opacity:1\" cx=\"1269.97\" cy=\"899.772\" r=\"18\"/>\n",
       "<circle clip-path=\"url(#clip8303)\" style=\"fill:#009af9; stroke:none; fill-opacity:1\" cx=\"1269.97\" cy=\"899.772\" r=\"14\"/>\n",
       "<circle clip-path=\"url(#clip8303)\" style=\"fill:#000000; stroke:none; fill-opacity:1\" cx=\"1677.03\" cy=\"655.281\" r=\"18\"/>\n",
       "<circle clip-path=\"url(#clip8303)\" style=\"fill:#009af9; stroke:none; fill-opacity:1\" cx=\"1677.03\" cy=\"655.281\" r=\"14\"/>\n",
       "<circle clip-path=\"url(#clip8303)\" style=\"fill:#000000; stroke:none; fill-opacity:1\" cx=\"1096.19\" cy=\"1102.49\" r=\"18\"/>\n",
       "<circle clip-path=\"url(#clip8303)\" style=\"fill:#009af9; stroke:none; fill-opacity:1\" cx=\"1096.19\" cy=\"1102.49\" r=\"14\"/>\n",
       "<circle clip-path=\"url(#clip8303)\" style=\"fill:#000000; stroke:none; fill-opacity:1\" cx=\"1489.02\" cy=\"791.077\" r=\"18\"/>\n",
       "<circle clip-path=\"url(#clip8303)\" style=\"fill:#009af9; stroke:none; fill-opacity:1\" cx=\"1489.02\" cy=\"791.077\" r=\"14\"/>\n",
       "<circle clip-path=\"url(#clip8303)\" style=\"fill:#000000; stroke:none; fill-opacity:1\" cx=\"1182.46\" cy=\"1184.72\" r=\"18\"/>\n",
       "<circle clip-path=\"url(#clip8303)\" style=\"fill:#009af9; stroke:none; fill-opacity:1\" cx=\"1182.46\" cy=\"1184.72\" r=\"14\"/>\n",
       "<circle clip-path=\"url(#clip8303)\" style=\"fill:#000000; stroke:none; fill-opacity:1\" cx=\"1202.09\" cy=\"818.339\" r=\"18\"/>\n",
       "<circle clip-path=\"url(#clip8303)\" style=\"fill:#009af9; stroke:none; fill-opacity:1\" cx=\"1202.09\" cy=\"818.339\" r=\"14\"/>\n",
       "<circle clip-path=\"url(#clip8303)\" style=\"fill:#000000; stroke:none; fill-opacity:1\" cx=\"1394.54\" cy=\"691.568\" r=\"18\"/>\n",
       "<circle clip-path=\"url(#clip8303)\" style=\"fill:#009af9; stroke:none; fill-opacity:1\" cx=\"1394.54\" cy=\"691.568\" r=\"14\"/>\n",
       "<circle clip-path=\"url(#clip8303)\" style=\"fill:#000000; stroke:none; fill-opacity:1\" cx=\"1417.39\" cy=\"508.933\" r=\"18\"/>\n",
       "<circle clip-path=\"url(#clip8303)\" style=\"fill:#009af9; stroke:none; fill-opacity:1\" cx=\"1417.39\" cy=\"508.933\" r=\"14\"/>\n",
       "<circle clip-path=\"url(#clip8303)\" style=\"fill:#000000; stroke:none; fill-opacity:1\" cx=\"950.668\" cy=\"854.566\" r=\"18\"/>\n",
       "<circle clip-path=\"url(#clip8303)\" style=\"fill:#009af9; stroke:none; fill-opacity:1\" cx=\"950.668\" cy=\"854.566\" r=\"14\"/>\n",
       "<circle clip-path=\"url(#clip8303)\" style=\"fill:#000000; stroke:none; fill-opacity:1\" cx=\"1172.88\" cy=\"610.908\" r=\"18\"/>\n",
       "<circle clip-path=\"url(#clip8303)\" style=\"fill:#009af9; stroke:none; fill-opacity:1\" cx=\"1172.88\" cy=\"610.908\" r=\"14\"/>\n",
       "<circle clip-path=\"url(#clip8303)\" style=\"fill:#000000; stroke:none; fill-opacity:1\" cx=\"646.986\" cy=\"1262.18\" r=\"18\"/>\n",
       "<circle clip-path=\"url(#clip8303)\" style=\"fill:#009af9; stroke:none; fill-opacity:1\" cx=\"646.986\" cy=\"1262.18\" r=\"14\"/>\n",
       "<circle clip-path=\"url(#clip8303)\" style=\"fill:#000000; stroke:none; fill-opacity:1\" cx=\"1224.6\" cy=\"632.913\" r=\"18\"/>\n",
       "<circle clip-path=\"url(#clip8303)\" style=\"fill:#009af9; stroke:none; fill-opacity:1\" cx=\"1224.6\" cy=\"632.913\" r=\"14\"/>\n",
       "<circle clip-path=\"url(#clip8303)\" style=\"fill:#000000; stroke:none; fill-opacity:1\" cx=\"1341.75\" cy=\"988.719\" r=\"18\"/>\n",
       "<circle clip-path=\"url(#clip8303)\" style=\"fill:#009af9; stroke:none; fill-opacity:1\" cx=\"1341.75\" cy=\"988.719\" r=\"14\"/>\n",
       "<circle clip-path=\"url(#clip8303)\" style=\"fill:#000000; stroke:none; fill-opacity:1\" cx=\"1310.1\" cy=\"773.983\" r=\"18\"/>\n",
       "<circle clip-path=\"url(#clip8303)\" style=\"fill:#009af9; stroke:none; fill-opacity:1\" cx=\"1310.1\" cy=\"773.983\" r=\"14\"/>\n",
       "<circle clip-path=\"url(#clip8303)\" style=\"fill:#000000; stroke:none; fill-opacity:1\" cx=\"871.308\" cy=\"1096.94\" r=\"18\"/>\n",
       "<circle clip-path=\"url(#clip8303)\" style=\"fill:#009af9; stroke:none; fill-opacity:1\" cx=\"871.308\" cy=\"1096.94\" r=\"14\"/>\n",
       "<circle clip-path=\"url(#clip8303)\" style=\"fill:#000000; stroke:none; fill-opacity:1\" cx=\"1716.26\" cy=\"527.211\" r=\"18\"/>\n",
       "<circle clip-path=\"url(#clip8303)\" style=\"fill:#009af9; stroke:none; fill-opacity:1\" cx=\"1716.26\" cy=\"527.211\" r=\"14\"/>\n",
       "<circle clip-path=\"url(#clip8303)\" style=\"fill:#000000; stroke:none; fill-opacity:1\" cx=\"1175.38\" cy=\"925.993\" r=\"18\"/>\n",
       "<circle clip-path=\"url(#clip8303)\" style=\"fill:#009af9; stroke:none; fill-opacity:1\" cx=\"1175.38\" cy=\"925.993\" r=\"14\"/>\n",
       "<circle clip-path=\"url(#clip8303)\" style=\"fill:#000000; stroke:none; fill-opacity:1\" cx=\"1435.48\" cy=\"656.409\" r=\"18\"/>\n",
       "<circle clip-path=\"url(#clip8303)\" style=\"fill:#009af9; stroke:none; fill-opacity:1\" cx=\"1435.48\" cy=\"656.409\" r=\"14\"/>\n",
       "<circle clip-path=\"url(#clip8303)\" style=\"fill:#000000; stroke:none; fill-opacity:1\" cx=\"1606.41\" cy=\"531.034\" r=\"18\"/>\n",
       "<circle clip-path=\"url(#clip8303)\" style=\"fill:#009af9; stroke:none; fill-opacity:1\" cx=\"1606.41\" cy=\"531.034\" r=\"14\"/>\n",
       "<circle clip-path=\"url(#clip8303)\" style=\"fill:#000000; stroke:none; fill-opacity:1\" cx=\"1391.21\" cy=\"506.142\" r=\"18\"/>\n",
       "<circle clip-path=\"url(#clip8303)\" style=\"fill:#009af9; stroke:none; fill-opacity:1\" cx=\"1391.21\" cy=\"506.142\" r=\"14\"/>\n",
       "<circle clip-path=\"url(#clip8303)\" style=\"fill:#000000; stroke:none; fill-opacity:1\" cx=\"1390.45\" cy=\"439.802\" r=\"18\"/>\n",
       "<circle clip-path=\"url(#clip8303)\" style=\"fill:#009af9; stroke:none; fill-opacity:1\" cx=\"1390.45\" cy=\"439.802\" r=\"14\"/>\n",
       "<circle clip-path=\"url(#clip8303)\" style=\"fill:#000000; stroke:none; fill-opacity:1\" cx=\"1783.2\" cy=\"491.34\" r=\"18\"/>\n",
       "<circle clip-path=\"url(#clip8303)\" style=\"fill:#009af9; stroke:none; fill-opacity:1\" cx=\"1783.2\" cy=\"491.34\" r=\"14\"/>\n",
       "<circle clip-path=\"url(#clip8303)\" style=\"fill:#000000; stroke:none; fill-opacity:1\" cx=\"1469.41\" cy=\"728.806\" r=\"18\"/>\n",
       "<circle clip-path=\"url(#clip8303)\" style=\"fill:#009af9; stroke:none; fill-opacity:1\" cx=\"1469.41\" cy=\"728.806\" r=\"14\"/>\n",
       "<circle clip-path=\"url(#clip8303)\" style=\"fill:#000000; stroke:none; fill-opacity:1\" cx=\"1309.74\" cy=\"592.501\" r=\"18\"/>\n",
       "<circle clip-path=\"url(#clip8303)\" style=\"fill:#009af9; stroke:none; fill-opacity:1\" cx=\"1309.74\" cy=\"592.501\" r=\"14\"/>\n",
       "<circle clip-path=\"url(#clip8303)\" style=\"fill:#000000; stroke:none; fill-opacity:1\" cx=\"1373.76\" cy=\"1044.02\" r=\"18\"/>\n",
       "<circle clip-path=\"url(#clip8303)\" style=\"fill:#009af9; stroke:none; fill-opacity:1\" cx=\"1373.76\" cy=\"1044.02\" r=\"14\"/>\n",
       "<circle clip-path=\"url(#clip8303)\" style=\"fill:#000000; stroke:none; fill-opacity:1\" cx=\"1292.92\" cy=\"1021.8\" r=\"18\"/>\n",
       "<circle clip-path=\"url(#clip8303)\" style=\"fill:#009af9; stroke:none; fill-opacity:1\" cx=\"1292.92\" cy=\"1021.8\" r=\"14\"/>\n",
       "<circle clip-path=\"url(#clip8303)\" style=\"fill:#000000; stroke:none; fill-opacity:1\" cx=\"1523.24\" cy=\"988.238\" r=\"18\"/>\n",
       "<circle clip-path=\"url(#clip8303)\" style=\"fill:#009af9; stroke:none; fill-opacity:1\" cx=\"1523.24\" cy=\"988.238\" r=\"14\"/>\n",
       "<circle clip-path=\"url(#clip8303)\" style=\"fill:#000000; stroke:none; fill-opacity:1\" cx=\"1169.07\" cy=\"604.32\" r=\"18\"/>\n",
       "<circle clip-path=\"url(#clip8303)\" style=\"fill:#009af9; stroke:none; fill-opacity:1\" cx=\"1169.07\" cy=\"604.32\" r=\"14\"/>\n",
       "<circle clip-path=\"url(#clip8303)\" style=\"fill:#000000; stroke:none; fill-opacity:1\" cx=\"1357.78\" cy=\"837.45\" r=\"18\"/>\n",
       "<circle clip-path=\"url(#clip8303)\" style=\"fill:#009af9; stroke:none; fill-opacity:1\" cx=\"1357.78\" cy=\"837.45\" r=\"14\"/>\n",
       "<circle clip-path=\"url(#clip8303)\" style=\"fill:#000000; stroke:none; fill-opacity:1\" cx=\"1587.74\" cy=\"837.429\" r=\"18\"/>\n",
       "<circle clip-path=\"url(#clip8303)\" style=\"fill:#009af9; stroke:none; fill-opacity:1\" cx=\"1587.74\" cy=\"837.429\" r=\"14\"/>\n",
       "<circle clip-path=\"url(#clip8303)\" style=\"fill:#000000; stroke:none; fill-opacity:1\" cx=\"1292.57\" cy=\"1075.12\" r=\"18\"/>\n",
       "<circle clip-path=\"url(#clip8303)\" style=\"fill:#009af9; stroke:none; fill-opacity:1\" cx=\"1292.57\" cy=\"1075.12\" r=\"14\"/>\n",
       "<circle clip-path=\"url(#clip8303)\" style=\"fill:#000000; stroke:none; fill-opacity:1\" cx=\"1190.78\" cy=\"1062.7\" r=\"18\"/>\n",
       "<circle clip-path=\"url(#clip8303)\" style=\"fill:#009af9; stroke:none; fill-opacity:1\" cx=\"1190.78\" cy=\"1062.7\" r=\"14\"/>\n",
       "<circle clip-path=\"url(#clip8303)\" style=\"fill:#000000; stroke:none; fill-opacity:1\" cx=\"1506.49\" cy=\"709.764\" r=\"18\"/>\n",
       "<circle clip-path=\"url(#clip8303)\" style=\"fill:#009af9; stroke:none; fill-opacity:1\" cx=\"1506.49\" cy=\"709.764\" r=\"14\"/>\n",
       "<circle clip-path=\"url(#clip8303)\" style=\"fill:#000000; stroke:none; fill-opacity:1\" cx=\"985.937\" cy=\"942.235\" r=\"18\"/>\n",
       "<circle clip-path=\"url(#clip8303)\" style=\"fill:#009af9; stroke:none; fill-opacity:1\" cx=\"985.937\" cy=\"942.235\" r=\"14\"/>\n",
       "<circle clip-path=\"url(#clip8303)\" style=\"fill:#000000; stroke:none; fill-opacity:1\" cx=\"1023.23\" cy=\"650.098\" r=\"18\"/>\n",
       "<circle clip-path=\"url(#clip8303)\" style=\"fill:#009af9; stroke:none; fill-opacity:1\" cx=\"1023.23\" cy=\"650.098\" r=\"14\"/>\n",
       "<circle clip-path=\"url(#clip8303)\" style=\"fill:#000000; stroke:none; fill-opacity:1\" cx=\"953.237\" cy=\"817.039\" r=\"18\"/>\n",
       "<circle clip-path=\"url(#clip8303)\" style=\"fill:#009af9; stroke:none; fill-opacity:1\" cx=\"953.237\" cy=\"817.039\" r=\"14\"/>\n",
       "<circle clip-path=\"url(#clip8303)\" style=\"fill:#000000; stroke:none; fill-opacity:1\" cx=\"1113.47\" cy=\"546.314\" r=\"18\"/>\n",
       "<circle clip-path=\"url(#clip8303)\" style=\"fill:#009af9; stroke:none; fill-opacity:1\" cx=\"1113.47\" cy=\"546.314\" r=\"14\"/>\n",
       "<circle clip-path=\"url(#clip8303)\" style=\"fill:#000000; stroke:none; fill-opacity:1\" cx=\"1889.1\" cy=\"294.444\" r=\"18\"/>\n",
       "<circle clip-path=\"url(#clip8303)\" style=\"fill:#009af9; stroke:none; fill-opacity:1\" cx=\"1889.1\" cy=\"294.444\" r=\"14\"/>\n",
       "<circle clip-path=\"url(#clip8303)\" style=\"fill:#000000; stroke:none; fill-opacity:1\" cx=\"1525.65\" cy=\"325.955\" r=\"18\"/>\n",
       "<circle clip-path=\"url(#clip8303)\" style=\"fill:#009af9; stroke:none; fill-opacity:1\" cx=\"1525.65\" cy=\"325.955\" r=\"14\"/>\n",
       "<circle clip-path=\"url(#clip8303)\" style=\"fill:#000000; stroke:none; fill-opacity:1\" cx=\"919.445\" cy=\"1155.98\" r=\"18\"/>\n",
       "<circle clip-path=\"url(#clip8303)\" style=\"fill:#009af9; stroke:none; fill-opacity:1\" cx=\"919.445\" cy=\"1155.98\" r=\"14\"/>\n",
       "<circle clip-path=\"url(#clip8303)\" style=\"fill:#000000; stroke:none; fill-opacity:1\" cx=\"1624.16\" cy=\"632.309\" r=\"18\"/>\n",
       "<circle clip-path=\"url(#clip8303)\" style=\"fill:#009af9; stroke:none; fill-opacity:1\" cx=\"1624.16\" cy=\"632.309\" r=\"14\"/>\n",
       "<circle clip-path=\"url(#clip8303)\" style=\"fill:#000000; stroke:none; fill-opacity:1\" cx=\"1017.41\" cy=\"1201.3\" r=\"18\"/>\n",
       "<circle clip-path=\"url(#clip8303)\" style=\"fill:#009af9; stroke:none; fill-opacity:1\" cx=\"1017.41\" cy=\"1201.3\" r=\"14\"/>\n",
       "<circle clip-path=\"url(#clip8303)\" style=\"fill:#000000; stroke:none; fill-opacity:1\" cx=\"1562.1\" cy=\"911.204\" r=\"18\"/>\n",
       "<circle clip-path=\"url(#clip8303)\" style=\"fill:#009af9; stroke:none; fill-opacity:1\" cx=\"1562.1\" cy=\"911.204\" r=\"14\"/>\n",
       "<circle clip-path=\"url(#clip8303)\" style=\"fill:#000000; stroke:none; fill-opacity:1\" cx=\"838.938\" cy=\"1075.59\" r=\"18\"/>\n",
       "<circle clip-path=\"url(#clip8303)\" style=\"fill:#009af9; stroke:none; fill-opacity:1\" cx=\"838.938\" cy=\"1075.59\" r=\"14\"/>\n",
       "<circle clip-path=\"url(#clip8303)\" style=\"fill:#000000; stroke:none; fill-opacity:1\" cx=\"1000.89\" cy=\"733.933\" r=\"18\"/>\n",
       "<circle clip-path=\"url(#clip8303)\" style=\"fill:#009af9; stroke:none; fill-opacity:1\" cx=\"1000.89\" cy=\"733.933\" r=\"14\"/>\n",
       "<circle clip-path=\"url(#clip8303)\" style=\"fill:#000000; stroke:none; fill-opacity:1\" cx=\"1204.54\" cy=\"464.019\" r=\"18\"/>\n",
       "<circle clip-path=\"url(#clip8303)\" style=\"fill:#009af9; stroke:none; fill-opacity:1\" cx=\"1204.54\" cy=\"464.019\" r=\"14\"/>\n",
       "<circle clip-path=\"url(#clip8303)\" style=\"fill:#000000; stroke:none; fill-opacity:1\" cx=\"1098.86\" cy=\"1129.98\" r=\"18\"/>\n",
       "<circle clip-path=\"url(#clip8303)\" style=\"fill:#009af9; stroke:none; fill-opacity:1\" cx=\"1098.86\" cy=\"1129.98\" r=\"14\"/>\n",
       "<circle clip-path=\"url(#clip8303)\" style=\"fill:#000000; stroke:none; fill-opacity:1\" cx=\"1684.19\" cy=\"448.257\" r=\"18\"/>\n",
       "<circle clip-path=\"url(#clip8303)\" style=\"fill:#009af9; stroke:none; fill-opacity:1\" cx=\"1684.19\" cy=\"448.257\" r=\"14\"/>\n",
       "<circle clip-path=\"url(#clip8303)\" style=\"fill:#000000; stroke:none; fill-opacity:1\" cx=\"1560.22\" cy=\"351.906\" r=\"18\"/>\n",
       "<circle clip-path=\"url(#clip8303)\" style=\"fill:#009af9; stroke:none; fill-opacity:1\" cx=\"1560.22\" cy=\"351.906\" r=\"14\"/>\n",
       "<circle clip-path=\"url(#clip8303)\" style=\"fill:#000000; stroke:none; fill-opacity:1\" cx=\"1647.78\" cy=\"404.523\" r=\"18\"/>\n",
       "<circle clip-path=\"url(#clip8303)\" style=\"fill:#009af9; stroke:none; fill-opacity:1\" cx=\"1647.78\" cy=\"404.523\" r=\"14\"/>\n",
       "<circle clip-path=\"url(#clip8303)\" style=\"fill:#000000; stroke:none; fill-opacity:1\" cx=\"1710.98\" cy=\"313.088\" r=\"18\"/>\n",
       "<circle clip-path=\"url(#clip8303)\" style=\"fill:#009af9; stroke:none; fill-opacity:1\" cx=\"1710.98\" cy=\"313.088\" r=\"14\"/>\n",
       "<circle clip-path=\"url(#clip8303)\" style=\"fill:#000000; stroke:none; fill-opacity:1\" cx=\"1083.87\" cy=\"951.752\" r=\"18\"/>\n",
       "<circle clip-path=\"url(#clip8303)\" style=\"fill:#009af9; stroke:none; fill-opacity:1\" cx=\"1083.87\" cy=\"951.752\" r=\"14\"/>\n",
       "<circle clip-path=\"url(#clip8303)\" style=\"fill:#000000; stroke:none; fill-opacity:1\" cx=\"1352.09\" cy=\"377.709\" r=\"18\"/>\n",
       "<circle clip-path=\"url(#clip8303)\" style=\"fill:#009af9; stroke:none; fill-opacity:1\" cx=\"1352.09\" cy=\"377.709\" r=\"14\"/>\n",
       "<circle clip-path=\"url(#clip8303)\" style=\"fill:#000000; stroke:none; fill-opacity:1\" cx=\"1364.94\" cy=\"402.551\" r=\"18\"/>\n",
       "<circle clip-path=\"url(#clip8303)\" style=\"fill:#009af9; stroke:none; fill-opacity:1\" cx=\"1364.94\" cy=\"402.551\" r=\"14\"/>\n",
       "<circle clip-path=\"url(#clip8303)\" style=\"fill:#000000; stroke:none; fill-opacity:1\" cx=\"853.616\" cy=\"1153.57\" r=\"18\"/>\n",
       "<circle clip-path=\"url(#clip8303)\" style=\"fill:#009af9; stroke:none; fill-opacity:1\" cx=\"853.616\" cy=\"1153.57\" r=\"14\"/>\n",
       "<circle clip-path=\"url(#clip8303)\" style=\"fill:#000000; stroke:none; fill-opacity:1\" cx=\"1377.6\" cy=\"740.705\" r=\"18\"/>\n",
       "<circle clip-path=\"url(#clip8303)\" style=\"fill:#009af9; stroke:none; fill-opacity:1\" cx=\"1377.6\" cy=\"740.705\" r=\"14\"/>\n",
       "<circle clip-path=\"url(#clip8303)\" style=\"fill:#000000; stroke:none; fill-opacity:1\" cx=\"879.105\" cy=\"1000.14\" r=\"18\"/>\n",
       "<circle clip-path=\"url(#clip8303)\" style=\"fill:#009af9; stroke:none; fill-opacity:1\" cx=\"879.105\" cy=\"1000.14\" r=\"14\"/>\n",
       "<circle clip-path=\"url(#clip8303)\" style=\"fill:#000000; stroke:none; fill-opacity:1\" cx=\"1401.68\" cy=\"594.626\" r=\"18\"/>\n",
       "<circle clip-path=\"url(#clip8303)\" style=\"fill:#009af9; stroke:none; fill-opacity:1\" cx=\"1401.68\" cy=\"594.626\" r=\"14\"/>\n",
       "<circle clip-path=\"url(#clip8303)\" style=\"fill:#000000; stroke:none; fill-opacity:1\" cx=\"1112.96\" cy=\"826.846\" r=\"18\"/>\n",
       "<circle clip-path=\"url(#clip8303)\" style=\"fill:#009af9; stroke:none; fill-opacity:1\" cx=\"1112.96\" cy=\"826.846\" r=\"14\"/>\n",
       "<circle clip-path=\"url(#clip8303)\" style=\"fill:#000000; stroke:none; fill-opacity:1\" cx=\"1398.26\" cy=\"362.282\" r=\"18\"/>\n",
       "<circle clip-path=\"url(#clip8303)\" style=\"fill:#009af9; stroke:none; fill-opacity:1\" cx=\"1398.26\" cy=\"362.282\" r=\"14\"/>\n",
       "<circle clip-path=\"url(#clip8303)\" style=\"fill:#000000; stroke:none; fill-opacity:1\" cx=\"1266.12\" cy=\"875.204\" r=\"18\"/>\n",
       "<circle clip-path=\"url(#clip8303)\" style=\"fill:#009af9; stroke:none; fill-opacity:1\" cx=\"1266.12\" cy=\"875.204\" r=\"14\"/>\n",
       "<circle clip-path=\"url(#clip8303)\" style=\"fill:#000000; stroke:none; fill-opacity:1\" cx=\"1282.68\" cy=\"1156.84\" r=\"18\"/>\n",
       "<circle clip-path=\"url(#clip8303)\" style=\"fill:#009af9; stroke:none; fill-opacity:1\" cx=\"1282.68\" cy=\"1156.84\" r=\"14\"/>\n",
       "<circle clip-path=\"url(#clip8303)\" style=\"fill:#000000; stroke:none; fill-opacity:1\" cx=\"1644.47\" cy=\"641.679\" r=\"18\"/>\n",
       "<circle clip-path=\"url(#clip8303)\" style=\"fill:#009af9; stroke:none; fill-opacity:1\" cx=\"1644.47\" cy=\"641.679\" r=\"14\"/>\n",
       "<circle clip-path=\"url(#clip8303)\" style=\"fill:#000000; stroke:none; fill-opacity:1\" cx=\"1671.62\" cy=\"618.784\" r=\"18\"/>\n",
       "<circle clip-path=\"url(#clip8303)\" style=\"fill:#009af9; stroke:none; fill-opacity:1\" cx=\"1671.62\" cy=\"618.784\" r=\"14\"/>\n",
       "<circle clip-path=\"url(#clip8303)\" style=\"fill:#000000; stroke:none; fill-opacity:1\" cx=\"1317.39\" cy=\"1092.12\" r=\"18\"/>\n",
       "<circle clip-path=\"url(#clip8303)\" style=\"fill:#009af9; stroke:none; fill-opacity:1\" cx=\"1317.39\" cy=\"1092.12\" r=\"14\"/>\n",
       "<circle clip-path=\"url(#clip8303)\" style=\"fill:#000000; stroke:none; fill-opacity:1\" cx=\"1199.94\" cy=\"837.616\" r=\"18\"/>\n",
       "<circle clip-path=\"url(#clip8303)\" style=\"fill:#009af9; stroke:none; fill-opacity:1\" cx=\"1199.94\" cy=\"837.616\" r=\"14\"/>\n",
       "<circle clip-path=\"url(#clip8303)\" style=\"fill:#000000; stroke:none; fill-opacity:1\" cx=\"1147.3\" cy=\"822.069\" r=\"18\"/>\n",
       "<circle clip-path=\"url(#clip8303)\" style=\"fill:#009af9; stroke:none; fill-opacity:1\" cx=\"1147.3\" cy=\"822.069\" r=\"14\"/>\n",
       "<circle clip-path=\"url(#clip8303)\" style=\"fill:#000000; stroke:none; fill-opacity:1\" cx=\"679.236\" cy=\"1310.2\" r=\"18\"/>\n",
       "<circle clip-path=\"url(#clip8303)\" style=\"fill:#009af9; stroke:none; fill-opacity:1\" cx=\"679.236\" cy=\"1310.2\" r=\"14\"/>\n",
       "<circle clip-path=\"url(#clip8303)\" style=\"fill:#000000; stroke:none; fill-opacity:1\" cx=\"954.173\" cy=\"841.613\" r=\"18\"/>\n",
       "<circle clip-path=\"url(#clip8303)\" style=\"fill:#009af9; stroke:none; fill-opacity:1\" cx=\"954.173\" cy=\"841.613\" r=\"14\"/>\n",
       "<circle clip-path=\"url(#clip8303)\" style=\"fill:#000000; stroke:none; fill-opacity:1\" cx=\"848.25\" cy=\"956.836\" r=\"18\"/>\n",
       "<circle clip-path=\"url(#clip8303)\" style=\"fill:#009af9; stroke:none; fill-opacity:1\" cx=\"848.25\" cy=\"956.836\" r=\"14\"/>\n",
       "<circle clip-path=\"url(#clip8303)\" style=\"fill:#000000; stroke:none; fill-opacity:1\" cx=\"656.311\" cy=\"1275.94\" r=\"18\"/>\n",
       "<circle clip-path=\"url(#clip8303)\" style=\"fill:#009af9; stroke:none; fill-opacity:1\" cx=\"656.311\" cy=\"1275.94\" r=\"14\"/>\n",
       "<circle clip-path=\"url(#clip8303)\" style=\"fill:#000000; stroke:none; fill-opacity:1\" cx=\"977.551\" cy=\"741.832\" r=\"18\"/>\n",
       "<circle clip-path=\"url(#clip8303)\" style=\"fill:#009af9; stroke:none; fill-opacity:1\" cx=\"977.551\" cy=\"741.832\" r=\"14\"/>\n",
       "<circle clip-path=\"url(#clip8303)\" style=\"fill:#000000; stroke:none; fill-opacity:1\" cx=\"1307.62\" cy=\"857.054\" r=\"18\"/>\n",
       "<circle clip-path=\"url(#clip8303)\" style=\"fill:#009af9; stroke:none; fill-opacity:1\" cx=\"1307.62\" cy=\"857.054\" r=\"14\"/>\n",
       "<circle clip-path=\"url(#clip8303)\" style=\"fill:#000000; stroke:none; fill-opacity:1\" cx=\"1261.76\" cy=\"963.896\" r=\"18\"/>\n",
       "<circle clip-path=\"url(#clip8303)\" style=\"fill:#009af9; stroke:none; fill-opacity:1\" cx=\"1261.76\" cy=\"963.896\" r=\"14\"/>\n",
       "<circle clip-path=\"url(#clip8303)\" style=\"fill:#000000; stroke:none; fill-opacity:1\" cx=\"1105.88\" cy=\"964.421\" r=\"18\"/>\n",
       "<circle clip-path=\"url(#clip8303)\" style=\"fill:#009af9; stroke:none; fill-opacity:1\" cx=\"1105.88\" cy=\"964.421\" r=\"14\"/>\n",
       "<circle clip-path=\"url(#clip8303)\" style=\"fill:#000000; stroke:none; fill-opacity:1\" cx=\"1140.29\" cy=\"630.433\" r=\"18\"/>\n",
       "<circle clip-path=\"url(#clip8303)\" style=\"fill:#009af9; stroke:none; fill-opacity:1\" cx=\"1140.29\" cy=\"630.433\" r=\"14\"/>\n",
       "<circle clip-path=\"url(#clip8303)\" style=\"fill:#000000; stroke:none; fill-opacity:1\" cx=\"1509.39\" cy=\"901.009\" r=\"18\"/>\n",
       "<circle clip-path=\"url(#clip8303)\" style=\"fill:#009af9; stroke:none; fill-opacity:1\" cx=\"1509.39\" cy=\"901.009\" r=\"14\"/>\n",
       "<circle clip-path=\"url(#clip8303)\" style=\"fill:#000000; stroke:none; fill-opacity:1\" cx=\"934.735\" cy=\"842.636\" r=\"18\"/>\n",
       "<circle clip-path=\"url(#clip8303)\" style=\"fill:#009af9; stroke:none; fill-opacity:1\" cx=\"934.735\" cy=\"842.636\" r=\"14\"/>\n",
       "<circle clip-path=\"url(#clip8303)\" style=\"fill:#000000; stroke:none; fill-opacity:1\" cx=\"914.202\" cy=\"1068.74\" r=\"18\"/>\n",
       "<circle clip-path=\"url(#clip8303)\" style=\"fill:#009af9; stroke:none; fill-opacity:1\" cx=\"914.202\" cy=\"1068.74\" r=\"14\"/>\n",
       "<circle clip-path=\"url(#clip8303)\" style=\"fill:#000000; stroke:none; fill-opacity:1\" cx=\"1144.31\" cy=\"795.776\" r=\"18\"/>\n",
       "<circle clip-path=\"url(#clip8303)\" style=\"fill:#009af9; stroke:none; fill-opacity:1\" cx=\"1144.31\" cy=\"795.776\" r=\"14\"/>\n",
       "<circle clip-path=\"url(#clip8303)\" style=\"fill:#000000; stroke:none; fill-opacity:1\" cx=\"944.408\" cy=\"969.161\" r=\"18\"/>\n",
       "<circle clip-path=\"url(#clip8303)\" style=\"fill:#009af9; stroke:none; fill-opacity:1\" cx=\"944.408\" cy=\"969.161\" r=\"14\"/>\n",
       "<circle clip-path=\"url(#clip8303)\" style=\"fill:#000000; stroke:none; fill-opacity:1\" cx=\"680.743\" cy=\"1227.82\" r=\"18\"/>\n",
       "<circle clip-path=\"url(#clip8303)\" style=\"fill:#009af9; stroke:none; fill-opacity:1\" cx=\"680.743\" cy=\"1227.82\" r=\"14\"/>\n",
       "<circle clip-path=\"url(#clip8303)\" style=\"fill:#000000; stroke:none; fill-opacity:1\" cx=\"1083.66\" cy=\"1028.54\" r=\"18\"/>\n",
       "<circle clip-path=\"url(#clip8303)\" style=\"fill:#009af9; stroke:none; fill-opacity:1\" cx=\"1083.66\" cy=\"1028.54\" r=\"14\"/>\n",
       "<circle clip-path=\"url(#clip8303)\" style=\"fill:#000000; stroke:none; fill-opacity:1\" cx=\"888.165\" cy=\"933.001\" r=\"18\"/>\n",
       "<circle clip-path=\"url(#clip8303)\" style=\"fill:#009af9; stroke:none; fill-opacity:1\" cx=\"888.165\" cy=\"933.001\" r=\"14\"/>\n",
       "<circle clip-path=\"url(#clip8303)\" style=\"fill:#000000; stroke:none; fill-opacity:1\" cx=\"705.892\" cy=\"1107.87\" r=\"18\"/>\n",
       "<circle clip-path=\"url(#clip8303)\" style=\"fill:#009af9; stroke:none; fill-opacity:1\" cx=\"705.892\" cy=\"1107.87\" r=\"14\"/>\n",
       "<circle clip-path=\"url(#clip8303)\" style=\"fill:#000000; stroke:none; fill-opacity:1\" cx=\"1096.26\" cy=\"803.503\" r=\"18\"/>\n",
       "<circle clip-path=\"url(#clip8303)\" style=\"fill:#009af9; stroke:none; fill-opacity:1\" cx=\"1096.26\" cy=\"803.503\" r=\"14\"/>\n",
       "<circle clip-path=\"url(#clip8303)\" style=\"fill:#000000; stroke:none; fill-opacity:1\" cx=\"973.785\" cy=\"793.332\" r=\"18\"/>\n",
       "<circle clip-path=\"url(#clip8303)\" style=\"fill:#009af9; stroke:none; fill-opacity:1\" cx=\"973.785\" cy=\"793.332\" r=\"14\"/>\n",
       "<circle clip-path=\"url(#clip8303)\" style=\"fill:#000000; stroke:none; fill-opacity:1\" cx=\"839.646\" cy=\"1024.78\" r=\"18\"/>\n",
       "<circle clip-path=\"url(#clip8303)\" style=\"fill:#009af9; stroke:none; fill-opacity:1\" cx=\"839.646\" cy=\"1024.78\" r=\"14\"/>\n",
       "<circle clip-path=\"url(#clip8303)\" style=\"fill:#000000; stroke:none; fill-opacity:1\" cx=\"1300.69\" cy=\"524.886\" r=\"18\"/>\n",
       "<circle clip-path=\"url(#clip8303)\" style=\"fill:#009af9; stroke:none; fill-opacity:1\" cx=\"1300.69\" cy=\"524.886\" r=\"14\"/>\n",
       "<circle clip-path=\"url(#clip8303)\" style=\"fill:#000000; stroke:none; fill-opacity:1\" cx=\"1622.4\" cy=\"326.084\" r=\"18\"/>\n",
       "<circle clip-path=\"url(#clip8303)\" style=\"fill:#009af9; stroke:none; fill-opacity:1\" cx=\"1622.4\" cy=\"326.084\" r=\"14\"/>\n",
       "<circle clip-path=\"url(#clip8303)\" style=\"fill:#000000; stroke:none; fill-opacity:1\" cx=\"1368.37\" cy=\"394.668\" r=\"18\"/>\n",
       "<circle clip-path=\"url(#clip8303)\" style=\"fill:#009af9; stroke:none; fill-opacity:1\" cx=\"1368.37\" cy=\"394.668\" r=\"14\"/>\n",
       "<circle clip-path=\"url(#clip8303)\" style=\"fill:#000000; stroke:none; fill-opacity:1\" cx=\"931.925\" cy=\"778.76\" r=\"18\"/>\n",
       "<circle clip-path=\"url(#clip8303)\" style=\"fill:#009af9; stroke:none; fill-opacity:1\" cx=\"931.925\" cy=\"778.76\" r=\"14\"/>\n",
       "<circle clip-path=\"url(#clip8303)\" style=\"fill:#000000; stroke:none; fill-opacity:1\" cx=\"1506.83\" cy=\"987.492\" r=\"18\"/>\n",
       "<circle clip-path=\"url(#clip8303)\" style=\"fill:#009af9; stroke:none; fill-opacity:1\" cx=\"1506.83\" cy=\"987.492\" r=\"14\"/>\n",
       "<circle clip-path=\"url(#clip8303)\" style=\"fill:#000000; stroke:none; fill-opacity:1\" cx=\"1153.03\" cy=\"701.21\" r=\"18\"/>\n",
       "<circle clip-path=\"url(#clip8303)\" style=\"fill:#009af9; stroke:none; fill-opacity:1\" cx=\"1153.03\" cy=\"701.21\" r=\"14\"/>\n",
       "<circle clip-path=\"url(#clip8303)\" style=\"fill:#000000; stroke:none; fill-opacity:1\" cx=\"1313.64\" cy=\"559.479\" r=\"18\"/>\n",
       "<circle clip-path=\"url(#clip8303)\" style=\"fill:#009af9; stroke:none; fill-opacity:1\" cx=\"1313.64\" cy=\"559.479\" r=\"14\"/>\n",
       "<circle clip-path=\"url(#clip8303)\" style=\"fill:#000000; stroke:none; fill-opacity:1\" cx=\"847.1\" cy=\"1113.38\" r=\"18\"/>\n",
       "<circle clip-path=\"url(#clip8303)\" style=\"fill:#009af9; stroke:none; fill-opacity:1\" cx=\"847.1\" cy=\"1113.38\" r=\"14\"/>\n",
       "<circle clip-path=\"url(#clip8303)\" style=\"fill:#000000; stroke:none; fill-opacity:1\" cx=\"1271.23\" cy=\"458.303\" r=\"18\"/>\n",
       "<circle clip-path=\"url(#clip8303)\" style=\"fill:#009af9; stroke:none; fill-opacity:1\" cx=\"1271.23\" cy=\"458.303\" r=\"14\"/>\n",
       "<circle clip-path=\"url(#clip8303)\" style=\"fill:#000000; stroke:none; fill-opacity:1\" cx=\"907.672\" cy=\"810.696\" r=\"18\"/>\n",
       "<circle clip-path=\"url(#clip8303)\" style=\"fill:#009af9; stroke:none; fill-opacity:1\" cx=\"907.672\" cy=\"810.696\" r=\"14\"/>\n",
       "<circle clip-path=\"url(#clip8303)\" style=\"fill:#000000; stroke:none; fill-opacity:1\" cx=\"1349.04\" cy=\"996.753\" r=\"18\"/>\n",
       "<circle clip-path=\"url(#clip8303)\" style=\"fill:#009af9; stroke:none; fill-opacity:1\" cx=\"1349.04\" cy=\"996.753\" r=\"14\"/>\n",
       "<circle clip-path=\"url(#clip8303)\" style=\"fill:#000000; stroke:none; fill-opacity:1\" cx=\"1358.54\" cy=\"796.084\" r=\"18\"/>\n",
       "<circle clip-path=\"url(#clip8303)\" style=\"fill:#009af9; stroke:none; fill-opacity:1\" cx=\"1358.54\" cy=\"796.084\" r=\"14\"/>\n",
       "<circle clip-path=\"url(#clip8303)\" style=\"fill:#000000; stroke:none; fill-opacity:1\" cx=\"1362.51\" cy=\"889.253\" r=\"18\"/>\n",
       "<circle clip-path=\"url(#clip8303)\" style=\"fill:#009af9; stroke:none; fill-opacity:1\" cx=\"1362.51\" cy=\"889.253\" r=\"14\"/>\n",
       "<circle clip-path=\"url(#clip8303)\" style=\"fill:#000000; stroke:none; fill-opacity:1\" cx=\"1795.68\" cy=\"481.822\" r=\"18\"/>\n",
       "<circle clip-path=\"url(#clip8303)\" style=\"fill:#009af9; stroke:none; fill-opacity:1\" cx=\"1795.68\" cy=\"481.822\" r=\"14\"/>\n",
       "<circle clip-path=\"url(#clip8303)\" style=\"fill:#000000; stroke:none; fill-opacity:1\" cx=\"1316.74\" cy=\"980.044\" r=\"18\"/>\n",
       "<circle clip-path=\"url(#clip8303)\" style=\"fill:#009af9; stroke:none; fill-opacity:1\" cx=\"1316.74\" cy=\"980.044\" r=\"14\"/>\n",
       "<circle clip-path=\"url(#clip8303)\" style=\"fill:#000000; stroke:none; fill-opacity:1\" cx=\"1332.16\" cy=\"497.305\" r=\"18\"/>\n",
       "<circle clip-path=\"url(#clip8303)\" style=\"fill:#009af9; stroke:none; fill-opacity:1\" cx=\"1332.16\" cy=\"497.305\" r=\"14\"/>\n",
       "<circle clip-path=\"url(#clip8303)\" style=\"fill:#000000; stroke:none; fill-opacity:1\" cx=\"1177.5\" cy=\"830.083\" r=\"18\"/>\n",
       "<circle clip-path=\"url(#clip8303)\" style=\"fill:#009af9; stroke:none; fill-opacity:1\" cx=\"1177.5\" cy=\"830.083\" r=\"14\"/>\n",
       "<circle clip-path=\"url(#clip8303)\" style=\"fill:#000000; stroke:none; fill-opacity:1\" cx=\"1029.58\" cy=\"1095.31\" r=\"18\"/>\n",
       "<circle clip-path=\"url(#clip8303)\" style=\"fill:#009af9; stroke:none; fill-opacity:1\" cx=\"1029.58\" cy=\"1095.31\" r=\"14\"/>\n",
       "<circle clip-path=\"url(#clip8303)\" style=\"fill:#000000; stroke:none; fill-opacity:1\" cx=\"847.935\" cy=\"845.789\" r=\"18\"/>\n",
       "<circle clip-path=\"url(#clip8303)\" style=\"fill:#009af9; stroke:none; fill-opacity:1\" cx=\"847.935\" cy=\"845.789\" r=\"14\"/>\n",
       "<circle clip-path=\"url(#clip8303)\" style=\"fill:#000000; stroke:none; fill-opacity:1\" cx=\"890.785\" cy=\"1051.13\" r=\"18\"/>\n",
       "<circle clip-path=\"url(#clip8303)\" style=\"fill:#009af9; stroke:none; fill-opacity:1\" cx=\"890.785\" cy=\"1051.13\" r=\"14\"/>\n",
       "<circle clip-path=\"url(#clip8303)\" style=\"fill:#000000; stroke:none; fill-opacity:1\" cx=\"789.834\" cy=\"1111.93\" r=\"18\"/>\n",
       "<circle clip-path=\"url(#clip8303)\" style=\"fill:#009af9; stroke:none; fill-opacity:1\" cx=\"789.834\" cy=\"1111.93\" r=\"14\"/>\n",
       "<circle clip-path=\"url(#clip8303)\" style=\"fill:#000000; stroke:none; fill-opacity:1\" cx=\"1358.85\" cy=\"793.686\" r=\"18\"/>\n",
       "<circle clip-path=\"url(#clip8303)\" style=\"fill:#009af9; stroke:none; fill-opacity:1\" cx=\"1358.85\" cy=\"793.686\" r=\"14\"/>\n",
       "<circle clip-path=\"url(#clip8303)\" style=\"fill:#000000; stroke:none; fill-opacity:1\" cx=\"1569.53\" cy=\"667.818\" r=\"18\"/>\n",
       "<circle clip-path=\"url(#clip8303)\" style=\"fill:#009af9; stroke:none; fill-opacity:1\" cx=\"1569.53\" cy=\"667.818\" r=\"14\"/>\n",
       "<circle clip-path=\"url(#clip8303)\" style=\"fill:#000000; stroke:none; fill-opacity:1\" cx=\"1515.72\" cy=\"796.857\" r=\"18\"/>\n",
       "<circle clip-path=\"url(#clip8303)\" style=\"fill:#009af9; stroke:none; fill-opacity:1\" cx=\"1515.72\" cy=\"796.857\" r=\"14\"/>\n",
       "<circle clip-path=\"url(#clip8303)\" style=\"fill:#000000; stroke:none; fill-opacity:1\" cx=\"1222.51\" cy=\"469.662\" r=\"18\"/>\n",
       "<circle clip-path=\"url(#clip8303)\" style=\"fill:#009af9; stroke:none; fill-opacity:1\" cx=\"1222.51\" cy=\"469.662\" r=\"14\"/>\n",
       "<circle clip-path=\"url(#clip8303)\" style=\"fill:#000000; stroke:none; fill-opacity:1\" cx=\"1436.95\" cy=\"1044.37\" r=\"18\"/>\n",
       "<circle clip-path=\"url(#clip8303)\" style=\"fill:#009af9; stroke:none; fill-opacity:1\" cx=\"1436.95\" cy=\"1044.37\" r=\"14\"/>\n",
       "<circle clip-path=\"url(#clip8303)\" style=\"fill:#000000; stroke:none; fill-opacity:1\" cx=\"1299.73\" cy=\"451.454\" r=\"18\"/>\n",
       "<circle clip-path=\"url(#clip8303)\" style=\"fill:#009af9; stroke:none; fill-opacity:1\" cx=\"1299.73\" cy=\"451.454\" r=\"14\"/>\n",
       "<circle clip-path=\"url(#clip8303)\" style=\"fill:#000000; stroke:none; fill-opacity:1\" cx=\"1272.28\" cy=\"568.444\" r=\"18\"/>\n",
       "<circle clip-path=\"url(#clip8303)\" style=\"fill:#009af9; stroke:none; fill-opacity:1\" cx=\"1272.28\" cy=\"568.444\" r=\"14\"/>\n",
       "<circle clip-path=\"url(#clip8303)\" style=\"fill:#000000; stroke:none; fill-opacity:1\" cx=\"1027.41\" cy=\"965.617\" r=\"18\"/>\n",
       "<circle clip-path=\"url(#clip8303)\" style=\"fill:#009af9; stroke:none; fill-opacity:1\" cx=\"1027.41\" cy=\"965.617\" r=\"14\"/>\n",
       "<circle clip-path=\"url(#clip8303)\" style=\"fill:#000000; stroke:none; fill-opacity:1\" cx=\"1417.76\" cy=\"845.566\" r=\"18\"/>\n",
       "<circle clip-path=\"url(#clip8303)\" style=\"fill:#009af9; stroke:none; fill-opacity:1\" cx=\"1417.76\" cy=\"845.566\" r=\"14\"/>\n",
       "<circle clip-path=\"url(#clip8303)\" style=\"fill:#000000; stroke:none; fill-opacity:1\" cx=\"1235.75\" cy=\"976.935\" r=\"18\"/>\n",
       "<circle clip-path=\"url(#clip8303)\" style=\"fill:#009af9; stroke:none; fill-opacity:1\" cx=\"1235.75\" cy=\"976.935\" r=\"14\"/>\n",
       "<circle clip-path=\"url(#clip8303)\" style=\"fill:#000000; stroke:none; fill-opacity:1\" cx=\"1207.57\" cy=\"665.684\" r=\"18\"/>\n",
       "<circle clip-path=\"url(#clip8303)\" style=\"fill:#009af9; stroke:none; fill-opacity:1\" cx=\"1207.57\" cy=\"665.684\" r=\"14\"/>\n",
       "<circle clip-path=\"url(#clip8303)\" style=\"fill:#000000; stroke:none; fill-opacity:1\" cx=\"1341.94\" cy=\"767.678\" r=\"18\"/>\n",
       "<circle clip-path=\"url(#clip8303)\" style=\"fill:#009af9; stroke:none; fill-opacity:1\" cx=\"1341.94\" cy=\"767.678\" r=\"14\"/>\n",
       "<circle clip-path=\"url(#clip8303)\" style=\"fill:#000000; stroke:none; fill-opacity:1\" cx=\"1229.54\" cy=\"928.274\" r=\"18\"/>\n",
       "<circle clip-path=\"url(#clip8303)\" style=\"fill:#009af9; stroke:none; fill-opacity:1\" cx=\"1229.54\" cy=\"928.274\" r=\"14\"/>\n",
       "<circle clip-path=\"url(#clip8303)\" style=\"fill:#000000; stroke:none; fill-opacity:1\" cx=\"1516.19\" cy=\"635.478\" r=\"18\"/>\n",
       "<circle clip-path=\"url(#clip8303)\" style=\"fill:#009af9; stroke:none; fill-opacity:1\" cx=\"1516.19\" cy=\"635.478\" r=\"14\"/>\n",
       "<circle clip-path=\"url(#clip8303)\" style=\"fill:#000000; stroke:none; fill-opacity:1\" cx=\"1706.59\" cy=\"469.068\" r=\"18\"/>\n",
       "<circle clip-path=\"url(#clip8303)\" style=\"fill:#009af9; stroke:none; fill-opacity:1\" cx=\"1706.59\" cy=\"469.068\" r=\"14\"/>\n",
       "<circle clip-path=\"url(#clip8303)\" style=\"fill:#000000; stroke:none; fill-opacity:1\" cx=\"998.343\" cy=\"1204.85\" r=\"18\"/>\n",
       "<circle clip-path=\"url(#clip8303)\" style=\"fill:#009af9; stroke:none; fill-opacity:1\" cx=\"998.343\" cy=\"1204.85\" r=\"14\"/>\n",
       "<circle clip-path=\"url(#clip8303)\" style=\"fill:#000000; stroke:none; fill-opacity:1\" cx=\"1703.72\" cy=\"561.393\" r=\"18\"/>\n",
       "<circle clip-path=\"url(#clip8303)\" style=\"fill:#009af9; stroke:none; fill-opacity:1\" cx=\"1703.72\" cy=\"561.393\" r=\"14\"/>\n",
       "<circle clip-path=\"url(#clip8303)\" style=\"fill:#000000; stroke:none; fill-opacity:1\" cx=\"1181.62\" cy=\"819.511\" r=\"18\"/>\n",
       "<circle clip-path=\"url(#clip8303)\" style=\"fill:#009af9; stroke:none; fill-opacity:1\" cx=\"1181.62\" cy=\"819.511\" r=\"14\"/>\n",
       "<circle clip-path=\"url(#clip8303)\" style=\"fill:#000000; stroke:none; fill-opacity:1\" cx=\"1073.25\" cy=\"778.589\" r=\"18\"/>\n",
       "<circle clip-path=\"url(#clip8303)\" style=\"fill:#009af9; stroke:none; fill-opacity:1\" cx=\"1073.25\" cy=\"778.589\" r=\"14\"/>\n",
       "<circle clip-path=\"url(#clip8303)\" style=\"fill:#000000; stroke:none; fill-opacity:1\" cx=\"1713.28\" cy=\"417.742\" r=\"18\"/>\n",
       "<circle clip-path=\"url(#clip8303)\" style=\"fill:#009af9; stroke:none; fill-opacity:1\" cx=\"1713.28\" cy=\"417.742\" r=\"14\"/>\n",
       "<circle clip-path=\"url(#clip8303)\" style=\"fill:#000000; stroke:none; fill-opacity:1\" cx=\"881.973\" cy=\"1096.94\" r=\"18\"/>\n",
       "<circle clip-path=\"url(#clip8303)\" style=\"fill:#009af9; stroke:none; fill-opacity:1\" cx=\"881.973\" cy=\"1096.94\" r=\"14\"/>\n",
       "<circle clip-path=\"url(#clip8303)\" style=\"fill:#000000; stroke:none; fill-opacity:1\" cx=\"1223.63\" cy=\"965.845\" r=\"18\"/>\n",
       "<circle clip-path=\"url(#clip8303)\" style=\"fill:#009af9; stroke:none; fill-opacity:1\" cx=\"1223.63\" cy=\"965.845\" r=\"14\"/>\n",
       "<circle clip-path=\"url(#clip8303)\" style=\"fill:#000000; stroke:none; fill-opacity:1\" cx=\"1057\" cy=\"745.824\" r=\"18\"/>\n",
       "<circle clip-path=\"url(#clip8303)\" style=\"fill:#009af9; stroke:none; fill-opacity:1\" cx=\"1057\" cy=\"745.824\" r=\"14\"/>\n",
       "<circle clip-path=\"url(#clip8303)\" style=\"fill:#000000; stroke:none; fill-opacity:1\" cx=\"1336.59\" cy=\"940.947\" r=\"18\"/>\n",
       "<circle clip-path=\"url(#clip8303)\" style=\"fill:#009af9; stroke:none; fill-opacity:1\" cx=\"1336.59\" cy=\"940.947\" r=\"14\"/>\n",
       "<circle clip-path=\"url(#clip8303)\" style=\"fill:#000000; stroke:none; fill-opacity:1\" cx=\"1692.94\" cy=\"463.745\" r=\"18\"/>\n",
       "<circle clip-path=\"url(#clip8303)\" style=\"fill:#009af9; stroke:none; fill-opacity:1\" cx=\"1692.94\" cy=\"463.745\" r=\"14\"/>\n",
       "<circle clip-path=\"url(#clip8303)\" style=\"fill:#000000; stroke:none; fill-opacity:1\" cx=\"1707.96\" cy=\"458.579\" r=\"18\"/>\n",
       "<circle clip-path=\"url(#clip8303)\" style=\"fill:#009af9; stroke:none; fill-opacity:1\" cx=\"1707.96\" cy=\"458.579\" r=\"14\"/>\n",
       "<circle clip-path=\"url(#clip8303)\" style=\"fill:#000000; stroke:none; fill-opacity:1\" cx=\"1780.12\" cy=\"393.218\" r=\"18\"/>\n",
       "<circle clip-path=\"url(#clip8303)\" style=\"fill:#009af9; stroke:none; fill-opacity:1\" cx=\"1780.12\" cy=\"393.218\" r=\"14\"/>\n",
       "<circle clip-path=\"url(#clip8303)\" style=\"fill:#000000; stroke:none; fill-opacity:1\" cx=\"1369.05\" cy=\"526.159\" r=\"18\"/>\n",
       "<circle clip-path=\"url(#clip8303)\" style=\"fill:#009af9; stroke:none; fill-opacity:1\" cx=\"1369.05\" cy=\"526.159\" r=\"14\"/>\n",
       "<circle clip-path=\"url(#clip8303)\" style=\"fill:#000000; stroke:none; fill-opacity:1\" cx=\"1019.85\" cy=\"1137.84\" r=\"18\"/>\n",
       "<circle clip-path=\"url(#clip8303)\" style=\"fill:#009af9; stroke:none; fill-opacity:1\" cx=\"1019.85\" cy=\"1137.84\" r=\"14\"/>\n",
       "<circle clip-path=\"url(#clip8303)\" style=\"fill:#000000; stroke:none; fill-opacity:1\" cx=\"1830.14\" cy=\"419.105\" r=\"18\"/>\n",
       "<circle clip-path=\"url(#clip8303)\" style=\"fill:#009af9; stroke:none; fill-opacity:1\" cx=\"1830.14\" cy=\"419.105\" r=\"14\"/>\n",
       "<circle clip-path=\"url(#clip8303)\" style=\"fill:#000000; stroke:none; fill-opacity:1\" cx=\"1296.67\" cy=\"874.593\" r=\"18\"/>\n",
       "<circle clip-path=\"url(#clip8303)\" style=\"fill:#009af9; stroke:none; fill-opacity:1\" cx=\"1296.67\" cy=\"874.593\" r=\"14\"/>\n",
       "<circle clip-path=\"url(#clip8303)\" style=\"fill:#000000; stroke:none; fill-opacity:1\" cx=\"1074.38\" cy=\"965.807\" r=\"18\"/>\n",
       "<circle clip-path=\"url(#clip8303)\" style=\"fill:#009af9; stroke:none; fill-opacity:1\" cx=\"1074.38\" cy=\"965.807\" r=\"14\"/>\n",
       "<circle clip-path=\"url(#clip8303)\" style=\"fill:#000000; stroke:none; fill-opacity:1\" cx=\"1587.48\" cy=\"691.566\" r=\"18\"/>\n",
       "<circle clip-path=\"url(#clip8303)\" style=\"fill:#009af9; stroke:none; fill-opacity:1\" cx=\"1587.48\" cy=\"691.566\" r=\"14\"/>\n",
       "<circle clip-path=\"url(#clip8303)\" style=\"fill:#000000; stroke:none; fill-opacity:1\" cx=\"765.404\" cy=\"981.234\" r=\"18\"/>\n",
       "<circle clip-path=\"url(#clip8303)\" style=\"fill:#009af9; stroke:none; fill-opacity:1\" cx=\"765.404\" cy=\"981.234\" r=\"14\"/>\n",
       "<circle clip-path=\"url(#clip8303)\" style=\"fill:#000000; stroke:none; fill-opacity:1\" cx=\"1292.25\" cy=\"960.89\" r=\"18\"/>\n",
       "<circle clip-path=\"url(#clip8303)\" style=\"fill:#009af9; stroke:none; fill-opacity:1\" cx=\"1292.25\" cy=\"960.89\" r=\"14\"/>\n",
       "<circle clip-path=\"url(#clip8303)\" style=\"fill:#000000; stroke:none; fill-opacity:1\" cx=\"908.27\" cy=\"877.807\" r=\"18\"/>\n",
       "<circle clip-path=\"url(#clip8303)\" style=\"fill:#009af9; stroke:none; fill-opacity:1\" cx=\"908.27\" cy=\"877.807\" r=\"14\"/>\n",
       "<circle clip-path=\"url(#clip8303)\" style=\"fill:#000000; stroke:none; fill-opacity:1\" cx=\"1313.47\" cy=\"447.677\" r=\"18\"/>\n",
       "<circle clip-path=\"url(#clip8303)\" style=\"fill:#009af9; stroke:none; fill-opacity:1\" cx=\"1313.47\" cy=\"447.677\" r=\"14\"/>\n",
       "<circle clip-path=\"url(#clip8303)\" style=\"fill:#000000; stroke:none; fill-opacity:1\" cx=\"1233.9\" cy=\"459.093\" r=\"18\"/>\n",
       "<circle clip-path=\"url(#clip8303)\" style=\"fill:#009af9; stroke:none; fill-opacity:1\" cx=\"1233.9\" cy=\"459.093\" r=\"14\"/>\n",
       "<circle clip-path=\"url(#clip8303)\" style=\"fill:#000000; stroke:none; fill-opacity:1\" cx=\"1419.29\" cy=\"874.783\" r=\"18\"/>\n",
       "<circle clip-path=\"url(#clip8303)\" style=\"fill:#009af9; stroke:none; fill-opacity:1\" cx=\"1419.29\" cy=\"874.783\" r=\"14\"/>\n",
       "<circle clip-path=\"url(#clip8303)\" style=\"fill:#000000; stroke:none; fill-opacity:1\" cx=\"1032.34\" cy=\"959.144\" r=\"18\"/>\n",
       "<circle clip-path=\"url(#clip8303)\" style=\"fill:#009af9; stroke:none; fill-opacity:1\" cx=\"1032.34\" cy=\"959.144\" r=\"14\"/>\n",
       "<circle clip-path=\"url(#clip8303)\" style=\"fill:#000000; stroke:none; fill-opacity:1\" cx=\"1297.19\" cy=\"983.274\" r=\"18\"/>\n",
       "<circle clip-path=\"url(#clip8303)\" style=\"fill:#009af9; stroke:none; fill-opacity:1\" cx=\"1297.19\" cy=\"983.274\" r=\"14\"/>\n",
       "<circle clip-path=\"url(#clip8303)\" style=\"fill:#000000; stroke:none; fill-opacity:1\" cx=\"1044.4\" cy=\"661.905\" r=\"18\"/>\n",
       "<circle clip-path=\"url(#clip8303)\" style=\"fill:#009af9; stroke:none; fill-opacity:1\" cx=\"1044.4\" cy=\"661.905\" r=\"14\"/>\n",
       "<circle clip-path=\"url(#clip8303)\" style=\"fill:#000000; stroke:none; fill-opacity:1\" cx=\"1760.94\" cy=\"447.59\" r=\"18\"/>\n",
       "<circle clip-path=\"url(#clip8303)\" style=\"fill:#009af9; stroke:none; fill-opacity:1\" cx=\"1760.94\" cy=\"447.59\" r=\"14\"/>\n",
       "<circle clip-path=\"url(#clip8303)\" style=\"fill:#000000; stroke:none; fill-opacity:1\" cx=\"1174.29\" cy=\"690.012\" r=\"18\"/>\n",
       "<circle clip-path=\"url(#clip8303)\" style=\"fill:#009af9; stroke:none; fill-opacity:1\" cx=\"1174.29\" cy=\"690.012\" r=\"14\"/>\n",
       "<circle clip-path=\"url(#clip8303)\" style=\"fill:#000000; stroke:none; fill-opacity:1\" cx=\"1150.93\" cy=\"698.109\" r=\"18\"/>\n",
       "<circle clip-path=\"url(#clip8303)\" style=\"fill:#009af9; stroke:none; fill-opacity:1\" cx=\"1150.93\" cy=\"698.109\" r=\"14\"/>\n",
       "<circle clip-path=\"url(#clip8303)\" style=\"fill:#000000; stroke:none; fill-opacity:1\" cx=\"1492.92\" cy=\"856.134\" r=\"18\"/>\n",
       "<circle clip-path=\"url(#clip8303)\" style=\"fill:#009af9; stroke:none; fill-opacity:1\" cx=\"1492.92\" cy=\"856.134\" r=\"14\"/>\n",
       "<circle clip-path=\"url(#clip8303)\" style=\"fill:#000000; stroke:none; fill-opacity:1\" cx=\"1474.99\" cy=\"617.649\" r=\"18\"/>\n",
       "<circle clip-path=\"url(#clip8303)\" style=\"fill:#009af9; stroke:none; fill-opacity:1\" cx=\"1474.99\" cy=\"617.649\" r=\"14\"/>\n",
       "<circle clip-path=\"url(#clip8303)\" style=\"fill:#000000; stroke:none; fill-opacity:1\" cx=\"1601.92\" cy=\"772.361\" r=\"18\"/>\n",
       "<circle clip-path=\"url(#clip8303)\" style=\"fill:#009af9; stroke:none; fill-opacity:1\" cx=\"1601.92\" cy=\"772.361\" r=\"14\"/>\n",
       "<circle clip-path=\"url(#clip8303)\" style=\"fill:#000000; stroke:none; fill-opacity:1\" cx=\"1609.54\" cy=\"656.568\" r=\"18\"/>\n",
       "<circle clip-path=\"url(#clip8303)\" style=\"fill:#009af9; stroke:none; fill-opacity:1\" cx=\"1609.54\" cy=\"656.568\" r=\"14\"/>\n",
       "<circle clip-path=\"url(#clip8303)\" style=\"fill:#000000; stroke:none; fill-opacity:1\" cx=\"1495.31\" cy=\"988.775\" r=\"18\"/>\n",
       "<circle clip-path=\"url(#clip8303)\" style=\"fill:#009af9; stroke:none; fill-opacity:1\" cx=\"1495.31\" cy=\"988.775\" r=\"14\"/>\n",
       "<circle clip-path=\"url(#clip8303)\" style=\"fill:#000000; stroke:none; fill-opacity:1\" cx=\"998.486\" cy=\"830.962\" r=\"18\"/>\n",
       "<circle clip-path=\"url(#clip8303)\" style=\"fill:#009af9; stroke:none; fill-opacity:1\" cx=\"998.486\" cy=\"830.962\" r=\"14\"/>\n",
       "<circle clip-path=\"url(#clip8303)\" style=\"fill:#000000; stroke:none; fill-opacity:1\" cx=\"960.122\" cy=\"983.911\" r=\"18\"/>\n",
       "<circle clip-path=\"url(#clip8303)\" style=\"fill:#009af9; stroke:none; fill-opacity:1\" cx=\"960.122\" cy=\"983.911\" r=\"14\"/>\n",
       "<circle clip-path=\"url(#clip8303)\" style=\"fill:#000000; stroke:none; fill-opacity:1\" cx=\"1083.16\" cy=\"454.799\" r=\"18\"/>\n",
       "<circle clip-path=\"url(#clip8303)\" style=\"fill:#009af9; stroke:none; fill-opacity:1\" cx=\"1083.16\" cy=\"454.799\" r=\"14\"/>\n",
       "<circle clip-path=\"url(#clip8303)\" style=\"fill:#000000; stroke:none; fill-opacity:1\" cx=\"1065.71\" cy=\"1006.95\" r=\"18\"/>\n",
       "<circle clip-path=\"url(#clip8303)\" style=\"fill:#009af9; stroke:none; fill-opacity:1\" cx=\"1065.71\" cy=\"1006.95\" r=\"14\"/>\n",
       "<circle clip-path=\"url(#clip8303)\" style=\"fill:#000000; stroke:none; fill-opacity:1\" cx=\"1056.18\" cy=\"824.896\" r=\"18\"/>\n",
       "<circle clip-path=\"url(#clip8303)\" style=\"fill:#009af9; stroke:none; fill-opacity:1\" cx=\"1056.18\" cy=\"824.896\" r=\"14\"/>\n",
       "<circle clip-path=\"url(#clip8303)\" style=\"fill:#000000; stroke:none; fill-opacity:1\" cx=\"1357.09\" cy=\"488.815\" r=\"18\"/>\n",
       "<circle clip-path=\"url(#clip8303)\" style=\"fill:#009af9; stroke:none; fill-opacity:1\" cx=\"1357.09\" cy=\"488.815\" r=\"14\"/>\n",
       "<circle clip-path=\"url(#clip8303)\" style=\"fill:#000000; stroke:none; fill-opacity:1\" cx=\"1185.72\" cy=\"570.582\" r=\"18\"/>\n",
       "<circle clip-path=\"url(#clip8303)\" style=\"fill:#009af9; stroke:none; fill-opacity:1\" cx=\"1185.72\" cy=\"570.582\" r=\"14\"/>\n",
       "<circle clip-path=\"url(#clip8303)\" style=\"fill:#000000; stroke:none; fill-opacity:1\" cx=\"803.951\" cy=\"1232.42\" r=\"18\"/>\n",
       "<circle clip-path=\"url(#clip8303)\" style=\"fill:#009af9; stroke:none; fill-opacity:1\" cx=\"803.951\" cy=\"1232.42\" r=\"14\"/>\n",
       "<circle clip-path=\"url(#clip8303)\" style=\"fill:#000000; stroke:none; fill-opacity:1\" cx=\"1475.98\" cy=\"567.138\" r=\"18\"/>\n",
       "<circle clip-path=\"url(#clip8303)\" style=\"fill:#009af9; stroke:none; fill-opacity:1\" cx=\"1475.98\" cy=\"567.138\" r=\"14\"/>\n",
       "<circle clip-path=\"url(#clip8303)\" style=\"fill:#000000; stroke:none; fill-opacity:1\" cx=\"1093.09\" cy=\"1015.81\" r=\"18\"/>\n",
       "<circle clip-path=\"url(#clip8303)\" style=\"fill:#009af9; stroke:none; fill-opacity:1\" cx=\"1093.09\" cy=\"1015.81\" r=\"14\"/>\n",
       "<circle clip-path=\"url(#clip8303)\" style=\"fill:#000000; stroke:none; fill-opacity:1\" cx=\"1350.01\" cy=\"615.551\" r=\"18\"/>\n",
       "<circle clip-path=\"url(#clip8303)\" style=\"fill:#009af9; stroke:none; fill-opacity:1\" cx=\"1350.01\" cy=\"615.551\" r=\"14\"/>\n",
       "<circle clip-path=\"url(#clip8303)\" style=\"fill:#000000; stroke:none; fill-opacity:1\" cx=\"882.473\" cy=\"828.463\" r=\"18\"/>\n",
       "<circle clip-path=\"url(#clip8303)\" style=\"fill:#009af9; stroke:none; fill-opacity:1\" cx=\"882.473\" cy=\"828.463\" r=\"14\"/>\n",
       "<circle clip-path=\"url(#clip8303)\" style=\"fill:#000000; stroke:none; fill-opacity:1\" cx=\"1149.64\" cy=\"1201.75\" r=\"18\"/>\n",
       "<circle clip-path=\"url(#clip8303)\" style=\"fill:#009af9; stroke:none; fill-opacity:1\" cx=\"1149.64\" cy=\"1201.75\" r=\"14\"/>\n",
       "<circle clip-path=\"url(#clip8303)\" style=\"fill:#000000; stroke:none; fill-opacity:1\" cx=\"1445.54\" cy=\"878.056\" r=\"18\"/>\n",
       "<circle clip-path=\"url(#clip8303)\" style=\"fill:#009af9; stroke:none; fill-opacity:1\" cx=\"1445.54\" cy=\"878.056\" r=\"14\"/>\n",
       "<circle clip-path=\"url(#clip8303)\" style=\"fill:#000000; stroke:none; fill-opacity:1\" cx=\"1808.08\" cy=\"405.261\" r=\"18\"/>\n",
       "<circle clip-path=\"url(#clip8303)\" style=\"fill:#009af9; stroke:none; fill-opacity:1\" cx=\"1808.08\" cy=\"405.261\" r=\"14\"/>\n",
       "<circle clip-path=\"url(#clip8303)\" style=\"fill:#000000; stroke:none; fill-opacity:1\" cx=\"1248.08\" cy=\"1033.19\" r=\"18\"/>\n",
       "<circle clip-path=\"url(#clip8303)\" style=\"fill:#009af9; stroke:none; fill-opacity:1\" cx=\"1248.08\" cy=\"1033.19\" r=\"14\"/>\n",
       "<circle clip-path=\"url(#clip8303)\" style=\"fill:#000000; stroke:none; fill-opacity:1\" cx=\"1267.46\" cy=\"972.033\" r=\"18\"/>\n",
       "<circle clip-path=\"url(#clip8303)\" style=\"fill:#009af9; stroke:none; fill-opacity:1\" cx=\"1267.46\" cy=\"972.033\" r=\"14\"/>\n",
       "<circle clip-path=\"url(#clip8303)\" style=\"fill:#000000; stroke:none; fill-opacity:1\" cx=\"1145.32\" cy=\"730.534\" r=\"18\"/>\n",
       "<circle clip-path=\"url(#clip8303)\" style=\"fill:#009af9; stroke:none; fill-opacity:1\" cx=\"1145.32\" cy=\"730.534\" r=\"14\"/>\n",
       "<circle clip-path=\"url(#clip8303)\" style=\"fill:#000000; stroke:none; fill-opacity:1\" cx=\"1553.32\" cy=\"894.735\" r=\"18\"/>\n",
       "<circle clip-path=\"url(#clip8303)\" style=\"fill:#009af9; stroke:none; fill-opacity:1\" cx=\"1553.32\" cy=\"894.735\" r=\"14\"/>\n",
       "<circle clip-path=\"url(#clip8303)\" style=\"fill:#000000; stroke:none; fill-opacity:1\" cx=\"1414.44\" cy=\"656.326\" r=\"18\"/>\n",
       "<circle clip-path=\"url(#clip8303)\" style=\"fill:#009af9; stroke:none; fill-opacity:1\" cx=\"1414.44\" cy=\"656.326\" r=\"14\"/>\n",
       "<circle clip-path=\"url(#clip8303)\" style=\"fill:#000000; stroke:none; fill-opacity:1\" cx=\"800.647\" cy=\"1244.31\" r=\"18\"/>\n",
       "<circle clip-path=\"url(#clip8303)\" style=\"fill:#009af9; stroke:none; fill-opacity:1\" cx=\"800.647\" cy=\"1244.31\" r=\"14\"/>\n",
       "<circle clip-path=\"url(#clip8303)\" style=\"fill:#000000; stroke:none; fill-opacity:1\" cx=\"1424.81\" cy=\"797.997\" r=\"18\"/>\n",
       "<circle clip-path=\"url(#clip8303)\" style=\"fill:#009af9; stroke:none; fill-opacity:1\" cx=\"1424.81\" cy=\"797.997\" r=\"14\"/>\n",
       "<circle clip-path=\"url(#clip8303)\" style=\"fill:#000000; stroke:none; fill-opacity:1\" cx=\"1352.43\" cy=\"784.444\" r=\"18\"/>\n",
       "<circle clip-path=\"url(#clip8303)\" style=\"fill:#009af9; stroke:none; fill-opacity:1\" cx=\"1352.43\" cy=\"784.444\" r=\"14\"/>\n",
       "<circle clip-path=\"url(#clip8303)\" style=\"fill:#000000; stroke:none; fill-opacity:1\" cx=\"1383.14\" cy=\"397.464\" r=\"18\"/>\n",
       "<circle clip-path=\"url(#clip8303)\" style=\"fill:#009af9; stroke:none; fill-opacity:1\" cx=\"1383.14\" cy=\"397.464\" r=\"14\"/>\n",
       "<circle clip-path=\"url(#clip8303)\" style=\"fill:#000000; stroke:none; fill-opacity:1\" cx=\"1016.48\" cy=\"679.749\" r=\"18\"/>\n",
       "<circle clip-path=\"url(#clip8303)\" style=\"fill:#009af9; stroke:none; fill-opacity:1\" cx=\"1016.48\" cy=\"679.749\" r=\"14\"/>\n",
       "<circle clip-path=\"url(#clip8303)\" style=\"fill:#000000; stroke:none; fill-opacity:1\" cx=\"1158.42\" cy=\"1092.22\" r=\"18\"/>\n",
       "<circle clip-path=\"url(#clip8303)\" style=\"fill:#009af9; stroke:none; fill-opacity:1\" cx=\"1158.42\" cy=\"1092.22\" r=\"14\"/>\n",
       "<circle clip-path=\"url(#clip8303)\" style=\"fill:#000000; stroke:none; fill-opacity:1\" cx=\"1216.82\" cy=\"716.171\" r=\"18\"/>\n",
       "<circle clip-path=\"url(#clip8303)\" style=\"fill:#009af9; stroke:none; fill-opacity:1\" cx=\"1216.82\" cy=\"716.171\" r=\"14\"/>\n",
       "<circle clip-path=\"url(#clip8303)\" style=\"fill:#000000; stroke:none; fill-opacity:1\" cx=\"1208.46\" cy=\"627.336\" r=\"18\"/>\n",
       "<circle clip-path=\"url(#clip8303)\" style=\"fill:#009af9; stroke:none; fill-opacity:1\" cx=\"1208.46\" cy=\"627.336\" r=\"14\"/>\n",
       "<circle clip-path=\"url(#clip8303)\" style=\"fill:#000000; stroke:none; fill-opacity:1\" cx=\"1334.92\" cy=\"742.5\" r=\"18\"/>\n",
       "<circle clip-path=\"url(#clip8303)\" style=\"fill:#009af9; stroke:none; fill-opacity:1\" cx=\"1334.92\" cy=\"742.5\" r=\"14\"/>\n",
       "<circle clip-path=\"url(#clip8303)\" style=\"fill:#000000; stroke:none; fill-opacity:1\" cx=\"1620.88\" cy=\"749.865\" r=\"18\"/>\n",
       "<circle clip-path=\"url(#clip8303)\" style=\"fill:#009af9; stroke:none; fill-opacity:1\" cx=\"1620.88\" cy=\"749.865\" r=\"14\"/>\n",
       "<circle clip-path=\"url(#clip8303)\" style=\"fill:#000000; stroke:none; fill-opacity:1\" cx=\"1416.97\" cy=\"499.006\" r=\"18\"/>\n",
       "<circle clip-path=\"url(#clip8303)\" style=\"fill:#009af9; stroke:none; fill-opacity:1\" cx=\"1416.97\" cy=\"499.006\" r=\"14\"/>\n",
       "<circle clip-path=\"url(#clip8303)\" style=\"fill:#000000; stroke:none; fill-opacity:1\" cx=\"1301.76\" cy=\"904.04\" r=\"18\"/>\n",
       "<circle clip-path=\"url(#clip8303)\" style=\"fill:#009af9; stroke:none; fill-opacity:1\" cx=\"1301.76\" cy=\"904.04\" r=\"14\"/>\n",
       "<circle clip-path=\"url(#clip8303)\" style=\"fill:#000000; stroke:none; fill-opacity:1\" cx=\"1411.33\" cy=\"812.884\" r=\"18\"/>\n",
       "<circle clip-path=\"url(#clip8303)\" style=\"fill:#009af9; stroke:none; fill-opacity:1\" cx=\"1411.33\" cy=\"812.884\" r=\"14\"/>\n",
       "<circle clip-path=\"url(#clip8303)\" style=\"fill:#000000; stroke:none; fill-opacity:1\" cx=\"1020.44\" cy=\"524.869\" r=\"18\"/>\n",
       "<circle clip-path=\"url(#clip8303)\" style=\"fill:#009af9; stroke:none; fill-opacity:1\" cx=\"1020.44\" cy=\"524.869\" r=\"14\"/>\n",
       "<circle clip-path=\"url(#clip8303)\" style=\"fill:#000000; stroke:none; fill-opacity:1\" cx=\"971.991\" cy=\"658.366\" r=\"18\"/>\n",
       "<circle clip-path=\"url(#clip8303)\" style=\"fill:#009af9; stroke:none; fill-opacity:1\" cx=\"971.991\" cy=\"658.366\" r=\"14\"/>\n",
       "<circle clip-path=\"url(#clip8303)\" style=\"fill:#000000; stroke:none; fill-opacity:1\" cx=\"1301.14\" cy=\"1105.3\" r=\"18\"/>\n",
       "<circle clip-path=\"url(#clip8303)\" style=\"fill:#009af9; stroke:none; fill-opacity:1\" cx=\"1301.14\" cy=\"1105.3\" r=\"14\"/>\n",
       "<circle clip-path=\"url(#clip8303)\" style=\"fill:#000000; stroke:none; fill-opacity:1\" cx=\"1112.93\" cy=\"643.421\" r=\"18\"/>\n",
       "<circle clip-path=\"url(#clip8303)\" style=\"fill:#009af9; stroke:none; fill-opacity:1\" cx=\"1112.93\" cy=\"643.421\" r=\"14\"/>\n",
       "<circle clip-path=\"url(#clip8303)\" style=\"fill:#000000; stroke:none; fill-opacity:1\" cx=\"1572.39\" cy=\"482.765\" r=\"18\"/>\n",
       "<circle clip-path=\"url(#clip8303)\" style=\"fill:#009af9; stroke:none; fill-opacity:1\" cx=\"1572.39\" cy=\"482.765\" r=\"14\"/>\n",
       "<circle clip-path=\"url(#clip8303)\" style=\"fill:#000000; stroke:none; fill-opacity:1\" cx=\"1355.73\" cy=\"1078.01\" r=\"18\"/>\n",
       "<circle clip-path=\"url(#clip8303)\" style=\"fill:#009af9; stroke:none; fill-opacity:1\" cx=\"1355.73\" cy=\"1078.01\" r=\"14\"/>\n",
       "<circle clip-path=\"url(#clip8303)\" style=\"fill:#000000; stroke:none; fill-opacity:1\" cx=\"1108.94\" cy=\"1181.51\" r=\"18\"/>\n",
       "<circle clip-path=\"url(#clip8303)\" style=\"fill:#009af9; stroke:none; fill-opacity:1\" cx=\"1108.94\" cy=\"1181.51\" r=\"14\"/>\n",
       "<circle clip-path=\"url(#clip8303)\" style=\"fill:#000000; stroke:none; fill-opacity:1\" cx=\"1510.68\" cy=\"862.932\" r=\"18\"/>\n",
       "<circle clip-path=\"url(#clip8303)\" style=\"fill:#009af9; stroke:none; fill-opacity:1\" cx=\"1510.68\" cy=\"862.932\" r=\"14\"/>\n",
       "<circle clip-path=\"url(#clip8303)\" style=\"fill:#000000; stroke:none; fill-opacity:1\" cx=\"1452.94\" cy=\"570.996\" r=\"18\"/>\n",
       "<circle clip-path=\"url(#clip8303)\" style=\"fill:#009af9; stroke:none; fill-opacity:1\" cx=\"1452.94\" cy=\"570.996\" r=\"14\"/>\n",
       "<circle clip-path=\"url(#clip8303)\" style=\"fill:#000000; stroke:none; fill-opacity:1\" cx=\"975.096\" cy=\"1028\" r=\"18\"/>\n",
       "<circle clip-path=\"url(#clip8303)\" style=\"fill:#009af9; stroke:none; fill-opacity:1\" cx=\"975.096\" cy=\"1028\" r=\"14\"/>\n",
       "<circle clip-path=\"url(#clip8303)\" style=\"fill:#000000; stroke:none; fill-opacity:1\" cx=\"1412.22\" cy=\"1002.56\" r=\"18\"/>\n",
       "<circle clip-path=\"url(#clip8303)\" style=\"fill:#009af9; stroke:none; fill-opacity:1\" cx=\"1412.22\" cy=\"1002.56\" r=\"14\"/>\n",
       "<circle clip-path=\"url(#clip8303)\" style=\"fill:#000000; stroke:none; fill-opacity:1\" cx=\"1325.45\" cy=\"508.708\" r=\"18\"/>\n",
       "<circle clip-path=\"url(#clip8303)\" style=\"fill:#009af9; stroke:none; fill-opacity:1\" cx=\"1325.45\" cy=\"508.708\" r=\"14\"/>\n",
       "<circle clip-path=\"url(#clip8303)\" style=\"fill:#000000; stroke:none; fill-opacity:1\" cx=\"1638.96\" cy=\"346.468\" r=\"18\"/>\n",
       "<circle clip-path=\"url(#clip8303)\" style=\"fill:#009af9; stroke:none; fill-opacity:1\" cx=\"1638.96\" cy=\"346.468\" r=\"14\"/>\n",
       "<circle clip-path=\"url(#clip8303)\" style=\"fill:#000000; stroke:none; fill-opacity:1\" cx=\"1054.03\" cy=\"817.989\" r=\"18\"/>\n",
       "<circle clip-path=\"url(#clip8303)\" style=\"fill:#009af9; stroke:none; fill-opacity:1\" cx=\"1054.03\" cy=\"817.989\" r=\"14\"/>\n",
       "<circle clip-path=\"url(#clip8303)\" style=\"fill:#000000; stroke:none; fill-opacity:1\" cx=\"913.791\" cy=\"1117.63\" r=\"18\"/>\n",
       "<circle clip-path=\"url(#clip8303)\" style=\"fill:#009af9; stroke:none; fill-opacity:1\" cx=\"913.791\" cy=\"1117.63\" r=\"14\"/>\n",
       "<circle clip-path=\"url(#clip8303)\" style=\"fill:#000000; stroke:none; fill-opacity:1\" cx=\"1435.99\" cy=\"850.891\" r=\"18\"/>\n",
       "<circle clip-path=\"url(#clip8303)\" style=\"fill:#009af9; stroke:none; fill-opacity:1\" cx=\"1435.99\" cy=\"850.891\" r=\"14\"/>\n",
       "<circle clip-path=\"url(#clip8303)\" style=\"fill:#000000; stroke:none; fill-opacity:1\" cx=\"735.928\" cy=\"1188.34\" r=\"18\"/>\n",
       "<circle clip-path=\"url(#clip8303)\" style=\"fill:#009af9; stroke:none; fill-opacity:1\" cx=\"735.928\" cy=\"1188.34\" r=\"14\"/>\n",
       "<circle clip-path=\"url(#clip8303)\" style=\"fill:#000000; stroke:none; fill-opacity:1\" cx=\"1500.09\" cy=\"997.642\" r=\"18\"/>\n",
       "<circle clip-path=\"url(#clip8303)\" style=\"fill:#009af9; stroke:none; fill-opacity:1\" cx=\"1500.09\" cy=\"997.642\" r=\"14\"/>\n",
       "<polygon clip-path=\"url(#clip8301)\" points=\"\n",
       "1620.67,251.724 1911.5,251.724 1911.5,130.764 1620.67,130.764 \n",
       "  \" fill=\"#ffffff\" fill-rule=\"evenodd\" fill-opacity=\"1\"/>\n",
       "<polyline clip-path=\"url(#clip8301)\" style=\"stroke:#000000; stroke-width:4; stroke-opacity:1; fill:none\" points=\"\n",
       "  1620.67,251.724 1911.5,251.724 1911.5,130.764 1620.67,130.764 1620.67,251.724 \n",
       "  \"/>\n",
       "<circle clip-path=\"url(#clip8301)\" style=\"fill:#000000; stroke:none; fill-opacity:1\" cx=\"1728.67\" cy=\"191.244\" r=\"25\"/>\n",
       "<circle clip-path=\"url(#clip8301)\" style=\"fill:#009af9; stroke:none; fill-opacity:1\" cx=\"1728.67\" cy=\"191.244\" r=\"21\"/>\n",
       "<g clip-path=\"url(#clip8301)\">\n",
       "<text style=\"fill:#000000; fill-opacity:1; font-family:Arial,Helvetica Neue,Helvetica,sans-serif; font-size:48px; text-anchor:start;\" transform=\"rotate(0, 1812.67, 208.744)\" x=\"1812.67\" y=\"208.744\">y1</text>\n",
       "</g>\n",
       "</svg>\n"
      ]
     },
     "execution_count": 14,
     "metadata": {},
     "output_type": "execute_result"
    }
   ],
   "source": [
    "using Plots\n",
    "regX = 2 .* (rand(500) .- 0.5)\n",
    "regY = 2 .* (rand(500) .- 0.5)\n",
    "# regZ = 10 .+ ( ( regX.^2 + regY.^2) .+ 0.1 * (randn(500) .- 0.5) )\n",
    "regZ = 10 .+ 5 .* regX + 12 .* regY .+ 0.2 * (randn(500) .- 0.5) \n",
    "scatter(regX, regY, regZ)"
   ]
  },
  {
   "cell_type": "code",
   "execution_count": 15,
   "metadata": {
    "collapsed": false,
    "scrolled": false
   },
   "outputs": [
    {
     "name": "stderr",
     "output_type": "stream",
     "text": [
      "┌ Info: Epoch 1\n",
      "└ @ Main /Users/hughmurrell/.julia/packages/Flux/UHjNa/src/optimise/train.jl:93\n"
     ]
    },
    {
     "name": "stdout",
     "output_type": "stream",
     "text": [
      "sum([loss(i[1], i[2]) for i = regData]) = 75386.55337671295 (tracked)\n",
      "sum([loss(i[1], i[2]) for i = regData]) = 70491.72377985902 (tracked)\n"
     ]
    },
    {
     "name": "stderr",
     "output_type": "stream",
     "text": [
      "┌ Info: Epoch 2\n",
      "└ @ Main /Users/hughmurrell/.julia/packages/Flux/UHjNa/src/optimise/train.jl:93\n"
     ]
    },
    {
     "name": "stdout",
     "output_type": "stream",
     "text": [
      "sum([loss(i[1], i[2]) for i = regData]) = 65823.43784184172 (tracked)\n"
     ]
    },
    {
     "name": "stderr",
     "output_type": "stream",
     "text": [
      "┌ Info: Epoch 3\n",
      "└ @ Main /Users/hughmurrell/.julia/packages/Flux/UHjNa/src/optimise/train.jl:93\n"
     ]
    },
    {
     "name": "stdout",
     "output_type": "stream",
     "text": [
      "sum([loss(i[1], i[2]) for i = regData]) = 61388.15412735611 (tracked)\n"
     ]
    },
    {
     "name": "stderr",
     "output_type": "stream",
     "text": [
      "┌ Info: Epoch 4\n",
      "└ @ Main /Users/hughmurrell/.julia/packages/Flux/UHjNa/src/optimise/train.jl:93\n"
     ]
    },
    {
     "name": "stdout",
     "output_type": "stream",
     "text": [
      "sum([loss(i[1], i[2]) for i = regData]) = 57175.09854153359 (tracked)\n"
     ]
    },
    {
     "name": "stderr",
     "output_type": "stream",
     "text": [
      "┌ Info: Epoch 5\n",
      "└ @ Main /Users/hughmurrell/.julia/packages/Flux/UHjNa/src/optimise/train.jl:93\n"
     ]
    },
    {
     "name": "stdout",
     "output_type": "stream",
     "text": [
      "sum([loss(i[1], i[2]) for i = regData]) = 53172.09041582508 (tracked)\n"
     ]
    },
    {
     "name": "stderr",
     "output_type": "stream",
     "text": [
      "┌ Info: Epoch 6\n",
      "└ @ Main /Users/hughmurrell/.julia/packages/Flux/UHjNa/src/optimise/train.jl:93\n"
     ]
    },
    {
     "name": "stdout",
     "output_type": "stream",
     "text": [
      "sum([loss(i[1], i[2]) for i = regData]) = 49368.28691151546 (tracked)\n"
     ]
    },
    {
     "name": "stderr",
     "output_type": "stream",
     "text": [
      "┌ Info: Epoch 7\n",
      "└ @ Main /Users/hughmurrell/.julia/packages/Flux/UHjNa/src/optimise/train.jl:93\n"
     ]
    },
    {
     "name": "stdout",
     "output_type": "stream",
     "text": [
      "sum([loss(i[1], i[2]) for i = regData]) = 45754.53465880677 (tracked)\n"
     ]
    },
    {
     "name": "stderr",
     "output_type": "stream",
     "text": [
      "┌ Info: Epoch 8\n",
      "└ @ Main /Users/hughmurrell/.julia/packages/Flux/UHjNa/src/optimise/train.jl:93\n"
     ]
    },
    {
     "name": "stdout",
     "output_type": "stream",
     "text": [
      "sum([loss(i[1], i[2]) for i = regData]) = 42323.20950558517 (tracked)\n"
     ]
    },
    {
     "name": "stderr",
     "output_type": "stream",
     "text": [
      "┌ Info: Epoch 9\n",
      "└ @ Main /Users/hughmurrell/.julia/packages/Flux/UHjNa/src/optimise/train.jl:93\n"
     ]
    },
    {
     "name": "stdout",
     "output_type": "stream",
     "text": [
      "sum([loss(i[1], i[2]) for i = regData]) = 39067.92465027273 (tracked)\n"
     ]
    },
    {
     "name": "stderr",
     "output_type": "stream",
     "text": [
      "┌ Info: Epoch 10\n",
      "└ @ Main /Users/hughmurrell/.julia/packages/Flux/UHjNa/src/optimise/train.jl:93\n"
     ]
    },
    {
     "name": "stdout",
     "output_type": "stream",
     "text": [
      "sum([loss(i[1], i[2]) for i = regData]) = 35983.22641486849 (tracked)\n"
     ]
    },
    {
     "name": "stderr",
     "output_type": "stream",
     "text": [
      "┌ Info: Epoch 11\n",
      "└ @ Main /Users/hughmurrell/.julia/packages/Flux/UHjNa/src/optimise/train.jl:93\n"
     ]
    },
    {
     "name": "stdout",
     "output_type": "stream",
     "text": [
      "sum([loss(i[1], i[2]) for i = regData]) = 33064.32232119265 (tracked)\n"
     ]
    },
    {
     "name": "stderr",
     "output_type": "stream",
     "text": [
      "┌ Info: Epoch 12\n",
      "└ @ Main /Users/hughmurrell/.julia/packages/Flux/UHjNa/src/optimise/train.jl:93\n"
     ]
    },
    {
     "name": "stdout",
     "output_type": "stream",
     "text": [
      "sum([loss(i[1], i[2]) for i = regData]) = 30306.85630862735 (tracked)\n"
     ]
    },
    {
     "name": "stderr",
     "output_type": "stream",
     "text": [
      "┌ Info: Epoch 13\n",
      "└ @ Main /Users/hughmurrell/.julia/packages/Flux/UHjNa/src/optimise/train.jl:93\n"
     ]
    },
    {
     "name": "stdout",
     "output_type": "stream",
     "text": [
      "sum([loss(i[1], i[2]) for i = regData]) = 27706.731998176845 (tracked)\n"
     ]
    },
    {
     "name": "stderr",
     "output_type": "stream",
     "text": [
      "┌ Info: Epoch 14\n",
      "└ @ Main /Users/hughmurrell/.julia/packages/Flux/UHjNa/src/optimise/train.jl:93\n"
     ]
    },
    {
     "name": "stdout",
     "output_type": "stream",
     "text": [
      "sum([loss(i[1], i[2]) for i = regData]) = 25259.97857402162 (tracked)\n"
     ]
    },
    {
     "name": "stderr",
     "output_type": "stream",
     "text": [
      "┌ Info: Epoch 15\n",
      "└ @ Main /Users/hughmurrell/.julia/packages/Flux/UHjNa/src/optimise/train.jl:93\n"
     ]
    },
    {
     "name": "stdout",
     "output_type": "stream",
     "text": [
      "sum([loss(i[1], i[2]) for i = regData]) = 22962.651648993688 (tracked)\n"
     ]
    },
    {
     "name": "stderr",
     "output_type": "stream",
     "text": [
      "┌ Info: Epoch 16\n",
      "└ @ Main /Users/hughmurrell/.julia/packages/Flux/UHjNa/src/optimise/train.jl:93\n"
     ]
    },
    {
     "name": "stdout",
     "output_type": "stream",
     "text": [
      "sum([loss(i[1], i[2]) for i = regData]) = 20810.761481906924 (tracked)\n"
     ]
    },
    {
     "name": "stderr",
     "output_type": "stream",
     "text": [
      "┌ Info: Epoch 17\n",
      "└ @ Main /Users/hughmurrell/.julia/packages/Flux/UHjNa/src/optimise/train.jl:93\n"
     ]
    },
    {
     "name": "stdout",
     "output_type": "stream",
     "text": [
      "sum([loss(i[1], i[2]) for i = regData]) = 18800.22195547393 (tracked)\n"
     ]
    },
    {
     "name": "stderr",
     "output_type": "stream",
     "text": [
      "┌ Info: Epoch 18\n",
      "└ @ Main /Users/hughmurrell/.julia/packages/Flux/UHjNa/src/optimise/train.jl:93\n"
     ]
    },
    {
     "name": "stdout",
     "output_type": "stream",
     "text": [
      "sum([loss(i[1], i[2]) for i = regData]) = 16926.815117744118 (tracked)\n"
     ]
    },
    {
     "name": "stderr",
     "output_type": "stream",
     "text": [
      "┌ Info: Epoch 19\n",
      "└ @ Main /Users/hughmurrell/.julia/packages/Flux/UHjNa/src/optimise/train.jl:93\n"
     ]
    },
    {
     "name": "stdout",
     "output_type": "stream",
     "text": [
      "sum([loss(i[1], i[2]) for i = regData]) = 15186.167471748417 (tracked)\n"
     ]
    },
    {
     "name": "stderr",
     "output_type": "stream",
     "text": [
      "┌ Info: Epoch 20\n",
      "└ @ Main /Users/hughmurrell/.julia/packages/Flux/UHjNa/src/optimise/train.jl:93\n"
     ]
    },
    {
     "name": "stdout",
     "output_type": "stream",
     "text": [
      "sum([loss(i[1], i[2]) for i = regData]) = 13573.735402092616 (tracked)\n"
     ]
    },
    {
     "name": "stderr",
     "output_type": "stream",
     "text": [
      "┌ Info: Epoch 21\n",
      "└ @ Main /Users/hughmurrell/.julia/packages/Flux/UHjNa/src/optimise/train.jl:93\n"
     ]
    },
    {
     "name": "stdout",
     "output_type": "stream",
     "text": [
      "sum([loss(i[1], i[2]) for i = regData]) = 12084.798102065615 (tracked)\n"
     ]
    },
    {
     "name": "stderr",
     "output_type": "stream",
     "text": [
      "┌ Info: Epoch 22\n",
      "└ @ Main /Users/hughmurrell/.julia/packages/Flux/UHjNa/src/optimise/train.jl:93\n"
     ]
    },
    {
     "name": "stdout",
     "output_type": "stream",
     "text": [
      "sum([loss(i[1], i[2]) for i = regData]) = 10714.45711457596 (tracked)\n"
     ]
    },
    {
     "name": "stderr",
     "output_type": "stream",
     "text": [
      "┌ Info: Epoch 23\n",
      "└ @ Main /Users/hughmurrell/.julia/packages/Flux/UHjNa/src/optimise/train.jl:93\n"
     ]
    },
    {
     "name": "stdout",
     "output_type": "stream",
     "text": [
      "sum([loss(i[1], i[2]) for i = regData]) = 9457.642149458223 (tracked)\n"
     ]
    },
    {
     "name": "stderr",
     "output_type": "stream",
     "text": [
      "┌ Info: Epoch 24\n",
      "└ @ Main /Users/hughmurrell/.julia/packages/Flux/UHjNa/src/optimise/train.jl:93\n"
     ]
    },
    {
     "name": "stdout",
     "output_type": "stream",
     "text": [
      "sum([loss(i[1], i[2]) for i = regData]) = 8309.123214049177 (tracked)\n"
     ]
    },
    {
     "name": "stderr",
     "output_type": "stream",
     "text": [
      "┌ Info: Epoch 25\n",
      "└ @ Main /Users/hughmurrell/.julia/packages/Flux/UHjNa/src/optimise/train.jl:93\n"
     ]
    },
    {
     "name": "stdout",
     "output_type": "stream",
     "text": [
      "sum([loss(i[1], i[2]) for i = regData]) = 7263.529310950646 (tracked)\n"
     ]
    },
    {
     "name": "stderr",
     "output_type": "stream",
     "text": [
      "┌ Info: Epoch 26\n",
      "└ @ Main /Users/hughmurrell/.julia/packages/Flux/UHjNa/src/optimise/train.jl:93\n"
     ]
    },
    {
     "name": "stdout",
     "output_type": "stream",
     "text": [
      "sum([loss(i[1], i[2]) for i = regData]) = 6315.374023015797 (tracked)\n"
     ]
    },
    {
     "name": "stderr",
     "output_type": "stream",
     "text": [
      "┌ Info: Epoch 27\n",
      "└ @ Main /Users/hughmurrell/.julia/packages/Flux/UHjNa/src/optimise/train.jl:93\n"
     ]
    },
    {
     "name": "stdout",
     "output_type": "stream",
     "text": [
      "sum([loss(i[1], i[2]) for i = regData]) = 5459.0882170364475 (tracked)\n"
     ]
    },
    {
     "name": "stderr",
     "output_type": "stream",
     "text": [
      "┌ Info: Epoch 28\n",
      "└ @ Main /Users/hughmurrell/.julia/packages/Flux/UHjNa/src/optimise/train.jl:93\n"
     ]
    },
    {
     "name": "stdout",
     "output_type": "stream",
     "text": [
      "sum([loss(i[1], i[2]) for i = regData]) = 4689.059844045227 (tracked)\n"
     ]
    },
    {
     "name": "stderr",
     "output_type": "stream",
     "text": [
      "┌ Info: Epoch 29\n",
      "└ @ Main /Users/hughmurrell/.julia/packages/Flux/UHjNa/src/optimise/train.jl:93\n"
     ]
    },
    {
     "name": "stdout",
     "output_type": "stream",
     "text": [
      "sum([loss(i[1], i[2]) for i = regData]) = 3999.6803846851776 (tracked)\n",
      "sum([loss(i[1], i[2]) for i = regData]) = 3385.3968794046605 (tracked)\n"
     ]
    },
    {
     "name": "stderr",
     "output_type": "stream",
     "text": [
      "┌ Info: Epoch 30\n",
      "└ @ Main /Users/hughmurrell/.julia/packages/Flux/UHjNa/src/optimise/train.jl:93\n",
      "┌ Info: Epoch 31\n",
      "└ @ Main /Users/hughmurrell/.julia/packages/Flux/UHjNa/src/optimise/train.jl:93\n"
     ]
    },
    {
     "name": "stdout",
     "output_type": "stream",
     "text": [
      "sum([loss(i[1], i[2]) for i = regData]) = 2840.7677090446555 (tracked)\n"
     ]
    },
    {
     "name": "stderr",
     "output_type": "stream",
     "text": [
      "┌ Info: Epoch 32\n",
      "└ @ Main /Users/hughmurrell/.julia/packages/Flux/UHjNa/src/optimise/train.jl:93\n"
     ]
    },
    {
     "name": "stdout",
     "output_type": "stream",
     "text": [
      "sum([loss(i[1], i[2]) for i = regData]) = 2360.519391994384 (tracked)\n"
     ]
    },
    {
     "name": "stderr",
     "output_type": "stream",
     "text": [
      "┌ Info: Epoch 33\n",
      "└ @ Main /Users/hughmurrell/.julia/packages/Flux/UHjNa/src/optimise/train.jl:93\n"
     ]
    },
    {
     "name": "stdout",
     "output_type": "stream",
     "text": [
      "sum([loss(i[1], i[2]) for i = regData]) = 1939.6007132918303 (tracked)\n"
     ]
    },
    {
     "name": "stderr",
     "output_type": "stream",
     "text": [
      "┌ Info: Epoch 34\n",
      "└ @ Main /Users/hughmurrell/.julia/packages/Flux/UHjNa/src/optimise/train.jl:93\n"
     ]
    },
    {
     "name": "stdout",
     "output_type": "stream",
     "text": [
      "sum([loss(i[1], i[2]) for i = regData]) = 1573.2296073141506 (tracked)\n"
     ]
    },
    {
     "name": "stderr",
     "output_type": "stream",
     "text": [
      "┌ Info: Epoch 35\n",
      "└ @ Main /Users/hughmurrell/.julia/packages/Flux/UHjNa/src/optimise/train.jl:93\n"
     ]
    },
    {
     "name": "stdout",
     "output_type": "stream",
     "text": [
      "sum([loss(i[1], i[2]) for i = regData]) = 1256.9275151742563 (tracked)\n"
     ]
    },
    {
     "name": "stderr",
     "output_type": "stream",
     "text": [
      "┌ Info: Epoch 36\n",
      "└ @ Main /Users/hughmurrell/.julia/packages/Flux/UHjNa/src/optimise/train.jl:93\n"
     ]
    },
    {
     "name": "stdout",
     "output_type": "stream",
     "text": [
      "sum([loss(i[1], i[2]) for i = regData]) = 986.5355795609571 (tracked)\n"
     ]
    },
    {
     "name": "stderr",
     "output_type": "stream",
     "text": [
      "┌ Info: Epoch 37\n",
      "└ @ Main /Users/hughmurrell/.julia/packages/Flux/UHjNa/src/optimise/train.jl:93\n"
     ]
    },
    {
     "name": "stdout",
     "output_type": "stream",
     "text": [
      "sum([loss(i[1], i[2]) for i = regData]) = 758.2071693503182 (tracked)\n"
     ]
    },
    {
     "name": "stderr",
     "output_type": "stream",
     "text": [
      "┌ Info: Epoch 38\n",
      "└ @ Main /Users/hughmurrell/.julia/packages/Flux/UHjNa/src/optimise/train.jl:93\n"
     ]
    },
    {
     "name": "stdout",
     "output_type": "stream",
     "text": [
      "sum([loss(i[1], i[2]) for i = regData]) = 568.3719862626589 (tracked)\n"
     ]
    },
    {
     "name": "stderr",
     "output_type": "stream",
     "text": [
      "┌ Info: Epoch 39\n",
      "└ @ Main /Users/hughmurrell/.julia/packages/Flux/UHjNa/src/optimise/train.jl:93\n"
     ]
    },
    {
     "name": "stdout",
     "output_type": "stream",
     "text": [
      "sum([loss(i[1], i[2]) for i = regData]) = 413.66858070126153 (tracked)\n"
     ]
    },
    {
     "name": "stderr",
     "output_type": "stream",
     "text": [
      "┌ Info: Epoch 40\n",
      "└ @ Main /Users/hughmurrell/.julia/packages/Flux/UHjNa/src/optimise/train.jl:93\n"
     ]
    },
    {
     "name": "stdout",
     "output_type": "stream",
     "text": [
      "sum([loss(i[1], i[2]) for i = regData]) = 290.8448578914257 (tracked)\n"
     ]
    },
    {
     "name": "stderr",
     "output_type": "stream",
     "text": [
      "┌ Info: Epoch 41\n",
      "└ @ Main /Users/hughmurrell/.julia/packages/Flux/UHjNa/src/optimise/train.jl:93\n"
     ]
    },
    {
     "name": "stdout",
     "output_type": "stream",
     "text": [
      "sum([loss(i[1], i[2]) for i = regData]) = 196.63091513819563 (tracked)\n"
     ]
    },
    {
     "name": "stderr",
     "output_type": "stream",
     "text": [
      "┌ Info: Epoch 42\n",
      "└ @ Main /Users/hughmurrell/.julia/packages/Flux/UHjNa/src/optimise/train.jl:93\n"
     ]
    },
    {
     "name": "stdout",
     "output_type": "stream",
     "text": [
      "sum([loss(i[1], i[2]) for i = regData]) = 127.59703287800454 (tracked)\n"
     ]
    },
    {
     "name": "stderr",
     "output_type": "stream",
     "text": [
      "┌ Info: Epoch 43\n",
      "└ @ Main /Users/hughmurrell/.julia/packages/Flux/UHjNa/src/optimise/train.jl:93\n",
      "┌ Info: Epoch 44\n",
      "└ @ Main /Users/hughmurrell/.julia/packages/Flux/UHjNa/src/optimise/train.jl:93\n"
     ]
    },
    {
     "name": "stdout",
     "output_type": "stream",
     "text": [
      "sum([loss(i[1], i[2]) for i = regData]) = 80.02469857774715 (tracked)\n",
      "sum([loss(i[1], i[2]) for i = regData]) = 49.84271340816295 (tracked)\n"
     ]
    },
    {
     "name": "stderr",
     "output_type": "stream",
     "text": [
      "┌ Info: Epoch 45\n",
      "└ @ Main /Users/hughmurrell/.julia/packages/Flux/UHjNa/src/optimise/train.jl:93\n"
     ]
    },
    {
     "name": "stdout",
     "output_type": "stream",
     "text": [
      "sum([loss(i[1], i[2]) for i = regData]) = 32.70854816743618 (tracked)\n"
     ]
    },
    {
     "name": "stderr",
     "output_type": "stream",
     "text": [
      "┌ Info: Epoch 46\n",
      "└ @ Main /Users/hughmurrell/.julia/packages/Flux/UHjNa/src/optimise/train.jl:93\n"
     ]
    },
    {
     "name": "stdout",
     "output_type": "stream",
     "text": [
      "sum([loss(i[1], i[2]) for i = regData]) = 24.316036490936792 (tracked)\n"
     ]
    },
    {
     "name": "stderr",
     "output_type": "stream",
     "text": [
      "┌ Info: Epoch 47\n",
      "└ @ Main /Users/hughmurrell/.julia/packages/Flux/UHjNa/src/optimise/train.jl:93\n"
     ]
    },
    {
     "name": "stdout",
     "output_type": "stream",
     "text": [
      "sum([loss(i[1], i[2]) for i = regData]) = 20.91609847597018 (tracked)\n"
     ]
    },
    {
     "name": "stderr",
     "output_type": "stream",
     "text": [
      "┌ Info: Epoch 48\n",
      "└ @ Main /Users/hughmurrell/.julia/packages/Flux/UHjNa/src/optimise/train.jl:93\n"
     ]
    },
    {
     "name": "stdout",
     "output_type": "stream",
     "text": [
      "sum([loss(i[1], i[2]) for i = regData]) = 19.82278198533347 (tracked)\n"
     ]
    },
    {
     "name": "stderr",
     "output_type": "stream",
     "text": [
      "┌ Info: Epoch 49\n",
      "└ @ Main /Users/hughmurrell/.julia/packages/Flux/UHjNa/src/optimise/train.jl:93\n"
     ]
    },
    {
     "name": "stdout",
     "output_type": "stream",
     "text": [
      "sum([loss(i[1], i[2]) for i = regData]) = 19.5511902995626 (tracked)\n"
     ]
    },
    {
     "name": "stderr",
     "output_type": "stream",
     "text": [
      "┌ Info: Epoch 50\n",
      "└ @ Main /Users/hughmurrell/.julia/packages/Flux/UHjNa/src/optimise/train.jl:93\n"
     ]
    },
    {
     "name": "stdout",
     "output_type": "stream",
     "text": [
      "sum([loss(i[1], i[2]) for i = regData]) = 19.499264265957404 (tracked)\n"
     ]
    },
    {
     "name": "stderr",
     "output_type": "stream",
     "text": [
      "┌ Info: Epoch 51\n",
      "└ @ Main /Users/hughmurrell/.julia/packages/Flux/UHjNa/src/optimise/train.jl:93\n"
     ]
    },
    {
     "name": "stdout",
     "output_type": "stream",
     "text": [
      "sum([loss(i[1], i[2]) for i = regData]) = 19.492008350711377 (tracked)\n"
     ]
    },
    {
     "name": "stderr",
     "output_type": "stream",
     "text": [
      "┌ Info: Epoch 52\n",
      "└ @ Main /Users/hughmurrell/.julia/packages/Flux/UHjNa/src/optimise/train.jl:93\n"
     ]
    },
    {
     "name": "stdout",
     "output_type": "stream",
     "text": [
      "sum([loss(i[1], i[2]) for i = regData]) = 19.49210554928536 (tracked)\n"
     ]
    },
    {
     "name": "stderr",
     "output_type": "stream",
     "text": [
      "┌ Info: Epoch 53\n",
      "└ @ Main /Users/hughmurrell/.julia/packages/Flux/UHjNa/src/optimise/train.jl:93\n"
     ]
    },
    {
     "name": "stdout",
     "output_type": "stream",
     "text": [
      "sum([loss(i[1], i[2]) for i = regData]) = 19.493122237250805 (tracked)\n"
     ]
    },
    {
     "name": "stderr",
     "output_type": "stream",
     "text": [
      "┌ Info: Epoch 54\n",
      "└ @ Main /Users/hughmurrell/.julia/packages/Flux/UHjNa/src/optimise/train.jl:93\n"
     ]
    },
    {
     "name": "stdout",
     "output_type": "stream",
     "text": [
      "sum([loss(i[1], i[2]) for i = regData]) = 19.494012364096832 (tracked)\n"
     ]
    },
    {
     "name": "stderr",
     "output_type": "stream",
     "text": [
      "┌ Info: Epoch 55\n",
      "└ @ Main /Users/hughmurrell/.julia/packages/Flux/UHjNa/src/optimise/train.jl:93\n"
     ]
    },
    {
     "name": "stdout",
     "output_type": "stream",
     "text": [
      "sum([loss(i[1], i[2]) for i = regData]) = 19.49464260939233 (tracked)\n"
     ]
    },
    {
     "name": "stderr",
     "output_type": "stream",
     "text": [
      "┌ Info: Epoch 56\n",
      "└ @ Main /Users/hughmurrell/.julia/packages/Flux/UHjNa/src/optimise/train.jl:93\n"
     ]
    },
    {
     "name": "stdout",
     "output_type": "stream",
     "text": [
      "sum([loss(i[1], i[2]) for i = regData]) = 19.495055028475104 (tracked)\n"
     ]
    },
    {
     "name": "stderr",
     "output_type": "stream",
     "text": [
      "┌ Info: Epoch 57\n",
      "└ @ Main /Users/hughmurrell/.julia/packages/Flux/UHjNa/src/optimise/train.jl:93\n"
     ]
    },
    {
     "name": "stdout",
     "output_type": "stream",
     "text": [
      "sum([loss(i[1], i[2]) for i = regData]) = 19.495314952120527 (tracked)\n"
     ]
    },
    {
     "name": "stderr",
     "output_type": "stream",
     "text": [
      "┌ Info: Epoch 58\n",
      "└ @ Main /Users/hughmurrell/.julia/packages/Flux/UHjNa/src/optimise/train.jl:93\n"
     ]
    },
    {
     "name": "stdout",
     "output_type": "stream",
     "text": [
      "sum([loss(i[1], i[2]) for i = regData]) = 19.495475646617933 (tracked)\n"
     ]
    },
    {
     "name": "stderr",
     "output_type": "stream",
     "text": [
      "┌ Info: Epoch 59\n",
      "└ @ Main /Users/hughmurrell/.julia/packages/Flux/UHjNa/src/optimise/train.jl:93\n",
      "┌ Info: Epoch 60\n",
      "└ @ Main /Users/hughmurrell/.julia/packages/Flux/UHjNa/src/optimise/train.jl:93\n"
     ]
    },
    {
     "name": "stdout",
     "output_type": "stream",
     "text": [
      "sum([loss(i[1], i[2]) for i = regData]) = 19.49557399438549 (tracked)\n",
      "sum([loss(i[1], i[2]) for i = regData]) = 19.495633859618973 (tracked)\n"
     ]
    },
    {
     "name": "stderr",
     "output_type": "stream",
     "text": [
      "┌ Info: Epoch 61\n",
      "└ @ Main /Users/hughmurrell/.julia/packages/Flux/UHjNa/src/optimise/train.jl:93\n"
     ]
    },
    {
     "name": "stdout",
     "output_type": "stream",
     "text": [
      "sum([loss(i[1], i[2]) for i = regData]) = 19.495670192581013 (tracked)\n"
     ]
    },
    {
     "name": "stderr",
     "output_type": "stream",
     "text": [
      "┌ Info: Epoch 62\n",
      "└ @ Main /Users/hughmurrell/.julia/packages/Flux/UHjNa/src/optimise/train.jl:93\n"
     ]
    },
    {
     "name": "stdout",
     "output_type": "stream",
     "text": [
      "sum([loss(i[1], i[2]) for i = regData]) = 19.49569220732477 (tracked)\n"
     ]
    },
    {
     "name": "stderr",
     "output_type": "stream",
     "text": [
      "┌ Info: Epoch 63\n",
      "└ @ Main /Users/hughmurrell/.julia/packages/Flux/UHjNa/src/optimise/train.jl:93\n"
     ]
    },
    {
     "name": "stdout",
     "output_type": "stream",
     "text": [
      "sum([loss(i[1], i[2]) for i = regData]) = 19.495705534051684 (tracked)\n"
     ]
    },
    {
     "name": "stderr",
     "output_type": "stream",
     "text": [
      "┌ Info: Epoch 64\n",
      "└ @ Main /Users/hughmurrell/.julia/packages/Flux/UHjNa/src/optimise/train.jl:93\n"
     ]
    },
    {
     "name": "stdout",
     "output_type": "stream",
     "text": [
      "sum([loss(i[1], i[2]) for i = regData]) = 19.495713597155934 (tracked)\n"
     ]
    },
    {
     "name": "stderr",
     "output_type": "stream",
     "text": [
      "┌ Info: Epoch 65\n",
      "└ @ Main /Users/hughmurrell/.julia/packages/Flux/UHjNa/src/optimise/train.jl:93\n"
     ]
    },
    {
     "name": "stdout",
     "output_type": "stream",
     "text": [
      "sum([loss(i[1], i[2]) for i = regData]) = 19.49571847409007 (tracked)\n"
     ]
    },
    {
     "name": "stderr",
     "output_type": "stream",
     "text": [
      "┌ Info: Epoch 66\n",
      "└ @ Main /Users/hughmurrell/.julia/packages/Flux/UHjNa/src/optimise/train.jl:93\n"
     ]
    },
    {
     "name": "stdout",
     "output_type": "stream",
     "text": [
      "sum([loss(i[1], i[2]) for i = regData]) = 19.495721423348424 (tracked)\n"
     ]
    },
    {
     "name": "stderr",
     "output_type": "stream",
     "text": [
      "┌ Info: Epoch 67\n",
      "└ @ Main /Users/hughmurrell/.julia/packages/Flux/UHjNa/src/optimise/train.jl:93\n"
     ]
    },
    {
     "name": "stdout",
     "output_type": "stream",
     "text": [
      "sum([loss(i[1], i[2]) for i = regData]) = 19.495723206680594 (tracked)\n"
     ]
    },
    {
     "name": "stderr",
     "output_type": "stream",
     "text": [
      "┌ Info: Epoch 68\n",
      "└ @ Main /Users/hughmurrell/.julia/packages/Flux/UHjNa/src/optimise/train.jl:93\n"
     ]
    },
    {
     "name": "stdout",
     "output_type": "stream",
     "text": [
      "sum([loss(i[1], i[2]) for i = regData]) = 19.495724284941993 (tracked)\n"
     ]
    },
    {
     "name": "stderr",
     "output_type": "stream",
     "text": [
      "┌ Info: Epoch 69\n",
      "└ @ Main /Users/hughmurrell/.julia/packages/Flux/UHjNa/src/optimise/train.jl:93\n"
     ]
    },
    {
     "name": "stdout",
     "output_type": "stream",
     "text": [
      "sum([loss(i[1], i[2]) for i = regData]) = 19.495724936869628 (tracked)\n"
     ]
    },
    {
     "name": "stderr",
     "output_type": "stream",
     "text": [
      "┌ Info: Epoch 70\n",
      "└ @ Main /Users/hughmurrell/.julia/packages/Flux/UHjNa/src/optimise/train.jl:93\n"
     ]
    },
    {
     "name": "stdout",
     "output_type": "stream",
     "text": [
      "sum([loss(i[1], i[2]) for i = regData]) = 19.495725331022754 (tracked)\n"
     ]
    },
    {
     "name": "stderr",
     "output_type": "stream",
     "text": [
      "┌ Info: Epoch 71\n",
      "└ @ Main /Users/hughmurrell/.julia/packages/Flux/UHjNa/src/optimise/train.jl:93\n"
     ]
    },
    {
     "name": "stdout",
     "output_type": "stream",
     "text": [
      "sum([loss(i[1], i[2]) for i = regData]) = 19.49572556932289 (tracked)\n"
     ]
    },
    {
     "name": "stderr",
     "output_type": "stream",
     "text": [
      "┌ Info: Epoch 72\n",
      "└ @ Main /Users/hughmurrell/.julia/packages/Flux/UHjNa/src/optimise/train.jl:93\n"
     ]
    },
    {
     "name": "stdout",
     "output_type": "stream",
     "text": [
      "sum([loss(i[1], i[2]) for i = regData]) = 19.49572571339524 (tracked)\n"
     ]
    },
    {
     "name": "stderr",
     "output_type": "stream",
     "text": [
      "┌ Info: Epoch 73\n",
      "└ @ Main /Users/hughmurrell/.julia/packages/Flux/UHjNa/src/optimise/train.jl:93\n"
     ]
    },
    {
     "name": "stdout",
     "output_type": "stream",
     "text": [
      "sum([loss(i[1], i[2]) for i = regData]) = 19.495725800498708 (tracked)\n"
     ]
    },
    {
     "name": "stderr",
     "output_type": "stream",
     "text": [
      "┌ Info: Epoch 74\n",
      "└ @ Main /Users/hughmurrell/.julia/packages/Flux/UHjNa/src/optimise/train.jl:93\n"
     ]
    },
    {
     "name": "stdout",
     "output_type": "stream",
     "text": [
      "sum([loss(i[1], i[2]) for i = regData]) = 19.49572585315944 (tracked)\n"
     ]
    },
    {
     "name": "stderr",
     "output_type": "stream",
     "text": [
      "┌ Info: Epoch 75\n",
      "└ @ Main /Users/hughmurrell/.julia/packages/Flux/UHjNa/src/optimise/train.jl:93\n"
     ]
    },
    {
     "name": "stdout",
     "output_type": "stream",
     "text": [
      "sum([loss(i[1], i[2]) for i = regData]) = 19.49572588499704 (tracked)\n"
     ]
    },
    {
     "name": "stderr",
     "output_type": "stream",
     "text": [
      "┌ Info: Epoch 76\n",
      "└ @ Main /Users/hughmurrell/.julia/packages/Flux/UHjNa/src/optimise/train.jl:93\n"
     ]
    },
    {
     "name": "stdout",
     "output_type": "stream",
     "text": [
      "sum([loss(i[1], i[2]) for i = regData]) = 19.495725904245223 (tracked)\n"
     ]
    },
    {
     "name": "stderr",
     "output_type": "stream",
     "text": [
      "┌ Info: Epoch 77\n",
      "└ @ Main /Users/hughmurrell/.julia/packages/Flux/UHjNa/src/optimise/train.jl:93\n",
      "┌ Info: Epoch 78\n",
      "└ @ Main /Users/hughmurrell/.julia/packages/Flux/UHjNa/src/optimise/train.jl:93\n"
     ]
    },
    {
     "name": "stdout",
     "output_type": "stream",
     "text": [
      "sum([loss(i[1], i[2]) for i = regData]) = 19.4957259158823 (tracked)\n",
      "sum([loss(i[1], i[2]) for i = regData]) = 19.495725922917803 (tracked)\n"
     ]
    },
    {
     "name": "stderr",
     "output_type": "stream",
     "text": [
      "┌ Info: Epoch 79\n",
      "└ @ Main /Users/hughmurrell/.julia/packages/Flux/UHjNa/src/optimise/train.jl:93\n",
      "┌ Info: Epoch 80\n",
      "└ @ Main /Users/hughmurrell/.julia/packages/Flux/UHjNa/src/optimise/train.jl:93\n"
     ]
    },
    {
     "name": "stdout",
     "output_type": "stream",
     "text": [
      "sum([loss(i[1], i[2]) for i = regData]) = 19.495725927171243 (tracked)\n",
      "sum([loss(i[1], i[2]) for i = regData]) = 19.495725929742832 (tracked)\n"
     ]
    },
    {
     "name": "stderr",
     "output_type": "stream",
     "text": [
      "┌ Info: Epoch 81\n",
      "└ @ Main /Users/hughmurrell/.julia/packages/Flux/UHjNa/src/optimise/train.jl:93\n"
     ]
    },
    {
     "name": "stdout",
     "output_type": "stream",
     "text": [
      "sum([loss(i[1], i[2]) for i = regData]) = 19.49572593129752 (tracked)\n"
     ]
    },
    {
     "name": "stderr",
     "output_type": "stream",
     "text": [
      "┌ Info: Epoch 82\n",
      "└ @ Main /Users/hughmurrell/.julia/packages/Flux/UHjNa/src/optimise/train.jl:93\n"
     ]
    },
    {
     "name": "stdout",
     "output_type": "stream",
     "text": [
      "sum([loss(i[1], i[2]) for i = regData]) = 19.49572593223751 (tracked)\n"
     ]
    },
    {
     "name": "stderr",
     "output_type": "stream",
     "text": [
      "┌ Info: Epoch 83\n",
      "└ @ Main /Users/hughmurrell/.julia/packages/Flux/UHjNa/src/optimise/train.jl:93\n"
     ]
    },
    {
     "name": "stdout",
     "output_type": "stream",
     "text": [
      "sum([loss(i[1], i[2]) for i = regData]) = 19.495725932805748 (tracked)\n"
     ]
    },
    {
     "name": "stderr",
     "output_type": "stream",
     "text": [
      "┌ Info: Epoch 84\n",
      "└ @ Main /Users/hughmurrell/.julia/packages/Flux/UHjNa/src/optimise/train.jl:93\n"
     ]
    },
    {
     "name": "stdout",
     "output_type": "stream",
     "text": [
      "sum([loss(i[1], i[2]) for i = regData]) = 19.495725933149373 (tracked)\n"
     ]
    },
    {
     "name": "stderr",
     "output_type": "stream",
     "text": [
      "┌ Info: Epoch 85\n",
      "└ @ Main /Users/hughmurrell/.julia/packages/Flux/UHjNa/src/optimise/train.jl:93\n"
     ]
    },
    {
     "name": "stdout",
     "output_type": "stream",
     "text": [
      "sum([loss(i[1], i[2]) for i = regData]) = 19.495725933356994 (tracked)\n"
     ]
    },
    {
     "name": "stderr",
     "output_type": "stream",
     "text": [
      "┌ Info: Epoch 86\n",
      "└ @ Main /Users/hughmurrell/.julia/packages/Flux/UHjNa/src/optimise/train.jl:93\n"
     ]
    },
    {
     "name": "stdout",
     "output_type": "stream",
     "text": [
      "sum([loss(i[1], i[2]) for i = regData]) = 19.49572593348258 (tracked)\n"
     ]
    },
    {
     "name": "stderr",
     "output_type": "stream",
     "text": [
      "┌ Info: Epoch 87\n",
      "└ @ Main /Users/hughmurrell/.julia/packages/Flux/UHjNa/src/optimise/train.jl:93\n"
     ]
    },
    {
     "name": "stdout",
     "output_type": "stream",
     "text": [
      "sum([loss(i[1], i[2]) for i = regData]) = 19.495725933558553 (tracked)\n"
     ]
    },
    {
     "name": "stderr",
     "output_type": "stream",
     "text": [
      "┌ Info: Epoch 88\n",
      "└ @ Main /Users/hughmurrell/.julia/packages/Flux/UHjNa/src/optimise/train.jl:93\n"
     ]
    },
    {
     "name": "stdout",
     "output_type": "stream",
     "text": [
      "sum([loss(i[1], i[2]) for i = regData]) = 19.495725933604348 (tracked)\n"
     ]
    },
    {
     "name": "stderr",
     "output_type": "stream",
     "text": [
      "┌ Info: Epoch 89\n",
      "└ @ Main /Users/hughmurrell/.julia/packages/Flux/UHjNa/src/optimise/train.jl:93\n",
      "┌ Info: Epoch 90\n",
      "└ @ Main /Users/hughmurrell/.julia/packages/Flux/UHjNa/src/optimise/train.jl:93\n"
     ]
    },
    {
     "name": "stdout",
     "output_type": "stream",
     "text": [
      "sum([loss(i[1], i[2]) for i = regData]) = 19.495725933632258 (tracked)\n",
      "sum([loss(i[1], i[2]) for i = regData]) = 19.49572593364894 (tracked)\n"
     ]
    },
    {
     "name": "stderr",
     "output_type": "stream",
     "text": [
      "┌ Info: Epoch 91\n",
      "└ @ Main /Users/hughmurrell/.julia/packages/Flux/UHjNa/src/optimise/train.jl:93\n"
     ]
    },
    {
     "name": "stdout",
     "output_type": "stream",
     "text": [
      "sum([loss(i[1], i[2]) for i = regData]) = 19.495725933659134 (tracked)\n"
     ]
    },
    {
     "name": "stderr",
     "output_type": "stream",
     "text": [
      "┌ Info: Epoch 92\n",
      "└ @ Main /Users/hughmurrell/.julia/packages/Flux/UHjNa/src/optimise/train.jl:93\n"
     ]
    },
    {
     "name": "stdout",
     "output_type": "stream",
     "text": [
      "sum([loss(i[1], i[2]) for i = regData]) = 19.495725933665277 (tracked)\n"
     ]
    },
    {
     "name": "stderr",
     "output_type": "stream",
     "text": [
      "┌ Info: Epoch 93\n",
      "└ @ Main /Users/hughmurrell/.julia/packages/Flux/UHjNa/src/optimise/train.jl:93\n"
     ]
    },
    {
     "name": "stdout",
     "output_type": "stream",
     "text": [
      "sum([loss(i[1], i[2]) for i = regData]) = 19.495725933668997 (tracked)\n"
     ]
    },
    {
     "name": "stderr",
     "output_type": "stream",
     "text": [
      "┌ Info: Epoch 94\n",
      "└ @ Main /Users/hughmurrell/.julia/packages/Flux/UHjNa/src/optimise/train.jl:93\n"
     ]
    },
    {
     "name": "stdout",
     "output_type": "stream",
     "text": [
      "sum([loss(i[1], i[2]) for i = regData]) = 19.49572593367125 (tracked)\n"
     ]
    },
    {
     "name": "stderr",
     "output_type": "stream",
     "text": [
      "┌ Info: Epoch 95\n",
      "└ @ Main /Users/hughmurrell/.julia/packages/Flux/UHjNa/src/optimise/train.jl:93\n"
     ]
    },
    {
     "name": "stdout",
     "output_type": "stream",
     "text": [
      "sum([loss(i[1], i[2]) for i = regData]) = 19.495725933672517 (tracked)\n"
     ]
    },
    {
     "name": "stderr",
     "output_type": "stream",
     "text": [
      "┌ Info: Epoch 96\n",
      "└ @ Main /Users/hughmurrell/.julia/packages/Flux/UHjNa/src/optimise/train.jl:93\n"
     ]
    },
    {
     "name": "stdout",
     "output_type": "stream",
     "text": [
      "sum([loss(i[1], i[2]) for i = regData]) = 19.495725933673373 (tracked)\n"
     ]
    },
    {
     "name": "stderr",
     "output_type": "stream",
     "text": [
      "┌ Info: Epoch 97\n",
      "└ @ Main /Users/hughmurrell/.julia/packages/Flux/UHjNa/src/optimise/train.jl:93\n"
     ]
    },
    {
     "name": "stdout",
     "output_type": "stream",
     "text": [
      "sum([loss(i[1], i[2]) for i = regData]) = 19.49572593367386 (tracked)\n"
     ]
    },
    {
     "name": "stderr",
     "output_type": "stream",
     "text": [
      "┌ Info: Epoch 98\n",
      "└ @ Main /Users/hughmurrell/.julia/packages/Flux/UHjNa/src/optimise/train.jl:93\n"
     ]
    },
    {
     "name": "stdout",
     "output_type": "stream",
     "text": [
      "sum([loss(i[1], i[2]) for i = regData]) = 19.495725933674134 (tracked)\n"
     ]
    },
    {
     "name": "stderr",
     "output_type": "stream",
     "text": [
      "┌ Info: Epoch 99\n",
      "└ @ Main /Users/hughmurrell/.julia/packages/Flux/UHjNa/src/optimise/train.jl:93\n"
     ]
    },
    {
     "name": "stdout",
     "output_type": "stream",
     "text": [
      "sum([loss(i[1], i[2]) for i = regData]) = 19.495725933674336 (tracked)\n",
      "sum([loss(i[1], i[2]) for i = regData]) = 19.495725933674425 (tracked)\n"
     ]
    },
    {
     "name": "stderr",
     "output_type": "stream",
     "text": [
      "┌ Info: Epoch 100\n",
      "└ @ Main /Users/hughmurrell/.julia/packages/Flux/UHjNa/src/optimise/train.jl:93\n",
      "┌ Info: Epoch 101\n",
      "└ @ Main /Users/hughmurrell/.julia/packages/Flux/UHjNa/src/optimise/train.jl:93\n"
     ]
    },
    {
     "name": "stdout",
     "output_type": "stream",
     "text": [
      "sum([loss(i[1], i[2]) for i = regData]) = 19.495725933674496 (tracked)\n"
     ]
    },
    {
     "name": "stderr",
     "output_type": "stream",
     "text": [
      "┌ Info: Epoch 102\n",
      "└ @ Main /Users/hughmurrell/.julia/packages/Flux/UHjNa/src/optimise/train.jl:93\n"
     ]
    },
    {
     "name": "stdout",
     "output_type": "stream",
     "text": [
      "sum([loss(i[1], i[2]) for i = regData]) = 19.49572593367453 (tracked)\n"
     ]
    },
    {
     "name": "stderr",
     "output_type": "stream",
     "text": [
      "┌ Info: Epoch 103\n",
      "└ @ Main /Users/hughmurrell/.julia/packages/Flux/UHjNa/src/optimise/train.jl:93\n"
     ]
    },
    {
     "name": "stdout",
     "output_type": "stream",
     "text": [
      "sum([loss(i[1], i[2]) for i = regData]) = 19.49572593367455 (tracked)\n"
     ]
    },
    {
     "name": "stderr",
     "output_type": "stream",
     "text": [
      "┌ Info: Epoch 104\n",
      "└ @ Main /Users/hughmurrell/.julia/packages/Flux/UHjNa/src/optimise/train.jl:93\n"
     ]
    },
    {
     "name": "stdout",
     "output_type": "stream",
     "text": [
      "sum([loss(i[1], i[2]) for i = regData]) = 19.49572593367454 (tracked)\n"
     ]
    },
    {
     "name": "stderr",
     "output_type": "stream",
     "text": [
      "┌ Info: Epoch 105\n",
      "└ @ Main /Users/hughmurrell/.julia/packages/Flux/UHjNa/src/optimise/train.jl:93\n"
     ]
    },
    {
     "name": "stdout",
     "output_type": "stream",
     "text": [
      "sum([loss(i[1], i[2]) for i = regData]) = 19.495725933674542 (tracked)\n"
     ]
    },
    {
     "name": "stderr",
     "output_type": "stream",
     "text": [
      "┌ Info: Epoch 106\n",
      "└ @ Main /Users/hughmurrell/.julia/packages/Flux/UHjNa/src/optimise/train.jl:93\n"
     ]
    },
    {
     "name": "stdout",
     "output_type": "stream",
     "text": [
      "sum([loss(i[1], i[2]) for i = regData]) = 19.495725933674578 (tracked)\n"
     ]
    },
    {
     "name": "stderr",
     "output_type": "stream",
     "text": [
      "┌ Info: Epoch 107\n",
      "└ @ Main /Users/hughmurrell/.julia/packages/Flux/UHjNa/src/optimise/train.jl:93\n"
     ]
    },
    {
     "name": "stdout",
     "output_type": "stream",
     "text": [
      "sum([loss(i[1], i[2]) for i = regData]) = 19.495725933674567 (tracked)\n"
     ]
    },
    {
     "name": "stderr",
     "output_type": "stream",
     "text": [
      "┌ Info: Epoch 108\n",
      "└ @ Main /Users/hughmurrell/.julia/packages/Flux/UHjNa/src/optimise/train.jl:93\n"
     ]
    },
    {
     "name": "stdout",
     "output_type": "stream",
     "text": [
      "sum([loss(i[1], i[2]) for i = regData]) = 19.495725933674585 (tracked)\n"
     ]
    },
    {
     "name": "stderr",
     "output_type": "stream",
     "text": [
      "┌ Info: Epoch 109\n",
      "└ @ Main /Users/hughmurrell/.julia/packages/Flux/UHjNa/src/optimise/train.jl:93\n"
     ]
    },
    {
     "name": "stdout",
     "output_type": "stream",
     "text": [
      "sum([loss(i[1], i[2]) for i = regData]) = 19.495725933674564 (tracked)\n"
     ]
    },
    {
     "name": "stderr",
     "output_type": "stream",
     "text": [
      "┌ Info: Epoch 110\n",
      "└ @ Main /Users/hughmurrell/.julia/packages/Flux/UHjNa/src/optimise/train.jl:93\n",
      "┌ Info: Epoch 111\n",
      "└ @ Main /Users/hughmurrell/.julia/packages/Flux/UHjNa/src/optimise/train.jl:93\n"
     ]
    },
    {
     "name": "stdout",
     "output_type": "stream",
     "text": [
      "sum([loss(i[1], i[2]) for i = regData]) = 19.49572593367459 (tracked)\n",
      "sum([loss(i[1], i[2]) for i = regData]) = 19.495725933674578 (tracked)\n"
     ]
    },
    {
     "name": "stderr",
     "output_type": "stream",
     "text": [
      "┌ Info: Epoch 112\n",
      "└ @ Main /Users/hughmurrell/.julia/packages/Flux/UHjNa/src/optimise/train.jl:93\n"
     ]
    },
    {
     "name": "stdout",
     "output_type": "stream",
     "text": [
      "sum([loss(i[1], i[2]) for i = regData]) = 19.495725933674578 (tracked)\n"
     ]
    },
    {
     "name": "stderr",
     "output_type": "stream",
     "text": [
      "┌ Info: Epoch 113\n",
      "└ @ Main /Users/hughmurrell/.julia/packages/Flux/UHjNa/src/optimise/train.jl:93\n"
     ]
    },
    {
     "name": "stdout",
     "output_type": "stream",
     "text": [
      "sum([loss(i[1], i[2]) for i = regData]) = 19.495725933674578 (tracked)\n"
     ]
    },
    {
     "name": "stderr",
     "output_type": "stream",
     "text": [
      "┌ Info: Epoch 114\n",
      "└ @ Main /Users/hughmurrell/.julia/packages/Flux/UHjNa/src/optimise/train.jl:93\n"
     ]
    },
    {
     "name": "stdout",
     "output_type": "stream",
     "text": [
      "sum([loss(i[1], i[2]) for i = regData]) = 19.495725933674578 (tracked)\n"
     ]
    },
    {
     "name": "stderr",
     "output_type": "stream",
     "text": [
      "┌ Info: Epoch 115\n",
      "└ @ Main /Users/hughmurrell/.julia/packages/Flux/UHjNa/src/optimise/train.jl:93\n"
     ]
    },
    {
     "name": "stdout",
     "output_type": "stream",
     "text": [
      "sum([loss(i[1], i[2]) for i = regData]) = 19.495725933674578 (tracked)\n"
     ]
    },
    {
     "name": "stderr",
     "output_type": "stream",
     "text": [
      "┌ Info: Epoch 116\n",
      "└ @ Main /Users/hughmurrell/.julia/packages/Flux/UHjNa/src/optimise/train.jl:93\n",
      "┌ Info: Epoch 117\n",
      "└ @ Main /Users/hughmurrell/.julia/packages/Flux/UHjNa/src/optimise/train.jl:93\n"
     ]
    },
    {
     "name": "stdout",
     "output_type": "stream",
     "text": [
      "sum([loss(i[1], i[2]) for i = regData]) = 19.495725933674578 (tracked)\n",
      "sum([loss(i[1], i[2]) for i = regData]) = 19.495725933674578 (tracked)\n"
     ]
    },
    {
     "name": "stderr",
     "output_type": "stream",
     "text": [
      "┌ Info: Epoch 118\n",
      "└ @ Main /Users/hughmurrell/.julia/packages/Flux/UHjNa/src/optimise/train.jl:93\n"
     ]
    },
    {
     "name": "stdout",
     "output_type": "stream",
     "text": [
      "sum([loss(i[1], i[2]) for i = regData]) = 19.495725933674578 (tracked)\n"
     ]
    },
    {
     "name": "stderr",
     "output_type": "stream",
     "text": [
      "┌ Info: Epoch 119\n",
      "└ @ Main /Users/hughmurrell/.julia/packages/Flux/UHjNa/src/optimise/train.jl:93\n"
     ]
    },
    {
     "name": "stdout",
     "output_type": "stream",
     "text": [
      "sum([loss(i[1], i[2]) for i = regData]) = 19.495725933674578 (tracked)\n"
     ]
    },
    {
     "name": "stderr",
     "output_type": "stream",
     "text": [
      "┌ Info: Epoch 120\n",
      "└ @ Main /Users/hughmurrell/.julia/packages/Flux/UHjNa/src/optimise/train.jl:93\n"
     ]
    },
    {
     "name": "stdout",
     "output_type": "stream",
     "text": [
      "sum([loss(i[1], i[2]) for i = regData]) = 19.495725933674578 (tracked)\n"
     ]
    },
    {
     "name": "stderr",
     "output_type": "stream",
     "text": [
      "┌ Info: Epoch 121\n",
      "└ @ Main /Users/hughmurrell/.julia/packages/Flux/UHjNa/src/optimise/train.jl:93\n",
      "┌ Info: Epoch 122\n",
      "└ @ Main /Users/hughmurrell/.julia/packages/Flux/UHjNa/src/optimise/train.jl:93\n"
     ]
    },
    {
     "name": "stdout",
     "output_type": "stream",
     "text": [
      "sum([loss(i[1], i[2]) for i = regData]) = 19.495725933674578 (tracked)\n",
      "sum([loss(i[1], i[2]) for i = regData]) = 19.495725933674578 (tracked)\n"
     ]
    },
    {
     "name": "stderr",
     "output_type": "stream",
     "text": [
      "┌ Info: Epoch 123\n",
      "└ @ Main /Users/hughmurrell/.julia/packages/Flux/UHjNa/src/optimise/train.jl:93\n"
     ]
    },
    {
     "name": "stdout",
     "output_type": "stream",
     "text": [
      "sum([loss(i[1], i[2]) for i = regData]) = 19.495725933674578 (tracked)\n"
     ]
    },
    {
     "name": "stderr",
     "output_type": "stream",
     "text": [
      "┌ Info: Epoch 124\n",
      "└ @ Main /Users/hughmurrell/.julia/packages/Flux/UHjNa/src/optimise/train.jl:93\n"
     ]
    },
    {
     "name": "stdout",
     "output_type": "stream",
     "text": [
      "sum([loss(i[1], i[2]) for i = regData]) = 19.495725933674578 (tracked)\n"
     ]
    },
    {
     "name": "stderr",
     "output_type": "stream",
     "text": [
      "┌ Info: Epoch 125\n",
      "└ @ Main /Users/hughmurrell/.julia/packages/Flux/UHjNa/src/optimise/train.jl:93\n"
     ]
    },
    {
     "name": "stdout",
     "output_type": "stream",
     "text": [
      "sum([loss(i[1], i[2]) for i = regData]) = 19.495725933674578 (tracked)\n"
     ]
    },
    {
     "name": "stderr",
     "output_type": "stream",
     "text": [
      "┌ Info: Epoch 126\n",
      "└ @ Main /Users/hughmurrell/.julia/packages/Flux/UHjNa/src/optimise/train.jl:93\n"
     ]
    },
    {
     "name": "stdout",
     "output_type": "stream",
     "text": [
      "sum([loss(i[1], i[2]) for i = regData]) = 19.495725933674578 (tracked)\n"
     ]
    },
    {
     "name": "stderr",
     "output_type": "stream",
     "text": [
      "┌ Info: Epoch 127\n",
      "└ @ Main /Users/hughmurrell/.julia/packages/Flux/UHjNa/src/optimise/train.jl:93\n"
     ]
    },
    {
     "name": "stdout",
     "output_type": "stream",
     "text": [
      "sum([loss(i[1], i[2]) for i = regData]) = 19.495725933674578 (tracked)\n"
     ]
    },
    {
     "name": "stderr",
     "output_type": "stream",
     "text": [
      "┌ Info: Epoch 128\n",
      "└ @ Main /Users/hughmurrell/.julia/packages/Flux/UHjNa/src/optimise/train.jl:93\n"
     ]
    },
    {
     "name": "stdout",
     "output_type": "stream",
     "text": [
      "sum([loss(i[1], i[2]) for i = regData]) = 19.495725933674578 (tracked)\n"
     ]
    },
    {
     "name": "stderr",
     "output_type": "stream",
     "text": [
      "┌ Info: Epoch 129\n",
      "└ @ Main /Users/hughmurrell/.julia/packages/Flux/UHjNa/src/optimise/train.jl:93\n"
     ]
    },
    {
     "name": "stdout",
     "output_type": "stream",
     "text": [
      "sum([loss(i[1], i[2]) for i = regData]) = 19.495725933674578 (tracked)\n"
     ]
    },
    {
     "name": "stderr",
     "output_type": "stream",
     "text": [
      "┌ Info: Epoch 130\n",
      "└ @ Main /Users/hughmurrell/.julia/packages/Flux/UHjNa/src/optimise/train.jl:93\n"
     ]
    },
    {
     "name": "stdout",
     "output_type": "stream",
     "text": [
      "sum([loss(i[1], i[2]) for i = regData]) = 19.495725933674578 (tracked)\n"
     ]
    },
    {
     "name": "stderr",
     "output_type": "stream",
     "text": [
      "┌ Info: Epoch 131\n",
      "└ @ Main /Users/hughmurrell/.julia/packages/Flux/UHjNa/src/optimise/train.jl:93\n"
     ]
    },
    {
     "name": "stdout",
     "output_type": "stream",
     "text": [
      "sum([loss(i[1], i[2]) for i = regData]) = 19.495725933674578 (tracked)\n"
     ]
    },
    {
     "name": "stderr",
     "output_type": "stream",
     "text": [
      "┌ Info: Epoch 132\n",
      "└ @ Main /Users/hughmurrell/.julia/packages/Flux/UHjNa/src/optimise/train.jl:93\n"
     ]
    },
    {
     "name": "stdout",
     "output_type": "stream",
     "text": [
      "sum([loss(i[1], i[2]) for i = regData]) = 19.495725933674578 (tracked)\n"
     ]
    },
    {
     "name": "stderr",
     "output_type": "stream",
     "text": [
      "┌ Info: Epoch 133\n",
      "└ @ Main /Users/hughmurrell/.julia/packages/Flux/UHjNa/src/optimise/train.jl:93\n"
     ]
    },
    {
     "name": "stdout",
     "output_type": "stream",
     "text": [
      "sum([loss(i[1], i[2]) for i = regData]) = 19.495725933674578 (tracked)\n"
     ]
    },
    {
     "name": "stderr",
     "output_type": "stream",
     "text": [
      "┌ Info: Epoch 134\n",
      "└ @ Main /Users/hughmurrell/.julia/packages/Flux/UHjNa/src/optimise/train.jl:93\n"
     ]
    },
    {
     "name": "stdout",
     "output_type": "stream",
     "text": [
      "sum([loss(i[1], i[2]) for i = regData]) = 19.495725933674578 (tracked)\n"
     ]
    },
    {
     "name": "stderr",
     "output_type": "stream",
     "text": [
      "┌ Info: Epoch 135\n",
      "└ @ Main /Users/hughmurrell/.julia/packages/Flux/UHjNa/src/optimise/train.jl:93\n"
     ]
    },
    {
     "name": "stdout",
     "output_type": "stream",
     "text": [
      "sum([loss(i[1], i[2]) for i = regData]) = 19.495725933674578 (tracked)\n"
     ]
    },
    {
     "name": "stderr",
     "output_type": "stream",
     "text": [
      "┌ Info: Epoch 136\n",
      "└ @ Main /Users/hughmurrell/.julia/packages/Flux/UHjNa/src/optimise/train.jl:93\n"
     ]
    },
    {
     "name": "stdout",
     "output_type": "stream",
     "text": [
      "sum([loss(i[1], i[2]) for i = regData]) = 19.495725933674578 (tracked)\n"
     ]
    },
    {
     "name": "stderr",
     "output_type": "stream",
     "text": [
      "┌ Info: Epoch 137\n",
      "└ @ Main /Users/hughmurrell/.julia/packages/Flux/UHjNa/src/optimise/train.jl:93\n",
      "┌ Info: Epoch 138\n",
      "└ @ Main /Users/hughmurrell/.julia/packages/Flux/UHjNa/src/optimise/train.jl:93\n"
     ]
    },
    {
     "name": "stdout",
     "output_type": "stream",
     "text": [
      "sum([loss(i[1], i[2]) for i = regData]) = 19.495725933674578 (tracked)\n",
      "sum([loss(i[1], i[2]) for i = regData]) = 19.495725933674578 (tracked)\n"
     ]
    },
    {
     "name": "stderr",
     "output_type": "stream",
     "text": [
      "┌ Info: Epoch 139\n",
      "└ @ Main /Users/hughmurrell/.julia/packages/Flux/UHjNa/src/optimise/train.jl:93\n"
     ]
    },
    {
     "name": "stdout",
     "output_type": "stream",
     "text": [
      "sum([loss(i[1], i[2]) for i = regData]) = 19.495725933674578 (tracked)"
     ]
    },
    {
     "name": "stderr",
     "output_type": "stream",
     "text": [
      "┌ Info: Epoch 140\n",
      "└ @ Main /Users/hughmurrell/.julia/packages/Flux/UHjNa/src/optimise/train.jl:93\n"
     ]
    },
    {
     "name": "stdout",
     "output_type": "stream",
     "text": [
      "\n",
      "sum([loss(i[1], i[2]) for i = regData]) = 19.495725933674578 (tracked)\n"
     ]
    },
    {
     "name": "stderr",
     "output_type": "stream",
     "text": [
      "┌ Info: Epoch 141\n",
      "└ @ Main /Users/hughmurrell/.julia/packages/Flux/UHjNa/src/optimise/train.jl:93\n"
     ]
    },
    {
     "name": "stdout",
     "output_type": "stream",
     "text": [
      "sum([loss(i[1], i[2]) for i = regData]) = 19.495725933674578 (tracked)\n"
     ]
    },
    {
     "name": "stderr",
     "output_type": "stream",
     "text": [
      "┌ Info: Epoch 142\n",
      "└ @ Main /Users/hughmurrell/.julia/packages/Flux/UHjNa/src/optimise/train.jl:93\n"
     ]
    },
    {
     "name": "stdout",
     "output_type": "stream",
     "text": [
      "sum([loss(i[1], i[2]) for i = regData]) = 19.495725933674578 (tracked)\n"
     ]
    },
    {
     "name": "stderr",
     "output_type": "stream",
     "text": [
      "┌ Info: Epoch 143\n",
      "└ @ Main /Users/hughmurrell/.julia/packages/Flux/UHjNa/src/optimise/train.jl:93\n"
     ]
    },
    {
     "name": "stdout",
     "output_type": "stream",
     "text": [
      "sum([loss(i[1], i[2]) for i = regData]) = 19.495725933674578 (tracked)\n"
     ]
    },
    {
     "name": "stderr",
     "output_type": "stream",
     "text": [
      "┌ Info: Epoch 144\n",
      "└ @ Main /Users/hughmurrell/.julia/packages/Flux/UHjNa/src/optimise/train.jl:93\n"
     ]
    },
    {
     "name": "stdout",
     "output_type": "stream",
     "text": [
      "sum([loss(i[1], i[2]) for i = regData]) = 19.495725933674578 (tracked)\n"
     ]
    },
    {
     "name": "stderr",
     "output_type": "stream",
     "text": [
      "┌ Info: Epoch 145\n",
      "└ @ Main /Users/hughmurrell/.julia/packages/Flux/UHjNa/src/optimise/train.jl:93\n"
     ]
    },
    {
     "name": "stdout",
     "output_type": "stream",
     "text": [
      "sum([loss(i[1], i[2]) for i = regData]) = 19.495725933674578 (tracked)\n"
     ]
    },
    {
     "name": "stderr",
     "output_type": "stream",
     "text": [
      "┌ Info: Epoch 146\n",
      "└ @ Main /Users/hughmurrell/.julia/packages/Flux/UHjNa/src/optimise/train.jl:93\n"
     ]
    },
    {
     "name": "stdout",
     "output_type": "stream",
     "text": [
      "sum([loss(i[1], i[2]) for i = regData]) = 19.495725933674578 (tracked)\n"
     ]
    },
    {
     "name": "stderr",
     "output_type": "stream",
     "text": [
      "┌ Info: Epoch 147\n",
      "└ @ Main /Users/hughmurrell/.julia/packages/Flux/UHjNa/src/optimise/train.jl:93\n"
     ]
    },
    {
     "name": "stdout",
     "output_type": "stream",
     "text": [
      "sum([loss(i[1], i[2]) for i = regData]) = 19.495725933674578 (tracked)\n"
     ]
    },
    {
     "name": "stderr",
     "output_type": "stream",
     "text": [
      "┌ Info: Epoch 148\n",
      "└ @ Main /Users/hughmurrell/.julia/packages/Flux/UHjNa/src/optimise/train.jl:93\n"
     ]
    },
    {
     "name": "stdout",
     "output_type": "stream",
     "text": [
      "sum([loss(i[1], i[2]) for i = regData]) = 19.495725933674578 (tracked)\n"
     ]
    },
    {
     "name": "stderr",
     "output_type": "stream",
     "text": [
      "┌ Info: Epoch 149\n",
      "└ @ Main /Users/hughmurrell/.julia/packages/Flux/UHjNa/src/optimise/train.jl:93\n"
     ]
    },
    {
     "name": "stdout",
     "output_type": "stream",
     "text": [
      "sum([loss(i[1], i[2]) for i = regData]) = 19.495725933674578 (tracked)\n"
     ]
    },
    {
     "name": "stderr",
     "output_type": "stream",
     "text": [
      "┌ Info: Epoch 150\n",
      "└ @ Main /Users/hughmurrell/.julia/packages/Flux/UHjNa/src/optimise/train.jl:93\n"
     ]
    },
    {
     "name": "stdout",
     "output_type": "stream",
     "text": [
      "sum([loss(i[1], i[2]) for i = regData]) = 19.495725933674578 (tracked)\n"
     ]
    },
    {
     "name": "stderr",
     "output_type": "stream",
     "text": [
      "┌ Info: Epoch 151\n",
      "└ @ Main /Users/hughmurrell/.julia/packages/Flux/UHjNa/src/optimise/train.jl:93\n"
     ]
    },
    {
     "name": "stdout",
     "output_type": "stream",
     "text": [
      "sum([loss(i[1], i[2]) for i = regData]) = 19.495725933674578 (tracked)\n"
     ]
    },
    {
     "name": "stderr",
     "output_type": "stream",
     "text": [
      "┌ Info: Epoch 152\n",
      "└ @ Main /Users/hughmurrell/.julia/packages/Flux/UHjNa/src/optimise/train.jl:93\n"
     ]
    },
    {
     "name": "stdout",
     "output_type": "stream",
     "text": [
      "sum([loss(i[1], i[2]) for i = regData]) = 19.495725933674578 (tracked)\n"
     ]
    },
    {
     "name": "stderr",
     "output_type": "stream",
     "text": [
      "┌ Info: Epoch 153\n",
      "└ @ Main /Users/hughmurrell/.julia/packages/Flux/UHjNa/src/optimise/train.jl:93\n"
     ]
    },
    {
     "name": "stdout",
     "output_type": "stream",
     "text": [
      "sum([loss(i[1], i[2]) for i = regData]) = 19.495725933674578 (tracked)\n"
     ]
    },
    {
     "name": "stderr",
     "output_type": "stream",
     "text": [
      "┌ Info: Epoch 154\n",
      "└ @ Main /Users/hughmurrell/.julia/packages/Flux/UHjNa/src/optimise/train.jl:93\n"
     ]
    },
    {
     "name": "stdout",
     "output_type": "stream",
     "text": [
      "sum([loss(i[1], i[2]) for i = regData]) = 19.495725933674578 (tracked)\n",
      "sum([loss(i[1], i[2]) for i = regData]) = 19.495725933674578 (tracked)\n"
     ]
    },
    {
     "name": "stderr",
     "output_type": "stream",
     "text": [
      "┌ Info: Epoch 155\n",
      "└ @ Main /Users/hughmurrell/.julia/packages/Flux/UHjNa/src/optimise/train.jl:93\n",
      "┌ Info: Epoch 156\n",
      "└ @ Main /Users/hughmurrell/.julia/packages/Flux/UHjNa/src/optimise/train.jl:93\n"
     ]
    },
    {
     "name": "stdout",
     "output_type": "stream",
     "text": [
      "sum([loss(i[1], i[2]) for i = regData]) = 19.495725933674578 (tracked)\n"
     ]
    },
    {
     "name": "stderr",
     "output_type": "stream",
     "text": [
      "┌ Info: Epoch 157\n",
      "└ @ Main /Users/hughmurrell/.julia/packages/Flux/UHjNa/src/optimise/train.jl:93\n"
     ]
    },
    {
     "name": "stdout",
     "output_type": "stream",
     "text": [
      "sum([loss(i[1], i[2]) for i = regData]) = 19.495725933674578 (tracked)\n"
     ]
    },
    {
     "name": "stderr",
     "output_type": "stream",
     "text": [
      "┌ Info: Epoch 158\n",
      "└ @ Main /Users/hughmurrell/.julia/packages/Flux/UHjNa/src/optimise/train.jl:93\n"
     ]
    },
    {
     "name": "stdout",
     "output_type": "stream",
     "text": [
      "sum([loss(i[1], i[2]) for i = regData]) = 19.495725933674578 (tracked)\n"
     ]
    },
    {
     "name": "stderr",
     "output_type": "stream",
     "text": [
      "┌ Info: Epoch 159\n",
      "└ @ Main /Users/hughmurrell/.julia/packages/Flux/UHjNa/src/optimise/train.jl:93\n"
     ]
    },
    {
     "name": "stdout",
     "output_type": "stream",
     "text": [
      "sum([loss(i[1], i[2]) for i = regData]) = 19.495725933674578 (tracked)\n"
     ]
    },
    {
     "name": "stderr",
     "output_type": "stream",
     "text": [
      "┌ Info: Epoch 160\n",
      "└ @ Main /Users/hughmurrell/.julia/packages/Flux/UHjNa/src/optimise/train.jl:93\n"
     ]
    },
    {
     "name": "stdout",
     "output_type": "stream",
     "text": [
      "sum([loss(i[1], i[2]) for i = regData]) = 19.495725933674578 (tracked)\n"
     ]
    },
    {
     "name": "stderr",
     "output_type": "stream",
     "text": [
      "┌ Info: Epoch 161\n",
      "└ @ Main /Users/hughmurrell/.julia/packages/Flux/UHjNa/src/optimise/train.jl:93\n"
     ]
    },
    {
     "name": "stdout",
     "output_type": "stream",
     "text": [
      "sum([loss(i[1], i[2]) for i = regData]) = 19.495725933674578 (tracked)\n"
     ]
    },
    {
     "name": "stderr",
     "output_type": "stream",
     "text": [
      "┌ Info: Epoch 162\n",
      "└ @ Main /Users/hughmurrell/.julia/packages/Flux/UHjNa/src/optimise/train.jl:93\n"
     ]
    },
    {
     "name": "stdout",
     "output_type": "stream",
     "text": [
      "sum([loss(i[1], i[2]) for i = regData]) = 19.495725933674578 (tracked)\n"
     ]
    },
    {
     "name": "stderr",
     "output_type": "stream",
     "text": [
      "┌ Info: Epoch 163\n",
      "└ @ Main /Users/hughmurrell/.julia/packages/Flux/UHjNa/src/optimise/train.jl:93\n"
     ]
    },
    {
     "name": "stdout",
     "output_type": "stream",
     "text": [
      "sum([loss(i[1], i[2]) for i = regData]) = 19.495725933674578 (tracked)\n"
     ]
    },
    {
     "name": "stderr",
     "output_type": "stream",
     "text": [
      "┌ Info: Epoch 164\n",
      "└ @ Main /Users/hughmurrell/.julia/packages/Flux/UHjNa/src/optimise/train.jl:93\n"
     ]
    },
    {
     "name": "stdout",
     "output_type": "stream",
     "text": [
      "sum([loss(i[1], i[2]) for i = regData]) = 19.495725933674578 (tracked)\n"
     ]
    },
    {
     "name": "stderr",
     "output_type": "stream",
     "text": [
      "┌ Info: Epoch 165\n",
      "└ @ Main /Users/hughmurrell/.julia/packages/Flux/UHjNa/src/optimise/train.jl:93\n"
     ]
    },
    {
     "name": "stdout",
     "output_type": "stream",
     "text": [
      "sum([loss(i[1], i[2]) for i = regData]) = 19.495725933674578 (tracked)\n"
     ]
    },
    {
     "name": "stderr",
     "output_type": "stream",
     "text": [
      "┌ Info: Epoch 166\n",
      "└ @ Main /Users/hughmurrell/.julia/packages/Flux/UHjNa/src/optimise/train.jl:93\n"
     ]
    },
    {
     "name": "stdout",
     "output_type": "stream",
     "text": [
      "sum([loss(i[1], i[2]) for i = regData]) = 19.495725933674578 (tracked)\n"
     ]
    },
    {
     "name": "stderr",
     "output_type": "stream",
     "text": [
      "┌ Info: Epoch 167\n",
      "└ @ Main /Users/hughmurrell/.julia/packages/Flux/UHjNa/src/optimise/train.jl:93\n"
     ]
    },
    {
     "name": "stdout",
     "output_type": "stream",
     "text": [
      "sum([loss(i[1], i[2]) for i = regData]) = 19.495725933674578 (tracked)\n"
     ]
    },
    {
     "name": "stderr",
     "output_type": "stream",
     "text": [
      "┌ Info: Epoch 168\n",
      "└ @ Main /Users/hughmurrell/.julia/packages/Flux/UHjNa/src/optimise/train.jl:93\n"
     ]
    },
    {
     "name": "stdout",
     "output_type": "stream",
     "text": [
      "sum([loss(i[1], i[2]) for i = regData]) = 19.495725933674578 (tracked)\n"
     ]
    },
    {
     "name": "stderr",
     "output_type": "stream",
     "text": [
      "┌ Info: Epoch 169\n",
      "└ @ Main /Users/hughmurrell/.julia/packages/Flux/UHjNa/src/optimise/train.jl:93\n"
     ]
    },
    {
     "name": "stdout",
     "output_type": "stream",
     "text": [
      "sum([loss(i[1], i[2]) for i = regData]) = 19.495725933674578 (tracked)\n"
     ]
    },
    {
     "name": "stderr",
     "output_type": "stream",
     "text": [
      "┌ Info: Epoch 170\n",
      "└ @ Main /Users/hughmurrell/.julia/packages/Flux/UHjNa/src/optimise/train.jl:93\n"
     ]
    },
    {
     "name": "stdout",
     "output_type": "stream",
     "text": [
      "sum([loss(i[1], i[2]) for i = regData]) = 19.495725933674578 (tracked)\n"
     ]
    },
    {
     "name": "stderr",
     "output_type": "stream",
     "text": [
      "┌ Info: Epoch 171\n",
      "└ @ Main /Users/hughmurrell/.julia/packages/Flux/UHjNa/src/optimise/train.jl:93\n",
      "┌ Info: Epoch 172\n",
      "└ @ Main /Users/hughmurrell/.julia/packages/Flux/UHjNa/src/optimise/train.jl:93\n"
     ]
    },
    {
     "name": "stdout",
     "output_type": "stream",
     "text": [
      "sum([loss(i[1], i[2]) for i = regData]) = 19.495725933674578 (tracked)\n",
      "sum([loss(i[1], i[2]) for i = regData]) = 19.495725933674578 (tracked)\n"
     ]
    },
    {
     "name": "stderr",
     "output_type": "stream",
     "text": [
      "┌ Info: Epoch 173\n",
      "└ @ Main /Users/hughmurrell/.julia/packages/Flux/UHjNa/src/optimise/train.jl:93\n"
     ]
    },
    {
     "name": "stdout",
     "output_type": "stream",
     "text": [
      "sum([loss(i[1], i[2]) for i = regData]) = 19.495725933674578 (tracked)\n"
     ]
    },
    {
     "name": "stderr",
     "output_type": "stream",
     "text": [
      "┌ Info: Epoch 174\n",
      "└ @ Main /Users/hughmurrell/.julia/packages/Flux/UHjNa/src/optimise/train.jl:93\n"
     ]
    },
    {
     "name": "stdout",
     "output_type": "stream",
     "text": [
      "sum([loss(i[1], i[2]) for i = regData]) = 19.495725933674578 (tracked)\n"
     ]
    },
    {
     "name": "stderr",
     "output_type": "stream",
     "text": [
      "┌ Info: Epoch 175\n",
      "└ @ Main /Users/hughmurrell/.julia/packages/Flux/UHjNa/src/optimise/train.jl:93\n"
     ]
    },
    {
     "name": "stdout",
     "output_type": "stream",
     "text": [
      "sum([loss(i[1], i[2]) for i = regData]) = 19.495725933674578 (tracked)\n"
     ]
    },
    {
     "name": "stderr",
     "output_type": "stream",
     "text": [
      "┌ Info: Epoch 176\n",
      "└ @ Main /Users/hughmurrell/.julia/packages/Flux/UHjNa/src/optimise/train.jl:93\n"
     ]
    },
    {
     "name": "stdout",
     "output_type": "stream",
     "text": [
      "sum([loss(i[1], i[2]) for i = regData]) = 19.495725933674578 (tracked)\n"
     ]
    },
    {
     "name": "stderr",
     "output_type": "stream",
     "text": [
      "┌ Info: Epoch 177\n",
      "└ @ Main /Users/hughmurrell/.julia/packages/Flux/UHjNa/src/optimise/train.jl:93\n"
     ]
    },
    {
     "name": "stdout",
     "output_type": "stream",
     "text": [
      "sum([loss(i[1], i[2]) for i = regData]) = 19.495725933674578 (tracked)\n"
     ]
    },
    {
     "name": "stderr",
     "output_type": "stream",
     "text": [
      "┌ Info: Epoch 178\n",
      "└ @ Main /Users/hughmurrell/.julia/packages/Flux/UHjNa/src/optimise/train.jl:93\n"
     ]
    },
    {
     "name": "stdout",
     "output_type": "stream",
     "text": [
      "sum([loss(i[1], i[2]) for i = regData]) = 19.495725933674578 (tracked)\n"
     ]
    },
    {
     "name": "stderr",
     "output_type": "stream",
     "text": [
      "┌ Info: Epoch 179\n",
      "└ @ Main /Users/hughmurrell/.julia/packages/Flux/UHjNa/src/optimise/train.jl:93\n"
     ]
    },
    {
     "name": "stdout",
     "output_type": "stream",
     "text": [
      "sum([loss(i[1], i[2]) for i = regData]) = 19.495725933674578 (tracked)\n"
     ]
    },
    {
     "name": "stderr",
     "output_type": "stream",
     "text": [
      "┌ Info: Epoch 180\n",
      "└ @ Main /Users/hughmurrell/.julia/packages/Flux/UHjNa/src/optimise/train.jl:93\n"
     ]
    },
    {
     "name": "stdout",
     "output_type": "stream",
     "text": [
      "sum([loss(i[1], i[2]) for i = regData]) = 19.495725933674578 (tracked)\n"
     ]
    },
    {
     "name": "stderr",
     "output_type": "stream",
     "text": [
      "┌ Info: Epoch 181\n",
      "└ @ Main /Users/hughmurrell/.julia/packages/Flux/UHjNa/src/optimise/train.jl:93\n"
     ]
    },
    {
     "name": "stdout",
     "output_type": "stream",
     "text": [
      "sum([loss(i[1], i[2]) for i = regData]) = 19.495725933674578 (tracked)\n"
     ]
    },
    {
     "name": "stderr",
     "output_type": "stream",
     "text": [
      "┌ Info: Epoch 182\n",
      "└ @ Main /Users/hughmurrell/.julia/packages/Flux/UHjNa/src/optimise/train.jl:93\n"
     ]
    },
    {
     "name": "stdout",
     "output_type": "stream",
     "text": [
      "sum([loss(i[1], i[2]) for i = regData]) = 19.495725933674578 (tracked)\n"
     ]
    },
    {
     "name": "stderr",
     "output_type": "stream",
     "text": [
      "┌ Info: Epoch 183\n",
      "└ @ Main /Users/hughmurrell/.julia/packages/Flux/UHjNa/src/optimise/train.jl:93\n"
     ]
    },
    {
     "name": "stdout",
     "output_type": "stream",
     "text": [
      "sum([loss(i[1], i[2]) for i = regData]) = 19.495725933674578 (tracked)\n"
     ]
    },
    {
     "name": "stderr",
     "output_type": "stream",
     "text": [
      "┌ Info: Epoch 184\n",
      "└ @ Main /Users/hughmurrell/.julia/packages/Flux/UHjNa/src/optimise/train.jl:93\n",
      "┌ Info: Epoch 185\n",
      "└ @ Main /Users/hughmurrell/.julia/packages/Flux/UHjNa/src/optimise/train.jl:93\n"
     ]
    },
    {
     "name": "stdout",
     "output_type": "stream",
     "text": [
      "sum([loss(i[1], i[2]) for i = regData]) = 19.495725933674578 (tracked)\n",
      "sum([loss(i[1], i[2]) for i = regData]) = 19.495725933674578 (tracked)\n"
     ]
    },
    {
     "name": "stderr",
     "output_type": "stream",
     "text": [
      "┌ Info: Epoch 186\n",
      "└ @ Main /Users/hughmurrell/.julia/packages/Flux/UHjNa/src/optimise/train.jl:93\n"
     ]
    },
    {
     "name": "stdout",
     "output_type": "stream",
     "text": [
      "sum([loss(i[1], i[2]) for i = regData]) = 19.495725933674578 (tracked)\n"
     ]
    },
    {
     "name": "stderr",
     "output_type": "stream",
     "text": [
      "┌ Info: Epoch 187\n",
      "└ @ Main /Users/hughmurrell/.julia/packages/Flux/UHjNa/src/optimise/train.jl:93\n"
     ]
    },
    {
     "name": "stdout",
     "output_type": "stream",
     "text": [
      "sum([loss(i[1], i[2]) for i = regData]) = 19.495725933674578 (tracked)\n"
     ]
    },
    {
     "name": "stderr",
     "output_type": "stream",
     "text": [
      "┌ Info: Epoch 188\n",
      "└ @ Main /Users/hughmurrell/.julia/packages/Flux/UHjNa/src/optimise/train.jl:93\n"
     ]
    },
    {
     "name": "stdout",
     "output_type": "stream",
     "text": [
      "sum([loss(i[1], i[2]) for i = regData]) = 19.495725933674578 (tracked)\n"
     ]
    },
    {
     "name": "stderr",
     "output_type": "stream",
     "text": [
      "┌ Info: Epoch 189\n",
      "└ @ Main /Users/hughmurrell/.julia/packages/Flux/UHjNa/src/optimise/train.jl:93\n"
     ]
    },
    {
     "name": "stdout",
     "output_type": "stream",
     "text": [
      "sum([loss(i[1], i[2]) for i = regData]) = 19.495725933674578 (tracked)\n"
     ]
    },
    {
     "name": "stderr",
     "output_type": "stream",
     "text": [
      "┌ Info: Epoch 190\n",
      "└ @ Main /Users/hughmurrell/.julia/packages/Flux/UHjNa/src/optimise/train.jl:93\n",
      "┌ Info: Epoch 191\n",
      "└ @ Main /Users/hughmurrell/.julia/packages/Flux/UHjNa/src/optimise/train.jl:93\n"
     ]
    },
    {
     "name": "stdout",
     "output_type": "stream",
     "text": [
      "sum([loss(i[1], i[2]) for i = regData]) = 19.495725933674578 (tracked)\n",
      "sum([loss(i[1], i[2]) for i = regData]) = 19.495725933674578 (tracked)\n"
     ]
    },
    {
     "name": "stderr",
     "output_type": "stream",
     "text": [
      "┌ Info: Epoch 192\n",
      "└ @ Main /Users/hughmurrell/.julia/packages/Flux/UHjNa/src/optimise/train.jl:93\n"
     ]
    },
    {
     "name": "stdout",
     "output_type": "stream",
     "text": [
      "sum([loss(i[1], i[2]) for i = regData]) = 19.495725933674578 (tracked)\n"
     ]
    },
    {
     "name": "stderr",
     "output_type": "stream",
     "text": [
      "┌ Info: Epoch 193\n",
      "└ @ Main /Users/hughmurrell/.julia/packages/Flux/UHjNa/src/optimise/train.jl:93\n"
     ]
    },
    {
     "name": "stdout",
     "output_type": "stream",
     "text": [
      "sum([loss(i[1], i[2]) for i = regData]) = 19.495725933674578 (tracked)\n"
     ]
    },
    {
     "name": "stderr",
     "output_type": "stream",
     "text": [
      "┌ Info: Epoch 194\n",
      "└ @ Main /Users/hughmurrell/.julia/packages/Flux/UHjNa/src/optimise/train.jl:93\n"
     ]
    },
    {
     "name": "stdout",
     "output_type": "stream",
     "text": [
      "sum([loss(i[1], i[2]) for i = regData]) = 19.495725933674578 (tracked)\n"
     ]
    },
    {
     "name": "stderr",
     "output_type": "stream",
     "text": [
      "┌ Info: Epoch 195\n",
      "└ @ Main /Users/hughmurrell/.julia/packages/Flux/UHjNa/src/optimise/train.jl:93\n"
     ]
    },
    {
     "name": "stdout",
     "output_type": "stream",
     "text": [
      "sum([loss(i[1], i[2]) for i = regData]) = 19.495725933674578 (tracked)\n"
     ]
    },
    {
     "name": "stderr",
     "output_type": "stream",
     "text": [
      "┌ Info: Epoch 196\n",
      "└ @ Main /Users/hughmurrell/.julia/packages/Flux/UHjNa/src/optimise/train.jl:93\n"
     ]
    },
    {
     "name": "stdout",
     "output_type": "stream",
     "text": [
      "sum([loss(i[1], i[2]) for i = regData]) = 19.495725933674578 (tracked)\n"
     ]
    },
    {
     "name": "stderr",
     "output_type": "stream",
     "text": [
      "┌ Info: Epoch 197\n",
      "└ @ Main /Users/hughmurrell/.julia/packages/Flux/UHjNa/src/optimise/train.jl:93\n"
     ]
    },
    {
     "name": "stdout",
     "output_type": "stream",
     "text": [
      "sum([loss(i[1], i[2]) for i = regData]) = 19.495725933674578 (tracked)\n"
     ]
    },
    {
     "name": "stderr",
     "output_type": "stream",
     "text": [
      "┌ Info: Epoch 198\n",
      "└ @ Main /Users/hughmurrell/.julia/packages/Flux/UHjNa/src/optimise/train.jl:93\n"
     ]
    },
    {
     "name": "stdout",
     "output_type": "stream",
     "text": [
      "sum([loss(i[1], i[2]) for i = regData]) = 19.495725933674578 (tracked)\n"
     ]
    },
    {
     "name": "stderr",
     "output_type": "stream",
     "text": [
      "┌ Info: Epoch 199\n",
      "└ @ Main /Users/hughmurrell/.julia/packages/Flux/UHjNa/src/optimise/train.jl:93\n"
     ]
    },
    {
     "name": "stdout",
     "output_type": "stream",
     "text": [
      "sum([loss(i[1], i[2]) for i = regData]) = 19.495725933674578 (tracked)\n"
     ]
    },
    {
     "name": "stderr",
     "output_type": "stream",
     "text": [
      "┌ Info: Epoch 200\n",
      "└ @ Main /Users/hughmurrell/.julia/packages/Flux/UHjNa/src/optimise/train.jl:93\n"
     ]
    }
   ],
   "source": [
    "using Flux\n",
    "using Flux: @epochs, throttle\n",
    "\n",
    "regData = [([regX[i],regY[i]],regZ[i]) for i in 1:length(regX)]\n",
    "modelReg = Chain(Dense(2, 1), identity)\n",
    "loss(x, y) = Flux.mse(modelReg(x), y) # + 10.0*sum(params(modelReg)[1].^2) \n",
    "evalcb = () -> @show(sum([loss(i[1],i[2]) for i in regData]))\n",
    "opt = ADAM(Flux.params(modelReg))\n",
    "#opt = SGD(Flux.params(modelReg), 0.001)\n",
    "@epochs 200 Flux.train!(loss,regData, opt, cb = throttle(evalcb, 10))\n",
    "\n",
    "# loss(x) = Flux.mse(modelReg(x[1]), x[2])\n",
    "# evalcb = () -> @show(loss(x))\n",
    "# opt = SGD(Flux.params(modelReg), 0.1)\n",
    "# @epochs 100 Flux.train!(loss, regData, opt, cb = throttle(evalcb, 10))"
   ]
  },
  {
   "cell_type": "code",
   "execution_count": 16,
   "metadata": {
    "collapsed": false
   },
   "outputs": [
    {
     "name": "stdout",
     "output_type": "stream",
     "text": [
      "Any[Flux.Tracker.TrackedReal{Float64}[4.98209 (tracked) 11.9922 (tracked)], Flux.Tracker.TrackedReal{Float64}[9.89136 (tracked)]]\n"
     ]
    }
   ],
   "source": [
    "println(Flux.params(modelReg))"
   ]
  },
  {
   "cell_type": "code",
   "execution_count": 17,
   "metadata": {
    "collapsed": false
   },
   "outputs": [
    {
     "data": {
      "image/svg+xml": [
       "<?xml version=\"1.0\" encoding=\"utf-8\"?>\n",
       "<svg xmlns=\"http://www.w3.org/2000/svg\" xmlns:xlink=\"http://www.w3.org/1999/xlink\" width=\"600\" height=\"400\" viewBox=\"0 0 2400 1600\">\n",
       "<defs>\n",
       "  <clipPath id=\"clip8500\">\n",
       "    <rect x=\"0\" y=\"0\" width=\"2000\" height=\"2000\"/>\n",
       "  </clipPath>\n",
       "</defs>\n",
       "<defs>\n",
       "  <clipPath id=\"clip8501\">\n",
       "    <rect x=\"0\" y=\"0\" width=\"2400\" height=\"1600\"/>\n",
       "  </clipPath>\n",
       "</defs>\n",
       "<polygon clip-path=\"url(#clip8501)\" points=\"\n",
       "0,1600 2400,1600 2400,0 0,0 \n",
       "  \" fill=\"#ffffff\" fill-rule=\"evenodd\" fill-opacity=\"1\"/>\n",
       "<defs>\n",
       "  <clipPath id=\"clip8502\">\n",
       "    <rect x=\"480\" y=\"0\" width=\"1681\" height=\"1600\"/>\n",
       "  </clipPath>\n",
       "</defs>\n",
       "<polygon clip-path=\"url(#clip8501)\" points=\"\n",
       "527.267,1503.47 1983.5,1503.47 1983.5,47.2441 527.267,47.2441 \n",
       "  \" fill=\"#ffffff\" fill-rule=\"evenodd\" fill-opacity=\"1\"/>\n",
       "<defs>\n",
       "  <clipPath id=\"clip8503\">\n",
       "    <rect x=\"527\" y=\"47\" width=\"1457\" height=\"1457\"/>\n",
       "  </clipPath>\n",
       "</defs>\n",
       "<polyline clip-path=\"url(#clip8501)\" style=\"stroke:#cccccc; stroke-width:2; stroke-opacity:0.1; fill:none\" points=\"\n",
       "  553.395,1419.89 1086.41,1161.81 \n",
       "  \"/>\n",
       "<polyline clip-path=\"url(#clip8501)\" style=\"stroke:#cccccc; stroke-width:2; stroke-opacity:0.1; fill:none\" points=\"\n",
       "  1086.41,1161.81 1086.41,49.6787 \n",
       "  \"/>\n",
       "<polyline clip-path=\"url(#clip8501)\" style=\"stroke:#ededed; stroke-width:2; stroke-opacity:0.1; fill:none\" points=\"\n",
       "  662.265,1430.03 1195.28,1171.96 \n",
       "  \"/>\n",
       "<polyline clip-path=\"url(#clip8501)\" style=\"stroke:#ededed; stroke-width:2; stroke-opacity:0.1; fill:none\" points=\"\n",
       "  1195.28,1171.96 1195.28,59.8231 \n",
       "  \"/>\n",
       "<polyline clip-path=\"url(#clip8501)\" style=\"stroke:#cccccc; stroke-width:2; stroke-opacity:0.1; fill:none\" points=\"\n",
       "  771.134,1440.17 1304.15,1182.1 \n",
       "  \"/>\n",
       "<polyline clip-path=\"url(#clip8501)\" style=\"stroke:#cccccc; stroke-width:2; stroke-opacity:0.1; fill:none\" points=\"\n",
       "  1304.15,1182.1 1304.15,69.9674 \n",
       "  \"/>\n",
       "<polyline clip-path=\"url(#clip8501)\" style=\"stroke:#ededed; stroke-width:2; stroke-opacity:0.1; fill:none\" points=\"\n",
       "  880.004,1450.32 1413.02,1192.25 \n",
       "  \"/>\n",
       "<polyline clip-path=\"url(#clip8501)\" style=\"stroke:#ededed; stroke-width:2; stroke-opacity:0.1; fill:none\" points=\"\n",
       "  1413.02,1192.25 1413.02,80.1117 \n",
       "  \"/>\n",
       "<polyline clip-path=\"url(#clip8501)\" style=\"stroke:#cccccc; stroke-width:2; stroke-opacity:0.1; fill:none\" points=\"\n",
       "  988.873,1460.46 1521.89,1202.39 \n",
       "  \"/>\n",
       "<polyline clip-path=\"url(#clip8501)\" style=\"stroke:#cccccc; stroke-width:2; stroke-opacity:0.1; fill:none\" points=\"\n",
       "  1521.89,1202.39 1521.89,90.2561 \n",
       "  \"/>\n",
       "<polyline clip-path=\"url(#clip8501)\" style=\"stroke:#ededed; stroke-width:2; stroke-opacity:0.1; fill:none\" points=\"\n",
       "  1097.74,1470.61 1630.76,1212.54 \n",
       "  \"/>\n",
       "<polyline clip-path=\"url(#clip8501)\" style=\"stroke:#ededed; stroke-width:2; stroke-opacity:0.1; fill:none\" points=\"\n",
       "  1630.76,1212.54 1630.76,100.4 \n",
       "  \"/>\n",
       "<polyline clip-path=\"url(#clip8501)\" style=\"stroke:#cccccc; stroke-width:2; stroke-opacity:0.1; fill:none\" points=\"\n",
       "  1206.61,1480.75 1739.63,1222.68 \n",
       "  \"/>\n",
       "<polyline clip-path=\"url(#clip8501)\" style=\"stroke:#cccccc; stroke-width:2; stroke-opacity:0.1; fill:none\" points=\"\n",
       "  1739.63,1222.68 1739.63,110.545 \n",
       "  \"/>\n",
       "<polyline clip-path=\"url(#clip8501)\" style=\"stroke:#ededed; stroke-width:2; stroke-opacity:0.1; fill:none\" points=\"\n",
       "  1315.48,1490.9 1848.5,1232.82 \n",
       "  \"/>\n",
       "<polyline clip-path=\"url(#clip8501)\" style=\"stroke:#ededed; stroke-width:2; stroke-opacity:0.1; fill:none\" points=\"\n",
       "  1848.5,1232.82 1848.5,120.689 \n",
       "  \"/>\n",
       "<polyline clip-path=\"url(#clip8501)\" style=\"stroke:#cccccc; stroke-width:2; stroke-opacity:0.1; fill:none\" points=\"\n",
       "  1424.35,1501.04 1957.37,1242.97 \n",
       "  \"/>\n",
       "<polyline clip-path=\"url(#clip8501)\" style=\"stroke:#cccccc; stroke-width:2; stroke-opacity:0.1; fill:none\" points=\"\n",
       "  1957.37,1242.97 1957.37,130.833 \n",
       "  \"/>\n",
       "<polyline clip-path=\"url(#clip8501)\" style=\"stroke:#cccccc; stroke-width:2; stroke-opacity:0.1; fill:none\" points=\"\n",
       "  542.352,1410.15 1465.57,1496.17 \n",
       "  \"/>\n",
       "<polyline clip-path=\"url(#clip8501)\" style=\"stroke:#cccccc; stroke-width:2; stroke-opacity:0.1; fill:none\" points=\"\n",
       "  542.352,1410.15 542.352,298.012 \n",
       "  \"/>\n",
       "<polyline clip-path=\"url(#clip8501)\" style=\"stroke:#ededed; stroke-width:2; stroke-opacity:0.1; fill:none\" points=\"\n",
       "  605.208,1379.71 1528.42,1465.74 \n",
       "  \"/>\n",
       "<polyline clip-path=\"url(#clip8501)\" style=\"stroke:#ededed; stroke-width:2; stroke-opacity:0.1; fill:none\" points=\"\n",
       "  605.208,1379.71 605.208,267.579 \n",
       "  \"/>\n",
       "<polyline clip-path=\"url(#clip8501)\" style=\"stroke:#cccccc; stroke-width:2; stroke-opacity:0.1; fill:none\" points=\"\n",
       "  668.064,1349.28 1591.28,1435.3 \n",
       "  \"/>\n",
       "<polyline clip-path=\"url(#clip8501)\" style=\"stroke:#cccccc; stroke-width:2; stroke-opacity:0.1; fill:none\" points=\"\n",
       "  668.064,1349.28 668.064,237.146 \n",
       "  \"/>\n",
       "<polyline clip-path=\"url(#clip8501)\" style=\"stroke:#ededed; stroke-width:2; stroke-opacity:0.1; fill:none\" points=\"\n",
       "  730.92,1318.85 1654.13,1404.87 \n",
       "  \"/>\n",
       "<polyline clip-path=\"url(#clip8501)\" style=\"stroke:#ededed; stroke-width:2; stroke-opacity:0.1; fill:none\" points=\"\n",
       "  730.92,1318.85 730.92,206.713 \n",
       "  \"/>\n",
       "<polyline clip-path=\"url(#clip8501)\" style=\"stroke:#cccccc; stroke-width:2; stroke-opacity:0.1; fill:none\" points=\"\n",
       "  793.775,1288.41 1716.99,1374.44 \n",
       "  \"/>\n",
       "<polyline clip-path=\"url(#clip8501)\" style=\"stroke:#cccccc; stroke-width:2; stroke-opacity:0.1; fill:none\" points=\"\n",
       "  793.775,1288.41 793.775,176.28 \n",
       "  \"/>\n",
       "<polyline clip-path=\"url(#clip8501)\" style=\"stroke:#ededed; stroke-width:2; stroke-opacity:0.1; fill:none\" points=\"\n",
       "  856.631,1257.98 1779.84,1344.01 \n",
       "  \"/>\n",
       "<polyline clip-path=\"url(#clip8501)\" style=\"stroke:#ededed; stroke-width:2; stroke-opacity:0.1; fill:none\" points=\"\n",
       "  856.631,1257.98 856.631,145.847 \n",
       "  \"/>\n",
       "<polyline clip-path=\"url(#clip8501)\" style=\"stroke:#cccccc; stroke-width:2; stroke-opacity:0.1; fill:none\" points=\"\n",
       "  919.487,1227.55 1842.7,1313.57 \n",
       "  \"/>\n",
       "<polyline clip-path=\"url(#clip8501)\" style=\"stroke:#cccccc; stroke-width:2; stroke-opacity:0.1; fill:none\" points=\"\n",
       "  919.487,1227.55 919.487,115.414 \n",
       "  \"/>\n",
       "<polyline clip-path=\"url(#clip8501)\" style=\"stroke:#ededed; stroke-width:2; stroke-opacity:0.1; fill:none\" points=\"\n",
       "  982.343,1197.12 1905.56,1283.14 \n",
       "  \"/>\n",
       "<polyline clip-path=\"url(#clip8501)\" style=\"stroke:#ededed; stroke-width:2; stroke-opacity:0.1; fill:none\" points=\"\n",
       "  982.343,1197.12 982.343,84.981 \n",
       "  \"/>\n",
       "<polyline clip-path=\"url(#clip8501)\" style=\"stroke:#cccccc; stroke-width:2; stroke-opacity:0.1; fill:none\" points=\"\n",
       "  1045.2,1166.68 1968.41,1252.71 \n",
       "  \"/>\n",
       "<polyline clip-path=\"url(#clip8501)\" style=\"stroke:#cccccc; stroke-width:2; stroke-opacity:0.1; fill:none\" points=\"\n",
       "  1045.2,1166.68 1045.2,54.548 \n",
       "  \"/>\n",
       "<polyline clip-path=\"url(#clip8501)\" style=\"stroke:#cccccc; stroke-width:2; stroke-opacity:0.1; fill:none\" points=\"\n",
       "  527.267,1417.45 1060.28,1159.38 \n",
       "  \"/>\n",
       "<polyline clip-path=\"url(#clip8501)\" style=\"stroke:#cccccc; stroke-width:2; stroke-opacity:0.1; fill:none\" points=\"\n",
       "  1060.28,1159.38 1983.5,1245.4 \n",
       "  \"/>\n",
       "<polyline clip-path=\"url(#clip8501)\" style=\"stroke:#ededed; stroke-width:2; stroke-opacity:0.1; fill:none\" points=\"\n",
       "  527.267,1278.43 1060.28,1020.36 \n",
       "  \"/>\n",
       "<polyline clip-path=\"url(#clip8501)\" style=\"stroke:#ededed; stroke-width:2; stroke-opacity:0.1; fill:none\" points=\"\n",
       "  1060.28,1020.36 1983.5,1106.39 \n",
       "  \"/>\n",
       "<polyline clip-path=\"url(#clip8501)\" style=\"stroke:#cccccc; stroke-width:2; stroke-opacity:0.1; fill:none\" points=\"\n",
       "  527.267,1139.42 1060.28,881.345 \n",
       "  \"/>\n",
       "<polyline clip-path=\"url(#clip8501)\" style=\"stroke:#cccccc; stroke-width:2; stroke-opacity:0.1; fill:none\" points=\"\n",
       "  1060.28,881.345 1983.5,967.369 \n",
       "  \"/>\n",
       "<polyline clip-path=\"url(#clip8501)\" style=\"stroke:#ededed; stroke-width:2; stroke-opacity:0.1; fill:none\" points=\"\n",
       "  527.267,1000.4 1060.28,742.328 \n",
       "  \"/>\n",
       "<polyline clip-path=\"url(#clip8501)\" style=\"stroke:#ededed; stroke-width:2; stroke-opacity:0.1; fill:none\" points=\"\n",
       "  1060.28,742.328 1983.5,828.352 \n",
       "  \"/>\n",
       "<polyline clip-path=\"url(#clip8501)\" style=\"stroke:#cccccc; stroke-width:2; stroke-opacity:0.1; fill:none\" points=\"\n",
       "  527.267,861.383 1060.28,603.312 \n",
       "  \"/>\n",
       "<polyline clip-path=\"url(#clip8501)\" style=\"stroke:#cccccc; stroke-width:2; stroke-opacity:0.1; fill:none\" points=\"\n",
       "  1060.28,603.312 1983.5,689.335 \n",
       "  \"/>\n",
       "<polyline clip-path=\"url(#clip8501)\" style=\"stroke:#ededed; stroke-width:2; stroke-opacity:0.1; fill:none\" points=\"\n",
       "  527.267,722.366 1060.28,464.295 \n",
       "  \"/>\n",
       "<polyline clip-path=\"url(#clip8501)\" style=\"stroke:#ededed; stroke-width:2; stroke-opacity:0.1; fill:none\" points=\"\n",
       "  1060.28,464.295 1983.5,550.319 \n",
       "  \"/>\n",
       "<polyline clip-path=\"url(#clip8501)\" style=\"stroke:#cccccc; stroke-width:2; stroke-opacity:0.1; fill:none\" points=\"\n",
       "  527.267,583.35 1060.28,325.278 \n",
       "  \"/>\n",
       "<polyline clip-path=\"url(#clip8501)\" style=\"stroke:#cccccc; stroke-width:2; stroke-opacity:0.1; fill:none\" points=\"\n",
       "  1060.28,325.278 1983.5,411.302 \n",
       "  \"/>\n",
       "<polyline clip-path=\"url(#clip8501)\" style=\"stroke:#ededed; stroke-width:2; stroke-opacity:0.1; fill:none\" points=\"\n",
       "  527.267,444.333 1060.28,186.261 \n",
       "  \"/>\n",
       "<polyline clip-path=\"url(#clip8501)\" style=\"stroke:#ededed; stroke-width:2; stroke-opacity:0.1; fill:none\" points=\"\n",
       "  1060.28,186.261 1983.5,272.285 \n",
       "  \"/>\n",
       "<polyline clip-path=\"url(#clip8501)\" style=\"stroke:#cccccc; stroke-width:2; stroke-opacity:0.1; fill:none\" points=\"\n",
       "  527.267,305.316 1060.28,47.2441 \n",
       "  \"/>\n",
       "<polyline clip-path=\"url(#clip8501)\" style=\"stroke:#cccccc; stroke-width:2; stroke-opacity:0.1; fill:none\" points=\"\n",
       "  1060.28,47.2441 1983.5,133.268 \n",
       "  \"/>\n",
       "<polyline clip-path=\"url(#clip8501)\" style=\"stroke:#000000; stroke-width:4; stroke-opacity:1; fill:none\" points=\"\n",
       "  502.56,1131.99 498.56,1135.57 495.894,1141.8 494.561,1150.67 494.561,1155.61 495.894,1163.19 498.56,1166.84 502.56,1166.55 505.226,1165.26 509.226,1161.67 \n",
       "  511.892,1155.45 513.226,1146.57 513.226,1141.63 511.892,1134.05 509.226,1130.4 505.226,1130.7 502.56,1131.99 \n",
       "  \"/>\n",
       "<polyline clip-path=\"url(#clip8501)\" style=\"stroke:#000000; stroke-width:4; stroke-opacity:1; fill:none\" points=\"\n",
       "  471.897,875.382 474.563,872.445 478.563,865.572 478.563,900.132 \n",
       "  \"/>\n",
       "<polyline clip-path=\"url(#clip8501)\" style=\"stroke:#000000; stroke-width:4; stroke-opacity:1; fill:none\" points=\"\n",
       "  502.56,853.953 498.56,857.535 495.894,863.763 494.561,872.637 494.561,877.574 495.894,885.157 498.56,888.803 502.56,888.513 505.226,887.222 509.226,883.64 \n",
       "  511.892,877.411 513.226,868.537 513.226,863.6 511.892,856.017 509.226,852.371 505.226,852.662 502.56,853.953 \n",
       "  \"/>\n",
       "<polyline clip-path=\"url(#clip8501)\" style=\"stroke:#000000; stroke-width:4; stroke-opacity:1; fill:none\" points=\"\n",
       "  469.23,600.285 469.23,598.639 470.564,594.702 471.897,592.411 474.563,589.474 479.896,586.892 482.562,587.247 483.895,588.247 485.229,590.893 485.229,594.185 \n",
       "  483.895,598.122 481.229,604.35 467.897,627.262 486.562,618.225 \n",
       "  \"/>\n",
       "<polyline clip-path=\"url(#clip8501)\" style=\"stroke:#000000; stroke-width:4; stroke-opacity:1; fill:none\" points=\"\n",
       "  502.56,575.919 498.56,579.501 495.894,585.729 494.561,594.603 494.561,599.54 495.894,607.124 498.56,610.77 502.56,610.479 505.226,609.188 509.226,605.606 \n",
       "  511.892,599.378 513.226,590.504 513.226,585.566 511.892,577.983 509.226,574.337 505.226,574.628 502.56,575.919 \n",
       "  \"/>\n",
       "<polyline clip-path=\"url(#clip8501)\" style=\"stroke:#000000; stroke-width:4; stroke-opacity:1; fill:none\" points=\"\n",
       "  470.564,313.377 485.229,306.277 477.229,323.315 481.229,321.379 483.895,321.734 485.229,322.734 486.562,327.025 486.562,330.317 485.229,335.899 482.562,340.482 \n",
       "  478.563,344.064 474.563,346.001 470.564,346.291 469.23,345.291 467.897,342.645 \n",
       "  \"/>\n",
       "<polyline clip-path=\"url(#clip8501)\" style=\"stroke:#000000; stroke-width:4; stroke-opacity:1; fill:none\" points=\"\n",
       "  502.56,297.885 498.56,301.467 495.894,307.696 494.561,316.57 494.561,321.507 495.894,329.09 498.56,332.736 502.56,332.445 505.226,331.154 509.226,327.572 \n",
       "  511.892,321.344 513.226,312.47 513.226,307.533 511.892,299.95 509.226,296.304 505.226,296.594 502.56,297.885 \n",
       "  \"/>\n",
       "<polyline clip-path=\"url(#clip8501)\" style=\"stroke:#000000; stroke-width:4; stroke-opacity:1; fill:none\" points=\"\n",
       "  527.267,1417.45 527.267,1417.45 516.606,1422.61 527.267,1417.45 527.267,1278.43 521.936,1281.01 527.267,1278.43 527.267,1139.42 516.606,1144.58 527.267,1139.42 \n",
       "  527.267,1000.4 521.936,1002.98 527.267,1000.4 527.267,861.383 516.606,866.545 527.267,861.383 527.267,722.366 521.936,724.947 527.267,722.366 527.267,583.35 \n",
       "  516.606,588.511 527.267,583.35 527.267,444.333 521.936,446.913 527.267,444.333 527.267,305.316 516.606,310.477 527.267,305.316 \n",
       "  \"/>\n",
       "<polyline clip-path=\"url(#clip8501)\" style=\"stroke:#000000; stroke-width:4; stroke-opacity:1; fill:none\" points=\"\n",
       "  477.956,1450.32 507.324,1453.05 \n",
       "  \"/>\n",
       "<polyline clip-path=\"url(#clip8501)\" style=\"stroke:#000000; stroke-width:4; stroke-opacity:1; fill:none\" points=\"\n",
       "  523.64,1441.41 526.903,1440.07 531.797,1435.59 531.797,1470.15 \n",
       "  \"/>\n",
       "<polyline clip-path=\"url(#clip8501)\" style=\"stroke:#000000; stroke-width:4; stroke-opacity:1; fill:none\" points=\"\n",
       "  554.639,1468.98 553.008,1470.48 554.639,1472.27 556.271,1470.78 554.639,1468.98 \n",
       "  \"/>\n",
       "<polyline clip-path=\"url(#clip8501)\" style=\"stroke:#000000; stroke-width:4; stroke-opacity:1; fill:none\" points=\"\n",
       "  577.481,1439.84 572.586,1441.03 569.323,1445.66 567.691,1453.74 567.691,1458.68 569.323,1467.06 572.586,1472.3 577.481,1474.4 580.744,1474.71 585.638,1473.52 \n",
       "  588.902,1468.88 590.533,1460.81 590.533,1455.87 588.902,1447.49 585.638,1442.25 580.744,1440.15 577.481,1439.84 \n",
       "  \"/>\n",
       "<polyline clip-path=\"url(#clip8501)\" style=\"stroke:#000000; stroke-width:4; stroke-opacity:1; fill:none\" points=\"\n",
       "  695.695,1470.61 725.063,1473.34 \n",
       "  \"/>\n",
       "<polyline clip-path=\"url(#clip8501)\" style=\"stroke:#000000; stroke-width:4; stroke-opacity:1; fill:none\" points=\"\n",
       "  746.273,1455.57 741.379,1456.76 738.115,1461.39 736.484,1469.47 736.484,1474.41 738.115,1482.79 741.379,1488.03 746.273,1490.13 749.536,1490.43 754.431,1489.24 \n",
       "  757.694,1484.61 759.326,1476.53 759.326,1471.6 757.694,1463.22 754.431,1457.98 749.536,1455.87 746.273,1455.57 \n",
       "  \"/>\n",
       "<polyline clip-path=\"url(#clip8501)\" style=\"stroke:#000000; stroke-width:4; stroke-opacity:1; fill:none\" points=\"\n",
       "  772.378,1489.27 770.746,1490.76 772.378,1492.56 774.01,1491.07 772.378,1489.27 \n",
       "  \"/>\n",
       "<polyline clip-path=\"url(#clip8501)\" style=\"stroke:#000000; stroke-width:4; stroke-opacity:1; fill:none\" points=\"\n",
       "  805.009,1461.04 788.694,1459.52 787.062,1474.18 788.694,1472.69 793.588,1471.5 798.483,1471.95 803.377,1474.06 806.641,1477.65 808.272,1482.74 808.272,1486.03 \n",
       "  806.641,1490.82 803.377,1493.8 798.483,1494.99 793.588,1494.54 788.694,1492.44 787.062,1490.64 785.43,1487.2 \n",
       "  \"/>\n",
       "<polyline clip-path=\"url(#clip8501)\" style=\"stroke:#000000; stroke-width:4; stroke-opacity:1; fill:none\" points=\"\n",
       "  967.275,1476.16 962.381,1477.35 959.118,1481.99 957.486,1490.06 957.486,1495 959.118,1503.38 962.381,1508.62 967.275,1510.72 970.538,1511.03 975.433,1509.84 \n",
       "  978.696,1505.2 980.328,1497.13 980.328,1492.19 978.696,1483.81 975.433,1478.57 970.538,1476.47 967.275,1476.16 \n",
       "  \"/>\n",
       "<polyline clip-path=\"url(#clip8501)\" style=\"stroke:#000000; stroke-width:4; stroke-opacity:1; fill:none\" points=\"\n",
       "  1160.54,1494.17 1155.65,1495.36 1152.38,1499.99 1150.75,1508.07 1150.75,1513.01 1152.38,1521.39 1155.65,1526.63 1160.54,1528.73 1163.8,1529.03 1168.7,1527.85 \n",
       "  1171.96,1523.21 1173.59,1515.14 1173.59,1510.2 1171.96,1501.82 1168.7,1496.58 1163.8,1494.47 1160.54,1494.17 \n",
       "  \"/>\n",
       "<polyline clip-path=\"url(#clip8501)\" style=\"stroke:#000000; stroke-width:4; stroke-opacity:1; fill:none\" points=\"\n",
       "  1186.65,1527.87 1185.01,1529.37 1186.65,1531.16 1188.28,1529.67 1186.65,1527.87 \n",
       "  \"/>\n",
       "<polyline clip-path=\"url(#clip8501)\" style=\"stroke:#000000; stroke-width:4; stroke-opacity:1; fill:none\" points=\"\n",
       "  1219.28,1499.64 1202.96,1498.12 1201.33,1512.78 1202.96,1511.29 1207.86,1510.1 1212.75,1510.56 1217.65,1512.66 1220.91,1516.25 1222.54,1521.34 1222.54,1524.63 \n",
       "  1220.91,1529.42 1217.65,1532.41 1212.75,1533.6 1207.86,1533.14 1202.96,1531.04 1201.33,1529.24 1199.7,1525.8 \n",
       "  \"/>\n",
       "<polyline clip-path=\"url(#clip8501)\" style=\"stroke:#000000; stroke-width:4; stroke-opacity:1; fill:none\" points=\"\n",
       "  1373.39,1520.59 1376.65,1519.24 1381.54,1514.76 1381.54,1549.32 \n",
       "  \"/>\n",
       "<polyline clip-path=\"url(#clip8501)\" style=\"stroke:#000000; stroke-width:4; stroke-opacity:1; fill:none\" points=\"\n",
       "  1404.38,1548.16 1402.75,1549.65 1404.38,1551.45 1406.02,1549.96 1404.38,1548.16 \n",
       "  \"/>\n",
       "<polyline clip-path=\"url(#clip8501)\" style=\"stroke:#000000; stroke-width:4; stroke-opacity:1; fill:none\" points=\"\n",
       "  1427.23,1519.02 1422.33,1520.21 1419.07,1524.84 1417.44,1532.92 1417.44,1537.86 1419.07,1546.24 1422.33,1551.48 1427.23,1553.58 1430.49,1553.88 1435.38,1552.69 \n",
       "  1438.65,1548.06 1440.28,1539.98 1440.28,1535.05 1438.65,1526.67 1435.38,1521.43 1430.49,1519.32 1427.23,1519.02 \n",
       "  \"/>\n",
       "<polyline clip-path=\"url(#clip8501)\" style=\"stroke:#000000; stroke-width:4; stroke-opacity:1; fill:none\" points=\"\n",
       "  527.267,1417.45 553.395,1419.89 542.735,1425.05 553.395,1419.89 662.265,1430.03 656.935,1432.61 662.265,1430.03 771.134,1440.17 760.474,1445.34 771.134,1440.17 \n",
       "  880.004,1450.32 874.674,1452.9 880.004,1450.32 988.873,1460.46 978.213,1465.62 988.873,1460.46 1097.74,1470.61 1092.41,1473.19 1097.74,1470.61 1206.61,1480.75 \n",
       "  1195.95,1485.91 1206.61,1480.75 1315.48,1490.9 1310.15,1493.48 1315.48,1490.9 1424.35,1501.04 1413.69,1506.2 1424.35,1501.04 1450.48,1503.47 \n",
       "  \"/>\n",
       "<polyline clip-path=\"url(#clip8501)\" style=\"stroke:#000000; stroke-width:4; stroke-opacity:1; fill:none\" points=\"\n",
       "  1466.61,1544.46 1490.61,1532.84 \n",
       "  \"/>\n",
       "<polyline clip-path=\"url(#clip8501)\" style=\"stroke:#000000; stroke-width:4; stroke-opacity:1; fill:none\" points=\"\n",
       "  1503.94,1513.22 1506.6,1510.28 1510.6,1503.41 1510.6,1537.97 \n",
       "  \"/>\n",
       "<polyline clip-path=\"url(#clip8501)\" style=\"stroke:#000000; stroke-width:4; stroke-opacity:1; fill:none\" points=\"\n",
       "  1529.27,1525.64 1527.94,1527.93 1529.27,1528.93 1530.6,1526.64 1529.27,1525.64 \n",
       "  \"/>\n",
       "<polyline clip-path=\"url(#clip8501)\" style=\"stroke:#000000; stroke-width:4; stroke-opacity:1; fill:none\" points=\"\n",
       "  1547.93,1485.33 1543.93,1488.92 1541.27,1495.14 1539.93,1504.02 1539.93,1508.96 1541.27,1516.54 1543.93,1520.19 1547.93,1519.89 1550.6,1518.6 1554.6,1515.02 \n",
       "  1557.27,1508.79 1558.6,1499.92 1558.6,1494.98 1557.27,1487.4 1554.6,1483.75 1550.6,1484.04 1547.93,1485.33 \n",
       "  \"/>\n",
       "<polyline clip-path=\"url(#clip8501)\" style=\"stroke:#000000; stroke-width:4; stroke-opacity:1; fill:none\" points=\"\n",
       "  1592.32,1483.59 1616.32,1471.97 \n",
       "  \"/>\n",
       "<polyline clip-path=\"url(#clip8501)\" style=\"stroke:#000000; stroke-width:4; stroke-opacity:1; fill:none\" points=\"\n",
       "  1633.65,1443.83 1629.65,1447.42 1626.98,1453.64 1625.65,1462.52 1625.65,1467.45 1626.98,1475.04 1629.65,1478.68 1633.65,1478.39 1636.32,1477.1 1640.31,1473.52 \n",
       "  1642.98,1467.29 1644.31,1458.42 1644.31,1453.48 1642.98,1445.9 1640.31,1442.25 1636.32,1442.54 1633.65,1443.83 \n",
       "  \"/>\n",
       "<polyline clip-path=\"url(#clip8501)\" style=\"stroke:#000000; stroke-width:4; stroke-opacity:1; fill:none\" points=\"\n",
       "  1654.98,1464.77 1653.65,1467.07 1654.98,1468.07 1656.31,1465.77 1654.98,1464.77 \n",
       "  \"/>\n",
       "<polyline clip-path=\"url(#clip8501)\" style=\"stroke:#000000; stroke-width:4; stroke-opacity:1; fill:none\" points=\"\n",
       "  1681.64,1420.6 1668.31,1427.05 1666.98,1442.51 1668.31,1440.22 1672.31,1436.63 1676.31,1434.7 1680.31,1434.41 1682.98,1436.41 1684.31,1440.7 1684.31,1443.99 \n",
       "  1682.98,1449.57 1680.31,1454.16 1676.31,1457.74 1672.31,1459.67 1668.31,1459.96 1666.98,1458.96 1665.65,1456.32 \n",
       "  \"/>\n",
       "<polyline clip-path=\"url(#clip8501)\" style=\"stroke:#000000; stroke-width:4; stroke-opacity:1; fill:none\" points=\"\n",
       "  1762.03,1381.68 1758.03,1385.26 1755.36,1391.49 1754.03,1400.36 1754.03,1405.3 1755.36,1412.88 1758.03,1416.53 1762.03,1416.24 1764.69,1414.95 1768.69,1411.36 \n",
       "  1771.36,1405.13 1772.69,1396.26 1772.69,1391.32 1771.36,1383.74 1768.69,1380.09 1764.69,1380.39 1762.03,1381.68 \n",
       "  \"/>\n",
       "<polyline clip-path=\"url(#clip8501)\" style=\"stroke:#000000; stroke-width:4; stroke-opacity:1; fill:none\" points=\"\n",
       "  1867.74,1330.49 1863.74,1334.07 1861.07,1340.3 1859.74,1349.18 1859.74,1354.11 1861.07,1361.7 1863.74,1365.34 1867.74,1365.05 1870.41,1363.76 1874.41,1360.18 \n",
       "  1877.07,1353.95 1878.41,1345.08 1878.41,1340.14 1877.07,1332.56 1874.41,1328.91 1870.41,1329.2 1867.74,1330.49 \n",
       "  \"/>\n",
       "<polyline clip-path=\"url(#clip8501)\" style=\"stroke:#000000; stroke-width:4; stroke-opacity:1; fill:none\" points=\"\n",
       "  1889.07,1351.43 1887.74,1353.72 1889.07,1354.72 1890.4,1352.43 1889.07,1351.43 \n",
       "  \"/>\n",
       "<polyline clip-path=\"url(#clip8501)\" style=\"stroke:#000000; stroke-width:4; stroke-opacity:1; fill:none\" points=\"\n",
       "  1915.74,1307.25 1902.4,1313.71 1901.07,1329.17 1902.4,1326.88 1906.4,1323.29 1910.4,1321.36 1914.4,1321.07 1917.07,1323.07 1918.4,1327.36 1918.4,1330.65 \n",
       "  1917.07,1336.23 1914.4,1340.81 1910.4,1344.4 1906.4,1346.33 1902.4,1346.62 1901.07,1345.62 1899.74,1342.98 \n",
       "  \"/>\n",
       "<polyline clip-path=\"url(#clip8501)\" style=\"stroke:#000000; stroke-width:4; stroke-opacity:1; fill:none\" points=\"\n",
       "  1989.45,1278.15 1992.12,1275.21 1996.12,1268.34 1996.12,1302.9 \n",
       "  \"/>\n",
       "<polyline clip-path=\"url(#clip8501)\" style=\"stroke:#000000; stroke-width:4; stroke-opacity:1; fill:none\" points=\"\n",
       "  2014.78,1290.57 2013.45,1292.86 2014.78,1293.86 2016.12,1291.57 2014.78,1290.57 \n",
       "  \"/>\n",
       "<polyline clip-path=\"url(#clip8501)\" style=\"stroke:#000000; stroke-width:4; stroke-opacity:1; fill:none\" points=\"\n",
       "  2033.45,1250.26 2029.45,1253.84 2026.78,1260.07 2025.45,1268.95 2025.45,1273.88 2026.78,1281.47 2029.45,1285.11 2033.45,1284.82 2036.11,1283.53 2040.11,1279.95 \n",
       "  2042.78,1273.72 2044.11,1264.85 2044.11,1259.91 2042.78,1252.33 2040.11,1248.68 2036.11,1248.97 2033.45,1250.26 \n",
       "  \"/>\n",
       "<polyline clip-path=\"url(#clip8501)\" style=\"stroke:#000000; stroke-width:4; stroke-opacity:1; fill:none\" points=\"\n",
       "  1450.48,1503.47 1465.57,1496.17 1484.03,1497.89 1465.57,1496.17 1528.42,1465.74 1537.65,1466.6 1528.42,1465.74 1591.28,1435.3 1609.74,1437.03 1591.28,1435.3 \n",
       "  1654.13,1404.87 1663.36,1405.73 1654.13,1404.87 1716.99,1374.44 1735.45,1376.16 1716.99,1374.44 1779.84,1344.01 1789.08,1344.87 1779.84,1344.01 1842.7,1313.57 \n",
       "  1861.16,1315.29 1842.7,1313.57 1905.56,1283.14 1914.79,1284 1905.56,1283.14 1968.41,1252.71 1986.88,1254.43 1968.41,1252.71 1983.5,1245.4 \n",
       "  \"/>\n",
       "<circle clip-path=\"url(#clip8503)\" style=\"fill:#000000; stroke:none; fill-opacity:1\" cx=\"1424.73\" cy=\"1055.21\" r=\"18\"/>\n",
       "<circle clip-path=\"url(#clip8503)\" style=\"fill:#009af9; stroke:none; fill-opacity:1\" cx=\"1424.73\" cy=\"1055.21\" r=\"14\"/>\n",
       "<circle clip-path=\"url(#clip8503)\" style=\"fill:#000000; stroke:none; fill-opacity:1\" cx=\"1141.51\" cy=\"463.51\" r=\"18\"/>\n",
       "<circle clip-path=\"url(#clip8503)\" style=\"fill:#009af9; stroke:none; fill-opacity:1\" cx=\"1141.51\" cy=\"463.51\" r=\"14\"/>\n",
       "<circle clip-path=\"url(#clip8503)\" style=\"fill:#000000; stroke:none; fill-opacity:1\" cx=\"1436.83\" cy=\"558.274\" r=\"18\"/>\n",
       "<circle clip-path=\"url(#clip8503)\" style=\"fill:#009af9; stroke:none; fill-opacity:1\" cx=\"1436.83\" cy=\"558.274\" r=\"14\"/>\n",
       "<circle clip-path=\"url(#clip8503)\" style=\"fill:#000000; stroke:none; fill-opacity:1\" cx=\"732.523\" cy=\"1113.22\" r=\"18\"/>\n",
       "<circle clip-path=\"url(#clip8503)\" style=\"fill:#009af9; stroke:none; fill-opacity:1\" cx=\"732.523\" cy=\"1113.22\" r=\"14\"/>\n",
       "<circle clip-path=\"url(#clip8503)\" style=\"fill:#000000; stroke:none; fill-opacity:1\" cx=\"1709.62\" cy=\"554.489\" r=\"18\"/>\n",
       "<circle clip-path=\"url(#clip8503)\" style=\"fill:#009af9; stroke:none; fill-opacity:1\" cx=\"1709.62\" cy=\"554.489\" r=\"14\"/>\n",
       "<circle clip-path=\"url(#clip8503)\" style=\"fill:#000000; stroke:none; fill-opacity:1\" cx=\"1213.76\" cy=\"1124.73\" r=\"18\"/>\n",
       "<circle clip-path=\"url(#clip8503)\" style=\"fill:#009af9; stroke:none; fill-opacity:1\" cx=\"1213.76\" cy=\"1124.73\" r=\"14\"/>\n",
       "<circle clip-path=\"url(#clip8503)\" style=\"fill:#000000; stroke:none; fill-opacity:1\" cx=\"1007.51\" cy=\"1185.99\" r=\"18\"/>\n",
       "<circle clip-path=\"url(#clip8503)\" style=\"fill:#009af9; stroke:none; fill-opacity:1\" cx=\"1007.51\" cy=\"1185.99\" r=\"14\"/>\n",
       "<circle clip-path=\"url(#clip8503)\" style=\"fill:#000000; stroke:none; fill-opacity:1\" cx=\"1695.44\" cy=\"515.403\" r=\"18\"/>\n",
       "<circle clip-path=\"url(#clip8503)\" style=\"fill:#009af9; stroke:none; fill-opacity:1\" cx=\"1695.44\" cy=\"515.403\" r=\"14\"/>\n",
       "<circle clip-path=\"url(#clip8503)\" style=\"fill:#000000; stroke:none; fill-opacity:1\" cx=\"1538.93\" cy=\"780.897\" r=\"18\"/>\n",
       "<circle clip-path=\"url(#clip8503)\" style=\"fill:#009af9; stroke:none; fill-opacity:1\" cx=\"1538.93\" cy=\"780.897\" r=\"14\"/>\n",
       "<circle clip-path=\"url(#clip8503)\" style=\"fill:#000000; stroke:none; fill-opacity:1\" cx=\"1501.96\" cy=\"520.954\" r=\"18\"/>\n",
       "<circle clip-path=\"url(#clip8503)\" style=\"fill:#009af9; stroke:none; fill-opacity:1\" cx=\"1501.96\" cy=\"520.954\" r=\"14\"/>\n",
       "<circle clip-path=\"url(#clip8503)\" style=\"fill:#000000; stroke:none; fill-opacity:1\" cx=\"1264.54\" cy=\"456.911\" r=\"18\"/>\n",
       "<circle clip-path=\"url(#clip8503)\" style=\"fill:#009af9; stroke:none; fill-opacity:1\" cx=\"1264.54\" cy=\"456.911\" r=\"14\"/>\n",
       "<circle clip-path=\"url(#clip8503)\" style=\"fill:#000000; stroke:none; fill-opacity:1\" cx=\"1719.73\" cy=\"370.059\" r=\"18\"/>\n",
       "<circle clip-path=\"url(#clip8503)\" style=\"fill:#009af9; stroke:none; fill-opacity:1\" cx=\"1719.73\" cy=\"370.059\" r=\"14\"/>\n",
       "<circle clip-path=\"url(#clip8503)\" style=\"fill:#000000; stroke:none; fill-opacity:1\" cx=\"1702.58\" cy=\"573.122\" r=\"18\"/>\n",
       "<circle clip-path=\"url(#clip8503)\" style=\"fill:#009af9; stroke:none; fill-opacity:1\" cx=\"1702.58\" cy=\"573.122\" r=\"14\"/>\n",
       "<circle clip-path=\"url(#clip8503)\" style=\"fill:#000000; stroke:none; fill-opacity:1\" cx=\"1074.14\" cy=\"1149.95\" r=\"18\"/>\n",
       "<circle clip-path=\"url(#clip8503)\" style=\"fill:#009af9; stroke:none; fill-opacity:1\" cx=\"1074.14\" cy=\"1149.95\" r=\"14\"/>\n",
       "<circle clip-path=\"url(#clip8503)\" style=\"fill:#000000; stroke:none; fill-opacity:1\" cx=\"930.108\" cy=\"884.574\" r=\"18\"/>\n",
       "<circle clip-path=\"url(#clip8503)\" style=\"fill:#009af9; stroke:none; fill-opacity:1\" cx=\"930.108\" cy=\"884.574\" r=\"14\"/>\n",
       "<circle clip-path=\"url(#clip8503)\" style=\"fill:#000000; stroke:none; fill-opacity:1\" cx=\"1289.89\" cy=\"857.983\" r=\"18\"/>\n",
       "<circle clip-path=\"url(#clip8503)\" style=\"fill:#009af9; stroke:none; fill-opacity:1\" cx=\"1289.89\" cy=\"857.983\" r=\"14\"/>\n",
       "<circle clip-path=\"url(#clip8503)\" style=\"fill:#000000; stroke:none; fill-opacity:1\" cx=\"1174.54\" cy=\"806.841\" r=\"18\"/>\n",
       "<circle clip-path=\"url(#clip8503)\" style=\"fill:#009af9; stroke:none; fill-opacity:1\" cx=\"1174.54\" cy=\"806.841\" r=\"14\"/>\n",
       "<circle clip-path=\"url(#clip8503)\" style=\"fill:#000000; stroke:none; fill-opacity:1\" cx=\"1059.52\" cy=\"814.73\" r=\"18\"/>\n",
       "<circle clip-path=\"url(#clip8503)\" style=\"fill:#009af9; stroke:none; fill-opacity:1\" cx=\"1059.52\" cy=\"814.73\" r=\"14\"/>\n",
       "<circle clip-path=\"url(#clip8503)\" style=\"fill:#000000; stroke:none; fill-opacity:1\" cx=\"1309.04\" cy=\"606.841\" r=\"18\"/>\n",
       "<circle clip-path=\"url(#clip8503)\" style=\"fill:#009af9; stroke:none; fill-opacity:1\" cx=\"1309.04\" cy=\"606.841\" r=\"14\"/>\n",
       "<circle clip-path=\"url(#clip8503)\" style=\"fill:#000000; stroke:none; fill-opacity:1\" cx=\"1016.08\" cy=\"1194.79\" r=\"18\"/>\n",
       "<circle clip-path=\"url(#clip8503)\" style=\"fill:#009af9; stroke:none; fill-opacity:1\" cx=\"1016.08\" cy=\"1194.79\" r=\"14\"/>\n",
       "<circle clip-path=\"url(#clip8503)\" style=\"fill:#000000; stroke:none; fill-opacity:1\" cx=\"906.305\" cy=\"948.088\" r=\"18\"/>\n",
       "<circle clip-path=\"url(#clip8503)\" style=\"fill:#009af9; stroke:none; fill-opacity:1\" cx=\"906.305\" cy=\"948.088\" r=\"14\"/>\n",
       "<circle clip-path=\"url(#clip8503)\" style=\"fill:#000000; stroke:none; fill-opacity:1\" cx=\"1030.44\" cy=\"1158.7\" r=\"18\"/>\n",
       "<circle clip-path=\"url(#clip8503)\" style=\"fill:#009af9; stroke:none; fill-opacity:1\" cx=\"1030.44\" cy=\"1158.7\" r=\"14\"/>\n",
       "<circle clip-path=\"url(#clip8503)\" style=\"fill:#000000; stroke:none; fill-opacity:1\" cx=\"1570.11\" cy=\"811.836\" r=\"18\"/>\n",
       "<circle clip-path=\"url(#clip8503)\" style=\"fill:#009af9; stroke:none; fill-opacity:1\" cx=\"1570.11\" cy=\"811.836\" r=\"14\"/>\n",
       "<circle clip-path=\"url(#clip8503)\" style=\"fill:#000000; stroke:none; fill-opacity:1\" cx=\"1345.86\" cy=\"994.831\" r=\"18\"/>\n",
       "<circle clip-path=\"url(#clip8503)\" style=\"fill:#009af9; stroke:none; fill-opacity:1\" cx=\"1345.86\" cy=\"994.831\" r=\"14\"/>\n",
       "<circle clip-path=\"url(#clip8503)\" style=\"fill:#000000; stroke:none; fill-opacity:1\" cx=\"1237.31\" cy=\"499.42\" r=\"18\"/>\n",
       "<circle clip-path=\"url(#clip8503)\" style=\"fill:#009af9; stroke:none; fill-opacity:1\" cx=\"1237.31\" cy=\"499.42\" r=\"14\"/>\n",
       "<circle clip-path=\"url(#clip8503)\" style=\"fill:#000000; stroke:none; fill-opacity:1\" cx=\"927.81\" cy=\"683.518\" r=\"18\"/>\n",
       "<circle clip-path=\"url(#clip8503)\" style=\"fill:#009af9; stroke:none; fill-opacity:1\" cx=\"927.81\" cy=\"683.518\" r=\"14\"/>\n",
       "<circle clip-path=\"url(#clip8503)\" style=\"fill:#000000; stroke:none; fill-opacity:1\" cx=\"1350.81\" cy=\"885.596\" r=\"18\"/>\n",
       "<circle clip-path=\"url(#clip8503)\" style=\"fill:#009af9; stroke:none; fill-opacity:1\" cx=\"1350.81\" cy=\"885.596\" r=\"14\"/>\n",
       "<circle clip-path=\"url(#clip8503)\" style=\"fill:#000000; stroke:none; fill-opacity:1\" cx=\"1697.01\" cy=\"512.712\" r=\"18\"/>\n",
       "<circle clip-path=\"url(#clip8503)\" style=\"fill:#009af9; stroke:none; fill-opacity:1\" cx=\"1697.01\" cy=\"512.712\" r=\"14\"/>\n",
       "<circle clip-path=\"url(#clip8503)\" style=\"fill:#000000; stroke:none; fill-opacity:1\" cx=\"938.781\" cy=\"1134.24\" r=\"18\"/>\n",
       "<circle clip-path=\"url(#clip8503)\" style=\"fill:#009af9; stroke:none; fill-opacity:1\" cx=\"938.781\" cy=\"1134.24\" r=\"14\"/>\n",
       "<circle clip-path=\"url(#clip8503)\" style=\"fill:#000000; stroke:none; fill-opacity:1\" cx=\"1176.32\" cy=\"445.852\" r=\"18\"/>\n",
       "<circle clip-path=\"url(#clip8503)\" style=\"fill:#009af9; stroke:none; fill-opacity:1\" cx=\"1176.32\" cy=\"445.852\" r=\"14\"/>\n",
       "<circle clip-path=\"url(#clip8503)\" style=\"fill:#000000; stroke:none; fill-opacity:1\" cx=\"1454.79\" cy=\"981.686\" r=\"18\"/>\n",
       "<circle clip-path=\"url(#clip8503)\" style=\"fill:#009af9; stroke:none; fill-opacity:1\" cx=\"1454.79\" cy=\"981.686\" r=\"14\"/>\n",
       "<circle clip-path=\"url(#clip8503)\" style=\"fill:#000000; stroke:none; fill-opacity:1\" cx=\"983.882\" cy=\"704.911\" r=\"18\"/>\n",
       "<circle clip-path=\"url(#clip8503)\" style=\"fill:#009af9; stroke:none; fill-opacity:1\" cx=\"983.882\" cy=\"704.911\" r=\"14\"/>\n",
       "<circle clip-path=\"url(#clip8503)\" style=\"fill:#000000; stroke:none; fill-opacity:1\" cx=\"1542.55\" cy=\"917.429\" r=\"18\"/>\n",
       "<circle clip-path=\"url(#clip8503)\" style=\"fill:#009af9; stroke:none; fill-opacity:1\" cx=\"1542.55\" cy=\"917.429\" r=\"14\"/>\n",
       "<circle clip-path=\"url(#clip8503)\" style=\"fill:#000000; stroke:none; fill-opacity:1\" cx=\"827.122\" cy=\"1240.96\" r=\"18\"/>\n",
       "<circle clip-path=\"url(#clip8503)\" style=\"fill:#009af9; stroke:none; fill-opacity:1\" cx=\"827.122\" cy=\"1240.96\" r=\"14\"/>\n",
       "<circle clip-path=\"url(#clip8503)\" style=\"fill:#000000; stroke:none; fill-opacity:1\" cx=\"1265.08\" cy=\"909.055\" r=\"18\"/>\n",
       "<circle clip-path=\"url(#clip8503)\" style=\"fill:#009af9; stroke:none; fill-opacity:1\" cx=\"1265.08\" cy=\"909.055\" r=\"14\"/>\n",
       "<circle clip-path=\"url(#clip8503)\" style=\"fill:#000000; stroke:none; fill-opacity:1\" cx=\"1281.93\" cy=\"406.594\" r=\"18\"/>\n",
       "<circle clip-path=\"url(#clip8503)\" style=\"fill:#009af9; stroke:none; fill-opacity:1\" cx=\"1281.93\" cy=\"406.594\" r=\"14\"/>\n",
       "<circle clip-path=\"url(#clip8503)\" style=\"fill:#000000; stroke:none; fill-opacity:1\" cx=\"1303.67\" cy=\"573.793\" r=\"18\"/>\n",
       "<circle clip-path=\"url(#clip8503)\" style=\"fill:#009af9; stroke:none; fill-opacity:1\" cx=\"1303.67\" cy=\"573.793\" r=\"14\"/>\n",
       "<circle clip-path=\"url(#clip8503)\" style=\"fill:#000000; stroke:none; fill-opacity:1\" cx=\"1245.64\" cy=\"593.025\" r=\"18\"/>\n",
       "<circle clip-path=\"url(#clip8503)\" style=\"fill:#009af9; stroke:none; fill-opacity:1\" cx=\"1245.64\" cy=\"593.025\" r=\"14\"/>\n",
       "<circle clip-path=\"url(#clip8503)\" style=\"fill:#000000; stroke:none; fill-opacity:1\" cx=\"984.129\" cy=\"680.348\" r=\"18\"/>\n",
       "<circle clip-path=\"url(#clip8503)\" style=\"fill:#009af9; stroke:none; fill-opacity:1\" cx=\"984.129\" cy=\"680.348\" r=\"14\"/>\n",
       "<circle clip-path=\"url(#clip8503)\" style=\"fill:#000000; stroke:none; fill-opacity:1\" cx=\"1167.04\" cy=\"514.484\" r=\"18\"/>\n",
       "<circle clip-path=\"url(#clip8503)\" style=\"fill:#009af9; stroke:none; fill-opacity:1\" cx=\"1167.04\" cy=\"514.484\" r=\"14\"/>\n",
       "<circle clip-path=\"url(#clip8503)\" style=\"fill:#000000; stroke:none; fill-opacity:1\" cx=\"1676.47\" cy=\"323.898\" r=\"18\"/>\n",
       "<circle clip-path=\"url(#clip8503)\" style=\"fill:#009af9; stroke:none; fill-opacity:1\" cx=\"1676.47\" cy=\"323.898\" r=\"14\"/>\n",
       "<circle clip-path=\"url(#clip8503)\" style=\"fill:#000000; stroke:none; fill-opacity:1\" cx=\"1257.62\" cy=\"810.565\" r=\"18\"/>\n",
       "<circle clip-path=\"url(#clip8503)\" style=\"fill:#009af9; stroke:none; fill-opacity:1\" cx=\"1257.62\" cy=\"810.565\" r=\"14\"/>\n",
       "<circle clip-path=\"url(#clip8503)\" style=\"fill:#000000; stroke:none; fill-opacity:1\" cx=\"1624.17\" cy=\"426.621\" r=\"18\"/>\n",
       "<circle clip-path=\"url(#clip8503)\" style=\"fill:#009af9; stroke:none; fill-opacity:1\" cx=\"1624.17\" cy=\"426.621\" r=\"14\"/>\n",
       "<circle clip-path=\"url(#clip8503)\" style=\"fill:#000000; stroke:none; fill-opacity:1\" cx=\"1240.42\" cy=\"617.399\" r=\"18\"/>\n",
       "<circle clip-path=\"url(#clip8503)\" style=\"fill:#009af9; stroke:none; fill-opacity:1\" cx=\"1240.42\" cy=\"617.399\" r=\"14\"/>\n",
       "<circle clip-path=\"url(#clip8503)\" style=\"fill:#000000; stroke:none; fill-opacity:1\" cx=\"1284.22\" cy=\"570.778\" r=\"18\"/>\n",
       "<circle clip-path=\"url(#clip8503)\" style=\"fill:#009af9; stroke:none; fill-opacity:1\" cx=\"1284.22\" cy=\"570.778\" r=\"14\"/>\n",
       "<circle clip-path=\"url(#clip8503)\" style=\"fill:#000000; stroke:none; fill-opacity:1\" cx=\"1037.19\" cy=\"574.688\" r=\"18\"/>\n",
       "<circle clip-path=\"url(#clip8503)\" style=\"fill:#009af9; stroke:none; fill-opacity:1\" cx=\"1037.19\" cy=\"574.688\" r=\"14\"/>\n",
       "<circle clip-path=\"url(#clip8503)\" style=\"fill:#000000; stroke:none; fill-opacity:1\" cx=\"1381.03\" cy=\"496.435\" r=\"18\"/>\n",
       "<circle clip-path=\"url(#clip8503)\" style=\"fill:#009af9; stroke:none; fill-opacity:1\" cx=\"1381.03\" cy=\"496.435\" r=\"14\"/>\n",
       "<circle clip-path=\"url(#clip8503)\" style=\"fill:#000000; stroke:none; fill-opacity:1\" cx=\"1101.35\" cy=\"1110.9\" r=\"18\"/>\n",
       "<circle clip-path=\"url(#clip8503)\" style=\"fill:#009af9; stroke:none; fill-opacity:1\" cx=\"1101.35\" cy=\"1110.9\" r=\"14\"/>\n",
       "<circle clip-path=\"url(#clip8503)\" style=\"fill:#000000; stroke:none; fill-opacity:1\" cx=\"1324.59\" cy=\"1009.29\" r=\"18\"/>\n",
       "<circle clip-path=\"url(#clip8503)\" style=\"fill:#009af9; stroke:none; fill-opacity:1\" cx=\"1324.59\" cy=\"1009.29\" r=\"14\"/>\n",
       "<circle clip-path=\"url(#clip8503)\" style=\"fill:#000000; stroke:none; fill-opacity:1\" cx=\"1391.32\" cy=\"736.007\" r=\"18\"/>\n",
       "<circle clip-path=\"url(#clip8503)\" style=\"fill:#009af9; stroke:none; fill-opacity:1\" cx=\"1391.32\" cy=\"736.007\" r=\"14\"/>\n",
       "<circle clip-path=\"url(#clip8503)\" style=\"fill:#000000; stroke:none; fill-opacity:1\" cx=\"1653.88\" cy=\"693.602\" r=\"18\"/>\n",
       "<circle clip-path=\"url(#clip8503)\" style=\"fill:#009af9; stroke:none; fill-opacity:1\" cx=\"1653.88\" cy=\"693.602\" r=\"14\"/>\n",
       "<circle clip-path=\"url(#clip8503)\" style=\"fill:#000000; stroke:none; fill-opacity:1\" cx=\"692.489\" cy=\"1223.8\" r=\"18\"/>\n",
       "<circle clip-path=\"url(#clip8503)\" style=\"fill:#009af9; stroke:none; fill-opacity:1\" cx=\"692.489\" cy=\"1223.8\" r=\"14\"/>\n",
       "<circle clip-path=\"url(#clip8503)\" style=\"fill:#000000; stroke:none; fill-opacity:1\" cx=\"969.88\" cy=\"1218.21\" r=\"18\"/>\n",
       "<circle clip-path=\"url(#clip8503)\" style=\"fill:#009af9; stroke:none; fill-opacity:1\" cx=\"969.88\" cy=\"1218.21\" r=\"14\"/>\n",
       "<circle clip-path=\"url(#clip8503)\" style=\"fill:#000000; stroke:none; fill-opacity:1\" cx=\"1188.06\" cy=\"1156.26\" r=\"18\"/>\n",
       "<circle clip-path=\"url(#clip8503)\" style=\"fill:#009af9; stroke:none; fill-opacity:1\" cx=\"1188.06\" cy=\"1156.26\" r=\"14\"/>\n",
       "<circle clip-path=\"url(#clip8503)\" style=\"fill:#000000; stroke:none; fill-opacity:1\" cx=\"1742.74\" cy=\"304.349\" r=\"18\"/>\n",
       "<circle clip-path=\"url(#clip8503)\" style=\"fill:#009af9; stroke:none; fill-opacity:1\" cx=\"1742.74\" cy=\"304.349\" r=\"14\"/>\n",
       "<circle clip-path=\"url(#clip8503)\" style=\"fill:#000000; stroke:none; fill-opacity:1\" cx=\"1466.14\" cy=\"620.392\" r=\"18\"/>\n",
       "<circle clip-path=\"url(#clip8503)\" style=\"fill:#009af9; stroke:none; fill-opacity:1\" cx=\"1466.14\" cy=\"620.392\" r=\"14\"/>\n",
       "<circle clip-path=\"url(#clip8503)\" style=\"fill:#000000; stroke:none; fill-opacity:1\" cx=\"820.691\" cy=\"1215.26\" r=\"18\"/>\n",
       "<circle clip-path=\"url(#clip8503)\" style=\"fill:#009af9; stroke:none; fill-opacity:1\" cx=\"820.691\" cy=\"1215.26\" r=\"14\"/>\n",
       "<circle clip-path=\"url(#clip8503)\" style=\"fill:#000000; stroke:none; fill-opacity:1\" cx=\"1354.11\" cy=\"1097.85\" r=\"18\"/>\n",
       "<circle clip-path=\"url(#clip8503)\" style=\"fill:#009af9; stroke:none; fill-opacity:1\" cx=\"1354.11\" cy=\"1097.85\" r=\"14\"/>\n",
       "<circle clip-path=\"url(#clip8503)\" style=\"fill:#000000; stroke:none; fill-opacity:1\" cx=\"1166.78\" cy=\"433.82\" r=\"18\"/>\n",
       "<circle clip-path=\"url(#clip8503)\" style=\"fill:#009af9; stroke:none; fill-opacity:1\" cx=\"1166.78\" cy=\"433.82\" r=\"14\"/>\n",
       "<circle clip-path=\"url(#clip8503)\" style=\"fill:#000000; stroke:none; fill-opacity:1\" cx=\"1687.24\" cy=\"495.485\" r=\"18\"/>\n",
       "<circle clip-path=\"url(#clip8503)\" style=\"fill:#009af9; stroke:none; fill-opacity:1\" cx=\"1687.24\" cy=\"495.485\" r=\"14\"/>\n",
       "<circle clip-path=\"url(#clip8503)\" style=\"fill:#000000; stroke:none; fill-opacity:1\" cx=\"1446.37\" cy=\"1068.41\" r=\"18\"/>\n",
       "<circle clip-path=\"url(#clip8503)\" style=\"fill:#009af9; stroke:none; fill-opacity:1\" cx=\"1446.37\" cy=\"1068.41\" r=\"14\"/>\n",
       "<circle clip-path=\"url(#clip8503)\" style=\"fill:#000000; stroke:none; fill-opacity:1\" cx=\"686.579\" cy=\"1250.02\" r=\"18\"/>\n",
       "<circle clip-path=\"url(#clip8503)\" style=\"fill:#009af9; stroke:none; fill-opacity:1\" cx=\"686.579\" cy=\"1250.02\" r=\"14\"/>\n",
       "<circle clip-path=\"url(#clip8503)\" style=\"fill:#000000; stroke:none; fill-opacity:1\" cx=\"1165.23\" cy=\"965\" r=\"18\"/>\n",
       "<circle clip-path=\"url(#clip8503)\" style=\"fill:#009af9; stroke:none; fill-opacity:1\" cx=\"1165.23\" cy=\"965\" r=\"14\"/>\n",
       "<circle clip-path=\"url(#clip8503)\" style=\"fill:#000000; stroke:none; fill-opacity:1\" cx=\"957.869\" cy=\"1019.6\" r=\"18\"/>\n",
       "<circle clip-path=\"url(#clip8503)\" style=\"fill:#009af9; stroke:none; fill-opacity:1\" cx=\"957.869\" cy=\"1019.6\" r=\"14\"/>\n",
       "<circle clip-path=\"url(#clip8503)\" style=\"fill:#000000; stroke:none; fill-opacity:1\" cx=\"1445.83\" cy=\"416.169\" r=\"18\"/>\n",
       "<circle clip-path=\"url(#clip8503)\" style=\"fill:#009af9; stroke:none; fill-opacity:1\" cx=\"1445.83\" cy=\"416.169\" r=\"14\"/>\n",
       "<circle clip-path=\"url(#clip8503)\" style=\"fill:#000000; stroke:none; fill-opacity:1\" cx=\"1342.75\" cy=\"863.877\" r=\"18\"/>\n",
       "<circle clip-path=\"url(#clip8503)\" style=\"fill:#009af9; stroke:none; fill-opacity:1\" cx=\"1342.75\" cy=\"863.877\" r=\"14\"/>\n",
       "<circle clip-path=\"url(#clip8503)\" style=\"fill:#000000; stroke:none; fill-opacity:1\" cx=\"1624.34\" cy=\"328.384\" r=\"18\"/>\n",
       "<circle clip-path=\"url(#clip8503)\" style=\"fill:#009af9; stroke:none; fill-opacity:1\" cx=\"1624.34\" cy=\"328.384\" r=\"14\"/>\n",
       "<circle clip-path=\"url(#clip8503)\" style=\"fill:#000000; stroke:none; fill-opacity:1\" cx=\"750.872\" cy=\"1127.57\" r=\"18\"/>\n",
       "<circle clip-path=\"url(#clip8503)\" style=\"fill:#009af9; stroke:none; fill-opacity:1\" cx=\"750.872\" cy=\"1127.57\" r=\"14\"/>\n",
       "<circle clip-path=\"url(#clip8503)\" style=\"fill:#000000; stroke:none; fill-opacity:1\" cx=\"1044.68\" cy=\"522.152\" r=\"18\"/>\n",
       "<circle clip-path=\"url(#clip8503)\" style=\"fill:#009af9; stroke:none; fill-opacity:1\" cx=\"1044.68\" cy=\"522.152\" r=\"14\"/>\n",
       "<circle clip-path=\"url(#clip8503)\" style=\"fill:#000000; stroke:none; fill-opacity:1\" cx=\"1123.66\" cy=\"620.041\" r=\"18\"/>\n",
       "<circle clip-path=\"url(#clip8503)\" style=\"fill:#009af9; stroke:none; fill-opacity:1\" cx=\"1123.66\" cy=\"620.041\" r=\"14\"/>\n",
       "<circle clip-path=\"url(#clip8503)\" style=\"fill:#000000; stroke:none; fill-opacity:1\" cx=\"1446.88\" cy=\"727.336\" r=\"18\"/>\n",
       "<circle clip-path=\"url(#clip8503)\" style=\"fill:#009af9; stroke:none; fill-opacity:1\" cx=\"1446.88\" cy=\"727.336\" r=\"14\"/>\n",
       "<circle clip-path=\"url(#clip8503)\" style=\"fill:#000000; stroke:none; fill-opacity:1\" cx=\"1366.29\" cy=\"852.379\" r=\"18\"/>\n",
       "<circle clip-path=\"url(#clip8503)\" style=\"fill:#009af9; stroke:none; fill-opacity:1\" cx=\"1366.29\" cy=\"852.379\" r=\"14\"/>\n",
       "<circle clip-path=\"url(#clip8503)\" style=\"fill:#000000; stroke:none; fill-opacity:1\" cx=\"1242.9\" cy=\"935.64\" r=\"18\"/>\n",
       "<circle clip-path=\"url(#clip8503)\" style=\"fill:#009af9; stroke:none; fill-opacity:1\" cx=\"1242.9\" cy=\"935.64\" r=\"14\"/>\n",
       "<circle clip-path=\"url(#clip8503)\" style=\"fill:#000000; stroke:none; fill-opacity:1\" cx=\"1395.84\" cy=\"830.561\" r=\"18\"/>\n",
       "<circle clip-path=\"url(#clip8503)\" style=\"fill:#009af9; stroke:none; fill-opacity:1\" cx=\"1395.84\" cy=\"830.561\" r=\"14\"/>\n",
       "<circle clip-path=\"url(#clip8503)\" style=\"fill:#000000; stroke:none; fill-opacity:1\" cx=\"695.105\" cy=\"1199.37\" r=\"18\"/>\n",
       "<circle clip-path=\"url(#clip8503)\" style=\"fill:#009af9; stroke:none; fill-opacity:1\" cx=\"695.105\" cy=\"1199.37\" r=\"14\"/>\n",
       "<circle clip-path=\"url(#clip8503)\" style=\"fill:#000000; stroke:none; fill-opacity:1\" cx=\"1527.94\" cy=\"725.966\" r=\"18\"/>\n",
       "<circle clip-path=\"url(#clip8503)\" style=\"fill:#009af9; stroke:none; fill-opacity:1\" cx=\"1527.94\" cy=\"725.966\" r=\"14\"/>\n",
       "<circle clip-path=\"url(#clip8503)\" style=\"fill:#000000; stroke:none; fill-opacity:1\" cx=\"1117.01\" cy=\"988.403\" r=\"18\"/>\n",
       "<circle clip-path=\"url(#clip8503)\" style=\"fill:#009af9; stroke:none; fill-opacity:1\" cx=\"1117.01\" cy=\"988.403\" r=\"14\"/>\n",
       "<circle clip-path=\"url(#clip8503)\" style=\"fill:#000000; stroke:none; fill-opacity:1\" cx=\"1565.18\" cy=\"711.984\" r=\"18\"/>\n",
       "<circle clip-path=\"url(#clip8503)\" style=\"fill:#009af9; stroke:none; fill-opacity:1\" cx=\"1565.18\" cy=\"711.984\" r=\"14\"/>\n",
       "<circle clip-path=\"url(#clip8503)\" style=\"fill:#000000; stroke:none; fill-opacity:1\" cx=\"1484.46\" cy=\"396.888\" r=\"18\"/>\n",
       "<circle clip-path=\"url(#clip8503)\" style=\"fill:#009af9; stroke:none; fill-opacity:1\" cx=\"1484.46\" cy=\"396.888\" r=\"14\"/>\n",
       "<circle clip-path=\"url(#clip8503)\" style=\"fill:#000000; stroke:none; fill-opacity:1\" cx=\"1263.49\" cy=\"578.551\" r=\"18\"/>\n",
       "<circle clip-path=\"url(#clip8503)\" style=\"fill:#009af9; stroke:none; fill-opacity:1\" cx=\"1263.49\" cy=\"578.551\" r=\"14\"/>\n",
       "<circle clip-path=\"url(#clip8503)\" style=\"fill:#000000; stroke:none; fill-opacity:1\" cx=\"894.665\" cy=\"903.064\" r=\"18\"/>\n",
       "<circle clip-path=\"url(#clip8503)\" style=\"fill:#009af9; stroke:none; fill-opacity:1\" cx=\"894.665\" cy=\"903.064\" r=\"14\"/>\n",
       "<circle clip-path=\"url(#clip8503)\" style=\"fill:#000000; stroke:none; fill-opacity:1\" cx=\"1538.54\" cy=\"940.83\" r=\"18\"/>\n",
       "<circle clip-path=\"url(#clip8503)\" style=\"fill:#009af9; stroke:none; fill-opacity:1\" cx=\"1538.54\" cy=\"940.83\" r=\"14\"/>\n",
       "<circle clip-path=\"url(#clip8503)\" style=\"fill:#000000; stroke:none; fill-opacity:1\" cx=\"971.929\" cy=\"782.927\" r=\"18\"/>\n",
       "<circle clip-path=\"url(#clip8503)\" style=\"fill:#009af9; stroke:none; fill-opacity:1\" cx=\"971.929\" cy=\"782.927\" r=\"14\"/>\n",
       "<circle clip-path=\"url(#clip8503)\" style=\"fill:#000000; stroke:none; fill-opacity:1\" cx=\"920.825\" cy=\"1223.36\" r=\"18\"/>\n",
       "<circle clip-path=\"url(#clip8503)\" style=\"fill:#009af9; stroke:none; fill-opacity:1\" cx=\"920.825\" cy=\"1223.36\" r=\"14\"/>\n",
       "<circle clip-path=\"url(#clip8503)\" style=\"fill:#000000; stroke:none; fill-opacity:1\" cx=\"1448.27\" cy=\"369.229\" r=\"18\"/>\n",
       "<circle clip-path=\"url(#clip8503)\" style=\"fill:#009af9; stroke:none; fill-opacity:1\" cx=\"1448.27\" cy=\"369.229\" r=\"14\"/>\n",
       "<circle clip-path=\"url(#clip8503)\" style=\"fill:#000000; stroke:none; fill-opacity:1\" cx=\"1578.33\" cy=\"544.059\" r=\"18\"/>\n",
       "<circle clip-path=\"url(#clip8503)\" style=\"fill:#009af9; stroke:none; fill-opacity:1\" cx=\"1578.33\" cy=\"544.059\" r=\"14\"/>\n",
       "<circle clip-path=\"url(#clip8503)\" style=\"fill:#000000; stroke:none; fill-opacity:1\" cx=\"1061.39\" cy=\"831.904\" r=\"18\"/>\n",
       "<circle clip-path=\"url(#clip8503)\" style=\"fill:#009af9; stroke:none; fill-opacity:1\" cx=\"1061.39\" cy=\"831.904\" r=\"14\"/>\n",
       "<circle clip-path=\"url(#clip8503)\" style=\"fill:#000000; stroke:none; fill-opacity:1\" cx=\"1641.01\" cy=\"444.534\" r=\"18\"/>\n",
       "<circle clip-path=\"url(#clip8503)\" style=\"fill:#009af9; stroke:none; fill-opacity:1\" cx=\"1641.01\" cy=\"444.534\" r=\"14\"/>\n",
       "<circle clip-path=\"url(#clip8503)\" style=\"fill:#000000; stroke:none; fill-opacity:1\" cx=\"917.01\" cy=\"1073.89\" r=\"18\"/>\n",
       "<circle clip-path=\"url(#clip8503)\" style=\"fill:#009af9; stroke:none; fill-opacity:1\" cx=\"917.01\" cy=\"1073.89\" r=\"14\"/>\n",
       "<circle clip-path=\"url(#clip8503)\" style=\"fill:#000000; stroke:none; fill-opacity:1\" cx=\"1449.29\" cy=\"427.711\" r=\"18\"/>\n",
       "<circle clip-path=\"url(#clip8503)\" style=\"fill:#009af9; stroke:none; fill-opacity:1\" cx=\"1449.29\" cy=\"427.711\" r=\"14\"/>\n",
       "<circle clip-path=\"url(#clip8503)\" style=\"fill:#000000; stroke:none; fill-opacity:1\" cx=\"1440.77\" cy=\"338.964\" r=\"18\"/>\n",
       "<circle clip-path=\"url(#clip8503)\" style=\"fill:#009af9; stroke:none; fill-opacity:1\" cx=\"1440.77\" cy=\"338.964\" r=\"14\"/>\n",
       "<circle clip-path=\"url(#clip8503)\" style=\"fill:#000000; stroke:none; fill-opacity:1\" cx=\"958.968\" cy=\"934.062\" r=\"18\"/>\n",
       "<circle clip-path=\"url(#clip8503)\" style=\"fill:#009af9; stroke:none; fill-opacity:1\" cx=\"958.968\" cy=\"934.062\" r=\"14\"/>\n",
       "<circle clip-path=\"url(#clip8503)\" style=\"fill:#000000; stroke:none; fill-opacity:1\" cx=\"1097.11\" cy=\"956.793\" r=\"18\"/>\n",
       "<circle clip-path=\"url(#clip8503)\" style=\"fill:#009af9; stroke:none; fill-opacity:1\" cx=\"1097.11\" cy=\"956.793\" r=\"14\"/>\n",
       "<circle clip-path=\"url(#clip8503)\" style=\"fill:#000000; stroke:none; fill-opacity:1\" cx=\"1212.17\" cy=\"1185.98\" r=\"18\"/>\n",
       "<circle clip-path=\"url(#clip8503)\" style=\"fill:#009af9; stroke:none; fill-opacity:1\" cx=\"1212.17\" cy=\"1185.98\" r=\"14\"/>\n",
       "<circle clip-path=\"url(#clip8503)\" style=\"fill:#000000; stroke:none; fill-opacity:1\" cx=\"1330.8\" cy=\"537.787\" r=\"18\"/>\n",
       "<circle clip-path=\"url(#clip8503)\" style=\"fill:#009af9; stroke:none; fill-opacity:1\" cx=\"1330.8\" cy=\"537.787\" r=\"14\"/>\n",
       "<circle clip-path=\"url(#clip8503)\" style=\"fill:#000000; stroke:none; fill-opacity:1\" cx=\"1056.49\" cy=\"1186.38\" r=\"18\"/>\n",
       "<circle clip-path=\"url(#clip8503)\" style=\"fill:#009af9; stroke:none; fill-opacity:1\" cx=\"1056.49\" cy=\"1186.38\" r=\"14\"/>\n",
       "<circle clip-path=\"url(#clip8503)\" style=\"fill:#000000; stroke:none; fill-opacity:1\" cx=\"1605.91\" cy=\"712.505\" r=\"18\"/>\n",
       "<circle clip-path=\"url(#clip8503)\" style=\"fill:#009af9; stroke:none; fill-opacity:1\" cx=\"1605.91\" cy=\"712.505\" r=\"14\"/>\n",
       "<circle clip-path=\"url(#clip8503)\" style=\"fill:#000000; stroke:none; fill-opacity:1\" cx=\"1412.31\" cy=\"588.83\" r=\"18\"/>\n",
       "<circle clip-path=\"url(#clip8503)\" style=\"fill:#009af9; stroke:none; fill-opacity:1\" cx=\"1412.31\" cy=\"588.83\" r=\"14\"/>\n",
       "<circle clip-path=\"url(#clip8503)\" style=\"fill:#000000; stroke:none; fill-opacity:1\" cx=\"1535.02\" cy=\"407.102\" r=\"18\"/>\n",
       "<circle clip-path=\"url(#clip8503)\" style=\"fill:#009af9; stroke:none; fill-opacity:1\" cx=\"1535.02\" cy=\"407.102\" r=\"14\"/>\n",
       "<circle clip-path=\"url(#clip8503)\" style=\"fill:#000000; stroke:none; fill-opacity:1\" cx=\"943.69\" cy=\"1195.77\" r=\"18\"/>\n",
       "<circle clip-path=\"url(#clip8503)\" style=\"fill:#009af9; stroke:none; fill-opacity:1\" cx=\"943.69\" cy=\"1195.77\" r=\"14\"/>\n",
       "<circle clip-path=\"url(#clip8503)\" style=\"fill:#000000; stroke:none; fill-opacity:1\" cx=\"963.856\" cy=\"1158.66\" r=\"18\"/>\n",
       "<circle clip-path=\"url(#clip8503)\" style=\"fill:#009af9; stroke:none; fill-opacity:1\" cx=\"963.856\" cy=\"1158.66\" r=\"14\"/>\n",
       "<circle clip-path=\"url(#clip8503)\" style=\"fill:#000000; stroke:none; fill-opacity:1\" cx=\"1306.69\" cy=\"1125.52\" r=\"18\"/>\n",
       "<circle clip-path=\"url(#clip8503)\" style=\"fill:#009af9; stroke:none; fill-opacity:1\" cx=\"1306.69\" cy=\"1125.52\" r=\"14\"/>\n",
       "<circle clip-path=\"url(#clip8503)\" style=\"fill:#000000; stroke:none; fill-opacity:1\" cx=\"783.586\" cy=\"1232.21\" r=\"18\"/>\n",
       "<circle clip-path=\"url(#clip8503)\" style=\"fill:#009af9; stroke:none; fill-opacity:1\" cx=\"783.586\" cy=\"1232.21\" r=\"14\"/>\n",
       "<circle clip-path=\"url(#clip8503)\" style=\"fill:#000000; stroke:none; fill-opacity:1\" cx=\"1638.94\" cy=\"667.072\" r=\"18\"/>\n",
       "<circle clip-path=\"url(#clip8503)\" style=\"fill:#009af9; stroke:none; fill-opacity:1\" cx=\"1638.94\" cy=\"667.072\" r=\"14\"/>\n",
       "<circle clip-path=\"url(#clip8503)\" style=\"fill:#000000; stroke:none; fill-opacity:1\" cx=\"1162.07\" cy=\"431.821\" r=\"18\"/>\n",
       "<circle clip-path=\"url(#clip8503)\" style=\"fill:#009af9; stroke:none; fill-opacity:1\" cx=\"1162.07\" cy=\"431.821\" r=\"14\"/>\n",
       "<circle clip-path=\"url(#clip8503)\" style=\"fill:#000000; stroke:none; fill-opacity:1\" cx=\"1089.99\" cy=\"1172.68\" r=\"18\"/>\n",
       "<circle clip-path=\"url(#clip8503)\" style=\"fill:#009af9; stroke:none; fill-opacity:1\" cx=\"1089.99\" cy=\"1172.68\" r=\"14\"/>\n",
       "<circle clip-path=\"url(#clip8503)\" style=\"fill:#000000; stroke:none; fill-opacity:1\" cx=\"1322.27\" cy=\"940.182\" r=\"18\"/>\n",
       "<circle clip-path=\"url(#clip8503)\" style=\"fill:#009af9; stroke:none; fill-opacity:1\" cx=\"1322.27\" cy=\"940.182\" r=\"14\"/>\n",
       "<circle clip-path=\"url(#clip8503)\" style=\"fill:#000000; stroke:none; fill-opacity:1\" cx=\"1168.28\" cy=\"1167.75\" r=\"18\"/>\n",
       "<circle clip-path=\"url(#clip8503)\" style=\"fill:#009af9; stroke:none; fill-opacity:1\" cx=\"1168.28\" cy=\"1167.75\" r=\"14\"/>\n",
       "<circle clip-path=\"url(#clip8503)\" style=\"fill:#000000; stroke:none; fill-opacity:1\" cx=\"1394.32\" cy=\"413.034\" r=\"18\"/>\n",
       "<circle clip-path=\"url(#clip8503)\" style=\"fill:#009af9; stroke:none; fill-opacity:1\" cx=\"1394.32\" cy=\"413.034\" r=\"14\"/>\n",
       "<circle clip-path=\"url(#clip8503)\" style=\"fill:#000000; stroke:none; fill-opacity:1\" cx=\"1023.17\" cy=\"1119.17\" r=\"18\"/>\n",
       "<circle clip-path=\"url(#clip8503)\" style=\"fill:#009af9; stroke:none; fill-opacity:1\" cx=\"1023.17\" cy=\"1119.17\" r=\"14\"/>\n",
       "<circle clip-path=\"url(#clip8503)\" style=\"fill:#000000; stroke:none; fill-opacity:1\" cx=\"969.846\" cy=\"1143.61\" r=\"18\"/>\n",
       "<circle clip-path=\"url(#clip8503)\" style=\"fill:#009af9; stroke:none; fill-opacity:1\" cx=\"969.846\" cy=\"1143.61\" r=\"14\"/>\n",
       "<circle clip-path=\"url(#clip8503)\" style=\"fill:#000000; stroke:none; fill-opacity:1\" cx=\"802.579\" cy=\"1060.33\" r=\"18\"/>\n",
       "<circle clip-path=\"url(#clip8503)\" style=\"fill:#009af9; stroke:none; fill-opacity:1\" cx=\"802.579\" cy=\"1060.33\" r=\"14\"/>\n",
       "<circle clip-path=\"url(#clip8503)\" style=\"fill:#000000; stroke:none; fill-opacity:1\" cx=\"1491.56\" cy=\"926.571\" r=\"18\"/>\n",
       "<circle clip-path=\"url(#clip8503)\" style=\"fill:#009af9; stroke:none; fill-opacity:1\" cx=\"1491.56\" cy=\"926.571\" r=\"14\"/>\n",
       "<circle clip-path=\"url(#clip8503)\" style=\"fill:#000000; stroke:none; fill-opacity:1\" cx=\"953.747\" cy=\"763.801\" r=\"18\"/>\n",
       "<circle clip-path=\"url(#clip8503)\" style=\"fill:#009af9; stroke:none; fill-opacity:1\" cx=\"953.747\" cy=\"763.801\" r=\"14\"/>\n",
       "<circle clip-path=\"url(#clip8503)\" style=\"fill:#000000; stroke:none; fill-opacity:1\" cx=\"1177.9\" cy=\"943.282\" r=\"18\"/>\n",
       "<circle clip-path=\"url(#clip8503)\" style=\"fill:#009af9; stroke:none; fill-opacity:1\" cx=\"1177.9\" cy=\"943.282\" r=\"14\"/>\n",
       "<circle clip-path=\"url(#clip8503)\" style=\"fill:#000000; stroke:none; fill-opacity:1\" cx=\"1054.09\" cy=\"807.903\" r=\"18\"/>\n",
       "<circle clip-path=\"url(#clip8503)\" style=\"fill:#009af9; stroke:none; fill-opacity:1\" cx=\"1054.09\" cy=\"807.903\" r=\"14\"/>\n",
       "<circle clip-path=\"url(#clip8503)\" style=\"fill:#000000; stroke:none; fill-opacity:1\" cx=\"1367.21\" cy=\"571.437\" r=\"18\"/>\n",
       "<circle clip-path=\"url(#clip8503)\" style=\"fill:#009af9; stroke:none; fill-opacity:1\" cx=\"1367.21\" cy=\"571.437\" r=\"14\"/>\n",
       "<circle clip-path=\"url(#clip8503)\" style=\"fill:#000000; stroke:none; fill-opacity:1\" cx=\"1269.13\" cy=\"396.353\" r=\"18\"/>\n",
       "<circle clip-path=\"url(#clip8503)\" style=\"fill:#009af9; stroke:none; fill-opacity:1\" cx=\"1269.13\" cy=\"396.353\" r=\"14\"/>\n",
       "<circle clip-path=\"url(#clip8503)\" style=\"fill:#000000; stroke:none; fill-opacity:1\" cx=\"1701.13\" cy=\"513.232\" r=\"18\"/>\n",
       "<circle clip-path=\"url(#clip8503)\" style=\"fill:#009af9; stroke:none; fill-opacity:1\" cx=\"1701.13\" cy=\"513.232\" r=\"14\"/>\n",
       "<circle clip-path=\"url(#clip8503)\" style=\"fill:#000000; stroke:none; fill-opacity:1\" cx=\"1316.32\" cy=\"502.532\" r=\"18\"/>\n",
       "<circle clip-path=\"url(#clip8503)\" style=\"fill:#009af9; stroke:none; fill-opacity:1\" cx=\"1316.32\" cy=\"502.532\" r=\"14\"/>\n",
       "<circle clip-path=\"url(#clip8503)\" style=\"fill:#000000; stroke:none; fill-opacity:1\" cx=\"1262.9\" cy=\"1093.53\" r=\"18\"/>\n",
       "<circle clip-path=\"url(#clip8503)\" style=\"fill:#009af9; stroke:none; fill-opacity:1\" cx=\"1262.9\" cy=\"1093.53\" r=\"14\"/>\n",
       "<circle clip-path=\"url(#clip8503)\" style=\"fill:#000000; stroke:none; fill-opacity:1\" cx=\"1799.83\" cy=\"275.834\" r=\"18\"/>\n",
       "<circle clip-path=\"url(#clip8503)\" style=\"fill:#009af9; stroke:none; fill-opacity:1\" cx=\"1799.83\" cy=\"275.834\" r=\"14\"/>\n",
       "<circle clip-path=\"url(#clip8503)\" style=\"fill:#000000; stroke:none; fill-opacity:1\" cx=\"1276.23\" cy=\"486.723\" r=\"18\"/>\n",
       "<circle clip-path=\"url(#clip8503)\" style=\"fill:#009af9; stroke:none; fill-opacity:1\" cx=\"1276.23\" cy=\"486.723\" r=\"14\"/>\n",
       "<circle clip-path=\"url(#clip8503)\" style=\"fill:#000000; stroke:none; fill-opacity:1\" cx=\"1443.84\" cy=\"840.981\" r=\"18\"/>\n",
       "<circle clip-path=\"url(#clip8503)\" style=\"fill:#009af9; stroke:none; fill-opacity:1\" cx=\"1443.84\" cy=\"840.981\" r=\"14\"/>\n",
       "<circle clip-path=\"url(#clip8503)\" style=\"fill:#000000; stroke:none; fill-opacity:1\" cx=\"1083.85\" cy=\"1124.57\" r=\"18\"/>\n",
       "<circle clip-path=\"url(#clip8503)\" style=\"fill:#009af9; stroke:none; fill-opacity:1\" cx=\"1083.85\" cy=\"1124.57\" r=\"14\"/>\n",
       "<circle clip-path=\"url(#clip8503)\" style=\"fill:#000000; stroke:none; fill-opacity:1\" cx=\"1470.1\" cy=\"814.368\" r=\"18\"/>\n",
       "<circle clip-path=\"url(#clip8503)\" style=\"fill:#009af9; stroke:none; fill-opacity:1\" cx=\"1470.1\" cy=\"814.368\" r=\"14\"/>\n",
       "<circle clip-path=\"url(#clip8503)\" style=\"fill:#000000; stroke:none; fill-opacity:1\" cx=\"1120.12\" cy=\"1011.97\" r=\"18\"/>\n",
       "<circle clip-path=\"url(#clip8503)\" style=\"fill:#009af9; stroke:none; fill-opacity:1\" cx=\"1120.12\" cy=\"1011.97\" r=\"14\"/>\n",
       "<circle clip-path=\"url(#clip8503)\" style=\"fill:#000000; stroke:none; fill-opacity:1\" cx=\"847.542\" cy=\"1176.36\" r=\"18\"/>\n",
       "<circle clip-path=\"url(#clip8503)\" style=\"fill:#009af9; stroke:none; fill-opacity:1\" cx=\"847.542\" cy=\"1176.36\" r=\"14\"/>\n",
       "<circle clip-path=\"url(#clip8503)\" style=\"fill:#000000; stroke:none; fill-opacity:1\" cx=\"1703.66\" cy=\"583.914\" r=\"18\"/>\n",
       "<circle clip-path=\"url(#clip8503)\" style=\"fill:#009af9; stroke:none; fill-opacity:1\" cx=\"1703.66\" cy=\"583.914\" r=\"14\"/>\n",
       "<circle clip-path=\"url(#clip8503)\" style=\"fill:#000000; stroke:none; fill-opacity:1\" cx=\"1395.39\" cy=\"390.359\" r=\"18\"/>\n",
       "<circle clip-path=\"url(#clip8503)\" style=\"fill:#009af9; stroke:none; fill-opacity:1\" cx=\"1395.39\" cy=\"390.359\" r=\"14\"/>\n",
       "<circle clip-path=\"url(#clip8503)\" style=\"fill:#000000; stroke:none; fill-opacity:1\" cx=\"1752.59\" cy=\"426.323\" r=\"18\"/>\n",
       "<circle clip-path=\"url(#clip8503)\" style=\"fill:#009af9; stroke:none; fill-opacity:1\" cx=\"1752.59\" cy=\"426.323\" r=\"14\"/>\n",
       "<circle clip-path=\"url(#clip8503)\" style=\"fill:#000000; stroke:none; fill-opacity:1\" cx=\"1443.58\" cy=\"685.156\" r=\"18\"/>\n",
       "<circle clip-path=\"url(#clip8503)\" style=\"fill:#009af9; stroke:none; fill-opacity:1\" cx=\"1443.58\" cy=\"685.156\" r=\"14\"/>\n",
       "<circle clip-path=\"url(#clip8503)\" style=\"fill:#000000; stroke:none; fill-opacity:1\" cx=\"1024.49\" cy=\"959.19\" r=\"18\"/>\n",
       "<circle clip-path=\"url(#clip8503)\" style=\"fill:#009af9; stroke:none; fill-opacity:1\" cx=\"1024.49\" cy=\"959.19\" r=\"14\"/>\n",
       "<circle clip-path=\"url(#clip8503)\" style=\"fill:#000000; stroke:none; fill-opacity:1\" cx=\"1155.48\" cy=\"831.807\" r=\"18\"/>\n",
       "<circle clip-path=\"url(#clip8503)\" style=\"fill:#009af9; stroke:none; fill-opacity:1\" cx=\"1155.48\" cy=\"831.807\" r=\"14\"/>\n",
       "<circle clip-path=\"url(#clip8503)\" style=\"fill:#000000; stroke:none; fill-opacity:1\" cx=\"1823.81\" cy=\"257.675\" r=\"18\"/>\n",
       "<circle clip-path=\"url(#clip8503)\" style=\"fill:#009af9; stroke:none; fill-opacity:1\" cx=\"1823.81\" cy=\"257.675\" r=\"14\"/>\n",
       "<circle clip-path=\"url(#clip8503)\" style=\"fill:#000000; stroke:none; fill-opacity:1\" cx=\"1391.11\" cy=\"939.04\" r=\"18\"/>\n",
       "<circle clip-path=\"url(#clip8503)\" style=\"fill:#009af9; stroke:none; fill-opacity:1\" cx=\"1391.11\" cy=\"939.04\" r=\"14\"/>\n",
       "<circle clip-path=\"url(#clip8503)\" style=\"fill:#000000; stroke:none; fill-opacity:1\" cx=\"1199.62\" cy=\"410.491\" r=\"18\"/>\n",
       "<circle clip-path=\"url(#clip8503)\" style=\"fill:#009af9; stroke:none; fill-opacity:1\" cx=\"1199.62\" cy=\"410.491\" r=\"14\"/>\n",
       "<circle clip-path=\"url(#clip8503)\" style=\"fill:#000000; stroke:none; fill-opacity:1\" cx=\"784.184\" cy=\"1116.4\" r=\"18\"/>\n",
       "<circle clip-path=\"url(#clip8503)\" style=\"fill:#009af9; stroke:none; fill-opacity:1\" cx=\"784.184\" cy=\"1116.4\" r=\"14\"/>\n",
       "<circle clip-path=\"url(#clip8503)\" style=\"fill:#000000; stroke:none; fill-opacity:1\" cx=\"1129.35\" cy=\"499.353\" r=\"18\"/>\n",
       "<circle clip-path=\"url(#clip8503)\" style=\"fill:#009af9; stroke:none; fill-opacity:1\" cx=\"1129.35\" cy=\"499.353\" r=\"14\"/>\n",
       "<circle clip-path=\"url(#clip8503)\" style=\"fill:#000000; stroke:none; fill-opacity:1\" cx=\"1010.21\" cy=\"963.39\" r=\"18\"/>\n",
       "<circle clip-path=\"url(#clip8503)\" style=\"fill:#009af9; stroke:none; fill-opacity:1\" cx=\"1010.21\" cy=\"963.39\" r=\"14\"/>\n",
       "<circle clip-path=\"url(#clip8503)\" style=\"fill:#000000; stroke:none; fill-opacity:1\" cx=\"1570.49\" cy=\"863.014\" r=\"18\"/>\n",
       "<circle clip-path=\"url(#clip8503)\" style=\"fill:#009af9; stroke:none; fill-opacity:1\" cx=\"1570.49\" cy=\"863.014\" r=\"14\"/>\n",
       "<circle clip-path=\"url(#clip8503)\" style=\"fill:#000000; stroke:none; fill-opacity:1\" cx=\"1067.78\" cy=\"1056.96\" r=\"18\"/>\n",
       "<circle clip-path=\"url(#clip8503)\" style=\"fill:#009af9; stroke:none; fill-opacity:1\" cx=\"1067.78\" cy=\"1056.96\" r=\"14\"/>\n",
       "<circle clip-path=\"url(#clip8503)\" style=\"fill:#000000; stroke:none; fill-opacity:1\" cx=\"916.485\" cy=\"971.613\" r=\"18\"/>\n",
       "<circle clip-path=\"url(#clip8503)\" style=\"fill:#009af9; stroke:none; fill-opacity:1\" cx=\"916.485\" cy=\"971.613\" r=\"14\"/>\n",
       "<circle clip-path=\"url(#clip8503)\" style=\"fill:#000000; stroke:none; fill-opacity:1\" cx=\"1319.97\" cy=\"995.787\" r=\"18\"/>\n",
       "<circle clip-path=\"url(#clip8503)\" style=\"fill:#009af9; stroke:none; fill-opacity:1\" cx=\"1319.97\" cy=\"995.787\" r=\"14\"/>\n",
       "<circle clip-path=\"url(#clip8503)\" style=\"fill:#000000; stroke:none; fill-opacity:1\" cx=\"691.418\" cy=\"1259.78\" r=\"18\"/>\n",
       "<circle clip-path=\"url(#clip8503)\" style=\"fill:#009af9; stroke:none; fill-opacity:1\" cx=\"691.418\" cy=\"1259.78\" r=\"14\"/>\n",
       "<circle clip-path=\"url(#clip8503)\" style=\"fill:#000000; stroke:none; fill-opacity:1\" cx=\"1037.18\" cy=\"641.163\" r=\"18\"/>\n",
       "<circle clip-path=\"url(#clip8503)\" style=\"fill:#009af9; stroke:none; fill-opacity:1\" cx=\"1037.18\" cy=\"641.163\" r=\"14\"/>\n",
       "<circle clip-path=\"url(#clip8503)\" style=\"fill:#000000; stroke:none; fill-opacity:1\" cx=\"1710.35\" cy=\"404.36\" r=\"18\"/>\n",
       "<circle clip-path=\"url(#clip8503)\" style=\"fill:#009af9; stroke:none; fill-opacity:1\" cx=\"1710.35\" cy=\"404.36\" r=\"14\"/>\n",
       "<circle clip-path=\"url(#clip8503)\" style=\"fill:#000000; stroke:none; fill-opacity:1\" cx=\"1683.04\" cy=\"640.298\" r=\"18\"/>\n",
       "<circle clip-path=\"url(#clip8503)\" style=\"fill:#009af9; stroke:none; fill-opacity:1\" cx=\"1683.04\" cy=\"640.298\" r=\"14\"/>\n",
       "<circle clip-path=\"url(#clip8503)\" style=\"fill:#000000; stroke:none; fill-opacity:1\" cx=\"1455.46\" cy=\"687.11\" r=\"18\"/>\n",
       "<circle clip-path=\"url(#clip8503)\" style=\"fill:#009af9; stroke:none; fill-opacity:1\" cx=\"1455.46\" cy=\"687.11\" r=\"14\"/>\n",
       "<circle clip-path=\"url(#clip8503)\" style=\"fill:#000000; stroke:none; fill-opacity:1\" cx=\"1076.17\" cy=\"942.716\" r=\"18\"/>\n",
       "<circle clip-path=\"url(#clip8503)\" style=\"fill:#009af9; stroke:none; fill-opacity:1\" cx=\"1076.17\" cy=\"942.716\" r=\"14\"/>\n",
       "<circle clip-path=\"url(#clip8503)\" style=\"fill:#000000; stroke:none; fill-opacity:1\" cx=\"1755.92\" cy=\"547.291\" r=\"18\"/>\n",
       "<circle clip-path=\"url(#clip8503)\" style=\"fill:#009af9; stroke:none; fill-opacity:1\" cx=\"1755.92\" cy=\"547.291\" r=\"14\"/>\n",
       "<circle clip-path=\"url(#clip8503)\" style=\"fill:#000000; stroke:none; fill-opacity:1\" cx=\"1069.66\" cy=\"1194.21\" r=\"18\"/>\n",
       "<circle clip-path=\"url(#clip8503)\" style=\"fill:#009af9; stroke:none; fill-opacity:1\" cx=\"1069.66\" cy=\"1194.21\" r=\"14\"/>\n",
       "<circle clip-path=\"url(#clip8503)\" style=\"fill:#000000; stroke:none; fill-opacity:1\" cx=\"920.506\" cy=\"926.521\" r=\"18\"/>\n",
       "<circle clip-path=\"url(#clip8503)\" style=\"fill:#009af9; stroke:none; fill-opacity:1\" cx=\"920.506\" cy=\"926.521\" r=\"14\"/>\n",
       "<circle clip-path=\"url(#clip8503)\" style=\"fill:#000000; stroke:none; fill-opacity:1\" cx=\"1162.91\" cy=\"1051.54\" r=\"18\"/>\n",
       "<circle clip-path=\"url(#clip8503)\" style=\"fill:#009af9; stroke:none; fill-opacity:1\" cx=\"1162.91\" cy=\"1051.54\" r=\"14\"/>\n",
       "<circle clip-path=\"url(#clip8503)\" style=\"fill:#000000; stroke:none; fill-opacity:1\" cx=\"1267.19\" cy=\"391.529\" r=\"18\"/>\n",
       "<circle clip-path=\"url(#clip8503)\" style=\"fill:#009af9; stroke:none; fill-opacity:1\" cx=\"1267.19\" cy=\"391.529\" r=\"14\"/>\n",
       "<circle clip-path=\"url(#clip8503)\" style=\"fill:#000000; stroke:none; fill-opacity:1\" cx=\"1444.79\" cy=\"502.232\" r=\"18\"/>\n",
       "<circle clip-path=\"url(#clip8503)\" style=\"fill:#009af9; stroke:none; fill-opacity:1\" cx=\"1444.79\" cy=\"502.232\" r=\"14\"/>\n",
       "<circle clip-path=\"url(#clip8503)\" style=\"fill:#000000; stroke:none; fill-opacity:1\" cx=\"746.614\" cy=\"1163.75\" r=\"18\"/>\n",
       "<circle clip-path=\"url(#clip8503)\" style=\"fill:#009af9; stroke:none; fill-opacity:1\" cx=\"746.614\" cy=\"1163.75\" r=\"14\"/>\n",
       "<circle clip-path=\"url(#clip8503)\" style=\"fill:#000000; stroke:none; fill-opacity:1\" cx=\"1078.53\" cy=\"1065.83\" r=\"18\"/>\n",
       "<circle clip-path=\"url(#clip8503)\" style=\"fill:#009af9; stroke:none; fill-opacity:1\" cx=\"1078.53\" cy=\"1065.83\" r=\"14\"/>\n",
       "<circle clip-path=\"url(#clip8503)\" style=\"fill:#000000; stroke:none; fill-opacity:1\" cx=\"1419.27\" cy=\"842.203\" r=\"18\"/>\n",
       "<circle clip-path=\"url(#clip8503)\" style=\"fill:#009af9; stroke:none; fill-opacity:1\" cx=\"1419.27\" cy=\"842.203\" r=\"14\"/>\n",
       "<circle clip-path=\"url(#clip8503)\" style=\"fill:#000000; stroke:none; fill-opacity:1\" cx=\"1133.13\" cy=\"797.795\" r=\"18\"/>\n",
       "<circle clip-path=\"url(#clip8503)\" style=\"fill:#009af9; stroke:none; fill-opacity:1\" cx=\"1133.13\" cy=\"797.795\" r=\"14\"/>\n",
       "<circle clip-path=\"url(#clip8503)\" style=\"fill:#000000; stroke:none; fill-opacity:1\" cx=\"1175.78\" cy=\"1160.81\" r=\"18\"/>\n",
       "<circle clip-path=\"url(#clip8503)\" style=\"fill:#009af9; stroke:none; fill-opacity:1\" cx=\"1175.78\" cy=\"1160.81\" r=\"14\"/>\n",
       "<circle clip-path=\"url(#clip8503)\" style=\"fill:#000000; stroke:none; fill-opacity:1\" cx=\"856.464\" cy=\"914.365\" r=\"18\"/>\n",
       "<circle clip-path=\"url(#clip8503)\" style=\"fill:#009af9; stroke:none; fill-opacity:1\" cx=\"856.464\" cy=\"914.365\" r=\"14\"/>\n",
       "<circle clip-path=\"url(#clip8503)\" style=\"fill:#000000; stroke:none; fill-opacity:1\" cx=\"866.751\" cy=\"1234.19\" r=\"18\"/>\n",
       "<circle clip-path=\"url(#clip8503)\" style=\"fill:#009af9; stroke:none; fill-opacity:1\" cx=\"866.751\" cy=\"1234.19\" r=\"14\"/>\n",
       "<circle clip-path=\"url(#clip8503)\" style=\"fill:#000000; stroke:none; fill-opacity:1\" cx=\"1463.59\" cy=\"338.03\" r=\"18\"/>\n",
       "<circle clip-path=\"url(#clip8503)\" style=\"fill:#009af9; stroke:none; fill-opacity:1\" cx=\"1463.59\" cy=\"338.03\" r=\"14\"/>\n",
       "<circle clip-path=\"url(#clip8503)\" style=\"fill:#000000; stroke:none; fill-opacity:1\" cx=\"735.457\" cy=\"1097.1\" r=\"18\"/>\n",
       "<circle clip-path=\"url(#clip8503)\" style=\"fill:#009af9; stroke:none; fill-opacity:1\" cx=\"735.457\" cy=\"1097.1\" r=\"14\"/>\n",
       "<circle clip-path=\"url(#clip8503)\" style=\"fill:#000000; stroke:none; fill-opacity:1\" cx=\"1555.94\" cy=\"405.674\" r=\"18\"/>\n",
       "<circle clip-path=\"url(#clip8503)\" style=\"fill:#009af9; stroke:none; fill-opacity:1\" cx=\"1555.94\" cy=\"405.674\" r=\"14\"/>\n",
       "<circle clip-path=\"url(#clip8503)\" style=\"fill:#000000; stroke:none; fill-opacity:1\" cx=\"1635.21\" cy=\"315.215\" r=\"18\"/>\n",
       "<circle clip-path=\"url(#clip8503)\" style=\"fill:#009af9; stroke:none; fill-opacity:1\" cx=\"1635.21\" cy=\"315.215\" r=\"14\"/>\n",
       "<circle clip-path=\"url(#clip8503)\" style=\"fill:#000000; stroke:none; fill-opacity:1\" cx=\"1612.3\" cy=\"541.372\" r=\"18\"/>\n",
       "<circle clip-path=\"url(#clip8503)\" style=\"fill:#009af9; stroke:none; fill-opacity:1\" cx=\"1612.3\" cy=\"541.372\" r=\"14\"/>\n",
       "<circle clip-path=\"url(#clip8503)\" style=\"fill:#000000; stroke:none; fill-opacity:1\" cx=\"1159.77\" cy=\"870.287\" r=\"18\"/>\n",
       "<circle clip-path=\"url(#clip8503)\" style=\"fill:#009af9; stroke:none; fill-opacity:1\" cx=\"1159.77\" cy=\"870.287\" r=\"14\"/>\n",
       "<circle clip-path=\"url(#clip8503)\" style=\"fill:#000000; stroke:none; fill-opacity:1\" cx=\"1043.29\" cy=\"705.264\" r=\"18\"/>\n",
       "<circle clip-path=\"url(#clip8503)\" style=\"fill:#009af9; stroke:none; fill-opacity:1\" cx=\"1043.29\" cy=\"705.264\" r=\"14\"/>\n",
       "<circle clip-path=\"url(#clip8503)\" style=\"fill:#000000; stroke:none; fill-opacity:1\" cx=\"1207.97\" cy=\"393.739\" r=\"18\"/>\n",
       "<circle clip-path=\"url(#clip8503)\" style=\"fill:#009af9; stroke:none; fill-opacity:1\" cx=\"1207.97\" cy=\"393.739\" r=\"14\"/>\n",
       "<circle clip-path=\"url(#clip8503)\" style=\"fill:#000000; stroke:none; fill-opacity:1\" cx=\"830.053\" cy=\"928\" r=\"18\"/>\n",
       "<circle clip-path=\"url(#clip8503)\" style=\"fill:#009af9; stroke:none; fill-opacity:1\" cx=\"830.053\" cy=\"928\" r=\"14\"/>\n",
       "<circle clip-path=\"url(#clip8503)\" style=\"fill:#000000; stroke:none; fill-opacity:1\" cx=\"1325.23\" cy=\"919.376\" r=\"18\"/>\n",
       "<circle clip-path=\"url(#clip8503)\" style=\"fill:#009af9; stroke:none; fill-opacity:1\" cx=\"1325.23\" cy=\"919.376\" r=\"14\"/>\n",
       "<circle clip-path=\"url(#clip8503)\" style=\"fill:#000000; stroke:none; fill-opacity:1\" cx=\"865.672\" cy=\"1037.73\" r=\"18\"/>\n",
       "<circle clip-path=\"url(#clip8503)\" style=\"fill:#009af9; stroke:none; fill-opacity:1\" cx=\"865.672\" cy=\"1037.73\" r=\"14\"/>\n",
       "<circle clip-path=\"url(#clip8503)\" style=\"fill:#000000; stroke:none; fill-opacity:1\" cx=\"1561.3\" cy=\"375.875\" r=\"18\"/>\n",
       "<circle clip-path=\"url(#clip8503)\" style=\"fill:#009af9; stroke:none; fill-opacity:1\" cx=\"1561.3\" cy=\"375.875\" r=\"14\"/>\n",
       "<circle clip-path=\"url(#clip8503)\" style=\"fill:#000000; stroke:none; fill-opacity:1\" cx=\"1156.52\" cy=\"489.434\" r=\"18\"/>\n",
       "<circle clip-path=\"url(#clip8503)\" style=\"fill:#009af9; stroke:none; fill-opacity:1\" cx=\"1156.52\" cy=\"489.434\" r=\"14\"/>\n",
       "<circle clip-path=\"url(#clip8503)\" style=\"fill:#000000; stroke:none; fill-opacity:1\" cx=\"1115.32\" cy=\"1199.49\" r=\"18\"/>\n",
       "<circle clip-path=\"url(#clip8503)\" style=\"fill:#009af9; stroke:none; fill-opacity:1\" cx=\"1115.32\" cy=\"1199.49\" r=\"14\"/>\n",
       "<circle clip-path=\"url(#clip8503)\" style=\"fill:#000000; stroke:none; fill-opacity:1\" cx=\"1403.42\" cy=\"795.861\" r=\"18\"/>\n",
       "<circle clip-path=\"url(#clip8503)\" style=\"fill:#009af9; stroke:none; fill-opacity:1\" cx=\"1403.42\" cy=\"795.861\" r=\"14\"/>\n",
       "<circle clip-path=\"url(#clip8503)\" style=\"fill:#000000; stroke:none; fill-opacity:1\" cx=\"715.069\" cy=\"1103.37\" r=\"18\"/>\n",
       "<circle clip-path=\"url(#clip8503)\" style=\"fill:#009af9; stroke:none; fill-opacity:1\" cx=\"715.069\" cy=\"1103.37\" r=\"14\"/>\n",
       "<circle clip-path=\"url(#clip8503)\" style=\"fill:#000000; stroke:none; fill-opacity:1\" cx=\"1277.24\" cy=\"789.646\" r=\"18\"/>\n",
       "<circle clip-path=\"url(#clip8503)\" style=\"fill:#009af9; stroke:none; fill-opacity:1\" cx=\"1277.24\" cy=\"789.646\" r=\"14\"/>\n",
       "<circle clip-path=\"url(#clip8503)\" style=\"fill:#000000; stroke:none; fill-opacity:1\" cx=\"1281.61\" cy=\"438.633\" r=\"18\"/>\n",
       "<circle clip-path=\"url(#clip8503)\" style=\"fill:#009af9; stroke:none; fill-opacity:1\" cx=\"1281.61\" cy=\"438.633\" r=\"14\"/>\n",
       "<circle clip-path=\"url(#clip8503)\" style=\"fill:#000000; stroke:none; fill-opacity:1\" cx=\"870.298\" cy=\"856.029\" r=\"18\"/>\n",
       "<circle clip-path=\"url(#clip8503)\" style=\"fill:#009af9; stroke:none; fill-opacity:1\" cx=\"870.298\" cy=\"856.029\" r=\"14\"/>\n",
       "<circle clip-path=\"url(#clip8503)\" style=\"fill:#000000; stroke:none; fill-opacity:1\" cx=\"1539.58\" cy=\"688.804\" r=\"18\"/>\n",
       "<circle clip-path=\"url(#clip8503)\" style=\"fill:#009af9; stroke:none; fill-opacity:1\" cx=\"1539.58\" cy=\"688.804\" r=\"14\"/>\n",
       "<circle clip-path=\"url(#clip8503)\" style=\"fill:#000000; stroke:none; fill-opacity:1\" cx=\"1412.18\" cy=\"1005.48\" r=\"18\"/>\n",
       "<circle clip-path=\"url(#clip8503)\" style=\"fill:#009af9; stroke:none; fill-opacity:1\" cx=\"1412.18\" cy=\"1005.48\" r=\"14\"/>\n",
       "<circle clip-path=\"url(#clip8503)\" style=\"fill:#000000; stroke:none; fill-opacity:1\" cx=\"1004.51\" cy=\"1223.07\" r=\"18\"/>\n",
       "<circle clip-path=\"url(#clip8503)\" style=\"fill:#009af9; stroke:none; fill-opacity:1\" cx=\"1004.51\" cy=\"1223.07\" r=\"14\"/>\n",
       "<circle clip-path=\"url(#clip8503)\" style=\"fill:#000000; stroke:none; fill-opacity:1\" cx=\"1048.07\" cy=\"625.183\" r=\"18\"/>\n",
       "<circle clip-path=\"url(#clip8503)\" style=\"fill:#009af9; stroke:none; fill-opacity:1\" cx=\"1048.07\" cy=\"625.183\" r=\"14\"/>\n",
       "<circle clip-path=\"url(#clip8503)\" style=\"fill:#000000; stroke:none; fill-opacity:1\" cx=\"1010.73\" cy=\"1049.89\" r=\"18\"/>\n",
       "<circle clip-path=\"url(#clip8503)\" style=\"fill:#009af9; stroke:none; fill-opacity:1\" cx=\"1010.73\" cy=\"1049.89\" r=\"14\"/>\n",
       "<circle clip-path=\"url(#clip8503)\" style=\"fill:#000000; stroke:none; fill-opacity:1\" cx=\"1220.24\" cy=\"1079.88\" r=\"18\"/>\n",
       "<circle clip-path=\"url(#clip8503)\" style=\"fill:#009af9; stroke:none; fill-opacity:1\" cx=\"1220.24\" cy=\"1079.88\" r=\"14\"/>\n",
       "<circle clip-path=\"url(#clip8503)\" style=\"fill:#000000; stroke:none; fill-opacity:1\" cx=\"1545.87\" cy=\"318.683\" r=\"18\"/>\n",
       "<circle clip-path=\"url(#clip8503)\" style=\"fill:#009af9; stroke:none; fill-opacity:1\" cx=\"1545.87\" cy=\"318.683\" r=\"14\"/>\n",
       "<circle clip-path=\"url(#clip8503)\" style=\"fill:#000000; stroke:none; fill-opacity:1\" cx=\"1214.68\" cy=\"774.623\" r=\"18\"/>\n",
       "<circle clip-path=\"url(#clip8503)\" style=\"fill:#009af9; stroke:none; fill-opacity:1\" cx=\"1214.68\" cy=\"774.623\" r=\"14\"/>\n",
       "<circle clip-path=\"url(#clip8503)\" style=\"fill:#000000; stroke:none; fill-opacity:1\" cx=\"1347.07\" cy=\"669.331\" r=\"18\"/>\n",
       "<circle clip-path=\"url(#clip8503)\" style=\"fill:#009af9; stroke:none; fill-opacity:1\" cx=\"1347.07\" cy=\"669.331\" r=\"14\"/>\n",
       "<circle clip-path=\"url(#clip8503)\" style=\"fill:#000000; stroke:none; fill-opacity:1\" cx=\"1214.5\" cy=\"901.778\" r=\"18\"/>\n",
       "<circle clip-path=\"url(#clip8503)\" style=\"fill:#009af9; stroke:none; fill-opacity:1\" cx=\"1214.5\" cy=\"901.778\" r=\"14\"/>\n",
       "<circle clip-path=\"url(#clip8503)\" style=\"fill:#000000; stroke:none; fill-opacity:1\" cx=\"1020.3\" cy=\"894.012\" r=\"18\"/>\n",
       "<circle clip-path=\"url(#clip8503)\" style=\"fill:#009af9; stroke:none; fill-opacity:1\" cx=\"1020.3\" cy=\"894.012\" r=\"14\"/>\n",
       "<circle clip-path=\"url(#clip8503)\" style=\"fill:#000000; stroke:none; fill-opacity:1\" cx=\"1462.1\" cy=\"411.231\" r=\"18\"/>\n",
       "<circle clip-path=\"url(#clip8503)\" style=\"fill:#009af9; stroke:none; fill-opacity:1\" cx=\"1462.1\" cy=\"411.231\" r=\"14\"/>\n",
       "<circle clip-path=\"url(#clip8503)\" style=\"fill:#000000; stroke:none; fill-opacity:1\" cx=\"1678.55\" cy=\"680.05\" r=\"18\"/>\n",
       "<circle clip-path=\"url(#clip8503)\" style=\"fill:#009af9; stroke:none; fill-opacity:1\" cx=\"1678.55\" cy=\"680.05\" r=\"14\"/>\n",
       "<circle clip-path=\"url(#clip8503)\" style=\"fill:#000000; stroke:none; fill-opacity:1\" cx=\"1394.95\" cy=\"374.672\" r=\"18\"/>\n",
       "<circle clip-path=\"url(#clip8503)\" style=\"fill:#009af9; stroke:none; fill-opacity:1\" cx=\"1394.95\" cy=\"374.672\" r=\"14\"/>\n",
       "<circle clip-path=\"url(#clip8503)\" style=\"fill:#000000; stroke:none; fill-opacity:1\" cx=\"1005.21\" cy=\"896.704\" r=\"18\"/>\n",
       "<circle clip-path=\"url(#clip8503)\" style=\"fill:#009af9; stroke:none; fill-opacity:1\" cx=\"1005.21\" cy=\"896.704\" r=\"14\"/>\n",
       "<circle clip-path=\"url(#clip8503)\" style=\"fill:#000000; stroke:none; fill-opacity:1\" cx=\"1083.78\" cy=\"849.782\" r=\"18\"/>\n",
       "<circle clip-path=\"url(#clip8503)\" style=\"fill:#009af9; stroke:none; fill-opacity:1\" cx=\"1083.78\" cy=\"849.782\" r=\"14\"/>\n",
       "<circle clip-path=\"url(#clip8503)\" style=\"fill:#000000; stroke:none; fill-opacity:1\" cx=\"1636.22\" cy=\"615.517\" r=\"18\"/>\n",
       "<circle clip-path=\"url(#clip8503)\" style=\"fill:#009af9; stroke:none; fill-opacity:1\" cx=\"1636.22\" cy=\"615.517\" r=\"14\"/>\n",
       "<circle clip-path=\"url(#clip8503)\" style=\"fill:#000000; stroke:none; fill-opacity:1\" cx=\"1108.81\" cy=\"663.963\" r=\"18\"/>\n",
       "<circle clip-path=\"url(#clip8503)\" style=\"fill:#009af9; stroke:none; fill-opacity:1\" cx=\"1108.81\" cy=\"663.963\" r=\"14\"/>\n",
       "<circle clip-path=\"url(#clip8503)\" style=\"fill:#000000; stroke:none; fill-opacity:1\" cx=\"1492.01\" cy=\"448.443\" r=\"18\"/>\n",
       "<circle clip-path=\"url(#clip8503)\" style=\"fill:#009af9; stroke:none; fill-opacity:1\" cx=\"1492.01\" cy=\"448.443\" r=\"14\"/>\n",
       "<circle clip-path=\"url(#clip8503)\" style=\"fill:#000000; stroke:none; fill-opacity:1\" cx=\"1401.97\" cy=\"750.722\" r=\"18\"/>\n",
       "<circle clip-path=\"url(#clip8503)\" style=\"fill:#009af9; stroke:none; fill-opacity:1\" cx=\"1401.97\" cy=\"750.722\" r=\"14\"/>\n",
       "<circle clip-path=\"url(#clip8503)\" style=\"fill:#000000; stroke:none; fill-opacity:1\" cx=\"1095.91\" cy=\"959.44\" r=\"18\"/>\n",
       "<circle clip-path=\"url(#clip8503)\" style=\"fill:#009af9; stroke:none; fill-opacity:1\" cx=\"1095.91\" cy=\"959.44\" r=\"14\"/>\n",
       "<circle clip-path=\"url(#clip8503)\" style=\"fill:#000000; stroke:none; fill-opacity:1\" cx=\"1345.67\" cy=\"964\" r=\"18\"/>\n",
       "<circle clip-path=\"url(#clip8503)\" style=\"fill:#009af9; stroke:none; fill-opacity:1\" cx=\"1345.67\" cy=\"964\" r=\"14\"/>\n",
       "<circle clip-path=\"url(#clip8503)\" style=\"fill:#000000; stroke:none; fill-opacity:1\" cx=\"902.934\" cy=\"1075.66\" r=\"18\"/>\n",
       "<circle clip-path=\"url(#clip8503)\" style=\"fill:#009af9; stroke:none; fill-opacity:1\" cx=\"902.934\" cy=\"1075.66\" r=\"14\"/>\n",
       "<circle clip-path=\"url(#clip8503)\" style=\"fill:#000000; stroke:none; fill-opacity:1\" cx=\"1346.37\" cy=\"805.921\" r=\"18\"/>\n",
       "<circle clip-path=\"url(#clip8503)\" style=\"fill:#009af9; stroke:none; fill-opacity:1\" cx=\"1346.37\" cy=\"805.921\" r=\"14\"/>\n",
       "<circle clip-path=\"url(#clip8503)\" style=\"fill:#000000; stroke:none; fill-opacity:1\" cx=\"1318.77\" cy=\"388.831\" r=\"18\"/>\n",
       "<circle clip-path=\"url(#clip8503)\" style=\"fill:#009af9; stroke:none; fill-opacity:1\" cx=\"1318.77\" cy=\"388.831\" r=\"14\"/>\n",
       "<circle clip-path=\"url(#clip8503)\" style=\"fill:#000000; stroke:none; fill-opacity:1\" cx=\"697.292\" cy=\"1179.84\" r=\"18\"/>\n",
       "<circle clip-path=\"url(#clip8503)\" style=\"fill:#009af9; stroke:none; fill-opacity:1\" cx=\"697.292\" cy=\"1179.84\" r=\"14\"/>\n",
       "<circle clip-path=\"url(#clip8503)\" style=\"fill:#000000; stroke:none; fill-opacity:1\" cx=\"1251.18\" cy=\"460.288\" r=\"18\"/>\n",
       "<circle clip-path=\"url(#clip8503)\" style=\"fill:#009af9; stroke:none; fill-opacity:1\" cx=\"1251.18\" cy=\"460.288\" r=\"14\"/>\n",
       "<circle clip-path=\"url(#clip8503)\" style=\"fill:#000000; stroke:none; fill-opacity:1\" cx=\"1144.25\" cy=\"488.57\" r=\"18\"/>\n",
       "<circle clip-path=\"url(#clip8503)\" style=\"fill:#009af9; stroke:none; fill-opacity:1\" cx=\"1144.25\" cy=\"488.57\" r=\"14\"/>\n",
       "<circle clip-path=\"url(#clip8503)\" style=\"fill:#000000; stroke:none; fill-opacity:1\" cx=\"1759.63\" cy=\"313.449\" r=\"18\"/>\n",
       "<circle clip-path=\"url(#clip8503)\" style=\"fill:#009af9; stroke:none; fill-opacity:1\" cx=\"1759.63\" cy=\"313.449\" r=\"14\"/>\n",
       "<circle clip-path=\"url(#clip8503)\" style=\"fill:#000000; stroke:none; fill-opacity:1\" cx=\"1386.28\" cy=\"564.616\" r=\"18\"/>\n",
       "<circle clip-path=\"url(#clip8503)\" style=\"fill:#009af9; stroke:none; fill-opacity:1\" cx=\"1386.28\" cy=\"564.616\" r=\"14\"/>\n",
       "<circle clip-path=\"url(#clip8503)\" style=\"fill:#000000; stroke:none; fill-opacity:1\" cx=\"1232.15\" cy=\"585.203\" r=\"18\"/>\n",
       "<circle clip-path=\"url(#clip8503)\" style=\"fill:#009af9; stroke:none; fill-opacity:1\" cx=\"1232.15\" cy=\"585.203\" r=\"14\"/>\n",
       "<circle clip-path=\"url(#clip8503)\" style=\"fill:#000000; stroke:none; fill-opacity:1\" cx=\"1282.6\" cy=\"1139.83\" r=\"18\"/>\n",
       "<circle clip-path=\"url(#clip8503)\" style=\"fill:#009af9; stroke:none; fill-opacity:1\" cx=\"1282.6\" cy=\"1139.83\" r=\"14\"/>\n",
       "<circle clip-path=\"url(#clip8503)\" style=\"fill:#000000; stroke:none; fill-opacity:1\" cx=\"1416.94\" cy=\"370.946\" r=\"18\"/>\n",
       "<circle clip-path=\"url(#clip8503)\" style=\"fill:#009af9; stroke:none; fill-opacity:1\" cx=\"1416.94\" cy=\"370.946\" r=\"14\"/>\n",
       "<circle clip-path=\"url(#clip8503)\" style=\"fill:#000000; stroke:none; fill-opacity:1\" cx=\"1607.72\" cy=\"548.335\" r=\"18\"/>\n",
       "<circle clip-path=\"url(#clip8503)\" style=\"fill:#009af9; stroke:none; fill-opacity:1\" cx=\"1607.72\" cy=\"548.335\" r=\"14\"/>\n",
       "<circle clip-path=\"url(#clip8503)\" style=\"fill:#000000; stroke:none; fill-opacity:1\" cx=\"930.723\" cy=\"813.619\" r=\"18\"/>\n",
       "<circle clip-path=\"url(#clip8503)\" style=\"fill:#009af9; stroke:none; fill-opacity:1\" cx=\"930.723\" cy=\"813.619\" r=\"14\"/>\n",
       "<circle clip-path=\"url(#clip8503)\" style=\"fill:#000000; stroke:none; fill-opacity:1\" cx=\"1380.92\" cy=\"505.418\" r=\"18\"/>\n",
       "<circle clip-path=\"url(#clip8503)\" style=\"fill:#009af9; stroke:none; fill-opacity:1\" cx=\"1380.92\" cy=\"505.418\" r=\"14\"/>\n",
       "<circle clip-path=\"url(#clip8503)\" style=\"fill:#000000; stroke:none; fill-opacity:1\" cx=\"1753.67\" cy=\"399.537\" r=\"18\"/>\n",
       "<circle clip-path=\"url(#clip8503)\" style=\"fill:#009af9; stroke:none; fill-opacity:1\" cx=\"1753.67\" cy=\"399.537\" r=\"14\"/>\n",
       "<circle clip-path=\"url(#clip8503)\" style=\"fill:#000000; stroke:none; fill-opacity:1\" cx=\"1581.01\" cy=\"319.821\" r=\"18\"/>\n",
       "<circle clip-path=\"url(#clip8503)\" style=\"fill:#009af9; stroke:none; fill-opacity:1\" cx=\"1581.01\" cy=\"319.821\" r=\"14\"/>\n",
       "<circle clip-path=\"url(#clip8503)\" style=\"fill:#000000; stroke:none; fill-opacity:1\" cx=\"1380.75\" cy=\"675.286\" r=\"18\"/>\n",
       "<circle clip-path=\"url(#clip8503)\" style=\"fill:#009af9; stroke:none; fill-opacity:1\" cx=\"1380.75\" cy=\"675.286\" r=\"14\"/>\n",
       "<circle clip-path=\"url(#clip8503)\" style=\"fill:#000000; stroke:none; fill-opacity:1\" cx=\"774.973\" cy=\"964.467\" r=\"18\"/>\n",
       "<circle clip-path=\"url(#clip8503)\" style=\"fill:#009af9; stroke:none; fill-opacity:1\" cx=\"774.973\" cy=\"964.467\" r=\"14\"/>\n",
       "<circle clip-path=\"url(#clip8503)\" style=\"fill:#000000; stroke:none; fill-opacity:1\" cx=\"1847.78\" cy=\"306.73\" r=\"18\"/>\n",
       "<circle clip-path=\"url(#clip8503)\" style=\"fill:#009af9; stroke:none; fill-opacity:1\" cx=\"1847.78\" cy=\"306.73\" r=\"14\"/>\n",
       "<circle clip-path=\"url(#clip8503)\" style=\"fill:#000000; stroke:none; fill-opacity:1\" cx=\"1432.81\" cy=\"613.736\" r=\"18\"/>\n",
       "<circle clip-path=\"url(#clip8503)\" style=\"fill:#009af9; stroke:none; fill-opacity:1\" cx=\"1432.81\" cy=\"613.736\" r=\"14\"/>\n",
       "<circle clip-path=\"url(#clip8503)\" style=\"fill:#000000; stroke:none; fill-opacity:1\" cx=\"1199.05\" cy=\"1116.33\" r=\"18\"/>\n",
       "<circle clip-path=\"url(#clip8503)\" style=\"fill:#009af9; stroke:none; fill-opacity:1\" cx=\"1199.05\" cy=\"1116.33\" r=\"14\"/>\n",
       "<circle clip-path=\"url(#clip8503)\" style=\"fill:#000000; stroke:none; fill-opacity:1\" cx=\"1090.7\" cy=\"954.95\" r=\"18\"/>\n",
       "<circle clip-path=\"url(#clip8503)\" style=\"fill:#009af9; stroke:none; fill-opacity:1\" cx=\"1090.7\" cy=\"954.95\" r=\"14\"/>\n",
       "<circle clip-path=\"url(#clip8503)\" style=\"fill:#000000; stroke:none; fill-opacity:1\" cx=\"935.782\" cy=\"1081.86\" r=\"18\"/>\n",
       "<circle clip-path=\"url(#clip8503)\" style=\"fill:#009af9; stroke:none; fill-opacity:1\" cx=\"935.782\" cy=\"1081.86\" r=\"14\"/>\n",
       "<circle clip-path=\"url(#clip8503)\" style=\"fill:#000000; stroke:none; fill-opacity:1\" cx=\"1149.64\" cy=\"568.888\" r=\"18\"/>\n",
       "<circle clip-path=\"url(#clip8503)\" style=\"fill:#009af9; stroke:none; fill-opacity:1\" cx=\"1149.64\" cy=\"568.888\" r=\"14\"/>\n",
       "<circle clip-path=\"url(#clip8503)\" style=\"fill:#000000; stroke:none; fill-opacity:1\" cx=\"1224.76\" cy=\"507.953\" r=\"18\"/>\n",
       "<circle clip-path=\"url(#clip8503)\" style=\"fill:#009af9; stroke:none; fill-opacity:1\" cx=\"1224.76\" cy=\"507.953\" r=\"14\"/>\n",
       "<circle clip-path=\"url(#clip8503)\" style=\"fill:#000000; stroke:none; fill-opacity:1\" cx=\"1222.23\" cy=\"958.634\" r=\"18\"/>\n",
       "<circle clip-path=\"url(#clip8503)\" style=\"fill:#009af9; stroke:none; fill-opacity:1\" cx=\"1222.23\" cy=\"958.634\" r=\"14\"/>\n",
       "<circle clip-path=\"url(#clip8503)\" style=\"fill:#000000; stroke:none; fill-opacity:1\" cx=\"1469.47\" cy=\"753.8\" r=\"18\"/>\n",
       "<circle clip-path=\"url(#clip8503)\" style=\"fill:#009af9; stroke:none; fill-opacity:1\" cx=\"1469.47\" cy=\"753.8\" r=\"14\"/>\n",
       "<circle clip-path=\"url(#clip8503)\" style=\"fill:#000000; stroke:none; fill-opacity:1\" cx=\"1370.37\" cy=\"1079.97\" r=\"18\"/>\n",
       "<circle clip-path=\"url(#clip8503)\" style=\"fill:#009af9; stroke:none; fill-opacity:1\" cx=\"1370.37\" cy=\"1079.97\" r=\"14\"/>\n",
       "<circle clip-path=\"url(#clip8503)\" style=\"fill:#000000; stroke:none; fill-opacity:1\" cx=\"809.974\" cy=\"1242.53\" r=\"18\"/>\n",
       "<circle clip-path=\"url(#clip8503)\" style=\"fill:#009af9; stroke:none; fill-opacity:1\" cx=\"809.974\" cy=\"1242.53\" r=\"14\"/>\n",
       "<circle clip-path=\"url(#clip8503)\" style=\"fill:#000000; stroke:none; fill-opacity:1\" cx=\"779.318\" cy=\"952.909\" r=\"18\"/>\n",
       "<circle clip-path=\"url(#clip8503)\" style=\"fill:#009af9; stroke:none; fill-opacity:1\" cx=\"779.318\" cy=\"952.909\" r=\"14\"/>\n",
       "<circle clip-path=\"url(#clip8503)\" style=\"fill:#000000; stroke:none; fill-opacity:1\" cx=\"841.758\" cy=\"948.143\" r=\"18\"/>\n",
       "<circle clip-path=\"url(#clip8503)\" style=\"fill:#009af9; stroke:none; fill-opacity:1\" cx=\"841.758\" cy=\"948.143\" r=\"14\"/>\n",
       "<circle clip-path=\"url(#clip8503)\" style=\"fill:#000000; stroke:none; fill-opacity:1\" cx=\"1344.05\" cy=\"623.697\" r=\"18\"/>\n",
       "<circle clip-path=\"url(#clip8503)\" style=\"fill:#009af9; stroke:none; fill-opacity:1\" cx=\"1344.05\" cy=\"623.697\" r=\"14\"/>\n",
       "<circle clip-path=\"url(#clip8503)\" style=\"fill:#000000; stroke:none; fill-opacity:1\" cx=\"1054.16\" cy=\"461.405\" r=\"18\"/>\n",
       "<circle clip-path=\"url(#clip8503)\" style=\"fill:#009af9; stroke:none; fill-opacity:1\" cx=\"1054.16\" cy=\"461.405\" r=\"14\"/>\n",
       "<circle clip-path=\"url(#clip8503)\" style=\"fill:#000000; stroke:none; fill-opacity:1\" cx=\"1564.79\" cy=\"802.315\" r=\"18\"/>\n",
       "<circle clip-path=\"url(#clip8503)\" style=\"fill:#009af9; stroke:none; fill-opacity:1\" cx=\"1564.79\" cy=\"802.315\" r=\"14\"/>\n",
       "<circle clip-path=\"url(#clip8503)\" style=\"fill:#000000; stroke:none; fill-opacity:1\" cx=\"1825.06\" cy=\"266.385\" r=\"18\"/>\n",
       "<circle clip-path=\"url(#clip8503)\" style=\"fill:#009af9; stroke:none; fill-opacity:1\" cx=\"1825.06\" cy=\"266.385\" r=\"14\"/>\n",
       "<circle clip-path=\"url(#clip8503)\" style=\"fill:#000000; stroke:none; fill-opacity:1\" cx=\"1757.27\" cy=\"379.57\" r=\"18\"/>\n",
       "<circle clip-path=\"url(#clip8503)\" style=\"fill:#009af9; stroke:none; fill-opacity:1\" cx=\"1757.27\" cy=\"379.57\" r=\"14\"/>\n",
       "<circle clip-path=\"url(#clip8503)\" style=\"fill:#000000; stroke:none; fill-opacity:1\" cx=\"1676.22\" cy=\"595.424\" r=\"18\"/>\n",
       "<circle clip-path=\"url(#clip8503)\" style=\"fill:#009af9; stroke:none; fill-opacity:1\" cx=\"1676.22\" cy=\"595.424\" r=\"14\"/>\n",
       "<circle clip-path=\"url(#clip8503)\" style=\"fill:#000000; stroke:none; fill-opacity:1\" cx=\"1322.01\" cy=\"444.063\" r=\"18\"/>\n",
       "<circle clip-path=\"url(#clip8503)\" style=\"fill:#009af9; stroke:none; fill-opacity:1\" cx=\"1322.01\" cy=\"444.063\" r=\"14\"/>\n",
       "<circle clip-path=\"url(#clip8503)\" style=\"fill:#000000; stroke:none; fill-opacity:1\" cx=\"1446.34\" cy=\"674.304\" r=\"18\"/>\n",
       "<circle clip-path=\"url(#clip8503)\" style=\"fill:#009af9; stroke:none; fill-opacity:1\" cx=\"1446.34\" cy=\"674.304\" r=\"14\"/>\n",
       "<circle clip-path=\"url(#clip8503)\" style=\"fill:#000000; stroke:none; fill-opacity:1\" cx=\"1206.08\" cy=\"1065.92\" r=\"18\"/>\n",
       "<circle clip-path=\"url(#clip8503)\" style=\"fill:#009af9; stroke:none; fill-opacity:1\" cx=\"1206.08\" cy=\"1065.92\" r=\"14\"/>\n",
       "<circle clip-path=\"url(#clip8503)\" style=\"fill:#000000; stroke:none; fill-opacity:1\" cx=\"897.311\" cy=\"1122.99\" r=\"18\"/>\n",
       "<circle clip-path=\"url(#clip8503)\" style=\"fill:#009af9; stroke:none; fill-opacity:1\" cx=\"897.311\" cy=\"1122.99\" r=\"14\"/>\n",
       "<circle clip-path=\"url(#clip8503)\" style=\"fill:#000000; stroke:none; fill-opacity:1\" cx=\"1514.2\" cy=\"795.792\" r=\"18\"/>\n",
       "<circle clip-path=\"url(#clip8503)\" style=\"fill:#009af9; stroke:none; fill-opacity:1\" cx=\"1514.2\" cy=\"795.792\" r=\"14\"/>\n",
       "<circle clip-path=\"url(#clip8503)\" style=\"fill:#000000; stroke:none; fill-opacity:1\" cx=\"1322.99\" cy=\"458.521\" r=\"18\"/>\n",
       "<circle clip-path=\"url(#clip8503)\" style=\"fill:#009af9; stroke:none; fill-opacity:1\" cx=\"1322.99\" cy=\"458.521\" r=\"14\"/>\n",
       "<circle clip-path=\"url(#clip8503)\" style=\"fill:#000000; stroke:none; fill-opacity:1\" cx=\"1391.75\" cy=\"634.519\" r=\"18\"/>\n",
       "<circle clip-path=\"url(#clip8503)\" style=\"fill:#009af9; stroke:none; fill-opacity:1\" cx=\"1391.75\" cy=\"634.519\" r=\"14\"/>\n",
       "<circle clip-path=\"url(#clip8503)\" style=\"fill:#000000; stroke:none; fill-opacity:1\" cx=\"1341.64\" cy=\"587.991\" r=\"18\"/>\n",
       "<circle clip-path=\"url(#clip8503)\" style=\"fill:#009af9; stroke:none; fill-opacity:1\" cx=\"1341.64\" cy=\"587.991\" r=\"14\"/>\n",
       "<circle clip-path=\"url(#clip8503)\" style=\"fill:#000000; stroke:none; fill-opacity:1\" cx=\"1799.22\" cy=\"461.401\" r=\"18\"/>\n",
       "<circle clip-path=\"url(#clip8503)\" style=\"fill:#009af9; stroke:none; fill-opacity:1\" cx=\"1799.22\" cy=\"461.401\" r=\"14\"/>\n",
       "<circle clip-path=\"url(#clip8503)\" style=\"fill:#000000; stroke:none; fill-opacity:1\" cx=\"1657.96\" cy=\"527.873\" r=\"18\"/>\n",
       "<circle clip-path=\"url(#clip8503)\" style=\"fill:#009af9; stroke:none; fill-opacity:1\" cx=\"1657.96\" cy=\"527.873\" r=\"14\"/>\n",
       "<circle clip-path=\"url(#clip8503)\" style=\"fill:#000000; stroke:none; fill-opacity:1\" cx=\"1358.03\" cy=\"1120.84\" r=\"18\"/>\n",
       "<circle clip-path=\"url(#clip8503)\" style=\"fill:#009af9; stroke:none; fill-opacity:1\" cx=\"1358.03\" cy=\"1120.84\" r=\"14\"/>\n",
       "<circle clip-path=\"url(#clip8503)\" style=\"fill:#000000; stroke:none; fill-opacity:1\" cx=\"892.311\" cy=\"1137.06\" r=\"18\"/>\n",
       "<circle clip-path=\"url(#clip8503)\" style=\"fill:#009af9; stroke:none; fill-opacity:1\" cx=\"892.311\" cy=\"1137.06\" r=\"14\"/>\n",
       "<circle clip-path=\"url(#clip8503)\" style=\"fill:#000000; stroke:none; fill-opacity:1\" cx=\"1083.82\" cy=\"885.4\" r=\"18\"/>\n",
       "<circle clip-path=\"url(#clip8503)\" style=\"fill:#009af9; stroke:none; fill-opacity:1\" cx=\"1083.82\" cy=\"885.4\" r=\"14\"/>\n",
       "<circle clip-path=\"url(#clip8503)\" style=\"fill:#000000; stroke:none; fill-opacity:1\" cx=\"1128.76\" cy=\"1024.75\" r=\"18\"/>\n",
       "<circle clip-path=\"url(#clip8503)\" style=\"fill:#009af9; stroke:none; fill-opacity:1\" cx=\"1128.76\" cy=\"1024.75\" r=\"14\"/>\n",
       "<circle clip-path=\"url(#clip8503)\" style=\"fill:#000000; stroke:none; fill-opacity:1\" cx=\"1297.06\" cy=\"921.107\" r=\"18\"/>\n",
       "<circle clip-path=\"url(#clip8503)\" style=\"fill:#009af9; stroke:none; fill-opacity:1\" cx=\"1297.06\" cy=\"921.107\" r=\"14\"/>\n",
       "<circle clip-path=\"url(#clip8503)\" style=\"fill:#000000; stroke:none; fill-opacity:1\" cx=\"1381.46\" cy=\"397.187\" r=\"18\"/>\n",
       "<circle clip-path=\"url(#clip8503)\" style=\"fill:#009af9; stroke:none; fill-opacity:1\" cx=\"1381.46\" cy=\"397.187\" r=\"14\"/>\n",
       "<circle clip-path=\"url(#clip8503)\" style=\"fill:#000000; stroke:none; fill-opacity:1\" cx=\"1308.83\" cy=\"549.037\" r=\"18\"/>\n",
       "<circle clip-path=\"url(#clip8503)\" style=\"fill:#009af9; stroke:none; fill-opacity:1\" cx=\"1308.83\" cy=\"549.037\" r=\"14\"/>\n",
       "<circle clip-path=\"url(#clip8503)\" style=\"fill:#000000; stroke:none; fill-opacity:1\" cx=\"1488.58\" cy=\"940.206\" r=\"18\"/>\n",
       "<circle clip-path=\"url(#clip8503)\" style=\"fill:#009af9; stroke:none; fill-opacity:1\" cx=\"1488.58\" cy=\"940.206\" r=\"14\"/>\n",
       "<circle clip-path=\"url(#clip8503)\" style=\"fill:#000000; stroke:none; fill-opacity:1\" cx=\"797.527\" cy=\"1193.83\" r=\"18\"/>\n",
       "<circle clip-path=\"url(#clip8503)\" style=\"fill:#009af9; stroke:none; fill-opacity:1\" cx=\"797.527\" cy=\"1193.83\" r=\"14\"/>\n",
       "<circle clip-path=\"url(#clip8503)\" style=\"fill:#000000; stroke:none; fill-opacity:1\" cx=\"1488.89\" cy=\"506.926\" r=\"18\"/>\n",
       "<circle clip-path=\"url(#clip8503)\" style=\"fill:#009af9; stroke:none; fill-opacity:1\" cx=\"1488.89\" cy=\"506.926\" r=\"14\"/>\n",
       "<circle clip-path=\"url(#clip8503)\" style=\"fill:#000000; stroke:none; fill-opacity:1\" cx=\"1596.78\" cy=\"734.791\" r=\"18\"/>\n",
       "<circle clip-path=\"url(#clip8503)\" style=\"fill:#009af9; stroke:none; fill-opacity:1\" cx=\"1596.78\" cy=\"734.791\" r=\"14\"/>\n",
       "<circle clip-path=\"url(#clip8503)\" style=\"fill:#000000; stroke:none; fill-opacity:1\" cx=\"901.624\" cy=\"1076.66\" r=\"18\"/>\n",
       "<circle clip-path=\"url(#clip8503)\" style=\"fill:#009af9; stroke:none; fill-opacity:1\" cx=\"901.624\" cy=\"1076.66\" r=\"14\"/>\n",
       "<circle clip-path=\"url(#clip8503)\" style=\"fill:#000000; stroke:none; fill-opacity:1\" cx=\"1369.26\" cy=\"537.473\" r=\"18\"/>\n",
       "<circle clip-path=\"url(#clip8503)\" style=\"fill:#009af9; stroke:none; fill-opacity:1\" cx=\"1369.26\" cy=\"537.473\" r=\"14\"/>\n",
       "<circle clip-path=\"url(#clip8503)\" style=\"fill:#000000; stroke:none; fill-opacity:1\" cx=\"1309.44\" cy=\"382.182\" r=\"18\"/>\n",
       "<circle clip-path=\"url(#clip8503)\" style=\"fill:#009af9; stroke:none; fill-opacity:1\" cx=\"1309.44\" cy=\"382.182\" r=\"14\"/>\n",
       "<circle clip-path=\"url(#clip8503)\" style=\"fill:#000000; stroke:none; fill-opacity:1\" cx=\"1517.52\" cy=\"654.95\" r=\"18\"/>\n",
       "<circle clip-path=\"url(#clip8503)\" style=\"fill:#009af9; stroke:none; fill-opacity:1\" cx=\"1517.52\" cy=\"654.95\" r=\"14\"/>\n",
       "<circle clip-path=\"url(#clip8503)\" style=\"fill:#000000; stroke:none; fill-opacity:1\" cx=\"1246.25\" cy=\"936.143\" r=\"18\"/>\n",
       "<circle clip-path=\"url(#clip8503)\" style=\"fill:#009af9; stroke:none; fill-opacity:1\" cx=\"1246.25\" cy=\"936.143\" r=\"14\"/>\n",
       "<circle clip-path=\"url(#clip8503)\" style=\"fill:#000000; stroke:none; fill-opacity:1\" cx=\"1482.07\" cy=\"461.674\" r=\"18\"/>\n",
       "<circle clip-path=\"url(#clip8503)\" style=\"fill:#009af9; stroke:none; fill-opacity:1\" cx=\"1482.07\" cy=\"461.674\" r=\"14\"/>\n",
       "<circle clip-path=\"url(#clip8503)\" style=\"fill:#000000; stroke:none; fill-opacity:1\" cx=\"1501.75\" cy=\"610.45\" r=\"18\"/>\n",
       "<circle clip-path=\"url(#clip8503)\" style=\"fill:#009af9; stroke:none; fill-opacity:1\" cx=\"1501.75\" cy=\"610.45\" r=\"14\"/>\n",
       "<circle clip-path=\"url(#clip8503)\" style=\"fill:#000000; stroke:none; fill-opacity:1\" cx=\"1237.09\" cy=\"982.731\" r=\"18\"/>\n",
       "<circle clip-path=\"url(#clip8503)\" style=\"fill:#009af9; stroke:none; fill-opacity:1\" cx=\"1237.09\" cy=\"982.731\" r=\"14\"/>\n",
       "<circle clip-path=\"url(#clip8503)\" style=\"fill:#000000; stroke:none; fill-opacity:1\" cx=\"1114.7\" cy=\"494.41\" r=\"18\"/>\n",
       "<circle clip-path=\"url(#clip8503)\" style=\"fill:#009af9; stroke:none; fill-opacity:1\" cx=\"1114.7\" cy=\"494.41\" r=\"14\"/>\n",
       "<circle clip-path=\"url(#clip8503)\" style=\"fill:#000000; stroke:none; fill-opacity:1\" cx=\"858.276\" cy=\"1017.91\" r=\"18\"/>\n",
       "<circle clip-path=\"url(#clip8503)\" style=\"fill:#009af9; stroke:none; fill-opacity:1\" cx=\"858.276\" cy=\"1017.91\" r=\"14\"/>\n",
       "<circle clip-path=\"url(#clip8503)\" style=\"fill:#000000; stroke:none; fill-opacity:1\" cx=\"1484.32\" cy=\"665.185\" r=\"18\"/>\n",
       "<circle clip-path=\"url(#clip8503)\" style=\"fill:#009af9; stroke:none; fill-opacity:1\" cx=\"1484.32\" cy=\"665.185\" r=\"14\"/>\n",
       "<circle clip-path=\"url(#clip8503)\" style=\"fill:#000000; stroke:none; fill-opacity:1\" cx=\"943.12\" cy=\"1073.23\" r=\"18\"/>\n",
       "<circle clip-path=\"url(#clip8503)\" style=\"fill:#009af9; stroke:none; fill-opacity:1\" cx=\"943.12\" cy=\"1073.23\" r=\"14\"/>\n",
       "<circle clip-path=\"url(#clip8503)\" style=\"fill:#000000; stroke:none; fill-opacity:1\" cx=\"1466.62\" cy=\"930.223\" r=\"18\"/>\n",
       "<circle clip-path=\"url(#clip8503)\" style=\"fill:#009af9; stroke:none; fill-opacity:1\" cx=\"1466.62\" cy=\"930.223\" r=\"14\"/>\n",
       "<circle clip-path=\"url(#clip8503)\" style=\"fill:#000000; stroke:none; fill-opacity:1\" cx=\"1396.32\" cy=\"993.294\" r=\"18\"/>\n",
       "<circle clip-path=\"url(#clip8503)\" style=\"fill:#009af9; stroke:none; fill-opacity:1\" cx=\"1396.32\" cy=\"993.294\" r=\"14\"/>\n",
       "<circle clip-path=\"url(#clip8503)\" style=\"fill:#000000; stroke:none; fill-opacity:1\" cx=\"1035.76\" cy=\"617.665\" r=\"18\"/>\n",
       "<circle clip-path=\"url(#clip8503)\" style=\"fill:#009af9; stroke:none; fill-opacity:1\" cx=\"1035.76\" cy=\"617.665\" r=\"14\"/>\n",
       "<circle clip-path=\"url(#clip8503)\" style=\"fill:#000000; stroke:none; fill-opacity:1\" cx=\"968.069\" cy=\"1043.52\" r=\"18\"/>\n",
       "<circle clip-path=\"url(#clip8503)\" style=\"fill:#009af9; stroke:none; fill-opacity:1\" cx=\"968.069\" cy=\"1043.52\" r=\"14\"/>\n",
       "<circle clip-path=\"url(#clip8503)\" style=\"fill:#000000; stroke:none; fill-opacity:1\" cx=\"1189.8\" cy=\"712.655\" r=\"18\"/>\n",
       "<circle clip-path=\"url(#clip8503)\" style=\"fill:#009af9; stroke:none; fill-opacity:1\" cx=\"1189.8\" cy=\"712.655\" r=\"14\"/>\n",
       "<circle clip-path=\"url(#clip8503)\" style=\"fill:#000000; stroke:none; fill-opacity:1\" cx=\"903.258\" cy=\"1000.01\" r=\"18\"/>\n",
       "<circle clip-path=\"url(#clip8503)\" style=\"fill:#009af9; stroke:none; fill-opacity:1\" cx=\"903.258\" cy=\"1000.01\" r=\"14\"/>\n",
       "<circle clip-path=\"url(#clip8503)\" style=\"fill:#000000; stroke:none; fill-opacity:1\" cx=\"1694.45\" cy=\"660.907\" r=\"18\"/>\n",
       "<circle clip-path=\"url(#clip8503)\" style=\"fill:#009af9; stroke:none; fill-opacity:1\" cx=\"1694.45\" cy=\"660.907\" r=\"14\"/>\n",
       "<circle clip-path=\"url(#clip8503)\" style=\"fill:#000000; stroke:none; fill-opacity:1\" cx=\"1843.06\" cy=\"254.614\" r=\"18\"/>\n",
       "<circle clip-path=\"url(#clip8503)\" style=\"fill:#009af9; stroke:none; fill-opacity:1\" cx=\"1843.06\" cy=\"254.614\" r=\"14\"/>\n",
       "<circle clip-path=\"url(#clip8503)\" style=\"fill:#000000; stroke:none; fill-opacity:1\" cx=\"1190.22\" cy=\"711.76\" r=\"18\"/>\n",
       "<circle clip-path=\"url(#clip8503)\" style=\"fill:#009af9; stroke:none; fill-opacity:1\" cx=\"1190.22\" cy=\"711.76\" r=\"14\"/>\n",
       "<circle clip-path=\"url(#clip8503)\" style=\"fill:#000000; stroke:none; fill-opacity:1\" cx=\"1518.28\" cy=\"342.1\" r=\"18\"/>\n",
       "<circle clip-path=\"url(#clip8503)\" style=\"fill:#009af9; stroke:none; fill-opacity:1\" cx=\"1518.28\" cy=\"342.1\" r=\"14\"/>\n",
       "<circle clip-path=\"url(#clip8503)\" style=\"fill:#000000; stroke:none; fill-opacity:1\" cx=\"1259.51\" cy=\"959.639\" r=\"18\"/>\n",
       "<circle clip-path=\"url(#clip8503)\" style=\"fill:#009af9; stroke:none; fill-opacity:1\" cx=\"1259.51\" cy=\"959.639\" r=\"14\"/>\n",
       "<circle clip-path=\"url(#clip8503)\" style=\"fill:#000000; stroke:none; fill-opacity:1\" cx=\"1493.75\" cy=\"859.768\" r=\"18\"/>\n",
       "<circle clip-path=\"url(#clip8503)\" style=\"fill:#009af9; stroke:none; fill-opacity:1\" cx=\"1493.75\" cy=\"859.768\" r=\"14\"/>\n",
       "<circle clip-path=\"url(#clip8503)\" style=\"fill:#000000; stroke:none; fill-opacity:1\" cx=\"1368.4\" cy=\"669.329\" r=\"18\"/>\n",
       "<circle clip-path=\"url(#clip8503)\" style=\"fill:#009af9; stroke:none; fill-opacity:1\" cx=\"1368.4\" cy=\"669.329\" r=\"14\"/>\n",
       "<circle clip-path=\"url(#clip8503)\" style=\"fill:#000000; stroke:none; fill-opacity:1\" cx=\"1507.44\" cy=\"547.623\" r=\"18\"/>\n",
       "<circle clip-path=\"url(#clip8503)\" style=\"fill:#009af9; stroke:none; fill-opacity:1\" cx=\"1507.44\" cy=\"547.623\" r=\"14\"/>\n",
       "<circle clip-path=\"url(#clip8503)\" style=\"fill:#000000; stroke:none; fill-opacity:1\" cx=\"918.488\" cy=\"852.076\" r=\"18\"/>\n",
       "<circle clip-path=\"url(#clip8503)\" style=\"fill:#009af9; stroke:none; fill-opacity:1\" cx=\"918.488\" cy=\"852.076\" r=\"14\"/>\n",
       "<circle clip-path=\"url(#clip8503)\" style=\"fill:#000000; stroke:none; fill-opacity:1\" cx=\"1411.1\" cy=\"361.793\" r=\"18\"/>\n",
       "<circle clip-path=\"url(#clip8503)\" style=\"fill:#009af9; stroke:none; fill-opacity:1\" cx=\"1411.1\" cy=\"361.793\" r=\"14\"/>\n",
       "<circle clip-path=\"url(#clip8503)\" style=\"fill:#000000; stroke:none; fill-opacity:1\" cx=\"1268.39\" cy=\"899.474\" r=\"18\"/>\n",
       "<circle clip-path=\"url(#clip8503)\" style=\"fill:#009af9; stroke:none; fill-opacity:1\" cx=\"1268.39\" cy=\"899.474\" r=\"14\"/>\n",
       "<circle clip-path=\"url(#clip8503)\" style=\"fill:#000000; stroke:none; fill-opacity:1\" cx=\"1673.17\" cy=\"654.815\" r=\"18\"/>\n",
       "<circle clip-path=\"url(#clip8503)\" style=\"fill:#009af9; stroke:none; fill-opacity:1\" cx=\"1673.17\" cy=\"654.815\" r=\"14\"/>\n",
       "<circle clip-path=\"url(#clip8503)\" style=\"fill:#000000; stroke:none; fill-opacity:1\" cx=\"1095.2\" cy=\"1102.2\" r=\"18\"/>\n",
       "<circle clip-path=\"url(#clip8503)\" style=\"fill:#009af9; stroke:none; fill-opacity:1\" cx=\"1095.2\" cy=\"1102.2\" r=\"14\"/>\n",
       "<circle clip-path=\"url(#clip8503)\" style=\"fill:#000000; stroke:none; fill-opacity:1\" cx=\"1486.15\" cy=\"790.68\" r=\"18\"/>\n",
       "<circle clip-path=\"url(#clip8503)\" style=\"fill:#009af9; stroke:none; fill-opacity:1\" cx=\"1486.15\" cy=\"790.68\" r=\"14\"/>\n",
       "<circle clip-path=\"url(#clip8503)\" style=\"fill:#000000; stroke:none; fill-opacity:1\" cx=\"1180.43\" cy=\"1184.3\" r=\"18\"/>\n",
       "<circle clip-path=\"url(#clip8503)\" style=\"fill:#009af9; stroke:none; fill-opacity:1\" cx=\"1180.43\" cy=\"1184.3\" r=\"14\"/>\n",
       "<circle clip-path=\"url(#clip8503)\" style=\"fill:#000000; stroke:none; fill-opacity:1\" cx=\"1201.39\" cy=\"818.154\" r=\"18\"/>\n",
       "<circle clip-path=\"url(#clip8503)\" style=\"fill:#009af9; stroke:none; fill-opacity:1\" cx=\"1201.39\" cy=\"818.154\" r=\"14\"/>\n",
       "<circle clip-path=\"url(#clip8503)\" style=\"fill:#000000; stroke:none; fill-opacity:1\" cx=\"1392.8\" cy=\"691.309\" r=\"18\"/>\n",
       "<circle clip-path=\"url(#clip8503)\" style=\"fill:#009af9; stroke:none; fill-opacity:1\" cx=\"1392.8\" cy=\"691.309\" r=\"14\"/>\n",
       "<circle clip-path=\"url(#clip8503)\" style=\"fill:#000000; stroke:none; fill-opacity:1\" cx=\"1416.13\" cy=\"508.77\" r=\"18\"/>\n",
       "<circle clip-path=\"url(#clip8503)\" style=\"fill:#009af9; stroke:none; fill-opacity:1\" cx=\"1416.13\" cy=\"508.77\" r=\"14\"/>\n",
       "<circle clip-path=\"url(#clip8503)\" style=\"fill:#000000; stroke:none; fill-opacity:1\" cx=\"951.775\" cy=\"854.553\" r=\"18\"/>\n",
       "<circle clip-path=\"url(#clip8503)\" style=\"fill:#009af9; stroke:none; fill-opacity:1\" cx=\"951.775\" cy=\"854.553\" r=\"14\"/>\n",
       "<circle clip-path=\"url(#clip8503)\" style=\"fill:#000000; stroke:none; fill-opacity:1\" cx=\"1173.2\" cy=\"610.882\" r=\"18\"/>\n",
       "<circle clip-path=\"url(#clip8503)\" style=\"fill:#009af9; stroke:none; fill-opacity:1\" cx=\"1173.2\" cy=\"610.882\" r=\"14\"/>\n",
       "<circle clip-path=\"url(#clip8503)\" style=\"fill:#000000; stroke:none; fill-opacity:1\" cx=\"648.901\" cy=\"1262.14\" r=\"18\"/>\n",
       "<circle clip-path=\"url(#clip8503)\" style=\"fill:#009af9; stroke:none; fill-opacity:1\" cx=\"648.901\" cy=\"1262.14\" r=\"14\"/>\n",
       "<circle clip-path=\"url(#clip8503)\" style=\"fill:#000000; stroke:none; fill-opacity:1\" cx=\"1224.43\" cy=\"632.831\" r=\"18\"/>\n",
       "<circle clip-path=\"url(#clip8503)\" style=\"fill:#009af9; stroke:none; fill-opacity:1\" cx=\"1224.43\" cy=\"632.831\" r=\"14\"/>\n",
       "<circle clip-path=\"url(#clip8503)\" style=\"fill:#000000; stroke:none; fill-opacity:1\" cx=\"1339.25\" cy=\"988.303\" r=\"18\"/>\n",
       "<circle clip-path=\"url(#clip8503)\" style=\"fill:#009af9; stroke:none; fill-opacity:1\" cx=\"1339.25\" cy=\"988.303\" r=\"14\"/>\n",
       "<circle clip-path=\"url(#clip8503)\" style=\"fill:#000000; stroke:none; fill-opacity:1\" cx=\"1308.68\" cy=\"773.734\" r=\"18\"/>\n",
       "<circle clip-path=\"url(#clip8503)\" style=\"fill:#009af9; stroke:none; fill-opacity:1\" cx=\"1308.68\" cy=\"773.734\" r=\"14\"/>\n",
       "<circle clip-path=\"url(#clip8503)\" style=\"fill:#000000; stroke:none; fill-opacity:1\" cx=\"872.12\" cy=\"1096.83\" r=\"18\"/>\n",
       "<circle clip-path=\"url(#clip8503)\" style=\"fill:#009af9; stroke:none; fill-opacity:1\" cx=\"872.12\" cy=\"1096.83\" r=\"14\"/>\n",
       "<circle clip-path=\"url(#clip8503)\" style=\"fill:#000000; stroke:none; fill-opacity:1\" cx=\"1712.66\" cy=\"526.811\" r=\"18\"/>\n",
       "<circle clip-path=\"url(#clip8503)\" style=\"fill:#009af9; stroke:none; fill-opacity:1\" cx=\"1712.66\" cy=\"526.811\" r=\"14\"/>\n",
       "<circle clip-path=\"url(#clip8503)\" style=\"fill:#000000; stroke:none; fill-opacity:1\" cx=\"1174.45\" cy=\"925.755\" r=\"18\"/>\n",
       "<circle clip-path=\"url(#clip8503)\" style=\"fill:#009af9; stroke:none; fill-opacity:1\" cx=\"1174.45\" cy=\"925.755\" r=\"14\"/>\n",
       "<circle clip-path=\"url(#clip8503)\" style=\"fill:#000000; stroke:none; fill-opacity:1\" cx=\"1433.59\" cy=\"656.148\" r=\"18\"/>\n",
       "<circle clip-path=\"url(#clip8503)\" style=\"fill:#009af9; stroke:none; fill-opacity:1\" cx=\"1433.59\" cy=\"656.148\" r=\"14\"/>\n",
       "<circle clip-path=\"url(#clip8503)\" style=\"fill:#000000; stroke:none; fill-opacity:1\" cx=\"1603.62\" cy=\"530.713\" r=\"18\"/>\n",
       "<circle clip-path=\"url(#clip8503)\" style=\"fill:#009af9; stroke:none; fill-opacity:1\" cx=\"1603.62\" cy=\"530.713\" r=\"14\"/>\n",
       "<circle clip-path=\"url(#clip8503)\" style=\"fill:#000000; stroke:none; fill-opacity:1\" cx=\"1390.23\" cy=\"506.012\" r=\"18\"/>\n",
       "<circle clip-path=\"url(#clip8503)\" style=\"fill:#009af9; stroke:none; fill-opacity:1\" cx=\"1390.23\" cy=\"506.012\" r=\"14\"/>\n",
       "<circle clip-path=\"url(#clip8503)\" style=\"fill:#000000; stroke:none; fill-opacity:1\" cx=\"1389.73\" cy=\"439.715\" r=\"18\"/>\n",
       "<circle clip-path=\"url(#clip8503)\" style=\"fill:#009af9; stroke:none; fill-opacity:1\" cx=\"1389.73\" cy=\"439.715\" r=\"14\"/>\n",
       "<circle clip-path=\"url(#clip8503)\" style=\"fill:#000000; stroke:none; fill-opacity:1\" cx=\"1779.21\" cy=\"490.91\" r=\"18\"/>\n",
       "<circle clip-path=\"url(#clip8503)\" style=\"fill:#009af9; stroke:none; fill-opacity:1\" cx=\"1779.21\" cy=\"490.91\" r=\"14\"/>\n",
       "<circle clip-path=\"url(#clip8503)\" style=\"fill:#000000; stroke:none; fill-opacity:1\" cx=\"1466.96\" cy=\"728.468\" r=\"18\"/>\n",
       "<circle clip-path=\"url(#clip8503)\" style=\"fill:#009af9; stroke:none; fill-opacity:1\" cx=\"1466.96\" cy=\"728.468\" r=\"14\"/>\n",
       "<circle clip-path=\"url(#clip8503)\" style=\"fill:#000000; stroke:none; fill-opacity:1\" cx=\"1309.06\" cy=\"592.377\" r=\"18\"/>\n",
       "<circle clip-path=\"url(#clip8503)\" style=\"fill:#009af9; stroke:none; fill-opacity:1\" cx=\"1309.06\" cy=\"592.377\" r=\"14\"/>\n",
       "<circle clip-path=\"url(#clip8503)\" style=\"fill:#000000; stroke:none; fill-opacity:1\" cx=\"1370.8\" cy=\"1043.54\" r=\"18\"/>\n",
       "<circle clip-path=\"url(#clip8503)\" style=\"fill:#009af9; stroke:none; fill-opacity:1\" cx=\"1370.8\" cy=\"1043.54\" r=\"14\"/>\n",
       "<circle clip-path=\"url(#clip8503)\" style=\"fill:#000000; stroke:none; fill-opacity:1\" cx=\"1290.72\" cy=\"1021.41\" r=\"18\"/>\n",
       "<circle clip-path=\"url(#clip8503)\" style=\"fill:#009af9; stroke:none; fill-opacity:1\" cx=\"1290.72\" cy=\"1021.41\" r=\"14\"/>\n",
       "<circle clip-path=\"url(#clip8503)\" style=\"fill:#000000; stroke:none; fill-opacity:1\" cx=\"1519.35\" cy=\"987.685\" r=\"18\"/>\n",
       "<circle clip-path=\"url(#clip8503)\" style=\"fill:#009af9; stroke:none; fill-opacity:1\" cx=\"1519.35\" cy=\"987.685\" r=\"14\"/>\n",
       "<circle clip-path=\"url(#clip8503)\" style=\"fill:#000000; stroke:none; fill-opacity:1\" cx=\"1169.46\" cy=\"604.303\" r=\"18\"/>\n",
       "<circle clip-path=\"url(#clip8503)\" style=\"fill:#009af9; stroke:none; fill-opacity:1\" cx=\"1169.46\" cy=\"604.303\" r=\"14\"/>\n",
       "<circle clip-path=\"url(#clip8503)\" style=\"fill:#000000; stroke:none; fill-opacity:1\" cx=\"1355.79\" cy=\"837.129\" r=\"18\"/>\n",
       "<circle clip-path=\"url(#clip8503)\" style=\"fill:#009af9; stroke:none; fill-opacity:1\" cx=\"1355.79\" cy=\"837.129\" r=\"14\"/>\n",
       "<circle clip-path=\"url(#clip8503)\" style=\"fill:#000000; stroke:none; fill-opacity:1\" cx=\"1583.88\" cy=\"836.916\" r=\"18\"/>\n",
       "<circle clip-path=\"url(#clip8503)\" style=\"fill:#009af9; stroke:none; fill-opacity:1\" cx=\"1583.88\" cy=\"836.916\" r=\"14\"/>\n",
       "<circle clip-path=\"url(#clip8503)\" style=\"fill:#000000; stroke:none; fill-opacity:1\" cx=\"1290.19\" cy=\"1074.7\" r=\"18\"/>\n",
       "<circle clip-path=\"url(#clip8503)\" style=\"fill:#009af9; stroke:none; fill-opacity:1\" cx=\"1290.19\" cy=\"1074.7\" r=\"14\"/>\n",
       "<circle clip-path=\"url(#clip8503)\" style=\"fill:#000000; stroke:none; fill-opacity:1\" cx=\"1189.17\" cy=\"1062.35\" r=\"18\"/>\n",
       "<circle clip-path=\"url(#clip8503)\" style=\"fill:#009af9; stroke:none; fill-opacity:1\" cx=\"1189.17\" cy=\"1062.35\" r=\"14\"/>\n",
       "<circle clip-path=\"url(#clip8503)\" style=\"fill:#000000; stroke:none; fill-opacity:1\" cx=\"1503.82\" cy=\"709.408\" r=\"18\"/>\n",
       "<circle clip-path=\"url(#clip8503)\" style=\"fill:#009af9; stroke:none; fill-opacity:1\" cx=\"1503.82\" cy=\"709.408\" r=\"14\"/>\n",
       "<circle clip-path=\"url(#clip8503)\" style=\"fill:#000000; stroke:none; fill-opacity:1\" cx=\"986.42\" cy=\"942.135\" r=\"18\"/>\n",
       "<circle clip-path=\"url(#clip8503)\" style=\"fill:#009af9; stroke:none; fill-opacity:1\" cx=\"986.42\" cy=\"942.135\" r=\"14\"/>\n",
       "<circle clip-path=\"url(#clip8503)\" style=\"fill:#000000; stroke:none; fill-opacity:1\" cx=\"1024.61\" cy=\"650.169\" r=\"18\"/>\n",
       "<circle clip-path=\"url(#clip8503)\" style=\"fill:#009af9; stroke:none; fill-opacity:1\" cx=\"1024.61\" cy=\"650.169\" r=\"14\"/>\n",
       "<circle clip-path=\"url(#clip8503)\" style=\"fill:#000000; stroke:none; fill-opacity:1\" cx=\"954.461\" cy=\"817.047\" r=\"18\"/>\n",
       "<circle clip-path=\"url(#clip8503)\" style=\"fill:#009af9; stroke:none; fill-opacity:1\" cx=\"954.461\" cy=\"817.047\" r=\"14\"/>\n",
       "<circle clip-path=\"url(#clip8503)\" style=\"fill:#000000; stroke:none; fill-opacity:1\" cx=\"1114.54\" cy=\"546.381\" r=\"18\"/>\n",
       "<circle clip-path=\"url(#clip8503)\" style=\"fill:#009af9; stroke:none; fill-opacity:1\" cx=\"1114.54\" cy=\"546.381\" r=\"14\"/>\n",
       "<circle clip-path=\"url(#clip8503)\" style=\"fill:#000000; stroke:none; fill-opacity:1\" cx=\"1884.99\" cy=\"294.049\" r=\"18\"/>\n",
       "<circle clip-path=\"url(#clip8503)\" style=\"fill:#009af9; stroke:none; fill-opacity:1\" cx=\"1884.99\" cy=\"294.049\" r=\"14\"/>\n",
       "<circle clip-path=\"url(#clip8503)\" style=\"fill:#000000; stroke:none; fill-opacity:1\" cx=\"1524.31\" cy=\"325.834\" r=\"18\"/>\n",
       "<circle clip-path=\"url(#clip8503)\" style=\"fill:#009af9; stroke:none; fill-opacity:1\" cx=\"1524.31\" cy=\"325.834\" r=\"14\"/>\n",
       "<circle clip-path=\"url(#clip8503)\" style=\"fill:#000000; stroke:none; fill-opacity:1\" cx=\"919.649\" cy=\"1155.8\" r=\"18\"/>\n",
       "<circle clip-path=\"url(#clip8503)\" style=\"fill:#009af9; stroke:none; fill-opacity:1\" cx=\"919.649\" cy=\"1155.8\" r=\"14\"/>\n",
       "<circle clip-path=\"url(#clip8503)\" style=\"fill:#000000; stroke:none; fill-opacity:1\" cx=\"1620.8\" cy=\"631.899\" r=\"18\"/>\n",
       "<circle clip-path=\"url(#clip8503)\" style=\"fill:#009af9; stroke:none; fill-opacity:1\" cx=\"1620.8\" cy=\"631.899\" r=\"14\"/>\n",
       "<circle clip-path=\"url(#clip8503)\" style=\"fill:#000000; stroke:none; fill-opacity:1\" cx=\"1016.64\" cy=\"1201\" r=\"18\"/>\n",
       "<circle clip-path=\"url(#clip8503)\" style=\"fill:#009af9; stroke:none; fill-opacity:1\" cx=\"1016.64\" cy=\"1201\" r=\"14\"/>\n",
       "<circle clip-path=\"url(#clip8503)\" style=\"fill:#000000; stroke:none; fill-opacity:1\" cx=\"1558.18\" cy=\"910.667\" r=\"18\"/>\n",
       "<circle clip-path=\"url(#clip8503)\" style=\"fill:#009af9; stroke:none; fill-opacity:1\" cx=\"1558.18\" cy=\"910.667\" r=\"14\"/>\n",
       "<circle clip-path=\"url(#clip8503)\" style=\"fill:#000000; stroke:none; fill-opacity:1\" cx=\"840.086\" cy=\"1075.52\" r=\"18\"/>\n",
       "<circle clip-path=\"url(#clip8503)\" style=\"fill:#009af9; stroke:none; fill-opacity:1\" cx=\"840.086\" cy=\"1075.52\" r=\"14\"/>\n",
       "<circle clip-path=\"url(#clip8503)\" style=\"fill:#000000; stroke:none; fill-opacity:1\" cx=\"1002.12\" cy=\"733.968\" r=\"18\"/>\n",
       "<circle clip-path=\"url(#clip8503)\" style=\"fill:#009af9; stroke:none; fill-opacity:1\" cx=\"1002.12\" cy=\"733.968\" r=\"14\"/>\n",
       "<circle clip-path=\"url(#clip8503)\" style=\"fill:#000000; stroke:none; fill-opacity:1\" cx=\"1205.22\" cy=\"464.07\" r=\"18\"/>\n",
       "<circle clip-path=\"url(#clip8503)\" style=\"fill:#009af9; stroke:none; fill-opacity:1\" cx=\"1205.22\" cy=\"464.07\" r=\"14\"/>\n",
       "<circle clip-path=\"url(#clip8503)\" style=\"fill:#000000; stroke:none; fill-opacity:1\" cx=\"1097.68\" cy=\"1129.66\" r=\"18\"/>\n",
       "<circle clip-path=\"url(#clip8503)\" style=\"fill:#009af9; stroke:none; fill-opacity:1\" cx=\"1097.68\" cy=\"1129.66\" r=\"14\"/>\n",
       "<circle clip-path=\"url(#clip8503)\" style=\"fill:#000000; stroke:none; fill-opacity:1\" cx=\"1681.16\" cy=\"447.935\" r=\"18\"/>\n",
       "<circle clip-path=\"url(#clip8503)\" style=\"fill:#009af9; stroke:none; fill-opacity:1\" cx=\"1681.16\" cy=\"447.935\" r=\"14\"/>\n",
       "<circle clip-path=\"url(#clip8503)\" style=\"fill:#000000; stroke:none; fill-opacity:1\" cx=\"1558.53\" cy=\"351.746\" r=\"18\"/>\n",
       "<circle clip-path=\"url(#clip8503)\" style=\"fill:#009af9; stroke:none; fill-opacity:1\" cx=\"1558.53\" cy=\"351.746\" r=\"14\"/>\n",
       "<circle clip-path=\"url(#clip8503)\" style=\"fill:#000000; stroke:none; fill-opacity:1\" cx=\"1645.16\" cy=\"404.252\" r=\"18\"/>\n",
       "<circle clip-path=\"url(#clip8503)\" style=\"fill:#009af9; stroke:none; fill-opacity:1\" cx=\"1645.16\" cy=\"404.252\" r=\"14\"/>\n",
       "<circle clip-path=\"url(#clip8503)\" style=\"fill:#000000; stroke:none; fill-opacity:1\" cx=\"1708.15\" cy=\"312.815\" r=\"18\"/>\n",
       "<circle clip-path=\"url(#clip8503)\" style=\"fill:#009af9; stroke:none; fill-opacity:1\" cx=\"1708.15\" cy=\"312.815\" r=\"14\"/>\n",
       "<circle clip-path=\"url(#clip8503)\" style=\"fill:#000000; stroke:none; fill-opacity:1\" cx=\"1083.57\" cy=\"951.572\" r=\"18\"/>\n",
       "<circle clip-path=\"url(#clip8503)\" style=\"fill:#009af9; stroke:none; fill-opacity:1\" cx=\"1083.57\" cy=\"951.572\" r=\"14\"/>\n",
       "<circle clip-path=\"url(#clip8503)\" style=\"fill:#000000; stroke:none; fill-opacity:1\" cx=\"1351.93\" cy=\"377.697\" r=\"18\"/>\n",
       "<circle clip-path=\"url(#clip8503)\" style=\"fill:#009af9; stroke:none; fill-opacity:1\" cx=\"1351.93\" cy=\"377.697\" r=\"14\"/>\n",
       "<circle clip-path=\"url(#clip8503)\" style=\"fill:#000000; stroke:none; fill-opacity:1\" cx=\"1364.6\" cy=\"402.515\" r=\"18\"/>\n",
       "<circle clip-path=\"url(#clip8503)\" style=\"fill:#009af9; stroke:none; fill-opacity:1\" cx=\"1364.6\" cy=\"402.515\" r=\"14\"/>\n",
       "<circle clip-path=\"url(#clip8503)\" style=\"fill:#000000; stroke:none; fill-opacity:1\" cx=\"854.366\" cy=\"1153.44\" r=\"18\"/>\n",
       "<circle clip-path=\"url(#clip8503)\" style=\"fill:#009af9; stroke:none; fill-opacity:1\" cx=\"854.366\" cy=\"1153.44\" r=\"14\"/>\n",
       "<circle clip-path=\"url(#clip8503)\" style=\"fill:#000000; stroke:none; fill-opacity:1\" cx=\"1375.78\" cy=\"740.426\" r=\"18\"/>\n",
       "<circle clip-path=\"url(#clip8503)\" style=\"fill:#009af9; stroke:none; fill-opacity:1\" cx=\"1375.78\" cy=\"740.426\" r=\"14\"/>\n",
       "<circle clip-path=\"url(#clip8503)\" style=\"fill:#000000; stroke:none; fill-opacity:1\" cx=\"880.204\" cy=\"1000.08\" r=\"18\"/>\n",
       "<circle clip-path=\"url(#clip8503)\" style=\"fill:#009af9; stroke:none; fill-opacity:1\" cx=\"880.204\" cy=\"1000.08\" r=\"14\"/>\n",
       "<circle clip-path=\"url(#clip8503)\" style=\"fill:#000000; stroke:none; fill-opacity:1\" cx=\"1400.26\" cy=\"594.427\" r=\"18\"/>\n",
       "<circle clip-path=\"url(#clip8503)\" style=\"fill:#009af9; stroke:none; fill-opacity:1\" cx=\"1400.26\" cy=\"594.427\" r=\"14\"/>\n",
       "<circle clip-path=\"url(#clip8503)\" style=\"fill:#000000; stroke:none; fill-opacity:1\" cx=\"1112.92\" cy=\"826.725\" r=\"18\"/>\n",
       "<circle clip-path=\"url(#clip8503)\" style=\"fill:#009af9; stroke:none; fill-opacity:1\" cx=\"1112.92\" cy=\"826.725\" r=\"14\"/>\n",
       "<circle clip-path=\"url(#clip8503)\" style=\"fill:#000000; stroke:none; fill-opacity:1\" cx=\"1397.75\" cy=\"362.235\" r=\"18\"/>\n",
       "<circle clip-path=\"url(#clip8503)\" style=\"fill:#009af9; stroke:none; fill-opacity:1\" cx=\"1397.75\" cy=\"362.235\" r=\"14\"/>\n",
       "<circle clip-path=\"url(#clip8503)\" style=\"fill:#000000; stroke:none; fill-opacity:1\" cx=\"1264.69\" cy=\"874.93\" r=\"18\"/>\n",
       "<circle clip-path=\"url(#clip8503)\" style=\"fill:#009af9; stroke:none; fill-opacity:1\" cx=\"1264.69\" cy=\"874.93\" r=\"14\"/>\n",
       "<circle clip-path=\"url(#clip8503)\" style=\"fill:#000000; stroke:none; fill-opacity:1\" cx=\"1280\" cy=\"1156.36\" r=\"18\"/>\n",
       "<circle clip-path=\"url(#clip8503)\" style=\"fill:#009af9; stroke:none; fill-opacity:1\" cx=\"1280\" cy=\"1156.36\" r=\"14\"/>\n",
       "<circle clip-path=\"url(#clip8503)\" style=\"fill:#000000; stroke:none; fill-opacity:1\" cx=\"1640.93\" cy=\"641.25\" r=\"18\"/>\n",
       "<circle clip-path=\"url(#clip8503)\" style=\"fill:#009af9; stroke:none; fill-opacity:1\" cx=\"1640.93\" cy=\"641.25\" r=\"14\"/>\n",
       "<circle clip-path=\"url(#clip8503)\" style=\"fill:#000000; stroke:none; fill-opacity:1\" cx=\"1668.01\" cy=\"618.358\" r=\"18\"/>\n",
       "<circle clip-path=\"url(#clip8503)\" style=\"fill:#009af9; stroke:none; fill-opacity:1\" cx=\"1668.01\" cy=\"618.358\" r=\"14\"/>\n",
       "<circle clip-path=\"url(#clip8503)\" style=\"fill:#000000; stroke:none; fill-opacity:1\" cx=\"1314.69\" cy=\"1091.66\" r=\"18\"/>\n",
       "<circle clip-path=\"url(#clip8503)\" style=\"fill:#009af9; stroke:none; fill-opacity:1\" cx=\"1314.69\" cy=\"1091.66\" r=\"14\"/>\n",
       "<circle clip-path=\"url(#clip8503)\" style=\"fill:#000000; stroke:none; fill-opacity:1\" cx=\"1199.19\" cy=\"837.421\" r=\"18\"/>\n",
       "<circle clip-path=\"url(#clip8503)\" style=\"fill:#009af9; stroke:none; fill-opacity:1\" cx=\"1199.19\" cy=\"837.421\" r=\"14\"/>\n",
       "<circle clip-path=\"url(#clip8503)\" style=\"fill:#000000; stroke:none; fill-opacity:1\" cx=\"1147.02\" cy=\"821.927\" r=\"18\"/>\n",
       "<circle clip-path=\"url(#clip8503)\" style=\"fill:#009af9; stroke:none; fill-opacity:1\" cx=\"1147.02\" cy=\"821.927\" r=\"14\"/>\n",
       "<circle clip-path=\"url(#clip8503)\" style=\"fill:#000000; stroke:none; fill-opacity:1\" cx=\"680.749\" cy=\"1310.11\" r=\"18\"/>\n",
       "<circle clip-path=\"url(#clip8503)\" style=\"fill:#009af9; stroke:none; fill-opacity:1\" cx=\"680.749\" cy=\"1310.11\" r=\"14\"/>\n",
       "<circle clip-path=\"url(#clip8503)\" style=\"fill:#000000; stroke:none; fill-opacity:1\" cx=\"955.303\" cy=\"841.606\" r=\"18\"/>\n",
       "<circle clip-path=\"url(#clip8503)\" style=\"fill:#009af9; stroke:none; fill-opacity:1\" cx=\"955.303\" cy=\"841.606\" r=\"14\"/>\n",
       "<circle clip-path=\"url(#clip8503)\" style=\"fill:#000000; stroke:none; fill-opacity:1\" cx=\"849.784\" cy=\"956.84\" r=\"18\"/>\n",
       "<circle clip-path=\"url(#clip8503)\" style=\"fill:#009af9; stroke:none; fill-opacity:1\" cx=\"849.784\" cy=\"956.84\" r=\"14\"/>\n",
       "<circle clip-path=\"url(#clip8503)\" style=\"fill:#000000; stroke:none; fill-opacity:1\" cx=\"658.12\" cy=\"1275.89\" r=\"18\"/>\n",
       "<circle clip-path=\"url(#clip8503)\" style=\"fill:#009af9; stroke:none; fill-opacity:1\" cx=\"658.12\" cy=\"1275.89\" r=\"14\"/>\n",
       "<circle clip-path=\"url(#clip8503)\" style=\"fill:#000000; stroke:none; fill-opacity:1\" cx=\"978.919\" cy=\"741.877\" r=\"18\"/>\n",
       "<circle clip-path=\"url(#clip8503)\" style=\"fill:#009af9; stroke:none; fill-opacity:1\" cx=\"978.919\" cy=\"741.877\" r=\"14\"/>\n",
       "<circle clip-path=\"url(#clip8503)\" style=\"fill:#000000; stroke:none; fill-opacity:1\" cx=\"1305.9\" cy=\"856.753\" r=\"18\"/>\n",
       "<circle clip-path=\"url(#clip8503)\" style=\"fill:#009af9; stroke:none; fill-opacity:1\" cx=\"1305.9\" cy=\"856.753\" r=\"14\"/>\n",
       "<circle clip-path=\"url(#clip8503)\" style=\"fill:#000000; stroke:none; fill-opacity:1\" cx=\"1260.02\" cy=\"963.566\" r=\"18\"/>\n",
       "<circle clip-path=\"url(#clip8503)\" style=\"fill:#009af9; stroke:none; fill-opacity:1\" cx=\"1260.02\" cy=\"963.566\" r=\"14\"/>\n",
       "<circle clip-path=\"url(#clip8503)\" style=\"fill:#000000; stroke:none; fill-opacity:1\" cx=\"1105.36\" cy=\"964.216\" r=\"18\"/>\n",
       "<circle clip-path=\"url(#clip8503)\" style=\"fill:#009af9; stroke:none; fill-opacity:1\" cx=\"1105.36\" cy=\"964.216\" r=\"14\"/>\n",
       "<circle clip-path=\"url(#clip8503)\" style=\"fill:#000000; stroke:none; fill-opacity:1\" cx=\"1140.78\" cy=\"630.417\" r=\"18\"/>\n",
       "<circle clip-path=\"url(#clip8503)\" style=\"fill:#009af9; stroke:none; fill-opacity:1\" cx=\"1140.78\" cy=\"630.417\" r=\"14\"/>\n",
       "<circle clip-path=\"url(#clip8503)\" style=\"fill:#000000; stroke:none; fill-opacity:1\" cx=\"1505.89\" cy=\"900.515\" r=\"18\"/>\n",
       "<circle clip-path=\"url(#clip8503)\" style=\"fill:#009af9; stroke:none; fill-opacity:1\" cx=\"1505.89\" cy=\"900.515\" r=\"14\"/>\n",
       "<circle clip-path=\"url(#clip8503)\" style=\"fill:#000000; stroke:none; fill-opacity:1\" cx=\"936.067\" cy=\"842.653\" r=\"18\"/>\n",
       "<circle clip-path=\"url(#clip8503)\" style=\"fill:#009af9; stroke:none; fill-opacity:1\" cx=\"936.067\" cy=\"842.653\" r=\"14\"/>\n",
       "<circle clip-path=\"url(#clip8503)\" style=\"fill:#000000; stroke:none; fill-opacity:1\" cx=\"914.782\" cy=\"1068.62\" r=\"18\"/>\n",
       "<circle clip-path=\"url(#clip8503)\" style=\"fill:#009af9; stroke:none; fill-opacity:1\" cx=\"914.782\" cy=\"1068.62\" r=\"14\"/>\n",
       "<circle clip-path=\"url(#clip8503)\" style=\"fill:#000000; stroke:none; fill-opacity:1\" cx=\"1144.12\" cy=\"795.647\" r=\"18\"/>\n",
       "<circle clip-path=\"url(#clip8503)\" style=\"fill:#009af9; stroke:none; fill-opacity:1\" cx=\"1144.12\" cy=\"795.647\" r=\"14\"/>\n",
       "<circle clip-path=\"url(#clip8503)\" style=\"fill:#000000; stroke:none; fill-opacity:1\" cx=\"945.097\" cy=\"969.073\" r=\"18\"/>\n",
       "<circle clip-path=\"url(#clip8503)\" style=\"fill:#009af9; stroke:none; fill-opacity:1\" cx=\"945.097\" cy=\"969.073\" r=\"14\"/>\n",
       "<circle clip-path=\"url(#clip8503)\" style=\"fill:#000000; stroke:none; fill-opacity:1\" cx=\"682.562\" cy=\"1227.79\" r=\"18\"/>\n",
       "<circle clip-path=\"url(#clip8503)\" style=\"fill:#009af9; stroke:none; fill-opacity:1\" cx=\"682.562\" cy=\"1227.79\" r=\"14\"/>\n",
       "<circle clip-path=\"url(#clip8503)\" style=\"fill:#000000; stroke:none; fill-opacity:1\" cx=\"1083.07\" cy=\"1028.31\" r=\"18\"/>\n",
       "<circle clip-path=\"url(#clip8503)\" style=\"fill:#009af9; stroke:none; fill-opacity:1\" cx=\"1083.07\" cy=\"1028.31\" r=\"14\"/>\n",
       "<circle clip-path=\"url(#clip8503)\" style=\"fill:#000000; stroke:none; fill-opacity:1\" cx=\"889.488\" cy=\"932.991\" r=\"18\"/>\n",
       "<circle clip-path=\"url(#clip8503)\" style=\"fill:#009af9; stroke:none; fill-opacity:1\" cx=\"889.488\" cy=\"932.991\" r=\"14\"/>\n",
       "<circle clip-path=\"url(#clip8503)\" style=\"fill:#000000; stroke:none; fill-opacity:1\" cx=\"707.947\" cy=\"1107.89\" r=\"18\"/>\n",
       "<circle clip-path=\"url(#clip8503)\" style=\"fill:#009af9; stroke:none; fill-opacity:1\" cx=\"707.947\" cy=\"1107.89\" r=\"14\"/>\n",
       "<circle clip-path=\"url(#clip8503)\" style=\"fill:#000000; stroke:none; fill-opacity:1\" cx=\"1096.43\" cy=\"803.408\" r=\"18\"/>\n",
       "<circle clip-path=\"url(#clip8503)\" style=\"fill:#009af9; stroke:none; fill-opacity:1\" cx=\"1096.43\" cy=\"803.408\" r=\"14\"/>\n",
       "<circle clip-path=\"url(#clip8503)\" style=\"fill:#000000; stroke:none; fill-opacity:1\" cx=\"974.969\" cy=\"793.345\" r=\"18\"/>\n",
       "<circle clip-path=\"url(#clip8503)\" style=\"fill:#009af9; stroke:none; fill-opacity:1\" cx=\"974.969\" cy=\"793.345\" r=\"14\"/>\n",
       "<circle clip-path=\"url(#clip8503)\" style=\"fill:#000000; stroke:none; fill-opacity:1\" cx=\"840.991\" cy=\"1024.74\" r=\"18\"/>\n",
       "<circle clip-path=\"url(#clip8503)\" style=\"fill:#009af9; stroke:none; fill-opacity:1\" cx=\"840.991\" cy=\"1024.74\" r=\"14\"/>\n",
       "<circle clip-path=\"url(#clip8503)\" style=\"fill:#000000; stroke:none; fill-opacity:1\" cx=\"1300.35\" cy=\"524.817\" r=\"18\"/>\n",
       "<circle clip-path=\"url(#clip8503)\" style=\"fill:#009af9; stroke:none; fill-opacity:1\" cx=\"1300.35\" cy=\"524.817\" r=\"14\"/>\n",
       "<circle clip-path=\"url(#clip8503)\" style=\"fill:#000000; stroke:none; fill-opacity:1\" cx=\"1620.29\" cy=\"325.885\" r=\"18\"/>\n",
       "<circle clip-path=\"url(#clip8503)\" style=\"fill:#009af9; stroke:none; fill-opacity:1\" cx=\"1620.29\" cy=\"325.885\" r=\"14\"/>\n",
       "<circle clip-path=\"url(#clip8503)\" style=\"fill:#000000; stroke:none; fill-opacity:1\" cx=\"1367.98\" cy=\"394.625\" r=\"18\"/>\n",
       "<circle clip-path=\"url(#clip8503)\" style=\"fill:#009af9; stroke:none; fill-opacity:1\" cx=\"1367.98\" cy=\"394.625\" r=\"14\"/>\n",
       "<circle clip-path=\"url(#clip8503)\" style=\"fill:#000000; stroke:none; fill-opacity:1\" cx=\"933.488\" cy=\"778.814\" r=\"18\"/>\n",
       "<circle clip-path=\"url(#clip8503)\" style=\"fill:#009af9; stroke:none; fill-opacity:1\" cx=\"933.488\" cy=\"778.814\" r=\"14\"/>\n",
       "<circle clip-path=\"url(#clip8503)\" style=\"fill:#000000; stroke:none; fill-opacity:1\" cx=\"1503.06\" cy=\"986.95\" r=\"18\"/>\n",
       "<circle clip-path=\"url(#clip8503)\" style=\"fill:#009af9; stroke:none; fill-opacity:1\" cx=\"1503.06\" cy=\"986.95\" r=\"14\"/>\n",
       "<circle clip-path=\"url(#clip8503)\" style=\"fill:#000000; stroke:none; fill-opacity:1\" cx=\"1153.2\" cy=\"701.147\" r=\"18\"/>\n",
       "<circle clip-path=\"url(#clip8503)\" style=\"fill:#009af9; stroke:none; fill-opacity:1\" cx=\"1153.2\" cy=\"701.147\" r=\"14\"/>\n",
       "<circle clip-path=\"url(#clip8503)\" style=\"fill:#000000; stroke:none; fill-opacity:1\" cx=\"1313.04\" cy=\"559.372\" r=\"18\"/>\n",
       "<circle clip-path=\"url(#clip8503)\" style=\"fill:#009af9; stroke:none; fill-opacity:1\" cx=\"1313.04\" cy=\"559.372\" r=\"14\"/>\n",
       "<circle clip-path=\"url(#clip8503)\" style=\"fill:#000000; stroke:none; fill-opacity:1\" cx=\"848.071\" cy=\"1113.29\" r=\"18\"/>\n",
       "<circle clip-path=\"url(#clip8503)\" style=\"fill:#009af9; stroke:none; fill-opacity:1\" cx=\"848.071\" cy=\"1113.29\" r=\"14\"/>\n",
       "<circle clip-path=\"url(#clip8503)\" style=\"fill:#000000; stroke:none; fill-opacity:1\" cx=\"1271.35\" cy=\"458.296\" r=\"18\"/>\n",
       "<circle clip-path=\"url(#clip8503)\" style=\"fill:#009af9; stroke:none; fill-opacity:1\" cx=\"1271.35\" cy=\"458.296\" r=\"14\"/>\n",
       "<circle clip-path=\"url(#clip8503)\" style=\"fill:#000000; stroke:none; fill-opacity:1\" cx=\"909.286\" cy=\"810.745\" r=\"18\"/>\n",
       "<circle clip-path=\"url(#clip8503)\" style=\"fill:#009af9; stroke:none; fill-opacity:1\" cx=\"909.286\" cy=\"810.745\" r=\"14\"/>\n",
       "<circle clip-path=\"url(#clip8503)\" style=\"fill:#000000; stroke:none; fill-opacity:1\" cx=\"1346.47\" cy=\"996.332\" r=\"18\"/>\n",
       "<circle clip-path=\"url(#clip8503)\" style=\"fill:#009af9; stroke:none; fill-opacity:1\" cx=\"1346.47\" cy=\"996.332\" r=\"14\"/>\n",
       "<circle clip-path=\"url(#clip8503)\" style=\"fill:#000000; stroke:none; fill-opacity:1\" cx=\"1356.68\" cy=\"795.787\" r=\"18\"/>\n",
       "<circle clip-path=\"url(#clip8503)\" style=\"fill:#009af9; stroke:none; fill-opacity:1\" cx=\"1356.68\" cy=\"795.787\" r=\"14\"/>\n",
       "<circle clip-path=\"url(#clip8503)\" style=\"fill:#000000; stroke:none; fill-opacity:1\" cx=\"1360.19\" cy=\"888.88\" r=\"18\"/>\n",
       "<circle clip-path=\"url(#clip8503)\" style=\"fill:#009af9; stroke:none; fill-opacity:1\" cx=\"1360.19\" cy=\"888.88\" r=\"14\"/>\n",
       "<circle clip-path=\"url(#clip8503)\" style=\"fill:#000000; stroke:none; fill-opacity:1\" cx=\"1791.55\" cy=\"481.376\" r=\"18\"/>\n",
       "<circle clip-path=\"url(#clip8503)\" style=\"fill:#009af9; stroke:none; fill-opacity:1\" cx=\"1791.55\" cy=\"481.376\" r=\"14\"/>\n",
       "<circle clip-path=\"url(#clip8503)\" style=\"fill:#000000; stroke:none; fill-opacity:1\" cx=\"1314.48\" cy=\"979.656\" r=\"18\"/>\n",
       "<circle clip-path=\"url(#clip8503)\" style=\"fill:#009af9; stroke:none; fill-opacity:1\" cx=\"1314.48\" cy=\"979.656\" r=\"14\"/>\n",
       "<circle clip-path=\"url(#clip8503)\" style=\"fill:#000000; stroke:none; fill-opacity:1\" cx=\"1331.66\" cy=\"497.224\" r=\"18\"/>\n",
       "<circle clip-path=\"url(#clip8503)\" style=\"fill:#009af9; stroke:none; fill-opacity:1\" cx=\"1331.66\" cy=\"497.224\" r=\"14\"/>\n",
       "<circle clip-path=\"url(#clip8503)\" style=\"fill:#000000; stroke:none; fill-opacity:1\" cx=\"1176.93\" cy=\"829.907\" r=\"18\"/>\n",
       "<circle clip-path=\"url(#clip8503)\" style=\"fill:#009af9; stroke:none; fill-opacity:1\" cx=\"1176.93\" cy=\"829.907\" r=\"14\"/>\n",
       "<circle clip-path=\"url(#clip8503)\" style=\"fill:#000000; stroke:none; fill-opacity:1\" cx=\"1029.16\" cy=\"1095.08\" r=\"18\"/>\n",
       "<circle clip-path=\"url(#clip8503)\" style=\"fill:#009af9; stroke:none; fill-opacity:1\" cx=\"1029.16\" cy=\"1095.08\" r=\"14\"/>\n",
       "<circle clip-path=\"url(#clip8503)\" style=\"fill:#000000; stroke:none; fill-opacity:1\" cx=\"849.888\" cy=\"845.864\" r=\"18\"/>\n",
       "<circle clip-path=\"url(#clip8503)\" style=\"fill:#009af9; stroke:none; fill-opacity:1\" cx=\"849.888\" cy=\"845.864\" r=\"14\"/>\n",
       "<circle clip-path=\"url(#clip8503)\" style=\"fill:#000000; stroke:none; fill-opacity:1\" cx=\"891.622\" cy=\"1051.04\" r=\"18\"/>\n",
       "<circle clip-path=\"url(#clip8503)\" style=\"fill:#009af9; stroke:none; fill-opacity:1\" cx=\"891.622\" cy=\"1051.04\" r=\"14\"/>\n",
       "<circle clip-path=\"url(#clip8503)\" style=\"fill:#000000; stroke:none; fill-opacity:1\" cx=\"791.21\" cy=\"1111.88\" r=\"18\"/>\n",
       "<circle clip-path=\"url(#clip8503)\" style=\"fill:#009af9; stroke:none; fill-opacity:1\" cx=\"791.21\" cy=\"1111.88\" r=\"14\"/>\n",
       "<circle clip-path=\"url(#clip8503)\" style=\"fill:#000000; stroke:none; fill-opacity:1\" cx=\"1357\" cy=\"793.39\" r=\"18\"/>\n",
       "<circle clip-path=\"url(#clip8503)\" style=\"fill:#009af9; stroke:none; fill-opacity:1\" cx=\"1357\" cy=\"793.39\" r=\"14\"/>\n",
       "<circle clip-path=\"url(#clip8503)\" style=\"fill:#000000; stroke:none; fill-opacity:1\" cx=\"1566.53\" cy=\"667.44\" r=\"18\"/>\n",
       "<circle clip-path=\"url(#clip8503)\" style=\"fill:#009af9; stroke:none; fill-opacity:1\" cx=\"1566.53\" cy=\"667.44\" r=\"14\"/>\n",
       "<circle clip-path=\"url(#clip8503)\" style=\"fill:#000000; stroke:none; fill-opacity:1\" cx=\"1512.59\" cy=\"796.427\" r=\"18\"/>\n",
       "<circle clip-path=\"url(#clip8503)\" style=\"fill:#009af9; stroke:none; fill-opacity:1\" cx=\"1512.59\" cy=\"796.427\" r=\"14\"/>\n",
       "<circle clip-path=\"url(#clip8503)\" style=\"fill:#000000; stroke:none; fill-opacity:1\" cx=\"1222.96\" cy=\"469.684\" r=\"18\"/>\n",
       "<circle clip-path=\"url(#clip8503)\" style=\"fill:#009af9; stroke:none; fill-opacity:1\" cx=\"1222.96\" cy=\"469.684\" r=\"14\"/>\n",
       "<circle clip-path=\"url(#clip8503)\" style=\"fill:#000000; stroke:none; fill-opacity:1\" cx=\"1433.51\" cy=\"1043.85\" r=\"18\"/>\n",
       "<circle clip-path=\"url(#clip8503)\" style=\"fill:#009af9; stroke:none; fill-opacity:1\" cx=\"1433.51\" cy=\"1043.85\" r=\"14\"/>\n",
       "<circle clip-path=\"url(#clip8503)\" style=\"fill:#000000; stroke:none; fill-opacity:1\" cx=\"1299.67\" cy=\"451.431\" r=\"18\"/>\n",
       "<circle clip-path=\"url(#clip8503)\" style=\"fill:#009af9; stroke:none; fill-opacity:1\" cx=\"1299.67\" cy=\"451.431\" r=\"14\"/>\n",
       "<circle clip-path=\"url(#clip8503)\" style=\"fill:#000000; stroke:none; fill-opacity:1\" cx=\"1271.95\" cy=\"568.361\" r=\"18\"/>\n",
       "<circle clip-path=\"url(#clip8503)\" style=\"fill:#009af9; stroke:none; fill-opacity:1\" cx=\"1271.95\" cy=\"568.361\" r=\"14\"/>\n",
       "<circle clip-path=\"url(#clip8503)\" style=\"fill:#000000; stroke:none; fill-opacity:1\" cx=\"1027.52\" cy=\"965.476\" r=\"18\"/>\n",
       "<circle clip-path=\"url(#clip8503)\" style=\"fill:#009af9; stroke:none; fill-opacity:1\" cx=\"1027.52\" cy=\"965.476\" r=\"14\"/>\n",
       "<circle clip-path=\"url(#clip8503)\" style=\"fill:#000000; stroke:none; fill-opacity:1\" cx=\"1415.24\" cy=\"845.188\" r=\"18\"/>\n",
       "<circle clip-path=\"url(#clip8503)\" style=\"fill:#009af9; stroke:none; fill-opacity:1\" cx=\"1415.24\" cy=\"845.188\" r=\"14\"/>\n",
       "<circle clip-path=\"url(#clip8503)\" style=\"fill:#000000; stroke:none; fill-opacity:1\" cx=\"1234.2\" cy=\"976.623\" r=\"18\"/>\n",
       "<circle clip-path=\"url(#clip8503)\" style=\"fill:#009af9; stroke:none; fill-opacity:1\" cx=\"1234.2\" cy=\"976.623\" r=\"14\"/>\n",
       "<circle clip-path=\"url(#clip8503)\" style=\"fill:#000000; stroke:none; fill-opacity:1\" cx=\"1207.39\" cy=\"665.591\" r=\"18\"/>\n",
       "<circle clip-path=\"url(#clip8503)\" style=\"fill:#009af9; stroke:none; fill-opacity:1\" cx=\"1207.39\" cy=\"665.591\" r=\"14\"/>\n",
       "<circle clip-path=\"url(#clip8503)\" style=\"fill:#000000; stroke:none; fill-opacity:1\" cx=\"1340.31\" cy=\"767.412\" r=\"18\"/>\n",
       "<circle clip-path=\"url(#clip8503)\" style=\"fill:#009af9; stroke:none; fill-opacity:1\" cx=\"1340.31\" cy=\"767.412\" r=\"14\"/>\n",
       "<circle clip-path=\"url(#clip8503)\" style=\"fill:#000000; stroke:none; fill-opacity:1\" cx=\"1228.17\" cy=\"927.99\" r=\"18\"/>\n",
       "<circle clip-path=\"url(#clip8503)\" style=\"fill:#009af9; stroke:none; fill-opacity:1\" cx=\"1228.17\" cy=\"927.99\" r=\"14\"/>\n",
       "<circle clip-path=\"url(#clip8503)\" style=\"fill:#000000; stroke:none; fill-opacity:1\" cx=\"1513.72\" cy=\"635.162\" r=\"18\"/>\n",
       "<circle clip-path=\"url(#clip8503)\" style=\"fill:#009af9; stroke:none; fill-opacity:1\" cx=\"1513.72\" cy=\"635.162\" r=\"14\"/>\n",
       "<circle clip-path=\"url(#clip8503)\" style=\"fill:#000000; stroke:none; fill-opacity:1\" cx=\"1703.21\" cy=\"468.7\" r=\"18\"/>\n",
       "<circle clip-path=\"url(#clip8503)\" style=\"fill:#009af9; stroke:none; fill-opacity:1\" cx=\"1703.21\" cy=\"468.7\" r=\"14\"/>\n",
       "<circle clip-path=\"url(#clip8503)\" style=\"fill:#000000; stroke:none; fill-opacity:1\" cx=\"997.705\" cy=\"1204.57\" r=\"18\"/>\n",
       "<circle clip-path=\"url(#clip8503)\" style=\"fill:#009af9; stroke:none; fill-opacity:1\" cx=\"997.705\" cy=\"1204.57\" r=\"14\"/>\n",
       "<circle clip-path=\"url(#clip8503)\" style=\"fill:#000000; stroke:none; fill-opacity:1\" cx=\"1700.06\" cy=\"560.975\" r=\"18\"/>\n",
       "<circle clip-path=\"url(#clip8503)\" style=\"fill:#009af9; stroke:none; fill-opacity:1\" cx=\"1700.06\" cy=\"560.975\" r=\"14\"/>\n",
       "<circle clip-path=\"url(#clip8503)\" style=\"fill:#000000; stroke:none; fill-opacity:1\" cx=\"1181.08\" cy=\"819.342\" r=\"18\"/>\n",
       "<circle clip-path=\"url(#clip8503)\" style=\"fill:#009af9; stroke:none; fill-opacity:1\" cx=\"1181.08\" cy=\"819.342\" r=\"14\"/>\n",
       "<circle clip-path=\"url(#clip8503)\" style=\"fill:#000000; stroke:none; fill-opacity:1\" cx=\"1073.66\" cy=\"778.525\" r=\"18\"/>\n",
       "<circle clip-path=\"url(#clip8503)\" style=\"fill:#009af9; stroke:none; fill-opacity:1\" cx=\"1073.66\" cy=\"778.525\" r=\"14\"/>\n",
       "<circle clip-path=\"url(#clip8503)\" style=\"fill:#000000; stroke:none; fill-opacity:1\" cx=\"1710.11\" cy=\"417.414\" r=\"18\"/>\n",
       "<circle clip-path=\"url(#clip8503)\" style=\"fill:#009af9; stroke:none; fill-opacity:1\" cx=\"1710.11\" cy=\"417.414\" r=\"14\"/>\n",
       "<circle clip-path=\"url(#clip8503)\" style=\"fill:#000000; stroke:none; fill-opacity:1\" cx=\"882.713\" cy=\"1096.83\" r=\"18\"/>\n",
       "<circle clip-path=\"url(#clip8503)\" style=\"fill:#009af9; stroke:none; fill-opacity:1\" cx=\"882.713\" cy=\"1096.83\" r=\"14\"/>\n",
       "<circle clip-path=\"url(#clip8503)\" style=\"fill:#000000; stroke:none; fill-opacity:1\" cx=\"1222.14\" cy=\"965.537\" r=\"18\"/>\n",
       "<circle clip-path=\"url(#clip8503)\" style=\"fill:#009af9; stroke:none; fill-opacity:1\" cx=\"1222.14\" cy=\"965.537\" r=\"14\"/>\n",
       "<circle clip-path=\"url(#clip8503)\" style=\"fill:#000000; stroke:none; fill-opacity:1\" cx=\"1057.72\" cy=\"745.803\" r=\"18\"/>\n",
       "<circle clip-path=\"url(#clip8503)\" style=\"fill:#009af9; stroke:none; fill-opacity:1\" cx=\"1057.72\" cy=\"745.803\" r=\"14\"/>\n",
       "<circle clip-path=\"url(#clip8503)\" style=\"fill:#000000; stroke:none; fill-opacity:1\" cx=\"1334.32\" cy=\"940.569\" r=\"18\"/>\n",
       "<circle clip-path=\"url(#clip8503)\" style=\"fill:#009af9; stroke:none; fill-opacity:1\" cx=\"1334.32\" cy=\"940.569\" r=\"14\"/>\n",
       "<circle clip-path=\"url(#clip8503)\" style=\"fill:#000000; stroke:none; fill-opacity:1\" cx=\"1689.75\" cy=\"463.402\" r=\"18\"/>\n",
       "<circle clip-path=\"url(#clip8503)\" style=\"fill:#009af9; stroke:none; fill-opacity:1\" cx=\"1689.75\" cy=\"463.402\" r=\"14\"/>\n",
       "<circle clip-path=\"url(#clip8503)\" style=\"fill:#000000; stroke:none; fill-opacity:1\" cx=\"1704.68\" cy=\"458.228\" r=\"18\"/>\n",
       "<circle clip-path=\"url(#clip8503)\" style=\"fill:#009af9; stroke:none; fill-opacity:1\" cx=\"1704.68\" cy=\"458.228\" r=\"14\"/>\n",
       "<circle clip-path=\"url(#clip8503)\" style=\"fill:#000000; stroke:none; fill-opacity:1\" cx=\"1776.51\" cy=\"392.851\" r=\"18\"/>\n",
       "<circle clip-path=\"url(#clip8503)\" style=\"fill:#009af9; stroke:none; fill-opacity:1\" cx=\"1776.51\" cy=\"392.851\" r=\"14\"/>\n",
       "<circle clip-path=\"url(#clip8503)\" style=\"fill:#000000; stroke:none; fill-opacity:1\" cx=\"1368.16\" cy=\"526.031\" r=\"18\"/>\n",
       "<circle clip-path=\"url(#clip8503)\" style=\"fill:#009af9; stroke:none; fill-opacity:1\" cx=\"1368.16\" cy=\"526.031\" r=\"14\"/>\n",
       "<circle clip-path=\"url(#clip8503)\" style=\"fill:#000000; stroke:none; fill-opacity:1\" cx=\"1019.3\" cy=\"1137.58\" r=\"18\"/>\n",
       "<circle clip-path=\"url(#clip8503)\" style=\"fill:#009af9; stroke:none; fill-opacity:1\" cx=\"1019.3\" cy=\"1137.58\" r=\"14\"/>\n",
       "<circle clip-path=\"url(#clip8503)\" style=\"fill:#000000; stroke:none; fill-opacity:1\" cx=\"1826.02\" cy=\"418.677\" r=\"18\"/>\n",
       "<circle clip-path=\"url(#clip8503)\" style=\"fill:#009af9; stroke:none; fill-opacity:1\" cx=\"1826.02\" cy=\"418.677\" r=\"14\"/>\n",
       "<circle clip-path=\"url(#clip8503)\" style=\"fill:#000000; stroke:none; fill-opacity:1\" cx=\"1295.02\" cy=\"874.299\" r=\"18\"/>\n",
       "<circle clip-path=\"url(#clip8503)\" style=\"fill:#009af9; stroke:none; fill-opacity:1\" cx=\"1295.02\" cy=\"874.299\" r=\"14\"/>\n",
       "<circle clip-path=\"url(#clip8503)\" style=\"fill:#000000; stroke:none; fill-opacity:1\" cx=\"1074.06\" cy=\"965.618\" r=\"18\"/>\n",
       "<circle clip-path=\"url(#clip8503)\" style=\"fill:#009af9; stroke:none; fill-opacity:1\" cx=\"1074.06\" cy=\"965.618\" r=\"14\"/>\n",
       "<circle clip-path=\"url(#clip8503)\" style=\"fill:#000000; stroke:none; fill-opacity:1\" cx=\"1584.21\" cy=\"691.153\" r=\"18\"/>\n",
       "<circle clip-path=\"url(#clip8503)\" style=\"fill:#009af9; stroke:none; fill-opacity:1\" cx=\"1584.21\" cy=\"691.153\" r=\"14\"/>\n",
       "<circle clip-path=\"url(#clip8503)\" style=\"fill:#000000; stroke:none; fill-opacity:1\" cx=\"767.505\" cy=\"981.29\" r=\"18\"/>\n",
       "<circle clip-path=\"url(#clip8503)\" style=\"fill:#009af9; stroke:none; fill-opacity:1\" cx=\"767.505\" cy=\"981.29\" r=\"14\"/>\n",
       "<circle clip-path=\"url(#clip8503)\" style=\"fill:#000000; stroke:none; fill-opacity:1\" cx=\"1290.25\" cy=\"960.533\" r=\"18\"/>\n",
       "<circle clip-path=\"url(#clip8503)\" style=\"fill:#009af9; stroke:none; fill-opacity:1\" cx=\"1290.25\" cy=\"960.533\" r=\"14\"/>\n",
       "<circle clip-path=\"url(#clip8503)\" style=\"fill:#000000; stroke:none; fill-opacity:1\" cx=\"909.651\" cy=\"877.818\" r=\"18\"/>\n",
       "<circle clip-path=\"url(#clip8503)\" style=\"fill:#009af9; stroke:none; fill-opacity:1\" cx=\"909.651\" cy=\"877.818\" r=\"14\"/>\n",
       "<circle clip-path=\"url(#clip8503)\" style=\"fill:#000000; stroke:none; fill-opacity:1\" cx=\"1313.3\" cy=\"447.643\" r=\"18\"/>\n",
       "<circle clip-path=\"url(#clip8503)\" style=\"fill:#009af9; stroke:none; fill-opacity:1\" cx=\"1313.3\" cy=\"447.643\" r=\"14\"/>\n",
       "<circle clip-path=\"url(#clip8503)\" style=\"fill:#000000; stroke:none; fill-opacity:1\" cx=\"1234.32\" cy=\"459.116\" r=\"18\"/>\n",
       "<circle clip-path=\"url(#clip8503)\" style=\"fill:#009af9; stroke:none; fill-opacity:1\" cx=\"1234.32\" cy=\"459.116\" r=\"14\"/>\n",
       "<circle clip-path=\"url(#clip8503)\" style=\"fill:#000000; stroke:none; fill-opacity:1\" cx=\"1416.66\" cy=\"874.389\" r=\"18\"/>\n",
       "<circle clip-path=\"url(#clip8503)\" style=\"fill:#009af9; stroke:none; fill-opacity:1\" cx=\"1416.66\" cy=\"874.389\" r=\"14\"/>\n",
       "<circle clip-path=\"url(#clip8503)\" style=\"fill:#000000; stroke:none; fill-opacity:1\" cx=\"1032.4\" cy=\"958.997\" r=\"18\"/>\n",
       "<circle clip-path=\"url(#clip8503)\" style=\"fill:#009af9; stroke:none; fill-opacity:1\" cx=\"1032.4\" cy=\"958.997\" r=\"14\"/>\n",
       "<circle clip-path=\"url(#clip8503)\" style=\"fill:#000000; stroke:none; fill-opacity:1\" cx=\"1295.09\" cy=\"982.904\" r=\"18\"/>\n",
       "<circle clip-path=\"url(#clip8503)\" style=\"fill:#009af9; stroke:none; fill-opacity:1\" cx=\"1295.09\" cy=\"982.904\" r=\"14\"/>\n",
       "<circle clip-path=\"url(#clip8503)\" style=\"fill:#000000; stroke:none; fill-opacity:1\" cx=\"1045.51\" cy=\"661.943\" r=\"18\"/>\n",
       "<circle clip-path=\"url(#clip8503)\" style=\"fill:#009af9; stroke:none; fill-opacity:1\" cx=\"1045.51\" cy=\"661.943\" r=\"14\"/>\n",
       "<circle clip-path=\"url(#clip8503)\" style=\"fill:#000000; stroke:none; fill-opacity:1\" cx=\"1757.23\" cy=\"447.196\" r=\"18\"/>\n",
       "<circle clip-path=\"url(#clip8503)\" style=\"fill:#009af9; stroke:none; fill-opacity:1\" cx=\"1757.23\" cy=\"447.196\" r=\"14\"/>\n",
       "<circle clip-path=\"url(#clip8503)\" style=\"fill:#000000; stroke:none; fill-opacity:1\" cx=\"1174.28\" cy=\"689.931\" r=\"18\"/>\n",
       "<circle clip-path=\"url(#clip8503)\" style=\"fill:#009af9; stroke:none; fill-opacity:1\" cx=\"1174.28\" cy=\"689.931\" r=\"14\"/>\n",
       "<circle clip-path=\"url(#clip8503)\" style=\"fill:#000000; stroke:none; fill-opacity:1\" cx=\"1151.08\" cy=\"698.042\" r=\"18\"/>\n",
       "<circle clip-path=\"url(#clip8503)\" style=\"fill:#009af9; stroke:none; fill-opacity:1\" cx=\"1151.08\" cy=\"698.042\" r=\"14\"/>\n",
       "<circle clip-path=\"url(#clip8503)\" style=\"fill:#000000; stroke:none; fill-opacity:1\" cx=\"1489.77\" cy=\"855.69\" r=\"18\"/>\n",
       "<circle clip-path=\"url(#clip8503)\" style=\"fill:#009af9; stroke:none; fill-opacity:1\" cx=\"1489.77\" cy=\"855.69\" r=\"14\"/>\n",
       "<circle clip-path=\"url(#clip8503)\" style=\"fill:#000000; stroke:none; fill-opacity:1\" cx=\"1472.89\" cy=\"617.374\" r=\"18\"/>\n",
       "<circle clip-path=\"url(#clip8503)\" style=\"fill:#009af9; stroke:none; fill-opacity:1\" cx=\"1472.89\" cy=\"617.374\" r=\"14\"/>\n",
       "<circle clip-path=\"url(#clip8503)\" style=\"fill:#000000; stroke:none; fill-opacity:1\" cx=\"1598.24\" cy=\"771.886\" r=\"18\"/>\n",
       "<circle clip-path=\"url(#clip8503)\" style=\"fill:#009af9; stroke:none; fill-opacity:1\" cx=\"1598.24\" cy=\"771.886\" r=\"14\"/>\n",
       "<circle clip-path=\"url(#clip8503)\" style=\"fill:#000000; stroke:none; fill-opacity:1\" cx=\"1606.24\" cy=\"656.161\" r=\"18\"/>\n",
       "<circle clip-path=\"url(#clip8503)\" style=\"fill:#009af9; stroke:none; fill-opacity:1\" cx=\"1606.24\" cy=\"656.161\" r=\"14\"/>\n",
       "<circle clip-path=\"url(#clip8503)\" style=\"fill:#000000; stroke:none; fill-opacity:1\" cx=\"1491.61\" cy=\"988.239\" r=\"18\"/>\n",
       "<circle clip-path=\"url(#clip8503)\" style=\"fill:#009af9; stroke:none; fill-opacity:1\" cx=\"1491.61\" cy=\"988.239\" r=\"14\"/>\n",
       "<circle clip-path=\"url(#clip8503)\" style=\"fill:#000000; stroke:none; fill-opacity:1\" cx=\"999.317\" cy=\"830.928\" r=\"18\"/>\n",
       "<circle clip-path=\"url(#clip8503)\" style=\"fill:#009af9; stroke:none; fill-opacity:1\" cx=\"999.317\" cy=\"830.928\" r=\"14\"/>\n",
       "<circle clip-path=\"url(#clip8503)\" style=\"fill:#000000; stroke:none; fill-opacity:1\" cx=\"960.662\" cy=\"983.806\" r=\"18\"/>\n",
       "<circle clip-path=\"url(#clip8503)\" style=\"fill:#009af9; stroke:none; fill-opacity:1\" cx=\"960.662\" cy=\"983.806\" r=\"14\"/>\n",
       "<circle clip-path=\"url(#clip8503)\" style=\"fill:#000000; stroke:none; fill-opacity:1\" cx=\"1084.81\" cy=\"454.948\" r=\"18\"/>\n",
       "<circle clip-path=\"url(#clip8503)\" style=\"fill:#009af9; stroke:none; fill-opacity:1\" cx=\"1084.81\" cy=\"454.948\" r=\"14\"/>\n",
       "<circle clip-path=\"url(#clip8503)\" style=\"fill:#000000; stroke:none; fill-opacity:1\" cx=\"1065.32\" cy=\"1006.74\" r=\"18\"/>\n",
       "<circle clip-path=\"url(#clip8503)\" style=\"fill:#009af9; stroke:none; fill-opacity:1\" cx=\"1065.32\" cy=\"1006.74\" r=\"14\"/>\n",
       "<circle clip-path=\"url(#clip8503)\" style=\"fill:#000000; stroke:none; fill-opacity:1\" cx=\"1056.63\" cy=\"824.828\" r=\"18\"/>\n",
       "<circle clip-path=\"url(#clip8503)\" style=\"fill:#009af9; stroke:none; fill-opacity:1\" cx=\"1056.63\" cy=\"824.828\" r=\"14\"/>\n",
       "<circle clip-path=\"url(#clip8503)\" style=\"fill:#000000; stroke:none; fill-opacity:1\" cx=\"1356.41\" cy=\"488.717\" r=\"18\"/>\n",
       "<circle clip-path=\"url(#clip8503)\" style=\"fill:#009af9; stroke:none; fill-opacity:1\" cx=\"1356.41\" cy=\"488.717\" r=\"14\"/>\n",
       "<circle clip-path=\"url(#clip8503)\" style=\"fill:#000000; stroke:none; fill-opacity:1\" cx=\"1186.11\" cy=\"570.574\" r=\"18\"/>\n",
       "<circle clip-path=\"url(#clip8503)\" style=\"fill:#009af9; stroke:none; fill-opacity:1\" cx=\"1186.11\" cy=\"570.574\" r=\"14\"/>\n",
       "<circle clip-path=\"url(#clip8503)\" style=\"fill:#000000; stroke:none; fill-opacity:1\" cx=\"804.808\" cy=\"1232.28\" r=\"18\"/>\n",
       "<circle clip-path=\"url(#clip8503)\" style=\"fill:#009af9; stroke:none; fill-opacity:1\" cx=\"804.808\" cy=\"1232.28\" r=\"14\"/>\n",
       "<circle clip-path=\"url(#clip8503)\" style=\"fill:#000000; stroke:none; fill-opacity:1\" cx=\"1474.1\" cy=\"566.901\" r=\"18\"/>\n",
       "<circle clip-path=\"url(#clip8503)\" style=\"fill:#009af9; stroke:none; fill-opacity:1\" cx=\"1474.1\" cy=\"566.901\" r=\"14\"/>\n",
       "<circle clip-path=\"url(#clip8503)\" style=\"fill:#000000; stroke:none; fill-opacity:1\" cx=\"1092.46\" cy=\"1015.58\" r=\"18\"/>\n",
       "<circle clip-path=\"url(#clip8503)\" style=\"fill:#009af9; stroke:none; fill-opacity:1\" cx=\"1092.46\" cy=\"1015.58\" r=\"14\"/>\n",
       "<circle clip-path=\"url(#clip8503)\" style=\"fill:#000000; stroke:none; fill-opacity:1\" cx=\"1348.95\" cy=\"615.386\" r=\"18\"/>\n",
       "<circle clip-path=\"url(#clip8503)\" style=\"fill:#009af9; stroke:none; fill-opacity:1\" cx=\"1348.95\" cy=\"615.386\" r=\"14\"/>\n",
       "<circle clip-path=\"url(#clip8503)\" style=\"fill:#000000; stroke:none; fill-opacity:1\" cx=\"884.224\" cy=\"828.523\" r=\"18\"/>\n",
       "<circle clip-path=\"url(#clip8503)\" style=\"fill:#009af9; stroke:none; fill-opacity:1\" cx=\"884.224\" cy=\"828.523\" r=\"14\"/>\n",
       "<circle clip-path=\"url(#clip8503)\" style=\"fill:#000000; stroke:none; fill-opacity:1\" cx=\"1147.86\" cy=\"1201.36\" r=\"18\"/>\n",
       "<circle clip-path=\"url(#clip8503)\" style=\"fill:#009af9; stroke:none; fill-opacity:1\" cx=\"1147.86\" cy=\"1201.36\" r=\"14\"/>\n",
       "<circle clip-path=\"url(#clip8503)\" style=\"fill:#000000; stroke:none; fill-opacity:1\" cx=\"1442.69\" cy=\"877.638\" r=\"18\"/>\n",
       "<circle clip-path=\"url(#clip8503)\" style=\"fill:#009af9; stroke:none; fill-opacity:1\" cx=\"1442.69\" cy=\"877.638\" r=\"14\"/>\n",
       "<circle clip-path=\"url(#clip8503)\" style=\"fill:#000000; stroke:none; fill-opacity:1\" cx=\"1804.16\" cy=\"404.857\" r=\"18\"/>\n",
       "<circle clip-path=\"url(#clip8503)\" style=\"fill:#009af9; stroke:none; fill-opacity:1\" cx=\"1804.16\" cy=\"404.857\" r=\"14\"/>\n",
       "<circle clip-path=\"url(#clip8503)\" style=\"fill:#000000; stroke:none; fill-opacity:1\" cx=\"1246.14\" cy=\"1032.82\" r=\"18\"/>\n",
       "<circle clip-path=\"url(#clip8503)\" style=\"fill:#009af9; stroke:none; fill-opacity:1\" cx=\"1246.14\" cy=\"1032.82\" r=\"14\"/>\n",
       "<circle clip-path=\"url(#clip8503)\" style=\"fill:#000000; stroke:none; fill-opacity:1\" cx=\"1265.63\" cy=\"971.691\" r=\"18\"/>\n",
       "<circle clip-path=\"url(#clip8503)\" style=\"fill:#009af9; stroke:none; fill-opacity:1\" cx=\"1265.63\" cy=\"971.691\" r=\"14\"/>\n",
       "<circle clip-path=\"url(#clip8503)\" style=\"fill:#000000; stroke:none; fill-opacity:1\" cx=\"1145.43\" cy=\"730.456\" r=\"18\"/>\n",
       "<circle clip-path=\"url(#clip8503)\" style=\"fill:#009af9; stroke:none; fill-opacity:1\" cx=\"1145.43\" cy=\"730.456\" r=\"14\"/>\n",
       "<circle clip-path=\"url(#clip8503)\" style=\"fill:#000000; stroke:none; fill-opacity:1\" cx=\"1549.51\" cy=\"894.211\" r=\"18\"/>\n",
       "<circle clip-path=\"url(#clip8503)\" style=\"fill:#009af9; stroke:none; fill-opacity:1\" cx=\"1549.51\" cy=\"894.211\" r=\"14\"/>\n",
       "<circle clip-path=\"url(#clip8503)\" style=\"fill:#000000; stroke:none; fill-opacity:1\" cx=\"1412.72\" cy=\"656.082\" r=\"18\"/>\n",
       "<circle clip-path=\"url(#clip8503)\" style=\"fill:#009af9; stroke:none; fill-opacity:1\" cx=\"1412.72\" cy=\"656.082\" r=\"14\"/>\n",
       "<circle clip-path=\"url(#clip8503)\" style=\"fill:#000000; stroke:none; fill-opacity:1\" cx=\"801.42\" cy=\"1244.16\" r=\"18\"/>\n",
       "<circle clip-path=\"url(#clip8503)\" style=\"fill:#009af9; stroke:none; fill-opacity:1\" cx=\"801.42\" cy=\"1244.16\" r=\"14\"/>\n",
       "<circle clip-path=\"url(#clip8503)\" style=\"fill:#000000; stroke:none; fill-opacity:1\" cx=\"1422.41\" cy=\"797.644\" r=\"18\"/>\n",
       "<circle clip-path=\"url(#clip8503)\" style=\"fill:#009af9; stroke:none; fill-opacity:1\" cx=\"1422.41\" cy=\"797.644\" r=\"14\"/>\n",
       "<circle clip-path=\"url(#clip8503)\" style=\"fill:#000000; stroke:none; fill-opacity:1\" cx=\"1350.68\" cy=\"784.163\" r=\"18\"/>\n",
       "<circle clip-path=\"url(#clip8503)\" style=\"fill:#009af9; stroke:none; fill-opacity:1\" cx=\"1350.68\" cy=\"784.163\" r=\"14\"/>\n",
       "<circle clip-path=\"url(#clip8503)\" style=\"fill:#000000; stroke:none; fill-opacity:1\" cx=\"1382.66\" cy=\"397.412\" r=\"18\"/>\n",
       "<circle clip-path=\"url(#clip8503)\" style=\"fill:#009af9; stroke:none; fill-opacity:1\" cx=\"1382.66\" cy=\"397.412\" r=\"14\"/>\n",
       "<circle clip-path=\"url(#clip8503)\" style=\"fill:#000000; stroke:none; fill-opacity:1\" cx=\"1017.76\" cy=\"679.8\" r=\"18\"/>\n",
       "<circle clip-path=\"url(#clip8503)\" style=\"fill:#009af9; stroke:none; fill-opacity:1\" cx=\"1017.76\" cy=\"679.8\" r=\"14\"/>\n",
       "<circle clip-path=\"url(#clip8503)\" style=\"fill:#000000; stroke:none; fill-opacity:1\" cx=\"1156.95\" cy=\"1091.88\" r=\"18\"/>\n",
       "<circle clip-path=\"url(#clip8503)\" style=\"fill:#009af9; stroke:none; fill-opacity:1\" cx=\"1156.95\" cy=\"1091.88\" r=\"14\"/>\n",
       "<circle clip-path=\"url(#clip8503)\" style=\"fill:#000000; stroke:none; fill-opacity:1\" cx=\"1216.37\" cy=\"716.036\" r=\"18\"/>\n",
       "<circle clip-path=\"url(#clip8503)\" style=\"fill:#009af9; stroke:none; fill-opacity:1\" cx=\"1216.37\" cy=\"716.036\" r=\"14\"/>\n",
       "<circle clip-path=\"url(#clip8503)\" style=\"fill:#000000; stroke:none; fill-opacity:1\" cx=\"1208.44\" cy=\"627.271\" r=\"18\"/>\n",
       "<circle clip-path=\"url(#clip8503)\" style=\"fill:#009af9; stroke:none; fill-opacity:1\" cx=\"1208.44\" cy=\"627.271\" r=\"14\"/>\n",
       "<circle clip-path=\"url(#clip8503)\" style=\"fill:#000000; stroke:none; fill-opacity:1\" cx=\"1333.44\" cy=\"742.253\" r=\"18\"/>\n",
       "<circle clip-path=\"url(#clip8503)\" style=\"fill:#009af9; stroke:none; fill-opacity:1\" cx=\"1333.44\" cy=\"742.253\" r=\"14\"/>\n",
       "<circle clip-path=\"url(#clip8503)\" style=\"fill:#000000; stroke:none; fill-opacity:1\" cx=\"1617.13\" cy=\"749.389\" r=\"18\"/>\n",
       "<circle clip-path=\"url(#clip8503)\" style=\"fill:#009af9; stroke:none; fill-opacity:1\" cx=\"1617.13\" cy=\"749.389\" r=\"14\"/>\n",
       "<circle clip-path=\"url(#clip8503)\" style=\"fill:#000000; stroke:none; fill-opacity:1\" cx=\"1415.79\" cy=\"498.855\" r=\"18\"/>\n",
       "<circle clip-path=\"url(#clip8503)\" style=\"fill:#009af9; stroke:none; fill-opacity:1\" cx=\"1415.79\" cy=\"498.855\" r=\"14\"/>\n",
       "<circle clip-path=\"url(#clip8503)\" style=\"fill:#000000; stroke:none; fill-opacity:1\" cx=\"1299.91\" cy=\"903.715\" r=\"18\"/>\n",
       "<circle clip-path=\"url(#clip8503)\" style=\"fill:#009af9; stroke:none; fill-opacity:1\" cx=\"1299.91\" cy=\"903.715\" r=\"14\"/>\n",
       "<circle clip-path=\"url(#clip8503)\" style=\"fill:#000000; stroke:none; fill-opacity:1\" cx=\"1409.03\" cy=\"812.541\" r=\"18\"/>\n",
       "<circle clip-path=\"url(#clip8503)\" style=\"fill:#009af9; stroke:none; fill-opacity:1\" cx=\"1409.03\" cy=\"812.541\" r=\"14\"/>\n",
       "<circle clip-path=\"url(#clip8503)\" style=\"fill:#000000; stroke:none; fill-opacity:1\" cx=\"1022.33\" cy=\"525.026\" r=\"18\"/>\n",
       "<circle clip-path=\"url(#clip8503)\" style=\"fill:#009af9; stroke:none; fill-opacity:1\" cx=\"1022.33\" cy=\"525.026\" r=\"14\"/>\n",
       "<circle clip-path=\"url(#clip8503)\" style=\"fill:#000000; stroke:none; fill-opacity:1\" cx=\"973.727\" cy=\"658.472\" r=\"18\"/>\n",
       "<circle clip-path=\"url(#clip8503)\" style=\"fill:#009af9; stroke:none; fill-opacity:1\" cx=\"973.727\" cy=\"658.472\" r=\"14\"/>\n",
       "<circle clip-path=\"url(#clip8503)\" style=\"fill:#000000; stroke:none; fill-opacity:1\" cx=\"1298.51\" cy=\"1104.84\" r=\"18\"/>\n",
       "<circle clip-path=\"url(#clip8503)\" style=\"fill:#009af9; stroke:none; fill-opacity:1\" cx=\"1298.51\" cy=\"1104.84\" r=\"14\"/>\n",
       "<circle clip-path=\"url(#clip8503)\" style=\"fill:#000000; stroke:none; fill-opacity:1\" cx=\"1113.59\" cy=\"643.42\" r=\"18\"/>\n",
       "<circle clip-path=\"url(#clip8503)\" style=\"fill:#009af9; stroke:none; fill-opacity:1\" cx=\"1113.59\" cy=\"643.42\" r=\"14\"/>\n",
       "<circle clip-path=\"url(#clip8503)\" style=\"fill:#000000; stroke:none; fill-opacity:1\" cx=\"1570.09\" cy=\"482.507\" r=\"18\"/>\n",
       "<circle clip-path=\"url(#clip8503)\" style=\"fill:#009af9; stroke:none; fill-opacity:1\" cx=\"1570.09\" cy=\"482.507\" r=\"14\"/>\n",
       "<circle clip-path=\"url(#clip8503)\" style=\"fill:#000000; stroke:none; fill-opacity:1\" cx=\"1352.79\" cy=\"1077.53\" r=\"18\"/>\n",
       "<circle clip-path=\"url(#clip8503)\" style=\"fill:#009af9; stroke:none; fill-opacity:1\" cx=\"1352.79\" cy=\"1077.53\" r=\"14\"/>\n",
       "<circle clip-path=\"url(#clip8503)\" style=\"fill:#000000; stroke:none; fill-opacity:1\" cx=\"1107.53\" cy=\"1181.15\" r=\"18\"/>\n",
       "<circle clip-path=\"url(#clip8503)\" style=\"fill:#009af9; stroke:none; fill-opacity:1\" cx=\"1107.53\" cy=\"1181.15\" r=\"14\"/>\n",
       "<circle clip-path=\"url(#clip8503)\" style=\"fill:#000000; stroke:none; fill-opacity:1\" cx=\"1507.37\" cy=\"862.469\" r=\"18\"/>\n",
       "<circle clip-path=\"url(#clip8503)\" style=\"fill:#009af9; stroke:none; fill-opacity:1\" cx=\"1507.37\" cy=\"862.469\" r=\"14\"/>\n",
       "<circle clip-path=\"url(#clip8503)\" style=\"fill:#000000; stroke:none; fill-opacity:1\" cx=\"1451.23\" cy=\"570.775\" r=\"18\"/>\n",
       "<circle clip-path=\"url(#clip8503)\" style=\"fill:#009af9; stroke:none; fill-opacity:1\" cx=\"1451.23\" cy=\"570.775\" r=\"14\"/>\n",
       "<circle clip-path=\"url(#clip8503)\" style=\"fill:#000000; stroke:none; fill-opacity:1\" cx=\"975.316\" cy=\"1027.85\" r=\"18\"/>\n",
       "<circle clip-path=\"url(#clip8503)\" style=\"fill:#009af9; stroke:none; fill-opacity:1\" cx=\"975.316\" cy=\"1027.85\" r=\"14\"/>\n",
       "<circle clip-path=\"url(#clip8503)\" style=\"fill:#000000; stroke:none; fill-opacity:1\" cx=\"1409.12\" cy=\"1002.08\" r=\"18\"/>\n",
       "<circle clip-path=\"url(#clip8503)\" style=\"fill:#009af9; stroke:none; fill-opacity:1\" cx=\"1409.12\" cy=\"1002.08\" r=\"14\"/>\n",
       "<circle clip-path=\"url(#clip8503)\" style=\"fill:#000000; stroke:none; fill-opacity:1\" cx=\"1324.96\" cy=\"508.626\" r=\"18\"/>\n",
       "<circle clip-path=\"url(#clip8503)\" style=\"fill:#009af9; stroke:none; fill-opacity:1\" cx=\"1324.96\" cy=\"508.626\" r=\"14\"/>\n",
       "<circle clip-path=\"url(#clip8503)\" style=\"fill:#000000; stroke:none; fill-opacity:1\" cx=\"1636.63\" cy=\"346.241\" r=\"18\"/>\n",
       "<circle clip-path=\"url(#clip8503)\" style=\"fill:#009af9; stroke:none; fill-opacity:1\" cx=\"1636.63\" cy=\"346.241\" r=\"14\"/>\n",
       "<circle clip-path=\"url(#clip8503)\" style=\"fill:#000000; stroke:none; fill-opacity:1\" cx=\"1054.49\" cy=\"817.922\" r=\"18\"/>\n",
       "<circle clip-path=\"url(#clip8503)\" style=\"fill:#009af9; stroke:none; fill-opacity:1\" cx=\"1054.49\" cy=\"817.922\" r=\"14\"/>\n",
       "<circle clip-path=\"url(#clip8503)\" style=\"fill:#000000; stroke:none; fill-opacity:1\" cx=\"914.193\" cy=\"1117.48\" r=\"18\"/>\n",
       "<circle clip-path=\"url(#clip8503)\" style=\"fill:#009af9; stroke:none; fill-opacity:1\" cx=\"914.193\" cy=\"1117.48\" r=\"14\"/>\n",
       "<circle clip-path=\"url(#clip8503)\" style=\"fill:#000000; stroke:none; fill-opacity:1\" cx=\"1433.26\" cy=\"850.488\" r=\"18\"/>\n",
       "<circle clip-path=\"url(#clip8503)\" style=\"fill:#009af9; stroke:none; fill-opacity:1\" cx=\"1433.26\" cy=\"850.488\" r=\"14\"/>\n",
       "<circle clip-path=\"url(#clip8503)\" style=\"fill:#000000; stroke:none; fill-opacity:1\" cx=\"737.445\" cy=\"1188.29\" r=\"18\"/>\n",
       "<circle clip-path=\"url(#clip8503)\" style=\"fill:#009af9; stroke:none; fill-opacity:1\" cx=\"737.445\" cy=\"1188.29\" r=\"14\"/>\n",
       "<circle clip-path=\"url(#clip8503)\" style=\"fill:#000000; stroke:none; fill-opacity:1\" cx=\"1496.3\" cy=\"997.093\" r=\"18\"/>\n",
       "<circle clip-path=\"url(#clip8503)\" style=\"fill:#009af9; stroke:none; fill-opacity:1\" cx=\"1496.3\" cy=\"997.093\" r=\"14\"/>\n",
       "<circle clip-path=\"url(#clip8503)\" style=\"fill:#000000; stroke:none; fill-opacity:1\" cx=\"568.481\" cy=\"1331.48\" r=\"18\"/>\n",
       "<circle clip-path=\"url(#clip8503)\" style=\"fill:#e26f46; stroke:none; fill-opacity:1\" cx=\"568.481\" cy=\"1331.48\" r=\"14\"/>\n",
       "<circle clip-path=\"url(#clip8503)\" style=\"fill:#000000; stroke:none; fill-opacity:1\" cx=\"624.353\" cy=\"1230.33\" r=\"18\"/>\n",
       "<circle clip-path=\"url(#clip8503)\" style=\"fill:#e26f46; stroke:none; fill-opacity:1\" cx=\"624.353\" cy=\"1230.33\" r=\"14\"/>\n",
       "<circle clip-path=\"url(#clip8503)\" style=\"fill:#000000; stroke:none; fill-opacity:1\" cx=\"680.224\" cy=\"1129.19\" r=\"18\"/>\n",
       "<circle clip-path=\"url(#clip8503)\" style=\"fill:#e26f46; stroke:none; fill-opacity:1\" cx=\"680.224\" cy=\"1129.19\" r=\"14\"/>\n",
       "<circle clip-path=\"url(#clip8503)\" style=\"fill:#000000; stroke:none; fill-opacity:1\" cx=\"736.096\" cy=\"1028.04\" r=\"18\"/>\n",
       "<circle clip-path=\"url(#clip8503)\" style=\"fill:#e26f46; stroke:none; fill-opacity:1\" cx=\"736.096\" cy=\"1028.04\" r=\"14\"/>\n",
       "<circle clip-path=\"url(#clip8503)\" style=\"fill:#000000; stroke:none; fill-opacity:1\" cx=\"791.968\" cy=\"926.894\" r=\"18\"/>\n",
       "<circle clip-path=\"url(#clip8503)\" style=\"fill:#e26f46; stroke:none; fill-opacity:1\" cx=\"791.968\" cy=\"926.894\" r=\"14\"/>\n",
       "<circle clip-path=\"url(#clip8503)\" style=\"fill:#000000; stroke:none; fill-opacity:1\" cx=\"847.84\" cy=\"825.748\" r=\"18\"/>\n",
       "<circle clip-path=\"url(#clip8503)\" style=\"fill:#e26f46; stroke:none; fill-opacity:1\" cx=\"847.84\" cy=\"825.748\" r=\"14\"/>\n",
       "<circle clip-path=\"url(#clip8503)\" style=\"fill:#000000; stroke:none; fill-opacity:1\" cx=\"903.712\" cy=\"724.603\" r=\"18\"/>\n",
       "<circle clip-path=\"url(#clip8503)\" style=\"fill:#e26f46; stroke:none; fill-opacity:1\" cx=\"903.712\" cy=\"724.603\" r=\"14\"/>\n",
       "<circle clip-path=\"url(#clip8503)\" style=\"fill:#000000; stroke:none; fill-opacity:1\" cx=\"959.584\" cy=\"623.457\" r=\"18\"/>\n",
       "<circle clip-path=\"url(#clip8503)\" style=\"fill:#e26f46; stroke:none; fill-opacity:1\" cx=\"959.584\" cy=\"623.457\" r=\"14\"/>\n",
       "<circle clip-path=\"url(#clip8503)\" style=\"fill:#000000; stroke:none; fill-opacity:1\" cx=\"1015.46\" cy=\"522.311\" r=\"18\"/>\n",
       "<circle clip-path=\"url(#clip8503)\" style=\"fill:#e26f46; stroke:none; fill-opacity:1\" cx=\"1015.46\" cy=\"522.311\" r=\"14\"/>\n",
       "<circle clip-path=\"url(#clip8503)\" style=\"fill:#000000; stroke:none; fill-opacity:1\" cx=\"1071.33\" cy=\"421.165\" r=\"18\"/>\n",
       "<circle clip-path=\"url(#clip8503)\" style=\"fill:#e26f46; stroke:none; fill-opacity:1\" cx=\"1071.33\" cy=\"421.165\" r=\"14\"/>\n",
       "<circle clip-path=\"url(#clip8503)\" style=\"fill:#000000; stroke:none; fill-opacity:1\" cx=\"665.254\" cy=\"1309.71\" r=\"18\"/>\n",
       "<circle clip-path=\"url(#clip8503)\" style=\"fill:#e26f46; stroke:none; fill-opacity:1\" cx=\"665.254\" cy=\"1309.71\" r=\"14\"/>\n",
       "<circle clip-path=\"url(#clip8503)\" style=\"fill:#000000; stroke:none; fill-opacity:1\" cx=\"721.125\" cy=\"1208.57\" r=\"18\"/>\n",
       "<circle clip-path=\"url(#clip8503)\" style=\"fill:#e26f46; stroke:none; fill-opacity:1\" cx=\"721.125\" cy=\"1208.57\" r=\"14\"/>\n",
       "<circle clip-path=\"url(#clip8503)\" style=\"fill:#000000; stroke:none; fill-opacity:1\" cx=\"776.997\" cy=\"1107.42\" r=\"18\"/>\n",
       "<circle clip-path=\"url(#clip8503)\" style=\"fill:#e26f46; stroke:none; fill-opacity:1\" cx=\"776.997\" cy=\"1107.42\" r=\"14\"/>\n",
       "<circle clip-path=\"url(#clip8503)\" style=\"fill:#000000; stroke:none; fill-opacity:1\" cx=\"832.869\" cy=\"1006.28\" r=\"18\"/>\n",
       "<circle clip-path=\"url(#clip8503)\" style=\"fill:#e26f46; stroke:none; fill-opacity:1\" cx=\"832.869\" cy=\"1006.28\" r=\"14\"/>\n",
       "<circle clip-path=\"url(#clip8503)\" style=\"fill:#000000; stroke:none; fill-opacity:1\" cx=\"888.741\" cy=\"905.13\" r=\"18\"/>\n",
       "<circle clip-path=\"url(#clip8503)\" style=\"fill:#e26f46; stroke:none; fill-opacity:1\" cx=\"888.741\" cy=\"905.13\" r=\"14\"/>\n",
       "<circle clip-path=\"url(#clip8503)\" style=\"fill:#000000; stroke:none; fill-opacity:1\" cx=\"944.613\" cy=\"803.984\" r=\"18\"/>\n",
       "<circle clip-path=\"url(#clip8503)\" style=\"fill:#e26f46; stroke:none; fill-opacity:1\" cx=\"944.613\" cy=\"803.984\" r=\"14\"/>\n",
       "<circle clip-path=\"url(#clip8503)\" style=\"fill:#000000; stroke:none; fill-opacity:1\" cx=\"1000.48\" cy=\"702.838\" r=\"18\"/>\n",
       "<circle clip-path=\"url(#clip8503)\" style=\"fill:#e26f46; stroke:none; fill-opacity:1\" cx=\"1000.48\" cy=\"702.838\" r=\"14\"/>\n",
       "<circle clip-path=\"url(#clip8503)\" style=\"fill:#000000; stroke:none; fill-opacity:1\" cx=\"1056.36\" cy=\"601.692\" r=\"18\"/>\n",
       "<circle clip-path=\"url(#clip8503)\" style=\"fill:#e26f46; stroke:none; fill-opacity:1\" cx=\"1056.36\" cy=\"601.692\" r=\"14\"/>\n",
       "<circle clip-path=\"url(#clip8503)\" style=\"fill:#000000; stroke:none; fill-opacity:1\" cx=\"1112.23\" cy=\"500.546\" r=\"18\"/>\n",
       "<circle clip-path=\"url(#clip8503)\" style=\"fill:#e26f46; stroke:none; fill-opacity:1\" cx=\"1112.23\" cy=\"500.546\" r=\"14\"/>\n",
       "<circle clip-path=\"url(#clip8503)\" style=\"fill:#000000; stroke:none; fill-opacity:1\" cx=\"1168.1\" cy=\"399.4\" r=\"18\"/>\n",
       "<circle clip-path=\"url(#clip8503)\" style=\"fill:#e26f46; stroke:none; fill-opacity:1\" cx=\"1168.1\" cy=\"399.4\" r=\"14\"/>\n",
       "<circle clip-path=\"url(#clip8503)\" style=\"fill:#000000; stroke:none; fill-opacity:1\" cx=\"762.026\" cy=\"1287.95\" r=\"18\"/>\n",
       "<circle clip-path=\"url(#clip8503)\" style=\"fill:#e26f46; stroke:none; fill-opacity:1\" cx=\"762.026\" cy=\"1287.95\" r=\"14\"/>\n",
       "<circle clip-path=\"url(#clip8503)\" style=\"fill:#000000; stroke:none; fill-opacity:1\" cx=\"817.898\" cy=\"1186.8\" r=\"18\"/>\n",
       "<circle clip-path=\"url(#clip8503)\" style=\"fill:#e26f46; stroke:none; fill-opacity:1\" cx=\"817.898\" cy=\"1186.8\" r=\"14\"/>\n",
       "<circle clip-path=\"url(#clip8503)\" style=\"fill:#000000; stroke:none; fill-opacity:1\" cx=\"873.77\" cy=\"1085.66\" r=\"18\"/>\n",
       "<circle clip-path=\"url(#clip8503)\" style=\"fill:#e26f46; stroke:none; fill-opacity:1\" cx=\"873.77\" cy=\"1085.66\" r=\"14\"/>\n",
       "<circle clip-path=\"url(#clip8503)\" style=\"fill:#000000; stroke:none; fill-opacity:1\" cx=\"929.642\" cy=\"984.511\" r=\"18\"/>\n",
       "<circle clip-path=\"url(#clip8503)\" style=\"fill:#e26f46; stroke:none; fill-opacity:1\" cx=\"929.642\" cy=\"984.511\" r=\"14\"/>\n",
       "<circle clip-path=\"url(#clip8503)\" style=\"fill:#000000; stroke:none; fill-opacity:1\" cx=\"985.514\" cy=\"883.365\" r=\"18\"/>\n",
       "<circle clip-path=\"url(#clip8503)\" style=\"fill:#e26f46; stroke:none; fill-opacity:1\" cx=\"985.514\" cy=\"883.365\" r=\"14\"/>\n",
       "<circle clip-path=\"url(#clip8503)\" style=\"fill:#000000; stroke:none; fill-opacity:1\" cx=\"1041.39\" cy=\"782.219\" r=\"18\"/>\n",
       "<circle clip-path=\"url(#clip8503)\" style=\"fill:#e26f46; stroke:none; fill-opacity:1\" cx=\"1041.39\" cy=\"782.219\" r=\"14\"/>\n",
       "<circle clip-path=\"url(#clip8503)\" style=\"fill:#000000; stroke:none; fill-opacity:1\" cx=\"1097.26\" cy=\"681.073\" r=\"18\"/>\n",
       "<circle clip-path=\"url(#clip8503)\" style=\"fill:#e26f46; stroke:none; fill-opacity:1\" cx=\"1097.26\" cy=\"681.073\" r=\"14\"/>\n",
       "<circle clip-path=\"url(#clip8503)\" style=\"fill:#000000; stroke:none; fill-opacity:1\" cx=\"1153.13\" cy=\"579.927\" r=\"18\"/>\n",
       "<circle clip-path=\"url(#clip8503)\" style=\"fill:#e26f46; stroke:none; fill-opacity:1\" cx=\"1153.13\" cy=\"579.927\" r=\"14\"/>\n",
       "<circle clip-path=\"url(#clip8503)\" style=\"fill:#000000; stroke:none; fill-opacity:1\" cx=\"1209\" cy=\"478.781\" r=\"18\"/>\n",
       "<circle clip-path=\"url(#clip8503)\" style=\"fill:#e26f46; stroke:none; fill-opacity:1\" cx=\"1209\" cy=\"478.781\" r=\"14\"/>\n",
       "<circle clip-path=\"url(#clip8503)\" style=\"fill:#000000; stroke:none; fill-opacity:1\" cx=\"1264.87\" cy=\"377.635\" r=\"18\"/>\n",
       "<circle clip-path=\"url(#clip8503)\" style=\"fill:#e26f46; stroke:none; fill-opacity:1\" cx=\"1264.87\" cy=\"377.635\" r=\"14\"/>\n",
       "<circle clip-path=\"url(#clip8503)\" style=\"fill:#000000; stroke:none; fill-opacity:1\" cx=\"858.799\" cy=\"1266.18\" r=\"18\"/>\n",
       "<circle clip-path=\"url(#clip8503)\" style=\"fill:#e26f46; stroke:none; fill-opacity:1\" cx=\"858.799\" cy=\"1266.18\" r=\"14\"/>\n",
       "<circle clip-path=\"url(#clip8503)\" style=\"fill:#000000; stroke:none; fill-opacity:1\" cx=\"914.671\" cy=\"1165.04\" r=\"18\"/>\n",
       "<circle clip-path=\"url(#clip8503)\" style=\"fill:#e26f46; stroke:none; fill-opacity:1\" cx=\"914.671\" cy=\"1165.04\" r=\"14\"/>\n",
       "<circle clip-path=\"url(#clip8503)\" style=\"fill:#000000; stroke:none; fill-opacity:1\" cx=\"970.543\" cy=\"1063.89\" r=\"18\"/>\n",
       "<circle clip-path=\"url(#clip8503)\" style=\"fill:#e26f46; stroke:none; fill-opacity:1\" cx=\"970.543\" cy=\"1063.89\" r=\"14\"/>\n",
       "<circle clip-path=\"url(#clip8503)\" style=\"fill:#000000; stroke:none; fill-opacity:1\" cx=\"1026.41\" cy=\"962.746\" r=\"18\"/>\n",
       "<circle clip-path=\"url(#clip8503)\" style=\"fill:#e26f46; stroke:none; fill-opacity:1\" cx=\"1026.41\" cy=\"962.746\" r=\"14\"/>\n",
       "<circle clip-path=\"url(#clip8503)\" style=\"fill:#000000; stroke:none; fill-opacity:1\" cx=\"1082.29\" cy=\"861.6\" r=\"18\"/>\n",
       "<circle clip-path=\"url(#clip8503)\" style=\"fill:#e26f46; stroke:none; fill-opacity:1\" cx=\"1082.29\" cy=\"861.6\" r=\"14\"/>\n",
       "<circle clip-path=\"url(#clip8503)\" style=\"fill:#000000; stroke:none; fill-opacity:1\" cx=\"1138.16\" cy=\"760.454\" r=\"18\"/>\n",
       "<circle clip-path=\"url(#clip8503)\" style=\"fill:#e26f46; stroke:none; fill-opacity:1\" cx=\"1138.16\" cy=\"760.454\" r=\"14\"/>\n",
       "<circle clip-path=\"url(#clip8503)\" style=\"fill:#000000; stroke:none; fill-opacity:1\" cx=\"1194.03\" cy=\"659.308\" r=\"18\"/>\n",
       "<circle clip-path=\"url(#clip8503)\" style=\"fill:#e26f46; stroke:none; fill-opacity:1\" cx=\"1194.03\" cy=\"659.308\" r=\"14\"/>\n",
       "<circle clip-path=\"url(#clip8503)\" style=\"fill:#000000; stroke:none; fill-opacity:1\" cx=\"1249.9\" cy=\"558.162\" r=\"18\"/>\n",
       "<circle clip-path=\"url(#clip8503)\" style=\"fill:#e26f46; stroke:none; fill-opacity:1\" cx=\"1249.9\" cy=\"558.162\" r=\"14\"/>\n",
       "<circle clip-path=\"url(#clip8503)\" style=\"fill:#000000; stroke:none; fill-opacity:1\" cx=\"1305.77\" cy=\"457.016\" r=\"18\"/>\n",
       "<circle clip-path=\"url(#clip8503)\" style=\"fill:#e26f46; stroke:none; fill-opacity:1\" cx=\"1305.77\" cy=\"457.016\" r=\"14\"/>\n",
       "<circle clip-path=\"url(#clip8503)\" style=\"fill:#000000; stroke:none; fill-opacity:1\" cx=\"1361.65\" cy=\"355.87\" r=\"18\"/>\n",
       "<circle clip-path=\"url(#clip8503)\" style=\"fill:#e26f46; stroke:none; fill-opacity:1\" cx=\"1361.65\" cy=\"355.87\" r=\"14\"/>\n",
       "<circle clip-path=\"url(#clip8503)\" style=\"fill:#000000; stroke:none; fill-opacity:1\" cx=\"955.572\" cy=\"1244.42\" r=\"18\"/>\n",
       "<circle clip-path=\"url(#clip8503)\" style=\"fill:#e26f46; stroke:none; fill-opacity:1\" cx=\"955.572\" cy=\"1244.42\" r=\"14\"/>\n",
       "<circle clip-path=\"url(#clip8503)\" style=\"fill:#000000; stroke:none; fill-opacity:1\" cx=\"1011.44\" cy=\"1143.27\" r=\"18\"/>\n",
       "<circle clip-path=\"url(#clip8503)\" style=\"fill:#e26f46; stroke:none; fill-opacity:1\" cx=\"1011.44\" cy=\"1143.27\" r=\"14\"/>\n",
       "<circle clip-path=\"url(#clip8503)\" style=\"fill:#000000; stroke:none; fill-opacity:1\" cx=\"1067.32\" cy=\"1042.13\" r=\"18\"/>\n",
       "<circle clip-path=\"url(#clip8503)\" style=\"fill:#e26f46; stroke:none; fill-opacity:1\" cx=\"1067.32\" cy=\"1042.13\" r=\"14\"/>\n",
       "<circle clip-path=\"url(#clip8503)\" style=\"fill:#000000; stroke:none; fill-opacity:1\" cx=\"1123.19\" cy=\"940.981\" r=\"18\"/>\n",
       "<circle clip-path=\"url(#clip8503)\" style=\"fill:#e26f46; stroke:none; fill-opacity:1\" cx=\"1123.19\" cy=\"940.981\" r=\"14\"/>\n",
       "<circle clip-path=\"url(#clip8503)\" style=\"fill:#000000; stroke:none; fill-opacity:1\" cx=\"1179.06\" cy=\"839.835\" r=\"18\"/>\n",
       "<circle clip-path=\"url(#clip8503)\" style=\"fill:#e26f46; stroke:none; fill-opacity:1\" cx=\"1179.06\" cy=\"839.835\" r=\"14\"/>\n",
       "<circle clip-path=\"url(#clip8503)\" style=\"fill:#000000; stroke:none; fill-opacity:1\" cx=\"1234.93\" cy=\"738.689\" r=\"18\"/>\n",
       "<circle clip-path=\"url(#clip8503)\" style=\"fill:#e26f46; stroke:none; fill-opacity:1\" cx=\"1234.93\" cy=\"738.689\" r=\"14\"/>\n",
       "<circle clip-path=\"url(#clip8503)\" style=\"fill:#000000; stroke:none; fill-opacity:1\" cx=\"1290.8\" cy=\"637.543\" r=\"18\"/>\n",
       "<circle clip-path=\"url(#clip8503)\" style=\"fill:#e26f46; stroke:none; fill-opacity:1\" cx=\"1290.8\" cy=\"637.543\" r=\"14\"/>\n",
       "<circle clip-path=\"url(#clip8503)\" style=\"fill:#000000; stroke:none; fill-opacity:1\" cx=\"1346.68\" cy=\"536.397\" r=\"18\"/>\n",
       "<circle clip-path=\"url(#clip8503)\" style=\"fill:#e26f46; stroke:none; fill-opacity:1\" cx=\"1346.68\" cy=\"536.397\" r=\"14\"/>\n",
       "<circle clip-path=\"url(#clip8503)\" style=\"fill:#000000; stroke:none; fill-opacity:1\" cx=\"1402.55\" cy=\"435.252\" r=\"18\"/>\n",
       "<circle clip-path=\"url(#clip8503)\" style=\"fill:#e26f46; stroke:none; fill-opacity:1\" cx=\"1402.55\" cy=\"435.252\" r=\"14\"/>\n",
       "<circle clip-path=\"url(#clip8503)\" style=\"fill:#000000; stroke:none; fill-opacity:1\" cx=\"1458.42\" cy=\"334.106\" r=\"18\"/>\n",
       "<circle clip-path=\"url(#clip8503)\" style=\"fill:#e26f46; stroke:none; fill-opacity:1\" cx=\"1458.42\" cy=\"334.106\" r=\"14\"/>\n",
       "<circle clip-path=\"url(#clip8503)\" style=\"fill:#000000; stroke:none; fill-opacity:1\" cx=\"1052.35\" cy=\"1222.65\" r=\"18\"/>\n",
       "<circle clip-path=\"url(#clip8503)\" style=\"fill:#e26f46; stroke:none; fill-opacity:1\" cx=\"1052.35\" cy=\"1222.65\" r=\"14\"/>\n",
       "<circle clip-path=\"url(#clip8503)\" style=\"fill:#000000; stroke:none; fill-opacity:1\" cx=\"1108.22\" cy=\"1121.51\" r=\"18\"/>\n",
       "<circle clip-path=\"url(#clip8503)\" style=\"fill:#e26f46; stroke:none; fill-opacity:1\" cx=\"1108.22\" cy=\"1121.51\" r=\"14\"/>\n",
       "<circle clip-path=\"url(#clip8503)\" style=\"fill:#000000; stroke:none; fill-opacity:1\" cx=\"1164.09\" cy=\"1020.36\" r=\"18\"/>\n",
       "<circle clip-path=\"url(#clip8503)\" style=\"fill:#e26f46; stroke:none; fill-opacity:1\" cx=\"1164.09\" cy=\"1020.36\" r=\"14\"/>\n",
       "<circle clip-path=\"url(#clip8503)\" style=\"fill:#000000; stroke:none; fill-opacity:1\" cx=\"1219.96\" cy=\"919.216\" r=\"18\"/>\n",
       "<circle clip-path=\"url(#clip8503)\" style=\"fill:#e26f46; stroke:none; fill-opacity:1\" cx=\"1219.96\" cy=\"919.216\" r=\"14\"/>\n",
       "<circle clip-path=\"url(#clip8503)\" style=\"fill:#000000; stroke:none; fill-opacity:1\" cx=\"1275.83\" cy=\"818.071\" r=\"18\"/>\n",
       "<circle clip-path=\"url(#clip8503)\" style=\"fill:#e26f46; stroke:none; fill-opacity:1\" cx=\"1275.83\" cy=\"818.071\" r=\"14\"/>\n",
       "<circle clip-path=\"url(#clip8503)\" style=\"fill:#000000; stroke:none; fill-opacity:1\" cx=\"1331.7\" cy=\"716.925\" r=\"18\"/>\n",
       "<circle clip-path=\"url(#clip8503)\" style=\"fill:#e26f46; stroke:none; fill-opacity:1\" cx=\"1331.7\" cy=\"716.925\" r=\"14\"/>\n",
       "<circle clip-path=\"url(#clip8503)\" style=\"fill:#000000; stroke:none; fill-opacity:1\" cx=\"1387.58\" cy=\"615.779\" r=\"18\"/>\n",
       "<circle clip-path=\"url(#clip8503)\" style=\"fill:#e26f46; stroke:none; fill-opacity:1\" cx=\"1387.58\" cy=\"615.779\" r=\"14\"/>\n",
       "<circle clip-path=\"url(#clip8503)\" style=\"fill:#000000; stroke:none; fill-opacity:1\" cx=\"1443.45\" cy=\"514.633\" r=\"18\"/>\n",
       "<circle clip-path=\"url(#clip8503)\" style=\"fill:#e26f46; stroke:none; fill-opacity:1\" cx=\"1443.45\" cy=\"514.633\" r=\"14\"/>\n",
       "<circle clip-path=\"url(#clip8503)\" style=\"fill:#000000; stroke:none; fill-opacity:1\" cx=\"1499.32\" cy=\"413.487\" r=\"18\"/>\n",
       "<circle clip-path=\"url(#clip8503)\" style=\"fill:#e26f46; stroke:none; fill-opacity:1\" cx=\"1499.32\" cy=\"413.487\" r=\"14\"/>\n",
       "<circle clip-path=\"url(#clip8503)\" style=\"fill:#000000; stroke:none; fill-opacity:1\" cx=\"1555.19\" cy=\"312.341\" r=\"18\"/>\n",
       "<circle clip-path=\"url(#clip8503)\" style=\"fill:#e26f46; stroke:none; fill-opacity:1\" cx=\"1555.19\" cy=\"312.341\" r=\"14\"/>\n",
       "<circle clip-path=\"url(#clip8503)\" style=\"fill:#000000; stroke:none; fill-opacity:1\" cx=\"1149.12\" cy=\"1200.89\" r=\"18\"/>\n",
       "<circle clip-path=\"url(#clip8503)\" style=\"fill:#e26f46; stroke:none; fill-opacity:1\" cx=\"1149.12\" cy=\"1200.89\" r=\"14\"/>\n",
       "<circle clip-path=\"url(#clip8503)\" style=\"fill:#000000; stroke:none; fill-opacity:1\" cx=\"1204.99\" cy=\"1099.74\" r=\"18\"/>\n",
       "<circle clip-path=\"url(#clip8503)\" style=\"fill:#e26f46; stroke:none; fill-opacity:1\" cx=\"1204.99\" cy=\"1099.74\" r=\"14\"/>\n",
       "<circle clip-path=\"url(#clip8503)\" style=\"fill:#000000; stroke:none; fill-opacity:1\" cx=\"1260.86\" cy=\"998.598\" r=\"18\"/>\n",
       "<circle clip-path=\"url(#clip8503)\" style=\"fill:#e26f46; stroke:none; fill-opacity:1\" cx=\"1260.86\" cy=\"998.598\" r=\"14\"/>\n",
       "<circle clip-path=\"url(#clip8503)\" style=\"fill:#000000; stroke:none; fill-opacity:1\" cx=\"1316.73\" cy=\"897.452\" r=\"18\"/>\n",
       "<circle clip-path=\"url(#clip8503)\" style=\"fill:#e26f46; stroke:none; fill-opacity:1\" cx=\"1316.73\" cy=\"897.452\" r=\"14\"/>\n",
       "<circle clip-path=\"url(#clip8503)\" style=\"fill:#000000; stroke:none; fill-opacity:1\" cx=\"1372.61\" cy=\"796.306\" r=\"18\"/>\n",
       "<circle clip-path=\"url(#clip8503)\" style=\"fill:#e26f46; stroke:none; fill-opacity:1\" cx=\"1372.61\" cy=\"796.306\" r=\"14\"/>\n",
       "<circle clip-path=\"url(#clip8503)\" style=\"fill:#000000; stroke:none; fill-opacity:1\" cx=\"1428.48\" cy=\"695.16\" r=\"18\"/>\n",
       "<circle clip-path=\"url(#clip8503)\" style=\"fill:#e26f46; stroke:none; fill-opacity:1\" cx=\"1428.48\" cy=\"695.16\" r=\"14\"/>\n",
       "<circle clip-path=\"url(#clip8503)\" style=\"fill:#000000; stroke:none; fill-opacity:1\" cx=\"1484.35\" cy=\"594.014\" r=\"18\"/>\n",
       "<circle clip-path=\"url(#clip8503)\" style=\"fill:#e26f46; stroke:none; fill-opacity:1\" cx=\"1484.35\" cy=\"594.014\" r=\"14\"/>\n",
       "<circle clip-path=\"url(#clip8503)\" style=\"fill:#000000; stroke:none; fill-opacity:1\" cx=\"1540.22\" cy=\"492.868\" r=\"18\"/>\n",
       "<circle clip-path=\"url(#clip8503)\" style=\"fill:#e26f46; stroke:none; fill-opacity:1\" cx=\"1540.22\" cy=\"492.868\" r=\"14\"/>\n",
       "<circle clip-path=\"url(#clip8503)\" style=\"fill:#000000; stroke:none; fill-opacity:1\" cx=\"1596.09\" cy=\"391.722\" r=\"18\"/>\n",
       "<circle clip-path=\"url(#clip8503)\" style=\"fill:#e26f46; stroke:none; fill-opacity:1\" cx=\"1596.09\" cy=\"391.722\" r=\"14\"/>\n",
       "<circle clip-path=\"url(#clip8503)\" style=\"fill:#000000; stroke:none; fill-opacity:1\" cx=\"1651.96\" cy=\"290.576\" r=\"18\"/>\n",
       "<circle clip-path=\"url(#clip8503)\" style=\"fill:#e26f46; stroke:none; fill-opacity:1\" cx=\"1651.96\" cy=\"290.576\" r=\"14\"/>\n",
       "<circle clip-path=\"url(#clip8503)\" style=\"fill:#000000; stroke:none; fill-opacity:1\" cx=\"1245.89\" cy=\"1179.12\" r=\"18\"/>\n",
       "<circle clip-path=\"url(#clip8503)\" style=\"fill:#e26f46; stroke:none; fill-opacity:1\" cx=\"1245.89\" cy=\"1179.12\" r=\"14\"/>\n",
       "<circle clip-path=\"url(#clip8503)\" style=\"fill:#000000; stroke:none; fill-opacity:1\" cx=\"1301.76\" cy=\"1077.98\" r=\"18\"/>\n",
       "<circle clip-path=\"url(#clip8503)\" style=\"fill:#e26f46; stroke:none; fill-opacity:1\" cx=\"1301.76\" cy=\"1077.98\" r=\"14\"/>\n",
       "<circle clip-path=\"url(#clip8503)\" style=\"fill:#000000; stroke:none; fill-opacity:1\" cx=\"1357.63\" cy=\"976.833\" r=\"18\"/>\n",
       "<circle clip-path=\"url(#clip8503)\" style=\"fill:#e26f46; stroke:none; fill-opacity:1\" cx=\"1357.63\" cy=\"976.833\" r=\"14\"/>\n",
       "<circle clip-path=\"url(#clip8503)\" style=\"fill:#000000; stroke:none; fill-opacity:1\" cx=\"1413.51\" cy=\"875.687\" r=\"18\"/>\n",
       "<circle clip-path=\"url(#clip8503)\" style=\"fill:#e26f46; stroke:none; fill-opacity:1\" cx=\"1413.51\" cy=\"875.687\" r=\"14\"/>\n",
       "<circle clip-path=\"url(#clip8503)\" style=\"fill:#000000; stroke:none; fill-opacity:1\" cx=\"1469.38\" cy=\"774.541\" r=\"18\"/>\n",
       "<circle clip-path=\"url(#clip8503)\" style=\"fill:#e26f46; stroke:none; fill-opacity:1\" cx=\"1469.38\" cy=\"774.541\" r=\"14\"/>\n",
       "<circle clip-path=\"url(#clip8503)\" style=\"fill:#000000; stroke:none; fill-opacity:1\" cx=\"1525.25\" cy=\"673.395\" r=\"18\"/>\n",
       "<circle clip-path=\"url(#clip8503)\" style=\"fill:#e26f46; stroke:none; fill-opacity:1\" cx=\"1525.25\" cy=\"673.395\" r=\"14\"/>\n",
       "<circle clip-path=\"url(#clip8503)\" style=\"fill:#000000; stroke:none; fill-opacity:1\" cx=\"1581.12\" cy=\"572.249\" r=\"18\"/>\n",
       "<circle clip-path=\"url(#clip8503)\" style=\"fill:#e26f46; stroke:none; fill-opacity:1\" cx=\"1581.12\" cy=\"572.249\" r=\"14\"/>\n",
       "<circle clip-path=\"url(#clip8503)\" style=\"fill:#000000; stroke:none; fill-opacity:1\" cx=\"1636.99\" cy=\"471.103\" r=\"18\"/>\n",
       "<circle clip-path=\"url(#clip8503)\" style=\"fill:#e26f46; stroke:none; fill-opacity:1\" cx=\"1636.99\" cy=\"471.103\" r=\"14\"/>\n",
       "<circle clip-path=\"url(#clip8503)\" style=\"fill:#000000; stroke:none; fill-opacity:1\" cx=\"1692.87\" cy=\"369.957\" r=\"18\"/>\n",
       "<circle clip-path=\"url(#clip8503)\" style=\"fill:#e26f46; stroke:none; fill-opacity:1\" cx=\"1692.87\" cy=\"369.957\" r=\"14\"/>\n",
       "<circle clip-path=\"url(#clip8503)\" style=\"fill:#000000; stroke:none; fill-opacity:1\" cx=\"1748.74\" cy=\"268.811\" r=\"18\"/>\n",
       "<circle clip-path=\"url(#clip8503)\" style=\"fill:#e26f46; stroke:none; fill-opacity:1\" cx=\"1748.74\" cy=\"268.811\" r=\"14\"/>\n",
       "<circle clip-path=\"url(#clip8503)\" style=\"fill:#000000; stroke:none; fill-opacity:1\" cx=\"1342.66\" cy=\"1157.36\" r=\"18\"/>\n",
       "<circle clip-path=\"url(#clip8503)\" style=\"fill:#e26f46; stroke:none; fill-opacity:1\" cx=\"1342.66\" cy=\"1157.36\" r=\"14\"/>\n",
       "<circle clip-path=\"url(#clip8503)\" style=\"fill:#000000; stroke:none; fill-opacity:1\" cx=\"1398.54\" cy=\"1056.21\" r=\"18\"/>\n",
       "<circle clip-path=\"url(#clip8503)\" style=\"fill:#e26f46; stroke:none; fill-opacity:1\" cx=\"1398.54\" cy=\"1056.21\" r=\"14\"/>\n",
       "<circle clip-path=\"url(#clip8503)\" style=\"fill:#000000; stroke:none; fill-opacity:1\" cx=\"1454.41\" cy=\"955.068\" r=\"18\"/>\n",
       "<circle clip-path=\"url(#clip8503)\" style=\"fill:#e26f46; stroke:none; fill-opacity:1\" cx=\"1454.41\" cy=\"955.068\" r=\"14\"/>\n",
       "<circle clip-path=\"url(#clip8503)\" style=\"fill:#000000; stroke:none; fill-opacity:1\" cx=\"1510.28\" cy=\"853.922\" r=\"18\"/>\n",
       "<circle clip-path=\"url(#clip8503)\" style=\"fill:#e26f46; stroke:none; fill-opacity:1\" cx=\"1510.28\" cy=\"853.922\" r=\"14\"/>\n",
       "<circle clip-path=\"url(#clip8503)\" style=\"fill:#000000; stroke:none; fill-opacity:1\" cx=\"1566.15\" cy=\"752.776\" r=\"18\"/>\n",
       "<circle clip-path=\"url(#clip8503)\" style=\"fill:#e26f46; stroke:none; fill-opacity:1\" cx=\"1566.15\" cy=\"752.776\" r=\"14\"/>\n",
       "<circle clip-path=\"url(#clip8503)\" style=\"fill:#000000; stroke:none; fill-opacity:1\" cx=\"1622.02\" cy=\"651.63\" r=\"18\"/>\n",
       "<circle clip-path=\"url(#clip8503)\" style=\"fill:#e26f46; stroke:none; fill-opacity:1\" cx=\"1622.02\" cy=\"651.63\" r=\"14\"/>\n",
       "<circle clip-path=\"url(#clip8503)\" style=\"fill:#000000; stroke:none; fill-opacity:1\" cx=\"1677.89\" cy=\"550.484\" r=\"18\"/>\n",
       "<circle clip-path=\"url(#clip8503)\" style=\"fill:#e26f46; stroke:none; fill-opacity:1\" cx=\"1677.89\" cy=\"550.484\" r=\"14\"/>\n",
       "<circle clip-path=\"url(#clip8503)\" style=\"fill:#000000; stroke:none; fill-opacity:1\" cx=\"1733.77\" cy=\"449.338\" r=\"18\"/>\n",
       "<circle clip-path=\"url(#clip8503)\" style=\"fill:#e26f46; stroke:none; fill-opacity:1\" cx=\"1733.77\" cy=\"449.338\" r=\"14\"/>\n",
       "<circle clip-path=\"url(#clip8503)\" style=\"fill:#000000; stroke:none; fill-opacity:1\" cx=\"1789.64\" cy=\"348.192\" r=\"18\"/>\n",
       "<circle clip-path=\"url(#clip8503)\" style=\"fill:#e26f46; stroke:none; fill-opacity:1\" cx=\"1789.64\" cy=\"348.192\" r=\"14\"/>\n",
       "<circle clip-path=\"url(#clip8503)\" style=\"fill:#000000; stroke:none; fill-opacity:1\" cx=\"1845.51\" cy=\"247.047\" r=\"18\"/>\n",
       "<circle clip-path=\"url(#clip8503)\" style=\"fill:#e26f46; stroke:none; fill-opacity:1\" cx=\"1845.51\" cy=\"247.047\" r=\"14\"/>\n",
       "<circle clip-path=\"url(#clip8503)\" style=\"fill:#000000; stroke:none; fill-opacity:1\" cx=\"1439.44\" cy=\"1135.6\" r=\"18\"/>\n",
       "<circle clip-path=\"url(#clip8503)\" style=\"fill:#e26f46; stroke:none; fill-opacity:1\" cx=\"1439.44\" cy=\"1135.6\" r=\"14\"/>\n",
       "<circle clip-path=\"url(#clip8503)\" style=\"fill:#000000; stroke:none; fill-opacity:1\" cx=\"1495.31\" cy=\"1034.45\" r=\"18\"/>\n",
       "<circle clip-path=\"url(#clip8503)\" style=\"fill:#e26f46; stroke:none; fill-opacity:1\" cx=\"1495.31\" cy=\"1034.45\" r=\"14\"/>\n",
       "<circle clip-path=\"url(#clip8503)\" style=\"fill:#000000; stroke:none; fill-opacity:1\" cx=\"1551.18\" cy=\"933.303\" r=\"18\"/>\n",
       "<circle clip-path=\"url(#clip8503)\" style=\"fill:#e26f46; stroke:none; fill-opacity:1\" cx=\"1551.18\" cy=\"933.303\" r=\"14\"/>\n",
       "<circle clip-path=\"url(#clip8503)\" style=\"fill:#000000; stroke:none; fill-opacity:1\" cx=\"1607.05\" cy=\"832.157\" r=\"18\"/>\n",
       "<circle clip-path=\"url(#clip8503)\" style=\"fill:#e26f46; stroke:none; fill-opacity:1\" cx=\"1607.05\" cy=\"832.157\" r=\"14\"/>\n",
       "<circle clip-path=\"url(#clip8503)\" style=\"fill:#000000; stroke:none; fill-opacity:1\" cx=\"1662.92\" cy=\"731.011\" r=\"18\"/>\n",
       "<circle clip-path=\"url(#clip8503)\" style=\"fill:#e26f46; stroke:none; fill-opacity:1\" cx=\"1662.92\" cy=\"731.011\" r=\"14\"/>\n",
       "<circle clip-path=\"url(#clip8503)\" style=\"fill:#000000; stroke:none; fill-opacity:1\" cx=\"1718.8\" cy=\"629.865\" r=\"18\"/>\n",
       "<circle clip-path=\"url(#clip8503)\" style=\"fill:#e26f46; stroke:none; fill-opacity:1\" cx=\"1718.8\" cy=\"629.865\" r=\"14\"/>\n",
       "<circle clip-path=\"url(#clip8503)\" style=\"fill:#000000; stroke:none; fill-opacity:1\" cx=\"1774.67\" cy=\"528.72\" r=\"18\"/>\n",
       "<circle clip-path=\"url(#clip8503)\" style=\"fill:#e26f46; stroke:none; fill-opacity:1\" cx=\"1774.67\" cy=\"528.72\" r=\"14\"/>\n",
       "<circle clip-path=\"url(#clip8503)\" style=\"fill:#000000; stroke:none; fill-opacity:1\" cx=\"1830.54\" cy=\"427.574\" r=\"18\"/>\n",
       "<circle clip-path=\"url(#clip8503)\" style=\"fill:#e26f46; stroke:none; fill-opacity:1\" cx=\"1830.54\" cy=\"427.574\" r=\"14\"/>\n",
       "<circle clip-path=\"url(#clip8503)\" style=\"fill:#000000; stroke:none; fill-opacity:1\" cx=\"1886.41\" cy=\"326.428\" r=\"18\"/>\n",
       "<circle clip-path=\"url(#clip8503)\" style=\"fill:#e26f46; stroke:none; fill-opacity:1\" cx=\"1886.41\" cy=\"326.428\" r=\"14\"/>\n",
       "<circle clip-path=\"url(#clip8503)\" style=\"fill:#000000; stroke:none; fill-opacity:1\" cx=\"1942.28\" cy=\"225.282\" r=\"18\"/>\n",
       "<circle clip-path=\"url(#clip8503)\" style=\"fill:#e26f46; stroke:none; fill-opacity:1\" cx=\"1942.28\" cy=\"225.282\" r=\"14\"/>\n",
       "<polygon clip-path=\"url(#clip8501)\" points=\"\n",
       "1620.67,312.204 1911.5,312.204 1911.5,130.764 1620.67,130.764 \n",
       "  \" fill=\"#ffffff\" fill-rule=\"evenodd\" fill-opacity=\"1\"/>\n",
       "<polyline clip-path=\"url(#clip8501)\" style=\"stroke:#000000; stroke-width:4; stroke-opacity:1; fill:none\" points=\"\n",
       "  1620.67,312.204 1911.5,312.204 1911.5,130.764 1620.67,130.764 1620.67,312.204 \n",
       "  \"/>\n",
       "<circle clip-path=\"url(#clip8501)\" style=\"fill:#000000; stroke:none; fill-opacity:1\" cx=\"1728.67\" cy=\"191.244\" r=\"25\"/>\n",
       "<circle clip-path=\"url(#clip8501)\" style=\"fill:#009af9; stroke:none; fill-opacity:1\" cx=\"1728.67\" cy=\"191.244\" r=\"21\"/>\n",
       "<g clip-path=\"url(#clip8501)\">\n",
       "<text style=\"fill:#000000; fill-opacity:1; font-family:Arial,Helvetica Neue,Helvetica,sans-serif; font-size:48px; text-anchor:start;\" transform=\"rotate(0, 1812.67, 208.744)\" x=\"1812.67\" y=\"208.744\">y1</text>\n",
       "</g>\n",
       "<circle clip-path=\"url(#clip8501)\" style=\"fill:#000000; stroke:none; fill-opacity:1\" cx=\"1728.67\" cy=\"251.724\" r=\"25\"/>\n",
       "<circle clip-path=\"url(#clip8501)\" style=\"fill:#e26f46; stroke:none; fill-opacity:1\" cx=\"1728.67\" cy=\"251.724\" r=\"21\"/>\n",
       "<g clip-path=\"url(#clip8501)\">\n",
       "<text style=\"fill:#000000; fill-opacity:1; font-family:Arial,Helvetica Neue,Helvetica,sans-serif; font-size:48px; text-anchor:start;\" transform=\"rotate(0, 1812.67, 269.224)\" x=\"1812.67\" y=\"269.224\">y2</text>\n",
       "</g>\n",
       "</svg>\n"
      ]
     },
     "execution_count": 17,
     "metadata": {},
     "output_type": "execute_result"
    }
   ],
   "source": [
    "predX = collect(range(-1, 1,length=10))\n",
    "predY = collect(range(-1, 1,length=10))\n",
    "predXY = [ [ predX[i], predY[j] ] for i in 1:10 for j in 1:10 ]\n",
    "predZ = Tracker.data.( modelReg.(predXY) )\n",
    "predD = zeros(0)\n",
    "for i in 1:length(predZ)\n",
    "    append!(predD , [ predXY[i][1], predXY[i][2], predZ[i][1] ])  \n",
    "end\n",
    "predD = reshape(predD,3,length(predZ))'\n",
    "# Tracker.data( modelReg.([[-1,0],[1,0]]) )\n",
    "# predD[:,1]\n",
    "scatter(regX, regY, regZ)\n",
    "scatter!( predD[:,1], predD[:,2], predD[:,3] )"
   ]
  },
  {
   "cell_type": "code",
   "execution_count": null,
   "metadata": {
    "collapsed": true
   },
   "outputs": [],
   "source": []
  }
 ],
 "metadata": {
  "anaconda-cloud": {},
  "celltoolbar": "Slideshow",
  "kernelspec": {
   "display_name": "Julia 1.0.1",
   "language": "julia",
   "name": "julia-1.0"
  },
  "language_info": {
   "file_extension": ".jl",
   "mimetype": "application/julia",
   "name": "julia",
   "version": "1.0.1"
  }
 },
 "nbformat": 4,
 "nbformat_minor": 2
}
