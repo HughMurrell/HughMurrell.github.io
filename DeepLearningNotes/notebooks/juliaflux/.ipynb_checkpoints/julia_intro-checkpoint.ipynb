{
 "cells": [
  {
   "cell_type": "markdown",
   "metadata": {
    "slideshow": {
     "slide_type": "slide"
    }
   },
   "source": [
    "## Introduction to  Julia for Deep Learning\n",
    "\n",
    "This introduction assumes that you have basic knowledge of some scripting language and provides examples of the Julia syntax and how to do Linear Algebra with Julia.\n"
   ]
  },
  {
   "cell_type": "markdown",
   "metadata": {
    "slideshow": {
     "slide_type": "slide"
    }
   },
   "source": [
    "### Documentation\n",
    "\n",
    "The main source of information is the Julia Documentation: https://docs.julialang.org/en/v1/\n",
    "\n",
    "You may find many other external resources useful, for example:\n",
    "\n",
    "https://www.analyticsvidhya.com/blog/2017/10/comprehensive-tutorial-learn-data-science-julia-from-scratch/\n",
    "\n"
   ]
  },
  {
   "cell_type": "markdown",
   "metadata": {
    "slideshow": {
     "slide_type": "slide"
    }
   },
   "source": [
    "## Installation\n",
    "\n",
    "Before we can start we need to set up our environment with the necessary tools and libraries for \n",
    "machine learning."
   ]
  },
  {
   "cell_type": "markdown",
   "metadata": {
    "slideshow": {
     "slide_type": "fragment"
    }
   },
   "source": [
    "### Installing Julia\n",
    "\n",
    "Download Julia for your specific system from here\n",
    "https://julialang.org/downloads/\n",
    "\n",
    "Follow the platform-specific instructions to install Julia on your system from here\n",
    "https://julialang.org/downloads/platform.html"
   ]
  },
  {
   "cell_type": "markdown",
   "metadata": {
    "slideshow": {
     "slide_type": "subslide"
    }
   },
   "source": [
    "If you have done everything correctly, you’ll get a Julia prompt from the terminal like this:\n",
    "\n",
    "<img src=images/repl_startup.png>"
   ]
  },
  {
   "cell_type": "markdown",
   "metadata": {},
   "source": [
    "This interface is known as the Julia REPL (Read, Execute, Print, Repeat).\n",
    "\n",
    "The Julia programmer can use the REPL to execute Julia commands and Julia scripts that are edited with a normal text editor. But a better environment is a Jupyter notebook which runs in your browser and comes with the IJulia package.\n",
    "\n",
    "The following screenshot shows you how to install the IJulia package (and any other package for that matter) and then start up a Jupyter notebook session."
   ]
  },
  {
   "cell_type": "markdown",
   "metadata": {},
   "source": [
    "<img src=images/add_IJulia_start_notebook.png>"
   ]
  },
  {
   "cell_type": "markdown",
   "metadata": {
    "slideshow": {
     "slide_type": "subslide"
    }
   },
   "source": [
    "Now that we have two Julia platform choices let's just treat Julia as a scripting language and take a head-first dive into Julia, and see what happens.\n",
    "\n",
    "Firstly, the Julia REPL itself provides lots of built-in documentation and ways to find out what's going on. \n",
    "\n",
    "For example, the ? gets you to the documentation for a function, whilst the ]? gets you documentation on the Julia package system."
   ]
  },
  {
   "cell_type": "code",
   "execution_count": 1,
   "metadata": {
    "collapsed": false,
    "slideshow": {
     "slide_type": "subslide"
    }
   },
   "outputs": [
    {
     "name": "stdout",
     "output_type": "stream",
     "text": [
      "search: \u001b[0m\u001b[1ms\u001b[22m\u001b[0m\u001b[1mp\u001b[22m\u001b[0m\u001b[1ml\u001b[22m\u001b[0m\u001b[1mi\u001b[22m\u001b[0m\u001b[1mt\u001b[22m \u001b[0m\u001b[1ms\u001b[22m\u001b[0m\u001b[1mp\u001b[22m\u001b[0m\u001b[1ml\u001b[22m\u001b[0m\u001b[1mi\u001b[22m\u001b[0m\u001b[1mt\u001b[22mext \u001b[0m\u001b[1ms\u001b[22m\u001b[0m\u001b[1mp\u001b[22m\u001b[0m\u001b[1ml\u001b[22m\u001b[0m\u001b[1mi\u001b[22m\u001b[0m\u001b[1mt\u001b[22mdir \u001b[0m\u001b[1ms\u001b[22m\u001b[0m\u001b[1mp\u001b[22m\u001b[0m\u001b[1ml\u001b[22m\u001b[0m\u001b[1mi\u001b[22m\u001b[0m\u001b[1mt\u001b[22mdrive r\u001b[0m\u001b[1ms\u001b[22m\u001b[0m\u001b[1mp\u001b[22m\u001b[0m\u001b[1ml\u001b[22m\u001b[0m\u001b[1mi\u001b[22m\u001b[0m\u001b[1mt\u001b[22m \u001b[0m\u001b[1ms\u001b[22m\u001b[0m\u001b[1mp\u001b[22m\u001b[0m\u001b[1ml\u001b[22m\u001b[0m\u001b[1mi\u001b[22mce! di\u001b[0m\u001b[1ms\u001b[22m\u001b[0m\u001b[1mp\u001b[22m\u001b[0m\u001b[1ml\u001b[22mays\u001b[0m\u001b[1mi\u001b[22mze\n",
      "\n"
     ]
    },
    {
     "data": {
      "text/markdown": [
       "```\n",
       "split(str::AbstractString, dlm; limit::Integer=0, keepempty::Bool=true)\n",
       "split(str::AbstractString; limit::Integer=0, keepempty::Bool=false)\n",
       "```\n",
       "\n",
       "Split `str` into an array of substrings on occurrences of the delimiter(s) `dlm`.  `dlm` can be any of the formats allowed by [`findnext`](@ref)'s first argument (i.e. as a string, regular expression or a function), or as a single character or collection of characters.\n",
       "\n",
       "If `dlm` is omitted, it defaults to [`isspace`](@ref).\n",
       "\n",
       "The optional keyword arguments are:\n",
       "\n",
       "  * `limit`: the maximum size of the result. `limit=0` implies no maximum (default)\n",
       "  * `keepempty`: whether empty fields should be kept in the result. Default is `false` without a `dlm` argument, `true` with a `dlm` argument.\n",
       "\n",
       "See also [`rsplit`](@ref).\n",
       "\n",
       "# Examples\n",
       "\n",
       "```jldoctest\n",
       "julia> a = \"Ma.rch\"\n",
       "\"Ma.rch\"\n",
       "\n",
       "julia> split(a,\".\")\n",
       "2-element Array{SubString{String},1}:\n",
       " \"Ma\"\n",
       " \"rch\"\n",
       "```\n"
      ],
      "text/plain": [
       "\u001b[36m  split(str::AbstractString, dlm; limit::Integer=0, keepempty::Bool=true)\u001b[39m\n",
       "\u001b[36m  split(str::AbstractString; limit::Integer=0, keepempty::Bool=false)\u001b[39m\n",
       "\n",
       "  Split \u001b[36mstr\u001b[39m into an array of substrings on occurrences of the delimiter(s)\n",
       "  \u001b[36mdlm\u001b[39m. \u001b[36mdlm\u001b[39m can be any of the formats allowed by \u001b[36mfindnext\u001b[39m's first argument\n",
       "  (i.e. as a string, regular expression or a function), or as a single\n",
       "  character or collection of characters.\n",
       "\n",
       "  If \u001b[36mdlm\u001b[39m is omitted, it defaults to \u001b[36misspace\u001b[39m.\n",
       "\n",
       "  The optional keyword arguments are:\n",
       "\n",
       "    •    \u001b[36mlimit\u001b[39m: the maximum size of the result. \u001b[36mlimit=0\u001b[39m implies no maximum\n",
       "        (default)\n",
       "\n",
       "    •    \u001b[36mkeepempty\u001b[39m: whether empty fields should be kept in the result.\n",
       "        Default is \u001b[36mfalse\u001b[39m without a \u001b[36mdlm\u001b[39m argument, \u001b[36mtrue\u001b[39m with a \u001b[36mdlm\u001b[39m argument.\n",
       "\n",
       "  See also \u001b[36mrsplit\u001b[39m.\n",
       "\n",
       "\u001b[1m  Examples\u001b[22m\n",
       "\u001b[1m  ≡≡≡≡≡≡≡≡≡≡\u001b[22m\n",
       "\n",
       "\u001b[36m  julia> a = \"Ma.rch\"\u001b[39m\n",
       "\u001b[36m  \"Ma.rch\"\u001b[39m\n",
       "\u001b[36m  \u001b[39m\n",
       "\u001b[36m  julia> split(a,\".\")\u001b[39m\n",
       "\u001b[36m  2-element Array{SubString{String},1}:\u001b[39m\n",
       "\u001b[36m   \"Ma\"\u001b[39m\n",
       "\u001b[36m   \"rch\"\u001b[39m"
      ]
     },
     "execution_count": 1,
     "metadata": {},
     "output_type": "execute_result"
    }
   ],
   "source": [
    "?split"
   ]
  },
  {
   "cell_type": "markdown",
   "metadata": {
    "slideshow": {
     "slide_type": "subslide"
    }
   },
   "source": [
    "To find out what methods are available, we can use the `methods` function. For example, let's see how `split` is defined:"
   ]
  },
  {
   "cell_type": "code",
   "execution_count": 2,
   "metadata": {
    "collapsed": false,
    "slideshow": {
     "slide_type": "fragment"
    }
   },
   "outputs": [
    {
     "data": {
      "text/html": [
       "4 methods for generic function <b>split</b>:<ul><li> split(str::<b>AbstractString</b>; <i>limit, keepempty</i>) in Base at <a href=\"https://github.com/JuliaLang/julia/tree/0d713926f85dfa3e4e0962215b909b8e47e94f48/base/strings/util.jl#L344\" target=\"_blank\">strings/util.jl:344</a></li> <li> split<i>{T<:AbstractString}</i>(str::<b>T</b>, splitter::<b>Union{Tuple{Vararg{AbstractChar,N} where N}, Set{#s51} where #s51<:AbstractChar, AbstractArray{#s52,1} where #s52<:AbstractChar}</b>; <i>limit, keepempty</i>) in Base at <a href=\"https://github.com/JuliaLang/julia/tree/0d713926f85dfa3e4e0962215b909b8e47e94f48/base/strings/util.jl#L310\" target=\"_blank\">strings/util.jl:310</a></li> <li> split<i>{T<:AbstractString}</i>(str::<b>T</b>, splitter::<b>AbstractChar</b>; <i>limit, keepempty</i>) in Base at <a href=\"https://github.com/JuliaLang/julia/tree/0d713926f85dfa3e4e0962215b909b8e47e94f48/base/strings/util.jl#L314\" target=\"_blank\">strings/util.jl:314</a></li> <li> split<i>{T<:AbstractString}</i>(str::<b>T</b>, splitter; <i>limit, keepempty</i>) in Base at <a href=\"https://github.com/JuliaLang/julia/tree/0d713926f85dfa3e4e0962215b909b8e47e94f48/base/strings/util.jl#L306\" target=\"_blank\">strings/util.jl:306</a></li> </ul>"
      ],
      "text/plain": [
       "# 4 methods for generic function \"split\":\n",
       "[1] split(str::AbstractString; limit, keepempty) in Base at strings/util.jl:344\n",
       "[2] split(str::T, splitter::Union{Tuple{Vararg{AbstractChar,N} where N}, Set{#s51} where #s51<:AbstractChar, AbstractArray{#s52,1} where #s52<:AbstractChar}; limit, keepempty) where T<:AbstractString in Base at strings/util.jl:310\n",
       "[3] split(str::T, splitter::AbstractChar; limit, keepempty) where T<:AbstractString in Base at strings/util.jl:314\n",
       "[4] split(str::T, splitter; limit, keepempty) where T<:AbstractString in Base at strings/util.jl:306"
      ]
     },
     "execution_count": 2,
     "metadata": {},
     "output_type": "execute_result"
    }
   ],
   "source": [
    "methods(split)"
   ]
  },
  {
   "cell_type": "markdown",
   "metadata": {
    "slideshow": {
     "slide_type": "subslide"
    }
   },
   "source": [
    "We can inspect a type by finding its fields with `fieldnames`"
   ]
  },
  {
   "cell_type": "code",
   "execution_count": 5,
   "metadata": {
    "collapsed": false
   },
   "outputs": [
    {
     "name": "stdout",
     "output_type": "stream",
     "text": [
      "  \u001b[1mWelcome to the Pkg REPL-mode\u001b[22m. To return to the \u001b[36mjulia>\u001b[39m prompt, either press\n",
      "  backspace when the input line is empty or press Ctrl+C.\n",
      "\n",
      "  \u001b[1mSynopsis\u001b[22m\n",
      "\n",
      "\u001b[36m  pkg> cmd [opts] [args]\u001b[39m\n",
      "\n",
      "  Multiple commands can be given on the same line by interleaving a \u001b[36m;\u001b[39m between\n",
      "  the commands.\n",
      "\n",
      "  \u001b[1mCommands\u001b[22m\n",
      "\n",
      "  \u001b[36mactivate\u001b[39m: set the primary environment the package manager manipulates\n",
      "\n",
      "  \u001b[36madd\u001b[39m: add packages to project\n",
      "\n",
      "  \u001b[36mbuild\u001b[39m: run the build script for packages\n",
      "\n",
      "  \u001b[36mdevelop\u001b[39m: clone the full package repo locally for development\n",
      "\n",
      "  \u001b[36mfree\u001b[39m: undoes a \u001b[36mpin\u001b[39m, \u001b[36mdevelop\u001b[39m, or stops tracking a repo\n",
      "\n",
      "  \u001b[36mgc\u001b[39m: garbage collect packages not used for a significant time\n",
      "\n",
      "  \u001b[36mgenerate\u001b[39m: generate files for a new project\n",
      "\n",
      "  \u001b[36mhelp\u001b[39m: show this message\n",
      "\n",
      "  \u001b[36minstantiate\u001b[39m: downloads all the dependencies for the project\n",
      "\n",
      "  \u001b[36mpin\u001b[39m: pins the version of packages\n",
      "\n",
      "  \u001b[36mprecompile\u001b[39m: precompile all the project dependencies\n",
      "\n",
      "  \u001b[36mpreview\u001b[39m: previews a subsequent command without affecting the current state\n",
      "\n",
      "  \u001b[36mremove\u001b[39m: remove packages from project or manifest\n",
      "\n",
      "  \u001b[36mresolve\u001b[39m: resolves to update the manifest from changes in dependencies of\n",
      "  developed packages\n",
      "\n",
      "  \u001b[36mstatus\u001b[39m: summarize contents of and changes to environment\n",
      "\n",
      "  \u001b[36mtest\u001b[39m: run tests for packages\n",
      "\n",
      "  \u001b[36mupdate\u001b[39m: update packages in manifest"
     ]
    }
   ],
   "source": [
    "]?"
   ]
  },
  {
   "cell_type": "code",
   "execution_count": 7,
   "metadata": {
    "collapsed": false,
    "slideshow": {
     "slide_type": "subslide"
    }
   },
   "outputs": [
    {
     "name": "stdout",
     "output_type": "stream",
     "text": [
      "search: \u001b[0m\u001b[1mr\u001b[22m\u001b[0m\u001b[1ma\u001b[22m\u001b[0m\u001b[1mn\u001b[22m\u001b[0m\u001b[1mg\u001b[22m\u001b[0m\u001b[1me\u001b[22m Lin\u001b[0m\u001b[1mR\u001b[22m\u001b[0m\u001b[1ma\u001b[22m\u001b[0m\u001b[1mn\u001b[22m\u001b[0m\u001b[1mg\u001b[22m\u001b[0m\u001b[1me\u001b[22m Unit\u001b[0m\u001b[1mR\u001b[22m\u001b[0m\u001b[1ma\u001b[22m\u001b[0m\u001b[1mn\u001b[22m\u001b[0m\u001b[1mg\u001b[22m\u001b[0m\u001b[1me\u001b[22m Step\u001b[0m\u001b[1mR\u001b[22m\u001b[0m\u001b[1ma\u001b[22m\u001b[0m\u001b[1mn\u001b[22m\u001b[0m\u001b[1mg\u001b[22m\u001b[0m\u001b[1me\u001b[22m Step\u001b[0m\u001b[1mR\u001b[22m\u001b[0m\u001b[1ma\u001b[22m\u001b[0m\u001b[1mn\u001b[22m\u001b[0m\u001b[1mg\u001b[22m\u001b[0m\u001b[1me\u001b[22mLen t\u001b[0m\u001b[1mr\u001b[22m\u001b[0m\u001b[1ma\u001b[22mili\u001b[0m\u001b[1mn\u001b[22m\u001b[0m\u001b[1mg\u001b[22m_z\u001b[0m\u001b[1me\u001b[22mros\n",
      "\n"
     ]
    },
    {
     "data": {
      "text/markdown": [
       "```\n",
       "range(start; length, stop, step=1)\n",
       "```\n",
       "\n",
       "Given a starting value, construct a range either by length or from `start` to `stop`, optionally with a given step (defaults to 1, a [`UnitRange`](@ref)). One of `length` or `stop` is required.  If `length`, `stop`, and `step` are all specified, they must agree.\n",
       "\n",
       "If `length` and `stop` are provided and `step` is not, the step size will be computed automatically such that there are `length` linearly spaced elements in the range (a [`LinRange`](@ref)).\n",
       "\n",
       "If `step` and `stop` are provided and `length` is not, the overall range length will be computed automatically such that the elements are `step` spaced (a [`StepRange`](@ref)).\n",
       "\n",
       "# Examples\n",
       "\n",
       "```jldoctest\n",
       "julia> range(1, length=100)\n",
       "1:100\n",
       "\n",
       "julia> range(1, stop=100)\n",
       "1:100\n",
       "\n",
       "julia> range(1, step=5, length=100)\n",
       "1:5:496\n",
       "\n",
       "julia> range(1, step=5, stop=100)\n",
       "1:5:96\n",
       "```\n"
      ],
      "text/plain": [
       "\u001b[36m  range(start; length, stop, step=1)\u001b[39m\n",
       "\n",
       "  Given a starting value, construct a range either by length or from \u001b[36mstart\u001b[39m to\n",
       "  \u001b[36mstop\u001b[39m, optionally with a given step (defaults to 1, a \u001b[36mUnitRange\u001b[39m). One of\n",
       "  \u001b[36mlength\u001b[39m or \u001b[36mstop\u001b[39m is required. If \u001b[36mlength\u001b[39m, \u001b[36mstop\u001b[39m, and \u001b[36mstep\u001b[39m are all specified,\n",
       "  they must agree.\n",
       "\n",
       "  If \u001b[36mlength\u001b[39m and \u001b[36mstop\u001b[39m are provided and \u001b[36mstep\u001b[39m is not, the step size will be\n",
       "  computed automatically such that there are \u001b[36mlength\u001b[39m linearly spaced elements\n",
       "  in the range (a \u001b[36mLinRange\u001b[39m).\n",
       "\n",
       "  If \u001b[36mstep\u001b[39m and \u001b[36mstop\u001b[39m are provided and \u001b[36mlength\u001b[39m is not, the overall range length\n",
       "  will be computed automatically such that the elements are \u001b[36mstep\u001b[39m spaced (a\n",
       "  \u001b[36mStepRange\u001b[39m).\n",
       "\n",
       "\u001b[1m  Examples\u001b[22m\n",
       "\u001b[1m  ≡≡≡≡≡≡≡≡≡≡\u001b[22m\n",
       "\n",
       "\u001b[36m  julia> range(1, length=100)\u001b[39m\n",
       "\u001b[36m  1:100\u001b[39m\n",
       "\u001b[36m  \u001b[39m\n",
       "\u001b[36m  julia> range(1, stop=100)\u001b[39m\n",
       "\u001b[36m  1:100\u001b[39m\n",
       "\u001b[36m  \u001b[39m\n",
       "\u001b[36m  julia> range(1, step=5, length=100)\u001b[39m\n",
       "\u001b[36m  1:5:496\u001b[39m\n",
       "\u001b[36m  \u001b[39m\n",
       "\u001b[36m  julia> range(1, step=5, stop=100)\u001b[39m\n",
       "\u001b[36m  1:5:96\u001b[39m"
      ]
     },
     "execution_count": 7,
     "metadata": {},
     "output_type": "execute_result"
    }
   ],
   "source": [
    "?range"
   ]
  },
  {
   "cell_type": "markdown",
   "metadata": {
    "slideshow": {
     "slide_type": "fragment"
    }
   },
   "source": [
    "more about iterators later."
   ]
  },
  {
   "cell_type": "markdown",
   "metadata": {
    "slideshow": {
     "slide_type": "subslide"
    }
   },
   "source": [
    "We can find out what type a variable is with the `typeof` function:"
   ]
  },
  {
   "cell_type": "code",
   "execution_count": 10,
   "metadata": {
    "collapsed": false,
    "slideshow": {
     "slide_type": "fragment"
    }
   },
   "outputs": [
    {
     "data": {
      "text/plain": [
       "Array{Int64,2}"
      ]
     },
     "execution_count": 10,
     "metadata": {},
     "output_type": "execute_result"
    }
   ],
   "source": [
    "a = [1 2 3; 5 4 6; 9 8 7]\n",
    "typeof(a)"
   ]
  },
  {
   "cell_type": "code",
   "execution_count": 11,
   "metadata": {
    "collapsed": false,
    "slideshow": {
     "slide_type": "fragment"
    }
   },
   "outputs": [
    {
     "data": {
      "text/plain": [
       "3×3 Array{Float64,2}:\n",
       " 1.0  1.11022e-16   9.71445e-17\n",
       " 0.0  1.0          -4.44089e-16\n",
       " 0.0  2.22045e-16   1.0        "
      ]
     },
     "execution_count": 11,
     "metadata": {},
     "output_type": "execute_result"
    }
   ],
   "source": [
    "inv(a) * a"
   ]
  },
  {
   "cell_type": "markdown",
   "metadata": {
    "slideshow": {
     "slide_type": "slide"
    }
   },
   "source": [
    "### Array Syntax\n",
    "\n",
    "The array syntax is similar to MATLAB's conventions. "
   ]
  },
  {
   "cell_type": "code",
   "execution_count": 1,
   "metadata": {
    "collapsed": false,
    "slideshow": {
     "slide_type": "subslide"
    }
   },
   "outputs": [
    {
     "data": {
      "text/plain": [
       "1×4 Array{Int64,2}:\n",
       " 1  2  2  4"
      ]
     },
     "execution_count": 1,
     "metadata": {},
     "output_type": "execute_result"
    }
   ],
   "source": [
    "a = Vector{Float64}(5) # Create a length 5 Vector (dimension 1 array) of Float64's\n",
    "\n",
    "a = [1;2;3;4;5] # Create the column vector [1 2 3 4 5]\n",
    "\n",
    "a = [1 2 3 4] # Create the row vector [1 2 3 4]\n",
    "\n",
    "a[3] = 2 # Change the third element of a (using linear indexing) to 2\n",
    "\n",
    "a"
   ]
  },
  {
   "cell_type": "code",
   "execution_count": 7,
   "metadata": {
    "collapsed": false,
    "slideshow": {
     "slide_type": "subslide"
    }
   },
   "outputs": [
    {
     "data": {
      "text/plain": [
       "4×4 Array{Int64,2}:\n",
       " 1  4  3  4\n",
       " 3  4  5  6\n",
       " 4  4  4  6\n",
       " 3  3  3  3"
      ]
     },
     "execution_count": 7,
     "metadata": {},
     "output_type": "execute_result"
    }
   ],
   "source": [
    "b = Matrix{Float64}(4,2) # Define a Matrix of Float64's of size (4,2)\n",
    "\n",
    "c = Array{Float64}(4,5,6,7) # Define a (4,5,6,7) array of Float64's \n",
    "\n",
    "mat    = [1 2 3 4\n",
    "          3 4 5 6\n",
    "          4 4 4 6\n",
    "          3 3 3 3] #Define the matrix inline \n",
    "\n",
    "mat[1,2] = 4 # Set element (1,2) (row 1, column 2) to 4\n",
    "\n",
    "mat"
   ]
  },
  {
   "cell_type": "markdown",
   "metadata": {
    "slideshow": {
     "slide_type": "subslide"
    }
   },
   "source": [
    "Note that the \"value\" of an array is its pointer to the memory location. This means that arrays which are set equal affect the same values:"
   ]
  },
  {
   "cell_type": "code",
   "execution_count": 8,
   "metadata": {
    "collapsed": false,
    "slideshow": {
     "slide_type": "fragment"
    }
   },
   "outputs": [
    {
     "data": {
      "text/plain": [
       "3-element Array{Int64,1}:\n",
       " 10\n",
       "  3\n",
       "  4"
      ]
     },
     "execution_count": 8,
     "metadata": {},
     "output_type": "execute_result"
    }
   ],
   "source": [
    "a = [1;3;4]\n",
    "b = a\n",
    "b[1] = 10\n",
    "a"
   ]
  },
  {
   "cell_type": "markdown",
   "metadata": {
    "slideshow": {
     "slide_type": "subslide"
    }
   },
   "source": [
    "To set an array equal to the values to another array, use copy"
   ]
  },
  {
   "cell_type": "code",
   "execution_count": 9,
   "metadata": {
    "collapsed": false,
    "slideshow": {
     "slide_type": "fragment"
    }
   },
   "outputs": [
    {
     "data": {
      "text/plain": [
       "3-element Array{Int64,1}:\n",
       " 1\n",
       " 4\n",
       " 5"
      ]
     },
     "execution_count": 9,
     "metadata": {},
     "output_type": "execute_result"
    }
   ],
   "source": [
    "a = [1;4;5]\n",
    "b = copy(a)\n",
    "b[1] = 10\n",
    "a"
   ]
  },
  {
   "cell_type": "markdown",
   "metadata": {
    "slideshow": {
     "slide_type": "subslide"
    }
   },
   "source": [
    "We can also make an array of a similar size and shape via the function `similar`, or make an array of zeros/ones with `zeros` or `ones` respectively:"
   ]
  },
  {
   "cell_type": "code",
   "execution_count": 23,
   "metadata": {
    "collapsed": false,
    "slideshow": {
     "slide_type": "fragment"
    }
   },
   "outputs": [
    {
     "name": "stdout",
     "output_type": "stream",
     "text": [
      "[4511614368 4511614400 4461949616]\n",
      "[0 0 0]\n",
      "[1 1 1]\n"
     ]
    }
   ],
   "source": [
    "a = [1 4 5]\n",
    "c = similar(a)\n",
    "d = zeros(a)\n",
    "e = ones(a)\n",
    "println(c); println(d); println(e)"
   ]
  },
  {
   "cell_type": "markdown",
   "metadata": {
    "slideshow": {
     "slide_type": "subslide"
    }
   },
   "source": [
    "Note that arrays can be index'd by arrays:"
   ]
  },
  {
   "cell_type": "code",
   "execution_count": 11,
   "metadata": {
    "collapsed": false,
    "slideshow": {
     "slide_type": "fragment"
    }
   },
   "outputs": [
    {
     "data": {
      "text/plain": [
       "2-element Array{Int64,1}:\n",
       " 1\n",
       " 4"
      ]
     },
     "execution_count": 11,
     "metadata": {},
     "output_type": "execute_result"
    }
   ],
   "source": [
    "a[1:2]"
   ]
  },
  {
   "cell_type": "markdown",
   "metadata": {
    "slideshow": {
     "slide_type": "subslide"
    }
   },
   "source": [
    "Arrays can be of any type, specified by the type parameter. One interesting thing is that this means that arrays can be of arrays:"
   ]
  },
  {
   "cell_type": "code",
   "execution_count": 12,
   "metadata": {
    "collapsed": false,
    "slideshow": {
     "slide_type": "fragment"
    }
   },
   "outputs": [
    {
     "data": {
      "text/plain": [
       "3-element Array{Array{Float64,1},1}:\n",
       " [1.0,2.0,3.0]\n",
       " [1.0,2.0]    \n",
       " [3.0,4.0,5.0]"
      ]
     },
     "execution_count": 12,
     "metadata": {},
     "output_type": "execute_result"
    }
   ],
   "source": [
    "a = Vector{Vector{Float64}}(3)\n",
    "a[1] = [1;2;3]\n",
    "a[2] = [1;2]\n",
    "a[3] = [3;4;5]\n",
    "a"
   ]
  },
  {
   "cell_type": "markdown",
   "metadata": {
    "slideshow": {
     "slide_type": "subslide"
    }
   },
   "source": [
    "Again assignment sets array addresses equal:"
   ]
  },
  {
   "cell_type": "code",
   "execution_count": 13,
   "metadata": {
    "collapsed": false,
    "slideshow": {
     "slide_type": "fragment"
    }
   },
   "outputs": [
    {
     "data": {
      "text/plain": [
       "3-element Array{Array{Float64,1},1}:\n",
       " [1.0,4.0,5.0,9.0]\n",
       " [1.0,2.0]        \n",
       " [3.0,4.0,5.0]    "
      ]
     },
     "execution_count": 13,
     "metadata": {},
     "output_type": "execute_result"
    }
   ],
   "source": [
    "b = a\n",
    "b[1] = [1;4;5;9]\n",
    "a"
   ]
  },
  {
   "cell_type": "markdown",
   "metadata": {
    "slideshow": {
     "slide_type": "subslide"
    }
   },
   "source": [
    "To solve this, there is a recursive copy function: `deepcopy`"
   ]
  },
  {
   "cell_type": "code",
   "execution_count": 14,
   "metadata": {
    "collapsed": false,
    "slideshow": {
     "slide_type": "fragment"
    }
   },
   "outputs": [
    {
     "data": {
      "text/plain": [
       "3-element Array{Array{Float64,1},1}:\n",
       " [1.0,4.0,5.0,9.0]\n",
       " [1.0,2.0]        \n",
       " [3.0,4.0,5.0]    "
      ]
     },
     "execution_count": 14,
     "metadata": {},
     "output_type": "execute_result"
    }
   ],
   "source": [
    "b = deepcopy(a)\n",
    "b[1] = [1;2;3]\n",
    "a"
   ]
  },
  {
   "cell_type": "markdown",
   "metadata": {
    "slideshow": {
     "slide_type": "slide"
    }
   },
   "source": [
    "### Mutating functions"
   ]
  },
  {
   "cell_type": "markdown",
   "metadata": {
    "slideshow": {
     "slide_type": "subslide"
    }
   },
   "source": [
    "For high performance, Julia provides mutating functions. These functions change the input values that are passed in, instead of returning a new value. \n",
    "\n",
    "By convention, mutating functions tend to be defined with a `!` at the end and tend to mutate their first argument. "
   ]
  },
  {
   "cell_type": "markdown",
   "metadata": {
    "slideshow": {
     "slide_type": "subslide"
    }
   },
   "source": [
    "An example of a mutating function in `scale!` which scales an array by a scalar (or array)"
   ]
  },
  {
   "cell_type": "code",
   "execution_count": 15,
   "metadata": {
    "collapsed": false,
    "slideshow": {
     "slide_type": "fragment"
    }
   },
   "outputs": [
    {
     "data": {
      "text/plain": [
       "3-element Array{Int64,1}:\n",
       "  2\n",
       " 12\n",
       " 16"
      ]
     },
     "execution_count": 15,
     "metadata": {},
     "output_type": "execute_result"
    }
   ],
   "source": [
    "a = [1;6;8]\n",
    "scale!(a,2) # a changes"
   ]
  },
  {
   "cell_type": "markdown",
   "metadata": {
    "slideshow": {
     "slide_type": "fragment"
    }
   },
   "source": [
    "The purpose of mutating functions is that they allow one to reduce the number of memory allocations which is crucial for achiving high performance."
   ]
  },
  {
   "cell_type": "markdown",
   "metadata": {
    "slideshow": {
     "slide_type": "slide"
    }
   },
   "source": [
    "## Control Flow\n",
    "\n",
    "Control flow in Julia is pretty standard. You have your basic for and while loops, and your if statements. There's more in the documentation."
   ]
  },
  {
   "cell_type": "code",
   "execution_count": 16,
   "metadata": {
    "collapsed": false,
    "slideshow": {
     "slide_type": "subslide"
    }
   },
   "outputs": [
    {
     "name": "stdout",
     "output_type": "stream",
     "text": [
      "1 2 3 4 5 \n",
      "0 1 2 3 4 \n",
      "yay!\n"
     ]
    }
   ],
   "source": [
    "for i=1:5 #for i goes from 1 to 5\n",
    "    print(i,\" \")\n",
    "end\n",
    "println()\n",
    "\n",
    "t = 0\n",
    "while t<5\n",
    "    print(t,\" \")\n",
    "    t+=1 # t = t + 1\n",
    "end\n",
    "println()\n",
    "\n",
    "school = :UKZN\n",
    "if school==:UKZN\n",
    "    println(\"yay!\")\n",
    "else\n",
    "    println(\"Not even worth discussing.\")\n",
    "end"
   ]
  },
  {
   "cell_type": "markdown",
   "metadata": {
    "slideshow": {
     "slide_type": "subslide"
    }
   },
   "source": [
    "One interesting feature about Julia control flow is that we can write multiple loops in one line:"
   ]
  },
  {
   "cell_type": "code",
   "execution_count": 17,
   "metadata": {
    "collapsed": false,
    "slideshow": {
     "slide_type": "fragment"
    }
   },
   "outputs": [
    {
     "name": "stdout",
     "output_type": "stream",
     "text": [
      "2 3 4 4 6 8 "
     ]
    }
   ],
   "source": [
    "for i=1:2,j=2:4\n",
    "    print(i*j,\" \")\n",
    "end"
   ]
  },
  {
   "cell_type": "markdown",
   "metadata": {
    "slideshow": {
     "slide_type": "slide"
    }
   },
   "source": [
    "## Function Syntax"
   ]
  },
  {
   "cell_type": "code",
   "execution_count": 18,
   "metadata": {
    "collapsed": false,
    "slideshow": {
     "slide_type": "subslide"
    }
   },
   "outputs": [
    {
     "data": {
      "text/plain": [
       "f (generic function with 1 method)"
      ]
     },
     "execution_count": 18,
     "metadata": {},
     "output_type": "execute_result"
    }
   ],
   "source": [
    "f(x,y) = 2x+y # Create an inline function"
   ]
  },
  {
   "cell_type": "code",
   "execution_count": 19,
   "metadata": {
    "collapsed": false,
    "slideshow": {
     "slide_type": "fragment"
    }
   },
   "outputs": [
    {
     "data": {
      "text/plain": [
       "4"
      ]
     },
     "execution_count": 19,
     "metadata": {},
     "output_type": "execute_result"
    }
   ],
   "source": [
    "f(1,2) # Call the function"
   ]
  },
  {
   "cell_type": "code",
   "execution_count": 20,
   "metadata": {
    "collapsed": false,
    "slideshow": {
     "slide_type": "fragment"
    }
   },
   "outputs": [
    {
     "data": {
      "text/plain": [
       "f (generic function with 2 methods)"
      ]
     },
     "execution_count": 20,
     "metadata": {},
     "output_type": "execute_result"
    }
   ],
   "source": [
    "function f(x)\n",
    "  x+2  \n",
    "end # Long form definition"
   ]
  },
  {
   "cell_type": "markdown",
   "metadata": {
    "slideshow": {
     "slide_type": "subslide"
    }
   },
   "source": [
    "By default, Julia functions return the last value computed within them."
   ]
  },
  {
   "cell_type": "code",
   "execution_count": 21,
   "metadata": {
    "collapsed": false,
    "slideshow": {
     "slide_type": "fragment"
    }
   },
   "outputs": [
    {
     "data": {
      "text/plain": [
       "4"
      ]
     },
     "execution_count": 21,
     "metadata": {},
     "output_type": "execute_result"
    }
   ],
   "source": [
    "f(2)"
   ]
  },
  {
   "cell_type": "markdown",
   "metadata": {
    "slideshow": {
     "slide_type": "slide"
    }
   },
   "source": [
    "### Multiple Dispatch\n",
    "\n",
    "A key feature of Julia is multiple dispatch. \n",
    "\n",
    "Suppose that there is \"one function\", `f`, with two methods. \n",
    "\n",
    "Methods are the actionable parts of a function. One method defined as `f(::Any,::Any)` and another as `f(::Any)`, meaning that if you give `f` two values then it will call the first method, and if you give it one value then it will call the second method."
   ]
  },
  {
   "cell_type": "markdown",
   "metadata": {
    "slideshow": {
     "slide_type": "subslide"
    }
   },
   "source": [
    "Multiple dispatch works on types. To define a dispatch on a type, use a `::Type` signifier:"
   ]
  },
  {
   "cell_type": "code",
   "execution_count": 2,
   "metadata": {
    "collapsed": false,
    "slideshow": {
     "slide_type": "fragment"
    }
   },
   "outputs": [
    {
     "data": {
      "text/plain": [
       "f (generic function with 1 method)"
      ]
     },
     "execution_count": 2,
     "metadata": {},
     "output_type": "execute_result"
    }
   ],
   "source": [
    "f(x,y) = 2x+y "
   ]
  },
  {
   "cell_type": "code",
   "execution_count": 3,
   "metadata": {
    "collapsed": false,
    "slideshow": {
     "slide_type": "fragment"
    }
   },
   "outputs": [
    {
     "data": {
      "text/plain": [
       "f (generic function with 2 methods)"
      ]
     },
     "execution_count": 3,
     "metadata": {},
     "output_type": "execute_result"
    }
   ],
   "source": [
    "f(x::Int,y::Int) = 3x+2y"
   ]
  },
  {
   "cell_type": "markdown",
   "metadata": {
    "slideshow": {
     "slide_type": "subslide"
    }
   },
   "source": [
    "Julia will dispatch onto the strictest acceptible type signature."
   ]
  },
  {
   "cell_type": "code",
   "execution_count": 24,
   "metadata": {
    "collapsed": false,
    "slideshow": {
     "slide_type": "fragment"
    }
   },
   "outputs": [
    {
     "data": {
      "text/plain": [
       "12"
      ]
     },
     "execution_count": 24,
     "metadata": {},
     "output_type": "execute_result"
    }
   ],
   "source": [
    "f(2,3) # 3x+2y"
   ]
  },
  {
   "cell_type": "code",
   "execution_count": 25,
   "metadata": {
    "collapsed": false,
    "slideshow": {
     "slide_type": "fragment"
    }
   },
   "outputs": [
    {
     "data": {
      "text/plain": [
       "7.0"
      ]
     },
     "execution_count": 25,
     "metadata": {},
     "output_type": "execute_result"
    }
   ],
   "source": [
    "f(2.0,3) # 2x+y since 2.0 is not an Int"
   ]
  },
  {
   "cell_type": "markdown",
   "metadata": {
    "slideshow": {
     "slide_type": "subslide"
    }
   },
   "source": [
    "Types in signatures can be parametric. For example, we can define a method for \"two values are passed in, both Numbers and having the same type\". Note that `<:` means \"a subtype of\"."
   ]
  },
  {
   "cell_type": "code",
   "execution_count": 26,
   "metadata": {
    "collapsed": false,
    "slideshow": {
     "slide_type": "fragment"
    }
   },
   "outputs": [
    {
     "data": {
      "text/plain": [
       "f (generic function with 4 methods)"
      ]
     },
     "execution_count": 26,
     "metadata": {},
     "output_type": "execute_result"
    }
   ],
   "source": [
    "f{T<:Number}(x::T,y::T) = 4x+10y"
   ]
  },
  {
   "cell_type": "code",
   "execution_count": 27,
   "metadata": {
    "collapsed": false,
    "slideshow": {
     "slide_type": "subslide"
    }
   },
   "outputs": [
    {
     "data": {
      "text/plain": [
       "12"
      ]
     },
     "execution_count": 27,
     "metadata": {},
     "output_type": "execute_result"
    }
   ],
   "source": [
    "f(2,3) # 3x+2y since (::Int,::Int) is stricter"
   ]
  },
  {
   "cell_type": "code",
   "execution_count": 28,
   "metadata": {
    "collapsed": false,
    "slideshow": {
     "slide_type": "fragment"
    }
   },
   "outputs": [
    {
     "data": {
      "text/plain": [
       "38.0"
      ]
     },
     "execution_count": 28,
     "metadata": {},
     "output_type": "execute_result"
    }
   ],
   "source": [
    "f(2.0,3.0) # 4x+10y"
   ]
  },
  {
   "cell_type": "code",
   "execution_count": 29,
   "metadata": {
    "collapsed": false,
    "slideshow": {
     "slide_type": "fragment"
    }
   },
   "outputs": [
    {
     "data": {
      "text/plain": [
       "14 + 28im"
      ]
     },
     "execution_count": 29,
     "metadata": {},
     "output_type": "execute_result"
    }
   ],
   "source": [
    "f(1+2im,1+2im)"
   ]
  },
  {
   "cell_type": "markdown",
   "metadata": {
    "slideshow": {
     "slide_type": "subslide"
    }
   },
   "source": [
    "We will go into more depth on multiple dispatch later since this is the core design feature of Julia. \n",
    "\n",
    "The key feature is that Julia functions specialize on the types of their arguments. \n",
    "\n",
    "This means that `f` is a separately compiled function for each method (and for parametric types, each possible method). The first time it is called it will compile."
   ]
  },
  {
   "cell_type": "markdown",
   "metadata": {
    "slideshow": {
     "slide_type": "subslide"
    }
   },
   "source": [
    "#### Question\n",
    "\n",
    "Can you explain these timings?"
   ]
  },
  {
   "cell_type": "code",
   "execution_count": 30,
   "metadata": {
    "collapsed": false,
    "slideshow": {
     "slide_type": "fragment"
    }
   },
   "outputs": [
    {
     "name": "stdout",
     "output_type": "stream",
     "text": [
      "  0.002233 seconds (385 allocations: 21.072 KB)\n",
      "  0.000001 seconds (4 allocations: 160 bytes)\n",
      "  0.000001 seconds (3 allocations: 144 bytes)\n",
      "  0.003505 seconds (1.33 k allocations: 69.866 KB)\n",
      "  0.000001 seconds (5 allocations: 176 bytes)\n"
     ]
    },
    {
     "data": {
      "text/plain": [
       "4.0"
      ]
     },
     "execution_count": 30,
     "metadata": {},
     "output_type": "execute_result"
    }
   ],
   "source": [
    "f(x,y,z,w) = x+y+z+w\n",
    "@time f(1,1,1,1)\n",
    "@time f(1,1,1,1)\n",
    "@time f(1,1,1,1)\n",
    "@time f(1,1,1,1.0)\n",
    "@time f(1,1,1,1.0)"
   ]
  },
  {
   "cell_type": "markdown",
   "metadata": {
    "slideshow": {
     "slide_type": "subslide"
    }
   },
   "source": [
    "functions can also feature optional arguments and return multiple values:"
   ]
  },
  {
   "cell_type": "code",
   "execution_count": 31,
   "metadata": {
    "collapsed": false,
    "slideshow": {
     "slide_type": "subslide"
    }
   },
   "outputs": [
    {
     "data": {
      "text/plain": [
       "test_function (generic function with 1 method)"
      ]
     },
     "execution_count": 31,
     "metadata": {},
     "output_type": "execute_result"
    }
   ],
   "source": [
    "function test_function(x,y;z=0) #z is an optional argument\n",
    "  if z==0\n",
    "    return x+y,x*y #Return a tuple\n",
    "  else\n",
    "  return x*y*z,x+y+z #Return a different tuple\n",
    "  end \n",
    "end "
   ]
  },
  {
   "cell_type": "code",
   "execution_count": 32,
   "metadata": {
    "collapsed": false,
    "slideshow": {
     "slide_type": "fragment"
    }
   },
   "outputs": [
    {
     "data": {
      "text/plain": [
       "(3,2)"
      ]
     },
     "execution_count": 32,
     "metadata": {},
     "output_type": "execute_result"
    }
   ],
   "source": [
    "x,y = test_function(1,2)"
   ]
  },
  {
   "cell_type": "code",
   "execution_count": 33,
   "metadata": {
    "collapsed": false,
    "slideshow": {
     "slide_type": "fragment"
    }
   },
   "outputs": [
    {
     "data": {
      "text/plain": [
       "(6,6)"
      ]
     },
     "execution_count": 33,
     "metadata": {},
     "output_type": "execute_result"
    }
   ],
   "source": [
    "x,y = test_function(1,2;z=3)"
   ]
  },
  {
   "cell_type": "markdown",
   "metadata": {
    "slideshow": {
     "slide_type": "subslide"
    }
   },
   "source": [
    "The return type for multiple return values is a Tuple. \n",
    "\n",
    "The syntax for a tuple is `(x,y,z,...)` or inside of functions you can use the shorthand `x,y,z,...` "
   ]
  },
  {
   "cell_type": "markdown",
   "metadata": {
    "slideshow": {
     "slide_type": "subslide"
    }
   },
   "source": [
    "Note that functions in Julia are \"first-class\". This means that functions are just a type themselves. \n",
    "\n",
    "Therefore functions can make functions, you can store functions as variables, pass them as variables and return them. \n",
    "\n",
    "For example:"
   ]
  },
  {
   "cell_type": "code",
   "execution_count": 34,
   "metadata": {
    "collapsed": false,
    "slideshow": {
     "slide_type": "subslide"
    }
   },
   "outputs": [
    {
     "data": {
      "text/plain": [
       "playtime (generic function with 1 method)"
      ]
     },
     "execution_count": 34,
     "metadata": {},
     "output_type": "execute_result"
    }
   ],
   "source": [
    "function playtime(x) \n",
    "    y = 2+x\n",
    "    function test(z=1)\n",
    "        2y + z # y is defined in the previous scope, so it's available here\n",
    "    end\n",
    "    z = test() * test()\n",
    "    return z,test\n",
    "end #End function definition"
   ]
  },
  {
   "cell_type": "code",
   "execution_count": 35,
   "metadata": {
    "collapsed": false,
    "slideshow": {
     "slide_type": "fragment"
    }
   },
   "outputs": [
    {
     "data": {
      "text/plain": [
       "(81,test)"
      ]
     },
     "execution_count": 35,
     "metadata": {},
     "output_type": "execute_result"
    }
   ],
   "source": [
    "z,t = playtime(2)"
   ]
  },
  {
   "cell_type": "code",
   "execution_count": 36,
   "metadata": {
    "collapsed": false,
    "slideshow": {
     "slide_type": "fragment"
    }
   },
   "outputs": [
    {
     "data": {
      "text/plain": [
       "11"
      ]
     },
     "execution_count": 36,
     "metadata": {},
     "output_type": "execute_result"
    }
   ],
   "source": [
    "t(3)"
   ]
  },
  {
   "cell_type": "markdown",
   "metadata": {
    "slideshow": {
     "slide_type": "subslide"
    }
   },
   "source": [
    "Notice that `test()` does not get passed in `y` but knows what `y` is. This is due to the function scoping rules: an inner function can know the variables defined in the same scope as the function. \n",
    "\n",
    "This rule is recursive, leading us to the conclusion that the top level scope is global. That means:"
   ]
  },
  {
   "cell_type": "code",
   "execution_count": 37,
   "metadata": {
    "collapsed": false,
    "slideshow": {
     "slide_type": "fragment"
    }
   },
   "outputs": [
    {
     "data": {
      "text/plain": [
       "2"
      ]
     },
     "execution_count": 37,
     "metadata": {},
     "output_type": "execute_result"
    }
   ],
   "source": [
    "a = 2"
   ]
  },
  {
   "cell_type": "markdown",
   "metadata": {
    "slideshow": {
     "slide_type": "fragment"
    }
   },
   "source": [
    "defines a global variable. We will go into more detail on this."
   ]
  },
  {
   "cell_type": "markdown",
   "metadata": {
    "slideshow": {
     "slide_type": "subslide"
    }
   },
   "source": [
    "Lastly we show the anonymous function syntax. This allows you to define a function inline. "
   ]
  },
  {
   "cell_type": "code",
   "execution_count": 38,
   "metadata": {
    "collapsed": false,
    "slideshow": {
     "slide_type": "fragment"
    }
   },
   "outputs": [
    {
     "data": {
      "text/plain": [
       "(::#3) (generic function with 1 method)"
      ]
     },
     "execution_count": 38,
     "metadata": {},
     "output_type": "execute_result"
    }
   ],
   "source": [
    "g = (x,y) -> 2x+y"
   ]
  },
  {
   "cell_type": "code",
   "execution_count": 3,
   "metadata": {
    "collapsed": false,
    "slideshow": {
     "slide_type": "fragment"
    }
   },
   "outputs": [
    {
     "data": {
      "text/plain": [
       "26"
      ]
     },
     "execution_count": 3,
     "metadata": {},
     "output_type": "execute_result"
    }
   ],
   "source": [
    "((x,y) -> 4x+2y)(4,5)"
   ]
  },
  {
   "cell_type": "markdown",
   "metadata": {
    "slideshow": {
     "slide_type": "subslide"
    }
   },
   "source": [
    "Unlike named functions, `g` is simply a function in a variable and can be overwritten at any time:"
   ]
  },
  {
   "cell_type": "code",
   "execution_count": 40,
   "metadata": {
    "collapsed": false,
    "slideshow": {
     "slide_type": "fragment"
    }
   },
   "outputs": [
    {
     "data": {
      "text/plain": [
       "(::#5) (generic function with 1 method)"
      ]
     },
     "execution_count": 40,
     "metadata": {},
     "output_type": "execute_result"
    }
   ],
   "source": [
    "g = (x) -> 2x"
   ]
  },
  {
   "cell_type": "code",
   "execution_count": 41,
   "metadata": {
    "collapsed": false,
    "slideshow": {
     "slide_type": "fragment"
    }
   },
   "outputs": [
    {
     "data": {
      "text/plain": [
       "6"
      ]
     },
     "execution_count": 41,
     "metadata": {},
     "output_type": "execute_result"
    }
   ],
   "source": [
    "g(3)"
   ]
  },
  {
   "cell_type": "markdown",
   "metadata": {
    "slideshow": {
     "slide_type": "subslide"
    }
   },
   "source": [
    "An anonymous function cannot have more than 1 dispatch. However, as of v0.5, they are compiled and thus do not have any performance disadvantages from named functions."
   ]
  },
  {
   "cell_type": "code",
   "execution_count": 42,
   "metadata": {
    "collapsed": false,
    "slideshow": {
     "slide_type": "fragment"
    }
   },
   "outputs": [
    {
     "ename": "LoadError",
     "evalue": "MethodError: no method matching (::##5#6)(::Int64, ::Int64)\u001b[0m\nClosest candidates are:\n  #5(::Any) at In[40]:1\u001b[0m",
     "output_type": "error",
     "traceback": [
      "MethodError: no method matching (::##5#6)(::Int64, ::Int64)\u001b[0m\nClosest candidates are:\n  #5(::Any) at In[40]:1\u001b[0m",
      ""
     ]
    }
   ],
   "source": [
    "g(4,5)"
   ]
  },
  {
   "cell_type": "markdown",
   "metadata": {
    "slideshow": {
     "slide_type": "slide"
    }
   },
   "source": [
    "## Type Declaration Syntax\n",
    "\n",
    "A type is what in many other languages is an \"object\" a thing which has named components. \n",
    "\n",
    "An instantiation of the type is a specific one. \n",
    "\n",
    "For example, you can think of a car as having an make and a model. So that means a Toyota RAV4 is an instantiation of the car type."
   ]
  },
  {
   "cell_type": "markdown",
   "metadata": {
    "slideshow": {
     "slide_type": "subslide"
    }
   },
   "source": [
    "In Julia, we would define the car type as follows:"
   ]
  },
  {
   "cell_type": "code",
   "execution_count": 43,
   "metadata": {
    "collapsed": true,
    "slideshow": {
     "slide_type": "fragment"
    }
   },
   "outputs": [],
   "source": [
    "type Car\n",
    "    make\n",
    "    model\n",
    "end"
   ]
  },
  {
   "cell_type": "markdown",
   "metadata": {
    "slideshow": {
     "slide_type": "fragment"
    }
   },
   "source": [
    "We could then make the instance of a car as follows:"
   ]
  },
  {
   "cell_type": "code",
   "execution_count": 44,
   "metadata": {
    "collapsed": false,
    "slideshow": {
     "slide_type": "fragment"
    }
   },
   "outputs": [
    {
     "data": {
      "text/plain": [
       "Car(\"Toyota\",\"Rav4\")"
      ]
     },
     "execution_count": 44,
     "metadata": {},
     "output_type": "execute_result"
    }
   ],
   "source": [
    "mycar = Car(\"Toyota\",\"Rav4\")"
   ]
  },
  {
   "cell_type": "code",
   "execution_count": 45,
   "metadata": {
    "collapsed": false,
    "slideshow": {
     "slide_type": "fragment"
    }
   },
   "outputs": [
    {
     "data": {
      "text/plain": [
       "\"Toyota\""
      ]
     },
     "execution_count": 45,
     "metadata": {},
     "output_type": "execute_result"
    }
   ],
   "source": [
    "mycar.make"
   ]
  },
  {
   "cell_type": "markdown",
   "metadata": {
    "slideshow": {
     "slide_type": "subslide"
    }
   },
   "source": [
    "To \"enhance Julia's performance\", one usually likes to make the typing stricter. For example, we can define a WorkshopParticipant (notice the convention for types is capital letters, CamelCase) as having a name and a field. The name will be a string and the field will be a Symbol type, (defined by :Symbol, which we will go into plenty more detail later)."
   ]
  },
  {
   "cell_type": "code",
   "execution_count": 46,
   "metadata": {
    "collapsed": false,
    "slideshow": {
     "slide_type": "fragment"
    }
   },
   "outputs": [
    {
     "data": {
      "text/plain": [
       "WorkshopParticipant(\"Tony\",:physics)"
      ]
     },
     "execution_count": 46,
     "metadata": {},
     "output_type": "execute_result"
    }
   ],
   "source": [
    "type WorkshopParticipant\n",
    "    name::String\n",
    "    field::Symbol\n",
    "end\n",
    "tony = WorkshopParticipant(\"Tony\",:physics)"
   ]
  },
  {
   "cell_type": "markdown",
   "metadata": {
    "slideshow": {
     "slide_type": "subslide"
    }
   },
   "source": [
    "As with functions, types can be set \"parametrically\". For example, we can have an StaffMember have a name and a field, but also an age. We can allow this age to be any Number type as follows:"
   ]
  },
  {
   "cell_type": "code",
   "execution_count": 47,
   "metadata": {
    "collapsed": false,
    "slideshow": {
     "slide_type": "fragment"
    }
   },
   "outputs": [
    {
     "data": {
      "text/plain": [
       "StaffMember{Int64}(\"Terry\",:football,17)"
      ]
     },
     "execution_count": 47,
     "metadata": {},
     "output_type": "execute_result"
    }
   ],
   "source": [
    "type StaffMember{T<:Number}\n",
    "    name::String\n",
    "    field::Symbol\n",
    "    age::T\n",
    "end\n",
    "ter = StaffMember(\"Terry\",:football,17)"
   ]
  },
  {
   "cell_type": "markdown",
   "metadata": {
    "slideshow": {
     "slide_type": "subslide"
    }
   },
   "source": [
    "Most of Julia's types, like Float64 and Int, are natively defined in Julia in this manner.\n",
    "\n",
    "This means that there's no limit for user defined types, only your imagination. "
   ]
  },
  {
   "cell_type": "markdown",
   "metadata": {
    "slideshow": {
     "slide_type": "subslide"
    }
   },
   "source": [
    "Julia also has abstract types. \n",
    "\n",
    "These types cannot be instantiated but are used to build the type hierarchy. \n",
    "\n",
    "You've already seen one abstract type, Number. "
   ]
  },
  {
   "cell_type": "markdown",
   "metadata": {
    "slideshow": {
     "slide_type": "fragment"
    }
   },
   "source": [
    "You can define type heirarchies on abstract types. See the beautiful explanation at: http://docs.julialang.org/en/release-0.5/manual/types/#abstract-types"
   ]
  },
  {
   "cell_type": "markdown",
   "metadata": {
    "slideshow": {
     "slide_type": "subslide"
    }
   },
   "source": [
    "Another \"version\" of type is `immutable`.\n",
    "\n",
    "When one uses `immutable`, the fields of the type cannot be changed. \n",
    "\n",
    "Many things like Julia's built-in Number types are defined as `immutable` in order to give good performance."
   ]
  },
  {
   "cell_type": "markdown",
   "metadata": {
    "slideshow": {
     "slide_type": "subslide"
    }
   },
   "source": [
    "One important detail in Julia is that everything is a type (and every piece of code is an Expression type). \n",
    "\n",
    "Thus functions are also types, which we can access the fields of. "
   ]
  },
  {
   "cell_type": "code",
   "execution_count": 48,
   "metadata": {
    "collapsed": false,
    "slideshow": {
     "slide_type": "subslide"
    }
   },
   "outputs": [
    {
     "data": {
      "text/plain": [
       "foo (generic function with 1 method)"
      ]
     },
     "execution_count": 48,
     "metadata": {},
     "output_type": "execute_result"
    }
   ],
   "source": [
    "foo(x) = 2x"
   ]
  },
  {
   "cell_type": "code",
   "execution_count": 49,
   "metadata": {
    "collapsed": false,
    "slideshow": {
     "slide_type": "fragment"
    }
   },
   "outputs": [
    {
     "data": {
      "text/html": [
       "1 method for generic function <b>foo</b>:<ul><li> foo(x) at In[48]:1</li> </ul>"
      ],
      "text/plain": [
       "# 1 method for generic function \"foo\":\n",
       "foo(x) at In[48]:1"
      ]
     },
     "execution_count": 49,
     "metadata": {},
     "output_type": "execute_result"
    }
   ],
   "source": [
    "methods(foo)"
   ]
  },
  {
   "cell_type": "code",
   "execution_count": 50,
   "metadata": {
    "collapsed": false,
    "slideshow": {
     "slide_type": "subslide"
    }
   },
   "outputs": [
    {
     "data": {
      "text/plain": [
       "15-element Array{Symbol,1}:\n",
       " :name                      \n",
       " :module                    \n",
       " :file                      \n",
       " :line                      \n",
       " :sig                       \n",
       " :tvars                     \n",
       " :ambig                     \n",
       " :specializations           \n",
       " :lambda_template           \n",
       " :roots                     \n",
       " :invokes                   \n",
       " :called                    \n",
       " :isstaged                  \n",
       " :needs_sparam_vals_ducttape\n",
       " Symbol(\"\")                 "
      ]
     },
     "execution_count": 50,
     "metadata": {},
     "output_type": "execute_result"
    }
   ],
   "source": [
    "fieldnames(first(methods(foo)))"
   ]
  },
  {
   "cell_type": "code",
   "execution_count": 51,
   "metadata": {
    "collapsed": false,
    "slideshow": {
     "slide_type": "fragment"
    }
   },
   "outputs": [
    {
     "data": {
      "text/plain": [
       ":foo"
      ]
     },
     "execution_count": 51,
     "metadata": {},
     "output_type": "execute_result"
    }
   ],
   "source": [
    "first(methods(foo)).name"
   ]
  },
  {
   "cell_type": "markdown",
   "metadata": {
    "slideshow": {
     "slide_type": "slide"
    }
   },
   "source": [
    "## Some Basic Types\n",
    "\n",
    "Julia provides many basic types. Indeed, you will come to know Julia as a system of multiple dispatch on types, meaning that the interaction of types with functions is core to the design."
   ]
  },
  {
   "cell_type": "markdown",
   "metadata": {
    "slideshow": {
     "slide_type": "subslide"
    }
   },
   "source": [
    "### Lazy Iterator Types\n",
    "\n",
    "While MATLAB or Python has easy functions for building arrays, Julia tends to side-step the actual \"array\" part with specially made types. One such example are ranges. To define a range, use the `start:stepsize:end` syntax. For example:"
   ]
  },
  {
   "cell_type": "code",
   "execution_count": 52,
   "metadata": {
    "collapsed": false,
    "slideshow": {
     "slide_type": "subslide"
    }
   },
   "outputs": [
    {
     "name": "stdout",
     "output_type": "stream",
     "text": [
      "1:5\n",
      "1:2:9\n"
     ]
    }
   ],
   "source": [
    "a = 1:5\n",
    "println(a)\n",
    "b = 1:2:10\n",
    "println(b)"
   ]
  },
  {
   "cell_type": "markdown",
   "metadata": {
    "slideshow": {
     "slide_type": "fragment"
    }
   },
   "source": [
    "We can use them like any array. For example:"
   ]
  },
  {
   "cell_type": "code",
   "execution_count": 53,
   "metadata": {
    "collapsed": false,
    "slideshow": {
     "slide_type": "fragment"
    }
   },
   "outputs": [
    {
     "name": "stdout",
     "output_type": "stream",
     "text": [
      "2\n",
      "5\n"
     ]
    }
   ],
   "source": [
    "println(a[2]); println(b[3])"
   ]
  },
  {
   "cell_type": "markdown",
   "metadata": {
    "slideshow": {
     "slide_type": "subslide"
    }
   },
   "source": [
    "But what is `b`?"
   ]
  },
  {
   "cell_type": "code",
   "execution_count": 54,
   "metadata": {
    "collapsed": false,
    "slideshow": {
     "slide_type": "fragment"
    }
   },
   "outputs": [
    {
     "name": "stdout",
     "output_type": "stream",
     "text": [
      "StepRange{Int64,Int64}\n"
     ]
    }
   ],
   "source": [
    "println(typeof(b))"
   ]
  },
  {
   "cell_type": "markdown",
   "metadata": {
    "slideshow": {
     "slide_type": "fragment"
    }
   },
   "source": [
    "`b` isn't an array, it's a StepRange. A StepRange has the ability to act like an array using its fields:"
   ]
  },
  {
   "cell_type": "code",
   "execution_count": 55,
   "metadata": {
    "collapsed": false,
    "slideshow": {
     "slide_type": "fragment"
    }
   },
   "outputs": [
    {
     "data": {
      "text/plain": [
       "3-element Array{Symbol,1}:\n",
       " :start\n",
       " :step \n",
       " :stop "
      ]
     },
     "execution_count": 55,
     "metadata": {},
     "output_type": "execute_result"
    }
   ],
   "source": [
    "fieldnames(StepRange)"
   ]
  },
  {
   "cell_type": "markdown",
   "metadata": {
    "slideshow": {
     "slide_type": "subslide"
    }
   },
   "source": [
    "Note that at any time we can get the array from these kinds of type via the `collect` function:"
   ]
  },
  {
   "cell_type": "code",
   "execution_count": 56,
   "metadata": {
    "collapsed": false,
    "slideshow": {
     "slide_type": "fragment"
    }
   },
   "outputs": [
    {
     "data": {
      "text/plain": [
       "5-element Array{Int64,1}:\n",
       " 1\n",
       " 2\n",
       " 3\n",
       " 4\n",
       " 5"
      ]
     },
     "execution_count": 56,
     "metadata": {},
     "output_type": "execute_result"
    }
   ],
   "source": [
    "c = collect(a)"
   ]
  },
  {
   "cell_type": "markdown",
   "metadata": {
    "slideshow": {
     "slide_type": "subslide"
    }
   },
   "source": [
    "The reason why lazy iterator types are preferred is that they do not do the computations until it's absolutely necessary, and they take up much less space. \n",
    "\n",
    "We can check this with `@time`:"
   ]
  },
  {
   "cell_type": "code",
   "execution_count": 57,
   "metadata": {
    "collapsed": false,
    "slideshow": {
     "slide_type": "subslide"
    }
   },
   "outputs": [
    {
     "name": "stdout",
     "output_type": "stream",
     "text": [
      "  0.000004 seconds (5 allocations: 192 bytes)\n",
      "  0.000001 seconds (5 allocations: 192 bytes)\n",
      "  0.000409 seconds (8 allocations: 781.547 KB)\n"
     ]
    }
   ],
   "source": [
    "@time a = 1:100000\n",
    "@time a = 1:100\n",
    "@time b = collect(1:100000);"
   ]
  },
  {
   "cell_type": "markdown",
   "metadata": {
    "slideshow": {
     "slide_type": "fragment"
    }
   },
   "source": [
    "Notice that the amount of time the range takes is much shorter. This is mostly because there is a lot less memory allocation needed: only a `StepRange` is built, and all that holds is the three numbers. However, `b` has to hold `100000` numbers, leading to the huge difference."
   ]
  },
  {
   "cell_type": "markdown",
   "metadata": {
    "slideshow": {
     "slide_type": "slide"
    }
   },
   "source": [
    "### Dictionaries \n",
    "\n",
    "Another common type is the Dictionary. It allows you to access (key,value) pairs in a named manner. For example:"
   ]
  },
  {
   "cell_type": "code",
   "execution_count": 5,
   "metadata": {
    "collapsed": false,
    "slideshow": {
     "slide_type": "subslide"
    }
   },
   "outputs": [
    {
     "name": "stdout",
     "output_type": "stream",
     "text": [
      "2\n",
      "24\n"
     ]
    }
   ],
   "source": [
    "d = Dict(:a=>2,:b=>:24)\n",
    "println(d[:a])\n",
    "println(d[:b])"
   ]
  },
  {
   "cell_type": "markdown",
   "metadata": {
    "slideshow": {
     "slide_type": "slide"
    }
   },
   "source": [
    "### Tuples"
   ]
  },
  {
   "cell_type": "markdown",
   "metadata": {
    "slideshow": {
     "slide_type": "subslide"
    }
   },
   "source": [
    "Tuples are immutable arrays. That means they can't be changed. However, they are super fast. They are made with the `(x,y,z,...)` syntax and are the standard return type of functions which return more than one object."
   ]
  },
  {
   "cell_type": "code",
   "execution_count": 7,
   "metadata": {
    "collapsed": false,
    "slideshow": {
     "slide_type": "fragment"
    }
   },
   "outputs": [
    {
     "name": "stdout",
     "output_type": "stream",
     "text": [
      "hi\n"
     ]
    }
   ],
   "source": [
    "tup = (2.,3) # Don't have to match types\n",
    "x,y = (3.0,\"hi\") # Can separate a tuple to multiple variables\n",
    "println(y)"
   ]
  },
  {
   "cell_type": "markdown",
   "metadata": {
    "slideshow": {
     "slide_type": "slide"
    }
   },
   "source": [
    "## Metaprogramming"
   ]
  },
  {
   "cell_type": "markdown",
   "metadata": {
    "slideshow": {
     "slide_type": "subslide"
    }
   },
   "source": [
    "Metaprogramming is a huge feature of Julia. The key idea is that every statement in Julia is of the type `Expression`. \n",
    "\n",
    "Julia builds an Abstract Syntax Tree (AST) from the Expressions. \n",
    "\n",
    "You've already been exposed to this a little bit: \n",
    "\n",
    "a `Symbol` is not a string because it is part of the AST. One interesting thing is that symbol comparisons are O(1) while string comparisons, like always, are O(n).\n",
    "\n",
    "Thus you can think of metaprogramming as \"code which takes in code and outputs code\". One basic example is the `@time` macro:"
   ]
  },
  {
   "cell_type": "code",
   "execution_count": 60,
   "metadata": {
    "collapsed": false,
    "slideshow": {
     "slide_type": "subslide"
    }
   },
   "outputs": [
    {
     "data": {
      "text/plain": [
       "@my_time (macro with 1 method)"
      ]
     },
     "execution_count": 60,
     "metadata": {},
     "output_type": "execute_result"
    }
   ],
   "source": [
    "macro my_time(ex)\n",
    "  return quote\n",
    "    local t0 = time()\n",
    "    local val = $ex\n",
    "    local t1 = time()\n",
    "    println(\"elapsed time: \", t1-t0, \" seconds\")\n",
    "    val\n",
    "  end\n",
    "end"
   ]
  },
  {
   "cell_type": "markdown",
   "metadata": {
    "slideshow": {
     "slide_type": "fragment"
    }
   },
   "source": [
    "This takes in an expression `ex`, gets the time before and after evaluation, and prints the elapsed time. Note that `$ex` \"interpolates\" the expression into the macro. "
   ]
  },
  {
   "cell_type": "markdown",
   "metadata": {
    "slideshow": {
     "slide_type": "slide"
    }
   },
   "source": [
    "## Trial Problem\n",
    "\n",
    "Here’s a full whisky bottle. It has \n",
    "\n",
    "* a height of 27cm and \n",
    "* a diameter of 7cm, and \n",
    "* contains 750 cubic centimetres of whisky. \n",
    "\n",
    "It has a dome-like indentation at the bottom like many bottles have."
   ]
  },
  {
   "cell_type": "markdown",
   "metadata": {
    "slideshow": {
     "slide_type": "subslide"
    }
   },
   "source": [
    "<img src=\"images/full.jpg\" width=600>"
   ]
  },
  {
   "cell_type": "markdown",
   "metadata": {
    "slideshow": {
     "slide_type": "subslide"
    }
   },
   "source": [
    "You were hoping for a dry January but spectacularly fell off the wagon last night. \n",
    "\n",
    "You can’t remember what happened but now bottle only has 14cm of whisky left in it. \n",
    "\n",
    "When you turn the bottle over, it has 19cm of whisky. "
   ]
  },
  {
   "cell_type": "markdown",
   "metadata": {
    "slideshow": {
     "slide_type": "subslide"
    }
   },
   "source": [
    "<img src=\"images/not_full.jpg\" width=600>"
   ]
  },
  {
   "cell_type": "markdown",
   "metadata": {
    "slideshow": {
     "slide_type": "fragment"
    }
   },
   "source": [
    "Exercise: Write a Julia script that takes two numbers as input and then prints out how many cubic centermeters of whiskey is left in the bottle."
   ]
  },
  {
   "cell_type": "markdown",
   "metadata": {
    "slideshow": {
     "slide_type": "slide"
    }
   },
   "source": [
    "## Homework\n",
    "\n",
    "Attempt the follwing problems from the COMP710-Bioinformatics-2018 course on the Rosalind website,\n",
    "http://rosalind.info/classes/enroll/2c2d9f977b/\n",
    "\n",
    "* DNA Counting DNA neucleotides\n",
    "* FIB  Rabbits and Recurrence Relations"
   ]
  },
  {
   "cell_type": "markdown",
   "metadata": {
    "collapsed": true,
    "slideshow": {
     "slide_type": "subslide"
    }
   },
   "source": [
    "In each case you must write a Julia script to solve the problem. When you are satisfied with your script tell the Rosalind system you are ready. Rosalind will generate new input data for your script. Run your script and paste your output into the Rosalind system. Upload your script. Press submit.\n",
    "\n",
    "The Rosalind will inform you if you are successful. If not, the Rosalind system will allow you further attempts."
   ]
  }
 ],
 "metadata": {
  "anaconda-cloud": {},
  "celltoolbar": "Slideshow",
  "kernelspec": {
   "display_name": "Julia 1.0.1",
   "language": "julia",
   "name": "julia-1.0"
  },
  "language_info": {
   "file_extension": ".jl",
   "mimetype": "application/julia",
   "name": "julia",
   "version": "1.0.1"
  }
 },
 "nbformat": 4,
 "nbformat_minor": 0
}
