{
 "cells": [
  {
   "cell_type": "markdown",
   "metadata": {},
   "source": [
    "## LSTM recurrent neural network for generating text"
   ]
  },
  {
   "cell_type": "markdown",
   "metadata": {},
   "source": [
    "### Loading the data"
   ]
  },
  {
   "cell_type": "markdown",
   "metadata": {},
   "source": [
    "First we load the required packages:"
   ]
  },
  {
   "cell_type": "code",
   "execution_count": 1,
   "metadata": {
    "collapsed": false
   },
   "outputs": [],
   "source": [
    "using Flux\n",
    "using Flux: onehot, chunk, batchseq, throttle, crossentropy\n",
    "using StatsBase: wsample\n",
    "using Base.Iterators: partition"
   ]
  },
  {
   "cell_type": "markdown",
   "metadata": {},
   "source": [
    "Now we read in the data:"
   ]
  },
  {
   "cell_type": "code",
   "execution_count": 3,
   "metadata": {
    "collapsed": false
   },
   "outputs": [],
   "source": [
    "# isfile(\"input.txt\") ||\n",
    "#   download(\"https://cs.stanford.edu/people/karpathy/char-rnn/shakespeare_input.txt\",\n",
    "#            \"input.txt\")\n",
    "\n",
    "text = collect(String(read(\"data/input_catullus.txt\")))\n",
    "alphabet = [unique(text)..., '_']\n",
    "text = map(ch -> onehot(ch, alphabet), text)\n",
    "stop = onehot('_', alphabet);"
   ]
  },
  {
   "cell_type": "code",
   "execution_count": 4,
   "metadata": {
    "collapsed": false
   },
   "outputs": [],
   "source": [
    "N = length(alphabet)\n",
    "seqlen = 50\n",
    "nbatch = 50\n",
    "\n",
    "Xs = collect(partition(batchseq(chunk(text, nbatch), stop), seqlen));\n",
    "Ys = collect(partition(batchseq(chunk(text[2:end], nbatch), stop), seqlen));"
   ]
  },
  {
   "cell_type": "code",
   "execution_count": 5,
   "metadata": {
    "collapsed": false
   },
   "outputs": [
    {
     "name": "stdout",
     "output_type": "stream",
     "text": [
      "search: \u001b[0m\u001b[1mL\u001b[22m\u001b[0m\u001b[1mS\u001b[22m\u001b[0m\u001b[1mT\u001b[22m\u001b[0m\u001b[1mM\u001b[22m \u001b[0m\u001b[1ml\u001b[22mog\u001b[0m\u001b[1ms\u001b[22mof\u001b[0m\u001b[1mt\u001b[22m\u001b[0m\u001b[1mm\u001b[22max partia\u001b[0m\u001b[1ml\u001b[22m\u001b[0m\u001b[1ms\u001b[22mor\u001b[0m\u001b[1mt\u001b[22mper\u001b[0m\u001b[1mm\u001b[22m partia\u001b[0m\u001b[1ml\u001b[22m\u001b[0m\u001b[1ms\u001b[22mor\u001b[0m\u001b[1mt\u001b[22mper\u001b[0m\u001b[1mm\u001b[22m! \u001b[0m\u001b[1ml\u001b[22m\u001b[0m\u001b[1ms\u001b[22m\u001b[0m\u001b[1mt\u001b[22mat \u001b[0m\u001b[1ml\u001b[22m\u001b[0m\u001b[1ms\u001b[22m\u001b[0m\u001b[1mt\u001b[22mrip \u001b[0m\u001b[1ml\u001b[22ma\u001b[0m\u001b[1ms\u001b[22m\u001b[0m\u001b[1mt\u001b[22m\n",
      "\n"
     ]
    },
    {
     "data": {
      "text/markdown": [
       "```\n",
       "LSTM(in::Integer, out::Integer)\n",
       "```\n",
       "\n",
       "Long Short Term Memory recurrent layer. Behaves like an RNN but generally exhibits a longer memory span over sequences.\n",
       "\n",
       "See [this article](http://colah.github.io/posts/2015-08-Understanding-LSTMs/) for a good overview of the internals.\n"
      ],
      "text/plain": [
       "\u001b[36m  LSTM(in::Integer, out::Integer)\u001b[39m\n",
       "\n",
       "  Long Short Term Memory recurrent layer. Behaves like an RNN but generally\n",
       "  exhibits a longer memory span over sequences.\n",
       "\n",
       "  See this article (http://colah.github.io/posts/2015-08-Understanding-LSTMs/)\n",
       "  for a good overview of the internals."
      ]
     },
     "execution_count": 5,
     "metadata": {},
     "output_type": "execute_result"
    }
   ],
   "source": [
    "?LSTM"
   ]
  },
  {
   "cell_type": "code",
   "execution_count": 6,
   "metadata": {
    "collapsed": false
   },
   "outputs": [
    {
     "data": {
      "text/plain": [
       "Chain(Recur(LSTMCell(59, 128)), Recur(LSTMCell(128, 128)), Dense(128, 59), NNlib.softmax)"
      ]
     },
     "execution_count": 6,
     "metadata": {},
     "output_type": "execute_result"
    }
   ],
   "source": [
    "# Define our model.  \n",
    "# We will use two LSTMs\n",
    "# followed by a final Dense layer that\n",
    "# feeds into a softmax probability output.\n",
    "m = Chain(\n",
    "  LSTM(N, 128),\n",
    "  LSTM(128, 128),\n",
    "  Dense(128, N),\n",
    "  softmax)"
   ]
  },
  {
   "cell_type": "code",
   "execution_count": 7,
   "metadata": {
    "collapsed": false
   },
   "outputs": [
    {
     "data": {
      "text/plain": [
       "loss (generic function with 1 method)"
      ]
     },
     "execution_count": 7,
     "metadata": {},
     "output_type": "execute_result"
    }
   ],
   "source": [
    "# `loss()` calculates the crossentropy loss \n",
    "function loss(xs, ys)\n",
    "  los = sum(crossentropy.(m.(xs), ys))\n",
    "  Flux.truncate!(m)\n",
    "  return los\n",
    "end"
   ]
  },
  {
   "cell_type": "code",
   "execution_count": 8,
   "metadata": {
    "collapsed": false
   },
   "outputs": [
    {
     "data": {
      "text/plain": [
       "#7 (generic function with 1 method)"
      ]
     },
     "execution_count": 8,
     "metadata": {},
     "output_type": "execute_result"
    }
   ],
   "source": [
    "opt = ADAM(0.01)\n",
    "tx, ty = (Xs[5], Ys[5])\n",
    "evalcb = () -> @show loss(tx, ty)"
   ]
  },
  {
   "cell_type": "code",
   "execution_count": 9,
   "metadata": {
    "collapsed": false
   },
   "outputs": [
    {
     "name": "stdout",
     "output_type": "stream",
     "text": [
      "loss(tx, ty) = 178.79956f0 (tracked)\n",
      "loss(tx, ty) = 151.91824f0 (tracked)\n",
      "loss(tx, ty) = 146.89218f0 (tracked)\n",
      "loss(tx, ty) = 125.76952f0 (tracked)\n",
      "loss(tx, ty) = 118.99043f0 (tracked)\n",
      "loss(tx, ty) = 115.355934f0 (tracked)\n",
      "loss(tx, ty) = 111.89171f0 (tracked)\n",
      "loss(tx, ty) = 108.702995f0 (tracked)\n",
      "loss(tx, ty) = 105.75389f0 (tracked)\n",
      "loss(tx, ty) = 106.171295f0 (tracked)\n",
      "loss(tx, ty) = 103.921455f0 (tracked)\n",
      "loss(tx, ty) = 102.30315f0 (tracked)\n",
      "loss(tx, ty) = 100.050385f0 (tracked)\n",
      "loss(tx, ty) = 98.23508f0 (tracked)\n",
      "loss(tx, ty) = 97.25767f0 (tracked)\n",
      "loss(tx, ty) = 95.35851f0 (tracked)\n",
      "loss(tx, ty) = 94.9022f0 (tracked)\n",
      "loss(tx, ty) = 93.50886f0 (tracked)\n",
      "loss(tx, ty) = 92.64974f0 (tracked)\n",
      "loss(tx, ty) = 91.35759f0 (tracked)\n",
      "loss(tx, ty) = 91.194f0 (tracked)\n",
      "loss(tx, ty) = 89.62077f0 (tracked)\n",
      "loss(tx, ty) = 89.14076f0 (tracked)\n",
      "loss(tx, ty) = 89.46552f0 (tracked)\n",
      "loss(tx, ty) = 88.94996f0 (tracked)\n",
      "loss(tx, ty) = 88.996f0 (tracked)\n",
      "loss(tx, ty) = 88.48419f0 (tracked)\n",
      "loss(tx, ty) = 87.82205f0 (tracked)\n",
      "loss(tx, ty) = 86.66263f0 (tracked)\n",
      "loss(tx, ty) = 87.11574f0 (tracked)\n",
      "loss(tx, ty) = 86.0081f0 (tracked)\n",
      "loss(tx, ty) = 86.25511f0 (tracked)\n",
      "loss(tx, ty) = 86.62836f0 (tracked)\n",
      "loss(tx, ty) = 87.044685f0 (tracked)\n",
      "loss(tx, ty) = 85.71672f0 (tracked)\n",
      "loss(tx, ty) = 83.65718f0 (tracked)\n",
      "loss(tx, ty) = 84.23687f0 (tracked)\n",
      "loss(tx, ty) = 84.254234f0 (tracked)\n",
      "loss(tx, ty) = 85.67716f0 (tracked)\n",
      "loss(tx, ty) = 82.93658f0 (tracked)\n",
      "loss(tx, ty) = 83.923965f0 (tracked)\n",
      "loss(tx, ty) = 82.41118f0 (tracked)\n",
      "loss(tx, ty) = 82.0964f0 (tracked)\n",
      "loss(tx, ty) = 79.76948f0 (tracked)\n",
      "loss(tx, ty) = 80.94659f0 (tracked)\n",
      "loss(tx, ty) = 80.849625f0 (tracked)\n",
      "loss(tx, ty) = 82.85273f0 (tracked)\n",
      "loss(tx, ty) = 81.52166f0 (tracked)\n",
      "loss(tx, ty) = 79.43553f0 (tracked)\n",
      "loss(tx, ty) = 80.54363f0 (tracked)\n",
      "loss(tx, ty) = 83.26019f0 (tracked)\n"
     ]
    }
   ],
   "source": [
    "epochs = 50\n",
    "for i = 1:epochs\n",
    "    Flux.train!(loss, params(m), zip(Xs, Ys), opt,\n",
    "            cb = throttle(evalcb, 30))\n",
    "end"
   ]
  },
  {
   "cell_type": "code",
   "execution_count": 14,
   "metadata": {
    "collapsed": false
   },
   "outputs": [
    {
     "name": "stdout",
     "output_type": "stream",
     "text": [
      "loss(tx, ty) = 80.77767f0 (tracked)\n",
      "loss(tx, ty) = 79.79824f0 (tracked)\n",
      "loss(tx, ty) = 79.40668f0 (tracked)\n",
      "loss(tx, ty) = 81.20881f0 (tracked)\n",
      "loss(tx, ty) = 81.04387f0 (tracked)\n",
      "loss(tx, ty) = 80.61255f0 (tracked)\n",
      "loss(tx, ty) = 82.20054f0 (tracked)\n",
      "loss(tx, ty) = 80.65729f0 (tracked)\n",
      "loss(tx, ty) = 77.743484f0 (tracked)\n",
      "loss(tx, ty) = 79.36326f0 (tracked)\n",
      "loss(tx, ty) = 81.159485f0 (tracked)\n",
      "loss(tx, ty) = 79.03786f0 (tracked)\n",
      "loss(tx, ty) = 78.556076f0 (tracked)\n",
      "loss(tx, ty) = 80.71069f0 (tracked)\n",
      "loss(tx, ty) = 83.903915f0 (tracked)\n",
      "loss(tx, ty) = 79.579834f0 (tracked)\n",
      "loss(tx, ty) = 79.765495f0 (tracked)\n",
      "loss(tx, ty) = 79.7674f0 (tracked)\n",
      "loss(tx, ty) = 79.66036f0 (tracked)\n",
      "loss(tx, ty) = 78.80348f0 (tracked)\n",
      "loss(tx, ty) = 78.31745f0 (tracked)\n",
      "loss(tx, ty) = 80.05818f0 (tracked)\n",
      "loss(tx, ty) = 79.1711f0 (tracked)\n",
      "loss(tx, ty) = 77.2754f0 (tracked)\n",
      "loss(tx, ty) = 77.679085f0 (tracked)\n",
      "loss(tx, ty) = 76.46557f0 (tracked)\n",
      "loss(tx, ty) = 75.03615f0 (tracked)\n",
      "loss(tx, ty) = 73.65215f0 (tracked)\n",
      "loss(tx, ty) = 76.2346f0 (tracked)\n",
      "loss(tx, ty) = 77.445786f0 (tracked)\n",
      "loss(tx, ty) = 75.84594f0 (tracked)\n",
      "loss(tx, ty) = 77.77179f0 (tracked)\n",
      "loss(tx, ty) = 75.93303f0 (tracked)\n",
      "loss(tx, ty) = 75.15348f0 (tracked)\n",
      "loss(tx, ty) = 73.795784f0 (tracked)\n",
      "loss(tx, ty) = 75.167076f0 (tracked)\n",
      "loss(tx, ty) = 74.89647f0 (tracked)\n",
      "loss(tx, ty) = 74.87283f0 (tracked)\n",
      "loss(tx, ty) = 75.98f0 (tracked)\n",
      "loss(tx, ty) = 75.583694f0 (tracked)\n",
      "loss(tx, ty) = 74.97579f0 (tracked)\n",
      "loss(tx, ty) = 75.551476f0 (tracked)\n",
      "loss(tx, ty) = 75.83424f0 (tracked)\n",
      "loss(tx, ty) = 74.59668f0 (tracked)\n",
      "loss(tx, ty) = 73.69678f0 (tracked)\n",
      "loss(tx, ty) = 73.46473f0 (tracked)\n",
      "loss(tx, ty) = 76.160255f0 (tracked)\n",
      "loss(tx, ty) = 77.31839f0 (tracked)\n",
      "loss(tx, ty) = 78.4941f0 (tracked)\n",
      "loss(tx, ty) = 78.83719f0 (tracked)\n"
     ]
    }
   ],
   "source": [
    "epochs = 50\n",
    "for i = 1:epochs\n",
    "    Flux.train!(loss, params(m), zip(Xs, Ys), opt,\n",
    "            cb = throttle(evalcb, 30))\n",
    "end"
   ]
  },
  {
   "cell_type": "code",
   "execution_count": 15,
   "metadata": {
    "collapsed": false
   },
   "outputs": [
    {
     "data": {
      "text/plain": [
       "sample (generic function with 1 method)"
      ]
     },
     "execution_count": 15,
     "metadata": {},
     "output_type": "execute_result"
    }
   ],
   "source": [
    "# Sampling\n",
    "\n",
    "function sample(m, alphabet, len; temp = 1)\n",
    "  Flux.reset!(m)\n",
    "  buf = IOBuffer()\n",
    "  c = rand(alphabet)\n",
    "  for i = 1:len\n",
    "    write(buf, c)\n",
    "    c = wsample(alphabet, m(onehot(c, alphabet)).data)\n",
    "  end\n",
    "  return String(take!(buf))\n",
    "end"
   ]
  },
  {
   "cell_type": "code",
   "execution_count": 24,
   "metadata": {
    "collapsed": false
   },
   "outputs": [
    {
     "name": "stdout",
     "output_type": "stream",
     "text": [
      "\n",
      "Mirmi, mala domum fre iuvencunt raudites,\n",
      "tum Zeaceo quo tenens vosquens in manus\n",
      "capillos habere novo?\n",
      "forte qui furdetu mivatum curas quo meos amorem.\n",
      "qui. nar tali cum matre quam me oratur esse patruae\n",
      "auxit ipsa dedpulis pueris et mihi: lansiculos.\n",
      "harramque incita, iam non est nostribus,\n",
      "iti quae tuisus est omnibus ver et intesto prodes,\n",
      "nutque remigula Remuncis mente omnibus.\n",
      "astia gaudiia venenie nobis mentem confituo est.\n",
      "namque culus uni, quandos socpersum maturnae, mei ne vargiescum.\n",
      "\n",
      "LXIV. ad Gaium Brelio facsatis\n",
      "\n",
      "Gellus iunctum in aequor est inceptam\n",
      "Procesia letunissime filique,\n",
      "famulam, nito ciduli, quam bei redire tota domona;\n",
      "nullum ore, induemus auructis prusui promi,\n",
      "Zrybhi, cum laudantum incidationes essem\n",
      "currite copia capit! multidum\n",
      "morte furtum credita periculus puero,\n",
      "dulcrantes, codicillos insibia.\n",
      "nam salvent singuis: quicumor aequens pedes,\n",
      "pulcere infectis puercate, cum oracdalum,\n",
      "cum te mihi, dilactum illuc, lacrabit, ut iam mens et ignes\n",
      "admer reditum puerum comptimurum.\n",
      "\n",
      "XCIII. ad Gaium Huiciinum\n",
      "\n",
      "Phicta orieharis corita sine sibus horribillicium,\n",
      "nula ut erruit ipsam optata marita tetetis crudeleribus orio.\n",
      "at verpulsum in annus, quod ulla pudea quem qui venostisque\n",
      "maritur magnis est puellam.\n",
      "nam sique optamentem, cupis\n",
      "fratri sut Auphispro chorosae puellium,\n",
      "quae pestileuntia sine mea est: halce Trius iter deducet amore subitos.\n",
      "surcitur illuda parelus,\n",
      "sec toto dova quem quandam velut ferret umbris,\n",
      "atque mira vellet, sanut os.\n",
      "sinis auris totis Daelia, coloris?\n",
      "at cariquem amaris magis processi fides?\n",
      "\n",
      "CV. ad ves ut Iuno\n",
      "quid est maris, marito commidas capita capillos\n",
      "eEefia Caecilio,\n",
      "cum ortus capit passeratur quamquam beatior ignem,\n",
      "ni te sit adest, Aber exceltum,\n",
      "nequiquam vestra natit impote in antulis eium maturbarumque,\n",
      "ne cinita mare sicare Mavadum\n",
      "\n",
      "Phasi repeni Trius item Rxatam iurerit videbi:\n",
      "litus sumitum tuus illos incidistis omniumrus annuu reddini\n",
      "quam milia multa procent ut earem?\n",
      "illum ulto mater mileris linquere dum sinistra\n",
      "iutritaca munus\n",
      "provincum esse cubile, postulae cupido tua dicto.\n",
      "furtis egressa magis locatius\n",
      "vetus est murito fruerare papile?\n",
      "at certe quam mixemus litsti lora imperatios iure,\n",
      "cum vere totu nostritos e facit lateris opulens obduras,\n",
      "fratum tergo nostra, comparare, miriditius esses.\n",
      "nam trigua nec salicos,\n",
      "pulcere quondam ubi terlata negote.\n",
      "nam simulula est. hoc tut, utrum Catullum est conceportque turri\n",
      "quin iura, cum irrumatos evis?\n",
      "quorum olia tua matrem netes fremulus?\n",
      "ver domum ferus rapiduat foret amoret.\n",
      "hoc sis incitare pappere prodeae.\n",
      "quis celli retibiet aestum obstitit\n",
      "probebis aequataue,\n",
      "dum vertice simul totus incinaeque collicam\n",
      "aut pergravis errius abiit; quam flavi,\n",
      "et permulam velut aut alia putare crecula, conulibus,\n",
      "nom, quo vocum multer ortam alleis, iam erumis furor\n",
      "ceredas vertice reu feros.\n",
      "properiatque perperat arcaret aequere,\n",
      "restiregit umbrat\n",
      "tremula tecum Trexceus, dicerasque hominbam\n",
      "niv\n",
      "vos,us Licuniae imdicit.\n",
      "\n",
      "XV  adae pacera\n",
      "umembotam,\n",
      "qui terros primo, non esc neque insulta Saxiodi\n",
      "soletum, reliquitum, milia nuptialum.\n",
      "ecquies sub gratut ubsti ipsa noscruta mihi maritum maritum qui tua fertur netarruntuque,\n",
      "cum illa delicias libidi variis mihi puuctas.\n",
      "ne nutas ire it Gallius corpus\n",
      "et vingum moee resquitias variculum.\n",
      "nam qui sonde semper gaude quierent quam? pars, quae reiquenculum praerellis,\n",
      "Crates velle Catullum, Gradi, Caesares et Pelei\n",
      "\n",
      "Iuperat iuvene, permorabat,\n",
      "sic seu quid est, multis franesco, meitem avos in extrecuas cordique idelitum fruoro,\n",
      "nupta, multa nemoso Vrberiuas\n",
      "limine ridentis,\n",
      "mancatun, pada est amantia maturacpendentius tremulum.\n",
      "praeseris remitae collo;\n",
      "sic cupide virgorantibus barathrocrepia:.\n",
      "hos pinum poenam agbus\n",
      "poetas flammea delesto mater ignaris\n",
      "liviter, Cybebe nonlupta pectus es, Corchi\n",
      "dicitias fruor!\n",
      "hoc samer qui fecipiorifes? immineam plurimo fattulorum\n",
      "haedeo venit sostimus aut siquam.\n",
      "hic, venuit in magnas veniat gingilia ponderor\n",
      "ad carvus in salguus:\n",
      "iam video, fiore domum,\n",
      "si quibus libera praecada require.\n",
      "\n",
      "LXVI. ad adabi.\n",
      "\n",
      "I amare sumum Trinna.\n",
      "\n",
      "Inscros Iovilitur poteris,\n",
      "properterum iste evuit, non est terram duffecias Troicus,\n",
      "non sollius illius,\n",
      "quid huic alia memors curvum tebere clars\n",
      "clara puspore maturo:\n",
      "abitis amicae ineptime, palmis.\n",
      "\n",
      "XIII. ad Coleae\n",
      "\n",
      "Colmius Prraium in lenium excordebat seum\n",
      "\n",
      "Menibus ipsam in Libi.\n",
      "\n",
      "si quid etiam iumerer fricia.\n",
      "\n",
      "XXXVIII. ad Certule paltum\n",
      "\n",
      "Multumque opprum lumi e Peleus incrunatus.\n",
      "\n",
      "XLVyveribum\n",
      "\n",
      "Quinti qui traeus riratium,\n",
      "nulatque morsio velut, Cameri dulces!\n",
      "quanto: nam tua navit incitae porrabulos.\n",
      "sed fruspta: ampium, cum sedet trevit lumina mortis.\n",
      "namque cupido fursans atque redimmuu.\n",
      "nam qui patruus ut carmina teger.\n",
      "\n",
      "LXXVI. in Briduliam\n",
      "\n",
      "Neminam Caeciom commedis, Otabunt iurens\n",
      "comora et Veneris vol, sit fermatos,\n",
      "nunc sumpurum fleto concinitat, mare matra magnus\n",
      "et geaereunsus omne falsideo,\n",
      "contradivor et Gallia iuvenes dulci, quius: namqurum luptuum,\n",
      "quod gaudia cum quins tuies eluiner ausit?\n",
      "Gallio eb reper nudant, quod invuni pulcer assi,\n",
      "multa centum vireo? commoterre munus,\n",
      "sequuctus adest meus veller? cuius eberis.\n",
      "\n",
      "quare quod gente sub Larive, Cornifici,\n",
      "ambo, Themilus illam.\n",
      "nam deserta magnis miserus essevite, seppendia commonete ingrata:\n",
      "sicine aut Trone ad Ortime puellius essemt est passis,\n",
      "muxus omnia coneferos error; recrapet.\n",
      "te nimirancus auro verti tranita tumen,\n",
      "quae volatum frater et poterit,\n",
      "non si te metiet, et amare, quantum spumanus, ego Mananum flecere nefanda\n",
      "ut fumigio omnia dabam amictus\n",
      "magnis pernido tuus compenitur?\n",
      "ereptum Peleus comperi mea es non domum legistis pillis amor.\n",
      "Amphitrantur tabentior orbus atque ab triponcula quiniam.\n",
      "\n",
      "LXXXIV. ad Malnifus\n",
      "acciperabus omnium\n",
      "\n",
      "Maroda Protenis, tamdi neque uernora huur, Theseu,\n",
      "ego quoces sine atque deaeque fuitpere servulcor\n",
      "quoque ut delicite,\n",
      "ipsum arnita divia meos urbe?\n",
      "quid clem lumina divum reddidit ubota saturi reliceoria nostro,\n",
      "quandoquis: nunc mare unice cupide verba,\n",
      "quam tum prodefi membus frater imprius olim,\n",
      "ut quod qui nomine, non fassis mundicum,\n",
      "et satis immiter datu saceret\n",
      "meuneos patrisse milia curas.\n",
      "otnia, cum lepultis pueris, inepta legi.\n",
      "namque quibus ei nuptos erroris?\n",
      "eris atque imatituis servus flagitia moecha, turpis hominum flamma, dum\n",
      "incocdidula contrasos,\n",
      "Troduli, cum veta pratara magnades domum Hadriae cideren:\n",
      "contubercis Nemesio videre,\n",
      "Gelli, sive hanc mirifiat ac cupida in lota\n",
      "saepe dulcis iugaue,\n",
      "rudit domum errorio, miteri\n",
      "in tanto qui me era, quod, puppore laeta mea est,\n",
      "quem tum prodes verte tollens cavis,\n",
      "haren indada anue pucit,\n",
      "otios ut purginis siccupante implicat floris.\n",
      "nam quo toto depineos ut hocses. sed fraterne mens Chocoscunt.\n",
      "quaro, ni peres aut sivia mea: manus\n",
      "prodes: nobis haec, novi nocte Theseus\n",
      "essemper iraevem;\n",
      "sic ferrum terra iocosere puercario.\n",
      "curis tenuis semper, quibus est creaeque\n",
      "cava velatum manus\n",
      "vester cegimus, utidam comploniescunatum habet,\n",
      "quem mulata tamen iuver, mollicis illam\n",
      "urato cum miteris saocruo…\n",
      "at tea geriga imaguosius est para,\n",
      "soli satisto patris carius in malum\n",
      "et lubella: tanticae mea denciet Veneri\n",
      "(labro quos detuida montis, quonus est oculis paritere\n",
      "aut venosa dum pallo iucunda in vadue,\n",
      "hoc piter temper et ferire pectum luope,\n",
      "sed bene velle passis.\n",
      "Hymen o Hymenaee, Hymen,, de, io Hymen Hymenaee.\n",
      "\n",
      "CIII. ad pilce\n",
      "\n",
      "Nules illud tecum thyndo Formophi,\n",
      "huc te remora bominus\n",
      "et lemina puelle\n",
      "placatur tuturium.\n",
      "cervanstis bempo, pedici, quam cupis sonat fusti.\n",
      "fueris uno vivis una in intemeret\n",
      "ambli un iuqui iter mic,\n",
      "sed amata Canoniaeque tuus invidea ut furire is revivere:\n",
      "numquaque, deoe volere Rymi\n",
      "comperine iam Hymedaee!\n",
      "nam Catullum puerum.\n",
      "namque fatatimns vel Hedbere quicquam\n",
      "venuos. quibus saleat illucque silius,\n",
      "rasteribulum cupida est rubea, ballo,\n",
      "demuta, Saeonis\n",
      "Gesdis tamenus fertur Favonis,\n",
      "et magis in itro mala puella parentis\n",
      "carmine divo clarentos haec tiuella deae\n",
      "praeserque pars cheres urbinum.\n",
      "quare non domita diva tetentis\n",
      "talla filo, properit exsederis,\n",
      "iam cana strisua duper aurorum speris errum\n",
      "regius complexervant) manum cupido cersariem,\n",
      "tuo te moebune puer, cum os.\n",
      "cus ineptier maritum fello.\n",
      "si nuscitis puer exeglenso valebunt mihi,\n",
      "nuc simun cum sidere nolere parum est,\n",
      "neae Thesea quam me ut rapidi tamen omnibus\n",
      "aut uno dempri? religillos habere parvum,\n",
      "si nuptia est rumilae,\n",
      "que tamen frustrapis puellices. pric assipulae\n",
      "nostrum est dixeri recditor,\n",
      "nocte meas putare taeribus confecto.\n",
      "at tuus cecilles perculsae tam beata bona, pido,\n",
      "resollibus ora:\n",
      "plarum usslemine succipia laudibie labore istum\n",
      "protilium habere somicum,\n",
      "passultros impritantem: nam si parenti silium limine Mino\n",
      "\n",
      "lurctum imno tum  Calce me, si vitam temere rius: nam\n",
      "nimerque carmina corpus\n",
      "zonos ut lubet esse,\n",
      "patria, quemquit sole Rnndum Attis facem est quantum inpuliro corpus.\n",
      "saepe cum solet in remittere sumptuosis meos nefarias?\n",
      "simul excitantibus et miteatos ut quamvas usque? Cadobe,\n",
      "Thyda. si quid feras Catullus rapidum fido,\n",
      "qui pronum exteret i: nam volo immitis, Catollus ineonius torum\n",
      "ipsius mundius incita semen capiter amari facta maritus lopi.\n",
      "vosuittis superarunt sensillarem, marito commoda: nam quid mihi maxis est credens\n",
      "vitis cupidae iam mente revisens.\n",
      "nam nec fraredum est bello profeceria.\n",
      "\n",
      "LXXXV. ad Gellium\n",
      "\n",
      "VerariGni ampiem medica Caria Siperos.\n",
      "cum prodes, optimo putare Malna,\n",
      "cum alta, velorum brochia digmam.\n",
      "quare nigeint Veranestis\n",
      "et tum credidere lucum\n",
      "qui postquam deseris amor sacris captima furor\n",
      "una praeceps Smyrios domulum, vesini Promethiae,\n",
      "tum Trenciteosque: o Hymenaeere Heredoiyae fiti metiens\n",
      "lucemus viro\n",
      "\n",
      "Sustionias adibundam,\n",
      "quod facillas per tum perso venio meus cape est: facta manetum, ne amicitue gaudia dessum.\n",
      "aptas saeculius in amorem\n",
      "quom tota domum convenisti es percula bumino, videbis,\n",
      "qui vaguo confemulio lebere Romus maee es\n",
      "\n",
      "Minitii saniat virgorum tuam.\n",
      "\n",
      "XII. \n",
      "Postus pugero quis candido mater ad sed bearaque opuitus,\n",
      "tumque tacito cura puercat,\n",
      "qui tamen ut exprobi neplecta improbis quo\n"
     ]
    }
   ],
   "source": [
    "sample(m, alphabet, 10000) |> println"
   ]
  },
  {
   "cell_type": "code",
   "execution_count": null,
   "metadata": {
    "collapsed": true
   },
   "outputs": [],
   "source": []
  }
 ],
 "metadata": {
  "@webio": {
   "lastCommId": null,
   "lastKernelId": null
  },
  "anaconda-cloud": {},
  "kernelspec": {
   "display_name": "Julia 1.0.1",
   "language": "julia",
   "name": "julia-1.0"
  },
  "language_info": {
   "file_extension": ".jl",
   "mimetype": "application/julia",
   "name": "julia",
   "version": "1.0.1"
  }
 },
 "nbformat": 4,
 "nbformat_minor": 3
}
