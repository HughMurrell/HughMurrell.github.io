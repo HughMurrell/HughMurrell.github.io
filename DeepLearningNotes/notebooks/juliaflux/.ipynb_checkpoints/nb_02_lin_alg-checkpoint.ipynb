{
 "cells": [
  {
   "cell_type": "markdown",
   "metadata": {
    "slideshow": {
     "slide_type": "slide"
    }
   },
   "source": [
    "# Linear Algebra with Julia"
   ]
  },
  {
   "cell_type": "code",
   "execution_count": 1,
   "metadata": {
    "collapsed": true,
    "slideshow": {
     "slide_type": "fragment"
    }
   },
   "outputs": [],
   "source": [
    "using LinearAlgebra"
   ]
  },
  {
   "cell_type": "markdown",
   "metadata": {
    "slideshow": {
     "slide_type": "subslide"
    }
   },
   "source": [
    "### Vector operations"
   ]
  },
  {
   "cell_type": "code",
   "execution_count": 18,
   "metadata": {
    "collapsed": false,
    "slideshow": {
     "slide_type": "fragment"
    }
   },
   "outputs": [
    {
     "data": {
      "text/plain": [
       "1×3 Array{Int64,2}:\n",
       " 10  20  30"
      ]
     },
     "execution_count": 18,
     "metadata": {},
     "output_type": "execute_result"
    }
   ],
   "source": [
    "vr = [10 20 30] # Create a row vector. "
   ]
  },
  {
   "cell_type": "code",
   "execution_count": 19,
   "metadata": {
    "collapsed": false,
    "slideshow": {
     "slide_type": "fragment"
    }
   },
   "outputs": [
    {
     "data": {
      "text/plain": [
       "10"
      ]
     },
     "execution_count": 19,
     "metadata": {},
     "output_type": "execute_result"
    }
   ],
   "source": [
    "vr[1] # Access first element. \n",
    "      # Julia is 1-indexed"
   ]
  },
  {
   "cell_type": "code",
   "execution_count": 20,
   "metadata": {
    "collapsed": false,
    "slideshow": {
     "slide_type": "fragment"
    }
   },
   "outputs": [
    {
     "data": {
      "text/plain": [
       "3-element Array{Int64,1}:\n",
       " 10\n",
       " 20\n",
       " 30"
      ]
     },
     "execution_count": 20,
     "metadata": {},
     "output_type": "execute_result"
    }
   ],
   "source": [
    "vc = [10; 20; 30] # Create a column vector. \n",
    "               # Semi-colon is used to change row."
   ]
  },
  {
   "cell_type": "markdown",
   "metadata": {
    "collapsed": true,
    "slideshow": {
     "slide_type": "subslide"
    }
   },
   "source": [
    "### Matrix operations"
   ]
  },
  {
   "cell_type": "code",
   "execution_count": 21,
   "metadata": {
    "collapsed": false,
    "slideshow": {
     "slide_type": "fragment"
    }
   },
   "outputs": [
    {
     "data": {
      "text/plain": [
       "3×3 Array{Int64,2}:\n",
       " 1  2  3\n",
       " 4  5  6\n",
       " 7  8  9"
      ]
     },
     "execution_count": 21,
     "metadata": {},
     "output_type": "execute_result"
    }
   ],
   "source": [
    "M = [1 2 3; 4 5 6; 7 8 9] # Semi-colon is used to change rows.\n",
    "                          # Space is used to seperate columns."
   ]
  },
  {
   "cell_type": "code",
   "execution_count": 22,
   "metadata": {
    "collapsed": false,
    "slideshow": {
     "slide_type": "fragment"
    }
   },
   "outputs": [
    {
     "data": {
      "text/plain": [
       "3×3 Array{Int64,2}:\n",
       " 1  0  3\n",
       " 4  5  6\n",
       " 7  8  9"
      ]
     },
     "execution_count": 22,
     "metadata": {},
     "output_type": "execute_result"
    }
   ],
   "source": [
    "M[1,2] = 0 # assigning new value to element of 1st row and 2nd column.\n",
    "M"
   ]
  },
  {
   "cell_type": "code",
   "execution_count": 24,
   "metadata": {
    "collapsed": false,
    "slideshow": {
     "slide_type": "subslide"
    }
   },
   "outputs": [
    {
     "data": {
      "text/plain": [
       "3-element Array{Int64,1}:\n",
       " 100\n",
       " 320\n",
       " 500"
      ]
     },
     "execution_count": 24,
     "metadata": {},
     "output_type": "execute_result"
    }
   ],
   "source": [
    "M * vc # matrix times column vector"
   ]
  },
  {
   "cell_type": "code",
   "execution_count": 25,
   "metadata": {
    "collapsed": false,
    "slideshow": {
     "slide_type": "fragment"
    }
   },
   "outputs": [
    {
     "data": {
      "text/plain": [
       "1×3 Array{Int64,2}:\n",
       " 300  340  420"
      ]
     },
     "execution_count": 25,
     "metadata": {},
     "output_type": "execute_result"
    }
   ],
   "source": [
    "vr * M # row vector times matrix"
   ]
  },
  {
   "cell_type": "code",
   "execution_count": 26,
   "metadata": {
    "collapsed": false,
    "slideshow": {
     "slide_type": "subslide"
    }
   },
   "outputs": [
    {
     "data": {
      "text/plain": [
       "3×3 Adjoint{Int64,Array{Int64,2}}:\n",
       " 1  4  7\n",
       " 0  5  8\n",
       " 3  6  9"
      ]
     },
     "execution_count": 26,
     "metadata": {},
     "output_type": "execute_result"
    }
   ],
   "source": [
    "M' # Transpose of a matrix using single qoute."
   ]
  },
  {
   "cell_type": "code",
   "execution_count": 27,
   "metadata": {
    "collapsed": false,
    "slideshow": {
     "slide_type": "fragment"
    }
   },
   "outputs": [
    {
     "data": {
      "text/plain": [
       "3×3 Array{Float64,2}:\n",
       "  0.25  -2.0        1.25    \n",
       " -0.5    1.0       -0.5     \n",
       "  0.25   0.666667  -0.416667"
      ]
     },
     "execution_count": 27,
     "metadata": {},
     "output_type": "execute_result"
    }
   ],
   "source": [
    "inv(M) # Inverse of a matrix."
   ]
  },
  {
   "cell_type": "code",
   "execution_count": 28,
   "metadata": {
    "collapsed": false,
    "slideshow": {
     "slide_type": "fragment"
    }
   },
   "outputs": [
    {
     "data": {
      "text/plain": [
       "3×3 Array{Float64,2}:\n",
       " 1.0   0.0          0.0\n",
       " 0.0   1.0          0.0\n",
       " 0.0  -8.88178e-16  1.0"
      ]
     },
     "execution_count": 28,
     "metadata": {},
     "output_type": "execute_result"
    }
   ],
   "source": [
    "M * inv(M) # matrix times matrix"
   ]
  },
  {
   "cell_type": "code",
   "execution_count": 31,
   "metadata": {
    "collapsed": false,
    "slideshow": {
     "slide_type": "subslide"
    }
   },
   "outputs": [
    {
     "data": {
      "text/plain": [
       "3×3 Array{Float64,2}:\n",
       " 1.0  2.0  5.0\n",
       " 2.0  5.0  7.0\n",
       " 5.0  7.0  9.0"
      ]
     },
     "execution_count": 31,
     "metadata": {},
     "output_type": "execute_result"
    }
   ],
   "source": [
    "M = (M + M') ./ 2 # turn M into a symmetric matrix"
   ]
  },
  {
   "cell_type": "code",
   "execution_count": 32,
   "metadata": {
    "collapsed": false,
    "slideshow": {
     "slide_type": "fragment"
    }
   },
   "outputs": [
    {
     "data": {
      "text/plain": [
       "Eigen{Float64,Float64,Array{Float64,2},Array{Float64,1}}\n",
       "eigenvalues:\n",
       "3-element Array{Float64,1}:\n",
       " -1.9018621383384728\n",
       "  0.8172409872018407\n",
       " 16.084621151136606 \n",
       "eigenvectors:\n",
       "3×3 Array{Float64,2}:\n",
       " -0.732524   0.596549  0.327928\n",
       " -0.368347  -0.752455  0.546014\n",
       "  0.572476   0.279177  0.770929"
      ]
     },
     "execution_count": 32,
     "metadata": {},
     "output_type": "execute_result"
    }
   ],
   "source": [
    "w, U = eigen(M) # eigenvalue decomposition from the Linear Algebra package"
   ]
  },
  {
   "cell_type": "code",
   "execution_count": 44,
   "metadata": {
    "collapsed": false,
    "slideshow": {
     "slide_type": "subslide"
    }
   },
   "outputs": [
    {
     "data": {
      "text/plain": [
       "3×3 Array{Float64,2}:\n",
       " 1.0          1.38778e-16  0.0        \n",
       " 1.38778e-16  1.0          1.11022e-16\n",
       " 0.0          1.11022e-16  1.0        "
      ]
     },
     "execution_count": 44,
     "metadata": {},
     "output_type": "execute_result"
    }
   ],
   "source": [
    "U * U' # The columns of U are authonormal eigenvectors"
   ]
  },
  {
   "cell_type": "code",
   "execution_count": 43,
   "metadata": {
    "collapsed": false,
    "slideshow": {
     "slide_type": "fragment"
    }
   },
   "outputs": [
    {
     "data": {
      "text/plain": [
       "3×3 Array{Float64,2}:\n",
       " 1.0  2.0  5.0\n",
       " 2.0  5.0  7.0\n",
       " 5.0  7.0  9.0"
      ]
     },
     "execution_count": 43,
     "metadata": {},
     "output_type": "execute_result"
    }
   ],
   "source": [
    "U * Diagonal(w) * U' # checking the Eigenvector decomposition theorem"
   ]
  },
  {
   "cell_type": "code",
   "execution_count": 55,
   "metadata": {
    "collapsed": false,
    "slideshow": {
     "slide_type": "subslide"
    }
   },
   "outputs": [
    {
     "data": {
      "text/plain": [
       "3×3 Array{Int64,2}:\n",
       "  2  -1   0\n",
       " -1   2  -1\n",
       "  0  -1   2"
      ]
     },
     "execution_count": 55,
     "metadata": {},
     "output_type": "execute_result"
    }
   ],
   "source": [
    "A = [ 2 -1 0; -1 2 -1; 0 -1 2 ]  # A is positive definite\n",
    "                                 #"
   ]
  },
  {
   "cell_type": "code",
   "execution_count": 57,
   "metadata": {
    "collapsed": false,
    "slideshow": {
     "slide_type": "fragment"
    }
   },
   "outputs": [
    {
     "data": {
      "text/plain": [
       "Eigen{Float64,Float64,Array{Float64,2},Array{Float64,1}}\n",
       "eigenvalues:\n",
       "3-element Array{Float64,1}:\n",
       " 0.5857864376269073\n",
       " 2.0000000000000018\n",
       " 3.414213562373095 \n",
       "eigenvectors:\n",
       "3×3 Array{Float64,2}:\n",
       " 0.5       -0.707107     -0.5     \n",
       " 0.707107   1.09906e-15   0.707107\n",
       " 0.5        0.707107     -0.5     "
      ]
     },
     "execution_count": 57,
     "metadata": {},
     "output_type": "execute_result"
    }
   ],
   "source": [
    "eigen(A)"
   ]
  },
  {
   "cell_type": "code",
   "execution_count": 58,
   "metadata": {
    "collapsed": false,
    "slideshow": {
     "slide_type": "subslide"
    }
   },
   "outputs": [
    {
     "data": {
      "text/plain": [
       "3×3 Array{Float64,2}:\n",
       "  1.36039    -0.382683  -0.0538253\n",
       " -0.382683    1.30656   -0.382683 \n",
       " -0.0538253  -0.382683   1.36039  "
      ]
     },
     "execution_count": 58,
     "metadata": {},
     "output_type": "execute_result"
    }
   ],
   "source": [
    "# square root for positive definite matrices\n",
    "function matSqrt(M)\n",
    "    w, U = eigen(M)\n",
    "    return U * Diagonal(w).^(1/2) * U'\n",
    "end\n",
    "\n",
    "matSqrt(A)"
   ]
  },
  {
   "cell_type": "code",
   "execution_count": 59,
   "metadata": {
    "collapsed": false,
    "slideshow": {
     "slide_type": "fragment"
    }
   },
   "outputs": [
    {
     "data": {
      "text/plain": [
       "3×3 Array{Float64,2}:\n",
       "  2.0          -1.0  -2.91434e-16\n",
       " -1.0           2.0  -1.0        \n",
       " -4.16334e-17  -1.0   2.0        "
      ]
     },
     "execution_count": 59,
     "metadata": {},
     "output_type": "execute_result"
    }
   ],
   "source": [
    "matSqrt(A) * matSqrt(A)"
   ]
  },
  {
   "cell_type": "code",
   "execution_count": 111,
   "metadata": {
    "collapsed": false
   },
   "outputs": [
    {
     "data": {
      "image/svg+xml": [
       "<?xml version=\"1.0\" encoding=\"utf-8\"?>\n",
       "<svg xmlns=\"http://www.w3.org/2000/svg\" xmlns:xlink=\"http://www.w3.org/1999/xlink\" width=\"600\" height=\"400\" viewBox=\"0 0 2400 1600\">\n",
       "<defs>\n",
       "  <clipPath id=\"clip5100\">\n",
       "    <rect x=\"0\" y=\"0\" width=\"2000\" height=\"2000\"/>\n",
       "  </clipPath>\n",
       "</defs>\n",
       "<defs>\n",
       "  <clipPath id=\"clip5101\">\n",
       "    <rect x=\"0\" y=\"0\" width=\"2400\" height=\"1600\"/>\n",
       "  </clipPath>\n",
       "</defs>\n",
       "<polygon clip-path=\"url(#clip5101)\" points=\"\n",
       "0,1600 2400,1600 2400,0 0,0 \n",
       "  \" fill=\"#ffffff\" fill-rule=\"evenodd\" fill-opacity=\"1\"/>\n",
       "<defs>\n",
       "  <clipPath id=\"clip5102\">\n",
       "    <rect x=\"480\" y=\"0\" width=\"1681\" height=\"1600\"/>\n",
       "  </clipPath>\n",
       "</defs>\n",
       "<polygon clip-path=\"url(#clip5101)\" points=\"\n",
       "174.775,1503.47 2321.26,1503.47 2321.26,47.2441 174.775,47.2441 \n",
       "  \" fill=\"#ffffff\" fill-rule=\"evenodd\" fill-opacity=\"1\"/>\n",
       "<defs>\n",
       "  <clipPath id=\"clip5103\">\n",
       "    <rect x=\"174\" y=\"47\" width=\"2147\" height=\"1457\"/>\n",
       "  </clipPath>\n",
       "</defs>\n",
       "<polyline clip-path=\"url(#clip5103)\" style=\"stroke:#000000; stroke-width:2; stroke-opacity:0.1; fill:none\" points=\"\n",
       "  214.525,1503.47 214.525,47.2441 \n",
       "  \"/>\n",
       "<polyline clip-path=\"url(#clip5103)\" style=\"stroke:#000000; stroke-width:2; stroke-opacity:0.1; fill:none\" points=\"\n",
       "  727.698,1503.47 727.698,47.2441 \n",
       "  \"/>\n",
       "<polyline clip-path=\"url(#clip5103)\" style=\"stroke:#000000; stroke-width:2; stroke-opacity:0.1; fill:none\" points=\"\n",
       "  1240.87,1503.47 1240.87,47.2441 \n",
       "  \"/>\n",
       "<polyline clip-path=\"url(#clip5103)\" style=\"stroke:#000000; stroke-width:2; stroke-opacity:0.1; fill:none\" points=\"\n",
       "  1754.04,1503.47 1754.04,47.2441 \n",
       "  \"/>\n",
       "<polyline clip-path=\"url(#clip5103)\" style=\"stroke:#000000; stroke-width:2; stroke-opacity:0.1; fill:none\" points=\"\n",
       "  2267.22,1503.47 2267.22,47.2441 \n",
       "  \"/>\n",
       "<polyline clip-path=\"url(#clip5103)\" style=\"stroke:#000000; stroke-width:2; stroke-opacity:0.1; fill:none\" points=\"\n",
       "  174.775,1356.27 2321.26,1356.27 \n",
       "  \"/>\n",
       "<polyline clip-path=\"url(#clip5103)\" style=\"stroke:#000000; stroke-width:2; stroke-opacity:0.1; fill:none\" points=\"\n",
       "  174.775,1076.25 2321.26,1076.25 \n",
       "  \"/>\n",
       "<polyline clip-path=\"url(#clip5103)\" style=\"stroke:#000000; stroke-width:2; stroke-opacity:0.1; fill:none\" points=\"\n",
       "  174.775,796.227 2321.26,796.227 \n",
       "  \"/>\n",
       "<polyline clip-path=\"url(#clip5103)\" style=\"stroke:#000000; stroke-width:2; stroke-opacity:0.1; fill:none\" points=\"\n",
       "  174.775,516.205 2321.26,516.205 \n",
       "  \"/>\n",
       "<polyline clip-path=\"url(#clip5103)\" style=\"stroke:#000000; stroke-width:2; stroke-opacity:0.1; fill:none\" points=\"\n",
       "  174.775,236.183 2321.26,236.183 \n",
       "  \"/>\n",
       "<polyline clip-path=\"url(#clip5101)\" style=\"stroke:#000000; stroke-width:4; stroke-opacity:1; fill:none\" points=\"\n",
       "  174.775,1503.47 2321.26,1503.47 \n",
       "  \"/>\n",
       "<polyline clip-path=\"url(#clip5101)\" style=\"stroke:#000000; stroke-width:4; stroke-opacity:1; fill:none\" points=\"\n",
       "  174.775,1503.47 174.775,47.2441 \n",
       "  \"/>\n",
       "<polyline clip-path=\"url(#clip5101)\" style=\"stroke:#000000; stroke-width:4; stroke-opacity:1; fill:none\" points=\"\n",
       "  214.525,1503.47 214.525,1481.63 \n",
       "  \"/>\n",
       "<polyline clip-path=\"url(#clip5101)\" style=\"stroke:#000000; stroke-width:4; stroke-opacity:1; fill:none\" points=\"\n",
       "  727.698,1503.47 727.698,1481.63 \n",
       "  \"/>\n",
       "<polyline clip-path=\"url(#clip5101)\" style=\"stroke:#000000; stroke-width:4; stroke-opacity:1; fill:none\" points=\"\n",
       "  1240.87,1503.47 1240.87,1481.63 \n",
       "  \"/>\n",
       "<polyline clip-path=\"url(#clip5101)\" style=\"stroke:#000000; stroke-width:4; stroke-opacity:1; fill:none\" points=\"\n",
       "  1754.04,1503.47 1754.04,1481.63 \n",
       "  \"/>\n",
       "<polyline clip-path=\"url(#clip5101)\" style=\"stroke:#000000; stroke-width:4; stroke-opacity:1; fill:none\" points=\"\n",
       "  2267.22,1503.47 2267.22,1481.63 \n",
       "  \"/>\n",
       "<polyline clip-path=\"url(#clip5101)\" style=\"stroke:#000000; stroke-width:4; stroke-opacity:1; fill:none\" points=\"\n",
       "  174.775,1356.27 206.972,1356.27 \n",
       "  \"/>\n",
       "<polyline clip-path=\"url(#clip5101)\" style=\"stroke:#000000; stroke-width:4; stroke-opacity:1; fill:none\" points=\"\n",
       "  174.775,1076.25 206.972,1076.25 \n",
       "  \"/>\n",
       "<polyline clip-path=\"url(#clip5101)\" style=\"stroke:#000000; stroke-width:4; stroke-opacity:1; fill:none\" points=\"\n",
       "  174.775,796.227 206.972,796.227 \n",
       "  \"/>\n",
       "<polyline clip-path=\"url(#clip5101)\" style=\"stroke:#000000; stroke-width:4; stroke-opacity:1; fill:none\" points=\"\n",
       "  174.775,516.205 206.972,516.205 \n",
       "  \"/>\n",
       "<polyline clip-path=\"url(#clip5101)\" style=\"stroke:#000000; stroke-width:4; stroke-opacity:1; fill:none\" points=\"\n",
       "  174.775,236.183 206.972,236.183 \n",
       "  \"/>\n",
       "<g clip-path=\"url(#clip5101)\">\n",
       "<text style=\"fill:#000000; fill-opacity:1; font-family:Arial,Helvetica Neue,Helvetica,sans-serif; font-size:48px; text-anchor:middle;\" transform=\"rotate(0, 214.525, 1557.47)\" x=\"214.525\" y=\"1557.47\">0.00</text>\n",
       "</g>\n",
       "<g clip-path=\"url(#clip5101)\">\n",
       "<text style=\"fill:#000000; fill-opacity:1; font-family:Arial,Helvetica Neue,Helvetica,sans-serif; font-size:48px; text-anchor:middle;\" transform=\"rotate(0, 727.698, 1557.47)\" x=\"727.698\" y=\"1557.47\">0.25</text>\n",
       "</g>\n",
       "<g clip-path=\"url(#clip5101)\">\n",
       "<text style=\"fill:#000000; fill-opacity:1; font-family:Arial,Helvetica Neue,Helvetica,sans-serif; font-size:48px; text-anchor:middle;\" transform=\"rotate(0, 1240.87, 1557.47)\" x=\"1240.87\" y=\"1557.47\">0.50</text>\n",
       "</g>\n",
       "<g clip-path=\"url(#clip5101)\">\n",
       "<text style=\"fill:#000000; fill-opacity:1; font-family:Arial,Helvetica Neue,Helvetica,sans-serif; font-size:48px; text-anchor:middle;\" transform=\"rotate(0, 1754.04, 1557.47)\" x=\"1754.04\" y=\"1557.47\">0.75</text>\n",
       "</g>\n",
       "<g clip-path=\"url(#clip5101)\">\n",
       "<text style=\"fill:#000000; fill-opacity:1; font-family:Arial,Helvetica Neue,Helvetica,sans-serif; font-size:48px; text-anchor:middle;\" transform=\"rotate(0, 2267.22, 1557.47)\" x=\"2267.22\" y=\"1557.47\">1.00</text>\n",
       "</g>\n",
       "<g clip-path=\"url(#clip5101)\">\n",
       "<text style=\"fill:#000000; fill-opacity:1; font-family:Arial,Helvetica Neue,Helvetica,sans-serif; font-size:48px; text-anchor:end;\" transform=\"rotate(0, 150.775, 1373.77)\" x=\"150.775\" y=\"1373.77\">60</text>\n",
       "</g>\n",
       "<g clip-path=\"url(#clip5101)\">\n",
       "<text style=\"fill:#000000; fill-opacity:1; font-family:Arial,Helvetica Neue,Helvetica,sans-serif; font-size:48px; text-anchor:end;\" transform=\"rotate(0, 150.775, 1093.75)\" x=\"150.775\" y=\"1093.75\">80</text>\n",
       "</g>\n",
       "<g clip-path=\"url(#clip5101)\">\n",
       "<text style=\"fill:#000000; fill-opacity:1; font-family:Arial,Helvetica Neue,Helvetica,sans-serif; font-size:48px; text-anchor:end;\" transform=\"rotate(0, 150.775, 813.727)\" x=\"150.775\" y=\"813.727\">100</text>\n",
       "</g>\n",
       "<g clip-path=\"url(#clip5101)\">\n",
       "<text style=\"fill:#000000; fill-opacity:1; font-family:Arial,Helvetica Neue,Helvetica,sans-serif; font-size:48px; text-anchor:end;\" transform=\"rotate(0, 150.775, 533.705)\" x=\"150.775\" y=\"533.705\">120</text>\n",
       "</g>\n",
       "<g clip-path=\"url(#clip5101)\">\n",
       "<text style=\"fill:#000000; fill-opacity:1; font-family:Arial,Helvetica Neue,Helvetica,sans-serif; font-size:48px; text-anchor:end;\" transform=\"rotate(0, 150.775, 253.683)\" x=\"150.775\" y=\"253.683\">140</text>\n",
       "</g>\n",
       "<circle clip-path=\"url(#clip5103)\" style=\"fill:#000000; stroke:none; fill-opacity:1\" cx=\"1652.32\" cy=\"538.985\" r=\"18\"/>\n",
       "<circle clip-path=\"url(#clip5103)\" style=\"fill:#009af9; stroke:none; fill-opacity:1\" cx=\"1652.32\" cy=\"538.985\" r=\"14\"/>\n",
       "<circle clip-path=\"url(#clip5103)\" style=\"fill:#000000; stroke:none; fill-opacity:1\" cx=\"946.318\" cy=\"922.968\" r=\"18\"/>\n",
       "<circle clip-path=\"url(#clip5103)\" style=\"fill:#009af9; stroke:none; fill-opacity:1\" cx=\"946.318\" cy=\"922.968\" r=\"14\"/>\n",
       "<circle clip-path=\"url(#clip5103)\" style=\"fill:#000000; stroke:none; fill-opacity:1\" cx=\"1250.44\" cy=\"761.407\" r=\"18\"/>\n",
       "<circle clip-path=\"url(#clip5103)\" style=\"fill:#009af9; stroke:none; fill-opacity:1\" cx=\"1250.44\" cy=\"761.407\" r=\"14\"/>\n",
       "<circle clip-path=\"url(#clip5103)\" style=\"fill:#000000; stroke:none; fill-opacity:1\" cx=\"907.944\" cy=\"1044.15\" r=\"18\"/>\n",
       "<circle clip-path=\"url(#clip5103)\" style=\"fill:#009af9; stroke:none; fill-opacity:1\" cx=\"907.944\" cy=\"1044.15\" r=\"14\"/>\n",
       "<circle clip-path=\"url(#clip5103)\" style=\"fill:#000000; stroke:none; fill-opacity:1\" cx=\"1725.92\" cy=\"432.301\" r=\"18\"/>\n",
       "<circle clip-path=\"url(#clip5103)\" style=\"fill:#009af9; stroke:none; fill-opacity:1\" cx=\"1725.92\" cy=\"432.301\" r=\"14\"/>\n",
       "<circle clip-path=\"url(#clip5103)\" style=\"fill:#000000; stroke:none; fill-opacity:1\" cx=\"1232.43\" cy=\"789.266\" r=\"18\"/>\n",
       "<circle clip-path=\"url(#clip5103)\" style=\"fill:#009af9; stroke:none; fill-opacity:1\" cx=\"1232.43\" cy=\"789.266\" r=\"14\"/>\n",
       "<circle clip-path=\"url(#clip5103)\" style=\"fill:#000000; stroke:none; fill-opacity:1\" cx=\"964.548\" cy=\"972.566\" r=\"18\"/>\n",
       "<circle clip-path=\"url(#clip5103)\" style=\"fill:#009af9; stroke:none; fill-opacity:1\" cx=\"964.548\" cy=\"972.566\" r=\"14\"/>\n",
       "<circle clip-path=\"url(#clip5103)\" style=\"fill:#000000; stroke:none; fill-opacity:1\" cx=\"257.659\" cy=\"1462.26\" r=\"18\"/>\n",
       "<circle clip-path=\"url(#clip5103)\" style=\"fill:#009af9; stroke:none; fill-opacity:1\" cx=\"257.659\" cy=\"1462.26\" r=\"14\"/>\n",
       "<circle clip-path=\"url(#clip5103)\" style=\"fill:#000000; stroke:none; fill-opacity:1\" cx=\"2238.85\" cy=\"88.4582\" r=\"18\"/>\n",
       "<circle clip-path=\"url(#clip5103)\" style=\"fill:#009af9; stroke:none; fill-opacity:1\" cx=\"2238.85\" cy=\"88.4582\" r=\"14\"/>\n",
       "<circle clip-path=\"url(#clip5103)\" style=\"fill:#000000; stroke:none; fill-opacity:1\" cx=\"1186.19\" cy=\"857.656\" r=\"18\"/>\n",
       "<circle clip-path=\"url(#clip5103)\" style=\"fill:#009af9; stroke:none; fill-opacity:1\" cx=\"1186.19\" cy=\"857.656\" r=\"14\"/>\n",
       "<circle clip-path=\"url(#clip5103)\" style=\"fill:#000000; stroke:none; fill-opacity:1\" cx=\"877.495\" cy=\"1036.98\" r=\"18\"/>\n",
       "<circle clip-path=\"url(#clip5103)\" style=\"fill:#009af9; stroke:none; fill-opacity:1\" cx=\"877.495\" cy=\"1036.98\" r=\"14\"/>\n",
       "<circle clip-path=\"url(#clip5103)\" style=\"fill:#000000; stroke:none; fill-opacity:1\" cx=\"598.62\" cy=\"1217.11\" r=\"18\"/>\n",
       "<circle clip-path=\"url(#clip5103)\" style=\"fill:#009af9; stroke:none; fill-opacity:1\" cx=\"598.62\" cy=\"1217.11\" r=\"14\"/>\n",
       "<circle clip-path=\"url(#clip5103)\" style=\"fill:#000000; stroke:none; fill-opacity:1\" cx=\"802.122\" cy=\"1065.46\" r=\"18\"/>\n",
       "<circle clip-path=\"url(#clip5103)\" style=\"fill:#009af9; stroke:none; fill-opacity:1\" cx=\"802.122\" cy=\"1065.46\" r=\"14\"/>\n",
       "<circle clip-path=\"url(#clip5103)\" style=\"fill:#000000; stroke:none; fill-opacity:1\" cx=\"1061.82\" cy=\"889.232\" r=\"18\"/>\n",
       "<circle clip-path=\"url(#clip5103)\" style=\"fill:#009af9; stroke:none; fill-opacity:1\" cx=\"1061.82\" cy=\"889.232\" r=\"14\"/>\n",
       "<circle clip-path=\"url(#clip5103)\" style=\"fill:#000000; stroke:none; fill-opacity:1\" cx=\"1657.11\" cy=\"513.134\" r=\"18\"/>\n",
       "<circle clip-path=\"url(#clip5103)\" style=\"fill:#009af9; stroke:none; fill-opacity:1\" cx=\"1657.11\" cy=\"513.134\" r=\"14\"/>\n",
       "<circle clip-path=\"url(#clip5103)\" style=\"fill:#000000; stroke:none; fill-opacity:1\" cx=\"1062.21\" cy=\"908.981\" r=\"18\"/>\n",
       "<circle clip-path=\"url(#clip5103)\" style=\"fill:#009af9; stroke:none; fill-opacity:1\" cx=\"1062.21\" cy=\"908.981\" r=\"14\"/>\n",
       "<circle clip-path=\"url(#clip5103)\" style=\"fill:#000000; stroke:none; fill-opacity:1\" cx=\"2220.32\" cy=\"154.04\" r=\"18\"/>\n",
       "<circle clip-path=\"url(#clip5103)\" style=\"fill:#009af9; stroke:none; fill-opacity:1\" cx=\"2220.32\" cy=\"154.04\" r=\"14\"/>\n",
       "<circle clip-path=\"url(#clip5103)\" style=\"fill:#000000; stroke:none; fill-opacity:1\" cx=\"532.689\" cy=\"1297.33\" r=\"18\"/>\n",
       "<circle clip-path=\"url(#clip5103)\" style=\"fill:#009af9; stroke:none; fill-opacity:1\" cx=\"532.689\" cy=\"1297.33\" r=\"14\"/>\n",
       "<circle clip-path=\"url(#clip5103)\" style=\"fill:#000000; stroke:none; fill-opacity:1\" cx=\"928.207\" cy=\"988.307\" r=\"18\"/>\n",
       "<circle clip-path=\"url(#clip5103)\" style=\"fill:#009af9; stroke:none; fill-opacity:1\" cx=\"928.207\" cy=\"988.307\" r=\"14\"/>\n",
       "<circle clip-path=\"url(#clip5103)\" style=\"fill:#000000; stroke:none; fill-opacity:1\" cx=\"409.398\" cy=\"1383.49\" r=\"18\"/>\n",
       "<circle clip-path=\"url(#clip5103)\" style=\"fill:#009af9; stroke:none; fill-opacity:1\" cx=\"409.398\" cy=\"1383.49\" r=\"14\"/>\n",
       "<circle clip-path=\"url(#clip5103)\" style=\"fill:#000000; stroke:none; fill-opacity:1\" cx=\"1169.44\" cy=\"837.104\" r=\"18\"/>\n",
       "<circle clip-path=\"url(#clip5103)\" style=\"fill:#009af9; stroke:none; fill-opacity:1\" cx=\"1169.44\" cy=\"837.104\" r=\"14\"/>\n",
       "<circle clip-path=\"url(#clip5103)\" style=\"fill:#000000; stroke:none; fill-opacity:1\" cx=\"866.55\" cy=\"1053.43\" r=\"18\"/>\n",
       "<circle clip-path=\"url(#clip5103)\" style=\"fill:#009af9; stroke:none; fill-opacity:1\" cx=\"866.55\" cy=\"1053.43\" r=\"14\"/>\n",
       "<circle clip-path=\"url(#clip5103)\" style=\"fill:#000000; stroke:none; fill-opacity:1\" cx=\"719.146\" cy=\"1120.04\" r=\"18\"/>\n",
       "<circle clip-path=\"url(#clip5103)\" style=\"fill:#009af9; stroke:none; fill-opacity:1\" cx=\"719.146\" cy=\"1120.04\" r=\"14\"/>\n",
       "<circle clip-path=\"url(#clip5103)\" style=\"fill:#000000; stroke:none; fill-opacity:1\" cx=\"1834.21\" cy=\"331.958\" r=\"18\"/>\n",
       "<circle clip-path=\"url(#clip5103)\" style=\"fill:#009af9; stroke:none; fill-opacity:1\" cx=\"1834.21\" cy=\"331.958\" r=\"14\"/>\n",
       "<circle clip-path=\"url(#clip5103)\" style=\"fill:#000000; stroke:none; fill-opacity:1\" cx=\"2168.72\" cy=\"227.84\" r=\"18\"/>\n",
       "<circle clip-path=\"url(#clip5103)\" style=\"fill:#009af9; stroke:none; fill-opacity:1\" cx=\"2168.72\" cy=\"227.84\" r=\"14\"/>\n",
       "<circle clip-path=\"url(#clip5103)\" style=\"fill:#000000; stroke:none; fill-opacity:1\" cx=\"396.789\" cy=\"1361.8\" r=\"18\"/>\n",
       "<circle clip-path=\"url(#clip5103)\" style=\"fill:#009af9; stroke:none; fill-opacity:1\" cx=\"396.789\" cy=\"1361.8\" r=\"14\"/>\n",
       "<circle clip-path=\"url(#clip5103)\" style=\"fill:#000000; stroke:none; fill-opacity:1\" cx=\"653.582\" cy=\"1192.74\" r=\"18\"/>\n",
       "<circle clip-path=\"url(#clip5103)\" style=\"fill:#009af9; stroke:none; fill-opacity:1\" cx=\"653.582\" cy=\"1192.74\" r=\"14\"/>\n",
       "<circle clip-path=\"url(#clip5103)\" style=\"fill:#000000; stroke:none; fill-opacity:1\" cx=\"1610.6\" cy=\"585.821\" r=\"18\"/>\n",
       "<circle clip-path=\"url(#clip5103)\" style=\"fill:#009af9; stroke:none; fill-opacity:1\" cx=\"1610.6\" cy=\"585.821\" r=\"14\"/>\n",
       "<circle clip-path=\"url(#clip5103)\" style=\"fill:#000000; stroke:none; fill-opacity:1\" cx=\"1660.64\" cy=\"497.905\" r=\"18\"/>\n",
       "<circle clip-path=\"url(#clip5103)\" style=\"fill:#009af9; stroke:none; fill-opacity:1\" cx=\"1660.64\" cy=\"497.905\" r=\"14\"/>\n",
       "<circle clip-path=\"url(#clip5103)\" style=\"fill:#000000; stroke:none; fill-opacity:1\" cx=\"2205.12\" cy=\"112.763\" r=\"18\"/>\n",
       "<circle clip-path=\"url(#clip5103)\" style=\"fill:#009af9; stroke:none; fill-opacity:1\" cx=\"2205.12\" cy=\"112.763\" r=\"14\"/>\n",
       "<circle clip-path=\"url(#clip5103)\" style=\"fill:#000000; stroke:none; fill-opacity:1\" cx=\"1375.37\" cy=\"713.781\" r=\"18\"/>\n",
       "<circle clip-path=\"url(#clip5103)\" style=\"fill:#009af9; stroke:none; fill-opacity:1\" cx=\"1375.37\" cy=\"713.781\" r=\"14\"/>\n",
       "<circle clip-path=\"url(#clip5103)\" style=\"fill:#000000; stroke:none; fill-opacity:1\" cx=\"2209.32\" cy=\"111.226\" r=\"18\"/>\n",
       "<circle clip-path=\"url(#clip5103)\" style=\"fill:#009af9; stroke:none; fill-opacity:1\" cx=\"2209.32\" cy=\"111.226\" r=\"14\"/>\n",
       "<circle clip-path=\"url(#clip5103)\" style=\"fill:#000000; stroke:none; fill-opacity:1\" cx=\"1793.36\" cy=\"404.245\" r=\"18\"/>\n",
       "<circle clip-path=\"url(#clip5103)\" style=\"fill:#009af9; stroke:none; fill-opacity:1\" cx=\"1793.36\" cy=\"404.245\" r=\"14\"/>\n",
       "<circle clip-path=\"url(#clip5103)\" style=\"fill:#000000; stroke:none; fill-opacity:1\" cx=\"1227.96\" cy=\"741.353\" r=\"18\"/>\n",
       "<circle clip-path=\"url(#clip5103)\" style=\"fill:#009af9; stroke:none; fill-opacity:1\" cx=\"1227.96\" cy=\"741.353\" r=\"14\"/>\n",
       "<circle clip-path=\"url(#clip5103)\" style=\"fill:#000000; stroke:none; fill-opacity:1\" cx=\"2139.83\" cy=\"151.567\" r=\"18\"/>\n",
       "<circle clip-path=\"url(#clip5103)\" style=\"fill:#009af9; stroke:none; fill-opacity:1\" cx=\"2139.83\" cy=\"151.567\" r=\"14\"/>\n",
       "<circle clip-path=\"url(#clip5103)\" style=\"fill:#000000; stroke:none; fill-opacity:1\" cx=\"1532.55\" cy=\"618.579\" r=\"18\"/>\n",
       "<circle clip-path=\"url(#clip5103)\" style=\"fill:#009af9; stroke:none; fill-opacity:1\" cx=\"1532.55\" cy=\"618.579\" r=\"14\"/>\n",
       "<circle clip-path=\"url(#clip5103)\" style=\"fill:#000000; stroke:none; fill-opacity:1\" cx=\"725.674\" cy=\"1130.04\" r=\"18\"/>\n",
       "<circle clip-path=\"url(#clip5103)\" style=\"fill:#009af9; stroke:none; fill-opacity:1\" cx=\"725.674\" cy=\"1130.04\" r=\"14\"/>\n",
       "<circle clip-path=\"url(#clip5103)\" style=\"fill:#000000; stroke:none; fill-opacity:1\" cx=\"1662.52\" cy=\"497.205\" r=\"18\"/>\n",
       "<circle clip-path=\"url(#clip5103)\" style=\"fill:#009af9; stroke:none; fill-opacity:1\" cx=\"1662.52\" cy=\"497.205\" r=\"14\"/>\n",
       "<circle clip-path=\"url(#clip5103)\" style=\"fill:#000000; stroke:none; fill-opacity:1\" cx=\"828.074\" cy=\"1114.87\" r=\"18\"/>\n",
       "<circle clip-path=\"url(#clip5103)\" style=\"fill:#009af9; stroke:none; fill-opacity:1\" cx=\"828.074\" cy=\"1114.87\" r=\"14\"/>\n",
       "<circle clip-path=\"url(#clip5103)\" style=\"fill:#000000; stroke:none; fill-opacity:1\" cx=\"388.161\" cy=\"1377.35\" r=\"18\"/>\n",
       "<circle clip-path=\"url(#clip5103)\" style=\"fill:#009af9; stroke:none; fill-opacity:1\" cx=\"388.161\" cy=\"1377.35\" r=\"14\"/>\n",
       "<circle clip-path=\"url(#clip5103)\" style=\"fill:#000000; stroke:none; fill-opacity:1\" cx=\"1948.16\" cy=\"298.447\" r=\"18\"/>\n",
       "<circle clip-path=\"url(#clip5103)\" style=\"fill:#009af9; stroke:none; fill-opacity:1\" cx=\"1948.16\" cy=\"298.447\" r=\"14\"/>\n",
       "<circle clip-path=\"url(#clip5103)\" style=\"fill:#000000; stroke:none; fill-opacity:1\" cx=\"1161.44\" cy=\"901.517\" r=\"18\"/>\n",
       "<circle clip-path=\"url(#clip5103)\" style=\"fill:#009af9; stroke:none; fill-opacity:1\" cx=\"1161.44\" cy=\"901.517\" r=\"14\"/>\n",
       "<circle clip-path=\"url(#clip5103)\" style=\"fill:#000000; stroke:none; fill-opacity:1\" cx=\"1653.68\" cy=\"543.199\" r=\"18\"/>\n",
       "<circle clip-path=\"url(#clip5103)\" style=\"fill:#009af9; stroke:none; fill-opacity:1\" cx=\"1653.68\" cy=\"543.199\" r=\"14\"/>\n",
       "<circle clip-path=\"url(#clip5103)\" style=\"fill:#000000; stroke:none; fill-opacity:1\" cx=\"1406.53\" cy=\"679.569\" r=\"18\"/>\n",
       "<circle clip-path=\"url(#clip5103)\" style=\"fill:#009af9; stroke:none; fill-opacity:1\" cx=\"1406.53\" cy=\"679.569\" r=\"14\"/>\n",
       "<circle clip-path=\"url(#clip5103)\" style=\"fill:#000000; stroke:none; fill-opacity:1\" cx=\"1048.78\" cy=\"890.815\" r=\"18\"/>\n",
       "<circle clip-path=\"url(#clip5103)\" style=\"fill:#009af9; stroke:none; fill-opacity:1\" cx=\"1048.78\" cy=\"890.815\" r=\"14\"/>\n",
       "<circle clip-path=\"url(#clip5103)\" style=\"fill:#000000; stroke:none; fill-opacity:1\" cx=\"1540.56\" cy=\"607.084\" r=\"18\"/>\n",
       "<circle clip-path=\"url(#clip5103)\" style=\"fill:#009af9; stroke:none; fill-opacity:1\" cx=\"1540.56\" cy=\"607.084\" r=\"14\"/>\n",
       "<circle clip-path=\"url(#clip5103)\" style=\"fill:#000000; stroke:none; fill-opacity:1\" cx=\"1929.65\" cy=\"310.116\" r=\"18\"/>\n",
       "<circle clip-path=\"url(#clip5103)\" style=\"fill:#009af9; stroke:none; fill-opacity:1\" cx=\"1929.65\" cy=\"310.116\" r=\"14\"/>\n",
       "<circle clip-path=\"url(#clip5103)\" style=\"fill:#000000; stroke:none; fill-opacity:1\" cx=\"1114.72\" cy=\"883.877\" r=\"18\"/>\n",
       "<circle clip-path=\"url(#clip5103)\" style=\"fill:#009af9; stroke:none; fill-opacity:1\" cx=\"1114.72\" cy=\"883.877\" r=\"14\"/>\n",
       "<circle clip-path=\"url(#clip5103)\" style=\"fill:#000000; stroke:none; fill-opacity:1\" cx=\"581.681\" cy=\"1268.17\" r=\"18\"/>\n",
       "<circle clip-path=\"url(#clip5103)\" style=\"fill:#009af9; stroke:none; fill-opacity:1\" cx=\"581.681\" cy=\"1268.17\" r=\"14\"/>\n",
       "<circle clip-path=\"url(#clip5103)\" style=\"fill:#000000; stroke:none; fill-opacity:1\" cx=\"2260.51\" cy=\"99.9357\" r=\"18\"/>\n",
       "<circle clip-path=\"url(#clip5103)\" style=\"fill:#009af9; stroke:none; fill-opacity:1\" cx=\"2260.51\" cy=\"99.9357\" r=\"14\"/>\n",
       "<circle clip-path=\"url(#clip5103)\" style=\"fill:#000000; stroke:none; fill-opacity:1\" cx=\"1042.31\" cy=\"947.953\" r=\"18\"/>\n",
       "<circle clip-path=\"url(#clip5103)\" style=\"fill:#009af9; stroke:none; fill-opacity:1\" cx=\"1042.31\" cy=\"947.953\" r=\"14\"/>\n",
       "<circle clip-path=\"url(#clip5103)\" style=\"fill:#000000; stroke:none; fill-opacity:1\" cx=\"1729.4\" cy=\"397.471\" r=\"18\"/>\n",
       "<circle clip-path=\"url(#clip5103)\" style=\"fill:#009af9; stroke:none; fill-opacity:1\" cx=\"1729.4\" cy=\"397.471\" r=\"14\"/>\n",
       "<circle clip-path=\"url(#clip5103)\" style=\"fill:#000000; stroke:none; fill-opacity:1\" cx=\"527.772\" cy=\"1285.74\" r=\"18\"/>\n",
       "<circle clip-path=\"url(#clip5103)\" style=\"fill:#009af9; stroke:none; fill-opacity:1\" cx=\"527.772\" cy=\"1285.74\" r=\"14\"/>\n",
       "<circle clip-path=\"url(#clip5103)\" style=\"fill:#000000; stroke:none; fill-opacity:1\" cx=\"235.525\" cy=\"1435.16\" r=\"18\"/>\n",
       "<circle clip-path=\"url(#clip5103)\" style=\"fill:#009af9; stroke:none; fill-opacity:1\" cx=\"235.525\" cy=\"1435.16\" r=\"14\"/>\n",
       "<circle clip-path=\"url(#clip5103)\" style=\"fill:#000000; stroke:none; fill-opacity:1\" cx=\"572.354\" cy=\"1236.97\" r=\"18\"/>\n",
       "<circle clip-path=\"url(#clip5103)\" style=\"fill:#009af9; stroke:none; fill-opacity:1\" cx=\"572.354\" cy=\"1236.97\" r=\"14\"/>\n",
       "<circle clip-path=\"url(#clip5103)\" style=\"fill:#000000; stroke:none; fill-opacity:1\" cx=\"1971.84\" cy=\"304.013\" r=\"18\"/>\n",
       "<circle clip-path=\"url(#clip5103)\" style=\"fill:#009af9; stroke:none; fill-opacity:1\" cx=\"1971.84\" cy=\"304.013\" r=\"14\"/>\n",
       "<circle clip-path=\"url(#clip5103)\" style=\"fill:#000000; stroke:none; fill-opacity:1\" cx=\"1857.66\" cy=\"377.253\" r=\"18\"/>\n",
       "<circle clip-path=\"url(#clip5103)\" style=\"fill:#009af9; stroke:none; fill-opacity:1\" cx=\"1857.66\" cy=\"377.253\" r=\"14\"/>\n",
       "<circle clip-path=\"url(#clip5103)\" style=\"fill:#000000; stroke:none; fill-opacity:1\" cx=\"2119.14\" cy=\"175.857\" r=\"18\"/>\n",
       "<circle clip-path=\"url(#clip5103)\" style=\"fill:#009af9; stroke:none; fill-opacity:1\" cx=\"2119.14\" cy=\"175.857\" r=\"14\"/>\n",
       "<circle clip-path=\"url(#clip5103)\" style=\"fill:#000000; stroke:none; fill-opacity:1\" cx=\"739.289\" cy=\"1186.97\" r=\"18\"/>\n",
       "<circle clip-path=\"url(#clip5103)\" style=\"fill:#009af9; stroke:none; fill-opacity:1\" cx=\"739.289\" cy=\"1186.97\" r=\"14\"/>\n",
       "<circle clip-path=\"url(#clip5103)\" style=\"fill:#000000; stroke:none; fill-opacity:1\" cx=\"1984.75\" cy=\"251.019\" r=\"18\"/>\n",
       "<circle clip-path=\"url(#clip5103)\" style=\"fill:#009af9; stroke:none; fill-opacity:1\" cx=\"1984.75\" cy=\"251.019\" r=\"14\"/>\n",
       "<circle clip-path=\"url(#clip5103)\" style=\"fill:#000000; stroke:none; fill-opacity:1\" cx=\"1245.3\" cy=\"787.688\" r=\"18\"/>\n",
       "<circle clip-path=\"url(#clip5103)\" style=\"fill:#009af9; stroke:none; fill-opacity:1\" cx=\"1245.3\" cy=\"787.688\" r=\"14\"/>\n",
       "<circle clip-path=\"url(#clip5103)\" style=\"fill:#000000; stroke:none; fill-opacity:1\" cx=\"1716.59\" cy=\"458.933\" r=\"18\"/>\n",
       "<circle clip-path=\"url(#clip5103)\" style=\"fill:#009af9; stroke:none; fill-opacity:1\" cx=\"1716.59\" cy=\"458.933\" r=\"14\"/>\n",
       "<circle clip-path=\"url(#clip5103)\" style=\"fill:#000000; stroke:none; fill-opacity:1\" cx=\"796.224\" cy=\"1140.76\" r=\"18\"/>\n",
       "<circle clip-path=\"url(#clip5103)\" style=\"fill:#009af9; stroke:none; fill-opacity:1\" cx=\"796.224\" cy=\"1140.76\" r=\"14\"/>\n",
       "<circle clip-path=\"url(#clip5103)\" style=\"fill:#000000; stroke:none; fill-opacity:1\" cx=\"2018.87\" cy=\"243.899\" r=\"18\"/>\n",
       "<circle clip-path=\"url(#clip5103)\" style=\"fill:#009af9; stroke:none; fill-opacity:1\" cx=\"2018.87\" cy=\"243.899\" r=\"14\"/>\n",
       "<circle clip-path=\"url(#clip5103)\" style=\"fill:#000000; stroke:none; fill-opacity:1\" cx=\"1801.86\" cy=\"433.226\" r=\"18\"/>\n",
       "<circle clip-path=\"url(#clip5103)\" style=\"fill:#009af9; stroke:none; fill-opacity:1\" cx=\"1801.86\" cy=\"433.226\" r=\"14\"/>\n",
       "<circle clip-path=\"url(#clip5103)\" style=\"fill:#000000; stroke:none; fill-opacity:1\" cx=\"2177.74\" cy=\"125.774\" r=\"18\"/>\n",
       "<circle clip-path=\"url(#clip5103)\" style=\"fill:#009af9; stroke:none; fill-opacity:1\" cx=\"2177.74\" cy=\"125.774\" r=\"14\"/>\n",
       "<circle clip-path=\"url(#clip5103)\" style=\"fill:#000000; stroke:none; fill-opacity:1\" cx=\"1305.53\" cy=\"753.665\" r=\"18\"/>\n",
       "<circle clip-path=\"url(#clip5103)\" style=\"fill:#009af9; stroke:none; fill-opacity:1\" cx=\"1305.53\" cy=\"753.665\" r=\"14\"/>\n",
       "<circle clip-path=\"url(#clip5103)\" style=\"fill:#000000; stroke:none; fill-opacity:1\" cx=\"289.292\" cy=\"1440.69\" r=\"18\"/>\n",
       "<circle clip-path=\"url(#clip5103)\" style=\"fill:#009af9; stroke:none; fill-opacity:1\" cx=\"289.292\" cy=\"1440.69\" r=\"14\"/>\n",
       "<circle clip-path=\"url(#clip5103)\" style=\"fill:#000000; stroke:none; fill-opacity:1\" cx=\"2094.92\" cy=\"226.925\" r=\"18\"/>\n",
       "<circle clip-path=\"url(#clip5103)\" style=\"fill:#009af9; stroke:none; fill-opacity:1\" cx=\"2094.92\" cy=\"226.925\" r=\"14\"/>\n",
       "<circle clip-path=\"url(#clip5103)\" style=\"fill:#000000; stroke:none; fill-opacity:1\" cx=\"789.872\" cy=\"1109.8\" r=\"18\"/>\n",
       "<circle clip-path=\"url(#clip5103)\" style=\"fill:#009af9; stroke:none; fill-opacity:1\" cx=\"789.872\" cy=\"1109.8\" r=\"14\"/>\n",
       "<circle clip-path=\"url(#clip5103)\" style=\"fill:#000000; stroke:none; fill-opacity:1\" cx=\"681.561\" cy=\"1179.71\" r=\"18\"/>\n",
       "<circle clip-path=\"url(#clip5103)\" style=\"fill:#009af9; stroke:none; fill-opacity:1\" cx=\"681.561\" cy=\"1179.71\" r=\"14\"/>\n",
       "<circle clip-path=\"url(#clip5103)\" style=\"fill:#000000; stroke:none; fill-opacity:1\" cx=\"1524.31\" cy=\"577.747\" r=\"18\"/>\n",
       "<circle clip-path=\"url(#clip5103)\" style=\"fill:#009af9; stroke:none; fill-opacity:1\" cx=\"1524.31\" cy=\"577.747\" r=\"14\"/>\n",
       "<circle clip-path=\"url(#clip5103)\" style=\"fill:#000000; stroke:none; fill-opacity:1\" cx=\"899.056\" cy=\"1035.32\" r=\"18\"/>\n",
       "<circle clip-path=\"url(#clip5103)\" style=\"fill:#009af9; stroke:none; fill-opacity:1\" cx=\"899.056\" cy=\"1035.32\" r=\"14\"/>\n",
       "<circle clip-path=\"url(#clip5103)\" style=\"fill:#000000; stroke:none; fill-opacity:1\" cx=\"1655.27\" cy=\"490.314\" r=\"18\"/>\n",
       "<circle clip-path=\"url(#clip5103)\" style=\"fill:#009af9; stroke:none; fill-opacity:1\" cx=\"1655.27\" cy=\"490.314\" r=\"14\"/>\n",
       "<circle clip-path=\"url(#clip5103)\" style=\"fill:#000000; stroke:none; fill-opacity:1\" cx=\"957.341\" cy=\"991.717\" r=\"18\"/>\n",
       "<circle clip-path=\"url(#clip5103)\" style=\"fill:#009af9; stroke:none; fill-opacity:1\" cx=\"957.341\" cy=\"991.717\" r=\"14\"/>\n",
       "<circle clip-path=\"url(#clip5103)\" style=\"fill:#000000; stroke:none; fill-opacity:1\" cx=\"1993.1\" cy=\"253.711\" r=\"18\"/>\n",
       "<circle clip-path=\"url(#clip5103)\" style=\"fill:#009af9; stroke:none; fill-opacity:1\" cx=\"1993.1\" cy=\"253.711\" r=\"14\"/>\n",
       "<circle clip-path=\"url(#clip5103)\" style=\"fill:#000000; stroke:none; fill-opacity:1\" cx=\"1121.31\" cy=\"825.756\" r=\"18\"/>\n",
       "<circle clip-path=\"url(#clip5103)\" style=\"fill:#009af9; stroke:none; fill-opacity:1\" cx=\"1121.31\" cy=\"825.756\" r=\"14\"/>\n",
       "<circle clip-path=\"url(#clip5103)\" style=\"fill:#000000; stroke:none; fill-opacity:1\" cx=\"975.986\" cy=\"991.352\" r=\"18\"/>\n",
       "<circle clip-path=\"url(#clip5103)\" style=\"fill:#009af9; stroke:none; fill-opacity:1\" cx=\"975.986\" cy=\"991.352\" r=\"14\"/>\n",
       "<circle clip-path=\"url(#clip5103)\" style=\"fill:#000000; stroke:none; fill-opacity:1\" cx=\"317.358\" cy=\"1433.56\" r=\"18\"/>\n",
       "<circle clip-path=\"url(#clip5103)\" style=\"fill:#009af9; stroke:none; fill-opacity:1\" cx=\"317.358\" cy=\"1433.56\" r=\"14\"/>\n",
       "<circle clip-path=\"url(#clip5103)\" style=\"fill:#000000; stroke:none; fill-opacity:1\" cx=\"1545.74\" cy=\"597.608\" r=\"18\"/>\n",
       "<circle clip-path=\"url(#clip5103)\" style=\"fill:#009af9; stroke:none; fill-opacity:1\" cx=\"1545.74\" cy=\"597.608\" r=\"14\"/>\n",
       "<circle clip-path=\"url(#clip5103)\" style=\"fill:#000000; stroke:none; fill-opacity:1\" cx=\"2101.01\" cy=\"191.167\" r=\"18\"/>\n",
       "<circle clip-path=\"url(#clip5103)\" style=\"fill:#009af9; stroke:none; fill-opacity:1\" cx=\"2101.01\" cy=\"191.167\" r=\"14\"/>\n",
       "<circle clip-path=\"url(#clip5103)\" style=\"fill:#000000; stroke:none; fill-opacity:1\" cx=\"1766.32\" cy=\"464.991\" r=\"18\"/>\n",
       "<circle clip-path=\"url(#clip5103)\" style=\"fill:#009af9; stroke:none; fill-opacity:1\" cx=\"1766.32\" cy=\"464.991\" r=\"14\"/>\n",
       "<circle clip-path=\"url(#clip5103)\" style=\"fill:#000000; stroke:none; fill-opacity:1\" cx=\"770.453\" cy=\"1099.39\" r=\"18\"/>\n",
       "<circle clip-path=\"url(#clip5103)\" style=\"fill:#009af9; stroke:none; fill-opacity:1\" cx=\"770.453\" cy=\"1099.39\" r=\"14\"/>\n",
       "<circle clip-path=\"url(#clip5103)\" style=\"fill:#000000; stroke:none; fill-opacity:1\" cx=\"358.4\" cy=\"1438.33\" r=\"18\"/>\n",
       "<circle clip-path=\"url(#clip5103)\" style=\"fill:#009af9; stroke:none; fill-opacity:1\" cx=\"358.4\" cy=\"1438.33\" r=\"14\"/>\n",
       "<circle clip-path=\"url(#clip5103)\" style=\"fill:#000000; stroke:none; fill-opacity:1\" cx=\"293.985\" cy=\"1439.8\" r=\"18\"/>\n",
       "<circle clip-path=\"url(#clip5103)\" style=\"fill:#009af9; stroke:none; fill-opacity:1\" cx=\"293.985\" cy=\"1439.8\" r=\"14\"/>\n",
       "<circle clip-path=\"url(#clip5103)\" style=\"fill:#000000; stroke:none; fill-opacity:1\" cx=\"774.842\" cy=\"1073.41\" r=\"18\"/>\n",
       "<circle clip-path=\"url(#clip5103)\" style=\"fill:#009af9; stroke:none; fill-opacity:1\" cx=\"774.842\" cy=\"1073.41\" r=\"14\"/>\n",
       "<circle clip-path=\"url(#clip5103)\" style=\"fill:#000000; stroke:none; fill-opacity:1\" cx=\"844.445\" cy=\"1021.78\" r=\"18\"/>\n",
       "<circle clip-path=\"url(#clip5103)\" style=\"fill:#009af9; stroke:none; fill-opacity:1\" cx=\"844.445\" cy=\"1021.78\" r=\"14\"/>\n",
       "<circle clip-path=\"url(#clip5103)\" style=\"fill:#000000; stroke:none; fill-opacity:1\" cx=\"1025.33\" cy=\"993.228\" r=\"18\"/>\n",
       "<circle clip-path=\"url(#clip5103)\" style=\"fill:#009af9; stroke:none; fill-opacity:1\" cx=\"1025.33\" cy=\"993.228\" r=\"14\"/>\n",
       "<circle clip-path=\"url(#clip5103)\" style=\"fill:#000000; stroke:none; fill-opacity:1\" cx=\"551.013\" cy=\"1272.41\" r=\"18\"/>\n",
       "<circle clip-path=\"url(#clip5103)\" style=\"fill:#009af9; stroke:none; fill-opacity:1\" cx=\"551.013\" cy=\"1272.41\" r=\"14\"/>\n",
       "<circle clip-path=\"url(#clip5103)\" style=\"fill:#000000; stroke:none; fill-opacity:1\" cx=\"709.599\" cy=\"1138.96\" r=\"18\"/>\n",
       "<circle clip-path=\"url(#clip5103)\" style=\"fill:#009af9; stroke:none; fill-opacity:1\" cx=\"709.599\" cy=\"1138.96\" r=\"14\"/>\n",
       "<circle clip-path=\"url(#clip5103)\" style=\"fill:#000000; stroke:none; fill-opacity:1\" cx=\"1598.22\" cy=\"578.628\" r=\"18\"/>\n",
       "<circle clip-path=\"url(#clip5103)\" style=\"fill:#009af9; stroke:none; fill-opacity:1\" cx=\"1598.22\" cy=\"578.628\" r=\"14\"/>\n",
       "<circle clip-path=\"url(#clip5103)\" style=\"fill:#000000; stroke:none; fill-opacity:1\" cx=\"541.28\" cy=\"1256.94\" r=\"18\"/>\n",
       "<circle clip-path=\"url(#clip5103)\" style=\"fill:#009af9; stroke:none; fill-opacity:1\" cx=\"541.28\" cy=\"1256.94\" r=\"14\"/>\n",
       "<circle clip-path=\"url(#clip5103)\" style=\"fill:#000000; stroke:none; fill-opacity:1\" cx=\"1447.19\" cy=\"661.837\" r=\"18\"/>\n",
       "<circle clip-path=\"url(#clip5103)\" style=\"fill:#009af9; stroke:none; fill-opacity:1\" cx=\"1447.19\" cy=\"661.837\" r=\"14\"/>\n",
       "<circle clip-path=\"url(#clip5103)\" style=\"fill:#000000; stroke:none; fill-opacity:1\" cx=\"882.984\" cy=\"1067.13\" r=\"18\"/>\n",
       "<circle clip-path=\"url(#clip5103)\" style=\"fill:#009af9; stroke:none; fill-opacity:1\" cx=\"882.984\" cy=\"1067.13\" r=\"14\"/>\n",
       "<circle clip-path=\"url(#clip5103)\" style=\"fill:#000000; stroke:none; fill-opacity:1\" cx=\"1809.39\" cy=\"395.367\" r=\"18\"/>\n",
       "<circle clip-path=\"url(#clip5103)\" style=\"fill:#009af9; stroke:none; fill-opacity:1\" cx=\"1809.39\" cy=\"395.367\" r=\"14\"/>\n",
       "<circle clip-path=\"url(#clip5103)\" style=\"fill:#000000; stroke:none; fill-opacity:1\" cx=\"809.328\" cy=\"1052.2\" r=\"18\"/>\n",
       "<circle clip-path=\"url(#clip5103)\" style=\"fill:#009af9; stroke:none; fill-opacity:1\" cx=\"809.328\" cy=\"1052.2\" r=\"14\"/>\n",
       "<circle clip-path=\"url(#clip5103)\" style=\"fill:#000000; stroke:none; fill-opacity:1\" cx=\"827.929\" cy=\"1079.39\" r=\"18\"/>\n",
       "<circle clip-path=\"url(#clip5103)\" style=\"fill:#009af9; stroke:none; fill-opacity:1\" cx=\"827.929\" cy=\"1079.39\" r=\"14\"/>\n",
       "<circle clip-path=\"url(#clip5103)\" style=\"fill:#000000; stroke:none; fill-opacity:1\" cx=\"381.149\" cy=\"1384.71\" r=\"18\"/>\n",
       "<circle clip-path=\"url(#clip5103)\" style=\"fill:#009af9; stroke:none; fill-opacity:1\" cx=\"381.149\" cy=\"1384.71\" r=\"14\"/>\n",
       "<circle clip-path=\"url(#clip5103)\" style=\"fill:#000000; stroke:none; fill-opacity:1\" cx=\"1375.71\" cy=\"707.16\" r=\"18\"/>\n",
       "<circle clip-path=\"url(#clip5103)\" style=\"fill:#009af9; stroke:none; fill-opacity:1\" cx=\"1375.71\" cy=\"707.16\" r=\"14\"/>\n",
       "<circle clip-path=\"url(#clip5103)\" style=\"fill:#000000; stroke:none; fill-opacity:1\" cx=\"1635.91\" cy=\"487.662\" r=\"18\"/>\n",
       "<circle clip-path=\"url(#clip5103)\" style=\"fill:#009af9; stroke:none; fill-opacity:1\" cx=\"1635.91\" cy=\"487.662\" r=\"14\"/>\n",
       "<polygon clip-path=\"url(#clip5101)\" points=\"\n",
       "1958.43,251.724 2249.26,251.724 2249.26,130.764 1958.43,130.764 \n",
       "  \" fill=\"#ffffff\" fill-rule=\"evenodd\" fill-opacity=\"1\"/>\n",
       "<polyline clip-path=\"url(#clip5101)\" style=\"stroke:#000000; stroke-width:4; stroke-opacity:1; fill:none\" points=\"\n",
       "  1958.43,251.724 2249.26,251.724 2249.26,130.764 1958.43,130.764 1958.43,251.724 \n",
       "  \"/>\n",
       "<circle clip-path=\"url(#clip5101)\" style=\"fill:#000000; stroke:none; fill-opacity:1\" cx=\"2066.43\" cy=\"191.244\" r=\"25\"/>\n",
       "<circle clip-path=\"url(#clip5101)\" style=\"fill:#009af9; stroke:none; fill-opacity:1\" cx=\"2066.43\" cy=\"191.244\" r=\"21\"/>\n",
       "<g clip-path=\"url(#clip5101)\">\n",
       "<text style=\"fill:#000000; fill-opacity:1; font-family:Arial,Helvetica Neue,Helvetica,sans-serif; font-size:48px; text-anchor:start;\" transform=\"rotate(0, 2150.43, 208.744)\" x=\"2150.43\" y=\"208.744\">y1</text>\n",
       "</g>\n",
       "</svg>\n"
      ]
     },
     "execution_count": 111,
     "metadata": {},
     "output_type": "execute_result"
    }
   ],
   "source": [
    "using Plots\n",
    "regX = rand(100)\n",
    "regY = 50 .+ 100 * regX + 2 * randn(100)\n",
    "scatter(regX, regY)"
   ]
  },
  {
   "cell_type": "code",
   "execution_count": 112,
   "metadata": {
    "collapsed": false
   },
   "outputs": [
    {
     "name": "stderr",
     "output_type": "stream",
     "text": [
      "┌ Info: Epoch 1\n",
      "└ @ Main /Users/hughmurrell/.julia/packages/Flux/UHjNa/src/optimise/train.jl:93\n",
      "┌ Info: Epoch 2\n",
      "└ @ Main /Users/hughmurrell/.julia/packages/Flux/UHjNa/src/optimise/train.jl:93\n",
      "┌ Info: Epoch 3\n",
      "└ @ Main /Users/hughmurrell/.julia/packages/Flux/UHjNa/src/optimise/train.jl:93\n",
      "┌ Info: Epoch 4\n",
      "└ @ Main /Users/hughmurrell/.julia/packages/Flux/UHjNa/src/optimise/train.jl:93\n",
      "┌ Info: Epoch 5\n",
      "└ @ Main /Users/hughmurrell/.julia/packages/Flux/UHjNa/src/optimise/train.jl:93\n",
      "┌ Info: Epoch 6\n",
      "└ @ Main /Users/hughmurrell/.julia/packages/Flux/UHjNa/src/optimise/train.jl:93\n",
      "┌ Info: Epoch 7\n",
      "└ @ Main /Users/hughmurrell/.julia/packages/Flux/UHjNa/src/optimise/train.jl:93\n",
      "┌ Info: Epoch 8\n",
      "└ @ Main /Users/hughmurrell/.julia/packages/Flux/UHjNa/src/optimise/train.jl:93\n",
      "┌ Info: Epoch 9\n",
      "└ @ Main /Users/hughmurrell/.julia/packages/Flux/UHjNa/src/optimise/train.jl:93\n",
      "┌ Info: Epoch 10\n",
      "└ @ Main /Users/hughmurrell/.julia/packages/Flux/UHjNa/src/optimise/train.jl:93\n",
      "┌ Info: Epoch 11\n",
      "└ @ Main /Users/hughmurrell/.julia/packages/Flux/UHjNa/src/optimise/train.jl:93\n",
      "┌ Info: Epoch 12\n",
      "└ @ Main /Users/hughmurrell/.julia/packages/Flux/UHjNa/src/optimise/train.jl:93\n",
      "┌ Info: Epoch 13\n",
      "└ @ Main /Users/hughmurrell/.julia/packages/Flux/UHjNa/src/optimise/train.jl:93\n",
      "┌ Info: Epoch 14\n",
      "└ @ Main /Users/hughmurrell/.julia/packages/Flux/UHjNa/src/optimise/train.jl:93\n",
      "┌ Info: Epoch 15\n",
      "└ @ Main /Users/hughmurrell/.julia/packages/Flux/UHjNa/src/optimise/train.jl:93\n",
      "┌ Info: Epoch 16\n",
      "└ @ Main /Users/hughmurrell/.julia/packages/Flux/UHjNa/src/optimise/train.jl:93\n",
      "┌ Info: Epoch 17\n",
      "└ @ Main /Users/hughmurrell/.julia/packages/Flux/UHjNa/src/optimise/train.jl:93\n",
      "┌ Info: Epoch 18\n",
      "└ @ Main /Users/hughmurrell/.julia/packages/Flux/UHjNa/src/optimise/train.jl:93\n",
      "┌ Info: Epoch 19\n",
      "└ @ Main /Users/hughmurrell/.julia/packages/Flux/UHjNa/src/optimise/train.jl:93\n",
      "┌ Info: Epoch 20\n",
      "└ @ Main /Users/hughmurrell/.julia/packages/Flux/UHjNa/src/optimise/train.jl:93\n",
      "┌ Info: Epoch 21\n",
      "└ @ Main /Users/hughmurrell/.julia/packages/Flux/UHjNa/src/optimise/train.jl:93\n",
      "┌ Info: Epoch 22\n",
      "└ @ Main /Users/hughmurrell/.julia/packages/Flux/UHjNa/src/optimise/train.jl:93\n",
      "┌ Info: Epoch 23\n",
      "└ @ Main /Users/hughmurrell/.julia/packages/Flux/UHjNa/src/optimise/train.jl:93\n",
      "┌ Info: Epoch 24\n",
      "└ @ Main /Users/hughmurrell/.julia/packages/Flux/UHjNa/src/optimise/train.jl:93\n",
      "┌ Info: Epoch 25\n",
      "└ @ Main /Users/hughmurrell/.julia/packages/Flux/UHjNa/src/optimise/train.jl:93\n",
      "┌ Info: Epoch 26\n",
      "└ @ Main /Users/hughmurrell/.julia/packages/Flux/UHjNa/src/optimise/train.jl:93\n",
      "┌ Info: Epoch 27\n",
      "└ @ Main /Users/hughmurrell/.julia/packages/Flux/UHjNa/src/optimise/train.jl:93\n",
      "┌ Info: Epoch 28\n",
      "└ @ Main /Users/hughmurrell/.julia/packages/Flux/UHjNa/src/optimise/train.jl:93\n",
      "┌ Info: Epoch 29\n",
      "└ @ Main /Users/hughmurrell/.julia/packages/Flux/UHjNa/src/optimise/train.jl:93\n",
      "┌ Info: Epoch 30\n",
      "└ @ Main /Users/hughmurrell/.julia/packages/Flux/UHjNa/src/optimise/train.jl:93\n",
      "┌ Info: Epoch 31\n",
      "└ @ Main /Users/hughmurrell/.julia/packages/Flux/UHjNa/src/optimise/train.jl:93\n",
      "┌ Info: Epoch 32\n",
      "└ @ Main /Users/hughmurrell/.julia/packages/Flux/UHjNa/src/optimise/train.jl:93\n",
      "┌ Info: Epoch 33\n",
      "└ @ Main /Users/hughmurrell/.julia/packages/Flux/UHjNa/src/optimise/train.jl:93\n",
      "┌ Info: Epoch 34\n",
      "└ @ Main /Users/hughmurrell/.julia/packages/Flux/UHjNa/src/optimise/train.jl:93\n",
      "┌ Info: Epoch 35\n",
      "└ @ Main /Users/hughmurrell/.julia/packages/Flux/UHjNa/src/optimise/train.jl:93\n",
      "┌ Info: Epoch 36\n",
      "└ @ Main /Users/hughmurrell/.julia/packages/Flux/UHjNa/src/optimise/train.jl:93\n",
      "┌ Info: Epoch 37\n",
      "└ @ Main /Users/hughmurrell/.julia/packages/Flux/UHjNa/src/optimise/train.jl:93\n",
      "┌ Info: Epoch 38\n",
      "└ @ Main /Users/hughmurrell/.julia/packages/Flux/UHjNa/src/optimise/train.jl:93\n",
      "┌ Info: Epoch 39\n",
      "└ @ Main /Users/hughmurrell/.julia/packages/Flux/UHjNa/src/optimise/train.jl:93\n",
      "┌ Info: Epoch 40\n",
      "└ @ Main /Users/hughmurrell/.julia/packages/Flux/UHjNa/src/optimise/train.jl:93\n",
      "┌ Info: Epoch 41\n",
      "└ @ Main /Users/hughmurrell/.julia/packages/Flux/UHjNa/src/optimise/train.jl:93\n",
      "┌ Info: Epoch 42\n",
      "└ @ Main /Users/hughmurrell/.julia/packages/Flux/UHjNa/src/optimise/train.jl:93\n",
      "┌ Info: Epoch 43\n",
      "└ @ Main /Users/hughmurrell/.julia/packages/Flux/UHjNa/src/optimise/train.jl:93\n",
      "┌ Info: Epoch 44\n",
      "└ @ Main /Users/hughmurrell/.julia/packages/Flux/UHjNa/src/optimise/train.jl:93\n",
      "┌ Info: Epoch 45\n",
      "└ @ Main /Users/hughmurrell/.julia/packages/Flux/UHjNa/src/optimise/train.jl:93\n",
      "┌ Info: Epoch 46\n",
      "└ @ Main /Users/hughmurrell/.julia/packages/Flux/UHjNa/src/optimise/train.jl:93\n",
      "┌ Info: Epoch 47\n",
      "└ @ Main /Users/hughmurrell/.julia/packages/Flux/UHjNa/src/optimise/train.jl:93\n",
      "┌ Info: Epoch 48\n",
      "└ @ Main /Users/hughmurrell/.julia/packages/Flux/UHjNa/src/optimise/train.jl:93\n",
      "┌ Info: Epoch 49\n",
      "└ @ Main /Users/hughmurrell/.julia/packages/Flux/UHjNa/src/optimise/train.jl:93\n",
      "┌ Info: Epoch 50\n",
      "└ @ Main /Users/hughmurrell/.julia/packages/Flux/UHjNa/src/optimise/train.jl:93\n",
      "┌ Info: Epoch 51\n",
      "└ @ Main /Users/hughmurrell/.julia/packages/Flux/UHjNa/src/optimise/train.jl:93\n",
      "┌ Info: Epoch 52\n",
      "└ @ Main /Users/hughmurrell/.julia/packages/Flux/UHjNa/src/optimise/train.jl:93\n",
      "┌ Info: Epoch 53\n",
      "└ @ Main /Users/hughmurrell/.julia/packages/Flux/UHjNa/src/optimise/train.jl:93\n",
      "┌ Info: Epoch 54\n",
      "└ @ Main /Users/hughmurrell/.julia/packages/Flux/UHjNa/src/optimise/train.jl:93\n",
      "┌ Info: Epoch 55\n",
      "└ @ Main /Users/hughmurrell/.julia/packages/Flux/UHjNa/src/optimise/train.jl:93\n",
      "┌ Info: Epoch 56\n",
      "└ @ Main /Users/hughmurrell/.julia/packages/Flux/UHjNa/src/optimise/train.jl:93\n",
      "┌ Info: Epoch 57\n",
      "└ @ Main /Users/hughmurrell/.julia/packages/Flux/UHjNa/src/optimise/train.jl:93\n",
      "┌ Info: Epoch 58\n",
      "└ @ Main /Users/hughmurrell/.julia/packages/Flux/UHjNa/src/optimise/train.jl:93\n",
      "┌ Info: Epoch 59\n",
      "└ @ Main /Users/hughmurrell/.julia/packages/Flux/UHjNa/src/optimise/train.jl:93\n",
      "┌ Info: Epoch 60\n",
      "└ @ Main /Users/hughmurrell/.julia/packages/Flux/UHjNa/src/optimise/train.jl:93\n",
      "┌ Info: Epoch 61\n",
      "└ @ Main /Users/hughmurrell/.julia/packages/Flux/UHjNa/src/optimise/train.jl:93\n",
      "┌ Info: Epoch 62\n",
      "└ @ Main /Users/hughmurrell/.julia/packages/Flux/UHjNa/src/optimise/train.jl:93\n",
      "┌ Info: Epoch 63\n",
      "└ @ Main /Users/hughmurrell/.julia/packages/Flux/UHjNa/src/optimise/train.jl:93\n",
      "┌ Info: Epoch 64\n",
      "└ @ Main /Users/hughmurrell/.julia/packages/Flux/UHjNa/src/optimise/train.jl:93\n",
      "┌ Info: Epoch 65\n",
      "└ @ Main /Users/hughmurrell/.julia/packages/Flux/UHjNa/src/optimise/train.jl:93\n",
      "┌ Info: Epoch 66\n",
      "└ @ Main /Users/hughmurrell/.julia/packages/Flux/UHjNa/src/optimise/train.jl:93\n",
      "┌ Info: Epoch 67\n",
      "└ @ Main /Users/hughmurrell/.julia/packages/Flux/UHjNa/src/optimise/train.jl:93\n",
      "┌ Info: Epoch 68\n",
      "└ @ Main /Users/hughmurrell/.julia/packages/Flux/UHjNa/src/optimise/train.jl:93\n",
      "┌ Info: Epoch 69\n",
      "└ @ Main /Users/hughmurrell/.julia/packages/Flux/UHjNa/src/optimise/train.jl:93\n",
      "┌ Info: Epoch 70\n",
      "└ @ Main /Users/hughmurrell/.julia/packages/Flux/UHjNa/src/optimise/train.jl:93\n",
      "┌ Info: Epoch 71\n",
      "└ @ Main /Users/hughmurrell/.julia/packages/Flux/UHjNa/src/optimise/train.jl:93\n",
      "┌ Info: Epoch 72\n",
      "└ @ Main /Users/hughmurrell/.julia/packages/Flux/UHjNa/src/optimise/train.jl:93\n",
      "┌ Info: Epoch 73\n",
      "└ @ Main /Users/hughmurrell/.julia/packages/Flux/UHjNa/src/optimise/train.jl:93\n",
      "┌ Info: Epoch 74\n",
      "└ @ Main /Users/hughmurrell/.julia/packages/Flux/UHjNa/src/optimise/train.jl:93\n",
      "┌ Info: Epoch 75\n",
      "└ @ Main /Users/hughmurrell/.julia/packages/Flux/UHjNa/src/optimise/train.jl:93\n",
      "┌ Info: Epoch 76\n",
      "└ @ Main /Users/hughmurrell/.julia/packages/Flux/UHjNa/src/optimise/train.jl:93\n",
      "┌ Info: Epoch 77\n",
      "└ @ Main /Users/hughmurrell/.julia/packages/Flux/UHjNa/src/optimise/train.jl:93\n",
      "┌ Info: Epoch 78\n",
      "└ @ Main /Users/hughmurrell/.julia/packages/Flux/UHjNa/src/optimise/train.jl:93\n",
      "┌ Info: Epoch 79\n",
      "└ @ Main /Users/hughmurrell/.julia/packages/Flux/UHjNa/src/optimise/train.jl:93\n",
      "┌ Info: Epoch 80\n",
      "└ @ Main /Users/hughmurrell/.julia/packages/Flux/UHjNa/src/optimise/train.jl:93\n",
      "┌ Info: Epoch 81\n",
      "└ @ Main /Users/hughmurrell/.julia/packages/Flux/UHjNa/src/optimise/train.jl:93\n",
      "┌ Info: Epoch 82\n",
      "└ @ Main /Users/hughmurrell/.julia/packages/Flux/UHjNa/src/optimise/train.jl:93\n",
      "┌ Info: Epoch 83\n",
      "└ @ Main /Users/hughmurrell/.julia/packages/Flux/UHjNa/src/optimise/train.jl:93\n",
      "┌ Info: Epoch 84\n",
      "└ @ Main /Users/hughmurrell/.julia/packages/Flux/UHjNa/src/optimise/train.jl:93\n",
      "┌ Info: Epoch 85\n",
      "└ @ Main /Users/hughmurrell/.julia/packages/Flux/UHjNa/src/optimise/train.jl:93\n",
      "┌ Info: Epoch 86\n",
      "└ @ Main /Users/hughmurrell/.julia/packages/Flux/UHjNa/src/optimise/train.jl:93\n",
      "┌ Info: Epoch 87\n",
      "└ @ Main /Users/hughmurrell/.julia/packages/Flux/UHjNa/src/optimise/train.jl:93\n",
      "┌ Info: Epoch 88\n",
      "└ @ Main /Users/hughmurrell/.julia/packages/Flux/UHjNa/src/optimise/train.jl:93\n",
      "┌ Info: Epoch 89\n",
      "└ @ Main /Users/hughmurrell/.julia/packages/Flux/UHjNa/src/optimise/train.jl:93\n",
      "┌ Info: Epoch 90\n",
      "└ @ Main /Users/hughmurrell/.julia/packages/Flux/UHjNa/src/optimise/train.jl:93\n",
      "┌ Info: Epoch 91\n",
      "└ @ Main /Users/hughmurrell/.julia/packages/Flux/UHjNa/src/optimise/train.jl:93\n",
      "┌ Info: Epoch 92\n",
      "└ @ Main /Users/hughmurrell/.julia/packages/Flux/UHjNa/src/optimise/train.jl:93\n",
      "┌ Info: Epoch 93\n",
      "└ @ Main /Users/hughmurrell/.julia/packages/Flux/UHjNa/src/optimise/train.jl:93\n",
      "┌ Info: Epoch 94\n",
      "└ @ Main /Users/hughmurrell/.julia/packages/Flux/UHjNa/src/optimise/train.jl:93\n",
      "┌ Info: Epoch 95\n",
      "└ @ Main /Users/hughmurrell/.julia/packages/Flux/UHjNa/src/optimise/train.jl:93\n",
      "┌ Info: Epoch 96\n",
      "└ @ Main /Users/hughmurrell/.julia/packages/Flux/UHjNa/src/optimise/train.jl:93\n",
      "┌ Info: Epoch 97\n",
      "└ @ Main /Users/hughmurrell/.julia/packages/Flux/UHjNa/src/optimise/train.jl:93\n",
      "┌ Info: Epoch 98\n",
      "└ @ Main /Users/hughmurrell/.julia/packages/Flux/UHjNa/src/optimise/train.jl:93\n",
      "┌ Info: Epoch 99\n",
      "└ @ Main /Users/hughmurrell/.julia/packages/Flux/UHjNa/src/optimise/train.jl:93\n",
      "┌ Info: Epoch 100\n",
      "└ @ Main /Users/hughmurrell/.julia/packages/Flux/UHjNa/src/optimise/train.jl:93\n"
     ]
    }
   ],
   "source": [
    "using Flux\n",
    "using Flux: @epochs\n",
    "\n",
    "regData = zip(regX, regY)  # create tuples\n",
    "modelReg = Chain(Dense(1, 1), identity)\n",
    "loss(x, y) = Flux.mse(modelReg(x), y)\n",
    "opt = SGD(Flux.params(modelReg), 0.1)\n",
    "@epochs 100 Flux.train!(loss, regData, opt)"
   ]
  },
  {
   "cell_type": "code",
   "execution_count": 113,
   "metadata": {
    "collapsed": false
   },
   "outputs": [
    {
     "data": {
      "image/svg+xml": [
       "<?xml version=\"1.0\" encoding=\"utf-8\"?>\n",
       "<svg xmlns=\"http://www.w3.org/2000/svg\" xmlns:xlink=\"http://www.w3.org/1999/xlink\" width=\"600\" height=\"400\" viewBox=\"0 0 2400 1600\">\n",
       "<defs>\n",
       "  <clipPath id=\"clip5300\">\n",
       "    <rect x=\"0\" y=\"0\" width=\"2000\" height=\"2000\"/>\n",
       "  </clipPath>\n",
       "</defs>\n",
       "<defs>\n",
       "  <clipPath id=\"clip5301\">\n",
       "    <rect x=\"0\" y=\"0\" width=\"2400\" height=\"1600\"/>\n",
       "  </clipPath>\n",
       "</defs>\n",
       "<polygon clip-path=\"url(#clip5301)\" points=\"\n",
       "0,1600 2400,1600 2400,0 0,0 \n",
       "  \" fill=\"#ffffff\" fill-rule=\"evenodd\" fill-opacity=\"1\"/>\n",
       "<defs>\n",
       "  <clipPath id=\"clip5302\">\n",
       "    <rect x=\"480\" y=\"0\" width=\"1681\" height=\"1600\"/>\n",
       "  </clipPath>\n",
       "</defs>\n",
       "<polygon clip-path=\"url(#clip5301)\" points=\"\n",
       "174.775,1503.47 2321.26,1503.47 2321.26,47.2441 174.775,47.2441 \n",
       "  \" fill=\"#ffffff\" fill-rule=\"evenodd\" fill-opacity=\"1\"/>\n",
       "<defs>\n",
       "  <clipPath id=\"clip5303\">\n",
       "    <rect x=\"174\" y=\"47\" width=\"2147\" height=\"1457\"/>\n",
       "  </clipPath>\n",
       "</defs>\n",
       "<polyline clip-path=\"url(#clip5303)\" style=\"stroke:#000000; stroke-width:2; stroke-opacity:0.1; fill:none\" points=\"\n",
       "  235.525,1503.47 235.525,47.2441 \n",
       "  \"/>\n",
       "<polyline clip-path=\"url(#clip5303)\" style=\"stroke:#000000; stroke-width:2; stroke-opacity:0.1; fill:none\" points=\"\n",
       "  741.771,1503.47 741.771,47.2441 \n",
       "  \"/>\n",
       "<polyline clip-path=\"url(#clip5303)\" style=\"stroke:#000000; stroke-width:2; stroke-opacity:0.1; fill:none\" points=\"\n",
       "  1248.02,1503.47 1248.02,47.2441 \n",
       "  \"/>\n",
       "<polyline clip-path=\"url(#clip5303)\" style=\"stroke:#000000; stroke-width:2; stroke-opacity:0.1; fill:none\" points=\"\n",
       "  1754.26,1503.47 1754.26,47.2441 \n",
       "  \"/>\n",
       "<polyline clip-path=\"url(#clip5303)\" style=\"stroke:#000000; stroke-width:2; stroke-opacity:0.1; fill:none\" points=\"\n",
       "  2260.51,1503.47 2260.51,47.2441 \n",
       "  \"/>\n",
       "<polyline clip-path=\"url(#clip5303)\" style=\"stroke:#000000; stroke-width:2; stroke-opacity:0.1; fill:none\" points=\"\n",
       "  174.775,1331.46 2321.26,1331.46 \n",
       "  \"/>\n",
       "<polyline clip-path=\"url(#clip5303)\" style=\"stroke:#000000; stroke-width:2; stroke-opacity:0.1; fill:none\" points=\"\n",
       "  174.775,1059.4 2321.26,1059.4 \n",
       "  \"/>\n",
       "<polyline clip-path=\"url(#clip5303)\" style=\"stroke:#000000; stroke-width:2; stroke-opacity:0.1; fill:none\" points=\"\n",
       "  174.775,787.346 2321.26,787.346 \n",
       "  \"/>\n",
       "<polyline clip-path=\"url(#clip5303)\" style=\"stroke:#000000; stroke-width:2; stroke-opacity:0.1; fill:none\" points=\"\n",
       "  174.775,515.289 2321.26,515.289 \n",
       "  \"/>\n",
       "<polyline clip-path=\"url(#clip5303)\" style=\"stroke:#000000; stroke-width:2; stroke-opacity:0.1; fill:none\" points=\"\n",
       "  174.775,243.232 2321.26,243.232 \n",
       "  \"/>\n",
       "<polyline clip-path=\"url(#clip5301)\" style=\"stroke:#000000; stroke-width:4; stroke-opacity:1; fill:none\" points=\"\n",
       "  174.775,1503.47 2321.26,1503.47 \n",
       "  \"/>\n",
       "<polyline clip-path=\"url(#clip5301)\" style=\"stroke:#000000; stroke-width:4; stroke-opacity:1; fill:none\" points=\"\n",
       "  174.775,1503.47 174.775,47.2441 \n",
       "  \"/>\n",
       "<polyline clip-path=\"url(#clip5301)\" style=\"stroke:#000000; stroke-width:4; stroke-opacity:1; fill:none\" points=\"\n",
       "  235.525,1503.47 235.525,1481.63 \n",
       "  \"/>\n",
       "<polyline clip-path=\"url(#clip5301)\" style=\"stroke:#000000; stroke-width:4; stroke-opacity:1; fill:none\" points=\"\n",
       "  741.771,1503.47 741.771,1481.63 \n",
       "  \"/>\n",
       "<polyline clip-path=\"url(#clip5301)\" style=\"stroke:#000000; stroke-width:4; stroke-opacity:1; fill:none\" points=\"\n",
       "  1248.02,1503.47 1248.02,1481.63 \n",
       "  \"/>\n",
       "<polyline clip-path=\"url(#clip5301)\" style=\"stroke:#000000; stroke-width:4; stroke-opacity:1; fill:none\" points=\"\n",
       "  1754.26,1503.47 1754.26,1481.63 \n",
       "  \"/>\n",
       "<polyline clip-path=\"url(#clip5301)\" style=\"stroke:#000000; stroke-width:4; stroke-opacity:1; fill:none\" points=\"\n",
       "  2260.51,1503.47 2260.51,1481.63 \n",
       "  \"/>\n",
       "<polyline clip-path=\"url(#clip5301)\" style=\"stroke:#000000; stroke-width:4; stroke-opacity:1; fill:none\" points=\"\n",
       "  174.775,1331.46 206.972,1331.46 \n",
       "  \"/>\n",
       "<polyline clip-path=\"url(#clip5301)\" style=\"stroke:#000000; stroke-width:4; stroke-opacity:1; fill:none\" points=\"\n",
       "  174.775,1059.4 206.972,1059.4 \n",
       "  \"/>\n",
       "<polyline clip-path=\"url(#clip5301)\" style=\"stroke:#000000; stroke-width:4; stroke-opacity:1; fill:none\" points=\"\n",
       "  174.775,787.346 206.972,787.346 \n",
       "  \"/>\n",
       "<polyline clip-path=\"url(#clip5301)\" style=\"stroke:#000000; stroke-width:4; stroke-opacity:1; fill:none\" points=\"\n",
       "  174.775,515.289 206.972,515.289 \n",
       "  \"/>\n",
       "<polyline clip-path=\"url(#clip5301)\" style=\"stroke:#000000; stroke-width:4; stroke-opacity:1; fill:none\" points=\"\n",
       "  174.775,243.232 206.972,243.232 \n",
       "  \"/>\n",
       "<g clip-path=\"url(#clip5301)\">\n",
       "<text style=\"fill:#000000; fill-opacity:1; font-family:Arial,Helvetica Neue,Helvetica,sans-serif; font-size:48px; text-anchor:middle;\" transform=\"rotate(0, 235.525, 1557.47)\" x=\"235.525\" y=\"1557.47\">0.00</text>\n",
       "</g>\n",
       "<g clip-path=\"url(#clip5301)\">\n",
       "<text style=\"fill:#000000; fill-opacity:1; font-family:Arial,Helvetica Neue,Helvetica,sans-serif; font-size:48px; text-anchor:middle;\" transform=\"rotate(0, 741.771, 1557.47)\" x=\"741.771\" y=\"1557.47\">0.25</text>\n",
       "</g>\n",
       "<g clip-path=\"url(#clip5301)\">\n",
       "<text style=\"fill:#000000; fill-opacity:1; font-family:Arial,Helvetica Neue,Helvetica,sans-serif; font-size:48px; text-anchor:middle;\" transform=\"rotate(0, 1248.02, 1557.47)\" x=\"1248.02\" y=\"1557.47\">0.50</text>\n",
       "</g>\n",
       "<g clip-path=\"url(#clip5301)\">\n",
       "<text style=\"fill:#000000; fill-opacity:1; font-family:Arial,Helvetica Neue,Helvetica,sans-serif; font-size:48px; text-anchor:middle;\" transform=\"rotate(0, 1754.26, 1557.47)\" x=\"1754.26\" y=\"1557.47\">0.75</text>\n",
       "</g>\n",
       "<g clip-path=\"url(#clip5301)\">\n",
       "<text style=\"fill:#000000; fill-opacity:1; font-family:Arial,Helvetica Neue,Helvetica,sans-serif; font-size:48px; text-anchor:middle;\" transform=\"rotate(0, 2260.51, 1557.47)\" x=\"2260.51\" y=\"1557.47\">1.00</text>\n",
       "</g>\n",
       "<g clip-path=\"url(#clip5301)\">\n",
       "<text style=\"fill:#000000; fill-opacity:1; font-family:Arial,Helvetica Neue,Helvetica,sans-serif; font-size:48px; text-anchor:end;\" transform=\"rotate(0, 150.775, 1348.96)\" x=\"150.775\" y=\"1348.96\">60</text>\n",
       "</g>\n",
       "<g clip-path=\"url(#clip5301)\">\n",
       "<text style=\"fill:#000000; fill-opacity:1; font-family:Arial,Helvetica Neue,Helvetica,sans-serif; font-size:48px; text-anchor:end;\" transform=\"rotate(0, 150.775, 1076.9)\" x=\"150.775\" y=\"1076.9\">80</text>\n",
       "</g>\n",
       "<g clip-path=\"url(#clip5301)\">\n",
       "<text style=\"fill:#000000; fill-opacity:1; font-family:Arial,Helvetica Neue,Helvetica,sans-serif; font-size:48px; text-anchor:end;\" transform=\"rotate(0, 150.775, 804.846)\" x=\"150.775\" y=\"804.846\">100</text>\n",
       "</g>\n",
       "<g clip-path=\"url(#clip5301)\">\n",
       "<text style=\"fill:#000000; fill-opacity:1; font-family:Arial,Helvetica Neue,Helvetica,sans-serif; font-size:48px; text-anchor:end;\" transform=\"rotate(0, 150.775, 532.789)\" x=\"150.775\" y=\"532.789\">120</text>\n",
       "</g>\n",
       "<g clip-path=\"url(#clip5301)\">\n",
       "<text style=\"fill:#000000; fill-opacity:1; font-family:Arial,Helvetica Neue,Helvetica,sans-serif; font-size:48px; text-anchor:end;\" transform=\"rotate(0, 150.775, 260.732)\" x=\"150.775\" y=\"260.732\">140</text>\n",
       "</g>\n",
       "<circle clip-path=\"url(#clip5303)\" style=\"fill:#000000; stroke:none; fill-opacity:1\" cx=\"1653.91\" cy=\"537.421\" r=\"18\"/>\n",
       "<circle clip-path=\"url(#clip5303)\" style=\"fill:#009af9; stroke:none; fill-opacity:1\" cx=\"1653.91\" cy=\"537.421\" r=\"14\"/>\n",
       "<circle clip-path=\"url(#clip5303)\" style=\"fill:#000000; stroke:none; fill-opacity:1\" cx=\"957.44\" cy=\"910.481\" r=\"18\"/>\n",
       "<circle clip-path=\"url(#clip5303)\" style=\"fill:#009af9; stroke:none; fill-opacity:1\" cx=\"957.44\" cy=\"910.481\" r=\"14\"/>\n",
       "<circle clip-path=\"url(#clip5303)\" style=\"fill:#000000; stroke:none; fill-opacity:1\" cx=\"1257.46\" cy=\"753.516\" r=\"18\"/>\n",
       "<circle clip-path=\"url(#clip5303)\" style=\"fill:#009af9; stroke:none; fill-opacity:1\" cx=\"1257.46\" cy=\"753.516\" r=\"14\"/>\n",
       "<circle clip-path=\"url(#clip5303)\" style=\"fill:#000000; stroke:none; fill-opacity:1\" cx=\"919.585\" cy=\"1028.21\" r=\"18\"/>\n",
       "<circle clip-path=\"url(#clip5303)\" style=\"fill:#009af9; stroke:none; fill-opacity:1\" cx=\"919.585\" cy=\"1028.21\" r=\"14\"/>\n",
       "<circle clip-path=\"url(#clip5303)\" style=\"fill:#000000; stroke:none; fill-opacity:1\" cx=\"1726.51\" cy=\"433.771\" r=\"18\"/>\n",
       "<circle clip-path=\"url(#clip5303)\" style=\"fill:#009af9; stroke:none; fill-opacity:1\" cx=\"1726.51\" cy=\"433.771\" r=\"14\"/>\n",
       "<circle clip-path=\"url(#clip5303)\" style=\"fill:#000000; stroke:none; fill-opacity:1\" cx=\"1239.69\" cy=\"780.582\" r=\"18\"/>\n",
       "<circle clip-path=\"url(#clip5303)\" style=\"fill:#009af9; stroke:none; fill-opacity:1\" cx=\"1239.69\" cy=\"780.582\" r=\"14\"/>\n",
       "<circle clip-path=\"url(#clip5303)\" style=\"fill:#000000; stroke:none; fill-opacity:1\" cx=\"975.425\" cy=\"958.668\" r=\"18\"/>\n",
       "<circle clip-path=\"url(#clip5303)\" style=\"fill:#009af9; stroke:none; fill-opacity:1\" cx=\"975.425\" cy=\"958.668\" r=\"14\"/>\n",
       "<circle clip-path=\"url(#clip5303)\" style=\"fill:#000000; stroke:none; fill-opacity:1\" cx=\"278.077\" cy=\"1434.43\" r=\"18\"/>\n",
       "<circle clip-path=\"url(#clip5303)\" style=\"fill:#009af9; stroke:none; fill-opacity:1\" cx=\"278.077\" cy=\"1434.43\" r=\"14\"/>\n",
       "<circle clip-path=\"url(#clip5303)\" style=\"fill:#000000; stroke:none; fill-opacity:1\" cx=\"2232.52\" cy=\"99.7101\" r=\"18\"/>\n",
       "<circle clip-path=\"url(#clip5303)\" style=\"fill:#009af9; stroke:none; fill-opacity:1\" cx=\"2232.52\" cy=\"99.7101\" r=\"14\"/>\n",
       "<circle clip-path=\"url(#clip5303)\" style=\"fill:#000000; stroke:none; fill-opacity:1\" cx=\"1194.07\" cy=\"847.027\" r=\"18\"/>\n",
       "<circle clip-path=\"url(#clip5303)\" style=\"fill:#009af9; stroke:none; fill-opacity:1\" cx=\"1194.07\" cy=\"847.027\" r=\"14\"/>\n",
       "<circle clip-path=\"url(#clip5303)\" style=\"fill:#000000; stroke:none; fill-opacity:1\" cx=\"889.546\" cy=\"1021.25\" r=\"18\"/>\n",
       "<circle clip-path=\"url(#clip5303)\" style=\"fill:#009af9; stroke:none; fill-opacity:1\" cx=\"889.546\" cy=\"1021.25\" r=\"14\"/>\n",
       "<circle clip-path=\"url(#clip5303)\" style=\"fill:#000000; stroke:none; fill-opacity:1\" cx=\"614.435\" cy=\"1196.26\" r=\"18\"/>\n",
       "<circle clip-path=\"url(#clip5303)\" style=\"fill:#009af9; stroke:none; fill-opacity:1\" cx=\"614.435\" cy=\"1196.26\" r=\"14\"/>\n",
       "<circle clip-path=\"url(#clip5303)\" style=\"fill:#000000; stroke:none; fill-opacity:1\" cx=\"815.19\" cy=\"1048.92\" r=\"18\"/>\n",
       "<circle clip-path=\"url(#clip5303)\" style=\"fill:#009af9; stroke:none; fill-opacity:1\" cx=\"815.19\" cy=\"1048.92\" r=\"14\"/>\n",
       "<circle clip-path=\"url(#clip5303)\" style=\"fill:#000000; stroke:none; fill-opacity:1\" cx=\"1071.38\" cy=\"877.705\" r=\"18\"/>\n",
       "<circle clip-path=\"url(#clip5303)\" style=\"fill:#009af9; stroke:none; fill-opacity:1\" cx=\"1071.38\" cy=\"877.705\" r=\"14\"/>\n",
       "<circle clip-path=\"url(#clip5303)\" style=\"fill:#000000; stroke:none; fill-opacity:1\" cx=\"1658.64\" cy=\"512.305\" r=\"18\"/>\n",
       "<circle clip-path=\"url(#clip5303)\" style=\"fill:#009af9; stroke:none; fill-opacity:1\" cx=\"1658.64\" cy=\"512.305\" r=\"14\"/>\n",
       "<circle clip-path=\"url(#clip5303)\" style=\"fill:#000000; stroke:none; fill-opacity:1\" cx=\"1071.76\" cy=\"896.892\" r=\"18\"/>\n",
       "<circle clip-path=\"url(#clip5303)\" style=\"fill:#009af9; stroke:none; fill-opacity:1\" cx=\"1071.76\" cy=\"896.892\" r=\"14\"/>\n",
       "<circle clip-path=\"url(#clip5303)\" style=\"fill:#000000; stroke:none; fill-opacity:1\" cx=\"2214.25\" cy=\"163.426\" r=\"18\"/>\n",
       "<circle clip-path=\"url(#clip5303)\" style=\"fill:#009af9; stroke:none; fill-opacity:1\" cx=\"2214.25\" cy=\"163.426\" r=\"14\"/>\n",
       "<circle clip-path=\"url(#clip5303)\" style=\"fill:#000000; stroke:none; fill-opacity:1\" cx=\"549.395\" cy=\"1274.2\" r=\"18\"/>\n",
       "<circle clip-path=\"url(#clip5303)\" style=\"fill:#009af9; stroke:none; fill-opacity:1\" cx=\"549.395\" cy=\"1274.2\" r=\"14\"/>\n",
       "<circle clip-path=\"url(#clip5303)\" style=\"fill:#000000; stroke:none; fill-opacity:1\" cx=\"939.574\" cy=\"973.961\" r=\"18\"/>\n",
       "<circle clip-path=\"url(#clip5303)\" style=\"fill:#009af9; stroke:none; fill-opacity:1\" cx=\"939.574\" cy=\"973.961\" r=\"14\"/>\n",
       "<circle clip-path=\"url(#clip5303)\" style=\"fill:#000000; stroke:none; fill-opacity:1\" cx=\"427.768\" cy=\"1357.9\" r=\"18\"/>\n",
       "<circle clip-path=\"url(#clip5303)\" style=\"fill:#009af9; stroke:none; fill-opacity:1\" cx=\"427.768\" cy=\"1357.9\" r=\"14\"/>\n",
       "<circle clip-path=\"url(#clip5303)\" style=\"fill:#000000; stroke:none; fill-opacity:1\" cx=\"1177.55\" cy=\"827.059\" r=\"18\"/>\n",
       "<circle clip-path=\"url(#clip5303)\" style=\"fill:#009af9; stroke:none; fill-opacity:1\" cx=\"1177.55\" cy=\"827.059\" r=\"14\"/>\n",
       "<circle clip-path=\"url(#clip5303)\" style=\"fill:#000000; stroke:none; fill-opacity:1\" cx=\"878.749\" cy=\"1037.23\" r=\"18\"/>\n",
       "<circle clip-path=\"url(#clip5303)\" style=\"fill:#009af9; stroke:none; fill-opacity:1\" cx=\"878.749\" cy=\"1037.23\" r=\"14\"/>\n",
       "<circle clip-path=\"url(#clip5303)\" style=\"fill:#000000; stroke:none; fill-opacity:1\" cx=\"733.335\" cy=\"1101.94\" r=\"18\"/>\n",
       "<circle clip-path=\"url(#clip5303)\" style=\"fill:#009af9; stroke:none; fill-opacity:1\" cx=\"733.335\" cy=\"1101.94\" r=\"14\"/>\n",
       "<circle clip-path=\"url(#clip5303)\" style=\"fill:#000000; stroke:none; fill-opacity:1\" cx=\"1833.34\" cy=\"336.283\" r=\"18\"/>\n",
       "<circle clip-path=\"url(#clip5303)\" style=\"fill:#009af9; stroke:none; fill-opacity:1\" cx=\"1833.34\" cy=\"336.283\" r=\"14\"/>\n",
       "<circle clip-path=\"url(#clip5303)\" style=\"fill:#000000; stroke:none; fill-opacity:1\" cx=\"2163.34\" cy=\"235.127\" r=\"18\"/>\n",
       "<circle clip-path=\"url(#clip5303)\" style=\"fill:#009af9; stroke:none; fill-opacity:1\" cx=\"2163.34\" cy=\"235.127\" r=\"14\"/>\n",
       "<circle clip-path=\"url(#clip5303)\" style=\"fill:#000000; stroke:none; fill-opacity:1\" cx=\"415.329\" cy=\"1336.83\" r=\"18\"/>\n",
       "<circle clip-path=\"url(#clip5303)\" style=\"fill:#009af9; stroke:none; fill-opacity:1\" cx=\"415.329\" cy=\"1336.83\" r=\"14\"/>\n",
       "<circle clip-path=\"url(#clip5303)\" style=\"fill:#000000; stroke:none; fill-opacity:1\" cx=\"668.655\" cy=\"1172.58\" r=\"18\"/>\n",
       "<circle clip-path=\"url(#clip5303)\" style=\"fill:#009af9; stroke:none; fill-opacity:1\" cx=\"668.655\" cy=\"1172.58\" r=\"14\"/>\n",
       "<circle clip-path=\"url(#clip5303)\" style=\"fill:#000000; stroke:none; fill-opacity:1\" cx=\"1612.76\" cy=\"582.924\" r=\"18\"/>\n",
       "<circle clip-path=\"url(#clip5303)\" style=\"fill:#009af9; stroke:none; fill-opacity:1\" cx=\"1612.76\" cy=\"582.924\" r=\"14\"/>\n",
       "<circle clip-path=\"url(#clip5303)\" style=\"fill:#000000; stroke:none; fill-opacity:1\" cx=\"1662.12\" cy=\"497.51\" r=\"18\"/>\n",
       "<circle clip-path=\"url(#clip5303)\" style=\"fill:#009af9; stroke:none; fill-opacity:1\" cx=\"1662.12\" cy=\"497.51\" r=\"14\"/>\n",
       "<circle clip-path=\"url(#clip5303)\" style=\"fill:#000000; stroke:none; fill-opacity:1\" cx=\"2199.25\" cy=\"123.324\" r=\"18\"/>\n",
       "<circle clip-path=\"url(#clip5303)\" style=\"fill:#009af9; stroke:none; fill-opacity:1\" cx=\"2199.25\" cy=\"123.324\" r=\"14\"/>\n",
       "<circle clip-path=\"url(#clip5303)\" style=\"fill:#000000; stroke:none; fill-opacity:1\" cx=\"1380.7\" cy=\"707.245\" r=\"18\"/>\n",
       "<circle clip-path=\"url(#clip5303)\" style=\"fill:#009af9; stroke:none; fill-opacity:1\" cx=\"1380.7\" cy=\"707.245\" r=\"14\"/>\n",
       "<circle clip-path=\"url(#clip5303)\" style=\"fill:#000000; stroke:none; fill-opacity:1\" cx=\"2203.39\" cy=\"121.831\" r=\"18\"/>\n",
       "<circle clip-path=\"url(#clip5303)\" style=\"fill:#009af9; stroke:none; fill-opacity:1\" cx=\"2203.39\" cy=\"121.831\" r=\"14\"/>\n",
       "<circle clip-path=\"url(#clip5303)\" style=\"fill:#000000; stroke:none; fill-opacity:1\" cx=\"1793.05\" cy=\"406.514\" r=\"18\"/>\n",
       "<circle clip-path=\"url(#clip5303)\" style=\"fill:#009af9; stroke:none; fill-opacity:1\" cx=\"1793.05\" cy=\"406.514\" r=\"14\"/>\n",
       "<circle clip-path=\"url(#clip5303)\" style=\"fill:#000000; stroke:none; fill-opacity:1\" cx=\"1235.29\" cy=\"734.032\" r=\"18\"/>\n",
       "<circle clip-path=\"url(#clip5303)\" style=\"fill:#009af9; stroke:none; fill-opacity:1\" cx=\"1235.29\" cy=\"734.032\" r=\"14\"/>\n",
       "<circle clip-path=\"url(#clip5303)\" style=\"fill:#000000; stroke:none; fill-opacity:1\" cx=\"2134.84\" cy=\"161.024\" r=\"18\"/>\n",
       "<circle clip-path=\"url(#clip5303)\" style=\"fill:#009af9; stroke:none; fill-opacity:1\" cx=\"2134.84\" cy=\"161.024\" r=\"14\"/>\n",
       "<circle clip-path=\"url(#clip5303)\" style=\"fill:#000000; stroke:none; fill-opacity:1\" cx=\"1535.76\" cy=\"614.751\" r=\"18\"/>\n",
       "<circle clip-path=\"url(#clip5303)\" style=\"fill:#009af9; stroke:none; fill-opacity:1\" cx=\"1535.76\" cy=\"614.751\" r=\"14\"/>\n",
       "<circle clip-path=\"url(#clip5303)\" style=\"fill:#000000; stroke:none; fill-opacity:1\" cx=\"739.774\" cy=\"1111.66\" r=\"18\"/>\n",
       "<circle clip-path=\"url(#clip5303)\" style=\"fill:#009af9; stroke:none; fill-opacity:1\" cx=\"739.774\" cy=\"1111.66\" r=\"14\"/>\n",
       "<circle clip-path=\"url(#clip5303)\" style=\"fill:#000000; stroke:none; fill-opacity:1\" cx=\"1663.97\" cy=\"496.83\" r=\"18\"/>\n",
       "<circle clip-path=\"url(#clip5303)\" style=\"fill:#009af9; stroke:none; fill-opacity:1\" cx=\"1663.97\" cy=\"496.83\" r=\"14\"/>\n",
       "<circle clip-path=\"url(#clip5303)\" style=\"fill:#000000; stroke:none; fill-opacity:1\" cx=\"840.792\" cy=\"1096.93\" r=\"18\"/>\n",
       "<circle clip-path=\"url(#clip5303)\" style=\"fill:#009af9; stroke:none; fill-opacity:1\" cx=\"840.792\" cy=\"1096.93\" r=\"14\"/>\n",
       "<circle clip-path=\"url(#clip5303)\" style=\"fill:#000000; stroke:none; fill-opacity:1\" cx=\"406.818\" cy=\"1351.94\" r=\"18\"/>\n",
       "<circle clip-path=\"url(#clip5303)\" style=\"fill:#009af9; stroke:none; fill-opacity:1\" cx=\"406.818\" cy=\"1351.94\" r=\"14\"/>\n",
       "<circle clip-path=\"url(#clip5303)\" style=\"fill:#000000; stroke:none; fill-opacity:1\" cx=\"1945.76\" cy=\"303.725\" r=\"18\"/>\n",
       "<circle clip-path=\"url(#clip5303)\" style=\"fill:#009af9; stroke:none; fill-opacity:1\" cx=\"1945.76\" cy=\"303.725\" r=\"14\"/>\n",
       "<circle clip-path=\"url(#clip5303)\" style=\"fill:#000000; stroke:none; fill-opacity:1\" cx=\"1169.66\" cy=\"889.64\" r=\"18\"/>\n",
       "<circle clip-path=\"url(#clip5303)\" style=\"fill:#009af9; stroke:none; fill-opacity:1\" cx=\"1169.66\" cy=\"889.64\" r=\"14\"/>\n",
       "<circle clip-path=\"url(#clip5303)\" style=\"fill:#000000; stroke:none; fill-opacity:1\" cx=\"1655.25\" cy=\"541.515\" r=\"18\"/>\n",
       "<circle clip-path=\"url(#clip5303)\" style=\"fill:#009af9; stroke:none; fill-opacity:1\" cx=\"1655.25\" cy=\"541.515\" r=\"14\"/>\n",
       "<circle clip-path=\"url(#clip5303)\" style=\"fill:#000000; stroke:none; fill-opacity:1\" cx=\"1411.44\" cy=\"674.006\" r=\"18\"/>\n",
       "<circle clip-path=\"url(#clip5303)\" style=\"fill:#009af9; stroke:none; fill-opacity:1\" cx=\"1411.44\" cy=\"674.006\" r=\"14\"/>\n",
       "<circle clip-path=\"url(#clip5303)\" style=\"fill:#000000; stroke:none; fill-opacity:1\" cx=\"1058.52\" cy=\"879.243\" r=\"18\"/>\n",
       "<circle clip-path=\"url(#clip5303)\" style=\"fill:#009af9; stroke:none; fill-opacity:1\" cx=\"1058.52\" cy=\"879.243\" r=\"14\"/>\n",
       "<circle clip-path=\"url(#clip5303)\" style=\"fill:#000000; stroke:none; fill-opacity:1\" cx=\"1543.67\" cy=\"603.582\" r=\"18\"/>\n",
       "<circle clip-path=\"url(#clip5303)\" style=\"fill:#009af9; stroke:none; fill-opacity:1\" cx=\"1543.67\" cy=\"603.582\" r=\"14\"/>\n",
       "<circle clip-path=\"url(#clip5303)\" style=\"fill:#000000; stroke:none; fill-opacity:1\" cx=\"1927.5\" cy=\"315.063\" r=\"18\"/>\n",
       "<circle clip-path=\"url(#clip5303)\" style=\"fill:#009af9; stroke:none; fill-opacity:1\" cx=\"1927.5\" cy=\"315.063\" r=\"14\"/>\n",
       "<circle clip-path=\"url(#clip5303)\" style=\"fill:#000000; stroke:none; fill-opacity:1\" cx=\"1123.57\" cy=\"872.502\" r=\"18\"/>\n",
       "<circle clip-path=\"url(#clip5303)\" style=\"fill:#009af9; stroke:none; fill-opacity:1\" cx=\"1123.57\" cy=\"872.502\" r=\"14\"/>\n",
       "<circle clip-path=\"url(#clip5303)\" style=\"fill:#000000; stroke:none; fill-opacity:1\" cx=\"597.725\" cy=\"1245.86\" r=\"18\"/>\n",
       "<circle clip-path=\"url(#clip5303)\" style=\"fill:#009af9; stroke:none; fill-opacity:1\" cx=\"597.725\" cy=\"1245.86\" r=\"14\"/>\n",
       "<circle clip-path=\"url(#clip5303)\" style=\"fill:#000000; stroke:none; fill-opacity:1\" cx=\"2253.89\" cy=\"110.861\" r=\"18\"/>\n",
       "<circle clip-path=\"url(#clip5303)\" style=\"fill:#009af9; stroke:none; fill-opacity:1\" cx=\"2253.89\" cy=\"110.861\" r=\"14\"/>\n",
       "<circle clip-path=\"url(#clip5303)\" style=\"fill:#000000; stroke:none; fill-opacity:1\" cx=\"1052.13\" cy=\"934.755\" r=\"18\"/>\n",
       "<circle clip-path=\"url(#clip5303)\" style=\"fill:#009af9; stroke:none; fill-opacity:1\" cx=\"1052.13\" cy=\"934.755\" r=\"14\"/>\n",
       "<circle clip-path=\"url(#clip5303)\" style=\"fill:#000000; stroke:none; fill-opacity:1\" cx=\"1729.95\" cy=\"399.932\" r=\"18\"/>\n",
       "<circle clip-path=\"url(#clip5303)\" style=\"fill:#009af9; stroke:none; fill-opacity:1\" cx=\"1729.95\" cy=\"399.932\" r=\"14\"/>\n",
       "<circle clip-path=\"url(#clip5303)\" style=\"fill:#000000; stroke:none; fill-opacity:1\" cx=\"544.543\" cy=\"1262.93\" r=\"18\"/>\n",
       "<circle clip-path=\"url(#clip5303)\" style=\"fill:#009af9; stroke:none; fill-opacity:1\" cx=\"544.543\" cy=\"1262.93\" r=\"14\"/>\n",
       "<circle clip-path=\"url(#clip5303)\" style=\"fill:#000000; stroke:none; fill-opacity:1\" cx=\"256.241\" cy=\"1408.1\" r=\"18\"/>\n",
       "<circle clip-path=\"url(#clip5303)\" style=\"fill:#009af9; stroke:none; fill-opacity:1\" cx=\"256.241\" cy=\"1408.1\" r=\"14\"/>\n",
       "<circle clip-path=\"url(#clip5303)\" style=\"fill:#000000; stroke:none; fill-opacity:1\" cx=\"588.524\" cy=\"1215.55\" r=\"18\"/>\n",
       "<circle clip-path=\"url(#clip5303)\" style=\"fill:#009af9; stroke:none; fill-opacity:1\" cx=\"588.524\" cy=\"1215.55\" r=\"14\"/>\n",
       "<circle clip-path=\"url(#clip5303)\" style=\"fill:#000000; stroke:none; fill-opacity:1\" cx=\"1969.12\" cy=\"309.133\" r=\"18\"/>\n",
       "<circle clip-path=\"url(#clip5303)\" style=\"fill:#009af9; stroke:none; fill-opacity:1\" cx=\"1969.12\" cy=\"309.133\" r=\"14\"/>\n",
       "<circle clip-path=\"url(#clip5303)\" style=\"fill:#000000; stroke:none; fill-opacity:1\" cx=\"1856.48\" cy=\"380.29\" r=\"18\"/>\n",
       "<circle clip-path=\"url(#clip5303)\" style=\"fill:#009af9; stroke:none; fill-opacity:1\" cx=\"1856.48\" cy=\"380.29\" r=\"14\"/>\n",
       "<circle clip-path=\"url(#clip5303)\" style=\"fill:#000000; stroke:none; fill-opacity:1\" cx=\"2114.43\" cy=\"184.623\" r=\"18\"/>\n",
       "<circle clip-path=\"url(#clip5303)\" style=\"fill:#009af9; stroke:none; fill-opacity:1\" cx=\"2114.43\" cy=\"184.623\" r=\"14\"/>\n",
       "<circle clip-path=\"url(#clip5303)\" style=\"fill:#000000; stroke:none; fill-opacity:1\" cx=\"753.206\" cy=\"1166.97\" r=\"18\"/>\n",
       "<circle clip-path=\"url(#clip5303)\" style=\"fill:#009af9; stroke:none; fill-opacity:1\" cx=\"753.206\" cy=\"1166.97\" r=\"14\"/>\n",
       "<circle clip-path=\"url(#clip5303)\" style=\"fill:#000000; stroke:none; fill-opacity:1\" cx=\"1981.86\" cy=\"257.647\" r=\"18\"/>\n",
       "<circle clip-path=\"url(#clip5303)\" style=\"fill:#009af9; stroke:none; fill-opacity:1\" cx=\"1981.86\" cy=\"257.647\" r=\"14\"/>\n",
       "<circle clip-path=\"url(#clip5303)\" style=\"fill:#000000; stroke:none; fill-opacity:1\" cx=\"1252.38\" cy=\"779.049\" r=\"18\"/>\n",
       "<circle clip-path=\"url(#clip5303)\" style=\"fill:#009af9; stroke:none; fill-opacity:1\" cx=\"1252.38\" cy=\"779.049\" r=\"14\"/>\n",
       "<circle clip-path=\"url(#clip5303)\" style=\"fill:#000000; stroke:none; fill-opacity:1\" cx=\"1717.31\" cy=\"459.646\" r=\"18\"/>\n",
       "<circle clip-path=\"url(#clip5303)\" style=\"fill:#009af9; stroke:none; fill-opacity:1\" cx=\"1717.31\" cy=\"459.646\" r=\"14\"/>\n",
       "<circle clip-path=\"url(#clip5303)\" style=\"fill:#000000; stroke:none; fill-opacity:1\" cx=\"809.372\" cy=\"1122.08\" r=\"18\"/>\n",
       "<circle clip-path=\"url(#clip5303)\" style=\"fill:#009af9; stroke:none; fill-opacity:1\" cx=\"809.372\" cy=\"1122.08\" r=\"14\"/>\n",
       "<circle clip-path=\"url(#clip5303)\" style=\"fill:#000000; stroke:none; fill-opacity:1\" cx=\"2015.51\" cy=\"250.729\" r=\"18\"/>\n",
       "<circle clip-path=\"url(#clip5303)\" style=\"fill:#009af9; stroke:none; fill-opacity:1\" cx=\"2015.51\" cy=\"250.729\" r=\"14\"/>\n",
       "<circle clip-path=\"url(#clip5303)\" style=\"fill:#000000; stroke:none; fill-opacity:1\" cx=\"1801.44\" cy=\"434.67\" r=\"18\"/>\n",
       "<circle clip-path=\"url(#clip5303)\" style=\"fill:#009af9; stroke:none; fill-opacity:1\" cx=\"1801.44\" cy=\"434.67\" r=\"14\"/>\n",
       "<circle clip-path=\"url(#clip5303)\" style=\"fill:#000000; stroke:none; fill-opacity:1\" cx=\"2172.24\" cy=\"135.964\" r=\"18\"/>\n",
       "<circle clip-path=\"url(#clip5303)\" style=\"fill:#009af9; stroke:none; fill-opacity:1\" cx=\"2172.24\" cy=\"135.964\" r=\"14\"/>\n",
       "<circle clip-path=\"url(#clip5303)\" style=\"fill:#000000; stroke:none; fill-opacity:1\" cx=\"1311.8\" cy=\"745.994\" r=\"18\"/>\n",
       "<circle clip-path=\"url(#clip5303)\" style=\"fill:#009af9; stroke:none; fill-opacity:1\" cx=\"1311.8\" cy=\"745.994\" r=\"14\"/>\n",
       "<circle clip-path=\"url(#clip5303)\" style=\"fill:#000000; stroke:none; fill-opacity:1\" cx=\"309.283\" cy=\"1413.47\" r=\"18\"/>\n",
       "<circle clip-path=\"url(#clip5303)\" style=\"fill:#009af9; stroke:none; fill-opacity:1\" cx=\"309.283\" cy=\"1413.47\" r=\"14\"/>\n",
       "<circle clip-path=\"url(#clip5303)\" style=\"fill:#000000; stroke:none; fill-opacity:1\" cx=\"2090.54\" cy=\"234.238\" r=\"18\"/>\n",
       "<circle clip-path=\"url(#clip5303)\" style=\"fill:#009af9; stroke:none; fill-opacity:1\" cx=\"2090.54\" cy=\"234.238\" r=\"14\"/>\n",
       "<circle clip-path=\"url(#clip5303)\" style=\"fill:#000000; stroke:none; fill-opacity:1\" cx=\"803.106\" cy=\"1092\" r=\"18\"/>\n",
       "<circle clip-path=\"url(#clip5303)\" style=\"fill:#009af9; stroke:none; fill-opacity:1\" cx=\"803.106\" cy=\"1092\" r=\"14\"/>\n",
       "<circle clip-path=\"url(#clip5303)\" style=\"fill:#000000; stroke:none; fill-opacity:1\" cx=\"696.257\" cy=\"1159.91\" r=\"18\"/>\n",
       "<circle clip-path=\"url(#clip5303)\" style=\"fill:#009af9; stroke:none; fill-opacity:1\" cx=\"696.257\" cy=\"1159.91\" r=\"14\"/>\n",
       "<circle clip-path=\"url(#clip5303)\" style=\"fill:#000000; stroke:none; fill-opacity:1\" cx=\"1527.63\" cy=\"575.081\" r=\"18\"/>\n",
       "<circle clip-path=\"url(#clip5303)\" style=\"fill:#009af9; stroke:none; fill-opacity:1\" cx=\"1527.63\" cy=\"575.081\" r=\"14\"/>\n",
       "<circle clip-path=\"url(#clip5303)\" style=\"fill:#000000; stroke:none; fill-opacity:1\" cx=\"910.817\" cy=\"1019.64\" r=\"18\"/>\n",
       "<circle clip-path=\"url(#clip5303)\" style=\"fill:#009af9; stroke:none; fill-opacity:1\" cx=\"910.817\" cy=\"1019.64\" r=\"14\"/>\n",
       "<circle clip-path=\"url(#clip5303)\" style=\"fill:#000000; stroke:none; fill-opacity:1\" cx=\"1656.83\" cy=\"490.135\" r=\"18\"/>\n",
       "<circle clip-path=\"url(#clip5303)\" style=\"fill:#009af9; stroke:none; fill-opacity:1\" cx=\"1656.83\" cy=\"490.135\" r=\"14\"/>\n",
       "<circle clip-path=\"url(#clip5303)\" style=\"fill:#000000; stroke:none; fill-opacity:1\" cx=\"968.314\" cy=\"977.274\" r=\"18\"/>\n",
       "<circle clip-path=\"url(#clip5303)\" style=\"fill:#009af9; stroke:none; fill-opacity:1\" cx=\"968.314\" cy=\"977.274\" r=\"14\"/>\n",
       "<circle clip-path=\"url(#clip5303)\" style=\"fill:#000000; stroke:none; fill-opacity:1\" cx=\"1990.09\" cy=\"260.262\" r=\"18\"/>\n",
       "<circle clip-path=\"url(#clip5303)\" style=\"fill:#009af9; stroke:none; fill-opacity:1\" cx=\"1990.09\" cy=\"260.262\" r=\"14\"/>\n",
       "<circle clip-path=\"url(#clip5303)\" style=\"fill:#000000; stroke:none; fill-opacity:1\" cx=\"1130.07\" cy=\"816.034\" r=\"18\"/>\n",
       "<circle clip-path=\"url(#clip5303)\" style=\"fill:#009af9; stroke:none; fill-opacity:1\" cx=\"1130.07\" cy=\"816.034\" r=\"14\"/>\n",
       "<circle clip-path=\"url(#clip5303)\" style=\"fill:#000000; stroke:none; fill-opacity:1\" cx=\"986.708\" cy=\"976.92\" r=\"18\"/>\n",
       "<circle clip-path=\"url(#clip5303)\" style=\"fill:#009af9; stroke:none; fill-opacity:1\" cx=\"986.708\" cy=\"976.92\" r=\"14\"/>\n",
       "<circle clip-path=\"url(#clip5303)\" style=\"fill:#000000; stroke:none; fill-opacity:1\" cx=\"336.97\" cy=\"1406.55\" r=\"18\"/>\n",
       "<circle clip-path=\"url(#clip5303)\" style=\"fill:#009af9; stroke:none; fill-opacity:1\" cx=\"336.97\" cy=\"1406.55\" r=\"14\"/>\n",
       "<circle clip-path=\"url(#clip5303)\" style=\"fill:#000000; stroke:none; fill-opacity:1\" cx=\"1548.77\" cy=\"594.376\" r=\"18\"/>\n",
       "<circle clip-path=\"url(#clip5303)\" style=\"fill:#009af9; stroke:none; fill-opacity:1\" cx=\"1548.77\" cy=\"594.376\" r=\"14\"/>\n",
       "<circle clip-path=\"url(#clip5303)\" style=\"fill:#000000; stroke:none; fill-opacity:1\" cx=\"2096.54\" cy=\"199.497\" r=\"18\"/>\n",
       "<circle clip-path=\"url(#clip5303)\" style=\"fill:#009af9; stroke:none; fill-opacity:1\" cx=\"2096.54\" cy=\"199.497\" r=\"14\"/>\n",
       "<circle clip-path=\"url(#clip5303)\" style=\"fill:#000000; stroke:none; fill-opacity:1\" cx=\"1766.37\" cy=\"465.532\" r=\"18\"/>\n",
       "<circle clip-path=\"url(#clip5303)\" style=\"fill:#009af9; stroke:none; fill-opacity:1\" cx=\"1766.37\" cy=\"465.532\" r=\"14\"/>\n",
       "<circle clip-path=\"url(#clip5303)\" style=\"fill:#000000; stroke:none; fill-opacity:1\" cx=\"783.949\" cy=\"1081.88\" r=\"18\"/>\n",
       "<circle clip-path=\"url(#clip5303)\" style=\"fill:#009af9; stroke:none; fill-opacity:1\" cx=\"783.949\" cy=\"1081.88\" r=\"14\"/>\n",
       "<circle clip-path=\"url(#clip5303)\" style=\"fill:#000000; stroke:none; fill-opacity:1\" cx=\"377.458\" cy=\"1411.19\" r=\"18\"/>\n",
       "<circle clip-path=\"url(#clip5303)\" style=\"fill:#009af9; stroke:none; fill-opacity:1\" cx=\"377.458\" cy=\"1411.19\" r=\"14\"/>\n",
       "<circle clip-path=\"url(#clip5303)\" style=\"fill:#000000; stroke:none; fill-opacity:1\" cx=\"313.913\" cy=\"1412.61\" r=\"18\"/>\n",
       "<circle clip-path=\"url(#clip5303)\" style=\"fill:#009af9; stroke:none; fill-opacity:1\" cx=\"313.913\" cy=\"1412.61\" r=\"14\"/>\n",
       "<circle clip-path=\"url(#clip5303)\" style=\"fill:#000000; stroke:none; fill-opacity:1\" cx=\"788.279\" cy=\"1056.65\" r=\"18\"/>\n",
       "<circle clip-path=\"url(#clip5303)\" style=\"fill:#009af9; stroke:none; fill-opacity:1\" cx=\"788.279\" cy=\"1056.65\" r=\"14\"/>\n",
       "<circle clip-path=\"url(#clip5303)\" style=\"fill:#000000; stroke:none; fill-opacity:1\" cx=\"856.942\" cy=\"1006.48\" r=\"18\"/>\n",
       "<circle clip-path=\"url(#clip5303)\" style=\"fill:#009af9; stroke:none; fill-opacity:1\" cx=\"856.942\" cy=\"1006.48\" r=\"14\"/>\n",
       "<circle clip-path=\"url(#clip5303)\" style=\"fill:#000000; stroke:none; fill-opacity:1\" cx=\"1035.39\" cy=\"978.742\" r=\"18\"/>\n",
       "<circle clip-path=\"url(#clip5303)\" style=\"fill:#009af9; stroke:none; fill-opacity:1\" cx=\"1035.39\" cy=\"978.742\" r=\"14\"/>\n",
       "<circle clip-path=\"url(#clip5303)\" style=\"fill:#000000; stroke:none; fill-opacity:1\" cx=\"567.472\" cy=\"1249.98\" r=\"18\"/>\n",
       "<circle clip-path=\"url(#clip5303)\" style=\"fill:#009af9; stroke:none; fill-opacity:1\" cx=\"567.472\" cy=\"1249.98\" r=\"14\"/>\n",
       "<circle clip-path=\"url(#clip5303)\" style=\"fill:#000000; stroke:none; fill-opacity:1\" cx=\"723.916\" cy=\"1120.33\" r=\"18\"/>\n",
       "<circle clip-path=\"url(#clip5303)\" style=\"fill:#009af9; stroke:none; fill-opacity:1\" cx=\"723.916\" cy=\"1120.33\" r=\"14\"/>\n",
       "<circle clip-path=\"url(#clip5303)\" style=\"fill:#000000; stroke:none; fill-opacity:1\" cx=\"1600.55\" cy=\"575.936\" r=\"18\"/>\n",
       "<circle clip-path=\"url(#clip5303)\" style=\"fill:#009af9; stroke:none; fill-opacity:1\" cx=\"1600.55\" cy=\"575.936\" r=\"14\"/>\n",
       "<circle clip-path=\"url(#clip5303)\" style=\"fill:#000000; stroke:none; fill-opacity:1\" cx=\"557.869\" cy=\"1234.95\" r=\"18\"/>\n",
       "<circle clip-path=\"url(#clip5303)\" style=\"fill:#009af9; stroke:none; fill-opacity:1\" cx=\"557.869\" cy=\"1234.95\" r=\"14\"/>\n",
       "<circle clip-path=\"url(#clip5303)\" style=\"fill:#000000; stroke:none; fill-opacity:1\" cx=\"1451.55\" cy=\"656.778\" r=\"18\"/>\n",
       "<circle clip-path=\"url(#clip5303)\" style=\"fill:#009af9; stroke:none; fill-opacity:1\" cx=\"1451.55\" cy=\"656.778\" r=\"14\"/>\n",
       "<circle clip-path=\"url(#clip5303)\" style=\"fill:#000000; stroke:none; fill-opacity:1\" cx=\"894.961\" cy=\"1050.55\" r=\"18\"/>\n",
       "<circle clip-path=\"url(#clip5303)\" style=\"fill:#009af9; stroke:none; fill-opacity:1\" cx=\"894.961\" cy=\"1050.55\" r=\"14\"/>\n",
       "<circle clip-path=\"url(#clip5303)\" style=\"fill:#000000; stroke:none; fill-opacity:1\" cx=\"1808.86\" cy=\"397.889\" r=\"18\"/>\n",
       "<circle clip-path=\"url(#clip5303)\" style=\"fill:#009af9; stroke:none; fill-opacity:1\" cx=\"1808.86\" cy=\"397.889\" r=\"14\"/>\n",
       "<circle clip-path=\"url(#clip5303)\" style=\"fill:#000000; stroke:none; fill-opacity:1\" cx=\"822.3\" cy=\"1036.04\" r=\"18\"/>\n",
       "<circle clip-path=\"url(#clip5303)\" style=\"fill:#009af9; stroke:none; fill-opacity:1\" cx=\"822.3\" cy=\"1036.04\" r=\"14\"/>\n",
       "<circle clip-path=\"url(#clip5303)\" style=\"fill:#000000; stroke:none; fill-opacity:1\" cx=\"840.649\" cy=\"1062.45\" r=\"18\"/>\n",
       "<circle clip-path=\"url(#clip5303)\" style=\"fill:#009af9; stroke:none; fill-opacity:1\" cx=\"840.649\" cy=\"1062.45\" r=\"14\"/>\n",
       "<circle clip-path=\"url(#clip5303)\" style=\"fill:#000000; stroke:none; fill-opacity:1\" cx=\"399.9\" cy=\"1359.09\" r=\"18\"/>\n",
       "<circle clip-path=\"url(#clip5303)\" style=\"fill:#009af9; stroke:none; fill-opacity:1\" cx=\"399.9\" cy=\"1359.09\" r=\"14\"/>\n",
       "<circle clip-path=\"url(#clip5303)\" style=\"fill:#000000; stroke:none; fill-opacity:1\" cx=\"1381.04\" cy=\"700.812\" r=\"18\"/>\n",
       "<circle clip-path=\"url(#clip5303)\" style=\"fill:#009af9; stroke:none; fill-opacity:1\" cx=\"1381.04\" cy=\"700.812\" r=\"14\"/>\n",
       "<circle clip-path=\"url(#clip5303)\" style=\"fill:#000000; stroke:none; fill-opacity:1\" cx=\"1637.72\" cy=\"487.558\" r=\"18\"/>\n",
       "<circle clip-path=\"url(#clip5303)\" style=\"fill:#009af9; stroke:none; fill-opacity:1\" cx=\"1637.72\" cy=\"487.558\" r=\"14\"/>\n",
       "<circle clip-path=\"url(#clip5303)\" style=\"fill:#000000; stroke:none; fill-opacity:1\" cx=\"235.525\" cy=\"1462.26\" r=\"18\"/>\n",
       "<circle clip-path=\"url(#clip5303)\" style=\"fill:#e26f46; stroke:none; fill-opacity:1\" cx=\"235.525\" cy=\"1462.26\" r=\"14\"/>\n",
       "<circle clip-path=\"url(#clip5303)\" style=\"fill:#000000; stroke:none; fill-opacity:1\" cx=\"255.979\" cy=\"1448.38\" r=\"18\"/>\n",
       "<circle clip-path=\"url(#clip5303)\" style=\"fill:#e26f46; stroke:none; fill-opacity:1\" cx=\"255.979\" cy=\"1448.38\" r=\"14\"/>\n",
       "<circle clip-path=\"url(#clip5303)\" style=\"fill:#000000; stroke:none; fill-opacity:1\" cx=\"276.434\" cy=\"1434.51\" r=\"18\"/>\n",
       "<circle clip-path=\"url(#clip5303)\" style=\"fill:#e26f46; stroke:none; fill-opacity:1\" cx=\"276.434\" cy=\"1434.51\" r=\"14\"/>\n",
       "<circle clip-path=\"url(#clip5303)\" style=\"fill:#000000; stroke:none; fill-opacity:1\" cx=\"296.888\" cy=\"1420.63\" r=\"18\"/>\n",
       "<circle clip-path=\"url(#clip5303)\" style=\"fill:#e26f46; stroke:none; fill-opacity:1\" cx=\"296.888\" cy=\"1420.63\" r=\"14\"/>\n",
       "<circle clip-path=\"url(#clip5303)\" style=\"fill:#000000; stroke:none; fill-opacity:1\" cx=\"317.342\" cy=\"1406.75\" r=\"18\"/>\n",
       "<circle clip-path=\"url(#clip5303)\" style=\"fill:#e26f46; stroke:none; fill-opacity:1\" cx=\"317.342\" cy=\"1406.75\" r=\"14\"/>\n",
       "<circle clip-path=\"url(#clip5303)\" style=\"fill:#000000; stroke:none; fill-opacity:1\" cx=\"337.797\" cy=\"1392.88\" r=\"18\"/>\n",
       "<circle clip-path=\"url(#clip5303)\" style=\"fill:#e26f46; stroke:none; fill-opacity:1\" cx=\"337.797\" cy=\"1392.88\" r=\"14\"/>\n",
       "<circle clip-path=\"url(#clip5303)\" style=\"fill:#000000; stroke:none; fill-opacity:1\" cx=\"358.251\" cy=\"1379\" r=\"18\"/>\n",
       "<circle clip-path=\"url(#clip5303)\" style=\"fill:#e26f46; stroke:none; fill-opacity:1\" cx=\"358.251\" cy=\"1379\" r=\"14\"/>\n",
       "<circle clip-path=\"url(#clip5303)\" style=\"fill:#000000; stroke:none; fill-opacity:1\" cx=\"378.706\" cy=\"1365.12\" r=\"18\"/>\n",
       "<circle clip-path=\"url(#clip5303)\" style=\"fill:#e26f46; stroke:none; fill-opacity:1\" cx=\"378.706\" cy=\"1365.12\" r=\"14\"/>\n",
       "<circle clip-path=\"url(#clip5303)\" style=\"fill:#000000; stroke:none; fill-opacity:1\" cx=\"399.16\" cy=\"1351.25\" r=\"18\"/>\n",
       "<circle clip-path=\"url(#clip5303)\" style=\"fill:#e26f46; stroke:none; fill-opacity:1\" cx=\"399.16\" cy=\"1351.25\" r=\"14\"/>\n",
       "<circle clip-path=\"url(#clip5303)\" style=\"fill:#000000; stroke:none; fill-opacity:1\" cx=\"419.614\" cy=\"1337.37\" r=\"18\"/>\n",
       "<circle clip-path=\"url(#clip5303)\" style=\"fill:#e26f46; stroke:none; fill-opacity:1\" cx=\"419.614\" cy=\"1337.37\" r=\"14\"/>\n",
       "<circle clip-path=\"url(#clip5303)\" style=\"fill:#000000; stroke:none; fill-opacity:1\" cx=\"440.069\" cy=\"1323.49\" r=\"18\"/>\n",
       "<circle clip-path=\"url(#clip5303)\" style=\"fill:#e26f46; stroke:none; fill-opacity:1\" cx=\"440.069\" cy=\"1323.49\" r=\"14\"/>\n",
       "<circle clip-path=\"url(#clip5303)\" style=\"fill:#000000; stroke:none; fill-opacity:1\" cx=\"460.523\" cy=\"1309.62\" r=\"18\"/>\n",
       "<circle clip-path=\"url(#clip5303)\" style=\"fill:#e26f46; stroke:none; fill-opacity:1\" cx=\"460.523\" cy=\"1309.62\" r=\"14\"/>\n",
       "<circle clip-path=\"url(#clip5303)\" style=\"fill:#000000; stroke:none; fill-opacity:1\" cx=\"480.978\" cy=\"1295.74\" r=\"18\"/>\n",
       "<circle clip-path=\"url(#clip5303)\" style=\"fill:#e26f46; stroke:none; fill-opacity:1\" cx=\"480.978\" cy=\"1295.74\" r=\"14\"/>\n",
       "<circle clip-path=\"url(#clip5303)\" style=\"fill:#000000; stroke:none; fill-opacity:1\" cx=\"501.432\" cy=\"1281.86\" r=\"18\"/>\n",
       "<circle clip-path=\"url(#clip5303)\" style=\"fill:#e26f46; stroke:none; fill-opacity:1\" cx=\"501.432\" cy=\"1281.86\" r=\"14\"/>\n",
       "<circle clip-path=\"url(#clip5303)\" style=\"fill:#000000; stroke:none; fill-opacity:1\" cx=\"521.886\" cy=\"1267.99\" r=\"18\"/>\n",
       "<circle clip-path=\"url(#clip5303)\" style=\"fill:#e26f46; stroke:none; fill-opacity:1\" cx=\"521.886\" cy=\"1267.99\" r=\"14\"/>\n",
       "<circle clip-path=\"url(#clip5303)\" style=\"fill:#000000; stroke:none; fill-opacity:1\" cx=\"542.341\" cy=\"1254.11\" r=\"18\"/>\n",
       "<circle clip-path=\"url(#clip5303)\" style=\"fill:#e26f46; stroke:none; fill-opacity:1\" cx=\"542.341\" cy=\"1254.11\" r=\"14\"/>\n",
       "<circle clip-path=\"url(#clip5303)\" style=\"fill:#000000; stroke:none; fill-opacity:1\" cx=\"562.795\" cy=\"1240.23\" r=\"18\"/>\n",
       "<circle clip-path=\"url(#clip5303)\" style=\"fill:#e26f46; stroke:none; fill-opacity:1\" cx=\"562.795\" cy=\"1240.23\" r=\"14\"/>\n",
       "<circle clip-path=\"url(#clip5303)\" style=\"fill:#000000; stroke:none; fill-opacity:1\" cx=\"583.25\" cy=\"1226.36\" r=\"18\"/>\n",
       "<circle clip-path=\"url(#clip5303)\" style=\"fill:#e26f46; stroke:none; fill-opacity:1\" cx=\"583.25\" cy=\"1226.36\" r=\"14\"/>\n",
       "<circle clip-path=\"url(#clip5303)\" style=\"fill:#000000; stroke:none; fill-opacity:1\" cx=\"603.704\" cy=\"1212.48\" r=\"18\"/>\n",
       "<circle clip-path=\"url(#clip5303)\" style=\"fill:#e26f46; stroke:none; fill-opacity:1\" cx=\"603.704\" cy=\"1212.48\" r=\"14\"/>\n",
       "<circle clip-path=\"url(#clip5303)\" style=\"fill:#000000; stroke:none; fill-opacity:1\" cx=\"624.158\" cy=\"1198.6\" r=\"18\"/>\n",
       "<circle clip-path=\"url(#clip5303)\" style=\"fill:#e26f46; stroke:none; fill-opacity:1\" cx=\"624.158\" cy=\"1198.6\" r=\"14\"/>\n",
       "<circle clip-path=\"url(#clip5303)\" style=\"fill:#000000; stroke:none; fill-opacity:1\" cx=\"644.613\" cy=\"1184.72\" r=\"18\"/>\n",
       "<circle clip-path=\"url(#clip5303)\" style=\"fill:#e26f46; stroke:none; fill-opacity:1\" cx=\"644.613\" cy=\"1184.72\" r=\"14\"/>\n",
       "<circle clip-path=\"url(#clip5303)\" style=\"fill:#000000; stroke:none; fill-opacity:1\" cx=\"665.067\" cy=\"1170.85\" r=\"18\"/>\n",
       "<circle clip-path=\"url(#clip5303)\" style=\"fill:#e26f46; stroke:none; fill-opacity:1\" cx=\"665.067\" cy=\"1170.85\" r=\"14\"/>\n",
       "<circle clip-path=\"url(#clip5303)\" style=\"fill:#000000; stroke:none; fill-opacity:1\" cx=\"685.522\" cy=\"1156.97\" r=\"18\"/>\n",
       "<circle clip-path=\"url(#clip5303)\" style=\"fill:#e26f46; stroke:none; fill-opacity:1\" cx=\"685.522\" cy=\"1156.97\" r=\"14\"/>\n",
       "<circle clip-path=\"url(#clip5303)\" style=\"fill:#000000; stroke:none; fill-opacity:1\" cx=\"705.976\" cy=\"1143.09\" r=\"18\"/>\n",
       "<circle clip-path=\"url(#clip5303)\" style=\"fill:#e26f46; stroke:none; fill-opacity:1\" cx=\"705.976\" cy=\"1143.09\" r=\"14\"/>\n",
       "<circle clip-path=\"url(#clip5303)\" style=\"fill:#000000; stroke:none; fill-opacity:1\" cx=\"726.43\" cy=\"1129.22\" r=\"18\"/>\n",
       "<circle clip-path=\"url(#clip5303)\" style=\"fill:#e26f46; stroke:none; fill-opacity:1\" cx=\"726.43\" cy=\"1129.22\" r=\"14\"/>\n",
       "<circle clip-path=\"url(#clip5303)\" style=\"fill:#000000; stroke:none; fill-opacity:1\" cx=\"746.885\" cy=\"1115.34\" r=\"18\"/>\n",
       "<circle clip-path=\"url(#clip5303)\" style=\"fill:#e26f46; stroke:none; fill-opacity:1\" cx=\"746.885\" cy=\"1115.34\" r=\"14\"/>\n",
       "<circle clip-path=\"url(#clip5303)\" style=\"fill:#000000; stroke:none; fill-opacity:1\" cx=\"767.339\" cy=\"1101.46\" r=\"18\"/>\n",
       "<circle clip-path=\"url(#clip5303)\" style=\"fill:#e26f46; stroke:none; fill-opacity:1\" cx=\"767.339\" cy=\"1101.46\" r=\"14\"/>\n",
       "<circle clip-path=\"url(#clip5303)\" style=\"fill:#000000; stroke:none; fill-opacity:1\" cx=\"787.794\" cy=\"1087.59\" r=\"18\"/>\n",
       "<circle clip-path=\"url(#clip5303)\" style=\"fill:#e26f46; stroke:none; fill-opacity:1\" cx=\"787.794\" cy=\"1087.59\" r=\"14\"/>\n",
       "<circle clip-path=\"url(#clip5303)\" style=\"fill:#000000; stroke:none; fill-opacity:1\" cx=\"808.248\" cy=\"1073.71\" r=\"18\"/>\n",
       "<circle clip-path=\"url(#clip5303)\" style=\"fill:#e26f46; stroke:none; fill-opacity:1\" cx=\"808.248\" cy=\"1073.71\" r=\"14\"/>\n",
       "<circle clip-path=\"url(#clip5303)\" style=\"fill:#000000; stroke:none; fill-opacity:1\" cx=\"828.702\" cy=\"1059.83\" r=\"18\"/>\n",
       "<circle clip-path=\"url(#clip5303)\" style=\"fill:#e26f46; stroke:none; fill-opacity:1\" cx=\"828.702\" cy=\"1059.83\" r=\"14\"/>\n",
       "<circle clip-path=\"url(#clip5303)\" style=\"fill:#000000; stroke:none; fill-opacity:1\" cx=\"849.157\" cy=\"1045.96\" r=\"18\"/>\n",
       "<circle clip-path=\"url(#clip5303)\" style=\"fill:#e26f46; stroke:none; fill-opacity:1\" cx=\"849.157\" cy=\"1045.96\" r=\"14\"/>\n",
       "<circle clip-path=\"url(#clip5303)\" style=\"fill:#000000; stroke:none; fill-opacity:1\" cx=\"869.611\" cy=\"1032.08\" r=\"18\"/>\n",
       "<circle clip-path=\"url(#clip5303)\" style=\"fill:#e26f46; stroke:none; fill-opacity:1\" cx=\"869.611\" cy=\"1032.08\" r=\"14\"/>\n",
       "<circle clip-path=\"url(#clip5303)\" style=\"fill:#000000; stroke:none; fill-opacity:1\" cx=\"890.066\" cy=\"1018.2\" r=\"18\"/>\n",
       "<circle clip-path=\"url(#clip5303)\" style=\"fill:#e26f46; stroke:none; fill-opacity:1\" cx=\"890.066\" cy=\"1018.2\" r=\"14\"/>\n",
       "<circle clip-path=\"url(#clip5303)\" style=\"fill:#000000; stroke:none; fill-opacity:1\" cx=\"910.52\" cy=\"1004.33\" r=\"18\"/>\n",
       "<circle clip-path=\"url(#clip5303)\" style=\"fill:#e26f46; stroke:none; fill-opacity:1\" cx=\"910.52\" cy=\"1004.33\" r=\"14\"/>\n",
       "<circle clip-path=\"url(#clip5303)\" style=\"fill:#000000; stroke:none; fill-opacity:1\" cx=\"930.974\" cy=\"990.45\" r=\"18\"/>\n",
       "<circle clip-path=\"url(#clip5303)\" style=\"fill:#e26f46; stroke:none; fill-opacity:1\" cx=\"930.974\" cy=\"990.45\" r=\"14\"/>\n",
       "<circle clip-path=\"url(#clip5303)\" style=\"fill:#000000; stroke:none; fill-opacity:1\" cx=\"951.429\" cy=\"976.573\" r=\"18\"/>\n",
       "<circle clip-path=\"url(#clip5303)\" style=\"fill:#e26f46; stroke:none; fill-opacity:1\" cx=\"951.429\" cy=\"976.573\" r=\"14\"/>\n",
       "<circle clip-path=\"url(#clip5303)\" style=\"fill:#000000; stroke:none; fill-opacity:1\" cx=\"971.883\" cy=\"962.696\" r=\"18\"/>\n",
       "<circle clip-path=\"url(#clip5303)\" style=\"fill:#e26f46; stroke:none; fill-opacity:1\" cx=\"971.883\" cy=\"962.696\" r=\"14\"/>\n",
       "<circle clip-path=\"url(#clip5303)\" style=\"fill:#000000; stroke:none; fill-opacity:1\" cx=\"992.338\" cy=\"948.819\" r=\"18\"/>\n",
       "<circle clip-path=\"url(#clip5303)\" style=\"fill:#e26f46; stroke:none; fill-opacity:1\" cx=\"992.338\" cy=\"948.819\" r=\"14\"/>\n",
       "<circle clip-path=\"url(#clip5303)\" style=\"fill:#000000; stroke:none; fill-opacity:1\" cx=\"1012.79\" cy=\"934.943\" r=\"18\"/>\n",
       "<circle clip-path=\"url(#clip5303)\" style=\"fill:#e26f46; stroke:none; fill-opacity:1\" cx=\"1012.79\" cy=\"934.943\" r=\"14\"/>\n",
       "<circle clip-path=\"url(#clip5303)\" style=\"fill:#000000; stroke:none; fill-opacity:1\" cx=\"1033.25\" cy=\"921.066\" r=\"18\"/>\n",
       "<circle clip-path=\"url(#clip5303)\" style=\"fill:#e26f46; stroke:none; fill-opacity:1\" cx=\"1033.25\" cy=\"921.066\" r=\"14\"/>\n",
       "<circle clip-path=\"url(#clip5303)\" style=\"fill:#000000; stroke:none; fill-opacity:1\" cx=\"1053.7\" cy=\"907.189\" r=\"18\"/>\n",
       "<circle clip-path=\"url(#clip5303)\" style=\"fill:#e26f46; stroke:none; fill-opacity:1\" cx=\"1053.7\" cy=\"907.189\" r=\"14\"/>\n",
       "<circle clip-path=\"url(#clip5303)\" style=\"fill:#000000; stroke:none; fill-opacity:1\" cx=\"1074.16\" cy=\"893.312\" r=\"18\"/>\n",
       "<circle clip-path=\"url(#clip5303)\" style=\"fill:#e26f46; stroke:none; fill-opacity:1\" cx=\"1074.16\" cy=\"893.312\" r=\"14\"/>\n",
       "<circle clip-path=\"url(#clip5303)\" style=\"fill:#000000; stroke:none; fill-opacity:1\" cx=\"1094.61\" cy=\"879.435\" r=\"18\"/>\n",
       "<circle clip-path=\"url(#clip5303)\" style=\"fill:#e26f46; stroke:none; fill-opacity:1\" cx=\"1094.61\" cy=\"879.435\" r=\"14\"/>\n",
       "<circle clip-path=\"url(#clip5303)\" style=\"fill:#000000; stroke:none; fill-opacity:1\" cx=\"1115.06\" cy=\"865.559\" r=\"18\"/>\n",
       "<circle clip-path=\"url(#clip5303)\" style=\"fill:#e26f46; stroke:none; fill-opacity:1\" cx=\"1115.06\" cy=\"865.559\" r=\"14\"/>\n",
       "<circle clip-path=\"url(#clip5303)\" style=\"fill:#000000; stroke:none; fill-opacity:1\" cx=\"1135.52\" cy=\"851.682\" r=\"18\"/>\n",
       "<circle clip-path=\"url(#clip5303)\" style=\"fill:#e26f46; stroke:none; fill-opacity:1\" cx=\"1135.52\" cy=\"851.682\" r=\"14\"/>\n",
       "<circle clip-path=\"url(#clip5303)\" style=\"fill:#000000; stroke:none; fill-opacity:1\" cx=\"1155.97\" cy=\"837.805\" r=\"18\"/>\n",
       "<circle clip-path=\"url(#clip5303)\" style=\"fill:#e26f46; stroke:none; fill-opacity:1\" cx=\"1155.97\" cy=\"837.805\" r=\"14\"/>\n",
       "<circle clip-path=\"url(#clip5303)\" style=\"fill:#000000; stroke:none; fill-opacity:1\" cx=\"1176.43\" cy=\"823.928\" r=\"18\"/>\n",
       "<circle clip-path=\"url(#clip5303)\" style=\"fill:#e26f46; stroke:none; fill-opacity:1\" cx=\"1176.43\" cy=\"823.928\" r=\"14\"/>\n",
       "<circle clip-path=\"url(#clip5303)\" style=\"fill:#000000; stroke:none; fill-opacity:1\" cx=\"1196.88\" cy=\"810.051\" r=\"18\"/>\n",
       "<circle clip-path=\"url(#clip5303)\" style=\"fill:#e26f46; stroke:none; fill-opacity:1\" cx=\"1196.88\" cy=\"810.051\" r=\"14\"/>\n",
       "<circle clip-path=\"url(#clip5303)\" style=\"fill:#000000; stroke:none; fill-opacity:1\" cx=\"1217.34\" cy=\"796.175\" r=\"18\"/>\n",
       "<circle clip-path=\"url(#clip5303)\" style=\"fill:#e26f46; stroke:none; fill-opacity:1\" cx=\"1217.34\" cy=\"796.175\" r=\"14\"/>\n",
       "<circle clip-path=\"url(#clip5303)\" style=\"fill:#000000; stroke:none; fill-opacity:1\" cx=\"1237.79\" cy=\"782.298\" r=\"18\"/>\n",
       "<circle clip-path=\"url(#clip5303)\" style=\"fill:#e26f46; stroke:none; fill-opacity:1\" cx=\"1237.79\" cy=\"782.298\" r=\"14\"/>\n",
       "<circle clip-path=\"url(#clip5303)\" style=\"fill:#000000; stroke:none; fill-opacity:1\" cx=\"1258.24\" cy=\"768.421\" r=\"18\"/>\n",
       "<circle clip-path=\"url(#clip5303)\" style=\"fill:#e26f46; stroke:none; fill-opacity:1\" cx=\"1258.24\" cy=\"768.421\" r=\"14\"/>\n",
       "<circle clip-path=\"url(#clip5303)\" style=\"fill:#000000; stroke:none; fill-opacity:1\" cx=\"1278.7\" cy=\"754.544\" r=\"18\"/>\n",
       "<circle clip-path=\"url(#clip5303)\" style=\"fill:#e26f46; stroke:none; fill-opacity:1\" cx=\"1278.7\" cy=\"754.544\" r=\"14\"/>\n",
       "<circle clip-path=\"url(#clip5303)\" style=\"fill:#000000; stroke:none; fill-opacity:1\" cx=\"1299.15\" cy=\"740.667\" r=\"18\"/>\n",
       "<circle clip-path=\"url(#clip5303)\" style=\"fill:#e26f46; stroke:none; fill-opacity:1\" cx=\"1299.15\" cy=\"740.667\" r=\"14\"/>\n",
       "<circle clip-path=\"url(#clip5303)\" style=\"fill:#000000; stroke:none; fill-opacity:1\" cx=\"1319.61\" cy=\"726.791\" r=\"18\"/>\n",
       "<circle clip-path=\"url(#clip5303)\" style=\"fill:#e26f46; stroke:none; fill-opacity:1\" cx=\"1319.61\" cy=\"726.791\" r=\"14\"/>\n",
       "<circle clip-path=\"url(#clip5303)\" style=\"fill:#000000; stroke:none; fill-opacity:1\" cx=\"1340.06\" cy=\"712.914\" r=\"18\"/>\n",
       "<circle clip-path=\"url(#clip5303)\" style=\"fill:#e26f46; stroke:none; fill-opacity:1\" cx=\"1340.06\" cy=\"712.914\" r=\"14\"/>\n",
       "<circle clip-path=\"url(#clip5303)\" style=\"fill:#000000; stroke:none; fill-opacity:1\" cx=\"1360.52\" cy=\"699.037\" r=\"18\"/>\n",
       "<circle clip-path=\"url(#clip5303)\" style=\"fill:#e26f46; stroke:none; fill-opacity:1\" cx=\"1360.52\" cy=\"699.037\" r=\"14\"/>\n",
       "<circle clip-path=\"url(#clip5303)\" style=\"fill:#000000; stroke:none; fill-opacity:1\" cx=\"1380.97\" cy=\"685.16\" r=\"18\"/>\n",
       "<circle clip-path=\"url(#clip5303)\" style=\"fill:#e26f46; stroke:none; fill-opacity:1\" cx=\"1380.97\" cy=\"685.16\" r=\"14\"/>\n",
       "<circle clip-path=\"url(#clip5303)\" style=\"fill:#000000; stroke:none; fill-opacity:1\" cx=\"1401.43\" cy=\"671.283\" r=\"18\"/>\n",
       "<circle clip-path=\"url(#clip5303)\" style=\"fill:#e26f46; stroke:none; fill-opacity:1\" cx=\"1401.43\" cy=\"671.283\" r=\"14\"/>\n",
       "<circle clip-path=\"url(#clip5303)\" style=\"fill:#000000; stroke:none; fill-opacity:1\" cx=\"1421.88\" cy=\"657.407\" r=\"18\"/>\n",
       "<circle clip-path=\"url(#clip5303)\" style=\"fill:#e26f46; stroke:none; fill-opacity:1\" cx=\"1421.88\" cy=\"657.407\" r=\"14\"/>\n",
       "<circle clip-path=\"url(#clip5303)\" style=\"fill:#000000; stroke:none; fill-opacity:1\" cx=\"1442.33\" cy=\"643.53\" r=\"18\"/>\n",
       "<circle clip-path=\"url(#clip5303)\" style=\"fill:#e26f46; stroke:none; fill-opacity:1\" cx=\"1442.33\" cy=\"643.53\" r=\"14\"/>\n",
       "<circle clip-path=\"url(#clip5303)\" style=\"fill:#000000; stroke:none; fill-opacity:1\" cx=\"1462.79\" cy=\"629.653\" r=\"18\"/>\n",
       "<circle clip-path=\"url(#clip5303)\" style=\"fill:#e26f46; stroke:none; fill-opacity:1\" cx=\"1462.79\" cy=\"629.653\" r=\"14\"/>\n",
       "<circle clip-path=\"url(#clip5303)\" style=\"fill:#000000; stroke:none; fill-opacity:1\" cx=\"1483.24\" cy=\"615.776\" r=\"18\"/>\n",
       "<circle clip-path=\"url(#clip5303)\" style=\"fill:#e26f46; stroke:none; fill-opacity:1\" cx=\"1483.24\" cy=\"615.776\" r=\"14\"/>\n",
       "<circle clip-path=\"url(#clip5303)\" style=\"fill:#000000; stroke:none; fill-opacity:1\" cx=\"1503.7\" cy=\"601.9\" r=\"18\"/>\n",
       "<circle clip-path=\"url(#clip5303)\" style=\"fill:#e26f46; stroke:none; fill-opacity:1\" cx=\"1503.7\" cy=\"601.9\" r=\"14\"/>\n",
       "<circle clip-path=\"url(#clip5303)\" style=\"fill:#000000; stroke:none; fill-opacity:1\" cx=\"1524.15\" cy=\"588.023\" r=\"18\"/>\n",
       "<circle clip-path=\"url(#clip5303)\" style=\"fill:#e26f46; stroke:none; fill-opacity:1\" cx=\"1524.15\" cy=\"588.023\" r=\"14\"/>\n",
       "<circle clip-path=\"url(#clip5303)\" style=\"fill:#000000; stroke:none; fill-opacity:1\" cx=\"1544.61\" cy=\"574.146\" r=\"18\"/>\n",
       "<circle clip-path=\"url(#clip5303)\" style=\"fill:#e26f46; stroke:none; fill-opacity:1\" cx=\"1544.61\" cy=\"574.146\" r=\"14\"/>\n",
       "<circle clip-path=\"url(#clip5303)\" style=\"fill:#000000; stroke:none; fill-opacity:1\" cx=\"1565.06\" cy=\"560.269\" r=\"18\"/>\n",
       "<circle clip-path=\"url(#clip5303)\" style=\"fill:#e26f46; stroke:none; fill-opacity:1\" cx=\"1565.06\" cy=\"560.269\" r=\"14\"/>\n",
       "<circle clip-path=\"url(#clip5303)\" style=\"fill:#000000; stroke:none; fill-opacity:1\" cx=\"1585.52\" cy=\"546.392\" r=\"18\"/>\n",
       "<circle clip-path=\"url(#clip5303)\" style=\"fill:#e26f46; stroke:none; fill-opacity:1\" cx=\"1585.52\" cy=\"546.392\" r=\"14\"/>\n",
       "<circle clip-path=\"url(#clip5303)\" style=\"fill:#000000; stroke:none; fill-opacity:1\" cx=\"1605.97\" cy=\"532.516\" r=\"18\"/>\n",
       "<circle clip-path=\"url(#clip5303)\" style=\"fill:#e26f46; stroke:none; fill-opacity:1\" cx=\"1605.97\" cy=\"532.516\" r=\"14\"/>\n",
       "<circle clip-path=\"url(#clip5303)\" style=\"fill:#000000; stroke:none; fill-opacity:1\" cx=\"1626.42\" cy=\"518.639\" r=\"18\"/>\n",
       "<circle clip-path=\"url(#clip5303)\" style=\"fill:#e26f46; stroke:none; fill-opacity:1\" cx=\"1626.42\" cy=\"518.639\" r=\"14\"/>\n",
       "<circle clip-path=\"url(#clip5303)\" style=\"fill:#000000; stroke:none; fill-opacity:1\" cx=\"1646.88\" cy=\"504.762\" r=\"18\"/>\n",
       "<circle clip-path=\"url(#clip5303)\" style=\"fill:#e26f46; stroke:none; fill-opacity:1\" cx=\"1646.88\" cy=\"504.762\" r=\"14\"/>\n",
       "<circle clip-path=\"url(#clip5303)\" style=\"fill:#000000; stroke:none; fill-opacity:1\" cx=\"1667.33\" cy=\"490.885\" r=\"18\"/>\n",
       "<circle clip-path=\"url(#clip5303)\" style=\"fill:#e26f46; stroke:none; fill-opacity:1\" cx=\"1667.33\" cy=\"490.885\" r=\"14\"/>\n",
       "<circle clip-path=\"url(#clip5303)\" style=\"fill:#000000; stroke:none; fill-opacity:1\" cx=\"1687.79\" cy=\"477.008\" r=\"18\"/>\n",
       "<circle clip-path=\"url(#clip5303)\" style=\"fill:#e26f46; stroke:none; fill-opacity:1\" cx=\"1687.79\" cy=\"477.008\" r=\"14\"/>\n",
       "<circle clip-path=\"url(#clip5303)\" style=\"fill:#000000; stroke:none; fill-opacity:1\" cx=\"1708.24\" cy=\"463.132\" r=\"18\"/>\n",
       "<circle clip-path=\"url(#clip5303)\" style=\"fill:#e26f46; stroke:none; fill-opacity:1\" cx=\"1708.24\" cy=\"463.132\" r=\"14\"/>\n",
       "<circle clip-path=\"url(#clip5303)\" style=\"fill:#000000; stroke:none; fill-opacity:1\" cx=\"1728.7\" cy=\"449.255\" r=\"18\"/>\n",
       "<circle clip-path=\"url(#clip5303)\" style=\"fill:#e26f46; stroke:none; fill-opacity:1\" cx=\"1728.7\" cy=\"449.255\" r=\"14\"/>\n",
       "<circle clip-path=\"url(#clip5303)\" style=\"fill:#000000; stroke:none; fill-opacity:1\" cx=\"1749.15\" cy=\"435.378\" r=\"18\"/>\n",
       "<circle clip-path=\"url(#clip5303)\" style=\"fill:#e26f46; stroke:none; fill-opacity:1\" cx=\"1749.15\" cy=\"435.378\" r=\"14\"/>\n",
       "<circle clip-path=\"url(#clip5303)\" style=\"fill:#000000; stroke:none; fill-opacity:1\" cx=\"1769.6\" cy=\"421.501\" r=\"18\"/>\n",
       "<circle clip-path=\"url(#clip5303)\" style=\"fill:#e26f46; stroke:none; fill-opacity:1\" cx=\"1769.6\" cy=\"421.501\" r=\"14\"/>\n",
       "<circle clip-path=\"url(#clip5303)\" style=\"fill:#000000; stroke:none; fill-opacity:1\" cx=\"1790.06\" cy=\"407.624\" r=\"18\"/>\n",
       "<circle clip-path=\"url(#clip5303)\" style=\"fill:#e26f46; stroke:none; fill-opacity:1\" cx=\"1790.06\" cy=\"407.624\" r=\"14\"/>\n",
       "<circle clip-path=\"url(#clip5303)\" style=\"fill:#000000; stroke:none; fill-opacity:1\" cx=\"1810.51\" cy=\"393.748\" r=\"18\"/>\n",
       "<circle clip-path=\"url(#clip5303)\" style=\"fill:#e26f46; stroke:none; fill-opacity:1\" cx=\"1810.51\" cy=\"393.748\" r=\"14\"/>\n",
       "<circle clip-path=\"url(#clip5303)\" style=\"fill:#000000; stroke:none; fill-opacity:1\" cx=\"1830.97\" cy=\"379.871\" r=\"18\"/>\n",
       "<circle clip-path=\"url(#clip5303)\" style=\"fill:#e26f46; stroke:none; fill-opacity:1\" cx=\"1830.97\" cy=\"379.871\" r=\"14\"/>\n",
       "<circle clip-path=\"url(#clip5303)\" style=\"fill:#000000; stroke:none; fill-opacity:1\" cx=\"1851.42\" cy=\"365.994\" r=\"18\"/>\n",
       "<circle clip-path=\"url(#clip5303)\" style=\"fill:#e26f46; stroke:none; fill-opacity:1\" cx=\"1851.42\" cy=\"365.994\" r=\"14\"/>\n",
       "<circle clip-path=\"url(#clip5303)\" style=\"fill:#000000; stroke:none; fill-opacity:1\" cx=\"1871.88\" cy=\"352.117\" r=\"18\"/>\n",
       "<circle clip-path=\"url(#clip5303)\" style=\"fill:#e26f46; stroke:none; fill-opacity:1\" cx=\"1871.88\" cy=\"352.117\" r=\"14\"/>\n",
       "<circle clip-path=\"url(#clip5303)\" style=\"fill:#000000; stroke:none; fill-opacity:1\" cx=\"1892.33\" cy=\"338.24\" r=\"18\"/>\n",
       "<circle clip-path=\"url(#clip5303)\" style=\"fill:#e26f46; stroke:none; fill-opacity:1\" cx=\"1892.33\" cy=\"338.24\" r=\"14\"/>\n",
       "<circle clip-path=\"url(#clip5303)\" style=\"fill:#000000; stroke:none; fill-opacity:1\" cx=\"1912.79\" cy=\"324.364\" r=\"18\"/>\n",
       "<circle clip-path=\"url(#clip5303)\" style=\"fill:#e26f46; stroke:none; fill-opacity:1\" cx=\"1912.79\" cy=\"324.364\" r=\"14\"/>\n",
       "<circle clip-path=\"url(#clip5303)\" style=\"fill:#000000; stroke:none; fill-opacity:1\" cx=\"1933.24\" cy=\"310.487\" r=\"18\"/>\n",
       "<circle clip-path=\"url(#clip5303)\" style=\"fill:#e26f46; stroke:none; fill-opacity:1\" cx=\"1933.24\" cy=\"310.487\" r=\"14\"/>\n",
       "<circle clip-path=\"url(#clip5303)\" style=\"fill:#000000; stroke:none; fill-opacity:1\" cx=\"1953.69\" cy=\"296.61\" r=\"18\"/>\n",
       "<circle clip-path=\"url(#clip5303)\" style=\"fill:#e26f46; stroke:none; fill-opacity:1\" cx=\"1953.69\" cy=\"296.61\" r=\"14\"/>\n",
       "<circle clip-path=\"url(#clip5303)\" style=\"fill:#000000; stroke:none; fill-opacity:1\" cx=\"1974.15\" cy=\"282.733\" r=\"18\"/>\n",
       "<circle clip-path=\"url(#clip5303)\" style=\"fill:#e26f46; stroke:none; fill-opacity:1\" cx=\"1974.15\" cy=\"282.733\" r=\"14\"/>\n",
       "<circle clip-path=\"url(#clip5303)\" style=\"fill:#000000; stroke:none; fill-opacity:1\" cx=\"1994.6\" cy=\"268.856\" r=\"18\"/>\n",
       "<circle clip-path=\"url(#clip5303)\" style=\"fill:#e26f46; stroke:none; fill-opacity:1\" cx=\"1994.6\" cy=\"268.856\" r=\"14\"/>\n",
       "<circle clip-path=\"url(#clip5303)\" style=\"fill:#000000; stroke:none; fill-opacity:1\" cx=\"2015.06\" cy=\"254.98\" r=\"18\"/>\n",
       "<circle clip-path=\"url(#clip5303)\" style=\"fill:#e26f46; stroke:none; fill-opacity:1\" cx=\"2015.06\" cy=\"254.98\" r=\"14\"/>\n",
       "<circle clip-path=\"url(#clip5303)\" style=\"fill:#000000; stroke:none; fill-opacity:1\" cx=\"2035.51\" cy=\"241.103\" r=\"18\"/>\n",
       "<circle clip-path=\"url(#clip5303)\" style=\"fill:#e26f46; stroke:none; fill-opacity:1\" cx=\"2035.51\" cy=\"241.103\" r=\"14\"/>\n",
       "<circle clip-path=\"url(#clip5303)\" style=\"fill:#000000; stroke:none; fill-opacity:1\" cx=\"2055.97\" cy=\"227.226\" r=\"18\"/>\n",
       "<circle clip-path=\"url(#clip5303)\" style=\"fill:#e26f46; stroke:none; fill-opacity:1\" cx=\"2055.97\" cy=\"227.226\" r=\"14\"/>\n",
       "<circle clip-path=\"url(#clip5303)\" style=\"fill:#000000; stroke:none; fill-opacity:1\" cx=\"2076.42\" cy=\"213.349\" r=\"18\"/>\n",
       "<circle clip-path=\"url(#clip5303)\" style=\"fill:#e26f46; stroke:none; fill-opacity:1\" cx=\"2076.42\" cy=\"213.349\" r=\"14\"/>\n",
       "<circle clip-path=\"url(#clip5303)\" style=\"fill:#000000; stroke:none; fill-opacity:1\" cx=\"2096.88\" cy=\"199.473\" r=\"18\"/>\n",
       "<circle clip-path=\"url(#clip5303)\" style=\"fill:#e26f46; stroke:none; fill-opacity:1\" cx=\"2096.88\" cy=\"199.473\" r=\"14\"/>\n",
       "<circle clip-path=\"url(#clip5303)\" style=\"fill:#000000; stroke:none; fill-opacity:1\" cx=\"2117.33\" cy=\"185.596\" r=\"18\"/>\n",
       "<circle clip-path=\"url(#clip5303)\" style=\"fill:#e26f46; stroke:none; fill-opacity:1\" cx=\"2117.33\" cy=\"185.596\" r=\"14\"/>\n",
       "<circle clip-path=\"url(#clip5303)\" style=\"fill:#000000; stroke:none; fill-opacity:1\" cx=\"2137.78\" cy=\"171.719\" r=\"18\"/>\n",
       "<circle clip-path=\"url(#clip5303)\" style=\"fill:#e26f46; stroke:none; fill-opacity:1\" cx=\"2137.78\" cy=\"171.719\" r=\"14\"/>\n",
       "<circle clip-path=\"url(#clip5303)\" style=\"fill:#000000; stroke:none; fill-opacity:1\" cx=\"2158.24\" cy=\"157.842\" r=\"18\"/>\n",
       "<circle clip-path=\"url(#clip5303)\" style=\"fill:#e26f46; stroke:none; fill-opacity:1\" cx=\"2158.24\" cy=\"157.842\" r=\"14\"/>\n",
       "<circle clip-path=\"url(#clip5303)\" style=\"fill:#000000; stroke:none; fill-opacity:1\" cx=\"2178.69\" cy=\"143.965\" r=\"18\"/>\n",
       "<circle clip-path=\"url(#clip5303)\" style=\"fill:#e26f46; stroke:none; fill-opacity:1\" cx=\"2178.69\" cy=\"143.965\" r=\"14\"/>\n",
       "<circle clip-path=\"url(#clip5303)\" style=\"fill:#000000; stroke:none; fill-opacity:1\" cx=\"2199.15\" cy=\"130.089\" r=\"18\"/>\n",
       "<circle clip-path=\"url(#clip5303)\" style=\"fill:#e26f46; stroke:none; fill-opacity:1\" cx=\"2199.15\" cy=\"130.089\" r=\"14\"/>\n",
       "<circle clip-path=\"url(#clip5303)\" style=\"fill:#000000; stroke:none; fill-opacity:1\" cx=\"2219.6\" cy=\"116.212\" r=\"18\"/>\n",
       "<circle clip-path=\"url(#clip5303)\" style=\"fill:#e26f46; stroke:none; fill-opacity:1\" cx=\"2219.6\" cy=\"116.212\" r=\"14\"/>\n",
       "<circle clip-path=\"url(#clip5303)\" style=\"fill:#000000; stroke:none; fill-opacity:1\" cx=\"2240.06\" cy=\"102.335\" r=\"18\"/>\n",
       "<circle clip-path=\"url(#clip5303)\" style=\"fill:#e26f46; stroke:none; fill-opacity:1\" cx=\"2240.06\" cy=\"102.335\" r=\"14\"/>\n",
       "<circle clip-path=\"url(#clip5303)\" style=\"fill:#000000; stroke:none; fill-opacity:1\" cx=\"2260.51\" cy=\"88.4582\" r=\"18\"/>\n",
       "<circle clip-path=\"url(#clip5303)\" style=\"fill:#e26f46; stroke:none; fill-opacity:1\" cx=\"2260.51\" cy=\"88.4582\" r=\"14\"/>\n",
       "<polygon clip-path=\"url(#clip5301)\" points=\"\n",
       "1958.43,312.204 2249.26,312.204 2249.26,130.764 1958.43,130.764 \n",
       "  \" fill=\"#ffffff\" fill-rule=\"evenodd\" fill-opacity=\"1\"/>\n",
       "<polyline clip-path=\"url(#clip5301)\" style=\"stroke:#000000; stroke-width:4; stroke-opacity:1; fill:none\" points=\"\n",
       "  1958.43,312.204 2249.26,312.204 2249.26,130.764 1958.43,130.764 1958.43,312.204 \n",
       "  \"/>\n",
       "<circle clip-path=\"url(#clip5301)\" style=\"fill:#000000; stroke:none; fill-opacity:1\" cx=\"2066.43\" cy=\"191.244\" r=\"25\"/>\n",
       "<circle clip-path=\"url(#clip5301)\" style=\"fill:#009af9; stroke:none; fill-opacity:1\" cx=\"2066.43\" cy=\"191.244\" r=\"21\"/>\n",
       "<g clip-path=\"url(#clip5301)\">\n",
       "<text style=\"fill:#000000; fill-opacity:1; font-family:Arial,Helvetica Neue,Helvetica,sans-serif; font-size:48px; text-anchor:start;\" transform=\"rotate(0, 2150.43, 208.744)\" x=\"2150.43\" y=\"208.744\">y1</text>\n",
       "</g>\n",
       "<circle clip-path=\"url(#clip5301)\" style=\"fill:#000000; stroke:none; fill-opacity:1\" cx=\"2066.43\" cy=\"251.724\" r=\"25\"/>\n",
       "<circle clip-path=\"url(#clip5301)\" style=\"fill:#e26f46; stroke:none; fill-opacity:1\" cx=\"2066.43\" cy=\"251.724\" r=\"21\"/>\n",
       "<g clip-path=\"url(#clip5301)\">\n",
       "<text style=\"fill:#000000; fill-opacity:1; font-family:Arial,Helvetica Neue,Helvetica,sans-serif; font-size:48px; text-anchor:start;\" transform=\"rotate(0, 2150.43, 269.224)\" x=\"2150.43\" y=\"269.224\">y2</text>\n",
       "</g>\n",
       "</svg>\n"
      ]
     },
     "execution_count": 113,
     "metadata": {},
     "output_type": "execute_result"
    }
   ],
   "source": [
    "predX = collect(range(0, 1,length=100))\n",
    "predY = modelReg(predX').data\n",
    "scatter(regX, regY)\n",
    "scatter!(predX, predY')"
   ]
  },
  {
   "cell_type": "code",
   "execution_count": 116,
   "metadata": {
    "collapsed": false
   },
   "outputs": [
    {
     "name": "stdout",
     "output_type": "stream",
     "text": [
      "Any[Flux.Tracker.TrackedReal{Float64}[100.994 (tracked)], Flux.Tracker.TrackedReal{Float64}[50.3842 (tracked)]]\n"
     ]
    }
   ],
   "source": [
    "println(Flux.params(modelReg))"
   ]
  },
  {
   "cell_type": "code",
   "execution_count": 190,
   "metadata": {
    "collapsed": false
   },
   "outputs": [
    {
     "data": {
      "image/svg+xml": [
       "<?xml version=\"1.0\" encoding=\"utf-8\"?>\n",
       "<svg xmlns=\"http://www.w3.org/2000/svg\" xmlns:xlink=\"http://www.w3.org/1999/xlink\" width=\"600\" height=\"400\" viewBox=\"0 0 2400 1600\">\n",
       "<defs>\n",
       "  <clipPath id=\"clip6800\">\n",
       "    <rect x=\"0\" y=\"0\" width=\"2000\" height=\"2000\"/>\n",
       "  </clipPath>\n",
       "</defs>\n",
       "<defs>\n",
       "  <clipPath id=\"clip6801\">\n",
       "    <rect x=\"0\" y=\"0\" width=\"2400\" height=\"1600\"/>\n",
       "  </clipPath>\n",
       "</defs>\n",
       "<polygon clip-path=\"url(#clip6801)\" points=\"\n",
       "0,1600 2400,1600 2400,0 0,0 \n",
       "  \" fill=\"#ffffff\" fill-rule=\"evenodd\" fill-opacity=\"1\"/>\n",
       "<defs>\n",
       "  <clipPath id=\"clip6802\">\n",
       "    <rect x=\"480\" y=\"0\" width=\"1681\" height=\"1600\"/>\n",
       "  </clipPath>\n",
       "</defs>\n",
       "<polygon clip-path=\"url(#clip6801)\" points=\"\n",
       "527.267,1503.47 1983.5,1503.47 1983.5,47.2441 527.267,47.2441 \n",
       "  \" fill=\"#ffffff\" fill-rule=\"evenodd\" fill-opacity=\"1\"/>\n",
       "<defs>\n",
       "  <clipPath id=\"clip6803\">\n",
       "    <rect x=\"527\" y=\"47\" width=\"1457\" height=\"1457\"/>\n",
       "  </clipPath>\n",
       "</defs>\n",
       "<polyline clip-path=\"url(#clip6801)\" style=\"stroke:#cccccc; stroke-width:2; stroke-opacity:0.1; fill:none\" points=\"\n",
       "  550.672,1419.63 1083.69,1161.56 \n",
       "  \"/>\n",
       "<polyline clip-path=\"url(#clip6801)\" style=\"stroke:#cccccc; stroke-width:2; stroke-opacity:0.1; fill:none\" points=\"\n",
       "  1083.69,1161.56 1083.69,49.425 \n",
       "  \"/>\n",
       "<polyline clip-path=\"url(#clip6801)\" style=\"stroke:#ededed; stroke-width:2; stroke-opacity:0.1; fill:none\" points=\"\n",
       "  660.665,1429.88 1193.68,1171.81 \n",
       "  \"/>\n",
       "<polyline clip-path=\"url(#clip6801)\" style=\"stroke:#ededed; stroke-width:2; stroke-opacity:0.1; fill:none\" points=\"\n",
       "  1193.68,1171.81 1193.68,59.674 \n",
       "  \"/>\n",
       "<polyline clip-path=\"url(#clip6801)\" style=\"stroke:#cccccc; stroke-width:2; stroke-opacity:0.1; fill:none\" points=\"\n",
       "  770.657,1440.13 1303.67,1182.06 \n",
       "  \"/>\n",
       "<polyline clip-path=\"url(#clip6801)\" style=\"stroke:#cccccc; stroke-width:2; stroke-opacity:0.1; fill:none\" points=\"\n",
       "  1303.67,1182.06 1303.67,69.923 \n",
       "  \"/>\n",
       "<polyline clip-path=\"url(#clip6801)\" style=\"stroke:#ededed; stroke-width:2; stroke-opacity:0.1; fill:none\" points=\"\n",
       "  880.65,1450.38 1413.67,1192.31 \n",
       "  \"/>\n",
       "<polyline clip-path=\"url(#clip6801)\" style=\"stroke:#ededed; stroke-width:2; stroke-opacity:0.1; fill:none\" points=\"\n",
       "  1413.67,1192.31 1413.67,80.172 \n",
       "  \"/>\n",
       "<polyline clip-path=\"url(#clip6801)\" style=\"stroke:#cccccc; stroke-width:2; stroke-opacity:0.1; fill:none\" points=\"\n",
       "  990.643,1460.63 1523.66,1202.56 \n",
       "  \"/>\n",
       "<polyline clip-path=\"url(#clip6801)\" style=\"stroke:#cccccc; stroke-width:2; stroke-opacity:0.1; fill:none\" points=\"\n",
       "  1523.66,1202.56 1523.66,90.421 \n",
       "  \"/>\n",
       "<polyline clip-path=\"url(#clip6801)\" style=\"stroke:#ededed; stroke-width:2; stroke-opacity:0.1; fill:none\" points=\"\n",
       "  1100.64,1470.88 1633.65,1212.8 \n",
       "  \"/>\n",
       "<polyline clip-path=\"url(#clip6801)\" style=\"stroke:#ededed; stroke-width:2; stroke-opacity:0.1; fill:none\" points=\"\n",
       "  1633.65,1212.8 1633.65,100.67 \n",
       "  \"/>\n",
       "<polyline clip-path=\"url(#clip6801)\" style=\"stroke:#cccccc; stroke-width:2; stroke-opacity:0.1; fill:none\" points=\"\n",
       "  1210.63,1481.13 1743.65,1223.05 \n",
       "  \"/>\n",
       "<polyline clip-path=\"url(#clip6801)\" style=\"stroke:#cccccc; stroke-width:2; stroke-opacity:0.1; fill:none\" points=\"\n",
       "  1743.65,1223.05 1743.65,110.919 \n",
       "  \"/>\n",
       "<polyline clip-path=\"url(#clip6801)\" style=\"stroke:#ededed; stroke-width:2; stroke-opacity:0.1; fill:none\" points=\"\n",
       "  1320.62,1491.37 1853.64,1233.3 \n",
       "  \"/>\n",
       "<polyline clip-path=\"url(#clip6801)\" style=\"stroke:#ededed; stroke-width:2; stroke-opacity:0.1; fill:none\" points=\"\n",
       "  1853.64,1233.3 1853.64,121.168 \n",
       "  \"/>\n",
       "<polyline clip-path=\"url(#clip6801)\" style=\"stroke:#cccccc; stroke-width:2; stroke-opacity:0.1; fill:none\" points=\"\n",
       "  1430.61,1501.62 1963.63,1243.55 \n",
       "  \"/>\n",
       "<polyline clip-path=\"url(#clip6801)\" style=\"stroke:#cccccc; stroke-width:2; stroke-opacity:0.1; fill:none\" points=\"\n",
       "  1963.63,1243.55 1963.63,131.417 \n",
       "  \"/>\n",
       "<polyline clip-path=\"url(#clip6801)\" style=\"stroke:#cccccc; stroke-width:2; stroke-opacity:0.1; fill:none\" points=\"\n",
       "  541.64,1410.49 1464.85,1496.52 \n",
       "  \"/>\n",
       "<polyline clip-path=\"url(#clip6801)\" style=\"stroke:#cccccc; stroke-width:2; stroke-opacity:0.1; fill:none\" points=\"\n",
       "  541.64,1410.49 541.64,298.357 \n",
       "  \"/>\n",
       "<polyline clip-path=\"url(#clip6801)\" style=\"stroke:#ededed; stroke-width:2; stroke-opacity:0.1; fill:none\" points=\"\n",
       "  604.601,1380.01 1527.81,1466.03 \n",
       "  \"/>\n",
       "<polyline clip-path=\"url(#clip6801)\" style=\"stroke:#ededed; stroke-width:2; stroke-opacity:0.1; fill:none\" points=\"\n",
       "  604.601,1380.01 604.601,267.873 \n",
       "  \"/>\n",
       "<polyline clip-path=\"url(#clip6801)\" style=\"stroke:#cccccc; stroke-width:2; stroke-opacity:0.1; fill:none\" points=\"\n",
       "  667.563,1349.52 1590.78,1435.55 \n",
       "  \"/>\n",
       "<polyline clip-path=\"url(#clip6801)\" style=\"stroke:#cccccc; stroke-width:2; stroke-opacity:0.1; fill:none\" points=\"\n",
       "  667.563,1349.52 667.563,237.388 \n",
       "  \"/>\n",
       "<polyline clip-path=\"url(#clip6801)\" style=\"stroke:#ededed; stroke-width:2; stroke-opacity:0.1; fill:none\" points=\"\n",
       "  730.524,1319.04 1653.74,1405.06 \n",
       "  \"/>\n",
       "<polyline clip-path=\"url(#clip6801)\" style=\"stroke:#ededed; stroke-width:2; stroke-opacity:0.1; fill:none\" points=\"\n",
       "  730.524,1319.04 730.524,206.904 \n",
       "  \"/>\n",
       "<polyline clip-path=\"url(#clip6801)\" style=\"stroke:#cccccc; stroke-width:2; stroke-opacity:0.1; fill:none\" points=\"\n",
       "  793.486,1288.56 1716.7,1374.58 \n",
       "  \"/>\n",
       "<polyline clip-path=\"url(#clip6801)\" style=\"stroke:#cccccc; stroke-width:2; stroke-opacity:0.1; fill:none\" points=\"\n",
       "  793.486,1288.56 793.486,176.42 \n",
       "  \"/>\n",
       "<polyline clip-path=\"url(#clip6801)\" style=\"stroke:#ededed; stroke-width:2; stroke-opacity:0.1; fill:none\" points=\"\n",
       "  856.448,1258.07 1779.66,1344.09 \n",
       "  \"/>\n",
       "<polyline clip-path=\"url(#clip6801)\" style=\"stroke:#ededed; stroke-width:2; stroke-opacity:0.1; fill:none\" points=\"\n",
       "  856.448,1258.07 856.448,145.936 \n",
       "  \"/>\n",
       "<polyline clip-path=\"url(#clip6801)\" style=\"stroke:#cccccc; stroke-width:2; stroke-opacity:0.1; fill:none\" points=\"\n",
       "  919.409,1227.59 1842.62,1313.61 \n",
       "  \"/>\n",
       "<polyline clip-path=\"url(#clip6801)\" style=\"stroke:#cccccc; stroke-width:2; stroke-opacity:0.1; fill:none\" points=\"\n",
       "  919.409,1227.59 919.409,115.452 \n",
       "  \"/>\n",
       "<polyline clip-path=\"url(#clip6801)\" style=\"stroke:#ededed; stroke-width:2; stroke-opacity:0.1; fill:none\" points=\"\n",
       "  982.371,1197.1 1905.58,1283.13 \n",
       "  \"/>\n",
       "<polyline clip-path=\"url(#clip6801)\" style=\"stroke:#ededed; stroke-width:2; stroke-opacity:0.1; fill:none\" points=\"\n",
       "  982.371,1197.1 982.371,84.9675 \n",
       "  \"/>\n",
       "<polyline clip-path=\"url(#clip6801)\" style=\"stroke:#cccccc; stroke-width:2; stroke-opacity:0.1; fill:none\" points=\"\n",
       "  1045.33,1166.62 1968.55,1252.64 \n",
       "  \"/>\n",
       "<polyline clip-path=\"url(#clip6801)\" style=\"stroke:#cccccc; stroke-width:2; stroke-opacity:0.1; fill:none\" points=\"\n",
       "  1045.33,1166.62 1045.33,54.4833 \n",
       "  \"/>\n",
       "<polyline clip-path=\"url(#clip6801)\" style=\"stroke:#ededed; stroke-width:2; stroke-opacity:0.1; fill:none\" points=\"\n",
       "  527.267,1232.09 1060.28,974.023 \n",
       "  \"/>\n",
       "<polyline clip-path=\"url(#clip6801)\" style=\"stroke:#ededed; stroke-width:2; stroke-opacity:0.1; fill:none\" points=\"\n",
       "  1060.28,974.023 1983.5,1060.05 \n",
       "  \"/>\n",
       "<polyline clip-path=\"url(#clip6801)\" style=\"stroke:#cccccc; stroke-width:2; stroke-opacity:0.1; fill:none\" points=\"\n",
       "  527.267,1046.74 1060.28,788.667 \n",
       "  \"/>\n",
       "<polyline clip-path=\"url(#clip6801)\" style=\"stroke:#cccccc; stroke-width:2; stroke-opacity:0.1; fill:none\" points=\"\n",
       "  1060.28,788.667 1983.5,874.691 \n",
       "  \"/>\n",
       "<polyline clip-path=\"url(#clip6801)\" style=\"stroke:#ededed; stroke-width:2; stroke-opacity:0.1; fill:none\" points=\"\n",
       "  527.267,861.383 1060.28,603.312 \n",
       "  \"/>\n",
       "<polyline clip-path=\"url(#clip6801)\" style=\"stroke:#ededed; stroke-width:2; stroke-opacity:0.1; fill:none\" points=\"\n",
       "  1060.28,603.312 1983.5,689.335 \n",
       "  \"/>\n",
       "<polyline clip-path=\"url(#clip6801)\" style=\"stroke:#cccccc; stroke-width:2; stroke-opacity:0.1; fill:none\" points=\"\n",
       "  527.267,676.028 1060.28,417.956 \n",
       "  \"/>\n",
       "<polyline clip-path=\"url(#clip6801)\" style=\"stroke:#cccccc; stroke-width:2; stroke-opacity:0.1; fill:none\" points=\"\n",
       "  1060.28,417.956 1983.5,503.98 \n",
       "  \"/>\n",
       "<polyline clip-path=\"url(#clip6801)\" style=\"stroke:#ededed; stroke-width:2; stroke-opacity:0.1; fill:none\" points=\"\n",
       "  527.267,490.672 1060.28,232.6 \n",
       "  \"/>\n",
       "<polyline clip-path=\"url(#clip6801)\" style=\"stroke:#ededed; stroke-width:2; stroke-opacity:0.1; fill:none\" points=\"\n",
       "  1060.28,232.6 1983.5,318.624 \n",
       "  \"/>\n",
       "<polyline clip-path=\"url(#clip6801)\" style=\"stroke:#cccccc; stroke-width:2; stroke-opacity:0.1; fill:none\" points=\"\n",
       "  527.267,305.316 1060.28,47.2441 \n",
       "  \"/>\n",
       "<polyline clip-path=\"url(#clip6801)\" style=\"stroke:#cccccc; stroke-width:2; stroke-opacity:0.1; fill:none\" points=\"\n",
       "  1060.28,47.2441 1983.5,133.268 \n",
       "  \"/>\n",
       "<polyline clip-path=\"url(#clip6801)\" style=\"stroke:#000000; stroke-width:4; stroke-opacity:1; fill:none\" points=\"\n",
       "  471.897,1246.09 474.563,1243.16 478.563,1236.28 478.563,1270.84 \n",
       "  \"/>\n",
       "<polyline clip-path=\"url(#clip6801)\" style=\"stroke:#000000; stroke-width:4; stroke-opacity:1; fill:none\" points=\"\n",
       "  502.56,1224.66 498.56,1228.25 495.894,1234.47 494.561,1243.35 494.561,1248.29 495.894,1255.87 498.56,1259.52 502.56,1259.22 505.226,1257.93 509.226,1254.35 \n",
       "  511.892,1248.12 513.226,1239.25 513.226,1234.31 511.892,1226.73 509.226,1223.08 505.226,1223.37 502.56,1224.66 \n",
       "  \"/>\n",
       "<polyline clip-path=\"url(#clip6801)\" style=\"stroke:#000000; stroke-width:4; stroke-opacity:1; fill:none\" points=\"\n",
       "  471.897,875.382 474.563,872.445 478.563,865.572 478.563,900.132 \n",
       "  \"/>\n",
       "<polyline clip-path=\"url(#clip6801)\" style=\"stroke:#000000; stroke-width:4; stroke-opacity:1; fill:none\" points=\"\n",
       "  498.56,862.472 501.227,859.535 505.226,852.662 505.226,887.222 \n",
       "  \"/>\n",
       "<polyline clip-path=\"url(#clip6801)\" style=\"stroke:#000000; stroke-width:4; stroke-opacity:1; fill:none\" points=\"\n",
       "  471.897,504.67 474.563,501.734 478.563,494.86 478.563,529.42 \n",
       "  \"/>\n",
       "<polyline clip-path=\"url(#clip6801)\" style=\"stroke:#000000; stroke-width:4; stroke-opacity:1; fill:none\" points=\"\n",
       "  495.894,494.697 495.894,493.051 497.227,489.114 498.56,486.823 501.227,483.887 506.56,481.305 509.226,481.659 510.559,482.66 511.892,485.305 511.892,488.597 \n",
       "  510.559,492.534 507.893,498.762 494.561,521.674 513.226,512.637 \n",
       "  \"/>\n",
       "<polyline clip-path=\"url(#clip6801)\" style=\"stroke:#000000; stroke-width:4; stroke-opacity:1; fill:none\" points=\"\n",
       "  527.267,1417.45 527.267,1417.45 521.936,1420.03 527.267,1417.45 527.267,1232.09 516.606,1237.26 527.267,1232.09 527.267,1046.74 521.936,1049.32 527.267,1046.74 \n",
       "  527.267,861.383 516.606,866.545 527.267,861.383 527.267,676.028 521.936,678.608 527.267,676.028 527.267,490.672 516.606,495.833 527.267,490.672 527.267,305.316 \n",
       "  521.936,307.897 527.267,305.316 \n",
       "  \"/>\n",
       "<polyline clip-path=\"url(#clip6801)\" style=\"stroke:#000000; stroke-width:4; stroke-opacity:1; fill:none\" points=\"\n",
       "  475.233,1450.06 504.601,1452.8 \n",
       "  \"/>\n",
       "<polyline clip-path=\"url(#clip6801)\" style=\"stroke:#000000; stroke-width:4; stroke-opacity:1; fill:none\" points=\"\n",
       "  520.916,1441.15 524.179,1439.81 529.074,1435.33 529.074,1469.89 \n",
       "  \"/>\n",
       "<polyline clip-path=\"url(#clip6801)\" style=\"stroke:#000000; stroke-width:4; stroke-opacity:1; fill:none\" points=\"\n",
       "  551.915,1468.73 550.284,1470.22 551.915,1472.02 553.547,1470.53 551.915,1468.73 \n",
       "  \"/>\n",
       "<polyline clip-path=\"url(#clip6801)\" style=\"stroke:#000000; stroke-width:4; stroke-opacity:1; fill:none\" points=\"\n",
       "  574.757,1439.59 569.862,1440.78 566.599,1445.41 564.968,1453.49 564.968,1458.42 566.599,1466.81 569.862,1472.05 574.757,1474.15 578.02,1474.45 582.915,1473.26 \n",
       "  586.178,1468.63 587.81,1460.55 587.81,1455.62 586.178,1447.24 582.915,1441.99 578.02,1439.89 574.757,1439.59 \n",
       "  \"/>\n",
       "<polyline clip-path=\"url(#clip6801)\" style=\"stroke:#000000; stroke-width:4; stroke-opacity:1; fill:none\" points=\"\n",
       "  695.218,1470.56 724.586,1473.3 \n",
       "  \"/>\n",
       "<polyline clip-path=\"url(#clip6801)\" style=\"stroke:#000000; stroke-width:4; stroke-opacity:1; fill:none\" points=\"\n",
       "  745.796,1455.53 740.902,1456.71 737.639,1461.35 736.007,1469.42 736.007,1474.36 737.639,1482.74 740.902,1487.98 745.796,1490.09 749.059,1490.39 753.954,1489.2 \n",
       "  757.217,1484.57 758.849,1476.49 758.849,1471.55 757.217,1463.17 753.954,1457.93 749.059,1455.83 745.796,1455.53 \n",
       "  \"/>\n",
       "<polyline clip-path=\"url(#clip6801)\" style=\"stroke:#000000; stroke-width:4; stroke-opacity:1; fill:none\" points=\"\n",
       "  771.901,1489.23 770.27,1490.72 771.901,1492.52 773.533,1491.02 771.901,1489.23 \n",
       "  \"/>\n",
       "<polyline clip-path=\"url(#clip6801)\" style=\"stroke:#000000; stroke-width:4; stroke-opacity:1; fill:none\" points=\"\n",
       "  804.532,1461 788.217,1459.48 786.585,1474.14 788.217,1472.64 793.111,1471.45 798.006,1471.91 802.901,1474.01 806.164,1477.61 807.795,1482.7 807.795,1485.99 \n",
       "  806.164,1490.77 802.901,1493.76 798.006,1494.95 793.111,1494.49 788.217,1492.39 786.585,1490.59 784.954,1487.15 \n",
       "  \"/>\n",
       "<polyline clip-path=\"url(#clip6801)\" style=\"stroke:#000000; stroke-width:4; stroke-opacity:1; fill:none\" points=\"\n",
       "  969.045,1476.33 964.151,1477.52 960.887,1482.15 959.256,1490.23 959.256,1495.16 960.887,1503.54 964.151,1508.79 969.045,1510.89 972.308,1511.19 977.203,1510 \n",
       "  980.466,1505.37 982.098,1497.29 982.098,1492.36 980.466,1483.97 977.203,1478.73 972.308,1476.63 969.045,1476.33 \n",
       "  \"/>\n",
       "<polyline clip-path=\"url(#clip6801)\" style=\"stroke:#000000; stroke-width:4; stroke-opacity:1; fill:none\" points=\"\n",
       "  1164.56,1494.54 1159.66,1495.73 1156.4,1500.37 1154.77,1508.44 1154.77,1513.38 1156.4,1521.76 1159.66,1527 1164.56,1529.1 1167.82,1529.41 1172.72,1528.22 \n",
       "  1175.98,1523.59 1177.61,1515.51 1177.61,1510.57 1175.98,1502.19 1172.72,1496.95 1167.82,1494.85 1164.56,1494.54 \n",
       "  \"/>\n",
       "<polyline clip-path=\"url(#clip6801)\" style=\"stroke:#000000; stroke-width:4; stroke-opacity:1; fill:none\" points=\"\n",
       "  1190.66,1528.25 1189.03,1529.74 1190.66,1531.54 1192.29,1530.04 1190.66,1528.25 \n",
       "  \"/>\n",
       "<polyline clip-path=\"url(#clip6801)\" style=\"stroke:#000000; stroke-width:4; stroke-opacity:1; fill:none\" points=\"\n",
       "  1223.29,1500.02 1206.98,1498.5 1205.35,1513.16 1206.98,1511.66 1211.87,1510.47 1216.77,1510.93 1221.66,1513.03 1224.93,1516.63 1226.56,1521.72 1226.56,1525.01 \n",
       "  1224.93,1529.79 1221.66,1532.78 1216.77,1533.97 1211.87,1533.51 1206.98,1531.41 1205.35,1529.61 1203.71,1526.17 \n",
       "  \"/>\n",
       "<polyline clip-path=\"url(#clip6801)\" style=\"stroke:#000000; stroke-width:4; stroke-opacity:1; fill:none\" points=\"\n",
       "  1379.65,1521.17 1382.91,1519.83 1387.81,1515.35 1387.81,1549.91 \n",
       "  \"/>\n",
       "<polyline clip-path=\"url(#clip6801)\" style=\"stroke:#000000; stroke-width:4; stroke-opacity:1; fill:none\" points=\"\n",
       "  1410.65,1548.74 1409.02,1550.24 1410.65,1552.04 1412.28,1550.54 1410.65,1548.74 \n",
       "  \"/>\n",
       "<polyline clip-path=\"url(#clip6801)\" style=\"stroke:#000000; stroke-width:4; stroke-opacity:1; fill:none\" points=\"\n",
       "  1433.49,1519.6 1428.6,1520.79 1425.33,1525.43 1423.7,1533.5 1423.7,1538.44 1425.33,1546.82 1428.6,1552.06 1433.49,1554.16 1436.75,1554.47 1441.65,1553.28 \n",
       "  1444.91,1548.65 1446.54,1540.57 1446.54,1535.63 1444.91,1527.25 1441.65,1522.01 1436.75,1519.91 1433.49,1519.6 \n",
       "  \"/>\n",
       "<polyline clip-path=\"url(#clip6801)\" style=\"stroke:#000000; stroke-width:4; stroke-opacity:1; fill:none\" points=\"\n",
       "  527.267,1417.45 550.672,1419.63 540.011,1424.79 550.672,1419.63 660.665,1429.88 655.334,1432.46 660.665,1429.88 770.657,1440.13 759.997,1445.29 770.657,1440.13 \n",
       "  880.65,1450.38 875.32,1452.96 880.65,1450.38 990.643,1460.63 979.983,1465.79 990.643,1460.63 1100.64,1470.88 1095.31,1473.46 1100.64,1470.88 1210.63,1481.13 \n",
       "  1199.97,1486.29 1210.63,1481.13 1320.62,1491.37 1315.29,1493.96 1320.62,1491.37 1430.61,1501.62 1419.95,1506.79 1430.61,1501.62 1450.48,1503.47 \n",
       "  \"/>\n",
       "<polyline clip-path=\"url(#clip6801)\" style=\"stroke:#000000; stroke-width:4; stroke-opacity:1; fill:none\" points=\"\n",
       "  1465.9,1544.8 1489.89,1533.18 \n",
       "  \"/>\n",
       "<polyline clip-path=\"url(#clip6801)\" style=\"stroke:#000000; stroke-width:4; stroke-opacity:1; fill:none\" points=\"\n",
       "  1503.23,1513.56 1505.89,1510.63 1509.89,1503.75 1509.89,1538.31 \n",
       "  \"/>\n",
       "<polyline clip-path=\"url(#clip6801)\" style=\"stroke:#000000; stroke-width:4; stroke-opacity:1; fill:none\" points=\"\n",
       "  1528.56,1525.98 1527.22,1528.28 1528.56,1529.28 1529.89,1526.99 1528.56,1525.98 \n",
       "  \"/>\n",
       "<polyline clip-path=\"url(#clip6801)\" style=\"stroke:#000000; stroke-width:4; stroke-opacity:1; fill:none\" points=\"\n",
       "  1547.22,1485.68 1543.22,1489.26 1540.55,1495.49 1539.22,1504.36 1539.22,1509.3 1540.55,1516.88 1543.22,1520.53 1547.22,1520.24 1549.89,1518.95 1553.89,1515.37 \n",
       "  1556.55,1509.14 1557.89,1500.26 1557.89,1495.33 1556.55,1487.74 1553.89,1484.1 1549.89,1484.39 1547.22,1485.68 \n",
       "  \"/>\n",
       "<polyline clip-path=\"url(#clip6801)\" style=\"stroke:#000000; stroke-width:4; stroke-opacity:1; fill:none\" points=\"\n",
       "  1591.82,1483.83 1615.82,1472.22 \n",
       "  \"/>\n",
       "<polyline clip-path=\"url(#clip6801)\" style=\"stroke:#000000; stroke-width:4; stroke-opacity:1; fill:none\" points=\"\n",
       "  1633.15,1444.08 1629.15,1447.66 1626.48,1453.89 1625.15,1462.76 1625.15,1467.7 1626.48,1475.28 1629.15,1478.93 1633.15,1478.64 1635.81,1477.34 1639.81,1473.76 \n",
       "  1642.48,1467.53 1643.81,1458.66 1643.81,1453.72 1642.48,1446.14 1639.81,1442.49 1635.81,1442.78 1633.15,1444.08 \n",
       "  \"/>\n",
       "<polyline clip-path=\"url(#clip6801)\" style=\"stroke:#000000; stroke-width:4; stroke-opacity:1; fill:none\" points=\"\n",
       "  1654.48,1465.02 1653.15,1467.31 1654.48,1468.31 1655.81,1466.02 1654.48,1465.02 \n",
       "  \"/>\n",
       "<polyline clip-path=\"url(#clip6801)\" style=\"stroke:#000000; stroke-width:4; stroke-opacity:1; fill:none\" points=\"\n",
       "  1681.14,1420.84 1667.81,1427.29 1666.48,1442.75 1667.81,1440.46 1671.81,1436.88 1675.81,1434.94 1679.81,1434.65 1682.48,1436.65 1683.81,1440.94 1683.81,1444.23 \n",
       "  1682.48,1449.82 1679.81,1454.4 1675.81,1457.98 1671.81,1459.92 1667.81,1460.21 1666.48,1459.21 1665.14,1456.56 \n",
       "  \"/>\n",
       "<polyline clip-path=\"url(#clip6801)\" style=\"stroke:#000000; stroke-width:4; stroke-opacity:1; fill:none\" points=\"\n",
       "  1761.74,1381.82 1757.74,1385.4 1755.07,1391.63 1753.74,1400.5 1753.74,1405.44 1755.07,1413.02 1757.74,1416.67 1761.74,1416.38 1764.4,1415.09 1768.4,1411.5 \n",
       "  1771.07,1405.28 1772.4,1396.4 1772.4,1391.46 1771.07,1383.88 1768.4,1380.23 1764.4,1380.53 1761.74,1381.82 \n",
       "  \"/>\n",
       "<polyline clip-path=\"url(#clip6801)\" style=\"stroke:#000000; stroke-width:4; stroke-opacity:1; fill:none\" points=\"\n",
       "  1867.66,1330.53 1863.66,1334.11 1861,1340.34 1859.66,1349.21 1859.66,1354.15 1861,1361.73 1863.66,1365.38 1867.66,1365.09 1870.33,1363.8 1874.33,1360.22 \n",
       "  1877,1353.99 1878.33,1345.12 1878.33,1340.18 1877,1332.59 1874.33,1328.95 1870.33,1329.24 1867.66,1330.53 \n",
       "  \"/>\n",
       "<polyline clip-path=\"url(#clip6801)\" style=\"stroke:#000000; stroke-width:4; stroke-opacity:1; fill:none\" points=\"\n",
       "  1888.99,1351.47 1887.66,1353.76 1888.99,1354.76 1890.33,1352.47 1888.99,1351.47 \n",
       "  \"/>\n",
       "<polyline clip-path=\"url(#clip6801)\" style=\"stroke:#000000; stroke-width:4; stroke-opacity:1; fill:none\" points=\"\n",
       "  1915.66,1307.29 1902.33,1313.75 1900.99,1329.2 1902.33,1326.91 1906.33,1323.33 1910.32,1321.39 1914.32,1321.1 1916.99,1323.1 1918.32,1327.4 1918.32,1330.69 \n",
       "  1916.99,1336.27 1914.32,1340.85 1910.32,1344.43 1906.33,1346.37 1902.33,1346.66 1900.99,1345.66 1899.66,1343.02 \n",
       "  \"/>\n",
       "<polyline clip-path=\"url(#clip6801)\" style=\"stroke:#000000; stroke-width:4; stroke-opacity:1; fill:none\" points=\"\n",
       "  1989.59,1278.08 1992.25,1275.14 1996.25,1268.27 1996.25,1302.83 \n",
       "  \"/>\n",
       "<polyline clip-path=\"url(#clip6801)\" style=\"stroke:#000000; stroke-width:4; stroke-opacity:1; fill:none\" points=\"\n",
       "  2014.92,1290.5 2013.58,1292.79 2014.92,1293.79 2016.25,1291.5 2014.92,1290.5 \n",
       "  \"/>\n",
       "<polyline clip-path=\"url(#clip6801)\" style=\"stroke:#000000; stroke-width:4; stroke-opacity:1; fill:none\" points=\"\n",
       "  2033.58,1250.2 2029.58,1253.78 2026.92,1260.01 2025.58,1268.88 2025.58,1273.82 2026.92,1281.4 2029.58,1285.05 2033.58,1284.76 2036.25,1283.47 2040.25,1279.88 \n",
       "  2042.91,1273.66 2044.25,1264.78 2044.25,1259.84 2042.91,1252.26 2040.25,1248.62 2036.25,1248.91 2033.58,1250.2 \n",
       "  \"/>\n",
       "<polyline clip-path=\"url(#clip6801)\" style=\"stroke:#000000; stroke-width:4; stroke-opacity:1; fill:none\" points=\"\n",
       "  1450.48,1503.47 1464.85,1496.52 1483.32,1498.24 1464.85,1496.52 1527.81,1466.03 1537.05,1466.89 1527.81,1466.03 1590.78,1435.55 1609.24,1437.27 1590.78,1435.55 \n",
       "  1653.74,1405.06 1662.97,1405.92 1653.74,1405.06 1716.7,1374.58 1735.16,1376.3 1716.7,1374.58 1779.66,1344.09 1788.89,1344.95 1779.66,1344.09 1842.62,1313.61 \n",
       "  1861.09,1315.33 1842.62,1313.61 1905.58,1283.13 1914.82,1283.99 1905.58,1283.13 1968.55,1252.64 1987.01,1254.36 1968.55,1252.64 1983.5,1245.4 \n",
       "  \"/>\n",
       "<circle clip-path=\"url(#clip6803)\" style=\"fill:#000000; stroke:none; fill-opacity:1\" cx=\"1619.81\" cy=\"954.063\" r=\"18\"/>\n",
       "<circle clip-path=\"url(#clip6803)\" style=\"fill:#009af9; stroke:none; fill-opacity:1\" cx=\"1619.81\" cy=\"954.063\" r=\"14\"/>\n",
       "<circle clip-path=\"url(#clip6803)\" style=\"fill:#000000; stroke:none; fill-opacity:1\" cx=\"1609.43\" cy=\"900.298\" r=\"18\"/>\n",
       "<circle clip-path=\"url(#clip6803)\" style=\"fill:#009af9; stroke:none; fill-opacity:1\" cx=\"1609.43\" cy=\"900.298\" r=\"14\"/>\n",
       "<circle clip-path=\"url(#clip6803)\" style=\"fill:#000000; stroke:none; fill-opacity:1\" cx=\"1075.45\" cy=\"319.529\" r=\"18\"/>\n",
       "<circle clip-path=\"url(#clip6803)\" style=\"fill:#009af9; stroke:none; fill-opacity:1\" cx=\"1075.45\" cy=\"319.529\" r=\"14\"/>\n",
       "<circle clip-path=\"url(#clip6803)\" style=\"fill:#000000; stroke:none; fill-opacity:1\" cx=\"903.526\" cy=\"980.37\" r=\"18\"/>\n",
       "<circle clip-path=\"url(#clip6803)\" style=\"fill:#009af9; stroke:none; fill-opacity:1\" cx=\"903.526\" cy=\"980.37\" r=\"14\"/>\n",
       "<circle clip-path=\"url(#clip6803)\" style=\"fill:#000000; stroke:none; fill-opacity:1\" cx=\"1187.97\" cy=\"857.372\" r=\"18\"/>\n",
       "<circle clip-path=\"url(#clip6803)\" style=\"fill:#009af9; stroke:none; fill-opacity:1\" cx=\"1187.97\" cy=\"857.372\" r=\"14\"/>\n",
       "<circle clip-path=\"url(#clip6803)\" style=\"fill:#000000; stroke:none; fill-opacity:1\" cx=\"1078.38\" cy=\"462.31\" r=\"18\"/>\n",
       "<circle clip-path=\"url(#clip6803)\" style=\"fill:#009af9; stroke:none; fill-opacity:1\" cx=\"1078.38\" cy=\"462.31\" r=\"14\"/>\n",
       "<circle clip-path=\"url(#clip6803)\" style=\"fill:#000000; stroke:none; fill-opacity:1\" cx=\"1482.17\" cy=\"750.509\" r=\"18\"/>\n",
       "<circle clip-path=\"url(#clip6803)\" style=\"fill:#009af9; stroke:none; fill-opacity:1\" cx=\"1482.17\" cy=\"750.509\" r=\"14\"/>\n",
       "<circle clip-path=\"url(#clip6803)\" style=\"fill:#000000; stroke:none; fill-opacity:1\" cx=\"1392.64\" cy=\"722.151\" r=\"18\"/>\n",
       "<circle clip-path=\"url(#clip6803)\" style=\"fill:#009af9; stroke:none; fill-opacity:1\" cx=\"1392.64\" cy=\"722.151\" r=\"14\"/>\n",
       "<circle clip-path=\"url(#clip6803)\" style=\"fill:#000000; stroke:none; fill-opacity:1\" cx=\"1551.63\" cy=\"998.447\" r=\"18\"/>\n",
       "<circle clip-path=\"url(#clip6803)\" style=\"fill:#009af9; stroke:none; fill-opacity:1\" cx=\"1551.63\" cy=\"998.447\" r=\"14\"/>\n",
       "<circle clip-path=\"url(#clip6803)\" style=\"fill:#000000; stroke:none; fill-opacity:1\" cx=\"756.263\" cy=\"825.318\" r=\"18\"/>\n",
       "<circle clip-path=\"url(#clip6803)\" style=\"fill:#009af9; stroke:none; fill-opacity:1\" cx=\"756.263\" cy=\"825.318\" r=\"14\"/>\n",
       "<circle clip-path=\"url(#clip6803)\" style=\"fill:#000000; stroke:none; fill-opacity:1\" cx=\"1634.63\" cy=\"617.182\" r=\"18\"/>\n",
       "<circle clip-path=\"url(#clip6803)\" style=\"fill:#009af9; stroke:none; fill-opacity:1\" cx=\"1634.63\" cy=\"617.182\" r=\"14\"/>\n",
       "<circle clip-path=\"url(#clip6803)\" style=\"fill:#000000; stroke:none; fill-opacity:1\" cx=\"1302.92\" cy=\"1195.52\" r=\"18\"/>\n",
       "<circle clip-path=\"url(#clip6803)\" style=\"fill:#009af9; stroke:none; fill-opacity:1\" cx=\"1302.92\" cy=\"1195.52\" r=\"14\"/>\n",
       "<circle clip-path=\"url(#clip6803)\" style=\"fill:#000000; stroke:none; fill-opacity:1\" cx=\"1748.29\" cy=\"788.819\" r=\"18\"/>\n",
       "<circle clip-path=\"url(#clip6803)\" style=\"fill:#009af9; stroke:none; fill-opacity:1\" cx=\"1748.29\" cy=\"788.819\" r=\"14\"/>\n",
       "<circle clip-path=\"url(#clip6803)\" style=\"fill:#000000; stroke:none; fill-opacity:1\" cx=\"1296.28\" cy=\"994.554\" r=\"18\"/>\n",
       "<circle clip-path=\"url(#clip6803)\" style=\"fill:#009af9; stroke:none; fill-opacity:1\" cx=\"1296.28\" cy=\"994.554\" r=\"14\"/>\n",
       "<circle clip-path=\"url(#clip6803)\" style=\"fill:#000000; stroke:none; fill-opacity:1\" cx=\"1149.23\" cy=\"1150.27\" r=\"18\"/>\n",
       "<circle clip-path=\"url(#clip6803)\" style=\"fill:#009af9; stroke:none; fill-opacity:1\" cx=\"1149.23\" cy=\"1150.27\" r=\"14\"/>\n",
       "<circle clip-path=\"url(#clip6803)\" style=\"fill:#000000; stroke:none; fill-opacity:1\" cx=\"1144.5\" cy=\"1050.21\" r=\"18\"/>\n",
       "<circle clip-path=\"url(#clip6803)\" style=\"fill:#009af9; stroke:none; fill-opacity:1\" cx=\"1144.5\" cy=\"1050.21\" r=\"14\"/>\n",
       "<circle clip-path=\"url(#clip6803)\" style=\"fill:#000000; stroke:none; fill-opacity:1\" cx=\"1135.16\" cy=\"1094.38\" r=\"18\"/>\n",
       "<circle clip-path=\"url(#clip6803)\" style=\"fill:#009af9; stroke:none; fill-opacity:1\" cx=\"1135.16\" cy=\"1094.38\" r=\"14\"/>\n",
       "<circle clip-path=\"url(#clip6803)\" style=\"fill:#000000; stroke:none; fill-opacity:1\" cx=\"1422.69\" cy=\"694.957\" r=\"18\"/>\n",
       "<circle clip-path=\"url(#clip6803)\" style=\"fill:#009af9; stroke:none; fill-opacity:1\" cx=\"1422.69\" cy=\"694.957\" r=\"14\"/>\n",
       "<circle clip-path=\"url(#clip6803)\" style=\"fill:#000000; stroke:none; fill-opacity:1\" cx=\"1562.95\" cy=\"881.535\" r=\"18\"/>\n",
       "<circle clip-path=\"url(#clip6803)\" style=\"fill:#009af9; stroke:none; fill-opacity:1\" cx=\"1562.95\" cy=\"881.535\" r=\"14\"/>\n",
       "<circle clip-path=\"url(#clip6803)\" style=\"fill:#000000; stroke:none; fill-opacity:1\" cx=\"1450.84\" cy=\"983.36\" r=\"18\"/>\n",
       "<circle clip-path=\"url(#clip6803)\" style=\"fill:#009af9; stroke:none; fill-opacity:1\" cx=\"1450.84\" cy=\"983.36\" r=\"14\"/>\n",
       "<circle clip-path=\"url(#clip6803)\" style=\"fill:#000000; stroke:none; fill-opacity:1\" cx=\"1098.01\" cy=\"892.09\" r=\"18\"/>\n",
       "<circle clip-path=\"url(#clip6803)\" style=\"fill:#009af9; stroke:none; fill-opacity:1\" cx=\"1098.01\" cy=\"892.09\" r=\"14\"/>\n",
       "<circle clip-path=\"url(#clip6803)\" style=\"fill:#000000; stroke:none; fill-opacity:1\" cx=\"913.601\" cy=\"976.116\" r=\"18\"/>\n",
       "<circle clip-path=\"url(#clip6803)\" style=\"fill:#009af9; stroke:none; fill-opacity:1\" cx=\"913.601\" cy=\"976.116\" r=\"14\"/>\n",
       "<circle clip-path=\"url(#clip6803)\" style=\"fill:#000000; stroke:none; fill-opacity:1\" cx=\"1090.19\" cy=\"1140.54\" r=\"18\"/>\n",
       "<circle clip-path=\"url(#clip6803)\" style=\"fill:#009af9; stroke:none; fill-opacity:1\" cx=\"1090.19\" cy=\"1140.54\" r=\"14\"/>\n",
       "<circle clip-path=\"url(#clip6803)\" style=\"fill:#000000; stroke:none; fill-opacity:1\" cx=\"1635.18\" cy=\"918.356\" r=\"18\"/>\n",
       "<circle clip-path=\"url(#clip6803)\" style=\"fill:#009af9; stroke:none; fill-opacity:1\" cx=\"1635.18\" cy=\"918.356\" r=\"14\"/>\n",
       "<circle clip-path=\"url(#clip6803)\" style=\"fill:#000000; stroke:none; fill-opacity:1\" cx=\"1518.47\" cy=\"732.685\" r=\"18\"/>\n",
       "<circle clip-path=\"url(#clip6803)\" style=\"fill:#009af9; stroke:none; fill-opacity:1\" cx=\"1518.47\" cy=\"732.685\" r=\"14\"/>\n",
       "<circle clip-path=\"url(#clip6803)\" style=\"fill:#000000; stroke:none; fill-opacity:1\" cx=\"1348.04\" cy=\"1068.75\" r=\"18\"/>\n",
       "<circle clip-path=\"url(#clip6803)\" style=\"fill:#009af9; stroke:none; fill-opacity:1\" cx=\"1348.04\" cy=\"1068.75\" r=\"14\"/>\n",
       "<circle clip-path=\"url(#clip6803)\" style=\"fill:#000000; stroke:none; fill-opacity:1\" cx=\"792.776\" cy=\"800.775\" r=\"18\"/>\n",
       "<circle clip-path=\"url(#clip6803)\" style=\"fill:#009af9; stroke:none; fill-opacity:1\" cx=\"792.776\" cy=\"800.775\" r=\"14\"/>\n",
       "<circle clip-path=\"url(#clip6803)\" style=\"fill:#000000; stroke:none; fill-opacity:1\" cx=\"1137.93\" cy=\"1071.86\" r=\"18\"/>\n",
       "<circle clip-path=\"url(#clip6803)\" style=\"fill:#009af9; stroke:none; fill-opacity:1\" cx=\"1137.93\" cy=\"1071.86\" r=\"14\"/>\n",
       "<circle clip-path=\"url(#clip6803)\" style=\"fill:#000000; stroke:none; fill-opacity:1\" cx=\"1028.97\" cy=\"1033.8\" r=\"18\"/>\n",
       "<circle clip-path=\"url(#clip6803)\" style=\"fill:#009af9; stroke:none; fill-opacity:1\" cx=\"1028.97\" cy=\"1033.8\" r=\"14\"/>\n",
       "<circle clip-path=\"url(#clip6803)\" style=\"fill:#000000; stroke:none; fill-opacity:1\" cx=\"927.473\" cy=\"946.538\" r=\"18\"/>\n",
       "<circle clip-path=\"url(#clip6803)\" style=\"fill:#009af9; stroke:none; fill-opacity:1\" cx=\"927.473\" cy=\"946.538\" r=\"14\"/>\n",
       "<circle clip-path=\"url(#clip6803)\" style=\"fill:#000000; stroke:none; fill-opacity:1\" cx=\"807.848\" cy=\"851.035\" r=\"18\"/>\n",
       "<circle clip-path=\"url(#clip6803)\" style=\"fill:#009af9; stroke:none; fill-opacity:1\" cx=\"807.848\" cy=\"851.035\" r=\"14\"/>\n",
       "<circle clip-path=\"url(#clip6803)\" style=\"fill:#000000; stroke:none; fill-opacity:1\" cx=\"1672.55\" cy=\"914.374\" r=\"18\"/>\n",
       "<circle clip-path=\"url(#clip6803)\" style=\"fill:#009af9; stroke:none; fill-opacity:1\" cx=\"1672.55\" cy=\"914.374\" r=\"14\"/>\n",
       "<circle clip-path=\"url(#clip6803)\" style=\"fill:#000000; stroke:none; fill-opacity:1\" cx=\"1663.67\" cy=\"801.42\" r=\"18\"/>\n",
       "<circle clip-path=\"url(#clip6803)\" style=\"fill:#009af9; stroke:none; fill-opacity:1\" cx=\"1663.67\" cy=\"801.42\" r=\"14\"/>\n",
       "<circle clip-path=\"url(#clip6803)\" style=\"fill:#000000; stroke:none; fill-opacity:1\" cx=\"1131.23\" cy=\"991.274\" r=\"18\"/>\n",
       "<circle clip-path=\"url(#clip6803)\" style=\"fill:#009af9; stroke:none; fill-opacity:1\" cx=\"1131.23\" cy=\"991.274\" r=\"14\"/>\n",
       "<circle clip-path=\"url(#clip6803)\" style=\"fill:#000000; stroke:none; fill-opacity:1\" cx=\"1226.93\" cy=\"922.109\" r=\"18\"/>\n",
       "<circle clip-path=\"url(#clip6803)\" style=\"fill:#009af9; stroke:none; fill-opacity:1\" cx=\"1226.93\" cy=\"922.109\" r=\"14\"/>\n",
       "<circle clip-path=\"url(#clip6803)\" style=\"fill:#000000; stroke:none; fill-opacity:1\" cx=\"569.077\" cy=\"500.73\" r=\"18\"/>\n",
       "<circle clip-path=\"url(#clip6803)\" style=\"fill:#009af9; stroke:none; fill-opacity:1\" cx=\"569.077\" cy=\"500.73\" r=\"14\"/>\n",
       "<circle clip-path=\"url(#clip6803)\" style=\"fill:#000000; stroke:none; fill-opacity:1\" cx=\"1502.05\" cy=\"871.586\" r=\"18\"/>\n",
       "<circle clip-path=\"url(#clip6803)\" style=\"fill:#009af9; stroke:none; fill-opacity:1\" cx=\"1502.05\" cy=\"871.586\" r=\"14\"/>\n",
       "<circle clip-path=\"url(#clip6803)\" style=\"fill:#000000; stroke:none; fill-opacity:1\" cx=\"1375.64\" cy=\"1174.58\" r=\"18\"/>\n",
       "<circle clip-path=\"url(#clip6803)\" style=\"fill:#009af9; stroke:none; fill-opacity:1\" cx=\"1375.64\" cy=\"1174.58\" r=\"14\"/>\n",
       "<circle clip-path=\"url(#clip6803)\" style=\"fill:#000000; stroke:none; fill-opacity:1\" cx=\"1258.76\" cy=\"1130.65\" r=\"18\"/>\n",
       "<circle clip-path=\"url(#clip6803)\" style=\"fill:#009af9; stroke:none; fill-opacity:1\" cx=\"1258.76\" cy=\"1130.65\" r=\"14\"/>\n",
       "<circle clip-path=\"url(#clip6803)\" style=\"fill:#000000; stroke:none; fill-opacity:1\" cx=\"1304.22\" cy=\"1112.42\" r=\"18\"/>\n",
       "<circle clip-path=\"url(#clip6803)\" style=\"fill:#009af9; stroke:none; fill-opacity:1\" cx=\"1304.22\" cy=\"1112.42\" r=\"14\"/>\n",
       "<circle clip-path=\"url(#clip6803)\" style=\"fill:#000000; stroke:none; fill-opacity:1\" cx=\"1622.09\" cy=\"872.527\" r=\"18\"/>\n",
       "<circle clip-path=\"url(#clip6803)\" style=\"fill:#009af9; stroke:none; fill-opacity:1\" cx=\"1622.09\" cy=\"872.527\" r=\"14\"/>\n",
       "<circle clip-path=\"url(#clip6803)\" style=\"fill:#000000; stroke:none; fill-opacity:1\" cx=\"1149.82\" cy=\"1160.65\" r=\"18\"/>\n",
       "<circle clip-path=\"url(#clip6803)\" style=\"fill:#009af9; stroke:none; fill-opacity:1\" cx=\"1149.82\" cy=\"1160.65\" r=\"14\"/>\n",
       "<circle clip-path=\"url(#clip6803)\" style=\"fill:#000000; stroke:none; fill-opacity:1\" cx=\"1030.8\" cy=\"1075.99\" r=\"18\"/>\n",
       "<circle clip-path=\"url(#clip6803)\" style=\"fill:#009af9; stroke:none; fill-opacity:1\" cx=\"1030.8\" cy=\"1075.99\" r=\"14\"/>\n",
       "<circle clip-path=\"url(#clip6803)\" style=\"fill:#000000; stroke:none; fill-opacity:1\" cx=\"1090.67\" cy=\"1048.36\" r=\"18\"/>\n",
       "<circle clip-path=\"url(#clip6803)\" style=\"fill:#009af9; stroke:none; fill-opacity:1\" cx=\"1090.67\" cy=\"1048.36\" r=\"14\"/>\n",
       "<circle clip-path=\"url(#clip6803)\" style=\"fill:#000000; stroke:none; fill-opacity:1\" cx=\"1256.52\" cy=\"1042.23\" r=\"18\"/>\n",
       "<circle clip-path=\"url(#clip6803)\" style=\"fill:#009af9; stroke:none; fill-opacity:1\" cx=\"1256.52\" cy=\"1042.23\" r=\"14\"/>\n",
       "<circle clip-path=\"url(#clip6803)\" style=\"fill:#000000; stroke:none; fill-opacity:1\" cx=\"1188.36\" cy=\"629.776\" r=\"18\"/>\n",
       "<circle clip-path=\"url(#clip6803)\" style=\"fill:#009af9; stroke:none; fill-opacity:1\" cx=\"1188.36\" cy=\"629.776\" r=\"14\"/>\n",
       "<circle clip-path=\"url(#clip6803)\" style=\"fill:#000000; stroke:none; fill-opacity:1\" cx=\"1115.24\" cy=\"1032.85\" r=\"18\"/>\n",
       "<circle clip-path=\"url(#clip6803)\" style=\"fill:#009af9; stroke:none; fill-opacity:1\" cx=\"1115.24\" cy=\"1032.85\" r=\"14\"/>\n",
       "<circle clip-path=\"url(#clip6803)\" style=\"fill:#000000; stroke:none; fill-opacity:1\" cx=\"1311.85\" cy=\"1158.39\" r=\"18\"/>\n",
       "<circle clip-path=\"url(#clip6803)\" style=\"fill:#009af9; stroke:none; fill-opacity:1\" cx=\"1311.85\" cy=\"1158.39\" r=\"14\"/>\n",
       "<circle clip-path=\"url(#clip6803)\" style=\"fill:#000000; stroke:none; fill-opacity:1\" cx=\"1071.48\" cy=\"1116.75\" r=\"18\"/>\n",
       "<circle clip-path=\"url(#clip6803)\" style=\"fill:#009af9; stroke:none; fill-opacity:1\" cx=\"1071.48\" cy=\"1116.75\" r=\"14\"/>\n",
       "<circle clip-path=\"url(#clip6803)\" style=\"fill:#000000; stroke:none; fill-opacity:1\" cx=\"1850.73\" cy=\"560.118\" r=\"18\"/>\n",
       "<circle clip-path=\"url(#clip6803)\" style=\"fill:#009af9; stroke:none; fill-opacity:1\" cx=\"1850.73\" cy=\"560.118\" r=\"14\"/>\n",
       "<circle clip-path=\"url(#clip6803)\" style=\"fill:#000000; stroke:none; fill-opacity:1\" cx=\"1174.95\" cy=\"619.37\" r=\"18\"/>\n",
       "<circle clip-path=\"url(#clip6803)\" style=\"fill:#009af9; stroke:none; fill-opacity:1\" cx=\"1174.95\" cy=\"619.37\" r=\"14\"/>\n",
       "<circle clip-path=\"url(#clip6803)\" style=\"fill:#000000; stroke:none; fill-opacity:1\" cx=\"1131.61\" cy=\"1125.53\" r=\"18\"/>\n",
       "<circle clip-path=\"url(#clip6803)\" style=\"fill:#009af9; stroke:none; fill-opacity:1\" cx=\"1131.61\" cy=\"1125.53\" r=\"14\"/>\n",
       "<circle clip-path=\"url(#clip6803)\" style=\"fill:#000000; stroke:none; fill-opacity:1\" cx=\"1262.62\" cy=\"714.596\" r=\"18\"/>\n",
       "<circle clip-path=\"url(#clip6803)\" style=\"fill:#009af9; stroke:none; fill-opacity:1\" cx=\"1262.62\" cy=\"714.596\" r=\"14\"/>\n",
       "<circle clip-path=\"url(#clip6803)\" style=\"fill:#000000; stroke:none; fill-opacity:1\" cx=\"1152.91\" cy=\"1131\" r=\"18\"/>\n",
       "<circle clip-path=\"url(#clip6803)\" style=\"fill:#009af9; stroke:none; fill-opacity:1\" cx=\"1152.91\" cy=\"1131\" r=\"14\"/>\n",
       "<circle clip-path=\"url(#clip6803)\" style=\"fill:#000000; stroke:none; fill-opacity:1\" cx=\"1443.14\" cy=\"718.213\" r=\"18\"/>\n",
       "<circle clip-path=\"url(#clip6803)\" style=\"fill:#009af9; stroke:none; fill-opacity:1\" cx=\"1443.14\" cy=\"718.213\" r=\"14\"/>\n",
       "<circle clip-path=\"url(#clip6803)\" style=\"fill:#000000; stroke:none; fill-opacity:1\" cx=\"973.661\" cy=\"1084.6\" r=\"18\"/>\n",
       "<circle clip-path=\"url(#clip6803)\" style=\"fill:#009af9; stroke:none; fill-opacity:1\" cx=\"973.661\" cy=\"1084.6\" r=\"14\"/>\n",
       "<circle clip-path=\"url(#clip6803)\" style=\"fill:#000000; stroke:none; fill-opacity:1\" cx=\"940.67\" cy=\"643.174\" r=\"18\"/>\n",
       "<circle clip-path=\"url(#clip6803)\" style=\"fill:#009af9; stroke:none; fill-opacity:1\" cx=\"940.67\" cy=\"643.174\" r=\"14\"/>\n",
       "<circle clip-path=\"url(#clip6803)\" style=\"fill:#000000; stroke:none; fill-opacity:1\" cx=\"1239.94\" cy=\"999.895\" r=\"18\"/>\n",
       "<circle clip-path=\"url(#clip6803)\" style=\"fill:#009af9; stroke:none; fill-opacity:1\" cx=\"1239.94\" cy=\"999.895\" r=\"14\"/>\n",
       "<circle clip-path=\"url(#clip6803)\" style=\"fill:#000000; stroke:none; fill-opacity:1\" cx=\"1457.87\" cy=\"708.61\" r=\"18\"/>\n",
       "<circle clip-path=\"url(#clip6803)\" style=\"fill:#009af9; stroke:none; fill-opacity:1\" cx=\"1457.87\" cy=\"708.61\" r=\"14\"/>\n",
       "<circle clip-path=\"url(#clip6803)\" style=\"fill:#000000; stroke:none; fill-opacity:1\" cx=\"1252.88\" cy=\"1115.51\" r=\"18\"/>\n",
       "<circle clip-path=\"url(#clip6803)\" style=\"fill:#009af9; stroke:none; fill-opacity:1\" cx=\"1252.88\" cy=\"1115.51\" r=\"14\"/>\n",
       "<circle clip-path=\"url(#clip6803)\" style=\"fill:#000000; stroke:none; fill-opacity:1\" cx=\"1605.18\" cy=\"734.88\" r=\"18\"/>\n",
       "<circle clip-path=\"url(#clip6803)\" style=\"fill:#009af9; stroke:none; fill-opacity:1\" cx=\"1605.18\" cy=\"734.88\" r=\"14\"/>\n",
       "<circle clip-path=\"url(#clip6803)\" style=\"fill:#000000; stroke:none; fill-opacity:1\" cx=\"1931.45\" cy=\"349.707\" r=\"18\"/>\n",
       "<circle clip-path=\"url(#clip6803)\" style=\"fill:#009af9; stroke:none; fill-opacity:1\" cx=\"1931.45\" cy=\"349.707\" r=\"14\"/>\n",
       "<circle clip-path=\"url(#clip6803)\" style=\"fill:#000000; stroke:none; fill-opacity:1\" cx=\"926.495\" cy=\"985.901\" r=\"18\"/>\n",
       "<circle clip-path=\"url(#clip6803)\" style=\"fill:#009af9; stroke:none; fill-opacity:1\" cx=\"926.495\" cy=\"985.901\" r=\"14\"/>\n",
       "<circle clip-path=\"url(#clip6803)\" style=\"fill:#000000; stroke:none; fill-opacity:1\" cx=\"1626.53\" cy=\"854.604\" r=\"18\"/>\n",
       "<circle clip-path=\"url(#clip6803)\" style=\"fill:#009af9; stroke:none; fill-opacity:1\" cx=\"1626.53\" cy=\"854.604\" r=\"14\"/>\n",
       "<circle clip-path=\"url(#clip6803)\" style=\"fill:#000000; stroke:none; fill-opacity:1\" cx=\"1443.83\" cy=\"799.793\" r=\"18\"/>\n",
       "<circle clip-path=\"url(#clip6803)\" style=\"fill:#009af9; stroke:none; fill-opacity:1\" cx=\"1443.83\" cy=\"799.793\" r=\"14\"/>\n",
       "<circle clip-path=\"url(#clip6803)\" style=\"fill:#000000; stroke:none; fill-opacity:1\" cx=\"1123.51\" cy=\"1088.69\" r=\"18\"/>\n",
       "<circle clip-path=\"url(#clip6803)\" style=\"fill:#009af9; stroke:none; fill-opacity:1\" cx=\"1123.51\" cy=\"1088.69\" r=\"14\"/>\n",
       "<circle clip-path=\"url(#clip6803)\" style=\"fill:#000000; stroke:none; fill-opacity:1\" cx=\"1353.88\" cy=\"686.251\" r=\"18\"/>\n",
       "<circle clip-path=\"url(#clip6803)\" style=\"fill:#009af9; stroke:none; fill-opacity:1\" cx=\"1353.88\" cy=\"686.251\" r=\"14\"/>\n",
       "<circle clip-path=\"url(#clip6803)\" style=\"fill:#000000; stroke:none; fill-opacity:1\" cx=\"1524.85\" cy=\"939.572\" r=\"18\"/>\n",
       "<circle clip-path=\"url(#clip6803)\" style=\"fill:#009af9; stroke:none; fill-opacity:1\" cx=\"1524.85\" cy=\"939.572\" r=\"14\"/>\n",
       "<circle clip-path=\"url(#clip6803)\" style=\"fill:#000000; stroke:none; fill-opacity:1\" cx=\"1834.5\" cy=\"602.137\" r=\"18\"/>\n",
       "<circle clip-path=\"url(#clip6803)\" style=\"fill:#009af9; stroke:none; fill-opacity:1\" cx=\"1834.5\" cy=\"602.137\" r=\"14\"/>\n",
       "<circle clip-path=\"url(#clip6803)\" style=\"fill:#000000; stroke:none; fill-opacity:1\" cx=\"824.188\" cy=\"872.312\" r=\"18\"/>\n",
       "<circle clip-path=\"url(#clip6803)\" style=\"fill:#009af9; stroke:none; fill-opacity:1\" cx=\"824.188\" cy=\"872.312\" r=\"14\"/>\n",
       "<circle clip-path=\"url(#clip6803)\" style=\"fill:#000000; stroke:none; fill-opacity:1\" cx=\"1634.73\" cy=\"916.151\" r=\"18\"/>\n",
       "<circle clip-path=\"url(#clip6803)\" style=\"fill:#009af9; stroke:none; fill-opacity:1\" cx=\"1634.73\" cy=\"916.151\" r=\"14\"/>\n",
       "<circle clip-path=\"url(#clip6803)\" style=\"fill:#000000; stroke:none; fill-opacity:1\" cx=\"1037.35\" cy=\"536.573\" r=\"18\"/>\n",
       "<circle clip-path=\"url(#clip6803)\" style=\"fill:#009af9; stroke:none; fill-opacity:1\" cx=\"1037.35\" cy=\"536.573\" r=\"14\"/>\n",
       "<circle clip-path=\"url(#clip6803)\" style=\"fill:#000000; stroke:none; fill-opacity:1\" cx=\"1472.8\" cy=\"1130.54\" r=\"18\"/>\n",
       "<circle clip-path=\"url(#clip6803)\" style=\"fill:#009af9; stroke:none; fill-opacity:1\" cx=\"1472.8\" cy=\"1130.54\" r=\"14\"/>\n",
       "<circle clip-path=\"url(#clip6803)\" style=\"fill:#000000; stroke:none; fill-opacity:1\" cx=\"1464.8\" cy=\"640.406\" r=\"18\"/>\n",
       "<circle clip-path=\"url(#clip6803)\" style=\"fill:#009af9; stroke:none; fill-opacity:1\" cx=\"1464.8\" cy=\"640.406\" r=\"14\"/>\n",
       "<circle clip-path=\"url(#clip6803)\" style=\"fill:#000000; stroke:none; fill-opacity:1\" cx=\"1480.01\" cy=\"938.952\" r=\"18\"/>\n",
       "<circle clip-path=\"url(#clip6803)\" style=\"fill:#009af9; stroke:none; fill-opacity:1\" cx=\"1480.01\" cy=\"938.952\" r=\"14\"/>\n",
       "<circle clip-path=\"url(#clip6803)\" style=\"fill:#000000; stroke:none; fill-opacity:1\" cx=\"999.779\" cy=\"1069.65\" r=\"18\"/>\n",
       "<circle clip-path=\"url(#clip6803)\" style=\"fill:#009af9; stroke:none; fill-opacity:1\" cx=\"999.779\" cy=\"1069.65\" r=\"14\"/>\n",
       "<circle clip-path=\"url(#clip6803)\" style=\"fill:#000000; stroke:none; fill-opacity:1\" cx=\"1311.57\" cy=\"1083.62\" r=\"18\"/>\n",
       "<circle clip-path=\"url(#clip6803)\" style=\"fill:#009af9; stroke:none; fill-opacity:1\" cx=\"1311.57\" cy=\"1083.62\" r=\"14\"/>\n",
       "<circle clip-path=\"url(#clip6803)\" style=\"fill:#000000; stroke:none; fill-opacity:1\" cx=\"1041.77\" cy=\"996.195\" r=\"18\"/>\n",
       "<circle clip-path=\"url(#clip6803)\" style=\"fill:#009af9; stroke:none; fill-opacity:1\" cx=\"1041.77\" cy=\"996.195\" r=\"14\"/>\n",
       "<circle clip-path=\"url(#clip6803)\" style=\"fill:#000000; stroke:none; fill-opacity:1\" cx=\"1221.98\" cy=\"844.176\" r=\"18\"/>\n",
       "<circle clip-path=\"url(#clip6803)\" style=\"fill:#009af9; stroke:none; fill-opacity:1\" cx=\"1221.98\" cy=\"844.176\" r=\"14\"/>\n",
       "<circle clip-path=\"url(#clip6803)\" style=\"fill:#000000; stroke:none; fill-opacity:1\" cx=\"820.708\" cy=\"861.901\" r=\"18\"/>\n",
       "<circle clip-path=\"url(#clip6803)\" style=\"fill:#009af9; stroke:none; fill-opacity:1\" cx=\"820.708\" cy=\"861.901\" r=\"14\"/>\n",
       "<circle clip-path=\"url(#clip6803)\" style=\"fill:#000000; stroke:none; fill-opacity:1\" cx=\"1560.16\" cy=\"970.85\" r=\"18\"/>\n",
       "<circle clip-path=\"url(#clip6803)\" style=\"fill:#009af9; stroke:none; fill-opacity:1\" cx=\"1560.16\" cy=\"970.85\" r=\"14\"/>\n",
       "<circle clip-path=\"url(#clip6803)\" style=\"fill:#000000; stroke:none; fill-opacity:1\" cx=\"1065.46\" cy=\"461.773\" r=\"18\"/>\n",
       "<circle clip-path=\"url(#clip6803)\" style=\"fill:#009af9; stroke:none; fill-opacity:1\" cx=\"1065.46\" cy=\"461.773\" r=\"14\"/>\n",
       "<circle clip-path=\"url(#clip6803)\" style=\"fill:#000000; stroke:none; fill-opacity:1\" cx=\"912.695\" cy=\"932.115\" r=\"18\"/>\n",
       "<circle clip-path=\"url(#clip6803)\" style=\"fill:#009af9; stroke:none; fill-opacity:1\" cx=\"912.695\" cy=\"932.115\" r=\"14\"/>\n",
       "<circle clip-path=\"url(#clip6803)\" style=\"fill:#000000; stroke:none; fill-opacity:1\" cx=\"1005.62\" cy=\"1010.25\" r=\"18\"/>\n",
       "<circle clip-path=\"url(#clip6803)\" style=\"fill:#009af9; stroke:none; fill-opacity:1\" cx=\"1005.62\" cy=\"1010.25\" r=\"14\"/>\n",
       "<circle clip-path=\"url(#clip6803)\" style=\"fill:#000000; stroke:none; fill-opacity:1\" cx=\"776.222\" cy=\"890.673\" r=\"18\"/>\n",
       "<circle clip-path=\"url(#clip6803)\" style=\"fill:#009af9; stroke:none; fill-opacity:1\" cx=\"776.222\" cy=\"890.673\" r=\"14\"/>\n",
       "<circle clip-path=\"url(#clip6803)\" style=\"fill:#000000; stroke:none; fill-opacity:1\" cx=\"1119.62\" cy=\"901.234\" r=\"18\"/>\n",
       "<circle clip-path=\"url(#clip6803)\" style=\"fill:#009af9; stroke:none; fill-opacity:1\" cx=\"1119.62\" cy=\"901.234\" r=\"14\"/>\n",
       "<circle clip-path=\"url(#clip6803)\" style=\"fill:#000000; stroke:none; fill-opacity:1\" cx=\"979.302\" cy=\"999.598\" r=\"18\"/>\n",
       "<circle clip-path=\"url(#clip6803)\" style=\"fill:#009af9; stroke:none; fill-opacity:1\" cx=\"979.302\" cy=\"999.598\" r=\"14\"/>\n",
       "<circle clip-path=\"url(#clip6803)\" style=\"fill:#000000; stroke:none; fill-opacity:1\" cx=\"1248.36\" cy=\"1111.24\" r=\"18\"/>\n",
       "<circle clip-path=\"url(#clip6803)\" style=\"fill:#009af9; stroke:none; fill-opacity:1\" cx=\"1248.36\" cy=\"1111.24\" r=\"14\"/>\n",
       "<circle clip-path=\"url(#clip6803)\" style=\"fill:#000000; stroke:none; fill-opacity:1\" cx=\"878.676\" cy=\"1007.21\" r=\"18\"/>\n",
       "<circle clip-path=\"url(#clip6803)\" style=\"fill:#009af9; stroke:none; fill-opacity:1\" cx=\"878.676\" cy=\"1007.21\" r=\"14\"/>\n",
       "<circle clip-path=\"url(#clip6803)\" style=\"fill:#000000; stroke:none; fill-opacity:1\" cx=\"1105.53\" cy=\"989.376\" r=\"18\"/>\n",
       "<circle clip-path=\"url(#clip6803)\" style=\"fill:#009af9; stroke:none; fill-opacity:1\" cx=\"1105.53\" cy=\"989.376\" r=\"14\"/>\n",
       "<circle clip-path=\"url(#clip6803)\" style=\"fill:#000000; stroke:none; fill-opacity:1\" cx=\"1727.85\" cy=\"840.231\" r=\"18\"/>\n",
       "<circle clip-path=\"url(#clip6803)\" style=\"fill:#009af9; stroke:none; fill-opacity:1\" cx=\"1727.85\" cy=\"840.231\" r=\"14\"/>\n",
       "<circle clip-path=\"url(#clip6803)\" style=\"fill:#000000; stroke:none; fill-opacity:1\" cx=\"1199.24\" cy=\"1104.61\" r=\"18\"/>\n",
       "<circle clip-path=\"url(#clip6803)\" style=\"fill:#009af9; stroke:none; fill-opacity:1\" cx=\"1199.24\" cy=\"1104.61\" r=\"14\"/>\n",
       "<circle clip-path=\"url(#clip6803)\" style=\"fill:#000000; stroke:none; fill-opacity:1\" cx=\"1152.84\" cy=\"585.982\" r=\"18\"/>\n",
       "<circle clip-path=\"url(#clip6803)\" style=\"fill:#009af9; stroke:none; fill-opacity:1\" cx=\"1152.84\" cy=\"585.982\" r=\"14\"/>\n",
       "<circle clip-path=\"url(#clip6803)\" style=\"fill:#000000; stroke:none; fill-opacity:1\" cx=\"1472.87\" cy=\"907.522\" r=\"18\"/>\n",
       "<circle clip-path=\"url(#clip6803)\" style=\"fill:#009af9; stroke:none; fill-opacity:1\" cx=\"1472.87\" cy=\"907.522\" r=\"14\"/>\n",
       "<circle clip-path=\"url(#clip6803)\" style=\"fill:#000000; stroke:none; fill-opacity:1\" cx=\"1205.93\" cy=\"1172.59\" r=\"18\"/>\n",
       "<circle clip-path=\"url(#clip6803)\" style=\"fill:#009af9; stroke:none; fill-opacity:1\" cx=\"1205.93\" cy=\"1172.59\" r=\"14\"/>\n",
       "<circle clip-path=\"url(#clip6803)\" style=\"fill:#000000; stroke:none; fill-opacity:1\" cx=\"1299.98\" cy=\"1155.02\" r=\"18\"/>\n",
       "<circle clip-path=\"url(#clip6803)\" style=\"fill:#009af9; stroke:none; fill-opacity:1\" cx=\"1299.98\" cy=\"1155.02\" r=\"14\"/>\n",
       "<circle clip-path=\"url(#clip6803)\" style=\"fill:#000000; stroke:none; fill-opacity:1\" cx=\"1113.79\" cy=\"980.925\" r=\"18\"/>\n",
       "<circle clip-path=\"url(#clip6803)\" style=\"fill:#009af9; stroke:none; fill-opacity:1\" cx=\"1113.79\" cy=\"980.925\" r=\"14\"/>\n",
       "<circle clip-path=\"url(#clip6803)\" style=\"fill:#000000; stroke:none; fill-opacity:1\" cx=\"919.468\" cy=\"711.711\" r=\"18\"/>\n",
       "<circle clip-path=\"url(#clip6803)\" style=\"fill:#009af9; stroke:none; fill-opacity:1\" cx=\"919.468\" cy=\"711.711\" r=\"14\"/>\n",
       "<circle clip-path=\"url(#clip6803)\" style=\"fill:#000000; stroke:none; fill-opacity:1\" cx=\"1402.4\" cy=\"1021.6\" r=\"18\"/>\n",
       "<circle clip-path=\"url(#clip6803)\" style=\"fill:#009af9; stroke:none; fill-opacity:1\" cx=\"1402.4\" cy=\"1021.6\" r=\"14\"/>\n",
       "<circle clip-path=\"url(#clip6803)\" style=\"fill:#000000; stroke:none; fill-opacity:1\" cx=\"1428.99\" cy=\"891.036\" r=\"18\"/>\n",
       "<circle clip-path=\"url(#clip6803)\" style=\"fill:#009af9; stroke:none; fill-opacity:1\" cx=\"1428.99\" cy=\"891.036\" r=\"14\"/>\n",
       "<polygon clip-path=\"url(#clip6801)\" points=\"\n",
       "1620.67,251.724 1911.5,251.724 1911.5,130.764 1620.67,130.764 \n",
       "  \" fill=\"#ffffff\" fill-rule=\"evenodd\" fill-opacity=\"1\"/>\n",
       "<polyline clip-path=\"url(#clip6801)\" style=\"stroke:#000000; stroke-width:4; stroke-opacity:1; fill:none\" points=\"\n",
       "  1620.67,251.724 1911.5,251.724 1911.5,130.764 1620.67,130.764 1620.67,251.724 \n",
       "  \"/>\n",
       "<circle clip-path=\"url(#clip6801)\" style=\"fill:#000000; stroke:none; fill-opacity:1\" cx=\"1728.67\" cy=\"191.244\" r=\"25\"/>\n",
       "<circle clip-path=\"url(#clip6801)\" style=\"fill:#009af9; stroke:none; fill-opacity:1\" cx=\"1728.67\" cy=\"191.244\" r=\"21\"/>\n",
       "<g clip-path=\"url(#clip6801)\">\n",
       "<text style=\"fill:#000000; fill-opacity:1; font-family:Arial,Helvetica Neue,Helvetica,sans-serif; font-size:48px; text-anchor:start;\" transform=\"rotate(0, 1812.67, 208.744)\" x=\"1812.67\" y=\"208.744\">y1</text>\n",
       "</g>\n",
       "</svg>\n"
      ]
     },
     "execution_count": 190,
     "metadata": {},
     "output_type": "execute_result"
    }
   ],
   "source": [
    "using Plots\n",
    "regX = 2 .* (rand(100) .- 0.5)\n",
    "regY = 2 .* (rand(100) .- 0.5)\n",
    "regZ = 10 .+ ( ( regX.^2 + regY.^2) .+ 0.1 * (randn(100) .- 0.5) )\n",
    "scatter(regX, regY, regZ)"
   ]
  },
  {
   "cell_type": "code",
   "execution_count": 191,
   "metadata": {
    "collapsed": false
   },
   "outputs": [
    {
     "name": "stderr",
     "output_type": "stream",
     "text": [
      "┌ Info: Epoch 1\n",
      "└ @ Main /Users/hughmurrell/.julia/packages/Flux/UHjNa/src/optimise/train.jl:93\n"
     ]
    },
    {
     "name": "stdout",
     "output_type": "stream",
     "text": [
      "sum([loss(i[1], i[2]) for i = regData]) = 11453.046991741392 (tracked)\n",
      "sum([loss(i[1], i[2]) for i = regData]) = 11243.014627771017 (tracked)\n"
     ]
    },
    {
     "name": "stderr",
     "output_type": "stream",
     "text": [
      "┌ Info: Epoch 2\n",
      "└ @ Main /Users/hughmurrell/.julia/packages/Flux/UHjNa/src/optimise/train.jl:93\n"
     ]
    },
    {
     "name": "stdout",
     "output_type": "stream",
     "text": [
      "sum([loss(i[1], i[2]) for i = regData]) = 11035.134370570322 (tracked)\n",
      "sum([loss(i[1], i[2]) for i = regData]) = 10830.045674396057 (tracked)\n"
     ]
    },
    {
     "name": "stderr",
     "output_type": "stream",
     "text": [
      "┌ Info: Epoch 3\n",
      "└ @ Main /Users/hughmurrell/.julia/packages/Flux/UHjNa/src/optimise/train.jl:93\n",
      "┌ Info: Epoch 4\n",
      "└ @ Main /Users/hughmurrell/.julia/packages/Flux/UHjNa/src/optimise/train.jl:93\n"
     ]
    },
    {
     "name": "stdout",
     "output_type": "stream",
     "text": [
      "sum([loss(i[1], i[2]) for i = regData]) = 10627.742886536478 (tracked)\n"
     ]
    },
    {
     "name": "stderr",
     "output_type": "stream",
     "text": [
      "┌ Info: Epoch 5\n",
      "└ @ Main /Users/hughmurrell/.julia/packages/Flux/UHjNa/src/optimise/train.jl:93\n"
     ]
    },
    {
     "name": "stdout",
     "output_type": "stream",
     "text": [
      "sum([loss(i[1], i[2]) for i = regData]) = 10428.187751042033 (tracked)\n"
     ]
    },
    {
     "name": "stderr",
     "output_type": "stream",
     "text": [
      "┌ Info: Epoch 6\n",
      "└ @ Main /Users/hughmurrell/.julia/packages/Flux/UHjNa/src/optimise/train.jl:93\n"
     ]
    },
    {
     "name": "stdout",
     "output_type": "stream",
     "text": [
      "sum([loss(i[1], i[2]) for i = regData]) = 10231.336391377106 (tracked)\n",
      "sum([loss(i[1], i[2]) for i = regData]) = 10037.144051985571 (tracked)\n"
     ]
    },
    {
     "name": "stderr",
     "output_type": "stream",
     "text": [
      "┌ Info: Epoch 7\n",
      "└ @ Main /Users/hughmurrell/.julia/packages/Flux/UHjNa/src/optimise/train.jl:93\n",
      "┌ Info: Epoch 8\n",
      "└ @ Main /Users/hughmurrell/.julia/packages/Flux/UHjNa/src/optimise/train.jl:93\n"
     ]
    },
    {
     "name": "stdout",
     "output_type": "stream",
     "text": [
      "sum([loss(i[1], i[2]) for i = regData]) = 9845.56647924792 (tracked)\n",
      "sum([loss(i[1], i[2]) for i = regData]) = 9656.560438541135 (tracked)\n"
     ]
    },
    {
     "name": "stderr",
     "output_type": "stream",
     "text": [
      "┌ Info: Epoch 9\n",
      "└ @ Main /Users/hughmurrell/.julia/packages/Flux/UHjNa/src/optimise/train.jl:93\n",
      "┌ Info: Epoch 10\n",
      "└ @ Main /Users/hughmurrell/.julia/packages/Flux/UHjNa/src/optimise/train.jl:93\n"
     ]
    },
    {
     "name": "stdout",
     "output_type": "stream",
     "text": [
      "sum([loss(i[1], i[2]) for i = regData]) = 9470.083936766661 (tracked)\n"
     ]
    },
    {
     "name": "stderr",
     "output_type": "stream",
     "text": [
      "┌ Info: Epoch 11\n",
      "└ @ Main /Users/hughmurrell/.julia/packages/Flux/UHjNa/src/optimise/train.jl:93\n"
     ]
    },
    {
     "name": "stdout",
     "output_type": "stream",
     "text": [
      "sum([loss(i[1], i[2]) for i = regData]) = 9286.096324147944 (tracked)\n"
     ]
    },
    {
     "name": "stderr",
     "output_type": "stream",
     "text": [
      "┌ Info: Epoch 12\n",
      "└ @ Main /Users/hughmurrell/.julia/packages/Flux/UHjNa/src/optimise/train.jl:93\n"
     ]
    },
    {
     "name": "stdout",
     "output_type": "stream",
     "text": [
      "sum([loss(i[1], i[2]) for i = regData]) = 9104.558339368137 (tracked)\n"
     ]
    },
    {
     "name": "stderr",
     "output_type": "stream",
     "text": [
      "┌ Info: Epoch 13\n",
      "└ @ Main /Users/hughmurrell/.julia/packages/Flux/UHjNa/src/optimise/train.jl:93\n"
     ]
    },
    {
     "name": "stdout",
     "output_type": "stream",
     "text": [
      "sum([loss(i[1], i[2]) for i = regData]) = 8925.432125074733 (tracked)\n",
      "sum([loss(i[1], i[2]) for i = regData]) = 8748.681226389626 (tracked)\n"
     ]
    },
    {
     "name": "stderr",
     "output_type": "stream",
     "text": [
      "┌ Info: Epoch 14\n",
      "└ @ Main /Users/hughmurrell/.julia/packages/Flux/UHjNa/src/optimise/train.jl:93\n",
      "┌ Info: Epoch 15\n",
      "└ @ Main /Users/hughmurrell/.julia/packages/Flux/UHjNa/src/optimise/train.jl:93\n"
     ]
    },
    {
     "name": "stdout",
     "output_type": "stream",
     "text": [
      "sum([loss(i[1], i[2]) for i = regData]) = 8574.270578849982 (tracked)\n",
      "sum([loss(i[1], i[2]) for i = regData]) = 8402.166489290092 (tracked)\n"
     ]
    },
    {
     "name": "stderr",
     "output_type": "stream",
     "text": [
      "┌ Info: Epoch 16\n",
      "└ @ Main /Users/hughmurrell/.julia/packages/Flux/UHjNa/src/optimise/train.jl:93\n",
      "┌ Info: Epoch 17\n",
      "└ @ Main /Users/hughmurrell/.julia/packages/Flux/UHjNa/src/optimise/train.jl:93\n"
     ]
    },
    {
     "name": "stdout",
     "output_type": "stream",
     "text": [
      "sum([loss(i[1], i[2]) for i = regData]) = 8232.336611712675 (tracked)\n",
      "sum([loss(i[1], i[2]) for i = regData]) = 8064.7499194231095 (tracked)\n"
     ]
    },
    {
     "name": "stderr",
     "output_type": "stream",
     "text": [
      "┌ Info: Epoch 18\n",
      "└ @ Main /Users/hughmurrell/.julia/packages/Flux/UHjNa/src/optimise/train.jl:93\n",
      "┌ Info: Epoch 19\n",
      "└ @ Main /Users/hughmurrell/.julia/packages/Flux/UHjNa/src/optimise/train.jl:93\n"
     ]
    },
    {
     "name": "stdout",
     "output_type": "stream",
     "text": [
      "sum([loss(i[1], i[2]) for i = regData]) = 7899.376674270384 (tracked)\n",
      "sum([loss(i[1], i[2]) for i = regData]) = 7736.188393590108 (tracked)\n"
     ]
    },
    {
     "name": "stderr",
     "output_type": "stream",
     "text": [
      "┌ Info: Epoch 20\n",
      "└ @ Main /Users/hughmurrell/.julia/packages/Flux/UHjNa/src/optimise/train.jl:93\n",
      "┌ Info: Epoch 21\n",
      "└ @ Main /Users/hughmurrell/.julia/packages/Flux/UHjNa/src/optimise/train.jl:93\n"
     ]
    },
    {
     "name": "stdout",
     "output_type": "stream",
     "text": [
      "sum([loss(i[1], i[2]) for i = regData]) = 7575.157815296005 (tracked)\n"
     ]
    },
    {
     "name": "stderr",
     "output_type": "stream",
     "text": [
      "┌ Info: Epoch 22\n",
      "└ @ Main /Users/hughmurrell/.julia/packages/Flux/UHjNa/src/optimise/train.jl:93\n"
     ]
    },
    {
     "name": "stdout",
     "output_type": "stream",
     "text": [
      "sum([loss(i[1], i[2]) for i = regData]) = 7416.25886147391 (tracked)\n",
      "sum([loss(i[1], i[2]) for i = regData]) = 7259.466600772275 (tracked)\n"
     ]
    },
    {
     "name": "stderr",
     "output_type": "stream",
     "text": [
      "┌ Info: Epoch 23\n",
      "└ @ Main /Users/hughmurrell/.julia/packages/Flux/UHjNa/src/optimise/train.jl:93\n",
      "┌ Info: Epoch 24\n",
      "└ @ Main /Users/hughmurrell/.julia/packages/Flux/UHjNa/src/optimise/train.jl:93\n"
     ]
    },
    {
     "name": "stdout",
     "output_type": "stream",
     "text": [
      "sum([loss(i[1], i[2]) for i = regData]) = 7104.757209842989 (tracked)\n"
     ]
    },
    {
     "name": "stderr",
     "output_type": "stream",
     "text": [
      "┌ Info: Epoch 25\n",
      "└ @ Main /Users/hughmurrell/.julia/packages/Flux/UHjNa/src/optimise/train.jl:93\n"
     ]
    },
    {
     "name": "stdout",
     "output_type": "stream",
     "text": [
      "sum([loss(i[1], i[2]) for i = regData]) = 6952.107934057263 (tracked)\n",
      "sum([loss(i[1], i[2]) for i = regData]) = 6801.497047699852 (tracked)\n"
     ]
    },
    {
     "name": "stderr",
     "output_type": "stream",
     "text": [
      "┌ Info: Epoch 26\n",
      "└ @ Main /Users/hughmurrell/.julia/packages/Flux/UHjNa/src/optimise/train.jl:93\n",
      "┌ Info: Epoch 27\n",
      "└ @ Main /Users/hughmurrell/.julia/packages/Flux/UHjNa/src/optimise/train.jl:93\n"
     ]
    },
    {
     "name": "stdout",
     "output_type": "stream",
     "text": [
      "sum([loss(i[1], i[2]) for i = regData]) = 6652.903813827176 (tracked)\n",
      "sum([loss(i[1], i[2]) for i = regData]) = 6506.308443960071 (tracked)\n"
     ]
    },
    {
     "name": "stderr",
     "output_type": "stream",
     "text": [
      "┌ Info: Epoch 28\n",
      "└ @ Main /Users/hughmurrell/.julia/packages/Flux/UHjNa/src/optimise/train.jl:93\n",
      "┌ Info: Epoch 29\n",
      "└ @ Main /Users/hughmurrell/.julia/packages/Flux/UHjNa/src/optimise/train.jl:93\n"
     ]
    },
    {
     "name": "stdout",
     "output_type": "stream",
     "text": [
      "sum([loss(i[1], i[2]) for i = regData]) = 6361.692057768331 (tracked)\n"
     ]
    },
    {
     "name": "stderr",
     "output_type": "stream",
     "text": [
      "┌ Info: Epoch 30\n",
      "└ @ Main /Users/hughmurrell/.julia/packages/Flux/UHjNa/src/optimise/train.jl:93\n"
     ]
    },
    {
     "name": "stdout",
     "output_type": "stream",
     "text": [
      "sum([loss(i[1], i[2]) for i = regData]) = 6219.036642891857 (tracked)\n"
     ]
    },
    {
     "name": "stderr",
     "output_type": "stream",
     "text": [
      "┌ Info: Epoch 31\n",
      "└ @ Main /Users/hughmurrell/.julia/packages/Flux/UHjNa/src/optimise/train.jl:93\n"
     ]
    },
    {
     "name": "stdout",
     "output_type": "stream",
     "text": [
      "sum([loss(i[1], i[2]) for i = regData]) = 6078.325015031053 (tracked)\n"
     ]
    },
    {
     "name": "stderr",
     "output_type": "stream",
     "text": [
      "┌ Info: Epoch 32\n",
      "└ @ Main /Users/hughmurrell/.julia/packages/Flux/UHjNa/src/optimise/train.jl:93\n"
     ]
    },
    {
     "name": "stdout",
     "output_type": "stream",
     "text": [
      "sum([loss(i[1], i[2]) for i = regData]) = 5939.540778427645 (tracked)\n",
      "sum([loss(i[1], i[2]) for i = regData]) = 5802.668286845446 (tracked)\n"
     ]
    },
    {
     "name": "stderr",
     "output_type": "stream",
     "text": [
      "┌ Info: Epoch 33\n",
      "└ @ Main /Users/hughmurrell/.julia/packages/Flux/UHjNa/src/optimise/train.jl:93\n",
      "┌ Info: Epoch 34\n",
      "└ @ Main /Users/hughmurrell/.julia/packages/Flux/UHjNa/src/optimise/train.jl:93\n"
     ]
    },
    {
     "name": "stdout",
     "output_type": "stream",
     "text": [
      "sum([loss(i[1], i[2]) for i = regData]) = 5667.692605149671 (tracked)\n"
     ]
    },
    {
     "name": "stderr",
     "output_type": "stream",
     "text": [
      "┌ Info: Epoch 35\n",
      "└ @ Main /Users/hughmurrell/.julia/packages/Flux/UHjNa/src/optimise/train.jl:93\n"
     ]
    },
    {
     "name": "stdout",
     "output_type": "stream",
     "text": [
      "sum([loss(i[1], i[2]) for i = regData]) = 5534.599471572234 (tracked)\n",
      "sum([loss(i[1], i[2]) for i = regData]) = 5403.375260739834 (tracked)\n"
     ]
    },
    {
     "name": "stderr",
     "output_type": "stream",
     "text": [
      "┌ Info: Epoch 36\n",
      "└ @ Main /Users/hughmurrell/.julia/packages/Flux/UHjNa/src/optimise/train.jl:93\n",
      "┌ Info: Epoch 37\n",
      "└ @ Main /Users/hughmurrell/.julia/packages/Flux/UHjNa/src/optimise/train.jl:93\n"
     ]
    },
    {
     "name": "stdout",
     "output_type": "stream",
     "text": [
      "sum([loss(i[1], i[2]) for i = regData]) = 5274.00694753123 (tracked)\n"
     ]
    },
    {
     "name": "stderr",
     "output_type": "stream",
     "text": [
      "┌ Info: Epoch 38\n",
      "└ @ Main /Users/hughmurrell/.julia/packages/Flux/UHjNa/src/optimise/train.jl:93\n"
     ]
    },
    {
     "name": "stdout",
     "output_type": "stream",
     "text": [
      "sum([loss(i[1], i[2]) for i = regData]) = 5146.482071820014 (tracked)\n"
     ]
    },
    {
     "name": "stderr",
     "output_type": "stream",
     "text": [
      "┌ Info: Epoch 39\n",
      "└ @ Main /Users/hughmurrell/.julia/packages/Flux/UHjNa/src/optimise/train.jl:93\n"
     ]
    },
    {
     "name": "stdout",
     "output_type": "stream",
     "text": [
      "sum([loss(i[1], i[2]) for i = regData]) = 5020.788704149634 (tracked)\n",
      "sum([loss(i[1], i[2]) for i = regData]) = 4896.9154123780845 (tracked)\n"
     ]
    },
    {
     "name": "stderr",
     "output_type": "stream",
     "text": [
      "┌ Info: Epoch 40\n",
      "└ @ Main /Users/hughmurrell/.julia/packages/Flux/UHjNa/src/optimise/train.jl:93\n",
      "┌ Info: Epoch 41\n",
      "└ @ Main /Users/hughmurrell/.julia/packages/Flux/UHjNa/src/optimise/train.jl:93\n"
     ]
    },
    {
     "name": "stdout",
     "output_type": "stream",
     "text": [
      "sum([loss(i[1], i[2]) for i = regData]) = 4774.851229321079 (tracked)\n",
      "sum([loss(i[1], i[2]) for i = regData]) = 4654.585621414305 (tracked)\n"
     ]
    },
    {
     "name": "stderr",
     "output_type": "stream",
     "text": [
      "┌ Info: Epoch 42\n",
      "└ @ Main /Users/hughmurrell/.julia/packages/Flux/UHjNa/src/optimise/train.jl:93\n",
      "┌ Info: Epoch 43\n",
      "└ @ Main /Users/hughmurrell/.julia/packages/Flux/UHjNa/src/optimise/train.jl:93\n"
     ]
    },
    {
     "name": "stdout",
     "output_type": "stream",
     "text": [
      "sum([loss(i[1], i[2]) for i = regData]) = 4536.108458407594 (tracked)\n",
      "sum([loss(i[1], i[2]) for i = regData]) = 4419.409984096911 (tracked)\n",
      "sum([loss(i[1], i[2]) for i = regData]) = 4304.480788093355 (tracked)\n",
      "sum([loss(i[1], i[2]) for i = regData]) = 4191.311778622497 (tracked)\n"
     ]
    },
    {
     "name": "stderr",
     "output_type": "stream",
     "text": [
      "┌ Info: Epoch 44\n",
      "└ @ Main /Users/hughmurrell/.julia/packages/Flux/UHjNa/src/optimise/train.jl:93\n",
      "┌ Info: Epoch 45\n",
      "└ @ Main /Users/hughmurrell/.julia/packages/Flux/UHjNa/src/optimise/train.jl:93\n",
      "┌ Info: Epoch 46\n",
      "└ @ Main /Users/hughmurrell/.julia/packages/Flux/UHjNa/src/optimise/train.jl:93\n",
      "┌ Info: Epoch 47\n",
      "└ @ Main /Users/hughmurrell/.julia/packages/Flux/UHjNa/src/optimise/train.jl:93\n"
     ]
    },
    {
     "name": "stdout",
     "output_type": "stream",
     "text": [
      "sum([loss(i[1], i[2]) for i = regData]) = 4079.894156341906 (tracked)\n",
      "sum([loss(i[1], i[2]) for i = regData]) = 3970.219389159799 (tracked)\n",
      "sum([loss(i[1], i[2]) for i = regData]) = 3862.2791880334935 (tracked)\n"
     ]
    },
    {
     "name": "stderr",
     "output_type": "stream",
     "text": [
      "┌ Info: Epoch 48\n",
      "└ @ Main /Users/hughmurrell/.julia/packages/Flux/UHjNa/src/optimise/train.jl:93\n",
      "┌ Info: Epoch 49\n",
      "└ @ Main /Users/hughmurrell/.julia/packages/Flux/UHjNa/src/optimise/train.jl:93\n",
      "┌ Info: Epoch 50\n",
      "└ @ Main /Users/hughmurrell/.julia/packages/Flux/UHjNa/src/optimise/train.jl:93\n"
     ]
    },
    {
     "name": "stdout",
     "output_type": "stream",
     "text": [
      "sum([loss(i[1], i[2]) for i = regData]) = 3756.0654837224215 (tracked)\n",
      "sum([loss(i[1], i[2]) for i = regData]) = 3651.5704044670747 (tracked)\n",
      "sum([loss(i[1], i[2]) for i = regData]) = 3548.7862545624807 (tracked)\n"
     ]
    },
    {
     "name": "stderr",
     "output_type": "stream",
     "text": [
      "┌ Info: Epoch 51\n",
      "└ @ Main /Users/hughmurrell/.julia/packages/Flux/UHjNa/src/optimise/train.jl:93\n",
      "┌ Info: Epoch 52\n",
      "└ @ Main /Users/hughmurrell/.julia/packages/Flux/UHjNa/src/optimise/train.jl:93\n",
      "┌ Info: Epoch 53\n",
      "└ @ Main /Users/hughmurrell/.julia/packages/Flux/UHjNa/src/optimise/train.jl:93\n"
     ]
    },
    {
     "name": "stdout",
     "output_type": "stream",
     "text": [
      "sum([loss(i[1], i[2]) for i = regData]) = 3447.70549379214 (tracked)\n",
      "sum([loss(i[1], i[2]) for i = regData]) = 3348.3207176864526 (tracked)\n",
      "sum([loss(i[1], i[2]) for i = regData]) = 3250.624638567758 (tracked)\n",
      "sum([loss(i[1], i[2]) for i = regData]) = 3154.610067342986 (tracked)\n"
     ]
    },
    {
     "name": "stderr",
     "output_type": "stream",
     "text": [
      "┌ Info: Epoch 54\n",
      "└ @ Main /Users/hughmurrell/.julia/packages/Flux/UHjNa/src/optimise/train.jl:93\n",
      "┌ Info: Epoch 55\n",
      "└ @ Main /Users/hughmurrell/.julia/packages/Flux/UHjNa/src/optimise/train.jl:93\n",
      "┌ Info: Epoch 56\n",
      "└ @ Main /Users/hughmurrell/.julia/packages/Flux/UHjNa/src/optimise/train.jl:93\n",
      "┌ Info: Epoch 57\n",
      "└ @ Main /Users/hughmurrell/.julia/packages/Flux/UHjNa/src/optimise/train.jl:93\n"
     ]
    },
    {
     "name": "stdout",
     "output_type": "stream",
     "text": [
      "sum([loss(i[1], i[2]) for i = regData]) = 3060.269896003534 (tracked)\n",
      "sum([loss(i[1], i[2]) for i = regData]) = 2967.59708079141 (tracked)\n",
      "sum([loss(i[1], i[2]) for i = regData]) = 2876.5846259900995 (tracked)\n"
     ]
    },
    {
     "name": "stderr",
     "output_type": "stream",
     "text": [
      "┌ Info: Epoch 58\n",
      "└ @ Main /Users/hughmurrell/.julia/packages/Flux/UHjNa/src/optimise/train.jl:93\n",
      "┌ Info: Epoch 59\n",
      "└ @ Main /Users/hughmurrell/.julia/packages/Flux/UHjNa/src/optimise/train.jl:93\n",
      "┌ Info: Epoch 60\n",
      "└ @ Main /Users/hughmurrell/.julia/packages/Flux/UHjNa/src/optimise/train.jl:93\n"
     ]
    },
    {
     "name": "stdout",
     "output_type": "stream",
     "text": [
      "sum([loss(i[1], i[2]) for i = regData]) = 2787.225568298062 (tracked)\n",
      "sum([loss(i[1], i[2]) for i = regData]) = 2699.5129617429225 (tracked)\n"
     ]
    },
    {
     "name": "stderr",
     "output_type": "stream",
     "text": [
      "┌ Info: Epoch 61\n",
      "└ @ Main /Users/hughmurrell/.julia/packages/Flux/UHjNa/src/optimise/train.jl:93\n",
      "┌ Info: Epoch 62\n",
      "└ @ Main /Users/hughmurrell/.julia/packages/Flux/UHjNa/src/optimise/train.jl:93\n"
     ]
    },
    {
     "name": "stdout",
     "output_type": "stream",
     "text": [
      "sum([loss(i[1], i[2]) for i = regData]) = 2613.4398630941764 (tracked)\n",
      "sum([loss(i[1], i[2]) for i = regData]) = 2528.999317732467 (tracked)\n"
     ]
    },
    {
     "name": "stderr",
     "output_type": "stream",
     "text": [
      "┌ Info: Epoch 63\n",
      "└ @ Main /Users/hughmurrell/.julia/packages/Flux/UHjNa/src/optimise/train.jl:93\n",
      "┌ Info: Epoch 64\n",
      "└ @ Main /Users/hughmurrell/.julia/packages/Flux/UHjNa/src/optimise/train.jl:93\n"
     ]
    },
    {
     "name": "stdout",
     "output_type": "stream",
     "text": [
      "sum([loss(i[1], i[2]) for i = regData]) = 2446.1843459337692 (tracked)\n",
      "sum([loss(i[1], i[2]) for i = regData]) = 2364.9879295271935 (tracked)\n",
      "sum([loss(i[1], i[2]) for i = regData]) = 2285.4029988853945 (tracked)\n"
     ]
    },
    {
     "name": "stderr",
     "output_type": "stream",
     "text": [
      "┌ Info: Epoch 65\n",
      "└ @ Main /Users/hughmurrell/.julia/packages/Flux/UHjNa/src/optimise/train.jl:93\n",
      "┌ Info: Epoch 66\n",
      "└ @ Main /Users/hughmurrell/.julia/packages/Flux/UHjNa/src/optimise/train.jl:93\n",
      "┌ Info: Epoch 67\n",
      "└ @ Main /Users/hughmurrell/.julia/packages/Flux/UHjNa/src/optimise/train.jl:93\n"
     ]
    },
    {
     "name": "stdout",
     "output_type": "stream",
     "text": [
      "sum([loss(i[1], i[2]) for i = regData]) = 2207.4224202073174 (tracked)\n",
      "sum([loss(i[1], i[2]) for i = regData]) = 2131.0389830533454 (tracked)\n",
      "sum([loss(i[1], i[2]) for i = regData]) = 2056.2453880935896 (tracked)\n"
     ]
    },
    {
     "name": "stderr",
     "output_type": "stream",
     "text": [
      "┌ Info: Epoch 68\n",
      "└ @ Main /Users/hughmurrell/.julia/packages/Flux/UHjNa/src/optimise/train.jl:93\n",
      "┌ Info: Epoch 69\n",
      "└ @ Main /Users/hughmurrell/.julia/packages/Flux/UHjNa/src/optimise/train.jl:93\n",
      "┌ Info: Epoch 70\n",
      "└ @ Main /Users/hughmurrell/.julia/packages/Flux/UHjNa/src/optimise/train.jl:93\n"
     ]
    },
    {
     "name": "stdout",
     "output_type": "stream",
     "text": [
      "sum([loss(i[1], i[2]) for i = regData]) = 1983.0342350306776 (tracked)\n",
      "sum([loss(i[1], i[2]) for i = regData]) = 1911.3980106588872 (tracked)\n",
      "sum([loss(i[1], i[2]) for i = regData]) = 1841.329077022221 (tracked)\n"
     ]
    },
    {
     "name": "stderr",
     "output_type": "stream",
     "text": [
      "┌ Info: Epoch 71\n",
      "└ @ Main /Users/hughmurrell/.julia/packages/Flux/UHjNa/src/optimise/train.jl:93\n",
      "┌ Info: Epoch 72\n",
      "└ @ Main /Users/hughmurrell/.julia/packages/Flux/UHjNa/src/optimise/train.jl:93\n",
      "┌ Info: Epoch 73\n",
      "└ @ Main /Users/hughmurrell/.julia/packages/Flux/UHjNa/src/optimise/train.jl:93\n"
     ]
    },
    {
     "name": "stdout",
     "output_type": "stream",
     "text": [
      "sum([loss(i[1], i[2]) for i = regData]) = 1772.8196596345845 (tracked)\n",
      "sum([loss(i[1], i[2]) for i = regData]) = 1705.8618357258001 (tracked)\n",
      "sum([loss(i[1], i[2]) for i = regData]) = 1640.447522477891 (tracked)\n"
     ]
    },
    {
     "name": "stderr",
     "output_type": "stream",
     "text": [
      "┌ Info: Epoch 74\n",
      "└ @ Main /Users/hughmurrell/.julia/packages/Flux/UHjNa/src/optimise/train.jl:93\n",
      "┌ Info: Epoch 75\n",
      "└ @ Main /Users/hughmurrell/.julia/packages/Flux/UHjNa/src/optimise/train.jl:93\n",
      "┌ Info: Epoch 76\n",
      "└ @ Main /Users/hughmurrell/.julia/packages/Flux/UHjNa/src/optimise/train.jl:93\n",
      "┌ Info: Epoch 77\n",
      "└ @ Main /Users/hughmurrell/.julia/packages/Flux/UHjNa/src/optimise/train.jl:93\n"
     ]
    },
    {
     "name": "stdout",
     "output_type": "stream",
     "text": [
      "sum([loss(i[1], i[2]) for i = regData]) = 1576.5684652165787 (tracked)\n",
      "sum([loss(i[1], i[2]) for i = regData]) = 1514.2162255236362 (tracked)\n",
      "sum([loss(i[1], i[2]) for i = regData]) = 1453.3821692362662 (tracked)\n"
     ]
    },
    {
     "name": "stderr",
     "output_type": "stream",
     "text": [
      "┌ Info: Epoch 78\n",
      "└ @ Main /Users/hughmurrell/.julia/packages/Flux/UHjNa/src/optimise/train.jl:93\n",
      "┌ Info: Epoch 79\n",
      "└ @ Main /Users/hughmurrell/.julia/packages/Flux/UHjNa/src/optimise/train.jl:93\n"
     ]
    },
    {
     "name": "stdout",
     "output_type": "stream",
     "text": [
      "sum([loss(i[1], i[2]) for i = regData]) = 1394.0574543003704 (tracked)\n",
      "sum([loss(i[1], i[2]) for i = regData]) = 1336.2330184452308 (tracked)\n",
      "sum([loss(i[1], i[2]) for i = regData]) = 1279.899566647735 (tracked)\n",
      "sum([loss(i[1], i[2]) for i = regData]) = 1225.0475583551342 (tracked)\n"
     ]
    },
    {
     "name": "stderr",
     "output_type": "stream",
     "text": [
      "┌ Info: Epoch 80\n",
      "└ @ Main /Users/hughmurrell/.julia/packages/Flux/UHjNa/src/optimise/train.jl:93\n",
      "┌ Info: Epoch 81\n",
      "└ @ Main /Users/hughmurrell/.julia/packages/Flux/UHjNa/src/optimise/train.jl:93\n",
      "┌ Info: Epoch 82\n",
      "└ @ Main /Users/hughmurrell/.julia/packages/Flux/UHjNa/src/optimise/train.jl:93\n",
      "┌ Info: Epoch 83\n",
      "└ @ Main /Users/hughmurrell/.julia/packages/Flux/UHjNa/src/optimise/train.jl:93\n"
     ]
    },
    {
     "name": "stdout",
     "output_type": "stream",
     "text": [
      "sum([loss(i[1], i[2]) for i = regData]) = 1171.667194436087 (tracked)\n",
      "sum([loss(i[1], i[2]) for i = regData]) = 1119.7484038306657 (tracked)\n",
      "sum([loss(i[1], i[2]) for i = regData]) = 1069.2808298711564 (tracked)\n"
     ]
    },
    {
     "name": "stderr",
     "output_type": "stream",
     "text": [
      "┌ Info: Epoch 84\n",
      "└ @ Main /Users/hughmurrell/.julia/packages/Flux/UHjNa/src/optimise/train.jl:93\n",
      "┌ Info: Epoch 85\n",
      "└ @ Main /Users/hughmurrell/.julia/packages/Flux/UHjNa/src/optimise/train.jl:93\n",
      "┌ Info: Epoch 86\n",
      "└ @ Main /Users/hughmurrell/.julia/packages/Flux/UHjNa/src/optimise/train.jl:93\n"
     ]
    },
    {
     "name": "stdout",
     "output_type": "stream",
     "text": [
      "sum([loss(i[1], i[2]) for i = regData]) = 1020.2538162465825 (tracked)\n",
      "sum([loss(i[1], i[2]) for i = regData]) = 972.656392585491 (tracked)\n"
     ]
    },
    {
     "name": "stderr",
     "output_type": "stream",
     "text": [
      "┌ Info: Epoch 87\n",
      "└ @ Main /Users/hughmurrell/.julia/packages/Flux/UHjNa/src/optimise/train.jl:93\n",
      "┌ Info: Epoch 88\n",
      "└ @ Main /Users/hughmurrell/.julia/packages/Flux/UHjNa/src/optimise/train.jl:93\n"
     ]
    },
    {
     "name": "stdout",
     "output_type": "stream",
     "text": [
      "sum([loss(i[1], i[2]) for i = regData]) = 926.4772596331075 (tracked)\n",
      "sum([loss(i[1], i[2]) for i = regData]) = 881.704774001126 (tracked)\n",
      "sum([loss(i[1], i[2]) for i = regData]) = 838.3269324707326 (tracked)\n"
     ]
    },
    {
     "name": "stderr",
     "output_type": "stream",
     "text": [
      "┌ Info: Epoch 89\n",
      "└ @ Main /Users/hughmurrell/.julia/packages/Flux/UHjNa/src/optimise/train.jl:93\n",
      "┌ Info: Epoch 90\n",
      "└ @ Main /Users/hughmurrell/.julia/packages/Flux/UHjNa/src/optimise/train.jl:93\n",
      "┌ Info: Epoch 91\n",
      "└ @ Main /Users/hughmurrell/.julia/packages/Flux/UHjNa/src/optimise/train.jl:93\n"
     ]
    },
    {
     "name": "stdout",
     "output_type": "stream",
     "text": [
      "sum([loss(i[1], i[2]) for i = regData]) = 796.3313558323788 (tracked)\n",
      "sum([loss(i[1], i[2]) for i = regData]) = 755.7052722493083 (tracked)\n",
      "sum([loss(i[1], i[2]) for i = regData]) = 716.4355001357941 (tracked)\n"
     ]
    },
    {
     "name": "stderr",
     "output_type": "stream",
     "text": [
      "┌ Info: Epoch 92\n",
      "└ @ Main /Users/hughmurrell/.julia/packages/Flux/UHjNa/src/optimise/train.jl:93\n",
      "┌ Info: Epoch 93\n",
      "└ @ Main /Users/hughmurrell/.julia/packages/Flux/UHjNa/src/optimise/train.jl:93\n",
      "┌ Info: Epoch 94\n",
      "└ @ Main /Users/hughmurrell/.julia/packages/Flux/UHjNa/src/optimise/train.jl:93\n"
     ]
    },
    {
     "name": "stdout",
     "output_type": "stream",
     "text": [
      "sum([loss(i[1], i[2]) for i = regData]) = 678.5084305460844 (tracked)\n",
      "sum([loss(i[1], i[2]) for i = regData]) = 641.9100090756823 (tracked)\n",
      "sum([loss(i[1], i[2]) for i = regData]) = 606.6257172834383 (tracked)\n",
      "sum([loss(i[1], i[2]) for i = regData]) = 572.640553650976 (tracked)\n"
     ]
    },
    {
     "name": "stderr",
     "output_type": "stream",
     "text": [
      "┌ Info: Epoch 95\n",
      "└ @ Main /Users/hughmurrell/.julia/packages/Flux/UHjNa/src/optimise/train.jl:93\n",
      "┌ Info: Epoch 96\n",
      "└ @ Main /Users/hughmurrell/.julia/packages/Flux/UHjNa/src/optimise/train.jl:93\n",
      "┌ Info: Epoch 97\n",
      "└ @ Main /Users/hughmurrell/.julia/packages/Flux/UHjNa/src/optimise/train.jl:93\n",
      "┌ Info: Epoch 98\n",
      "└ @ Main /Users/hughmurrell/.julia/packages/Flux/UHjNa/src/optimise/train.jl:93\n"
     ]
    },
    {
     "name": "stdout",
     "output_type": "stream",
     "text": [
      "sum([loss(i[1], i[2]) for i = regData]) = 539.9390141054192 (tracked)\n",
      "sum([loss(i[1], i[2]) for i = regData]) = 508.50507214244396 (tracked)\n",
      "sum([loss(i[1], i[2]) for i = regData]) = 478.3221585995878 (tracked)\n",
      "sum([loss(i[1], i[2]) for i = regData]) = 449.3731411448135 (tracked)\n"
     ]
    },
    {
     "name": "stderr",
     "output_type": "stream",
     "text": [
      "┌ Info: Epoch 99\n",
      "└ @ Main /Users/hughmurrell/.julia/packages/Flux/UHjNa/src/optimise/train.jl:93\n",
      "┌ Info: Epoch 100\n",
      "└ @ Main /Users/hughmurrell/.julia/packages/Flux/UHjNa/src/optimise/train.jl:93\n",
      "┌ Info: Epoch 101\n",
      "└ @ Main /Users/hughmurrell/.julia/packages/Flux/UHjNa/src/optimise/train.jl:93\n",
      "┌ Info: Epoch 102\n",
      "└ @ Main /Users/hughmurrell/.julia/packages/Flux/UHjNa/src/optimise/train.jl:93\n"
     ]
    },
    {
     "name": "stdout",
     "output_type": "stream",
     "text": [
      "sum([loss(i[1], i[2]) for i = regData]) = 421.6403035627322 (tracked)\n"
     ]
    },
    {
     "name": "stderr",
     "output_type": "stream",
     "text": [
      "┌ Info: Epoch 103\n",
      "└ @ Main /Users/hughmurrell/.julia/packages/Flux/UHjNa/src/optimise/train.jl:93\n"
     ]
    },
    {
     "name": "stdout",
     "output_type": "stream",
     "text": [
      "sum([loss(i[1], i[2]) for i = regData]) = 395.10532494103217 (tracked)\n"
     ]
    },
    {
     "name": "stderr",
     "output_type": "stream",
     "text": [
      "┌ Info: Epoch 104\n",
      "└ @ Main /Users/hughmurrell/.julia/packages/Flux/UHjNa/src/optimise/train.jl:93\n"
     ]
    },
    {
     "name": "stdout",
     "output_type": "stream",
     "text": [
      "sum([loss(i[1], i[2]) for i = regData]) = 369.749258882839 (tracked)\n",
      "sum([loss(i[1], i[2]) for i = regData]) = 345.5525128971158 (tracked)\n"
     ]
    },
    {
     "name": "stderr",
     "output_type": "stream",
     "text": [
      "┌ Info: Epoch 105\n",
      "└ @ Main /Users/hughmurrell/.julia/packages/Flux/UHjNa/src/optimise/train.jl:93\n",
      "┌ Info: Epoch 106\n",
      "└ @ Main /Users/hughmurrell/.julia/packages/Flux/UHjNa/src/optimise/train.jl:93\n"
     ]
    },
    {
     "name": "stdout",
     "output_type": "stream",
     "text": [
      "sum([loss(i[1], i[2]) for i = regData]) = 322.49482814955536 (tracked)\n",
      "sum([loss(i[1], i[2]) for i = regData]) = 300.5552597904612 (tracked)\n",
      "sum([loss(i[1], i[2]) for i = regData]) = 279.71215811465663 (tracked)\n"
     ]
    },
    {
     "name": "stderr",
     "output_type": "stream",
     "text": [
      "┌ Info: Epoch 107\n",
      "└ @ Main /Users/hughmurrell/.julia/packages/Flux/UHjNa/src/optimise/train.jl:93\n",
      "┌ Info: Epoch 108\n",
      "└ @ Main /Users/hughmurrell/.julia/packages/Flux/UHjNa/src/optimise/train.jl:93\n",
      "┌ Info: Epoch 109\n",
      "└ @ Main /Users/hughmurrell/.julia/packages/Flux/UHjNa/src/optimise/train.jl:93\n"
     ]
    },
    {
     "name": "stdout",
     "output_type": "stream",
     "text": [
      "sum([loss(i[1], i[2]) for i = regData]) = 259.9431508514435 (tracked)\n"
     ]
    },
    {
     "name": "stderr",
     "output_type": "stream",
     "text": [
      "┌ Info: Epoch 110\n",
      "└ @ Main /Users/hughmurrell/.julia/packages/Flux/UHjNa/src/optimise/train.jl:93\n",
      "┌ Info: Epoch 111\n",
      "└ @ Main /Users/hughmurrell/.julia/packages/Flux/UHjNa/src/optimise/train.jl:93\n"
     ]
    },
    {
     "name": "stdout",
     "output_type": "stream",
     "text": [
      "sum([loss(i[1], i[2]) for i = regData]) = 241.22512693046673 (tracked)\n",
      "sum([loss(i[1], i[2]) for i = regData]) = 223.53422212168923 (tracked)\n",
      "sum([loss(i[1], i[2]) for i = regData]) = 206.8458070048584 (tracked)\n"
     ]
    },
    {
     "name": "stderr",
     "output_type": "stream",
     "text": [
      "┌ Info: Epoch 112\n",
      "└ @ Main /Users/hughmurrell/.julia/packages/Flux/UHjNa/src/optimise/train.jl:93\n",
      "┌ Info: Epoch 113\n",
      "└ @ Main /Users/hughmurrell/.julia/packages/Flux/UHjNa/src/optimise/train.jl:93\n"
     ]
    },
    {
     "name": "stdout",
     "output_type": "stream",
     "text": [
      "sum([loss(i[1], i[2]) for i = regData]) = 191.13447778509135 (tracked)\n",
      "sum([loss(i[1], i[2]) for i = regData]) = 176.37405053610942 (tracked)\n"
     ]
    },
    {
     "name": "stderr",
     "output_type": "stream",
     "text": [
      "┌ Info: Epoch 114\n",
      "└ @ Main /Users/hughmurrell/.julia/packages/Flux/UHjNa/src/optimise/train.jl:93\n",
      "┌ Info: Epoch 115\n",
      "└ @ Main /Users/hughmurrell/.julia/packages/Flux/UHjNa/src/optimise/train.jl:93\n"
     ]
    },
    {
     "name": "stdout",
     "output_type": "stream",
     "text": [
      "sum([loss(i[1], i[2]) for i = regData]) = 162.53755951982345 (tracked)\n",
      "sum([loss(i[1], i[2]) for i = regData]) = 149.59726029908063 (tracked)\n"
     ]
    },
    {
     "name": "stderr",
     "output_type": "stream",
     "text": [
      "┌ Info: Epoch 116\n",
      "└ @ Main /Users/hughmurrell/.julia/packages/Flux/UHjNa/src/optimise/train.jl:93\n",
      "┌ Info: Epoch 117\n",
      "└ @ Main /Users/hughmurrell/.julia/packages/Flux/UHjNa/src/optimise/train.jl:93\n"
     ]
    },
    {
     "name": "stdout",
     "output_type": "stream",
     "text": [
      "sum([loss(i[1], i[2]) for i = regData]) = 137.52463842694004 (tracked)\n",
      "sum([loss(i[1], i[2]) for i = regData]) = 126.29042455793676 (tracked)\n"
     ]
    },
    {
     "name": "stderr",
     "output_type": "stream",
     "text": [
      "┌ Info: Epoch 118\n",
      "└ @ Main /Users/hughmurrell/.julia/packages/Flux/UHjNa/src/optimise/train.jl:93\n",
      "┌ Info: Epoch 119\n",
      "└ @ Main /Users/hughmurrell/.julia/packages/Flux/UHjNa/src/optimise/train.jl:93\n"
     ]
    },
    {
     "name": "stdout",
     "output_type": "stream",
     "text": [
      "sum([loss(i[1], i[2]) for i = regData]) = 115.86461688049019 (tracked)\n",
      "sum([loss(i[1], i[2]) for i = regData]) = 106.21651181000787 (tracked)\n"
     ]
    },
    {
     "name": "stderr",
     "output_type": "stream",
     "text": [
      "┌ Info: Epoch 120\n",
      "└ @ Main /Users/hughmurrell/.julia/packages/Flux/UHjNa/src/optimise/train.jl:93\n",
      "┌ Info: Epoch 121\n",
      "└ @ Main /Users/hughmurrell/.julia/packages/Flux/UHjNa/src/optimise/train.jl:93\n"
     ]
    },
    {
     "name": "stdout",
     "output_type": "stream",
     "text": [
      "sum([loss(i[1], i[2]) for i = regData]) = 97.31474390336298 (tracked)\n"
     ]
    },
    {
     "name": "stderr",
     "output_type": "stream",
     "text": [
      "┌ Info: Epoch 122\n",
      "└ @ Main /Users/hughmurrell/.julia/packages/Flux/UHjNa/src/optimise/train.jl:93\n"
     ]
    },
    {
     "name": "stdout",
     "output_type": "stream",
     "text": [
      "sum([loss(i[1], i[2]) for i = regData]) = 89.12733595010265 (tracked)\n",
      "sum([loss(i[1], i[2]) for i = regData]) = 81.62176015605644 (tracked)\n"
     ]
    },
    {
     "name": "stderr",
     "output_type": "stream",
     "text": [
      "┌ Info: Epoch 123\n",
      "└ @ Main /Users/hughmurrell/.julia/packages/Flux/UHjNa/src/optimise/train.jl:93\n",
      "┌ Info: Epoch 124\n",
      "└ @ Main /Users/hughmurrell/.julia/packages/Flux/UHjNa/src/optimise/train.jl:93\n"
     ]
    },
    {
     "name": "stdout",
     "output_type": "stream",
     "text": [
      "sum([loss(i[1], i[2]) for i = regData]) = 74.76501125171906 (tracked)\n",
      "sum([loss(i[1], i[2]) for i = regData]) = 68.52369222170408 (tracked)\n",
      "sum([loss(i[1], i[2]) for i = regData]) = 62.86411315324435 (tracked)\n"
     ]
    },
    {
     "name": "stderr",
     "output_type": "stream",
     "text": [
      "┌ Info: Epoch 125\n",
      "└ @ Main /Users/hughmurrell/.julia/packages/Flux/UHjNa/src/optimise/train.jl:93\n",
      "┌ Info: Epoch 126\n",
      "└ @ Main /Users/hughmurrell/.julia/packages/Flux/UHjNa/src/optimise/train.jl:93\n",
      "┌ Info: Epoch 127\n",
      "└ @ Main /Users/hughmurrell/.julia/packages/Flux/UHjNa/src/optimise/train.jl:93\n"
     ]
    },
    {
     "name": "stdout",
     "output_type": "stream",
     "text": [
      "sum([loss(i[1], i[2]) for i = regData]) = 57.75240343288649 (tracked)\n",
      "sum([loss(i[1], i[2]) for i = regData]) = 53.15463717499269 (tracked)\n"
     ]
    },
    {
     "name": "stderr",
     "output_type": "stream",
     "text": [
      "┌ Info: Epoch 128\n",
      "└ @ Main /Users/hughmurrell/.julia/packages/Flux/UHjNa/src/optimise/train.jl:93\n",
      "┌ Info: Epoch 129\n",
      "└ @ Main /Users/hughmurrell/.julia/packages/Flux/UHjNa/src/optimise/train.jl:93\n"
     ]
    },
    {
     "name": "stdout",
     "output_type": "stream",
     "text": [
      "sum([loss(i[1], i[2]) for i = regData]) = 49.03697134083612 (tracked)\n",
      "sum([loss(i[1], i[2]) for i = regData]) = 45.36579550548161 (tracked)\n"
     ]
    },
    {
     "name": "stderr",
     "output_type": "stream",
     "text": [
      "┌ Info: Epoch 130\n",
      "└ @ Main /Users/hughmurrell/.julia/packages/Flux/UHjNa/src/optimise/train.jl:93\n",
      "┌ Info: Epoch 131\n",
      "└ @ Main /Users/hughmurrell/.julia/packages/Flux/UHjNa/src/optimise/train.jl:93\n"
     ]
    },
    {
     "name": "stdout",
     "output_type": "stream",
     "text": [
      "sum([loss(i[1], i[2]) for i = regData]) = 42.1078916608883 (tracked)\n",
      "sum([loss(i[1], i[2]) for i = regData]) = 39.23060182589683 (tracked)\n",
      "sum([loss(i[1], i[2]) for i = regData]) = 36.702000594828554 (tracked)\n"
     ]
    },
    {
     "name": "stderr",
     "output_type": "stream",
     "text": [
      "┌ Info: Epoch 132\n",
      "└ @ Main /Users/hughmurrell/.julia/packages/Flux/UHjNa/src/optimise/train.jl:93\n",
      "┌ Info: Epoch 133\n",
      "└ @ Main /Users/hughmurrell/.julia/packages/Flux/UHjNa/src/optimise/train.jl:93\n",
      "┌ Info: Epoch 134\n",
      "└ @ Main /Users/hughmurrell/.julia/packages/Flux/UHjNa/src/optimise/train.jl:93\n"
     ]
    },
    {
     "name": "stdout",
     "output_type": "stream",
     "text": [
      "sum([loss(i[1], i[2]) for i = regData]) = 34.49106913460567 (tracked)\n"
     ]
    },
    {
     "name": "stderr",
     "output_type": "stream",
     "text": [
      "┌ Info: Epoch 135\n",
      "└ @ Main /Users/hughmurrell/.julia/packages/Flux/UHjNa/src/optimise/train.jl:93\n"
     ]
    },
    {
     "name": "stdout",
     "output_type": "stream",
     "text": [
      "sum([loss(i[1], i[2]) for i = regData]) = 32.567866582956306 (tracked)\n",
      "sum([loss(i[1], i[2]) for i = regData]) = 30.903694362031793 (tracked)\n"
     ]
    },
    {
     "name": "stderr",
     "output_type": "stream",
     "text": [
      "┌ Info: Epoch 136\n",
      "└ @ Main /Users/hughmurrell/.julia/packages/Flux/UHjNa/src/optimise/train.jl:93\n",
      "┌ Info: Epoch 137\n",
      "└ @ Main /Users/hughmurrell/.julia/packages/Flux/UHjNa/src/optimise/train.jl:93\n"
     ]
    },
    {
     "name": "stdout",
     "output_type": "stream",
     "text": [
      "sum([loss(i[1], i[2]) for i = regData]) = 29.471248659695924 (tracked)\n",
      "sum([loss(i[1], i[2]) for i = regData]) = 28.24475629874398 (tracked)\n"
     ]
    },
    {
     "name": "stderr",
     "output_type": "stream",
     "text": [
      "┌ Info: Epoch 138\n",
      "└ @ Main /Users/hughmurrell/.julia/packages/Flux/UHjNa/src/optimise/train.jl:93\n",
      "┌ Info: Epoch 139\n",
      "└ @ Main /Users/hughmurrell/.julia/packages/Flux/UHjNa/src/optimise/train.jl:93\n"
     ]
    },
    {
     "name": "stdout",
     "output_type": "stream",
     "text": [
      "sum([loss(i[1], i[2]) for i = regData]) = 27.200089455378563 (tracked)\n",
      "sum([loss(i[1], i[2]) for i = regData]) = 26.31485522663041 (tracked)\n",
      "sum([loss(i[1], i[2]) for i = regData]) = 25.568456880391018 (tracked)\n"
     ]
    },
    {
     "name": "stderr",
     "output_type": "stream",
     "text": [
      "┌ Info: Epoch 140\n",
      "└ @ Main /Users/hughmurrell/.julia/packages/Flux/UHjNa/src/optimise/train.jl:93\n",
      "┌ Info: Epoch 141\n",
      "└ @ Main /Users/hughmurrell/.julia/packages/Flux/UHjNa/src/optimise/train.jl:93\n",
      "┌ Info: Epoch 142\n",
      "└ @ Main /Users/hughmurrell/.julia/packages/Flux/UHjNa/src/optimise/train.jl:93\n"
     ]
    },
    {
     "name": "stdout",
     "output_type": "stream",
     "text": [
      "sum([loss(i[1], i[2]) for i = regData]) = 24.942124718703223 (tracked)\n",
      "sum([loss(i[1], i[2]) for i = regData]) = 24.418915780450998 (tracked)\n"
     ]
    },
    {
     "name": "stderr",
     "output_type": "stream",
     "text": [
      "┌ Info: Epoch 143\n",
      "└ @ Main /Users/hughmurrell/.julia/packages/Flux/UHjNa/src/optimise/train.jl:93\n",
      "┌ Info: Epoch 144\n",
      "└ @ Main /Users/hughmurrell/.julia/packages/Flux/UHjNa/src/optimise/train.jl:93\n"
     ]
    },
    {
     "name": "stdout",
     "output_type": "stream",
     "text": [
      "sum([loss(i[1], i[2]) for i = regData]) = 23.9836830107974 (tracked)\n",
      "sum([loss(i[1], i[2]) for i = regData]) = 23.62301591946637 (tracked)\n"
     ]
    },
    {
     "name": "stderr",
     "output_type": "stream",
     "text": [
      "┌ Info: Epoch 145\n",
      "└ @ Main /Users/hughmurrell/.julia/packages/Flux/UHjNa/src/optimise/train.jl:93\n",
      "┌ Info: Epoch 146\n",
      "└ @ Main /Users/hughmurrell/.julia/packages/Flux/UHjNa/src/optimise/train.jl:93\n"
     ]
    },
    {
     "name": "stdout",
     "output_type": "stream",
     "text": [
      "sum([loss(i[1], i[2]) for i = regData]) = 23.325156019636168 (tracked)\n",
      "sum([loss(i[1], i[2]) for i = regData]) = 23.079891374037402 (tracked)\n"
     ]
    },
    {
     "name": "stderr",
     "output_type": "stream",
     "text": [
      "┌ Info: Epoch 147\n",
      "└ @ Main /Users/hughmurrell/.julia/packages/Flux/UHjNa/src/optimise/train.jl:93\n",
      "┌ Info: Epoch 148\n",
      "└ @ Main /Users/hughmurrell/.julia/packages/Flux/UHjNa/src/optimise/train.jl:93\n"
     ]
    },
    {
     "name": "stdout",
     "output_type": "stream",
     "text": [
      "sum([loss(i[1], i[2]) for i = regData]) = 22.878435288953266 (tracked)\n"
     ]
    },
    {
     "name": "stderr",
     "output_type": "stream",
     "text": [
      "┌ Info: Epoch 149\n",
      "└ @ Main /Users/hughmurrell/.julia/packages/Flux/UHjNa/src/optimise/train.jl:93\n"
     ]
    },
    {
     "name": "stdout",
     "output_type": "stream",
     "text": [
      "sum([loss(i[1], i[2]) for i = regData]) = 22.713294539873292 (tracked)\n",
      "sum([loss(i[1], i[2]) for i = regData]) = 22.578132476090786 (tracked)\n"
     ]
    },
    {
     "name": "stderr",
     "output_type": "stream",
     "text": [
      "┌ Info: Epoch 150\n",
      "└ @ Main /Users/hughmurrell/.julia/packages/Flux/UHjNa/src/optimise/train.jl:93\n",
      "┌ Info: Epoch 151\n",
      "└ @ Main /Users/hughmurrell/.julia/packages/Flux/UHjNa/src/optimise/train.jl:93\n"
     ]
    },
    {
     "name": "stdout",
     "output_type": "stream",
     "text": [
      "sum([loss(i[1], i[2]) for i = regData]) = 22.467631968482586 (tracked)\n"
     ]
    },
    {
     "name": "stderr",
     "output_type": "stream",
     "text": [
      "┌ Info: Epoch 152\n",
      "└ @ Main /Users/hughmurrell/.julia/packages/Flux/UHjNa/src/optimise/train.jl:93\n"
     ]
    },
    {
     "name": "stdout",
     "output_type": "stream",
     "text": [
      "sum([loss(i[1], i[2]) for i = regData]) = 22.377362502460674 (tracked)\n",
      "sum([loss(i[1], i[2]) for i = regData]) = 22.30365486671795 (tracked)\n",
      "sum([loss(i[1], i[2]) for i = regData]) = 22.243485946568654 (tracked)\n"
     ]
    },
    {
     "name": "stderr",
     "output_type": "stream",
     "text": [
      "┌ Info: Epoch 153\n",
      "└ @ Main /Users/hughmurrell/.julia/packages/Flux/UHjNa/src/optimise/train.jl:93\n",
      "┌ Info: Epoch 154\n",
      "└ @ Main /Users/hughmurrell/.julia/packages/Flux/UHjNa/src/optimise/train.jl:93\n",
      "┌ Info: Epoch 155\n",
      "└ @ Main /Users/hughmurrell/.julia/packages/Flux/UHjNa/src/optimise/train.jl:93\n"
     ]
    },
    {
     "name": "stdout",
     "output_type": "stream",
     "text": [
      "sum([loss(i[1], i[2]) for i = regData]) = 22.194375191893048 (tracked)\n",
      "sum([loss(i[1], i[2]) for i = regData]) = 22.154293471324916 (tracked)\n"
     ]
    },
    {
     "name": "stderr",
     "output_type": "stream",
     "text": [
      "┌ Info: Epoch 156\n",
      "└ @ Main /Users/hughmurrell/.julia/packages/Flux/UHjNa/src/optimise/train.jl:93\n",
      "┌ Info: Epoch 157\n",
      "└ @ Main /Users/hughmurrell/.julia/packages/Flux/UHjNa/src/optimise/train.jl:93\n"
     ]
    },
    {
     "name": "stdout",
     "output_type": "stream",
     "text": [
      "sum([loss(i[1], i[2]) for i = regData]) = 22.12158430088769 (tracked)\n",
      "sum([loss(i[1], i[2]) for i = regData]) = 22.09489687631129 (tracked)\n"
     ]
    },
    {
     "name": "stderr",
     "output_type": "stream",
     "text": [
      "┌ Info: Epoch 158\n",
      "└ @ Main /Users/hughmurrell/.julia/packages/Flux/UHjNa/src/optimise/train.jl:93\n",
      "┌ Info: Epoch 159\n",
      "└ @ Main /Users/hughmurrell/.julia/packages/Flux/UHjNa/src/optimise/train.jl:93\n"
     ]
    },
    {
     "name": "stdout",
     "output_type": "stream",
     "text": [
      "sum([loss(i[1], i[2]) for i = regData]) = 22.073129950142206 (tracked)\n",
      "sum([loss(i[1], i[2]) for i = regData]) = 22.055385365465387 (tracked)\n"
     ]
    },
    {
     "name": "stderr",
     "output_type": "stream",
     "text": [
      "┌ Info: Epoch 160\n",
      "└ @ Main /Users/hughmurrell/.julia/packages/Flux/UHjNa/src/optimise/train.jl:93\n",
      "┌ Info: Epoch 161\n",
      "└ @ Main /Users/hughmurrell/.julia/packages/Flux/UHjNa/src/optimise/train.jl:93\n"
     ]
    },
    {
     "name": "stdout",
     "output_type": "stream",
     "text": [
      "sum([loss(i[1], i[2]) for i = regData]) = 22.040929963238245 (tracked)\n"
     ]
    },
    {
     "name": "stderr",
     "output_type": "stream",
     "text": [
      "┌ Info: Epoch 162\n",
      "└ @ Main /Users/hughmurrell/.julia/packages/Flux/UHjNa/src/optimise/train.jl:93\n"
     ]
    },
    {
     "name": "stdout",
     "output_type": "stream",
     "text": [
      "sum([loss(i[1], i[2]) for i = regData]) = 22.029164589342862 (tracked)\n",
      "sum([loss(i[1], i[2]) for i = regData]) = 22.019599009009738 (tracked)\n"
     ]
    },
    {
     "name": "stderr",
     "output_type": "stream",
     "text": [
      "┌ Info: Epoch 163\n",
      "└ @ Main /Users/hughmurrell/.julia/packages/Flux/UHjNa/src/optimise/train.jl:93\n",
      "┌ Info: Epoch 164\n",
      "└ @ Main /Users/hughmurrell/.julia/packages/Flux/UHjNa/src/optimise/train.jl:93\n"
     ]
    },
    {
     "name": "stdout",
     "output_type": "stream",
     "text": [
      "sum([loss(i[1], i[2]) for i = regData]) = 22.011831661624388 (tracked)\n",
      "sum([loss(i[1], i[2]) for i = regData]) = 22.005533334580267 (tracked)\n"
     ]
    },
    {
     "name": "stderr",
     "output_type": "stream",
     "text": [
      "┌ Info: Epoch 165\n",
      "└ @ Main /Users/hughmurrell/.julia/packages/Flux/UHjNa/src/optimise/train.jl:93\n",
      "┌ Info: Epoch 166\n",
      "└ @ Main /Users/hughmurrell/.julia/packages/Flux/UHjNa/src/optimise/train.jl:93\n",
      "┌ Info: Epoch 167\n",
      "└ @ Main /Users/hughmurrell/.julia/packages/Flux/UHjNa/src/optimise/train.jl:93\n"
     ]
    },
    {
     "name": "stdout",
     "output_type": "stream",
     "text": [
      "sum([loss(i[1], i[2]) for i = regData]) = 22.0004339832458 (tracked)\n",
      "sum([loss(i[1], i[2]) for i = regData]) = 21.996312063538593 (tracked)\n"
     ]
    },
    {
     "name": "stderr",
     "output_type": "stream",
     "text": [
      "┌ Info: Epoch 168\n",
      "└ @ Main /Users/hughmurrell/.julia/packages/Flux/UHjNa/src/optimise/train.jl:93\n"
     ]
    },
    {
     "name": "stdout",
     "output_type": "stream",
     "text": [
      "sum([loss(i[1], i[2]) for i = regData]) = 21.99298586729371 (tracked)\n",
      "sum([loss(i[1], i[2]) for i = regData]) = 21.990306455696377 (tracked)\n"
     ]
    },
    {
     "name": "stderr",
     "output_type": "stream",
     "text": [
      "┌ Info: Epoch 169\n",
      "└ @ Main /Users/hughmurrell/.julia/packages/Flux/UHjNa/src/optimise/train.jl:93\n",
      "┌ Info: Epoch 170\n",
      "└ @ Main /Users/hughmurrell/.julia/packages/Flux/UHjNa/src/optimise/train.jl:93\n"
     ]
    },
    {
     "name": "stdout",
     "output_type": "stream",
     "text": [
      "sum([loss(i[1], i[2]) for i = regData]) = 21.988151872331276 (tracked)\n",
      "sum([loss(i[1], i[2]) for i = regData]) = 21.986422386379157 (tracked)\n"
     ]
    },
    {
     "name": "stderr",
     "output_type": "stream",
     "text": [
      "┌ Info: Epoch 171\n",
      "└ @ Main /Users/hughmurrell/.julia/packages/Flux/UHjNa/src/optimise/train.jl:93\n",
      "┌ Info: Epoch 172\n",
      "└ @ Main /Users/hughmurrell/.julia/packages/Flux/UHjNa/src/optimise/train.jl:93\n"
     ]
    },
    {
     "name": "stdout",
     "output_type": "stream",
     "text": [
      "sum([loss(i[1], i[2]) for i = regData]) = 21.98503657051345 (tracked)\n",
      "sum([loss(i[1], i[2]) for i = regData]) = 21.98392805974567 (tracked)\n"
     ]
    },
    {
     "name": "stderr",
     "output_type": "stream",
     "text": [
      "┌ Info: Epoch 173\n",
      "└ @ Main /Users/hughmurrell/.julia/packages/Flux/UHjNa/src/optimise/train.jl:93\n",
      "┌ Info: Epoch 174\n",
      "└ @ Main /Users/hughmurrell/.julia/packages/Flux/UHjNa/src/optimise/train.jl:93\n"
     ]
    },
    {
     "name": "stdout",
     "output_type": "stream",
     "text": [
      "sum([loss(i[1], i[2]) for i = regData]) = 21.983042869372742 (tracked)\n",
      "sum([loss(i[1], i[2]) for i = regData]) = 21.98233717452576 (tracked)\n"
     ]
    },
    {
     "name": "stderr",
     "output_type": "stream",
     "text": [
      "┌ Info: Epoch 175\n",
      "└ @ Main /Users/hughmurrell/.julia/packages/Flux/UHjNa/src/optimise/train.jl:93\n",
      "┌ Info: Epoch 176\n",
      "└ @ Main /Users/hughmurrell/.julia/packages/Flux/UHjNa/src/optimise/train.jl:93\n"
     ]
    },
    {
     "name": "stdout",
     "output_type": "stream",
     "text": [
      "sum([loss(i[1], i[2]) for i = regData]) = 21.98177547246152 (tracked)\n",
      "sum([loss(i[1], i[2]) for i = regData]) = 21.98132906313872 (tracked)\n"
     ]
    },
    {
     "name": "stderr",
     "output_type": "stream",
     "text": [
      "┌ Info: Epoch 177\n",
      "└ @ Main /Users/hughmurrell/.julia/packages/Flux/UHjNa/src/optimise/train.jl:93\n",
      "┌ Info: Epoch 178\n",
      "└ @ Main /Users/hughmurrell/.julia/packages/Flux/UHjNa/src/optimise/train.jl:93\n"
     ]
    },
    {
     "name": "stdout",
     "output_type": "stream",
     "text": [
      "sum([loss(i[1], i[2]) for i = regData]) = 21.980974794892205 (tracked)\n",
      "sum([loss(i[1], i[2]) for i = regData]) = 21.98069403098571 (tracked)\n"
     ]
    },
    {
     "name": "stderr",
     "output_type": "stream",
     "text": [
      "┌ Info: Epoch 179\n",
      "└ @ Main /Users/hughmurrell/.julia/packages/Flux/UHjNa/src/optimise/train.jl:93\n",
      "┌ Info: Epoch 180\n",
      "└ @ Main /Users/hughmurrell/.julia/packages/Flux/UHjNa/src/optimise/train.jl:93\n"
     ]
    },
    {
     "name": "stdout",
     "output_type": "stream",
     "text": [
      "sum([loss(i[1], i[2]) for i = regData]) = 21.980471800076064 (tracked)\n"
     ]
    },
    {
     "name": "stderr",
     "output_type": "stream",
     "text": [
      "┌ Info: Epoch 181\n",
      "└ @ Main /Users/hughmurrell/.julia/packages/Flux/UHjNa/src/optimise/train.jl:93\n"
     ]
    },
    {
     "name": "stdout",
     "output_type": "stream",
     "text": [
      "sum([loss(i[1], i[2]) for i = regData]) = 21.980296099581388 (tracked)\n"
     ]
    },
    {
     "name": "stderr",
     "output_type": "stream",
     "text": [
      "┌ Info: Epoch 182\n",
      "└ @ Main /Users/hughmurrell/.julia/packages/Flux/UHjNa/src/optimise/train.jl:93\n"
     ]
    },
    {
     "name": "stdout",
     "output_type": "stream",
     "text": [
      "sum([loss(i[1], i[2]) for i = regData]) = 21.980157325907033 (tracked)\n"
     ]
    },
    {
     "name": "stderr",
     "output_type": "stream",
     "text": [
      "┌ Info: Epoch 183\n",
      "└ @ Main /Users/hughmurrell/.julia/packages/Flux/UHjNa/src/optimise/train.jl:93\n"
     ]
    },
    {
     "name": "stdout",
     "output_type": "stream",
     "text": [
      "sum([loss(i[1], i[2]) for i = regData]) = 21.980047809653378 (tracked)\n"
     ]
    },
    {
     "name": "stderr",
     "output_type": "stream",
     "text": [
      "┌ Info: Epoch 184\n",
      "└ @ Main /Users/hughmurrell/.julia/packages/Flux/UHjNa/src/optimise/train.jl:93\n"
     ]
    },
    {
     "name": "stdout",
     "output_type": "stream",
     "text": [
      "sum([loss(i[1], i[2]) for i = regData]) = 21.979961437457582 (tracked)\n"
     ]
    },
    {
     "name": "stderr",
     "output_type": "stream",
     "text": [
      "┌ Info: Epoch 185\n",
      "└ @ Main /Users/hughmurrell/.julia/packages/Flux/UHjNa/src/optimise/train.jl:93\n"
     ]
    },
    {
     "name": "stdout",
     "output_type": "stream",
     "text": [
      "sum([loss(i[1], i[2]) for i = regData]) = 21.979893345116334 (tracked)\n"
     ]
    },
    {
     "name": "stderr",
     "output_type": "stream",
     "text": [
      "┌ Info: Epoch 186\n",
      "└ @ Main /Users/hughmurrell/.julia/packages/Flux/UHjNa/src/optimise/train.jl:93\n"
     ]
    },
    {
     "name": "stdout",
     "output_type": "stream",
     "text": [
      "sum([loss(i[1], i[2]) for i = regData]) = 21.979839669179032 (tracked)\n",
      "sum([loss(i[1], i[2]) for i = regData]) = 21.979797346358577 (tracked)\n",
      "sum([loss(i[1], i[2]) for i = regData]) = 21.97976395193203 (tracked)\n"
     ]
    },
    {
     "name": "stderr",
     "output_type": "stream",
     "text": [
      "┌ Info: Epoch 187\n",
      "└ @ Main /Users/hughmurrell/.julia/packages/Flux/UHjNa/src/optimise/train.jl:93\n",
      "┌ Info: Epoch 188\n",
      "└ @ Main /Users/hughmurrell/.julia/packages/Flux/UHjNa/src/optimise/train.jl:93\n",
      "┌ Info: Epoch 189\n",
      "└ @ Main /Users/hughmurrell/.julia/packages/Flux/UHjNa/src/optimise/train.jl:93\n"
     ]
    },
    {
     "name": "stdout",
     "output_type": "stream",
     "text": [
      "sum([loss(i[1], i[2]) for i = regData]) = 21.9797375698415 (tracked)\n",
      "sum([loss(i[1], i[2]) for i = regData]) = 21.97971668849861 (tracked)\n",
      "sum([loss(i[1], i[2]) for i = regData]) = 21.979700117374808 (tracked)\n"
     ]
    },
    {
     "name": "stderr",
     "output_type": "stream",
     "text": [
      "┌ Info: Epoch 190\n",
      "└ @ Main /Users/hughmurrell/.julia/packages/Flux/UHjNa/src/optimise/train.jl:93\n",
      "┌ Info: Epoch 191\n",
      "└ @ Main /Users/hughmurrell/.julia/packages/Flux/UHjNa/src/optimise/train.jl:93\n",
      "┌ Info: Epoch 192\n",
      "└ @ Main /Users/hughmurrell/.julia/packages/Flux/UHjNa/src/optimise/train.jl:93\n"
     ]
    },
    {
     "name": "stdout",
     "output_type": "stream",
     "text": [
      "sum([loss(i[1], i[2]) for i = regData]) = 21.979686920360116 (tracked)\n",
      "sum([loss(i[1], i[2]) for i = regData]) = 21.97967636261688 (tracked)\n",
      "sum([loss(i[1], i[2]) for i = regData]) = 21.979667868270862 (tracked)\n"
     ]
    },
    {
     "name": "stderr",
     "output_type": "stream",
     "text": [
      "┌ Info: Epoch 193\n",
      "└ @ Main /Users/hughmurrell/.julia/packages/Flux/UHjNa/src/optimise/train.jl:93\n",
      "┌ Info: Epoch 194\n",
      "└ @ Main /Users/hughmurrell/.julia/packages/Flux/UHjNa/src/optimise/train.jl:93\n",
      "┌ Info: Epoch 195\n",
      "└ @ Main /Users/hughmurrell/.julia/packages/Flux/UHjNa/src/optimise/train.jl:93\n"
     ]
    },
    {
     "name": "stdout",
     "output_type": "stream",
     "text": [
      "sum([loss(i[1], i[2]) for i = regData]) = 21.979660986787135 (tracked)\n",
      "sum([loss(i[1], i[2]) for i = regData]) = 21.979655366292075 (tracked)\n"
     ]
    },
    {
     "name": "stderr",
     "output_type": "stream",
     "text": [
      "┌ Info: Epoch 196\n",
      "└ @ Main /Users/hughmurrell/.julia/packages/Flux/UHjNa/src/optimise/train.jl:93\n",
      "┌ Info: Epoch 197\n",
      "└ @ Main /Users/hughmurrell/.julia/packages/Flux/UHjNa/src/optimise/train.jl:93\n"
     ]
    },
    {
     "name": "stdout",
     "output_type": "stream",
     "text": [
      "sum([loss(i[1], i[2]) for i = regData]) = 21.97965073244095 (tracked)\n",
      "sum([loss(i[1], i[2]) for i = regData]) = 21.979646871704766 (tracked)\n"
     ]
    },
    {
     "name": "stderr",
     "output_type": "stream",
     "text": [
      "┌ Info: Epoch 198\n",
      "└ @ Main /Users/hughmurrell/.julia/packages/Flux/UHjNa/src/optimise/train.jl:93\n",
      "┌ Info: Epoch 199\n",
      "└ @ Main /Users/hughmurrell/.julia/packages/Flux/UHjNa/src/optimise/train.jl:93\n"
     ]
    },
    {
     "name": "stdout",
     "output_type": "stream",
     "text": [
      "sum([loss(i[1], i[2]) for i = regData]) = 21.97964361817339 (tracked)\n"
     ]
    },
    {
     "name": "stderr",
     "output_type": "stream",
     "text": [
      "┌ Info: Epoch 200\n",
      "└ @ Main /Users/hughmurrell/.julia/packages/Flux/UHjNa/src/optimise/train.jl:93\n"
     ]
    }
   ],
   "source": [
    "using Flux\n",
    "using Flux: @epochs\n",
    "\n",
    "regData = [([regX[i],regY[i]],regZ[i]) for i in 1:length(regX)]\n",
    "modelReg = Chain(Dense(2, 1), identity)\n",
    "loss(x, y) = Flux.mse(modelReg(x), y) # + 10.0*sum(params(modelReg)[1].^2) \n",
    "evalcb = () -> @show(sum([loss(i[1],i[2]) for i in regData]))\n",
    "opt = ADAM(Flux.params(modelReg))\n",
    "#opt = SGD(Flux.params(modelReg), 0.001)\n",
    "@epochs 200 Flux.train!(loss,regData, opt, cb = throttle(evalcb, 10))\n",
    "\n",
    "# loss(x) = Flux.mse(modelReg(x[1]), x[2])\n",
    "# evalcb = () -> @show(loss(x))\n",
    "# opt = SGD(Flux.params(modelReg), 0.1)\n",
    "# @epochs 100 Flux.train!(loss, regData, opt, cb = throttle(evalcb, 10))"
   ]
  },
  {
   "cell_type": "code",
   "execution_count": 192,
   "metadata": {
    "collapsed": false
   },
   "outputs": [
    {
     "name": "stdout",
     "output_type": "stream",
     "text": [
      "Any[Flux.Tracker.TrackedReal{Float64}[0.0397908 (tracked) 0.0628116 (tracked)], Flux.Tracker.TrackedReal{Float64}[10.6658 (tracked)]]\n"
     ]
    }
   ],
   "source": [
    "println(Flux.params(modelReg))"
   ]
  },
  {
   "cell_type": "code",
   "execution_count": 193,
   "metadata": {
    "collapsed": false
   },
   "outputs": [
    {
     "data": {
      "image/svg+xml": [
       "<?xml version=\"1.0\" encoding=\"utf-8\"?>\n",
       "<svg xmlns=\"http://www.w3.org/2000/svg\" xmlns:xlink=\"http://www.w3.org/1999/xlink\" width=\"600\" height=\"400\" viewBox=\"0 0 2400 1600\">\n",
       "<defs>\n",
       "  <clipPath id=\"clip7000\">\n",
       "    <rect x=\"0\" y=\"0\" width=\"2000\" height=\"2000\"/>\n",
       "  </clipPath>\n",
       "</defs>\n",
       "<defs>\n",
       "  <clipPath id=\"clip7001\">\n",
       "    <rect x=\"0\" y=\"0\" width=\"2400\" height=\"1600\"/>\n",
       "  </clipPath>\n",
       "</defs>\n",
       "<polygon clip-path=\"url(#clip7001)\" points=\"\n",
       "0,1600 2400,1600 2400,0 0,0 \n",
       "  \" fill=\"#ffffff\" fill-rule=\"evenodd\" fill-opacity=\"1\"/>\n",
       "<defs>\n",
       "  <clipPath id=\"clip7002\">\n",
       "    <rect x=\"480\" y=\"0\" width=\"1681\" height=\"1600\"/>\n",
       "  </clipPath>\n",
       "</defs>\n",
       "<polygon clip-path=\"url(#clip7001)\" points=\"\n",
       "527.267,1503.47 1983.5,1503.47 1983.5,47.2441 527.267,47.2441 \n",
       "  \" fill=\"#ffffff\" fill-rule=\"evenodd\" fill-opacity=\"1\"/>\n",
       "<defs>\n",
       "  <clipPath id=\"clip7003\">\n",
       "    <rect x=\"527\" y=\"47\" width=\"1457\" height=\"1457\"/>\n",
       "  </clipPath>\n",
       "</defs>\n",
       "<polyline clip-path=\"url(#clip7001)\" style=\"stroke:#cccccc; stroke-width:2; stroke-opacity:0.1; fill:none\" points=\"\n",
       "  553.395,1419.89 1086.41,1161.81 \n",
       "  \"/>\n",
       "<polyline clip-path=\"url(#clip7001)\" style=\"stroke:#cccccc; stroke-width:2; stroke-opacity:0.1; fill:none\" points=\"\n",
       "  1086.41,1161.81 1086.41,49.6787 \n",
       "  \"/>\n",
       "<polyline clip-path=\"url(#clip7001)\" style=\"stroke:#ededed; stroke-width:2; stroke-opacity:0.1; fill:none\" points=\"\n",
       "  662.265,1430.03 1195.28,1171.96 \n",
       "  \"/>\n",
       "<polyline clip-path=\"url(#clip7001)\" style=\"stroke:#ededed; stroke-width:2; stroke-opacity:0.1; fill:none\" points=\"\n",
       "  1195.28,1171.96 1195.28,59.8231 \n",
       "  \"/>\n",
       "<polyline clip-path=\"url(#clip7001)\" style=\"stroke:#cccccc; stroke-width:2; stroke-opacity:0.1; fill:none\" points=\"\n",
       "  771.134,1440.17 1304.15,1182.1 \n",
       "  \"/>\n",
       "<polyline clip-path=\"url(#clip7001)\" style=\"stroke:#cccccc; stroke-width:2; stroke-opacity:0.1; fill:none\" points=\"\n",
       "  1304.15,1182.1 1304.15,69.9674 \n",
       "  \"/>\n",
       "<polyline clip-path=\"url(#clip7001)\" style=\"stroke:#ededed; stroke-width:2; stroke-opacity:0.1; fill:none\" points=\"\n",
       "  880.004,1450.32 1413.02,1192.25 \n",
       "  \"/>\n",
       "<polyline clip-path=\"url(#clip7001)\" style=\"stroke:#ededed; stroke-width:2; stroke-opacity:0.1; fill:none\" points=\"\n",
       "  1413.02,1192.25 1413.02,80.1117 \n",
       "  \"/>\n",
       "<polyline clip-path=\"url(#clip7001)\" style=\"stroke:#cccccc; stroke-width:2; stroke-opacity:0.1; fill:none\" points=\"\n",
       "  988.873,1460.46 1521.89,1202.39 \n",
       "  \"/>\n",
       "<polyline clip-path=\"url(#clip7001)\" style=\"stroke:#cccccc; stroke-width:2; stroke-opacity:0.1; fill:none\" points=\"\n",
       "  1521.89,1202.39 1521.89,90.2561 \n",
       "  \"/>\n",
       "<polyline clip-path=\"url(#clip7001)\" style=\"stroke:#ededed; stroke-width:2; stroke-opacity:0.1; fill:none\" points=\"\n",
       "  1097.74,1470.61 1630.76,1212.54 \n",
       "  \"/>\n",
       "<polyline clip-path=\"url(#clip7001)\" style=\"stroke:#ededed; stroke-width:2; stroke-opacity:0.1; fill:none\" points=\"\n",
       "  1630.76,1212.54 1630.76,100.4 \n",
       "  \"/>\n",
       "<polyline clip-path=\"url(#clip7001)\" style=\"stroke:#cccccc; stroke-width:2; stroke-opacity:0.1; fill:none\" points=\"\n",
       "  1206.61,1480.75 1739.63,1222.68 \n",
       "  \"/>\n",
       "<polyline clip-path=\"url(#clip7001)\" style=\"stroke:#cccccc; stroke-width:2; stroke-opacity:0.1; fill:none\" points=\"\n",
       "  1739.63,1222.68 1739.63,110.545 \n",
       "  \"/>\n",
       "<polyline clip-path=\"url(#clip7001)\" style=\"stroke:#ededed; stroke-width:2; stroke-opacity:0.1; fill:none\" points=\"\n",
       "  1315.48,1490.9 1848.5,1232.82 \n",
       "  \"/>\n",
       "<polyline clip-path=\"url(#clip7001)\" style=\"stroke:#ededed; stroke-width:2; stroke-opacity:0.1; fill:none\" points=\"\n",
       "  1848.5,1232.82 1848.5,120.689 \n",
       "  \"/>\n",
       "<polyline clip-path=\"url(#clip7001)\" style=\"stroke:#cccccc; stroke-width:2; stroke-opacity:0.1; fill:none\" points=\"\n",
       "  1424.35,1501.04 1957.37,1242.97 \n",
       "  \"/>\n",
       "<polyline clip-path=\"url(#clip7001)\" style=\"stroke:#cccccc; stroke-width:2; stroke-opacity:0.1; fill:none\" points=\"\n",
       "  1957.37,1242.97 1957.37,130.833 \n",
       "  \"/>\n",
       "<polyline clip-path=\"url(#clip7001)\" style=\"stroke:#cccccc; stroke-width:2; stroke-opacity:0.1; fill:none\" points=\"\n",
       "  542.352,1410.15 1465.57,1496.17 \n",
       "  \"/>\n",
       "<polyline clip-path=\"url(#clip7001)\" style=\"stroke:#cccccc; stroke-width:2; stroke-opacity:0.1; fill:none\" points=\"\n",
       "  542.352,1410.15 542.352,298.012 \n",
       "  \"/>\n",
       "<polyline clip-path=\"url(#clip7001)\" style=\"stroke:#ededed; stroke-width:2; stroke-opacity:0.1; fill:none\" points=\"\n",
       "  605.208,1379.71 1528.42,1465.74 \n",
       "  \"/>\n",
       "<polyline clip-path=\"url(#clip7001)\" style=\"stroke:#ededed; stroke-width:2; stroke-opacity:0.1; fill:none\" points=\"\n",
       "  605.208,1379.71 605.208,267.579 \n",
       "  \"/>\n",
       "<polyline clip-path=\"url(#clip7001)\" style=\"stroke:#cccccc; stroke-width:2; stroke-opacity:0.1; fill:none\" points=\"\n",
       "  668.064,1349.28 1591.28,1435.3 \n",
       "  \"/>\n",
       "<polyline clip-path=\"url(#clip7001)\" style=\"stroke:#cccccc; stroke-width:2; stroke-opacity:0.1; fill:none\" points=\"\n",
       "  668.064,1349.28 668.064,237.146 \n",
       "  \"/>\n",
       "<polyline clip-path=\"url(#clip7001)\" style=\"stroke:#ededed; stroke-width:2; stroke-opacity:0.1; fill:none\" points=\"\n",
       "  730.92,1318.85 1654.13,1404.87 \n",
       "  \"/>\n",
       "<polyline clip-path=\"url(#clip7001)\" style=\"stroke:#ededed; stroke-width:2; stroke-opacity:0.1; fill:none\" points=\"\n",
       "  730.92,1318.85 730.92,206.713 \n",
       "  \"/>\n",
       "<polyline clip-path=\"url(#clip7001)\" style=\"stroke:#cccccc; stroke-width:2; stroke-opacity:0.1; fill:none\" points=\"\n",
       "  793.775,1288.41 1716.99,1374.44 \n",
       "  \"/>\n",
       "<polyline clip-path=\"url(#clip7001)\" style=\"stroke:#cccccc; stroke-width:2; stroke-opacity:0.1; fill:none\" points=\"\n",
       "  793.775,1288.41 793.775,176.28 \n",
       "  \"/>\n",
       "<polyline clip-path=\"url(#clip7001)\" style=\"stroke:#ededed; stroke-width:2; stroke-opacity:0.1; fill:none\" points=\"\n",
       "  856.631,1257.98 1779.84,1344.01 \n",
       "  \"/>\n",
       "<polyline clip-path=\"url(#clip7001)\" style=\"stroke:#ededed; stroke-width:2; stroke-opacity:0.1; fill:none\" points=\"\n",
       "  856.631,1257.98 856.631,145.847 \n",
       "  \"/>\n",
       "<polyline clip-path=\"url(#clip7001)\" style=\"stroke:#cccccc; stroke-width:2; stroke-opacity:0.1; fill:none\" points=\"\n",
       "  919.487,1227.55 1842.7,1313.57 \n",
       "  \"/>\n",
       "<polyline clip-path=\"url(#clip7001)\" style=\"stroke:#cccccc; stroke-width:2; stroke-opacity:0.1; fill:none\" points=\"\n",
       "  919.487,1227.55 919.487,115.414 \n",
       "  \"/>\n",
       "<polyline clip-path=\"url(#clip7001)\" style=\"stroke:#ededed; stroke-width:2; stroke-opacity:0.1; fill:none\" points=\"\n",
       "  982.343,1197.12 1905.56,1283.14 \n",
       "  \"/>\n",
       "<polyline clip-path=\"url(#clip7001)\" style=\"stroke:#ededed; stroke-width:2; stroke-opacity:0.1; fill:none\" points=\"\n",
       "  982.343,1197.12 982.343,84.981 \n",
       "  \"/>\n",
       "<polyline clip-path=\"url(#clip7001)\" style=\"stroke:#cccccc; stroke-width:2; stroke-opacity:0.1; fill:none\" points=\"\n",
       "  1045.2,1166.68 1968.41,1252.71 \n",
       "  \"/>\n",
       "<polyline clip-path=\"url(#clip7001)\" style=\"stroke:#cccccc; stroke-width:2; stroke-opacity:0.1; fill:none\" points=\"\n",
       "  1045.2,1166.68 1045.2,54.548 \n",
       "  \"/>\n",
       "<polyline clip-path=\"url(#clip7001)\" style=\"stroke:#ededed; stroke-width:2; stroke-opacity:0.1; fill:none\" points=\"\n",
       "  527.267,1232.09 1060.28,974.023 \n",
       "  \"/>\n",
       "<polyline clip-path=\"url(#clip7001)\" style=\"stroke:#ededed; stroke-width:2; stroke-opacity:0.1; fill:none\" points=\"\n",
       "  1060.28,974.023 1983.5,1060.05 \n",
       "  \"/>\n",
       "<polyline clip-path=\"url(#clip7001)\" style=\"stroke:#cccccc; stroke-width:2; stroke-opacity:0.1; fill:none\" points=\"\n",
       "  527.267,1046.74 1060.28,788.667 \n",
       "  \"/>\n",
       "<polyline clip-path=\"url(#clip7001)\" style=\"stroke:#cccccc; stroke-width:2; stroke-opacity:0.1; fill:none\" points=\"\n",
       "  1060.28,788.667 1983.5,874.691 \n",
       "  \"/>\n",
       "<polyline clip-path=\"url(#clip7001)\" style=\"stroke:#ededed; stroke-width:2; stroke-opacity:0.1; fill:none\" points=\"\n",
       "  527.267,861.383 1060.28,603.312 \n",
       "  \"/>\n",
       "<polyline clip-path=\"url(#clip7001)\" style=\"stroke:#ededed; stroke-width:2; stroke-opacity:0.1; fill:none\" points=\"\n",
       "  1060.28,603.312 1983.5,689.335 \n",
       "  \"/>\n",
       "<polyline clip-path=\"url(#clip7001)\" style=\"stroke:#cccccc; stroke-width:2; stroke-opacity:0.1; fill:none\" points=\"\n",
       "  527.267,676.028 1060.28,417.956 \n",
       "  \"/>\n",
       "<polyline clip-path=\"url(#clip7001)\" style=\"stroke:#cccccc; stroke-width:2; stroke-opacity:0.1; fill:none\" points=\"\n",
       "  1060.28,417.956 1983.5,503.98 \n",
       "  \"/>\n",
       "<polyline clip-path=\"url(#clip7001)\" style=\"stroke:#ededed; stroke-width:2; stroke-opacity:0.1; fill:none\" points=\"\n",
       "  527.267,490.672 1060.28,232.6 \n",
       "  \"/>\n",
       "<polyline clip-path=\"url(#clip7001)\" style=\"stroke:#ededed; stroke-width:2; stroke-opacity:0.1; fill:none\" points=\"\n",
       "  1060.28,232.6 1983.5,318.624 \n",
       "  \"/>\n",
       "<polyline clip-path=\"url(#clip7001)\" style=\"stroke:#cccccc; stroke-width:2; stroke-opacity:0.1; fill:none\" points=\"\n",
       "  527.267,305.316 1060.28,47.2441 \n",
       "  \"/>\n",
       "<polyline clip-path=\"url(#clip7001)\" style=\"stroke:#cccccc; stroke-width:2; stroke-opacity:0.1; fill:none\" points=\"\n",
       "  1060.28,47.2441 1983.5,133.268 \n",
       "  \"/>\n",
       "<polyline clip-path=\"url(#clip7001)\" style=\"stroke:#000000; stroke-width:4; stroke-opacity:1; fill:none\" points=\"\n",
       "  471.897,1246.09 474.563,1243.16 478.563,1236.28 478.563,1270.84 \n",
       "  \"/>\n",
       "<polyline clip-path=\"url(#clip7001)\" style=\"stroke:#000000; stroke-width:4; stroke-opacity:1; fill:none\" points=\"\n",
       "  502.56,1224.66 498.56,1228.25 495.894,1234.47 494.561,1243.35 494.561,1248.29 495.894,1255.87 498.56,1259.52 502.56,1259.22 505.226,1257.93 509.226,1254.35 \n",
       "  511.892,1248.12 513.226,1239.25 513.226,1234.31 511.892,1226.73 509.226,1223.08 505.226,1223.37 502.56,1224.66 \n",
       "  \"/>\n",
       "<polyline clip-path=\"url(#clip7001)\" style=\"stroke:#000000; stroke-width:4; stroke-opacity:1; fill:none\" points=\"\n",
       "  471.897,875.382 474.563,872.445 478.563,865.572 478.563,900.132 \n",
       "  \"/>\n",
       "<polyline clip-path=\"url(#clip7001)\" style=\"stroke:#000000; stroke-width:4; stroke-opacity:1; fill:none\" points=\"\n",
       "  498.56,862.472 501.227,859.535 505.226,852.662 505.226,887.222 \n",
       "  \"/>\n",
       "<polyline clip-path=\"url(#clip7001)\" style=\"stroke:#000000; stroke-width:4; stroke-opacity:1; fill:none\" points=\"\n",
       "  471.897,504.67 474.563,501.734 478.563,494.86 478.563,529.42 \n",
       "  \"/>\n",
       "<polyline clip-path=\"url(#clip7001)\" style=\"stroke:#000000; stroke-width:4; stroke-opacity:1; fill:none\" points=\"\n",
       "  495.894,494.697 495.894,493.051 497.227,489.114 498.56,486.823 501.227,483.887 506.56,481.305 509.226,481.659 510.559,482.66 511.892,485.305 511.892,488.597 \n",
       "  510.559,492.534 507.893,498.762 494.561,521.674 513.226,512.637 \n",
       "  \"/>\n",
       "<polyline clip-path=\"url(#clip7001)\" style=\"stroke:#000000; stroke-width:4; stroke-opacity:1; fill:none\" points=\"\n",
       "  527.267,1417.45 527.267,1417.45 521.936,1420.03 527.267,1417.45 527.267,1232.09 516.606,1237.26 527.267,1232.09 527.267,1046.74 521.936,1049.32 527.267,1046.74 \n",
       "  527.267,861.383 516.606,866.545 527.267,861.383 527.267,676.028 521.936,678.608 527.267,676.028 527.267,490.672 516.606,495.833 527.267,490.672 527.267,305.316 \n",
       "  521.936,307.897 527.267,305.316 \n",
       "  \"/>\n",
       "<polyline clip-path=\"url(#clip7001)\" style=\"stroke:#000000; stroke-width:4; stroke-opacity:1; fill:none\" points=\"\n",
       "  477.956,1450.32 507.324,1453.05 \n",
       "  \"/>\n",
       "<polyline clip-path=\"url(#clip7001)\" style=\"stroke:#000000; stroke-width:4; stroke-opacity:1; fill:none\" points=\"\n",
       "  523.64,1441.41 526.903,1440.07 531.797,1435.59 531.797,1470.15 \n",
       "  \"/>\n",
       "<polyline clip-path=\"url(#clip7001)\" style=\"stroke:#000000; stroke-width:4; stroke-opacity:1; fill:none\" points=\"\n",
       "  554.639,1468.98 553.008,1470.48 554.639,1472.27 556.271,1470.78 554.639,1468.98 \n",
       "  \"/>\n",
       "<polyline clip-path=\"url(#clip7001)\" style=\"stroke:#000000; stroke-width:4; stroke-opacity:1; fill:none\" points=\"\n",
       "  577.481,1439.84 572.586,1441.03 569.323,1445.66 567.691,1453.74 567.691,1458.68 569.323,1467.06 572.586,1472.3 577.481,1474.4 580.744,1474.71 585.638,1473.52 \n",
       "  588.902,1468.88 590.533,1460.81 590.533,1455.87 588.902,1447.49 585.638,1442.25 580.744,1440.15 577.481,1439.84 \n",
       "  \"/>\n",
       "<polyline clip-path=\"url(#clip7001)\" style=\"stroke:#000000; stroke-width:4; stroke-opacity:1; fill:none\" points=\"\n",
       "  695.695,1470.61 725.063,1473.34 \n",
       "  \"/>\n",
       "<polyline clip-path=\"url(#clip7001)\" style=\"stroke:#000000; stroke-width:4; stroke-opacity:1; fill:none\" points=\"\n",
       "  746.273,1455.57 741.379,1456.76 738.115,1461.39 736.484,1469.47 736.484,1474.41 738.115,1482.79 741.379,1488.03 746.273,1490.13 749.536,1490.43 754.431,1489.24 \n",
       "  757.694,1484.61 759.326,1476.53 759.326,1471.6 757.694,1463.22 754.431,1457.98 749.536,1455.87 746.273,1455.57 \n",
       "  \"/>\n",
       "<polyline clip-path=\"url(#clip7001)\" style=\"stroke:#000000; stroke-width:4; stroke-opacity:1; fill:none\" points=\"\n",
       "  772.378,1489.27 770.746,1490.76 772.378,1492.56 774.01,1491.07 772.378,1489.27 \n",
       "  \"/>\n",
       "<polyline clip-path=\"url(#clip7001)\" style=\"stroke:#000000; stroke-width:4; stroke-opacity:1; fill:none\" points=\"\n",
       "  805.009,1461.04 788.694,1459.52 787.062,1474.18 788.694,1472.69 793.588,1471.5 798.483,1471.95 803.377,1474.06 806.641,1477.65 808.272,1482.74 808.272,1486.03 \n",
       "  806.641,1490.82 803.377,1493.8 798.483,1494.99 793.588,1494.54 788.694,1492.44 787.062,1490.64 785.43,1487.2 \n",
       "  \"/>\n",
       "<polyline clip-path=\"url(#clip7001)\" style=\"stroke:#000000; stroke-width:4; stroke-opacity:1; fill:none\" points=\"\n",
       "  967.275,1476.16 962.381,1477.35 959.118,1481.99 957.486,1490.06 957.486,1495 959.118,1503.38 962.381,1508.62 967.275,1510.72 970.538,1511.03 975.433,1509.84 \n",
       "  978.696,1505.2 980.328,1497.13 980.328,1492.19 978.696,1483.81 975.433,1478.57 970.538,1476.47 967.275,1476.16 \n",
       "  \"/>\n",
       "<polyline clip-path=\"url(#clip7001)\" style=\"stroke:#000000; stroke-width:4; stroke-opacity:1; fill:none\" points=\"\n",
       "  1160.54,1494.17 1155.65,1495.36 1152.38,1499.99 1150.75,1508.07 1150.75,1513.01 1152.38,1521.39 1155.65,1526.63 1160.54,1528.73 1163.8,1529.03 1168.7,1527.85 \n",
       "  1171.96,1523.21 1173.59,1515.14 1173.59,1510.2 1171.96,1501.82 1168.7,1496.58 1163.8,1494.47 1160.54,1494.17 \n",
       "  \"/>\n",
       "<polyline clip-path=\"url(#clip7001)\" style=\"stroke:#000000; stroke-width:4; stroke-opacity:1; fill:none\" points=\"\n",
       "  1186.65,1527.87 1185.01,1529.37 1186.65,1531.16 1188.28,1529.67 1186.65,1527.87 \n",
       "  \"/>\n",
       "<polyline clip-path=\"url(#clip7001)\" style=\"stroke:#000000; stroke-width:4; stroke-opacity:1; fill:none\" points=\"\n",
       "  1219.28,1499.64 1202.96,1498.12 1201.33,1512.78 1202.96,1511.29 1207.86,1510.1 1212.75,1510.56 1217.65,1512.66 1220.91,1516.25 1222.54,1521.34 1222.54,1524.63 \n",
       "  1220.91,1529.42 1217.65,1532.41 1212.75,1533.6 1207.86,1533.14 1202.96,1531.04 1201.33,1529.24 1199.7,1525.8 \n",
       "  \"/>\n",
       "<polyline clip-path=\"url(#clip7001)\" style=\"stroke:#000000; stroke-width:4; stroke-opacity:1; fill:none\" points=\"\n",
       "  1373.39,1520.59 1376.65,1519.24 1381.54,1514.76 1381.54,1549.32 \n",
       "  \"/>\n",
       "<polyline clip-path=\"url(#clip7001)\" style=\"stroke:#000000; stroke-width:4; stroke-opacity:1; fill:none\" points=\"\n",
       "  1404.38,1548.16 1402.75,1549.65 1404.38,1551.45 1406.02,1549.96 1404.38,1548.16 \n",
       "  \"/>\n",
       "<polyline clip-path=\"url(#clip7001)\" style=\"stroke:#000000; stroke-width:4; stroke-opacity:1; fill:none\" points=\"\n",
       "  1427.23,1519.02 1422.33,1520.21 1419.07,1524.84 1417.44,1532.92 1417.44,1537.86 1419.07,1546.24 1422.33,1551.48 1427.23,1553.58 1430.49,1553.88 1435.38,1552.69 \n",
       "  1438.65,1548.06 1440.28,1539.98 1440.28,1535.05 1438.65,1526.67 1435.38,1521.43 1430.49,1519.32 1427.23,1519.02 \n",
       "  \"/>\n",
       "<polyline clip-path=\"url(#clip7001)\" style=\"stroke:#000000; stroke-width:4; stroke-opacity:1; fill:none\" points=\"\n",
       "  527.267,1417.45 553.395,1419.89 542.735,1425.05 553.395,1419.89 662.265,1430.03 656.935,1432.61 662.265,1430.03 771.134,1440.17 760.474,1445.34 771.134,1440.17 \n",
       "  880.004,1450.32 874.674,1452.9 880.004,1450.32 988.873,1460.46 978.213,1465.62 988.873,1460.46 1097.74,1470.61 1092.41,1473.19 1097.74,1470.61 1206.61,1480.75 \n",
       "  1195.95,1485.91 1206.61,1480.75 1315.48,1490.9 1310.15,1493.48 1315.48,1490.9 1424.35,1501.04 1413.69,1506.2 1424.35,1501.04 1450.48,1503.47 \n",
       "  \"/>\n",
       "<polyline clip-path=\"url(#clip7001)\" style=\"stroke:#000000; stroke-width:4; stroke-opacity:1; fill:none\" points=\"\n",
       "  1466.61,1544.46 1490.61,1532.84 \n",
       "  \"/>\n",
       "<polyline clip-path=\"url(#clip7001)\" style=\"stroke:#000000; stroke-width:4; stroke-opacity:1; fill:none\" points=\"\n",
       "  1503.94,1513.22 1506.6,1510.28 1510.6,1503.41 1510.6,1537.97 \n",
       "  \"/>\n",
       "<polyline clip-path=\"url(#clip7001)\" style=\"stroke:#000000; stroke-width:4; stroke-opacity:1; fill:none\" points=\"\n",
       "  1529.27,1525.64 1527.94,1527.93 1529.27,1528.93 1530.6,1526.64 1529.27,1525.64 \n",
       "  \"/>\n",
       "<polyline clip-path=\"url(#clip7001)\" style=\"stroke:#000000; stroke-width:4; stroke-opacity:1; fill:none\" points=\"\n",
       "  1547.93,1485.33 1543.93,1488.92 1541.27,1495.14 1539.93,1504.02 1539.93,1508.96 1541.27,1516.54 1543.93,1520.19 1547.93,1519.89 1550.6,1518.6 1554.6,1515.02 \n",
       "  1557.27,1508.79 1558.6,1499.92 1558.6,1494.98 1557.27,1487.4 1554.6,1483.75 1550.6,1484.04 1547.93,1485.33 \n",
       "  \"/>\n",
       "<polyline clip-path=\"url(#clip7001)\" style=\"stroke:#000000; stroke-width:4; stroke-opacity:1; fill:none\" points=\"\n",
       "  1592.32,1483.59 1616.32,1471.97 \n",
       "  \"/>\n",
       "<polyline clip-path=\"url(#clip7001)\" style=\"stroke:#000000; stroke-width:4; stroke-opacity:1; fill:none\" points=\"\n",
       "  1633.65,1443.83 1629.65,1447.42 1626.98,1453.64 1625.65,1462.52 1625.65,1467.45 1626.98,1475.04 1629.65,1478.68 1633.65,1478.39 1636.32,1477.1 1640.31,1473.52 \n",
       "  1642.98,1467.29 1644.31,1458.42 1644.31,1453.48 1642.98,1445.9 1640.31,1442.25 1636.32,1442.54 1633.65,1443.83 \n",
       "  \"/>\n",
       "<polyline clip-path=\"url(#clip7001)\" style=\"stroke:#000000; stroke-width:4; stroke-opacity:1; fill:none\" points=\"\n",
       "  1654.98,1464.77 1653.65,1467.07 1654.98,1468.07 1656.31,1465.77 1654.98,1464.77 \n",
       "  \"/>\n",
       "<polyline clip-path=\"url(#clip7001)\" style=\"stroke:#000000; stroke-width:4; stroke-opacity:1; fill:none\" points=\"\n",
       "  1681.64,1420.6 1668.31,1427.05 1666.98,1442.51 1668.31,1440.22 1672.31,1436.63 1676.31,1434.7 1680.31,1434.41 1682.98,1436.41 1684.31,1440.7 1684.31,1443.99 \n",
       "  1682.98,1449.57 1680.31,1454.16 1676.31,1457.74 1672.31,1459.67 1668.31,1459.96 1666.98,1458.96 1665.65,1456.32 \n",
       "  \"/>\n",
       "<polyline clip-path=\"url(#clip7001)\" style=\"stroke:#000000; stroke-width:4; stroke-opacity:1; fill:none\" points=\"\n",
       "  1762.03,1381.68 1758.03,1385.26 1755.36,1391.49 1754.03,1400.36 1754.03,1405.3 1755.36,1412.88 1758.03,1416.53 1762.03,1416.24 1764.69,1414.95 1768.69,1411.36 \n",
       "  1771.36,1405.13 1772.69,1396.26 1772.69,1391.32 1771.36,1383.74 1768.69,1380.09 1764.69,1380.39 1762.03,1381.68 \n",
       "  \"/>\n",
       "<polyline clip-path=\"url(#clip7001)\" style=\"stroke:#000000; stroke-width:4; stroke-opacity:1; fill:none\" points=\"\n",
       "  1867.74,1330.49 1863.74,1334.07 1861.07,1340.3 1859.74,1349.18 1859.74,1354.11 1861.07,1361.7 1863.74,1365.34 1867.74,1365.05 1870.41,1363.76 1874.41,1360.18 \n",
       "  1877.07,1353.95 1878.41,1345.08 1878.41,1340.14 1877.07,1332.56 1874.41,1328.91 1870.41,1329.2 1867.74,1330.49 \n",
       "  \"/>\n",
       "<polyline clip-path=\"url(#clip7001)\" style=\"stroke:#000000; stroke-width:4; stroke-opacity:1; fill:none\" points=\"\n",
       "  1889.07,1351.43 1887.74,1353.72 1889.07,1354.72 1890.4,1352.43 1889.07,1351.43 \n",
       "  \"/>\n",
       "<polyline clip-path=\"url(#clip7001)\" style=\"stroke:#000000; stroke-width:4; stroke-opacity:1; fill:none\" points=\"\n",
       "  1915.74,1307.25 1902.4,1313.71 1901.07,1329.17 1902.4,1326.88 1906.4,1323.29 1910.4,1321.36 1914.4,1321.07 1917.07,1323.07 1918.4,1327.36 1918.4,1330.65 \n",
       "  1917.07,1336.23 1914.4,1340.81 1910.4,1344.4 1906.4,1346.33 1902.4,1346.62 1901.07,1345.62 1899.74,1342.98 \n",
       "  \"/>\n",
       "<polyline clip-path=\"url(#clip7001)\" style=\"stroke:#000000; stroke-width:4; stroke-opacity:1; fill:none\" points=\"\n",
       "  1989.45,1278.15 1992.12,1275.21 1996.12,1268.34 1996.12,1302.9 \n",
       "  \"/>\n",
       "<polyline clip-path=\"url(#clip7001)\" style=\"stroke:#000000; stroke-width:4; stroke-opacity:1; fill:none\" points=\"\n",
       "  2014.78,1290.57 2013.45,1292.86 2014.78,1293.86 2016.12,1291.57 2014.78,1290.57 \n",
       "  \"/>\n",
       "<polyline clip-path=\"url(#clip7001)\" style=\"stroke:#000000; stroke-width:4; stroke-opacity:1; fill:none\" points=\"\n",
       "  2033.45,1250.26 2029.45,1253.84 2026.78,1260.07 2025.45,1268.95 2025.45,1273.88 2026.78,1281.47 2029.45,1285.11 2033.45,1284.82 2036.11,1283.53 2040.11,1279.95 \n",
       "  2042.78,1273.72 2044.11,1264.85 2044.11,1259.91 2042.78,1252.33 2040.11,1248.68 2036.11,1248.97 2033.45,1250.26 \n",
       "  \"/>\n",
       "<polyline clip-path=\"url(#clip7001)\" style=\"stroke:#000000; stroke-width:4; stroke-opacity:1; fill:none\" points=\"\n",
       "  1450.48,1503.47 1465.57,1496.17 1484.03,1497.89 1465.57,1496.17 1528.42,1465.74 1537.65,1466.6 1528.42,1465.74 1591.28,1435.3 1609.74,1437.03 1591.28,1435.3 \n",
       "  1654.13,1404.87 1663.36,1405.73 1654.13,1404.87 1716.99,1374.44 1735.45,1376.16 1716.99,1374.44 1779.84,1344.01 1789.08,1344.87 1779.84,1344.01 1842.7,1313.57 \n",
       "  1861.16,1315.29 1842.7,1313.57 1905.56,1283.14 1914.79,1284 1905.56,1283.14 1968.41,1252.71 1986.88,1254.43 1968.41,1252.71 1983.5,1245.4 \n",
       "  \"/>\n",
       "<circle clip-path=\"url(#clip7003)\" style=\"fill:#000000; stroke:none; fill-opacity:1\" cx=\"1615.03\" cy=\"953.495\" r=\"18\"/>\n",
       "<circle clip-path=\"url(#clip7003)\" style=\"fill:#009af9; stroke:none; fill-opacity:1\" cx=\"1615.03\" cy=\"953.495\" r=\"14\"/>\n",
       "<circle clip-path=\"url(#clip7003)\" style=\"fill:#000000; stroke:none; fill-opacity:1\" cx=\"1605.56\" cy=\"899.907\" r=\"18\"/>\n",
       "<circle clip-path=\"url(#clip7003)\" style=\"fill:#009af9; stroke:none; fill-opacity:1\" cx=\"1605.56\" cy=\"899.907\" r=\"14\"/>\n",
       "<circle clip-path=\"url(#clip7003)\" style=\"fill:#000000; stroke:none; fill-opacity:1\" cx=\"1077.97\" cy=\"319.841\" r=\"18\"/>\n",
       "<circle clip-path=\"url(#clip7003)\" style=\"fill:#009af9; stroke:none; fill-opacity:1\" cx=\"1077.97\" cy=\"319.841\" r=\"14\"/>\n",
       "<circle clip-path=\"url(#clip7003)\" style=\"fill:#000000; stroke:none; fill-opacity:1\" cx=\"903.981\" cy=\"980.055\" r=\"18\"/>\n",
       "<circle clip-path=\"url(#clip7003)\" style=\"fill:#009af9; stroke:none; fill-opacity:1\" cx=\"903.981\" cy=\"980.055\" r=\"14\"/>\n",
       "<circle clip-path=\"url(#clip7003)\" style=\"fill:#000000; stroke:none; fill-opacity:1\" cx=\"1185.1\" cy=\"856.7\" r=\"18\"/>\n",
       "<circle clip-path=\"url(#clip7003)\" style=\"fill:#009af9; stroke:none; fill-opacity:1\" cx=\"1185.1\" cy=\"856.7\" r=\"14\"/>\n",
       "<circle clip-path=\"url(#clip7003)\" style=\"fill:#000000; stroke:none; fill-opacity:1\" cx=\"1080.62\" cy=\"462.568\" r=\"18\"/>\n",
       "<circle clip-path=\"url(#clip7003)\" style=\"fill:#009af9; stroke:none; fill-opacity:1\" cx=\"1080.62\" cy=\"462.568\" r=\"14\"/>\n",
       "<circle clip-path=\"url(#clip7003)\" style=\"fill:#000000; stroke:none; fill-opacity:1\" cx=\"1480.37\" cy=\"750.399\" r=\"18\"/>\n",
       "<circle clip-path=\"url(#clip7003)\" style=\"fill:#009af9; stroke:none; fill-opacity:1\" cx=\"1480.37\" cy=\"750.399\" r=\"14\"/>\n",
       "<circle clip-path=\"url(#clip7003)\" style=\"fill:#000000; stroke:none; fill-opacity:1\" cx=\"1391.76\" cy=\"722.126\" r=\"18\"/>\n",
       "<circle clip-path=\"url(#clip7003)\" style=\"fill:#009af9; stroke:none; fill-opacity:1\" cx=\"1391.76\" cy=\"722.126\" r=\"14\"/>\n",
       "<circle clip-path=\"url(#clip7003)\" style=\"fill:#000000; stroke:none; fill-opacity:1\" cx=\"1547.18\" cy=\"997.871\" r=\"18\"/>\n",
       "<circle clip-path=\"url(#clip7003)\" style=\"fill:#009af9; stroke:none; fill-opacity:1\" cx=\"1547.18\" cy=\"997.871\" r=\"14\"/>\n",
       "<circle clip-path=\"url(#clip7003)\" style=\"fill:#000000; stroke:none; fill-opacity:1\" cx=\"757.902\" cy=\"825.077\" r=\"18\"/>\n",
       "<circle clip-path=\"url(#clip7003)\" style=\"fill:#009af9; stroke:none; fill-opacity:1\" cx=\"757.902\" cy=\"825.077\" r=\"14\"/>\n",
       "<circle clip-path=\"url(#clip7003)\" style=\"fill:#000000; stroke:none; fill-opacity:1\" cx=\"1631.37\" cy=\"616.947\" r=\"18\"/>\n",
       "<circle clip-path=\"url(#clip7003)\" style=\"fill:#009af9; stroke:none; fill-opacity:1\" cx=\"1631.37\" cy=\"616.947\" r=\"14\"/>\n",
       "<circle clip-path=\"url(#clip7003)\" style=\"fill:#000000; stroke:none; fill-opacity:1\" cx=\"1301.24\" cy=\"1195.23\" r=\"18\"/>\n",
       "<circle clip-path=\"url(#clip7003)\" style=\"fill:#009af9; stroke:none; fill-opacity:1\" cx=\"1301.24\" cy=\"1195.23\" r=\"14\"/>\n",
       "<circle clip-path=\"url(#clip7003)\" style=\"fill:#000000; stroke:none; fill-opacity:1\" cx=\"1742.43\" cy=\"788.178\" r=\"18\"/>\n",
       "<circle clip-path=\"url(#clip7003)\" style=\"fill:#009af9; stroke:none; fill-opacity:1\" cx=\"1742.43\" cy=\"788.178\" r=\"14\"/>\n",
       "<circle clip-path=\"url(#clip7003)\" style=\"fill:#000000; stroke:none; fill-opacity:1\" cx=\"1295.48\" cy=\"994.434\" r=\"18\"/>\n",
       "<circle clip-path=\"url(#clip7003)\" style=\"fill:#009af9; stroke:none; fill-opacity:1\" cx=\"1295.48\" cy=\"994.434\" r=\"14\"/>\n",
       "<circle clip-path=\"url(#clip7003)\" style=\"fill:#000000; stroke:none; fill-opacity:1\" cx=\"1148.27\" cy=\"1149.95\" r=\"18\"/>\n",
       "<circle clip-path=\"url(#clip7003)\" style=\"fill:#009af9; stroke:none; fill-opacity:1\" cx=\"1148.27\" cy=\"1149.95\" r=\"14\"/>\n",
       "<circle clip-path=\"url(#clip7003)\" style=\"fill:#000000; stroke:none; fill-opacity:1\" cx=\"1144.4\" cy=\"1050.06\" r=\"18\"/>\n",
       "<circle clip-path=\"url(#clip7003)\" style=\"fill:#009af9; stroke:none; fill-opacity:1\" cx=\"1144.4\" cy=\"1050.06\" r=\"14\"/>\n",
       "<circle clip-path=\"url(#clip7003)\" style=\"fill:#000000; stroke:none; fill-opacity:1\" cx=\"1133.28\" cy=\"1093.85\" r=\"18\"/>\n",
       "<circle clip-path=\"url(#clip7003)\" style=\"fill:#009af9; stroke:none; fill-opacity:1\" cx=\"1133.28\" cy=\"1093.85\" r=\"14\"/>\n",
       "<circle clip-path=\"url(#clip7003)\" style=\"fill:#000000; stroke:none; fill-opacity:1\" cx=\"1417.48\" cy=\"694.072\" r=\"18\"/>\n",
       "<circle clip-path=\"url(#clip7003)\" style=\"fill:#009af9; stroke:none; fill-opacity:1\" cx=\"1417.48\" cy=\"694.072\" r=\"14\"/>\n",
       "<circle clip-path=\"url(#clip7003)\" style=\"fill:#000000; stroke:none; fill-opacity:1\" cx=\"1557.55\" cy=\"880.774\" r=\"18\"/>\n",
       "<circle clip-path=\"url(#clip7003)\" style=\"fill:#009af9; stroke:none; fill-opacity:1\" cx=\"1557.55\" cy=\"880.774\" r=\"14\"/>\n",
       "<circle clip-path=\"url(#clip7003)\" style=\"fill:#000000; stroke:none; fill-opacity:1\" cx=\"1448.6\" cy=\"983.122\" r=\"18\"/>\n",
       "<circle clip-path=\"url(#clip7003)\" style=\"fill:#009af9; stroke:none; fill-opacity:1\" cx=\"1448.6\" cy=\"983.122\" r=\"14\"/>\n",
       "<circle clip-path=\"url(#clip7003)\" style=\"fill:#000000; stroke:none; fill-opacity:1\" cx=\"1096.01\" cy=\"891.493\" r=\"18\"/>\n",
       "<circle clip-path=\"url(#clip7003)\" style=\"fill:#009af9; stroke:none; fill-opacity:1\" cx=\"1096.01\" cy=\"891.493\" r=\"14\"/>\n",
       "<circle clip-path=\"url(#clip7003)\" style=\"fill:#000000; stroke:none; fill-opacity:1\" cx=\"915.185\" cy=\"976.047\" r=\"18\"/>\n",
       "<circle clip-path=\"url(#clip7003)\" style=\"fill:#009af9; stroke:none; fill-opacity:1\" cx=\"915.185\" cy=\"976.047\" r=\"14\"/>\n",
       "<circle clip-path=\"url(#clip7003)\" style=\"fill:#000000; stroke:none; fill-opacity:1\" cx=\"1089.75\" cy=\"1140.25\" r=\"18\"/>\n",
       "<circle clip-path=\"url(#clip7003)\" style=\"fill:#009af9; stroke:none; fill-opacity:1\" cx=\"1089.75\" cy=\"1140.25\" r=\"14\"/>\n",
       "<circle clip-path=\"url(#clip7003)\" style=\"fill:#000000; stroke:none; fill-opacity:1\" cx=\"1630.91\" cy=\"917.912\" r=\"18\"/>\n",
       "<circle clip-path=\"url(#clip7003)\" style=\"fill:#009af9; stroke:none; fill-opacity:1\" cx=\"1630.91\" cy=\"917.912\" r=\"14\"/>\n",
       "<circle clip-path=\"url(#clip7003)\" style=\"fill:#000000; stroke:none; fill-opacity:1\" cx=\"1516.19\" cy=\"732.516\" r=\"18\"/>\n",
       "<circle clip-path=\"url(#clip7003)\" style=\"fill:#009af9; stroke:none; fill-opacity:1\" cx=\"1516.19\" cy=\"732.516\" r=\"14\"/>\n",
       "<circle clip-path=\"url(#clip7003)\" style=\"fill:#000000; stroke:none; fill-opacity:1\" cx=\"1346.31\" cy=\"1068.5\" r=\"18\"/>\n",
       "<circle clip-path=\"url(#clip7003)\" style=\"fill:#009af9; stroke:none; fill-opacity:1\" cx=\"1346.31\" cy=\"1068.5\" r=\"14\"/>\n",
       "<circle clip-path=\"url(#clip7003)\" style=\"fill:#000000; stroke:none; fill-opacity:1\" cx=\"793.964\" cy=\"800.483\" r=\"18\"/>\n",
       "<circle clip-path=\"url(#clip7003)\" style=\"fill:#009af9; stroke:none; fill-opacity:1\" cx=\"793.964\" cy=\"800.483\" r=\"14\"/>\n",
       "<circle clip-path=\"url(#clip7003)\" style=\"fill:#000000; stroke:none; fill-opacity:1\" cx=\"1136.8\" cy=\"1071.49\" r=\"18\"/>\n",
       "<circle clip-path=\"url(#clip7003)\" style=\"fill:#009af9; stroke:none; fill-opacity:1\" cx=\"1136.8\" cy=\"1071.49\" r=\"14\"/>\n",
       "<circle clip-path=\"url(#clip7003)\" style=\"fill:#000000; stroke:none; fill-opacity:1\" cx=\"1028.73\" cy=\"1033.49\" r=\"18\"/>\n",
       "<circle clip-path=\"url(#clip7003)\" style=\"fill:#009af9; stroke:none; fill-opacity:1\" cx=\"1028.73\" cy=\"1033.49\" r=\"14\"/>\n",
       "<circle clip-path=\"url(#clip7003)\" style=\"fill:#000000; stroke:none; fill-opacity:1\" cx=\"927.395\" cy=\"946.141\" r=\"18\"/>\n",
       "<circle clip-path=\"url(#clip7003)\" style=\"fill:#009af9; stroke:none; fill-opacity:1\" cx=\"927.395\" cy=\"946.141\" r=\"14\"/>\n",
       "<circle clip-path=\"url(#clip7003)\" style=\"fill:#000000; stroke:none; fill-opacity:1\" cx=\"809.591\" cy=\"850.876\" r=\"18\"/>\n",
       "<circle clip-path=\"url(#clip7003)\" style=\"fill:#009af9; stroke:none; fill-opacity:1\" cx=\"809.591\" cy=\"850.876\" r=\"14\"/>\n",
       "<circle clip-path=\"url(#clip7003)\" style=\"fill:#000000; stroke:none; fill-opacity:1\" cx=\"1667.86\" cy=\"913.886\" r=\"18\"/>\n",
       "<circle clip-path=\"url(#clip7003)\" style=\"fill:#009af9; stroke:none; fill-opacity:1\" cx=\"1667.86\" cy=\"913.886\" r=\"14\"/>\n",
       "<circle clip-path=\"url(#clip7003)\" style=\"fill:#000000; stroke:none; fill-opacity:1\" cx=\"1659.38\" cy=\"801.007\" r=\"18\"/>\n",
       "<circle clip-path=\"url(#clip7003)\" style=\"fill:#009af9; stroke:none; fill-opacity:1\" cx=\"1659.38\" cy=\"801.007\" r=\"14\"/>\n",
       "<circle clip-path=\"url(#clip7003)\" style=\"fill:#000000; stroke:none; fill-opacity:1\" cx=\"1131.49\" cy=\"991.182\" r=\"18\"/>\n",
       "<circle clip-path=\"url(#clip7003)\" style=\"fill:#009af9; stroke:none; fill-opacity:1\" cx=\"1131.49\" cy=\"991.182\" r=\"14\"/>\n",
       "<circle clip-path=\"url(#clip7003)\" style=\"fill:#000000; stroke:none; fill-opacity:1\" cx=\"1223.88\" cy=\"921.444\" r=\"18\"/>\n",
       "<circle clip-path=\"url(#clip7003)\" style=\"fill:#009af9; stroke:none; fill-opacity:1\" cx=\"1223.88\" cy=\"921.444\" r=\"14\"/>\n",
       "<circle clip-path=\"url(#clip7003)\" style=\"fill:#000000; stroke:none; fill-opacity:1\" cx=\"572.482\" cy=\"500.638\" r=\"18\"/>\n",
       "<circle clip-path=\"url(#clip7003)\" style=\"fill:#009af9; stroke:none; fill-opacity:1\" cx=\"572.482\" cy=\"500.638\" r=\"14\"/>\n",
       "<circle clip-path=\"url(#clip7003)\" style=\"fill:#000000; stroke:none; fill-opacity:1\" cx=\"1499.6\" cy=\"871.365\" r=\"18\"/>\n",
       "<circle clip-path=\"url(#clip7003)\" style=\"fill:#009af9; stroke:none; fill-opacity:1\" cx=\"1499.6\" cy=\"871.365\" r=\"14\"/>\n",
       "<circle clip-path=\"url(#clip7003)\" style=\"fill:#000000; stroke:none; fill-opacity:1\" cx=\"1373.29\" cy=\"1174.23\" r=\"18\"/>\n",
       "<circle clip-path=\"url(#clip7003)\" style=\"fill:#009af9; stroke:none; fill-opacity:1\" cx=\"1373.29\" cy=\"1174.23\" r=\"14\"/>\n",
       "<circle clip-path=\"url(#clip7003)\" style=\"fill:#000000; stroke:none; fill-opacity:1\" cx=\"1257.52\" cy=\"1130.4\" r=\"18\"/>\n",
       "<circle clip-path=\"url(#clip7003)\" style=\"fill:#009af9; stroke:none; fill-opacity:1\" cx=\"1257.52\" cy=\"1130.4\" r=\"14\"/>\n",
       "<circle clip-path=\"url(#clip7003)\" style=\"fill:#000000; stroke:none; fill-opacity:1\" cx=\"1302.19\" cy=\"1112.06\" r=\"18\"/>\n",
       "<circle clip-path=\"url(#clip7003)\" style=\"fill:#009af9; stroke:none; fill-opacity:1\" cx=\"1302.19\" cy=\"1112.06\" r=\"14\"/>\n",
       "<circle clip-path=\"url(#clip7003)\" style=\"fill:#000000; stroke:none; fill-opacity:1\" cx=\"1616.46\" cy=\"871.788\" r=\"18\"/>\n",
       "<circle clip-path=\"url(#clip7003)\" style=\"fill:#009af9; stroke:none; fill-opacity:1\" cx=\"1616.46\" cy=\"871.788\" r=\"14\"/>\n",
       "<circle clip-path=\"url(#clip7003)\" style=\"fill:#000000; stroke:none; fill-opacity:1\" cx=\"1148.49\" cy=\"1160.25\" r=\"18\"/>\n",
       "<circle clip-path=\"url(#clip7003)\" style=\"fill:#009af9; stroke:none; fill-opacity:1\" cx=\"1148.49\" cy=\"1160.25\" r=\"14\"/>\n",
       "<circle clip-path=\"url(#clip7003)\" style=\"fill:#000000; stroke:none; fill-opacity:1\" cx=\"1030.19\" cy=\"1075.6\" r=\"18\"/>\n",
       "<circle clip-path=\"url(#clip7003)\" style=\"fill:#009af9; stroke:none; fill-opacity:1\" cx=\"1030.19\" cy=\"1075.6\" r=\"14\"/>\n",
       "<circle clip-path=\"url(#clip7003)\" style=\"fill:#000000; stroke:none; fill-opacity:1\" cx=\"1090.04\" cy=\"1048.04\" r=\"18\"/>\n",
       "<circle clip-path=\"url(#clip7003)\" style=\"fill:#009af9; stroke:none; fill-opacity:1\" cx=\"1090.04\" cy=\"1048.04\" r=\"14\"/>\n",
       "<circle clip-path=\"url(#clip7003)\" style=\"fill:#000000; stroke:none; fill-opacity:1\" cx=\"1253.39\" cy=\"1041.58\" r=\"18\"/>\n",
       "<circle clip-path=\"url(#clip7003)\" style=\"fill:#009af9; stroke:none; fill-opacity:1\" cx=\"1253.39\" cy=\"1041.58\" r=\"14\"/>\n",
       "<circle clip-path=\"url(#clip7003)\" style=\"fill:#000000; stroke:none; fill-opacity:1\" cx=\"1189.31\" cy=\"629.895\" r=\"18\"/>\n",
       "<circle clip-path=\"url(#clip7003)\" style=\"fill:#009af9; stroke:none; fill-opacity:1\" cx=\"1189.31\" cy=\"629.895\" r=\"14\"/>\n",
       "<circle clip-path=\"url(#clip7003)\" style=\"fill:#000000; stroke:none; fill-opacity:1\" cx=\"1113.62\" cy=\"1032.35\" r=\"18\"/>\n",
       "<circle clip-path=\"url(#clip7003)\" style=\"fill:#009af9; stroke:none; fill-opacity:1\" cx=\"1113.62\" cy=\"1032.35\" r=\"14\"/>\n",
       "<circle clip-path=\"url(#clip7003)\" style=\"fill:#000000; stroke:none; fill-opacity:1\" cx=\"1309.34\" cy=\"1157.94\" r=\"18\"/>\n",
       "<circle clip-path=\"url(#clip7003)\" style=\"fill:#009af9; stroke:none; fill-opacity:1\" cx=\"1309.34\" cy=\"1157.94\" r=\"14\"/>\n",
       "<circle clip-path=\"url(#clip7003)\" style=\"fill:#000000; stroke:none; fill-opacity:1\" cx=\"1070.79\" cy=\"1116.39\" r=\"18\"/>\n",
       "<circle clip-path=\"url(#clip7003)\" style=\"fill:#009af9; stroke:none; fill-opacity:1\" cx=\"1070.79\" cy=\"1116.39\" r=\"14\"/>\n",
       "<circle clip-path=\"url(#clip7003)\" style=\"fill:#000000; stroke:none; fill-opacity:1\" cx=\"1845.04\" cy=\"559.632\" r=\"18\"/>\n",
       "<circle clip-path=\"url(#clip7003)\" style=\"fill:#009af9; stroke:none; fill-opacity:1\" cx=\"1845.04\" cy=\"559.632\" r=\"14\"/>\n",
       "<circle clip-path=\"url(#clip7003)\" style=\"fill:#000000; stroke:none; fill-opacity:1\" cx=\"1176.08\" cy=\"619.51\" r=\"18\"/>\n",
       "<circle clip-path=\"url(#clip7003)\" style=\"fill:#009af9; stroke:none; fill-opacity:1\" cx=\"1176.08\" cy=\"619.51\" r=\"14\"/>\n",
       "<circle clip-path=\"url(#clip7003)\" style=\"fill:#000000; stroke:none; fill-opacity:1\" cx=\"1130.01\" cy=\"1125.06\" r=\"18\"/>\n",
       "<circle clip-path=\"url(#clip7003)\" style=\"fill:#009af9; stroke:none; fill-opacity:1\" cx=\"1130.01\" cy=\"1125.06\" r=\"14\"/>\n",
       "<circle clip-path=\"url(#clip7003)\" style=\"fill:#000000; stroke:none; fill-opacity:1\" cx=\"1263.03\" cy=\"714.687\" r=\"18\"/>\n",
       "<circle clip-path=\"url(#clip7003)\" style=\"fill:#009af9; stroke:none; fill-opacity:1\" cx=\"1263.03\" cy=\"714.687\" r=\"14\"/>\n",
       "<circle clip-path=\"url(#clip7003)\" style=\"fill:#000000; stroke:none; fill-opacity:1\" cx=\"1151.4\" cy=\"1130.57\" r=\"18\"/>\n",
       "<circle clip-path=\"url(#clip7003)\" style=\"fill:#009af9; stroke:none; fill-opacity:1\" cx=\"1151.4\" cy=\"1130.57\" r=\"14\"/>\n",
       "<circle clip-path=\"url(#clip7003)\" style=\"fill:#000000; stroke:none; fill-opacity:1\" cx=\"1438.01\" cy=\"717.37\" r=\"18\"/>\n",
       "<circle clip-path=\"url(#clip7003)\" style=\"fill:#009af9; stroke:none; fill-opacity:1\" cx=\"1438.01\" cy=\"717.37\" r=\"14\"/>\n",
       "<circle clip-path=\"url(#clip7003)\" style=\"fill:#000000; stroke:none; fill-opacity:1\" cx=\"974.695\" cy=\"1084.48\" r=\"18\"/>\n",
       "<circle clip-path=\"url(#clip7003)\" style=\"fill:#009af9; stroke:none; fill-opacity:1\" cx=\"974.695\" cy=\"1084.48\" r=\"14\"/>\n",
       "<circle clip-path=\"url(#clip7003)\" style=\"fill:#000000; stroke:none; fill-opacity:1\" cx=\"943.26\" cy=\"643.344\" r=\"18\"/>\n",
       "<circle clip-path=\"url(#clip7003)\" style=\"fill:#009af9; stroke:none; fill-opacity:1\" cx=\"943.26\" cy=\"643.344\" r=\"14\"/>\n",
       "<circle clip-path=\"url(#clip7003)\" style=\"fill:#000000; stroke:none; fill-opacity:1\" cx=\"1239.58\" cy=\"999.802\" r=\"18\"/>\n",
       "<circle clip-path=\"url(#clip7003)\" style=\"fill:#009af9; stroke:none; fill-opacity:1\" cx=\"1239.58\" cy=\"999.802\" r=\"14\"/>\n",
       "<circle clip-path=\"url(#clip7003)\" style=\"fill:#000000; stroke:none; fill-opacity:1\" cx=\"1456.47\" cy=\"708.555\" r=\"18\"/>\n",
       "<circle clip-path=\"url(#clip7003)\" style=\"fill:#009af9; stroke:none; fill-opacity:1\" cx=\"1456.47\" cy=\"708.555\" r=\"14\"/>\n",
       "<circle clip-path=\"url(#clip7003)\" style=\"fill:#000000; stroke:none; fill-opacity:1\" cx=\"1250.51\" cy=\"1115.02\" r=\"18\"/>\n",
       "<circle clip-path=\"url(#clip7003)\" style=\"fill:#009af9; stroke:none; fill-opacity:1\" cx=\"1250.51\" cy=\"1115.02\" r=\"14\"/>\n",
       "<circle clip-path=\"url(#clip7003)\" style=\"fill:#000000; stroke:none; fill-opacity:1\" cx=\"1602.19\" cy=\"734.666\" r=\"18\"/>\n",
       "<circle clip-path=\"url(#clip7003)\" style=\"fill:#009af9; stroke:none; fill-opacity:1\" cx=\"1602.19\" cy=\"734.666\" r=\"14\"/>\n",
       "<circle clip-path=\"url(#clip7003)\" style=\"fill:#000000; stroke:none; fill-opacity:1\" cx=\"1925.16\" cy=\"349.191\" r=\"18\"/>\n",
       "<circle clip-path=\"url(#clip7003)\" style=\"fill:#009af9; stroke:none; fill-opacity:1\" cx=\"1925.16\" cy=\"349.191\" r=\"14\"/>\n",
       "<circle clip-path=\"url(#clip7003)\" style=\"fill:#000000; stroke:none; fill-opacity:1\" cx=\"928.237\" cy=\"985.879\" r=\"18\"/>\n",
       "<circle clip-path=\"url(#clip7003)\" style=\"fill:#009af9; stroke:none; fill-opacity:1\" cx=\"928.237\" cy=\"985.879\" r=\"14\"/>\n",
       "<circle clip-path=\"url(#clip7003)\" style=\"fill:#000000; stroke:none; fill-opacity:1\" cx=\"1620.81\" cy=\"853.85\" r=\"18\"/>\n",
       "<circle clip-path=\"url(#clip7003)\" style=\"fill:#009af9; stroke:none; fill-opacity:1\" cx=\"1620.81\" cy=\"853.85\" r=\"14\"/>\n",
       "<circle clip-path=\"url(#clip7003)\" style=\"fill:#000000; stroke:none; fill-opacity:1\" cx=\"1442.13\" cy=\"799.659\" r=\"18\"/>\n",
       "<circle clip-path=\"url(#clip7003)\" style=\"fill:#009af9; stroke:none; fill-opacity:1\" cx=\"1442.13\" cy=\"799.659\" r=\"14\"/>\n",
       "<circle clip-path=\"url(#clip7003)\" style=\"fill:#000000; stroke:none; fill-opacity:1\" cx=\"1122.21\" cy=\"1088.27\" r=\"18\"/>\n",
       "<circle clip-path=\"url(#clip7003)\" style=\"fill:#009af9; stroke:none; fill-opacity:1\" cx=\"1122.21\" cy=\"1088.27\" r=\"14\"/>\n",
       "<circle clip-path=\"url(#clip7003)\" style=\"fill:#000000; stroke:none; fill-opacity:1\" cx=\"1353.34\" cy=\"686.254\" r=\"18\"/>\n",
       "<circle clip-path=\"url(#clip7003)\" style=\"fill:#009af9; stroke:none; fill-opacity:1\" cx=\"1353.34\" cy=\"686.254\" r=\"14\"/>\n",
       "<circle clip-path=\"url(#clip7003)\" style=\"fill:#000000; stroke:none; fill-opacity:1\" cx=\"1520.12\" cy=\"938.906\" r=\"18\"/>\n",
       "<circle clip-path=\"url(#clip7003)\" style=\"fill:#009af9; stroke:none; fill-opacity:1\" cx=\"1520.12\" cy=\"938.906\" r=\"14\"/>\n",
       "<circle clip-path=\"url(#clip7003)\" style=\"fill:#000000; stroke:none; fill-opacity:1\" cx=\"1828.68\" cy=\"601.605\" r=\"18\"/>\n",
       "<circle clip-path=\"url(#clip7003)\" style=\"fill:#009af9; stroke:none; fill-opacity:1\" cx=\"1828.68\" cy=\"601.605\" r=\"14\"/>\n",
       "<circle clip-path=\"url(#clip7003)\" style=\"fill:#000000; stroke:none; fill-opacity:1\" cx=\"826.336\" cy=\"872.255\" r=\"18\"/>\n",
       "<circle clip-path=\"url(#clip7003)\" style=\"fill:#009af9; stroke:none; fill-opacity:1\" cx=\"826.336\" cy=\"872.255\" r=\"14\"/>\n",
       "<circle clip-path=\"url(#clip7003)\" style=\"fill:#000000; stroke:none; fill-opacity:1\" cx=\"1630.43\" cy=\"915.703\" r=\"18\"/>\n",
       "<circle clip-path=\"url(#clip7003)\" style=\"fill:#009af9; stroke:none; fill-opacity:1\" cx=\"1630.43\" cy=\"915.703\" r=\"14\"/>\n",
       "<circle clip-path=\"url(#clip7003)\" style=\"fill:#000000; stroke:none; fill-opacity:1\" cx=\"1039.57\" cy=\"536.779\" r=\"18\"/>\n",
       "<circle clip-path=\"url(#clip7003)\" style=\"fill:#009af9; stroke:none; fill-opacity:1\" cx=\"1039.57\" cy=\"536.779\" r=\"14\"/>\n",
       "<circle clip-path=\"url(#clip7003)\" style=\"fill:#000000; stroke:none; fill-opacity:1\" cx=\"1469.67\" cy=\"1130.15\" r=\"18\"/>\n",
       "<circle clip-path=\"url(#clip7003)\" style=\"fill:#009af9; stroke:none; fill-opacity:1\" cx=\"1469.67\" cy=\"1130.15\" r=\"14\"/>\n",
       "<circle clip-path=\"url(#clip7003)\" style=\"fill:#000000; stroke:none; fill-opacity:1\" cx=\"1459.3\" cy=\"639.51\" r=\"18\"/>\n",
       "<circle clip-path=\"url(#clip7003)\" style=\"fill:#009af9; stroke:none; fill-opacity:1\" cx=\"1459.3\" cy=\"639.51\" r=\"14\"/>\n",
       "<circle clip-path=\"url(#clip7003)\" style=\"fill:#000000; stroke:none; fill-opacity:1\" cx=\"1475.33\" cy=\"938.243\" r=\"18\"/>\n",
       "<circle clip-path=\"url(#clip7003)\" style=\"fill:#009af9; stroke:none; fill-opacity:1\" cx=\"1475.33\" cy=\"938.243\" r=\"14\"/>\n",
       "<circle clip-path=\"url(#clip7003)\" style=\"fill:#000000; stroke:none; fill-opacity:1\" cx=\"999.695\" cy=\"1069.34\" r=\"18\"/>\n",
       "<circle clip-path=\"url(#clip7003)\" style=\"fill:#009af9; stroke:none; fill-opacity:1\" cx=\"999.695\" cy=\"1069.34\" r=\"14\"/>\n",
       "<circle clip-path=\"url(#clip7003)\" style=\"fill:#000000; stroke:none; fill-opacity:1\" cx=\"1308.25\" cy=\"1083\" r=\"18\"/>\n",
       "<circle clip-path=\"url(#clip7003)\" style=\"fill:#009af9; stroke:none; fill-opacity:1\" cx=\"1308.25\" cy=\"1083\" r=\"14\"/>\n",
       "<circle clip-path=\"url(#clip7003)\" style=\"fill:#000000; stroke:none; fill-opacity:1\" cx=\"1042.95\" cy=\"996.189\" r=\"18\"/>\n",
       "<circle clip-path=\"url(#clip7003)\" style=\"fill:#009af9; stroke:none; fill-opacity:1\" cx=\"1042.95\" cy=\"996.189\" r=\"14\"/>\n",
       "<circle clip-path=\"url(#clip7003)\" style=\"fill:#000000; stroke:none; fill-opacity:1\" cx=\"1222.21\" cy=\"844.185\" r=\"18\"/>\n",
       "<circle clip-path=\"url(#clip7003)\" style=\"fill:#009af9; stroke:none; fill-opacity:1\" cx=\"1222.21\" cy=\"844.185\" r=\"14\"/>\n",
       "<circle clip-path=\"url(#clip7003)\" style=\"fill:#000000; stroke:none; fill-opacity:1\" cx=\"823.089\" cy=\"861.888\" r=\"18\"/>\n",
       "<circle clip-path=\"url(#clip7003)\" style=\"fill:#009af9; stroke:none; fill-opacity:1\" cx=\"823.089\" cy=\"861.888\" r=\"14\"/>\n",
       "<circle clip-path=\"url(#clip7003)\" style=\"fill:#000000; stroke:none; fill-opacity:1\" cx=\"1556.87\" cy=\"970.524\" r=\"18\"/>\n",
       "<circle clip-path=\"url(#clip7003)\" style=\"fill:#009af9; stroke:none; fill-opacity:1\" cx=\"1556.87\" cy=\"970.524\" r=\"14\"/>\n",
       "<circle clip-path=\"url(#clip7003)\" style=\"fill:#000000; stroke:none; fill-opacity:1\" cx=\"1067.83\" cy=\"462.043\" r=\"18\"/>\n",
       "<circle clip-path=\"url(#clip7003)\" style=\"fill:#009af9; stroke:none; fill-opacity:1\" cx=\"1067.83\" cy=\"462.043\" r=\"14\"/>\n",
       "<circle clip-path=\"url(#clip7003)\" style=\"fill:#000000; stroke:none; fill-opacity:1\" cx=\"913.169\" cy=\"931.815\" r=\"18\"/>\n",
       "<circle clip-path=\"url(#clip7003)\" style=\"fill:#009af9; stroke:none; fill-opacity:1\" cx=\"913.169\" cy=\"931.815\" r=\"14\"/>\n",
       "<circle clip-path=\"url(#clip7003)\" style=\"fill:#000000; stroke:none; fill-opacity:1\" cx=\"1006.09\" cy=\"1010.06\" r=\"18\"/>\n",
       "<circle clip-path=\"url(#clip7003)\" style=\"fill:#009af9; stroke:none; fill-opacity:1\" cx=\"1006.09\" cy=\"1010.06\" r=\"14\"/>\n",
       "<circle clip-path=\"url(#clip7003)\" style=\"fill:#000000; stroke:none; fill-opacity:1\" cx=\"777.777\" cy=\"890.438\" r=\"18\"/>\n",
       "<circle clip-path=\"url(#clip7003)\" style=\"fill:#009af9; stroke:none; fill-opacity:1\" cx=\"777.777\" cy=\"890.438\" r=\"14\"/>\n",
       "<circle clip-path=\"url(#clip7003)\" style=\"fill:#000000; stroke:none; fill-opacity:1\" cx=\"1120.37\" cy=\"901.231\" r=\"18\"/>\n",
       "<circle clip-path=\"url(#clip7003)\" style=\"fill:#009af9; stroke:none; fill-opacity:1\" cx=\"1120.37\" cy=\"901.231\" r=\"14\"/>\n",
       "<circle clip-path=\"url(#clip7003)\" style=\"fill:#000000; stroke:none; fill-opacity:1\" cx=\"978.952\" cy=\"999.205\" r=\"18\"/>\n",
       "<circle clip-path=\"url(#clip7003)\" style=\"fill:#009af9; stroke:none; fill-opacity:1\" cx=\"978.952\" cy=\"999.205\" r=\"14\"/>\n",
       "<circle clip-path=\"url(#clip7003)\" style=\"fill:#000000; stroke:none; fill-opacity:1\" cx=\"1246.91\" cy=\"1110.93\" r=\"18\"/>\n",
       "<circle clip-path=\"url(#clip7003)\" style=\"fill:#009af9; stroke:none; fill-opacity:1\" cx=\"1246.91\" cy=\"1110.93\" r=\"14\"/>\n",
       "<circle clip-path=\"url(#clip7003)\" style=\"fill:#000000; stroke:none; fill-opacity:1\" cx=\"879.888\" cy=\"1007.02\" r=\"18\"/>\n",
       "<circle clip-path=\"url(#clip7003)\" style=\"fill:#009af9; stroke:none; fill-opacity:1\" cx=\"879.888\" cy=\"1007.02\" r=\"14\"/>\n",
       "<circle clip-path=\"url(#clip7003)\" style=\"fill:#000000; stroke:none; fill-opacity:1\" cx=\"1103.74\" cy=\"988.83\" r=\"18\"/>\n",
       "<circle clip-path=\"url(#clip7003)\" style=\"fill:#009af9; stroke:none; fill-opacity:1\" cx=\"1103.74\" cy=\"988.83\" r=\"14\"/>\n",
       "<circle clip-path=\"url(#clip7003)\" style=\"fill:#000000; stroke:none; fill-opacity:1\" cx=\"1721.88\" cy=\"839.543\" r=\"18\"/>\n",
       "<circle clip-path=\"url(#clip7003)\" style=\"fill:#009af9; stroke:none; fill-opacity:1\" cx=\"1721.88\" cy=\"839.543\" r=\"14\"/>\n",
       "<circle clip-path=\"url(#clip7003)\" style=\"fill:#000000; stroke:none; fill-opacity:1\" cx=\"1197.75\" cy=\"1104.24\" r=\"18\"/>\n",
       "<circle clip-path=\"url(#clip7003)\" style=\"fill:#009af9; stroke:none; fill-opacity:1\" cx=\"1197.75\" cy=\"1104.24\" r=\"14\"/>\n",
       "<circle clip-path=\"url(#clip7003)\" style=\"fill:#000000; stroke:none; fill-opacity:1\" cx=\"1154.39\" cy=\"586.181\" r=\"18\"/>\n",
       "<circle clip-path=\"url(#clip7003)\" style=\"fill:#009af9; stroke:none; fill-opacity:1\" cx=\"1154.39\" cy=\"586.181\" r=\"14\"/>\n",
       "<circle clip-path=\"url(#clip7003)\" style=\"fill:#000000; stroke:none; fill-opacity:1\" cx=\"1467.98\" cy=\"906.764\" r=\"18\"/>\n",
       "<circle clip-path=\"url(#clip7003)\" style=\"fill:#009af9; stroke:none; fill-opacity:1\" cx=\"1467.98\" cy=\"906.764\" r=\"14\"/>\n",
       "<circle clip-path=\"url(#clip7003)\" style=\"fill:#000000; stroke:none; fill-opacity:1\" cx=\"1204.87\" cy=\"1172.31\" r=\"18\"/>\n",
       "<circle clip-path=\"url(#clip7003)\" style=\"fill:#009af9; stroke:none; fill-opacity:1\" cx=\"1204.87\" cy=\"1172.31\" r=\"14\"/>\n",
       "<circle clip-path=\"url(#clip7003)\" style=\"fill:#000000; stroke:none; fill-opacity:1\" cx=\"1297.39\" cy=\"1154.53\" r=\"18\"/>\n",
       "<circle clip-path=\"url(#clip7003)\" style=\"fill:#009af9; stroke:none; fill-opacity:1\" cx=\"1297.39\" cy=\"1154.53\" r=\"14\"/>\n",
       "<circle clip-path=\"url(#clip7003)\" style=\"fill:#000000; stroke:none; fill-opacity:1\" cx=\"1114.39\" cy=\"980.883\" r=\"18\"/>\n",
       "<circle clip-path=\"url(#clip7003)\" style=\"fill:#009af9; stroke:none; fill-opacity:1\" cx=\"1114.39\" cy=\"980.883\" r=\"14\"/>\n",
       "<circle clip-path=\"url(#clip7003)\" style=\"fill:#000000; stroke:none; fill-opacity:1\" cx=\"922.073\" cy=\"711.859\" r=\"18\"/>\n",
       "<circle clip-path=\"url(#clip7003)\" style=\"fill:#009af9; stroke:none; fill-opacity:1\" cx=\"922.073\" cy=\"711.859\" r=\"14\"/>\n",
       "<circle clip-path=\"url(#clip7003)\" style=\"fill:#000000; stroke:none; fill-opacity:1\" cx=\"1400.48\" cy=\"1021.37\" r=\"18\"/>\n",
       "<circle clip-path=\"url(#clip7003)\" style=\"fill:#009af9; stroke:none; fill-opacity:1\" cx=\"1400.48\" cy=\"1021.37\" r=\"14\"/>\n",
       "<circle clip-path=\"url(#clip7003)\" style=\"fill:#000000; stroke:none; fill-opacity:1\" cx=\"1424.37\" cy=\"890.282\" r=\"18\"/>\n",
       "<circle clip-path=\"url(#clip7003)\" style=\"fill:#009af9; stroke:none; fill-opacity:1\" cx=\"1424.37\" cy=\"890.282\" r=\"14\"/>\n",
       "<circle clip-path=\"url(#clip7003)\" style=\"fill:#000000; stroke:none; fill-opacity:1\" cx=\"568.481\" cy=\"1018.46\" r=\"18\"/>\n",
       "<circle clip-path=\"url(#clip7003)\" style=\"fill:#e26f46; stroke:none; fill-opacity:1\" cx=\"568.481\" cy=\"1018.46\" r=\"14\"/>\n",
       "<circle clip-path=\"url(#clip7003)\" style=\"fill:#000000; stroke:none; fill-opacity:1\" cx=\"624.353\" cy=\"986.233\" r=\"18\"/>\n",
       "<circle clip-path=\"url(#clip7003)\" style=\"fill:#e26f46; stroke:none; fill-opacity:1\" cx=\"624.353\" cy=\"986.233\" r=\"14\"/>\n",
       "<circle clip-path=\"url(#clip7003)\" style=\"fill:#000000; stroke:none; fill-opacity:1\" cx=\"680.224\" cy=\"954.007\" r=\"18\"/>\n",
       "<circle clip-path=\"url(#clip7003)\" style=\"fill:#e26f46; stroke:none; fill-opacity:1\" cx=\"680.224\" cy=\"954.007\" r=\"14\"/>\n",
       "<circle clip-path=\"url(#clip7003)\" style=\"fill:#000000; stroke:none; fill-opacity:1\" cx=\"736.096\" cy=\"921.781\" r=\"18\"/>\n",
       "<circle clip-path=\"url(#clip7003)\" style=\"fill:#e26f46; stroke:none; fill-opacity:1\" cx=\"736.096\" cy=\"921.781\" r=\"14\"/>\n",
       "<circle clip-path=\"url(#clip7003)\" style=\"fill:#000000; stroke:none; fill-opacity:1\" cx=\"791.968\" cy=\"889.555\" r=\"18\"/>\n",
       "<circle clip-path=\"url(#clip7003)\" style=\"fill:#e26f46; stroke:none; fill-opacity:1\" cx=\"791.968\" cy=\"889.555\" r=\"14\"/>\n",
       "<circle clip-path=\"url(#clip7003)\" style=\"fill:#000000; stroke:none; fill-opacity:1\" cx=\"847.84\" cy=\"857.329\" r=\"18\"/>\n",
       "<circle clip-path=\"url(#clip7003)\" style=\"fill:#e26f46; stroke:none; fill-opacity:1\" cx=\"847.84\" cy=\"857.329\" r=\"14\"/>\n",
       "<circle clip-path=\"url(#clip7003)\" style=\"fill:#000000; stroke:none; fill-opacity:1\" cx=\"903.712\" cy=\"825.103\" r=\"18\"/>\n",
       "<circle clip-path=\"url(#clip7003)\" style=\"fill:#e26f46; stroke:none; fill-opacity:1\" cx=\"903.712\" cy=\"825.103\" r=\"14\"/>\n",
       "<circle clip-path=\"url(#clip7003)\" style=\"fill:#000000; stroke:none; fill-opacity:1\" cx=\"959.584\" cy=\"792.877\" r=\"18\"/>\n",
       "<circle clip-path=\"url(#clip7003)\" style=\"fill:#e26f46; stroke:none; fill-opacity:1\" cx=\"959.584\" cy=\"792.877\" r=\"14\"/>\n",
       "<circle clip-path=\"url(#clip7003)\" style=\"fill:#000000; stroke:none; fill-opacity:1\" cx=\"1015.46\" cy=\"760.651\" r=\"18\"/>\n",
       "<circle clip-path=\"url(#clip7003)\" style=\"fill:#e26f46; stroke:none; fill-opacity:1\" cx=\"1015.46\" cy=\"760.651\" r=\"14\"/>\n",
       "<circle clip-path=\"url(#clip7003)\" style=\"fill:#000000; stroke:none; fill-opacity:1\" cx=\"1071.33\" cy=\"728.425\" r=\"18\"/>\n",
       "<circle clip-path=\"url(#clip7003)\" style=\"fill:#e26f46; stroke:none; fill-opacity:1\" cx=\"1071.33\" cy=\"728.425\" r=\"14\"/>\n",
       "<circle clip-path=\"url(#clip7003)\" style=\"fill:#000000; stroke:none; fill-opacity:1\" cx=\"665.254\" cy=\"1024.2\" r=\"18\"/>\n",
       "<circle clip-path=\"url(#clip7003)\" style=\"fill:#e26f46; stroke:none; fill-opacity:1\" cx=\"665.254\" cy=\"1024.2\" r=\"14\"/>\n",
       "<circle clip-path=\"url(#clip7003)\" style=\"fill:#000000; stroke:none; fill-opacity:1\" cx=\"721.125\" cy=\"991.973\" r=\"18\"/>\n",
       "<circle clip-path=\"url(#clip7003)\" style=\"fill:#e26f46; stroke:none; fill-opacity:1\" cx=\"721.125\" cy=\"991.973\" r=\"14\"/>\n",
       "<circle clip-path=\"url(#clip7003)\" style=\"fill:#000000; stroke:none; fill-opacity:1\" cx=\"776.997\" cy=\"959.747\" r=\"18\"/>\n",
       "<circle clip-path=\"url(#clip7003)\" style=\"fill:#e26f46; stroke:none; fill-opacity:1\" cx=\"776.997\" cy=\"959.747\" r=\"14\"/>\n",
       "<circle clip-path=\"url(#clip7003)\" style=\"fill:#000000; stroke:none; fill-opacity:1\" cx=\"832.869\" cy=\"927.521\" r=\"18\"/>\n",
       "<circle clip-path=\"url(#clip7003)\" style=\"fill:#e26f46; stroke:none; fill-opacity:1\" cx=\"832.869\" cy=\"927.521\" r=\"14\"/>\n",
       "<circle clip-path=\"url(#clip7003)\" style=\"fill:#000000; stroke:none; fill-opacity:1\" cx=\"888.741\" cy=\"895.295\" r=\"18\"/>\n",
       "<circle clip-path=\"url(#clip7003)\" style=\"fill:#e26f46; stroke:none; fill-opacity:1\" cx=\"888.741\" cy=\"895.295\" r=\"14\"/>\n",
       "<circle clip-path=\"url(#clip7003)\" style=\"fill:#000000; stroke:none; fill-opacity:1\" cx=\"944.613\" cy=\"863.069\" r=\"18\"/>\n",
       "<circle clip-path=\"url(#clip7003)\" style=\"fill:#e26f46; stroke:none; fill-opacity:1\" cx=\"944.613\" cy=\"863.069\" r=\"14\"/>\n",
       "<circle clip-path=\"url(#clip7003)\" style=\"fill:#000000; stroke:none; fill-opacity:1\" cx=\"1000.48\" cy=\"830.843\" r=\"18\"/>\n",
       "<circle clip-path=\"url(#clip7003)\" style=\"fill:#e26f46; stroke:none; fill-opacity:1\" cx=\"1000.48\" cy=\"830.843\" r=\"14\"/>\n",
       "<circle clip-path=\"url(#clip7003)\" style=\"fill:#000000; stroke:none; fill-opacity:1\" cx=\"1056.36\" cy=\"798.617\" r=\"18\"/>\n",
       "<circle clip-path=\"url(#clip7003)\" style=\"fill:#e26f46; stroke:none; fill-opacity:1\" cx=\"1056.36\" cy=\"798.617\" r=\"14\"/>\n",
       "<circle clip-path=\"url(#clip7003)\" style=\"fill:#000000; stroke:none; fill-opacity:1\" cx=\"1112.23\" cy=\"766.391\" r=\"18\"/>\n",
       "<circle clip-path=\"url(#clip7003)\" style=\"fill:#e26f46; stroke:none; fill-opacity:1\" cx=\"1112.23\" cy=\"766.391\" r=\"14\"/>\n",
       "<circle clip-path=\"url(#clip7003)\" style=\"fill:#000000; stroke:none; fill-opacity:1\" cx=\"1168.1\" cy=\"734.165\" r=\"18\"/>\n",
       "<circle clip-path=\"url(#clip7003)\" style=\"fill:#e26f46; stroke:none; fill-opacity:1\" cx=\"1168.1\" cy=\"734.165\" r=\"14\"/>\n",
       "<circle clip-path=\"url(#clip7003)\" style=\"fill:#000000; stroke:none; fill-opacity:1\" cx=\"762.026\" cy=\"1029.94\" r=\"18\"/>\n",
       "<circle clip-path=\"url(#clip7003)\" style=\"fill:#e26f46; stroke:none; fill-opacity:1\" cx=\"762.026\" cy=\"1029.94\" r=\"14\"/>\n",
       "<circle clip-path=\"url(#clip7003)\" style=\"fill:#000000; stroke:none; fill-opacity:1\" cx=\"817.898\" cy=\"997.712\" r=\"18\"/>\n",
       "<circle clip-path=\"url(#clip7003)\" style=\"fill:#e26f46; stroke:none; fill-opacity:1\" cx=\"817.898\" cy=\"997.712\" r=\"14\"/>\n",
       "<circle clip-path=\"url(#clip7003)\" style=\"fill:#000000; stroke:none; fill-opacity:1\" cx=\"873.77\" cy=\"965.486\" r=\"18\"/>\n",
       "<circle clip-path=\"url(#clip7003)\" style=\"fill:#e26f46; stroke:none; fill-opacity:1\" cx=\"873.77\" cy=\"965.486\" r=\"14\"/>\n",
       "<circle clip-path=\"url(#clip7003)\" style=\"fill:#000000; stroke:none; fill-opacity:1\" cx=\"929.642\" cy=\"933.26\" r=\"18\"/>\n",
       "<circle clip-path=\"url(#clip7003)\" style=\"fill:#e26f46; stroke:none; fill-opacity:1\" cx=\"929.642\" cy=\"933.26\" r=\"14\"/>\n",
       "<circle clip-path=\"url(#clip7003)\" style=\"fill:#000000; stroke:none; fill-opacity:1\" cx=\"985.514\" cy=\"901.034\" r=\"18\"/>\n",
       "<circle clip-path=\"url(#clip7003)\" style=\"fill:#e26f46; stroke:none; fill-opacity:1\" cx=\"985.514\" cy=\"901.034\" r=\"14\"/>\n",
       "<circle clip-path=\"url(#clip7003)\" style=\"fill:#000000; stroke:none; fill-opacity:1\" cx=\"1041.39\" cy=\"868.808\" r=\"18\"/>\n",
       "<circle clip-path=\"url(#clip7003)\" style=\"fill:#e26f46; stroke:none; fill-opacity:1\" cx=\"1041.39\" cy=\"868.808\" r=\"14\"/>\n",
       "<circle clip-path=\"url(#clip7003)\" style=\"fill:#000000; stroke:none; fill-opacity:1\" cx=\"1097.26\" cy=\"836.582\" r=\"18\"/>\n",
       "<circle clip-path=\"url(#clip7003)\" style=\"fill:#e26f46; stroke:none; fill-opacity:1\" cx=\"1097.26\" cy=\"836.582\" r=\"14\"/>\n",
       "<circle clip-path=\"url(#clip7003)\" style=\"fill:#000000; stroke:none; fill-opacity:1\" cx=\"1153.13\" cy=\"804.356\" r=\"18\"/>\n",
       "<circle clip-path=\"url(#clip7003)\" style=\"fill:#e26f46; stroke:none; fill-opacity:1\" cx=\"1153.13\" cy=\"804.356\" r=\"14\"/>\n",
       "<circle clip-path=\"url(#clip7003)\" style=\"fill:#000000; stroke:none; fill-opacity:1\" cx=\"1209\" cy=\"772.13\" r=\"18\"/>\n",
       "<circle clip-path=\"url(#clip7003)\" style=\"fill:#e26f46; stroke:none; fill-opacity:1\" cx=\"1209\" cy=\"772.13\" r=\"14\"/>\n",
       "<circle clip-path=\"url(#clip7003)\" style=\"fill:#000000; stroke:none; fill-opacity:1\" cx=\"1264.87\" cy=\"739.904\" r=\"18\"/>\n",
       "<circle clip-path=\"url(#clip7003)\" style=\"fill:#e26f46; stroke:none; fill-opacity:1\" cx=\"1264.87\" cy=\"739.904\" r=\"14\"/>\n",
       "<circle clip-path=\"url(#clip7003)\" style=\"fill:#000000; stroke:none; fill-opacity:1\" cx=\"858.799\" cy=\"1035.68\" r=\"18\"/>\n",
       "<circle clip-path=\"url(#clip7003)\" style=\"fill:#e26f46; stroke:none; fill-opacity:1\" cx=\"858.799\" cy=\"1035.68\" r=\"14\"/>\n",
       "<circle clip-path=\"url(#clip7003)\" style=\"fill:#000000; stroke:none; fill-opacity:1\" cx=\"914.671\" cy=\"1003.45\" r=\"18\"/>\n",
       "<circle clip-path=\"url(#clip7003)\" style=\"fill:#e26f46; stroke:none; fill-opacity:1\" cx=\"914.671\" cy=\"1003.45\" r=\"14\"/>\n",
       "<circle clip-path=\"url(#clip7003)\" style=\"fill:#000000; stroke:none; fill-opacity:1\" cx=\"970.543\" cy=\"971.225\" r=\"18\"/>\n",
       "<circle clip-path=\"url(#clip7003)\" style=\"fill:#e26f46; stroke:none; fill-opacity:1\" cx=\"970.543\" cy=\"971.225\" r=\"14\"/>\n",
       "<circle clip-path=\"url(#clip7003)\" style=\"fill:#000000; stroke:none; fill-opacity:1\" cx=\"1026.41\" cy=\"938.999\" r=\"18\"/>\n",
       "<circle clip-path=\"url(#clip7003)\" style=\"fill:#e26f46; stroke:none; fill-opacity:1\" cx=\"1026.41\" cy=\"938.999\" r=\"14\"/>\n",
       "<circle clip-path=\"url(#clip7003)\" style=\"fill:#000000; stroke:none; fill-opacity:1\" cx=\"1082.29\" cy=\"906.773\" r=\"18\"/>\n",
       "<circle clip-path=\"url(#clip7003)\" style=\"fill:#e26f46; stroke:none; fill-opacity:1\" cx=\"1082.29\" cy=\"906.773\" r=\"14\"/>\n",
       "<circle clip-path=\"url(#clip7003)\" style=\"fill:#000000; stroke:none; fill-opacity:1\" cx=\"1138.16\" cy=\"874.547\" r=\"18\"/>\n",
       "<circle clip-path=\"url(#clip7003)\" style=\"fill:#e26f46; stroke:none; fill-opacity:1\" cx=\"1138.16\" cy=\"874.547\" r=\"14\"/>\n",
       "<circle clip-path=\"url(#clip7003)\" style=\"fill:#000000; stroke:none; fill-opacity:1\" cx=\"1194.03\" cy=\"842.321\" r=\"18\"/>\n",
       "<circle clip-path=\"url(#clip7003)\" style=\"fill:#e26f46; stroke:none; fill-opacity:1\" cx=\"1194.03\" cy=\"842.321\" r=\"14\"/>\n",
       "<circle clip-path=\"url(#clip7003)\" style=\"fill:#000000; stroke:none; fill-opacity:1\" cx=\"1249.9\" cy=\"810.095\" r=\"18\"/>\n",
       "<circle clip-path=\"url(#clip7003)\" style=\"fill:#e26f46; stroke:none; fill-opacity:1\" cx=\"1249.9\" cy=\"810.095\" r=\"14\"/>\n",
       "<circle clip-path=\"url(#clip7003)\" style=\"fill:#000000; stroke:none; fill-opacity:1\" cx=\"1305.77\" cy=\"777.869\" r=\"18\"/>\n",
       "<circle clip-path=\"url(#clip7003)\" style=\"fill:#e26f46; stroke:none; fill-opacity:1\" cx=\"1305.77\" cy=\"777.869\" r=\"14\"/>\n",
       "<circle clip-path=\"url(#clip7003)\" style=\"fill:#000000; stroke:none; fill-opacity:1\" cx=\"1361.65\" cy=\"745.643\" r=\"18\"/>\n",
       "<circle clip-path=\"url(#clip7003)\" style=\"fill:#e26f46; stroke:none; fill-opacity:1\" cx=\"1361.65\" cy=\"745.643\" r=\"14\"/>\n",
       "<circle clip-path=\"url(#clip7003)\" style=\"fill:#000000; stroke:none; fill-opacity:1\" cx=\"955.572\" cy=\"1041.42\" r=\"18\"/>\n",
       "<circle clip-path=\"url(#clip7003)\" style=\"fill:#e26f46; stroke:none; fill-opacity:1\" cx=\"955.572\" cy=\"1041.42\" r=\"14\"/>\n",
       "<circle clip-path=\"url(#clip7003)\" style=\"fill:#000000; stroke:none; fill-opacity:1\" cx=\"1011.44\" cy=\"1009.19\" r=\"18\"/>\n",
       "<circle clip-path=\"url(#clip7003)\" style=\"fill:#e26f46; stroke:none; fill-opacity:1\" cx=\"1011.44\" cy=\"1009.19\" r=\"14\"/>\n",
       "<circle clip-path=\"url(#clip7003)\" style=\"fill:#000000; stroke:none; fill-opacity:1\" cx=\"1067.32\" cy=\"976.964\" r=\"18\"/>\n",
       "<circle clip-path=\"url(#clip7003)\" style=\"fill:#e26f46; stroke:none; fill-opacity:1\" cx=\"1067.32\" cy=\"976.964\" r=\"14\"/>\n",
       "<circle clip-path=\"url(#clip7003)\" style=\"fill:#000000; stroke:none; fill-opacity:1\" cx=\"1123.19\" cy=\"944.738\" r=\"18\"/>\n",
       "<circle clip-path=\"url(#clip7003)\" style=\"fill:#e26f46; stroke:none; fill-opacity:1\" cx=\"1123.19\" cy=\"944.738\" r=\"14\"/>\n",
       "<circle clip-path=\"url(#clip7003)\" style=\"fill:#000000; stroke:none; fill-opacity:1\" cx=\"1179.06\" cy=\"912.512\" r=\"18\"/>\n",
       "<circle clip-path=\"url(#clip7003)\" style=\"fill:#e26f46; stroke:none; fill-opacity:1\" cx=\"1179.06\" cy=\"912.512\" r=\"14\"/>\n",
       "<circle clip-path=\"url(#clip7003)\" style=\"fill:#000000; stroke:none; fill-opacity:1\" cx=\"1234.93\" cy=\"880.286\" r=\"18\"/>\n",
       "<circle clip-path=\"url(#clip7003)\" style=\"fill:#e26f46; stroke:none; fill-opacity:1\" cx=\"1234.93\" cy=\"880.286\" r=\"14\"/>\n",
       "<circle clip-path=\"url(#clip7003)\" style=\"fill:#000000; stroke:none; fill-opacity:1\" cx=\"1290.8\" cy=\"848.06\" r=\"18\"/>\n",
       "<circle clip-path=\"url(#clip7003)\" style=\"fill:#e26f46; stroke:none; fill-opacity:1\" cx=\"1290.8\" cy=\"848.06\" r=\"14\"/>\n",
       "<circle clip-path=\"url(#clip7003)\" style=\"fill:#000000; stroke:none; fill-opacity:1\" cx=\"1346.68\" cy=\"815.834\" r=\"18\"/>\n",
       "<circle clip-path=\"url(#clip7003)\" style=\"fill:#e26f46; stroke:none; fill-opacity:1\" cx=\"1346.68\" cy=\"815.834\" r=\"14\"/>\n",
       "<circle clip-path=\"url(#clip7003)\" style=\"fill:#000000; stroke:none; fill-opacity:1\" cx=\"1402.55\" cy=\"783.608\" r=\"18\"/>\n",
       "<circle clip-path=\"url(#clip7003)\" style=\"fill:#e26f46; stroke:none; fill-opacity:1\" cx=\"1402.55\" cy=\"783.608\" r=\"14\"/>\n",
       "<circle clip-path=\"url(#clip7003)\" style=\"fill:#000000; stroke:none; fill-opacity:1\" cx=\"1458.42\" cy=\"751.382\" r=\"18\"/>\n",
       "<circle clip-path=\"url(#clip7003)\" style=\"fill:#e26f46; stroke:none; fill-opacity:1\" cx=\"1458.42\" cy=\"751.382\" r=\"14\"/>\n",
       "<circle clip-path=\"url(#clip7003)\" style=\"fill:#000000; stroke:none; fill-opacity:1\" cx=\"1052.35\" cy=\"1047.16\" r=\"18\"/>\n",
       "<circle clip-path=\"url(#clip7003)\" style=\"fill:#e26f46; stroke:none; fill-opacity:1\" cx=\"1052.35\" cy=\"1047.16\" r=\"14\"/>\n",
       "<circle clip-path=\"url(#clip7003)\" style=\"fill:#000000; stroke:none; fill-opacity:1\" cx=\"1108.22\" cy=\"1014.93\" r=\"18\"/>\n",
       "<circle clip-path=\"url(#clip7003)\" style=\"fill:#e26f46; stroke:none; fill-opacity:1\" cx=\"1108.22\" cy=\"1014.93\" r=\"14\"/>\n",
       "<circle clip-path=\"url(#clip7003)\" style=\"fill:#000000; stroke:none; fill-opacity:1\" cx=\"1164.09\" cy=\"982.703\" r=\"18\"/>\n",
       "<circle clip-path=\"url(#clip7003)\" style=\"fill:#e26f46; stroke:none; fill-opacity:1\" cx=\"1164.09\" cy=\"982.703\" r=\"14\"/>\n",
       "<circle clip-path=\"url(#clip7003)\" style=\"fill:#000000; stroke:none; fill-opacity:1\" cx=\"1219.96\" cy=\"950.477\" r=\"18\"/>\n",
       "<circle clip-path=\"url(#clip7003)\" style=\"fill:#e26f46; stroke:none; fill-opacity:1\" cx=\"1219.96\" cy=\"950.477\" r=\"14\"/>\n",
       "<circle clip-path=\"url(#clip7003)\" style=\"fill:#000000; stroke:none; fill-opacity:1\" cx=\"1275.83\" cy=\"918.251\" r=\"18\"/>\n",
       "<circle clip-path=\"url(#clip7003)\" style=\"fill:#e26f46; stroke:none; fill-opacity:1\" cx=\"1275.83\" cy=\"918.251\" r=\"14\"/>\n",
       "<circle clip-path=\"url(#clip7003)\" style=\"fill:#000000; stroke:none; fill-opacity:1\" cx=\"1331.7\" cy=\"886.025\" r=\"18\"/>\n",
       "<circle clip-path=\"url(#clip7003)\" style=\"fill:#e26f46; stroke:none; fill-opacity:1\" cx=\"1331.7\" cy=\"886.025\" r=\"14\"/>\n",
       "<circle clip-path=\"url(#clip7003)\" style=\"fill:#000000; stroke:none; fill-opacity:1\" cx=\"1387.58\" cy=\"853.799\" r=\"18\"/>\n",
       "<circle clip-path=\"url(#clip7003)\" style=\"fill:#e26f46; stroke:none; fill-opacity:1\" cx=\"1387.58\" cy=\"853.799\" r=\"14\"/>\n",
       "<circle clip-path=\"url(#clip7003)\" style=\"fill:#000000; stroke:none; fill-opacity:1\" cx=\"1443.45\" cy=\"821.573\" r=\"18\"/>\n",
       "<circle clip-path=\"url(#clip7003)\" style=\"fill:#e26f46; stroke:none; fill-opacity:1\" cx=\"1443.45\" cy=\"821.573\" r=\"14\"/>\n",
       "<circle clip-path=\"url(#clip7003)\" style=\"fill:#000000; stroke:none; fill-opacity:1\" cx=\"1499.32\" cy=\"789.347\" r=\"18\"/>\n",
       "<circle clip-path=\"url(#clip7003)\" style=\"fill:#e26f46; stroke:none; fill-opacity:1\" cx=\"1499.32\" cy=\"789.347\" r=\"14\"/>\n",
       "<circle clip-path=\"url(#clip7003)\" style=\"fill:#000000; stroke:none; fill-opacity:1\" cx=\"1555.19\" cy=\"757.121\" r=\"18\"/>\n",
       "<circle clip-path=\"url(#clip7003)\" style=\"fill:#e26f46; stroke:none; fill-opacity:1\" cx=\"1555.19\" cy=\"757.121\" r=\"14\"/>\n",
       "<circle clip-path=\"url(#clip7003)\" style=\"fill:#000000; stroke:none; fill-opacity:1\" cx=\"1149.12\" cy=\"1052.89\" r=\"18\"/>\n",
       "<circle clip-path=\"url(#clip7003)\" style=\"fill:#e26f46; stroke:none; fill-opacity:1\" cx=\"1149.12\" cy=\"1052.89\" r=\"14\"/>\n",
       "<circle clip-path=\"url(#clip7003)\" style=\"fill:#000000; stroke:none; fill-opacity:1\" cx=\"1204.99\" cy=\"1020.67\" r=\"18\"/>\n",
       "<circle clip-path=\"url(#clip7003)\" style=\"fill:#e26f46; stroke:none; fill-opacity:1\" cx=\"1204.99\" cy=\"1020.67\" r=\"14\"/>\n",
       "<circle clip-path=\"url(#clip7003)\" style=\"fill:#000000; stroke:none; fill-opacity:1\" cx=\"1260.86\" cy=\"988.443\" r=\"18\"/>\n",
       "<circle clip-path=\"url(#clip7003)\" style=\"fill:#e26f46; stroke:none; fill-opacity:1\" cx=\"1260.86\" cy=\"988.443\" r=\"14\"/>\n",
       "<circle clip-path=\"url(#clip7003)\" style=\"fill:#000000; stroke:none; fill-opacity:1\" cx=\"1316.73\" cy=\"956.217\" r=\"18\"/>\n",
       "<circle clip-path=\"url(#clip7003)\" style=\"fill:#e26f46; stroke:none; fill-opacity:1\" cx=\"1316.73\" cy=\"956.217\" r=\"14\"/>\n",
       "<circle clip-path=\"url(#clip7003)\" style=\"fill:#000000; stroke:none; fill-opacity:1\" cx=\"1372.61\" cy=\"923.991\" r=\"18\"/>\n",
       "<circle clip-path=\"url(#clip7003)\" style=\"fill:#e26f46; stroke:none; fill-opacity:1\" cx=\"1372.61\" cy=\"923.991\" r=\"14\"/>\n",
       "<circle clip-path=\"url(#clip7003)\" style=\"fill:#000000; stroke:none; fill-opacity:1\" cx=\"1428.48\" cy=\"891.765\" r=\"18\"/>\n",
       "<circle clip-path=\"url(#clip7003)\" style=\"fill:#e26f46; stroke:none; fill-opacity:1\" cx=\"1428.48\" cy=\"891.765\" r=\"14\"/>\n",
       "<circle clip-path=\"url(#clip7003)\" style=\"fill:#000000; stroke:none; fill-opacity:1\" cx=\"1484.35\" cy=\"859.539\" r=\"18\"/>\n",
       "<circle clip-path=\"url(#clip7003)\" style=\"fill:#e26f46; stroke:none; fill-opacity:1\" cx=\"1484.35\" cy=\"859.539\" r=\"14\"/>\n",
       "<circle clip-path=\"url(#clip7003)\" style=\"fill:#000000; stroke:none; fill-opacity:1\" cx=\"1540.22\" cy=\"827.313\" r=\"18\"/>\n",
       "<circle clip-path=\"url(#clip7003)\" style=\"fill:#e26f46; stroke:none; fill-opacity:1\" cx=\"1540.22\" cy=\"827.313\" r=\"14\"/>\n",
       "<circle clip-path=\"url(#clip7003)\" style=\"fill:#000000; stroke:none; fill-opacity:1\" cx=\"1596.09\" cy=\"795.087\" r=\"18\"/>\n",
       "<circle clip-path=\"url(#clip7003)\" style=\"fill:#e26f46; stroke:none; fill-opacity:1\" cx=\"1596.09\" cy=\"795.087\" r=\"14\"/>\n",
       "<circle clip-path=\"url(#clip7003)\" style=\"fill:#000000; stroke:none; fill-opacity:1\" cx=\"1651.96\" cy=\"762.861\" r=\"18\"/>\n",
       "<circle clip-path=\"url(#clip7003)\" style=\"fill:#e26f46; stroke:none; fill-opacity:1\" cx=\"1651.96\" cy=\"762.861\" r=\"14\"/>\n",
       "<circle clip-path=\"url(#clip7003)\" style=\"fill:#000000; stroke:none; fill-opacity:1\" cx=\"1245.89\" cy=\"1058.63\" r=\"18\"/>\n",
       "<circle clip-path=\"url(#clip7003)\" style=\"fill:#e26f46; stroke:none; fill-opacity:1\" cx=\"1245.89\" cy=\"1058.63\" r=\"14\"/>\n",
       "<circle clip-path=\"url(#clip7003)\" style=\"fill:#000000; stroke:none; fill-opacity:1\" cx=\"1301.76\" cy=\"1026.41\" r=\"18\"/>\n",
       "<circle clip-path=\"url(#clip7003)\" style=\"fill:#e26f46; stroke:none; fill-opacity:1\" cx=\"1301.76\" cy=\"1026.41\" r=\"14\"/>\n",
       "<circle clip-path=\"url(#clip7003)\" style=\"fill:#000000; stroke:none; fill-opacity:1\" cx=\"1357.63\" cy=\"994.182\" r=\"18\"/>\n",
       "<circle clip-path=\"url(#clip7003)\" style=\"fill:#e26f46; stroke:none; fill-opacity:1\" cx=\"1357.63\" cy=\"994.182\" r=\"14\"/>\n",
       "<circle clip-path=\"url(#clip7003)\" style=\"fill:#000000; stroke:none; fill-opacity:1\" cx=\"1413.51\" cy=\"961.956\" r=\"18\"/>\n",
       "<circle clip-path=\"url(#clip7003)\" style=\"fill:#e26f46; stroke:none; fill-opacity:1\" cx=\"1413.51\" cy=\"961.956\" r=\"14\"/>\n",
       "<circle clip-path=\"url(#clip7003)\" style=\"fill:#000000; stroke:none; fill-opacity:1\" cx=\"1469.38\" cy=\"929.73\" r=\"18\"/>\n",
       "<circle clip-path=\"url(#clip7003)\" style=\"fill:#e26f46; stroke:none; fill-opacity:1\" cx=\"1469.38\" cy=\"929.73\" r=\"14\"/>\n",
       "<circle clip-path=\"url(#clip7003)\" style=\"fill:#000000; stroke:none; fill-opacity:1\" cx=\"1525.25\" cy=\"897.504\" r=\"18\"/>\n",
       "<circle clip-path=\"url(#clip7003)\" style=\"fill:#e26f46; stroke:none; fill-opacity:1\" cx=\"1525.25\" cy=\"897.504\" r=\"14\"/>\n",
       "<circle clip-path=\"url(#clip7003)\" style=\"fill:#000000; stroke:none; fill-opacity:1\" cx=\"1581.12\" cy=\"865.278\" r=\"18\"/>\n",
       "<circle clip-path=\"url(#clip7003)\" style=\"fill:#e26f46; stroke:none; fill-opacity:1\" cx=\"1581.12\" cy=\"865.278\" r=\"14\"/>\n",
       "<circle clip-path=\"url(#clip7003)\" style=\"fill:#000000; stroke:none; fill-opacity:1\" cx=\"1636.99\" cy=\"833.052\" r=\"18\"/>\n",
       "<circle clip-path=\"url(#clip7003)\" style=\"fill:#e26f46; stroke:none; fill-opacity:1\" cx=\"1636.99\" cy=\"833.052\" r=\"14\"/>\n",
       "<circle clip-path=\"url(#clip7003)\" style=\"fill:#000000; stroke:none; fill-opacity:1\" cx=\"1692.87\" cy=\"800.826\" r=\"18\"/>\n",
       "<circle clip-path=\"url(#clip7003)\" style=\"fill:#e26f46; stroke:none; fill-opacity:1\" cx=\"1692.87\" cy=\"800.826\" r=\"14\"/>\n",
       "<circle clip-path=\"url(#clip7003)\" style=\"fill:#000000; stroke:none; fill-opacity:1\" cx=\"1748.74\" cy=\"768.6\" r=\"18\"/>\n",
       "<circle clip-path=\"url(#clip7003)\" style=\"fill:#e26f46; stroke:none; fill-opacity:1\" cx=\"1748.74\" cy=\"768.6\" r=\"14\"/>\n",
       "<circle clip-path=\"url(#clip7003)\" style=\"fill:#000000; stroke:none; fill-opacity:1\" cx=\"1342.66\" cy=\"1064.37\" r=\"18\"/>\n",
       "<circle clip-path=\"url(#clip7003)\" style=\"fill:#e26f46; stroke:none; fill-opacity:1\" cx=\"1342.66\" cy=\"1064.37\" r=\"14\"/>\n",
       "<circle clip-path=\"url(#clip7003)\" style=\"fill:#000000; stroke:none; fill-opacity:1\" cx=\"1398.54\" cy=\"1032.15\" r=\"18\"/>\n",
       "<circle clip-path=\"url(#clip7003)\" style=\"fill:#e26f46; stroke:none; fill-opacity:1\" cx=\"1398.54\" cy=\"1032.15\" r=\"14\"/>\n",
       "<circle clip-path=\"url(#clip7003)\" style=\"fill:#000000; stroke:none; fill-opacity:1\" cx=\"1454.41\" cy=\"999.921\" r=\"18\"/>\n",
       "<circle clip-path=\"url(#clip7003)\" style=\"fill:#e26f46; stroke:none; fill-opacity:1\" cx=\"1454.41\" cy=\"999.921\" r=\"14\"/>\n",
       "<circle clip-path=\"url(#clip7003)\" style=\"fill:#000000; stroke:none; fill-opacity:1\" cx=\"1510.28\" cy=\"967.695\" r=\"18\"/>\n",
       "<circle clip-path=\"url(#clip7003)\" style=\"fill:#e26f46; stroke:none; fill-opacity:1\" cx=\"1510.28\" cy=\"967.695\" r=\"14\"/>\n",
       "<circle clip-path=\"url(#clip7003)\" style=\"fill:#000000; stroke:none; fill-opacity:1\" cx=\"1566.15\" cy=\"935.469\" r=\"18\"/>\n",
       "<circle clip-path=\"url(#clip7003)\" style=\"fill:#e26f46; stroke:none; fill-opacity:1\" cx=\"1566.15\" cy=\"935.469\" r=\"14\"/>\n",
       "<circle clip-path=\"url(#clip7003)\" style=\"fill:#000000; stroke:none; fill-opacity:1\" cx=\"1622.02\" cy=\"903.243\" r=\"18\"/>\n",
       "<circle clip-path=\"url(#clip7003)\" style=\"fill:#e26f46; stroke:none; fill-opacity:1\" cx=\"1622.02\" cy=\"903.243\" r=\"14\"/>\n",
       "<circle clip-path=\"url(#clip7003)\" style=\"fill:#000000; stroke:none; fill-opacity:1\" cx=\"1677.89\" cy=\"871.017\" r=\"18\"/>\n",
       "<circle clip-path=\"url(#clip7003)\" style=\"fill:#e26f46; stroke:none; fill-opacity:1\" cx=\"1677.89\" cy=\"871.017\" r=\"14\"/>\n",
       "<circle clip-path=\"url(#clip7003)\" style=\"fill:#000000; stroke:none; fill-opacity:1\" cx=\"1733.77\" cy=\"838.791\" r=\"18\"/>\n",
       "<circle clip-path=\"url(#clip7003)\" style=\"fill:#e26f46; stroke:none; fill-opacity:1\" cx=\"1733.77\" cy=\"838.791\" r=\"14\"/>\n",
       "<circle clip-path=\"url(#clip7003)\" style=\"fill:#000000; stroke:none; fill-opacity:1\" cx=\"1789.64\" cy=\"806.565\" r=\"18\"/>\n",
       "<circle clip-path=\"url(#clip7003)\" style=\"fill:#e26f46; stroke:none; fill-opacity:1\" cx=\"1789.64\" cy=\"806.565\" r=\"14\"/>\n",
       "<circle clip-path=\"url(#clip7003)\" style=\"fill:#000000; stroke:none; fill-opacity:1\" cx=\"1845.51\" cy=\"774.339\" r=\"18\"/>\n",
       "<circle clip-path=\"url(#clip7003)\" style=\"fill:#e26f46; stroke:none; fill-opacity:1\" cx=\"1845.51\" cy=\"774.339\" r=\"14\"/>\n",
       "<circle clip-path=\"url(#clip7003)\" style=\"fill:#000000; stroke:none; fill-opacity:1\" cx=\"1439.44\" cy=\"1070.11\" r=\"18\"/>\n",
       "<circle clip-path=\"url(#clip7003)\" style=\"fill:#e26f46; stroke:none; fill-opacity:1\" cx=\"1439.44\" cy=\"1070.11\" r=\"14\"/>\n",
       "<circle clip-path=\"url(#clip7003)\" style=\"fill:#000000; stroke:none; fill-opacity:1\" cx=\"1495.31\" cy=\"1037.89\" r=\"18\"/>\n",
       "<circle clip-path=\"url(#clip7003)\" style=\"fill:#e26f46; stroke:none; fill-opacity:1\" cx=\"1495.31\" cy=\"1037.89\" r=\"14\"/>\n",
       "<circle clip-path=\"url(#clip7003)\" style=\"fill:#000000; stroke:none; fill-opacity:1\" cx=\"1551.18\" cy=\"1005.66\" r=\"18\"/>\n",
       "<circle clip-path=\"url(#clip7003)\" style=\"fill:#e26f46; stroke:none; fill-opacity:1\" cx=\"1551.18\" cy=\"1005.66\" r=\"14\"/>\n",
       "<circle clip-path=\"url(#clip7003)\" style=\"fill:#000000; stroke:none; fill-opacity:1\" cx=\"1607.05\" cy=\"973.434\" r=\"18\"/>\n",
       "<circle clip-path=\"url(#clip7003)\" style=\"fill:#e26f46; stroke:none; fill-opacity:1\" cx=\"1607.05\" cy=\"973.434\" r=\"14\"/>\n",
       "<circle clip-path=\"url(#clip7003)\" style=\"fill:#000000; stroke:none; fill-opacity:1\" cx=\"1662.92\" cy=\"941.208\" r=\"18\"/>\n",
       "<circle clip-path=\"url(#clip7003)\" style=\"fill:#e26f46; stroke:none; fill-opacity:1\" cx=\"1662.92\" cy=\"941.208\" r=\"14\"/>\n",
       "<circle clip-path=\"url(#clip7003)\" style=\"fill:#000000; stroke:none; fill-opacity:1\" cx=\"1718.8\" cy=\"908.982\" r=\"18\"/>\n",
       "<circle clip-path=\"url(#clip7003)\" style=\"fill:#e26f46; stroke:none; fill-opacity:1\" cx=\"1718.8\" cy=\"908.982\" r=\"14\"/>\n",
       "<circle clip-path=\"url(#clip7003)\" style=\"fill:#000000; stroke:none; fill-opacity:1\" cx=\"1774.67\" cy=\"876.756\" r=\"18\"/>\n",
       "<circle clip-path=\"url(#clip7003)\" style=\"fill:#e26f46; stroke:none; fill-opacity:1\" cx=\"1774.67\" cy=\"876.756\" r=\"14\"/>\n",
       "<circle clip-path=\"url(#clip7003)\" style=\"fill:#000000; stroke:none; fill-opacity:1\" cx=\"1830.54\" cy=\"844.53\" r=\"18\"/>\n",
       "<circle clip-path=\"url(#clip7003)\" style=\"fill:#e26f46; stroke:none; fill-opacity:1\" cx=\"1830.54\" cy=\"844.53\" r=\"14\"/>\n",
       "<circle clip-path=\"url(#clip7003)\" style=\"fill:#000000; stroke:none; fill-opacity:1\" cx=\"1886.41\" cy=\"812.304\" r=\"18\"/>\n",
       "<circle clip-path=\"url(#clip7003)\" style=\"fill:#e26f46; stroke:none; fill-opacity:1\" cx=\"1886.41\" cy=\"812.304\" r=\"14\"/>\n",
       "<circle clip-path=\"url(#clip7003)\" style=\"fill:#000000; stroke:none; fill-opacity:1\" cx=\"1942.28\" cy=\"780.078\" r=\"18\"/>\n",
       "<circle clip-path=\"url(#clip7003)\" style=\"fill:#e26f46; stroke:none; fill-opacity:1\" cx=\"1942.28\" cy=\"780.078\" r=\"14\"/>\n",
       "<polygon clip-path=\"url(#clip7001)\" points=\"\n",
       "1620.67,312.204 1911.5,312.204 1911.5,130.764 1620.67,130.764 \n",
       "  \" fill=\"#ffffff\" fill-rule=\"evenodd\" fill-opacity=\"1\"/>\n",
       "<polyline clip-path=\"url(#clip7001)\" style=\"stroke:#000000; stroke-width:4; stroke-opacity:1; fill:none\" points=\"\n",
       "  1620.67,312.204 1911.5,312.204 1911.5,130.764 1620.67,130.764 1620.67,312.204 \n",
       "  \"/>\n",
       "<circle clip-path=\"url(#clip7001)\" style=\"fill:#000000; stroke:none; fill-opacity:1\" cx=\"1728.67\" cy=\"191.244\" r=\"25\"/>\n",
       "<circle clip-path=\"url(#clip7001)\" style=\"fill:#009af9; stroke:none; fill-opacity:1\" cx=\"1728.67\" cy=\"191.244\" r=\"21\"/>\n",
       "<g clip-path=\"url(#clip7001)\">\n",
       "<text style=\"fill:#000000; fill-opacity:1; font-family:Arial,Helvetica Neue,Helvetica,sans-serif; font-size:48px; text-anchor:start;\" transform=\"rotate(0, 1812.67, 208.744)\" x=\"1812.67\" y=\"208.744\">y1</text>\n",
       "</g>\n",
       "<circle clip-path=\"url(#clip7001)\" style=\"fill:#000000; stroke:none; fill-opacity:1\" cx=\"1728.67\" cy=\"251.724\" r=\"25\"/>\n",
       "<circle clip-path=\"url(#clip7001)\" style=\"fill:#e26f46; stroke:none; fill-opacity:1\" cx=\"1728.67\" cy=\"251.724\" r=\"21\"/>\n",
       "<g clip-path=\"url(#clip7001)\">\n",
       "<text style=\"fill:#000000; fill-opacity:1; font-family:Arial,Helvetica Neue,Helvetica,sans-serif; font-size:48px; text-anchor:start;\" transform=\"rotate(0, 1812.67, 269.224)\" x=\"1812.67\" y=\"269.224\">y2</text>\n",
       "</g>\n",
       "</svg>\n"
      ]
     },
     "execution_count": 193,
     "metadata": {},
     "output_type": "execute_result"
    }
   ],
   "source": [
    "predX = collect(range(-1, 1,length=10))\n",
    "predY = collect(range(-1, 1,length=10))\n",
    "predXY = [ [ predX[i], predY[j] ] for i in 1:10 for j in 1:10 ]\n",
    "predZ = Tracker.data.( modelReg.(predXY) )\n",
    "predD = zeros(0)\n",
    "for i in 1:length(predZ)\n",
    "    append!(predD , [ predXY[i][1], predXY[i][2], predZ[i][1] ])  \n",
    "end\n",
    "predD = reshape(predD,3,length(predZ))'\n",
    "# Tracker.data( modelReg.([[-1,0],[1,0]]) )\n",
    "# predD[:,1]\n",
    "scatter(regX, regY, regZ)\n",
    "scatter!( predD[:,1], predD[:,2], predD[:,3] )"
   ]
  },
  {
   "cell_type": "code",
   "execution_count": null,
   "metadata": {
    "collapsed": true
   },
   "outputs": [],
   "source": []
  }
 ],
 "metadata": {
  "anaconda-cloud": {},
  "celltoolbar": "Slideshow",
  "kernelspec": {
   "display_name": "Julia 1.0.1",
   "language": "julia",
   "name": "julia-1.0"
  },
  "language_info": {
   "file_extension": ".jl",
   "mimetype": "application/julia",
   "name": "julia",
   "version": "1.0.1"
  }
 },
 "nbformat": 4,
 "nbformat_minor": 2
}
